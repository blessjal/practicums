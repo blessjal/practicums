{
  "nbformat": 4,
  "nbformat_minor": 0,
  "metadata": {
    "colab": {
      "name": "breast-cancer-prediction.ipynb",
      "provenance": [],
      "collapsed_sections": [
        "O1tNVIkEj-eU",
        "yK_VoyWlkM4E",
        "l2GzAckaw8cG",
        "6GD4ZUUM-5tL",
        "O0aeCVKDEJ8o",
        "EcMUGiXVNOi6",
        "aISx6AV1O82S",
        "bNrLuMRGP9iy"
      ],
      "toc_visible": true,
      "authorship_tag": "ABX9TyNdJFuMIxGb3QhNPSfgwCe8",
      "include_colab_link": true
    },
    "kernelspec": {
      "name": "python3",
      "display_name": "Python 3"
    }
  },
  "cells": [
    {
      "cell_type": "markdown",
      "metadata": {
        "id": "view-in-github",
        "colab_type": "text"
      },
      "source": [
        "<a href=\"https://colab.research.google.com/github/blessjal/practicums/blob/master/breast_cancer_prediction.ipynb\" target=\"_parent\"><img src=\"https://colab.research.google.com/assets/colab-badge.svg\" alt=\"Open In Colab\"/></a>"
      ]
    },
    {
      "cell_type": "code",
      "metadata": {
        "id": "khoV8ls98X09"
      },
      "source": [
        "import pandas as pd\n",
        "import numpy as np\n",
        "import seaborn as sns\n",
        "import matplotlib.pyplot as plt\n",
        "from sklearn.preprocessing import StandardScaler\n",
        "from sklearn.model_selection import train_test_split\n",
        "from sklearn.linear_model import LinearRegression, LogisticRegression\n",
        "from sklearn.ensemble import RandomForestClassifier\n",
        "from sklearn.metrics import mean_squared_error, accuracy_score, confusion_matrix\n",
        "\n",
        "%matplotlib inline\n",
        "plt.style.use('ggplot')"
      ],
      "execution_count": 1,
      "outputs": []
    },
    {
      "cell_type": "code",
      "metadata": {
        "colab": {
          "base_uri": "https://localhost:8080/",
          "height": 202
        },
        "id": "_lHg-qvO8JYA",
        "outputId": "94a4de2c-2180-4b78-d372-c03828aa5b92"
      },
      "source": [
        "df = pd.read_csv('/content/sample_data/breast-cancer.data')\n",
        "\n",
        "df.head()"
      ],
      "execution_count": 2,
      "outputs": [
        {
          "output_type": "execute_result",
          "data": {
            "text/html": [
              "<div>\n",
              "<style scoped>\n",
              "    .dataframe tbody tr th:only-of-type {\n",
              "        vertical-align: middle;\n",
              "    }\n",
              "\n",
              "    .dataframe tbody tr th {\n",
              "        vertical-align: top;\n",
              "    }\n",
              "\n",
              "    .dataframe thead th {\n",
              "        text-align: right;\n",
              "    }\n",
              "</style>\n",
              "<table border=\"1\" class=\"dataframe\">\n",
              "  <thead>\n",
              "    <tr style=\"text-align: right;\">\n",
              "      <th></th>\n",
              "      <th>no-recurrence-events</th>\n",
              "      <th>30-39</th>\n",
              "      <th>premeno</th>\n",
              "      <th>30-34</th>\n",
              "      <th>0-2</th>\n",
              "      <th>no</th>\n",
              "      <th>3</th>\n",
              "      <th>left</th>\n",
              "      <th>left_low</th>\n",
              "      <th>no.1</th>\n",
              "    </tr>\n",
              "  </thead>\n",
              "  <tbody>\n",
              "    <tr>\n",
              "      <th>0</th>\n",
              "      <td>no-recurrence-events</td>\n",
              "      <td>40-49</td>\n",
              "      <td>premeno</td>\n",
              "      <td>20-24</td>\n",
              "      <td>0-2</td>\n",
              "      <td>no</td>\n",
              "      <td>2</td>\n",
              "      <td>right</td>\n",
              "      <td>right_up</td>\n",
              "      <td>no</td>\n",
              "    </tr>\n",
              "    <tr>\n",
              "      <th>1</th>\n",
              "      <td>no-recurrence-events</td>\n",
              "      <td>40-49</td>\n",
              "      <td>premeno</td>\n",
              "      <td>20-24</td>\n",
              "      <td>0-2</td>\n",
              "      <td>no</td>\n",
              "      <td>2</td>\n",
              "      <td>left</td>\n",
              "      <td>left_low</td>\n",
              "      <td>no</td>\n",
              "    </tr>\n",
              "    <tr>\n",
              "      <th>2</th>\n",
              "      <td>no-recurrence-events</td>\n",
              "      <td>60-69</td>\n",
              "      <td>ge40</td>\n",
              "      <td>15-19</td>\n",
              "      <td>0-2</td>\n",
              "      <td>no</td>\n",
              "      <td>2</td>\n",
              "      <td>right</td>\n",
              "      <td>left_up</td>\n",
              "      <td>no</td>\n",
              "    </tr>\n",
              "    <tr>\n",
              "      <th>3</th>\n",
              "      <td>no-recurrence-events</td>\n",
              "      <td>40-49</td>\n",
              "      <td>premeno</td>\n",
              "      <td>0-4</td>\n",
              "      <td>0-2</td>\n",
              "      <td>no</td>\n",
              "      <td>2</td>\n",
              "      <td>right</td>\n",
              "      <td>right_low</td>\n",
              "      <td>no</td>\n",
              "    </tr>\n",
              "    <tr>\n",
              "      <th>4</th>\n",
              "      <td>no-recurrence-events</td>\n",
              "      <td>60-69</td>\n",
              "      <td>ge40</td>\n",
              "      <td>15-19</td>\n",
              "      <td>0-2</td>\n",
              "      <td>no</td>\n",
              "      <td>2</td>\n",
              "      <td>left</td>\n",
              "      <td>left_low</td>\n",
              "      <td>no</td>\n",
              "    </tr>\n",
              "  </tbody>\n",
              "</table>\n",
              "</div>"
            ],
            "text/plain": [
              "   no-recurrence-events  30-39  premeno  30-34  ...  3   left   left_low no.1\n",
              "0  no-recurrence-events  40-49  premeno  20-24  ...  2  right   right_up   no\n",
              "1  no-recurrence-events  40-49  premeno  20-24  ...  2   left   left_low   no\n",
              "2  no-recurrence-events  60-69     ge40  15-19  ...  2  right    left_up   no\n",
              "3  no-recurrence-events  40-49  premeno    0-4  ...  2  right  right_low   no\n",
              "4  no-recurrence-events  60-69     ge40  15-19  ...  2   left   left_low   no\n",
              "\n",
              "[5 rows x 10 columns]"
            ]
          },
          "metadata": {
            "tags": []
          },
          "execution_count": 2
        }
      ]
    },
    {
      "cell_type": "code",
      "metadata": {
        "colab": {
          "base_uri": "https://localhost:8080/",
          "height": 306
        },
        "id": "kD1gPd4z9Gn6",
        "outputId": "df1d11b8-3bef-4d2f-b6be-3214c2b93694"
      },
      "source": [
        " \n",
        "columns = [ 'Class', 'age','menopause','tumor-size','inv-nodes','node-caps','deg-malig','breast','breast-quad','irradiat']\n",
        "df.columns = columns\n",
        "df.head()"
      ],
      "execution_count": 3,
      "outputs": [
        {
          "output_type": "execute_result",
          "data": {
            "text/html": [
              "<div>\n",
              "<style scoped>\n",
              "    .dataframe tbody tr th:only-of-type {\n",
              "        vertical-align: middle;\n",
              "    }\n",
              "\n",
              "    .dataframe tbody tr th {\n",
              "        vertical-align: top;\n",
              "    }\n",
              "\n",
              "    .dataframe thead th {\n",
              "        text-align: right;\n",
              "    }\n",
              "</style>\n",
              "<table border=\"1\" class=\"dataframe\">\n",
              "  <thead>\n",
              "    <tr style=\"text-align: right;\">\n",
              "      <th></th>\n",
              "      <th>Class</th>\n",
              "      <th>age</th>\n",
              "      <th>menopause</th>\n",
              "      <th>tumor-size</th>\n",
              "      <th>inv-nodes</th>\n",
              "      <th>node-caps</th>\n",
              "      <th>deg-malig</th>\n",
              "      <th>breast</th>\n",
              "      <th>breast-quad</th>\n",
              "      <th>irradiat</th>\n",
              "    </tr>\n",
              "  </thead>\n",
              "  <tbody>\n",
              "    <tr>\n",
              "      <th>0</th>\n",
              "      <td>no-recurrence-events</td>\n",
              "      <td>40-49</td>\n",
              "      <td>premeno</td>\n",
              "      <td>20-24</td>\n",
              "      <td>0-2</td>\n",
              "      <td>no</td>\n",
              "      <td>2</td>\n",
              "      <td>right</td>\n",
              "      <td>right_up</td>\n",
              "      <td>no</td>\n",
              "    </tr>\n",
              "    <tr>\n",
              "      <th>1</th>\n",
              "      <td>no-recurrence-events</td>\n",
              "      <td>40-49</td>\n",
              "      <td>premeno</td>\n",
              "      <td>20-24</td>\n",
              "      <td>0-2</td>\n",
              "      <td>no</td>\n",
              "      <td>2</td>\n",
              "      <td>left</td>\n",
              "      <td>left_low</td>\n",
              "      <td>no</td>\n",
              "    </tr>\n",
              "    <tr>\n",
              "      <th>2</th>\n",
              "      <td>no-recurrence-events</td>\n",
              "      <td>60-69</td>\n",
              "      <td>ge40</td>\n",
              "      <td>15-19</td>\n",
              "      <td>0-2</td>\n",
              "      <td>no</td>\n",
              "      <td>2</td>\n",
              "      <td>right</td>\n",
              "      <td>left_up</td>\n",
              "      <td>no</td>\n",
              "    </tr>\n",
              "    <tr>\n",
              "      <th>3</th>\n",
              "      <td>no-recurrence-events</td>\n",
              "      <td>40-49</td>\n",
              "      <td>premeno</td>\n",
              "      <td>0-4</td>\n",
              "      <td>0-2</td>\n",
              "      <td>no</td>\n",
              "      <td>2</td>\n",
              "      <td>right</td>\n",
              "      <td>right_low</td>\n",
              "      <td>no</td>\n",
              "    </tr>\n",
              "    <tr>\n",
              "      <th>4</th>\n",
              "      <td>no-recurrence-events</td>\n",
              "      <td>60-69</td>\n",
              "      <td>ge40</td>\n",
              "      <td>15-19</td>\n",
              "      <td>0-2</td>\n",
              "      <td>no</td>\n",
              "      <td>2</td>\n",
              "      <td>left</td>\n",
              "      <td>left_low</td>\n",
              "      <td>no</td>\n",
              "    </tr>\n",
              "  </tbody>\n",
              "</table>\n",
              "</div>"
            ],
            "text/plain": [
              "                  Class    age menopause  ... breast breast-quad irradiat\n",
              "0  no-recurrence-events  40-49   premeno  ...  right    right_up       no\n",
              "1  no-recurrence-events  40-49   premeno  ...   left    left_low       no\n",
              "2  no-recurrence-events  60-69      ge40  ...  right     left_up       no\n",
              "3  no-recurrence-events  40-49   premeno  ...  right   right_low       no\n",
              "4  no-recurrence-events  60-69      ge40  ...   left    left_low       no\n",
              "\n",
              "[5 rows x 10 columns]"
            ]
          },
          "metadata": {
            "tags": []
          },
          "execution_count": 3
        }
      ]
    },
    {
      "cell_type": "code",
      "metadata": {
        "colab": {
          "base_uri": "https://localhost:8080/"
        },
        "id": "z3t9m4Ro2kIZ",
        "outputId": "18f95739-1a9c-420f-cf8f-ef380d116ab4"
      },
      "source": [
        "df.dtypes"
      ],
      "execution_count": 4,
      "outputs": [
        {
          "output_type": "execute_result",
          "data": {
            "text/plain": [
              "Class          object\n",
              "age            object\n",
              "menopause      object\n",
              "tumor-size     object\n",
              "inv-nodes      object\n",
              "node-caps      object\n",
              "deg-malig       int64\n",
              "breast         object\n",
              "breast-quad    object\n",
              "irradiat       object\n",
              "dtype: object"
            ]
          },
          "metadata": {
            "tags": []
          },
          "execution_count": 4
        }
      ]
    },
    {
      "cell_type": "code",
      "metadata": {
        "colab": {
          "base_uri": "https://localhost:8080/"
        },
        "id": "Sjl9WxNfCnCP",
        "outputId": "3c2fc85a-f0cd-48fa-8f04-e960d48b6887"
      },
      "source": [
        "df.info()"
      ],
      "execution_count": 5,
      "outputs": [
        {
          "output_type": "stream",
          "text": [
            "<class 'pandas.core.frame.DataFrame'>\n",
            "RangeIndex: 285 entries, 0 to 284\n",
            "Data columns (total 10 columns):\n",
            " #   Column       Non-Null Count  Dtype \n",
            "---  ------       --------------  ----- \n",
            " 0   Class        285 non-null    object\n",
            " 1   age          285 non-null    object\n",
            " 2   menopause    285 non-null    object\n",
            " 3   tumor-size   285 non-null    object\n",
            " 4   inv-nodes    285 non-null    object\n",
            " 5   node-caps    285 non-null    object\n",
            " 6   deg-malig    285 non-null    int64 \n",
            " 7   breast       285 non-null    object\n",
            " 8   breast-quad  285 non-null    object\n",
            " 9   irradiat     285 non-null    object\n",
            "dtypes: int64(1), object(9)\n",
            "memory usage: 22.4+ KB\n"
          ],
          "name": "stdout"
        }
      ]
    },
    {
      "cell_type": "code",
      "metadata": {
        "colab": {
          "base_uri": "https://localhost:8080/"
        },
        "id": "iG2YtF3nhjuc",
        "outputId": "f82061ca-28ac-49ae-e6a4-821642b02740"
      },
      "source": [
        "X = df.drop('Class', axis=1)\n",
        "y = df['Class']\n",
        "\n",
        "X.shape, y.shape"
      ],
      "execution_count": 6,
      "outputs": [
        {
          "output_type": "execute_result",
          "data": {
            "text/plain": [
              "((285, 9), (285,))"
            ]
          },
          "metadata": {
            "tags": []
          },
          "execution_count": 6
        }
      ]
    },
    {
      "cell_type": "code",
      "metadata": {
        "id": "g4djTKbtTQj4",
        "colab": {
          "base_uri": "https://localhost:8080/"
        },
        "outputId": "f53dbab5-6bb0-4feb-fcab-241f4f0b6fd3"
      },
      "source": [
        "\n",
        "for col_name in X.columns:\n",
        "    if X[col_name].dtypes == 'object':\n",
        "        unique_cat = len(X[col_name].unique())\n",
        "        print(\"Feature '{col_name}' has '{unique_cat}' unique categories\".format(col_name=col_name, unique_cat=unique_cat))"
      ],
      "execution_count": 7,
      "outputs": [
        {
          "output_type": "stream",
          "text": [
            "Feature 'age' has '6' unique categories\n",
            "Feature 'menopause' has '3' unique categories\n",
            "Feature 'tumor-size' has '11' unique categories\n",
            "Feature 'inv-nodes' has '7' unique categories\n",
            "Feature 'node-caps' has '3' unique categories\n",
            "Feature 'breast' has '2' unique categories\n",
            "Feature 'breast-quad' has '6' unique categories\n",
            "Feature 'irradiat' has '2' unique categories\n"
          ],
          "name": "stdout"
        }
      ]
    },
    {
      "cell_type": "code",
      "metadata": {
        "id": "XHq-LmpsY9Vd"
      },
      "source": [
        "todummy_list = ['menopause', 'node-caps', 'breast', 'breast-quad', 'irradiat', 'age', 'tumor-size', 'inv-nodes']\n",
        "def dummy_df(df, todummy_list):\n",
        "    for x in todummy_list:\n",
        "        dummies = pd.get_dummies(df[x], prefix=x, dummy_na=False)\n",
        "        df = df.drop(x, axis=1)\n",
        "        df = pd. concat([df, dummies], axis=1)\n",
        "    return df"
      ],
      "execution_count": 8,
      "outputs": []
    },
    {
      "cell_type": "code",
      "metadata": {
        "id": "6dUNbZ9S9SST"
      },
      "source": [
        "X = dummy_df(X, todummy_list)\n",
        "\n"
      ],
      "execution_count": 9,
      "outputs": []
    },
    {
      "cell_type": "code",
      "metadata": {
        "id": "T4UVOA3v3Tef"
      },
      "source": [
        "y = pd.get_dummies(y, drop_first=True)"
      ],
      "execution_count": 10,
      "outputs": []
    },
    {
      "cell_type": "code",
      "metadata": {
        "colab": {
          "base_uri": "https://localhost:8080/"
        },
        "id": "dLEK4BjQjyrh",
        "outputId": "51a3f075-62d0-4458-e431-b7e6f4274800"
      },
      "source": [
        "X.isnull().sum().sort_values(ascending=False).head()"
      ],
      "execution_count": 11,
      "outputs": [
        {
          "output_type": "execute_result",
          "data": {
            "text/plain": [
              "inv-nodes_9-11    0\n",
              "age_40-49         0\n",
              "age_20-29         0\n",
              "irradiat_yes      0\n",
              "irradiat_no       0\n",
              "dtype: int64"
            ]
          },
          "metadata": {
            "tags": []
          },
          "execution_count": 11
        }
      ]
    },
    {
      "cell_type": "code",
      "metadata": {
        "id": "2wln4QrYktVg"
      },
      "source": [
        "def plot_histogram(x):\n",
        "    plt.hist(x, color = 'blue', alpha=0.5)\n",
        "    plt.title(\"Histogram of {var_name}\".format(var_name=x.name))\n",
        "    plt.xlabel('Value')\n",
        "    plt.ylabel('Frequency')\n",
        "    plt.show()"
      ],
      "execution_count": 12,
      "outputs": []
    },
    {
      "cell_type": "code",
      "metadata": {
        "colab": {
          "base_uri": "https://localhost:8080/",
          "height": 299
        },
        "id": "ADszMaFNkwj7",
        "outputId": "0552f7a0-d2dd-4210-b55b-98de92f8925f"
      },
      "source": [
        "plot_histogram(df['age'])"
      ],
      "execution_count": 13,
      "outputs": [
        {
          "output_type": "display_data",
          "data": {
            "image/png": "[encoded data removed]",
            "text/plain": [
              "<Figure size 432x288 with 1 Axes>"
            ]
          },
          "metadata": {
            "tags": [],
            "needs_background": "light"
          }
        }
      ]
    },
    {
      "cell_type": "markdown",
      "metadata": {
        "id": "oOOB7y0rnQUT"
      },
      "source": [
        "## Check for Interactions and Remove significant Interactions"
      ]
    },
    {
      "cell_type": "code",
      "metadata": {
        "id": "3xUJgg5FmB6g"
      },
      "source": [
        "from itertools import combinations\n",
        "from sklearn.preprocessing import PolynomialFeatures"
      ],
      "execution_count": 14,
      "outputs": []
    },
    {
      "cell_type": "code",
      "metadata": {
        "id": "iN1MCdNNmIix"
      },
      "source": [
        "def add_interactions(df):\n",
        "    #get feature names\n",
        "    combos = list(combinations(list(df.columns), 2))\n",
        "    colnames = list(df.columns) + ['_'.join(x) for x in combos]\n",
        "    \n",
        "    #find interactions\n",
        "    poly = PolynomialFeatures(interaction_only = True, include_bias = False)\n",
        "    df = poly.fit_transform(df)\n",
        "    df = pd.DataFrame(df)\n",
        "    df.columns = colnames\n",
        "    \n",
        "    #remove interaction terms with all 0 values\n",
        "    noint_indices = [i for i, x in enumerate(list((df == 0).all()))if x]\n",
        "    df = df.drop(df.columns[noint_indices], axis=1)\n",
        "    \n",
        "    return df"
      ],
      "execution_count": 15,
      "outputs": []
    },
    {
      "cell_type": "code",
      "metadata": {
        "colab": {
          "base_uri": "https://localhost:8080/",
          "height": 321
        },
        "id": "EJtbGQ4omI6h",
        "outputId": "63297ea9-a15c-42ca-915f-5ec6f4e97560"
      },
      "source": [
        "X = add_interactions(X)\n",
        "X.head()"
      ],
      "execution_count": 16,
      "outputs": [
        {
          "output_type": "execute_result",
          "data": {
            "text/html": [
              "<div>\n",
              "<style scoped>\n",
              "    .dataframe tbody tr th:only-of-type {\n",
              "        vertical-align: middle;\n",
              "    }\n",
              "\n",
              "    .dataframe tbody tr th {\n",
              "        vertical-align: top;\n",
              "    }\n",
              "\n",
              "    .dataframe thead th {\n",
              "        text-align: right;\n",
              "    }\n",
              "</style>\n",
              "<table border=\"1\" class=\"dataframe\">\n",
              "  <thead>\n",
              "    <tr style=\"text-align: right;\">\n",
              "      <th></th>\n",
              "      <th>deg-malig</th>\n",
              "      <th>menopause_ge40</th>\n",
              "      <th>menopause_lt40</th>\n",
              "      <th>menopause_premeno</th>\n",
              "      <th>node-caps_?</th>\n",
              "      <th>node-caps_no</th>\n",
              "      <th>node-caps_yes</th>\n",
              "      <th>breast_left</th>\n",
              "      <th>breast_right</th>\n",
              "      <th>breast-quad_?</th>\n",
              "      <th>breast-quad_central</th>\n",
              "      <th>breast-quad_left_low</th>\n",
              "      <th>breast-quad_left_up</th>\n",
              "      <th>breast-quad_right_low</th>\n",
              "      <th>breast-quad_right_up</th>\n",
              "      <th>irradiat_no</th>\n",
              "      <th>irradiat_yes</th>\n",
              "      <th>age_20-29</th>\n",
              "      <th>age_30-39</th>\n",
              "      <th>age_40-49</th>\n",
              "      <th>age_50-59</th>\n",
              "      <th>age_60-69</th>\n",
              "      <th>age_70-79</th>\n",
              "      <th>tumor-size_0-4</th>\n",
              "      <th>tumor-size_10-14</th>\n",
              "      <th>tumor-size_15-19</th>\n",
              "      <th>tumor-size_20-24</th>\n",
              "      <th>tumor-size_25-29</th>\n",
              "      <th>tumor-size_30-34</th>\n",
              "      <th>tumor-size_35-39</th>\n",
              "      <th>tumor-size_40-44</th>\n",
              "      <th>tumor-size_45-49</th>\n",
              "      <th>tumor-size_5-9</th>\n",
              "      <th>tumor-size_50-54</th>\n",
              "      <th>inv-nodes_0-2</th>\n",
              "      <th>inv-nodes_12-14</th>\n",
              "      <th>inv-nodes_15-17</th>\n",
              "      <th>inv-nodes_24-26</th>\n",
              "      <th>inv-nodes_3-5</th>\n",
              "      <th>inv-nodes_6-8</th>\n",
              "      <th>...</th>\n",
              "      <th>age_70-79_inv-nodes_0-2</th>\n",
              "      <th>age_70-79_inv-nodes_9-11</th>\n",
              "      <th>tumor-size_0-4_inv-nodes_0-2</th>\n",
              "      <th>tumor-size_10-14_inv-nodes_0-2</th>\n",
              "      <th>tumor-size_10-14_inv-nodes_3-5</th>\n",
              "      <th>tumor-size_10-14_inv-nodes_6-8</th>\n",
              "      <th>tumor-size_15-19_inv-nodes_0-2</th>\n",
              "      <th>tumor-size_15-19_inv-nodes_12-14</th>\n",
              "      <th>tumor-size_15-19_inv-nodes_15-17</th>\n",
              "      <th>tumor-size_15-19_inv-nodes_6-8</th>\n",
              "      <th>tumor-size_15-19_inv-nodes_9-11</th>\n",
              "      <th>tumor-size_20-24_inv-nodes_0-2</th>\n",
              "      <th>tumor-size_20-24_inv-nodes_24-26</th>\n",
              "      <th>tumor-size_20-24_inv-nodes_3-5</th>\n",
              "      <th>tumor-size_20-24_inv-nodes_6-8</th>\n",
              "      <th>tumor-size_25-29_inv-nodes_0-2</th>\n",
              "      <th>tumor-size_25-29_inv-nodes_12-14</th>\n",
              "      <th>tumor-size_25-29_inv-nodes_15-17</th>\n",
              "      <th>tumor-size_25-29_inv-nodes_3-5</th>\n",
              "      <th>tumor-size_25-29_inv-nodes_6-8</th>\n",
              "      <th>tumor-size_25-29_inv-nodes_9-11</th>\n",
              "      <th>tumor-size_30-34_inv-nodes_0-2</th>\n",
              "      <th>tumor-size_30-34_inv-nodes_12-14</th>\n",
              "      <th>tumor-size_30-34_inv-nodes_15-17</th>\n",
              "      <th>tumor-size_30-34_inv-nodes_3-5</th>\n",
              "      <th>tumor-size_30-34_inv-nodes_6-8</th>\n",
              "      <th>tumor-size_30-34_inv-nodes_9-11</th>\n",
              "      <th>tumor-size_35-39_inv-nodes_0-2</th>\n",
              "      <th>tumor-size_35-39_inv-nodes_15-17</th>\n",
              "      <th>tumor-size_35-39_inv-nodes_6-8</th>\n",
              "      <th>tumor-size_35-39_inv-nodes_9-11</th>\n",
              "      <th>tumor-size_40-44_inv-nodes_0-2</th>\n",
              "      <th>tumor-size_40-44_inv-nodes_15-17</th>\n",
              "      <th>tumor-size_40-44_inv-nodes_3-5</th>\n",
              "      <th>tumor-size_40-44_inv-nodes_6-8</th>\n",
              "      <th>tumor-size_45-49_inv-nodes_0-2</th>\n",
              "      <th>tumor-size_45-49_inv-nodes_6-8</th>\n",
              "      <th>tumor-size_5-9_inv-nodes_0-2</th>\n",
              "      <th>tumor-size_50-54_inv-nodes_0-2</th>\n",
              "      <th>tumor-size_50-54_inv-nodes_9-11</th>\n",
              "    </tr>\n",
              "  </thead>\n",
              "  <tbody>\n",
              "    <tr>\n",
              "      <th>0</th>\n",
              "      <td>2.0</td>\n",
              "      <td>0.0</td>\n",
              "      <td>0.0</td>\n",
              "      <td>1.0</td>\n",
              "      <td>0.0</td>\n",
              "      <td>1.0</td>\n",
              "      <td>0.0</td>\n",
              "      <td>0.0</td>\n",
              "      <td>1.0</td>\n",
              "      <td>0.0</td>\n",
              "      <td>0.0</td>\n",
              "      <td>0.0</td>\n",
              "      <td>0.0</td>\n",
              "      <td>0.0</td>\n",
              "      <td>1.0</td>\n",
              "      <td>1.0</td>\n",
              "      <td>0.0</td>\n",
              "      <td>0.0</td>\n",
              "      <td>0.0</td>\n",
              "      <td>1.0</td>\n",
              "      <td>0.0</td>\n",
              "      <td>0.0</td>\n",
              "      <td>0.0</td>\n",
              "      <td>0.0</td>\n",
              "      <td>0.0</td>\n",
              "      <td>0.0</td>\n",
              "      <td>1.0</td>\n",
              "      <td>0.0</td>\n",
              "      <td>0.0</td>\n",
              "      <td>0.0</td>\n",
              "      <td>0.0</td>\n",
              "      <td>0.0</td>\n",
              "      <td>0.0</td>\n",
              "      <td>0.0</td>\n",
              "      <td>1.0</td>\n",
              "      <td>0.0</td>\n",
              "      <td>0.0</td>\n",
              "      <td>0.0</td>\n",
              "      <td>0.0</td>\n",
              "      <td>0.0</td>\n",
              "      <td>...</td>\n",
              "      <td>0.0</td>\n",
              "      <td>0.0</td>\n",
              "      <td>0.0</td>\n",
              "      <td>0.0</td>\n",
              "      <td>0.0</td>\n",
              "      <td>0.0</td>\n",
              "      <td>0.0</td>\n",
              "      <td>0.0</td>\n",
              "      <td>0.0</td>\n",
              "      <td>0.0</td>\n",
              "      <td>0.0</td>\n",
              "      <td>1.0</td>\n",
              "      <td>0.0</td>\n",
              "      <td>0.0</td>\n",
              "      <td>0.0</td>\n",
              "      <td>0.0</td>\n",
              "      <td>0.0</td>\n",
              "      <td>0.0</td>\n",
              "      <td>0.0</td>\n",
              "      <td>0.0</td>\n",
              "      <td>0.0</td>\n",
              "      <td>0.0</td>\n",
              "      <td>0.0</td>\n",
              "      <td>0.0</td>\n",
              "      <td>0.0</td>\n",
              "      <td>0.0</td>\n",
              "      <td>0.0</td>\n",
              "      <td>0.0</td>\n",
              "      <td>0.0</td>\n",
              "      <td>0.0</td>\n",
              "      <td>0.0</td>\n",
              "      <td>0.0</td>\n",
              "      <td>0.0</td>\n",
              "      <td>0.0</td>\n",
              "      <td>0.0</td>\n",
              "      <td>0.0</td>\n",
              "      <td>0.0</td>\n",
              "      <td>0.0</td>\n",
              "      <td>0.0</td>\n",
              "      <td>0.0</td>\n",
              "    </tr>\n",
              "    <tr>\n",
              "      <th>1</th>\n",
              "      <td>2.0</td>\n",
              "      <td>0.0</td>\n",
              "      <td>0.0</td>\n",
              "      <td>1.0</td>\n",
              "      <td>0.0</td>\n",
              "      <td>1.0</td>\n",
              "      <td>0.0</td>\n",
              "      <td>1.0</td>\n",
              "      <td>0.0</td>\n",
              "      <td>0.0</td>\n",
              "      <td>0.0</td>\n",
              "      <td>1.0</td>\n",
              "      <td>0.0</td>\n",
              "      <td>0.0</td>\n",
              "      <td>0.0</td>\n",
              "      <td>1.0</td>\n",
              "      <td>0.0</td>\n",
              "      <td>0.0</td>\n",
              "      <td>0.0</td>\n",
              "      <td>1.0</td>\n",
              "      <td>0.0</td>\n",
              "      <td>0.0</td>\n",
              "      <td>0.0</td>\n",
              "      <td>0.0</td>\n",
              "      <td>0.0</td>\n",
              "      <td>0.0</td>\n",
              "      <td>1.0</td>\n",
              "      <td>0.0</td>\n",
              "      <td>0.0</td>\n",
              "      <td>0.0</td>\n",
              "      <td>0.0</td>\n",
              "      <td>0.0</td>\n",
              "      <td>0.0</td>\n",
              "      <td>0.0</td>\n",
              "      <td>1.0</td>\n",
              "      <td>0.0</td>\n",
              "      <td>0.0</td>\n",
              "      <td>0.0</td>\n",
              "      <td>0.0</td>\n",
              "      <td>0.0</td>\n",
              "      <td>...</td>\n",
              "      <td>0.0</td>\n",
              "      <td>0.0</td>\n",
              "      <td>0.0</td>\n",
              "      <td>0.0</td>\n",
              "      <td>0.0</td>\n",
              "      <td>0.0</td>\n",
              "      <td>0.0</td>\n",
              "      <td>0.0</td>\n",
              "      <td>0.0</td>\n",
              "      <td>0.0</td>\n",
              "      <td>0.0</td>\n",
              "      <td>1.0</td>\n",
              "      <td>0.0</td>\n",
              "      <td>0.0</td>\n",
              "      <td>0.0</td>\n",
              "      <td>0.0</td>\n",
              "      <td>0.0</td>\n",
              "      <td>0.0</td>\n",
              "      <td>0.0</td>\n",
              "      <td>0.0</td>\n",
              "      <td>0.0</td>\n",
              "      <td>0.0</td>\n",
              "      <td>0.0</td>\n",
              "      <td>0.0</td>\n",
              "      <td>0.0</td>\n",
              "      <td>0.0</td>\n",
              "      <td>0.0</td>\n",
              "      <td>0.0</td>\n",
              "      <td>0.0</td>\n",
              "      <td>0.0</td>\n",
              "      <td>0.0</td>\n",
              "      <td>0.0</td>\n",
              "      <td>0.0</td>\n",
              "      <td>0.0</td>\n",
              "      <td>0.0</td>\n",
              "      <td>0.0</td>\n",
              "      <td>0.0</td>\n",
              "      <td>0.0</td>\n",
              "      <td>0.0</td>\n",
              "      <td>0.0</td>\n",
              "    </tr>\n",
              "    <tr>\n",
              "      <th>2</th>\n",
              "      <td>2.0</td>\n",
              "      <td>1.0</td>\n",
              "      <td>0.0</td>\n",
              "      <td>0.0</td>\n",
              "      <td>0.0</td>\n",
              "      <td>1.0</td>\n",
              "      <td>0.0</td>\n",
              "      <td>0.0</td>\n",
              "      <td>1.0</td>\n",
              "      <td>0.0</td>\n",
              "      <td>0.0</td>\n",
              "      <td>0.0</td>\n",
              "      <td>1.0</td>\n",
              "      <td>0.0</td>\n",
              "      <td>0.0</td>\n",
              "      <td>1.0</td>\n",
              "      <td>0.0</td>\n",
              "      <td>0.0</td>\n",
              "      <td>0.0</td>\n",
              "      <td>0.0</td>\n",
              "      <td>0.0</td>\n",
              "      <td>1.0</td>\n",
              "      <td>0.0</td>\n",
              "      <td>0.0</td>\n",
              "      <td>0.0</td>\n",
              "      <td>1.0</td>\n",
              "      <td>0.0</td>\n",
              "      <td>0.0</td>\n",
              "      <td>0.0</td>\n",
              "      <td>0.0</td>\n",
              "      <td>0.0</td>\n",
              "      <td>0.0</td>\n",
              "      <td>0.0</td>\n",
              "      <td>0.0</td>\n",
              "      <td>1.0</td>\n",
              "      <td>0.0</td>\n",
              "      <td>0.0</td>\n",
              "      <td>0.0</td>\n",
              "      <td>0.0</td>\n",
              "      <td>0.0</td>\n",
              "      <td>...</td>\n",
              "      <td>0.0</td>\n",
              "      <td>0.0</td>\n",
              "      <td>0.0</td>\n",
              "      <td>0.0</td>\n",
              "      <td>0.0</td>\n",
              "      <td>0.0</td>\n",
              "      <td>1.0</td>\n",
              "      <td>0.0</td>\n",
              "      <td>0.0</td>\n",
              "      <td>0.0</td>\n",
              "      <td>0.0</td>\n",
              "      <td>0.0</td>\n",
              "      <td>0.0</td>\n",
              "      <td>0.0</td>\n",
              "      <td>0.0</td>\n",
              "      <td>0.0</td>\n",
              "      <td>0.0</td>\n",
              "      <td>0.0</td>\n",
              "      <td>0.0</td>\n",
              "      <td>0.0</td>\n",
              "      <td>0.0</td>\n",
              "      <td>0.0</td>\n",
              "      <td>0.0</td>\n",
              "      <td>0.0</td>\n",
              "      <td>0.0</td>\n",
              "      <td>0.0</td>\n",
              "      <td>0.0</td>\n",
              "      <td>0.0</td>\n",
              "      <td>0.0</td>\n",
              "      <td>0.0</td>\n",
              "      <td>0.0</td>\n",
              "      <td>0.0</td>\n",
              "      <td>0.0</td>\n",
              "      <td>0.0</td>\n",
              "      <td>0.0</td>\n",
              "      <td>0.0</td>\n",
              "      <td>0.0</td>\n",
              "      <td>0.0</td>\n",
              "      <td>0.0</td>\n",
              "      <td>0.0</td>\n",
              "    </tr>\n",
              "    <tr>\n",
              "      <th>3</th>\n",
              "      <td>2.0</td>\n",
              "      <td>0.0</td>\n",
              "      <td>0.0</td>\n",
              "      <td>1.0</td>\n",
              "      <td>0.0</td>\n",
              "      <td>1.0</td>\n",
              "      <td>0.0</td>\n",
              "      <td>0.0</td>\n",
              "      <td>1.0</td>\n",
              "      <td>0.0</td>\n",
              "      <td>0.0</td>\n",
              "      <td>0.0</td>\n",
              "      <td>0.0</td>\n",
              "      <td>1.0</td>\n",
              "      <td>0.0</td>\n",
              "      <td>1.0</td>\n",
              "      <td>0.0</td>\n",
              "      <td>0.0</td>\n",
              "      <td>0.0</td>\n",
              "      <td>1.0</td>\n",
              "      <td>0.0</td>\n",
              "      <td>0.0</td>\n",
              "      <td>0.0</td>\n",
              "      <td>1.0</td>\n",
              "      <td>0.0</td>\n",
              "      <td>0.0</td>\n",
              "      <td>0.0</td>\n",
              "      <td>0.0</td>\n",
              "      <td>0.0</td>\n",
              "      <td>0.0</td>\n",
              "      <td>0.0</td>\n",
              "      <td>0.0</td>\n",
              "      <td>0.0</td>\n",
              "      <td>0.0</td>\n",
              "      <td>1.0</td>\n",
              "      <td>0.0</td>\n",
              "      <td>0.0</td>\n",
              "      <td>0.0</td>\n",
              "      <td>0.0</td>\n",
              "      <td>0.0</td>\n",
              "      <td>...</td>\n",
              "      <td>0.0</td>\n",
              "      <td>0.0</td>\n",
              "      <td>1.0</td>\n",
              "      <td>0.0</td>\n",
              "      <td>0.0</td>\n",
              "      <td>0.0</td>\n",
              "      <td>0.0</td>\n",
              "      <td>0.0</td>\n",
              "      <td>0.0</td>\n",
              "      <td>0.0</td>\n",
              "      <td>0.0</td>\n",
              "      <td>0.0</td>\n",
              "      <td>0.0</td>\n",
              "      <td>0.0</td>\n",
              "      <td>0.0</td>\n",
              "      <td>0.0</td>\n",
              "      <td>0.0</td>\n",
              "      <td>0.0</td>\n",
              "      <td>0.0</td>\n",
              "      <td>0.0</td>\n",
              "      <td>0.0</td>\n",
              "      <td>0.0</td>\n",
              "      <td>0.0</td>\n",
              "      <td>0.0</td>\n",
              "      <td>0.0</td>\n",
              "      <td>0.0</td>\n",
              "      <td>0.0</td>\n",
              "      <td>0.0</td>\n",
              "      <td>0.0</td>\n",
              "      <td>0.0</td>\n",
              "      <td>0.0</td>\n",
              "      <td>0.0</td>\n",
              "      <td>0.0</td>\n",
              "      <td>0.0</td>\n",
              "      <td>0.0</td>\n",
              "      <td>0.0</td>\n",
              "      <td>0.0</td>\n",
              "      <td>0.0</td>\n",
              "      <td>0.0</td>\n",
              "      <td>0.0</td>\n",
              "    </tr>\n",
              "    <tr>\n",
              "      <th>4</th>\n",
              "      <td>2.0</td>\n",
              "      <td>1.0</td>\n",
              "      <td>0.0</td>\n",
              "      <td>0.0</td>\n",
              "      <td>0.0</td>\n",
              "      <td>1.0</td>\n",
              "      <td>0.0</td>\n",
              "      <td>1.0</td>\n",
              "      <td>0.0</td>\n",
              "      <td>0.0</td>\n",
              "      <td>0.0</td>\n",
              "      <td>1.0</td>\n",
              "      <td>0.0</td>\n",
              "      <td>0.0</td>\n",
              "      <td>0.0</td>\n",
              "      <td>1.0</td>\n",
              "      <td>0.0</td>\n",
              "      <td>0.0</td>\n",
              "      <td>0.0</td>\n",
              "      <td>0.0</td>\n",
              "      <td>0.0</td>\n",
              "      <td>1.0</td>\n",
              "      <td>0.0</td>\n",
              "      <td>0.0</td>\n",
              "      <td>0.0</td>\n",
              "      <td>1.0</td>\n",
              "      <td>0.0</td>\n",
              "      <td>0.0</td>\n",
              "      <td>0.0</td>\n",
              "      <td>0.0</td>\n",
              "      <td>0.0</td>\n",
              "      <td>0.0</td>\n",
              "      <td>0.0</td>\n",
              "      <td>0.0</td>\n",
              "      <td>1.0</td>\n",
              "      <td>0.0</td>\n",
              "      <td>0.0</td>\n",
              "      <td>0.0</td>\n",
              "      <td>0.0</td>\n",
              "      <td>0.0</td>\n",
              "      <td>...</td>\n",
              "      <td>0.0</td>\n",
              "      <td>0.0</td>\n",
              "      <td>0.0</td>\n",
              "      <td>0.0</td>\n",
              "      <td>0.0</td>\n",
              "      <td>0.0</td>\n",
              "      <td>1.0</td>\n",
              "      <td>0.0</td>\n",
              "      <td>0.0</td>\n",
              "      <td>0.0</td>\n",
              "      <td>0.0</td>\n",
              "      <td>0.0</td>\n",
              "      <td>0.0</td>\n",
              "      <td>0.0</td>\n",
              "      <td>0.0</td>\n",
              "      <td>0.0</td>\n",
              "      <td>0.0</td>\n",
              "      <td>0.0</td>\n",
              "      <td>0.0</td>\n",
              "      <td>0.0</td>\n",
              "      <td>0.0</td>\n",
              "      <td>0.0</td>\n",
              "      <td>0.0</td>\n",
              "      <td>0.0</td>\n",
              "      <td>0.0</td>\n",
              "      <td>0.0</td>\n",
              "      <td>0.0</td>\n",
              "      <td>0.0</td>\n",
              "      <td>0.0</td>\n",
              "      <td>0.0</td>\n",
              "      <td>0.0</td>\n",
              "      <td>0.0</td>\n",
              "      <td>0.0</td>\n",
              "      <td>0.0</td>\n",
              "      <td>0.0</td>\n",
              "      <td>0.0</td>\n",
              "      <td>0.0</td>\n",
              "      <td>0.0</td>\n",
              "      <td>0.0</td>\n",
              "      <td>0.0</td>\n",
              "    </tr>\n",
              "  </tbody>\n",
              "</table>\n",
              "<p>5 rows × 564 columns</p>\n",
              "</div>"
            ],
            "text/plain": [
              "   deg-malig  ...  tumor-size_50-54_inv-nodes_9-11\n",
              "0        2.0  ...                              0.0\n",
              "1        2.0  ...                              0.0\n",
              "2        2.0  ...                              0.0\n",
              "3        2.0  ...                              0.0\n",
              "4        2.0  ...                              0.0\n",
              "\n",
              "[5 rows x 564 columns]"
            ]
          },
          "metadata": {
            "tags": []
          },
          "execution_count": 16
        }
      ]
    },
    {
      "cell_type": "markdown",
      "metadata": {
        "id": "hKf0LHk-nIXo"
      },
      "source": [
        "## Dimensionality Reduction using PCA"
      ]
    },
    {
      "cell_type": "code",
      "metadata": {
        "colab": {
          "base_uri": "https://localhost:8080/",
          "height": 202
        },
        "id": "-HUnsjl5mI-Y",
        "outputId": "18534be6-4dae-43f5-ad77-d635174dadbb"
      },
      "source": [
        "from sklearn.decomposition import PCA\n",
        "\n",
        "pca = PCA(n_components = 10)\n",
        "\n",
        "X_pca = pd.DataFrame(pca.fit_transform(X))\n",
        "\n",
        "X_pca.head()"
      ],
      "execution_count": 17,
      "outputs": [
        {
          "output_type": "execute_result",
          "data": {
            "text/html": [
              "<div>\n",
              "<style scoped>\n",
              "    .dataframe tbody tr th:only-of-type {\n",
              "        vertical-align: middle;\n",
              "    }\n",
              "\n",
              "    .dataframe tbody tr th {\n",
              "        vertical-align: top;\n",
              "    }\n",
              "\n",
              "    .dataframe thead th {\n",
              "        text-align: right;\n",
              "    }\n",
              "</style>\n",
              "<table border=\"1\" class=\"dataframe\">\n",
              "  <thead>\n",
              "    <tr style=\"text-align: right;\">\n",
              "      <th></th>\n",
              "      <th>0</th>\n",
              "      <th>1</th>\n",
              "      <th>2</th>\n",
              "      <th>3</th>\n",
              "      <th>4</th>\n",
              "      <th>5</th>\n",
              "      <th>6</th>\n",
              "      <th>7</th>\n",
              "      <th>8</th>\n",
              "      <th>9</th>\n",
              "    </tr>\n",
              "  </thead>\n",
              "  <tbody>\n",
              "    <tr>\n",
              "      <th>0</th>\n",
              "      <td>2.974624</td>\n",
              "      <td>-2.806047</td>\n",
              "      <td>0.417706</td>\n",
              "      <td>-0.163286</td>\n",
              "      <td>-0.736877</td>\n",
              "      <td>1.315980</td>\n",
              "      <td>-1.025782</td>\n",
              "      <td>-0.508644</td>\n",
              "      <td>1.421683</td>\n",
              "      <td>-0.163725</td>\n",
              "    </tr>\n",
              "    <tr>\n",
              "      <th>1</th>\n",
              "      <td>1.269802</td>\n",
              "      <td>-1.211792</td>\n",
              "      <td>-3.868729</td>\n",
              "      <td>-0.533597</td>\n",
              "      <td>0.562374</td>\n",
              "      <td>1.544171</td>\n",
              "      <td>-0.836105</td>\n",
              "      <td>-1.909383</td>\n",
              "      <td>1.700474</td>\n",
              "      <td>0.336492</td>\n",
              "    </tr>\n",
              "    <tr>\n",
              "      <th>2</th>\n",
              "      <td>-2.034261</td>\n",
              "      <td>-2.194094</td>\n",
              "      <td>3.488823</td>\n",
              "      <td>-1.201066</td>\n",
              "      <td>1.227062</td>\n",
              "      <td>0.210024</td>\n",
              "      <td>-0.720972</td>\n",
              "      <td>-0.226302</td>\n",
              "      <td>-1.635182</td>\n",
              "      <td>0.276377</td>\n",
              "    </tr>\n",
              "    <tr>\n",
              "      <th>3</th>\n",
              "      <td>2.885793</td>\n",
              "      <td>-2.552770</td>\n",
              "      <td>0.094699</td>\n",
              "      <td>-0.509132</td>\n",
              "      <td>-0.513038</td>\n",
              "      <td>0.432355</td>\n",
              "      <td>-0.606058</td>\n",
              "      <td>0.530601</td>\n",
              "      <td>0.297839</td>\n",
              "      <td>-1.066752</td>\n",
              "    </tr>\n",
              "    <tr>\n",
              "      <th>4</th>\n",
              "      <td>-3.627114</td>\n",
              "      <td>-0.203887</td>\n",
              "      <td>-1.492604</td>\n",
              "      <td>-2.526402</td>\n",
              "      <td>0.745246</td>\n",
              "      <td>1.172633</td>\n",
              "      <td>-0.744226</td>\n",
              "      <td>-0.002270</td>\n",
              "      <td>-1.188203</td>\n",
              "      <td>0.224669</td>\n",
              "    </tr>\n",
              "  </tbody>\n",
              "</table>\n",
              "</div>"
            ],
            "text/plain": [
              "          0         1         2  ...         7         8         9\n",
              "0  2.974624 -2.806047  0.417706  ... -0.508644  1.421683 -0.163725\n",
              "1  1.269802 -1.211792 -3.868729  ... -1.909383  1.700474  0.336492\n",
              "2 -2.034261 -2.194094  3.488823  ... -0.226302 -1.635182  0.276377\n",
              "3  2.885793 -2.552770  0.094699  ...  0.530601  0.297839 -1.066752\n",
              "4 -3.627114 -0.203887 -1.492604  ... -0.002270 -1.188203  0.224669\n",
              "\n",
              "[5 rows x 10 columns]"
            ]
          },
          "metadata": {
            "tags": []
          },
          "execution_count": 17
        }
      ]
    },
    {
      "cell_type": "code",
      "metadata": {
        "colab": {
          "base_uri": "https://localhost:8080/"
        },
        "id": "fGD7qjspmJCP",
        "outputId": "531abda2-9706-49a5-c035-f3e95098e0a4"
      },
      "source": [
        "from sklearn.model_selection import train_test_split\n",
        "\n",
        "X_train, X_test, y_train, y_test = train_test_split(X, y, test_size=0.3, random_state=1)\n",
        "\n",
        "X_train.shape, X_test.shape, y_train.shape, y_test.shape"
      ],
      "execution_count": 18,
      "outputs": [
        {
          "output_type": "execute_result",
          "data": {
            "text/plain": [
              "((199, 564), (86, 564), (199, 1), (86, 1))"
            ]
          },
          "metadata": {
            "tags": []
          },
          "execution_count": 18
        }
      ]
    },
    {
      "cell_type": "code",
      "metadata": {
        "colab": {
          "base_uri": "https://localhost:8080/",
          "height": 307
        },
        "id": "JTP2N_9zimtz",
        "outputId": "05b6a513-1f4e-440f-bc36-176ccc96c276"
      },
      "source": [
        "y_train.value_counts().plot(kind='bar')"
      ],
      "execution_count": 85,
      "outputs": [
        {
          "output_type": "execute_result",
          "data": {
            "text/plain": [
              "<matplotlib.axes._subplots.AxesSubplot at 0x7f3796083f50>"
            ]
          },
          "metadata": {
            "tags": []
          },
          "execution_count": 85
        },
        {
          "output_type": "display_data",
          "data": {
            "image/png": "[encoded data removed]",
            "text/plain": [
              "<Figure size 432x288 with 1 Axes>"
            ]
          },
          "metadata": {
            "tags": [],
            "needs_background": "light"
          }
        }
      ]
    },
    {
      "cell_type": "code",
      "metadata": {
        "colab": {
          "base_uri": "https://localhost:8080/"
        },
        "id": "oFS_zI_cgxIx",
        "outputId": "f63a67ff-9107-4923-8fe0-6804b38b4e38"
      },
      "source": [
        "\r\n",
        "print(\"Before OverSampling, counts of Recurrent Class '1': \",y_train.value_counts()[0])\r\n",
        "print(\"Before OverSampling, counts of No-Recurrent Class '0': \\n\", y_train.value_counts()[1])"
      ],
      "execution_count": 20,
      "outputs": [
        {
          "output_type": "stream",
          "text": [
            "Before OverSampling, counts of Recurrent Class '1':  recurrence-events\n",
            "0                    140\n",
            "dtype: int64\n",
            "Before OverSampling, counts of No-Recurrent Class '0': \n",
            " recurrence-events\n",
            "1                    59\n",
            "dtype: int64\n"
          ],
          "name": "stdout"
        }
      ]
    },
    {
      "cell_type": "code",
      "metadata": {
        "colab": {
          "base_uri": "https://localhost:8080/"
        },
        "id": "y3uiw4GegbRY",
        "outputId": "8eea6967-7f5e-4ac8-93a1-49ee99c6da2b"
      },
      "source": [
        "from imblearn.over_sampling import SMOTE\r\n",
        "sm = SMOTE(random_state=0)\r\n",
        "X_train_res, y_train_res = sm.fit_sample(X_train, np.ravel(y_train))"
      ],
      "execution_count": 21,
      "outputs": [
        {
          "output_type": "stream",
          "text": [
            "/usr/local/lib/python3.7/dist-packages/sklearn/externals/six.py:31: FutureWarning: The module is deprecated in version 0.21 and will be removed in version 0.23 since we've dropped support for Python 2.7. Please rely on the official version of six (https://pypi.org/project/six/).\n",
            "  \"(https://pypi.org/project/six/).\", FutureWarning)\n",
            "/usr/local/lib/python3.7/dist-packages/sklearn/utils/deprecation.py:144: FutureWarning: The sklearn.neighbors.base module is  deprecated in version 0.22 and will be removed in version 0.24. The corresponding classes / functions should instead be imported from sklearn.neighbors. Anything that cannot be imported from sklearn.neighbors is now part of the private API.\n",
            "  warnings.warn(message, FutureWarning)\n",
            "/usr/local/lib/python3.7/dist-packages/sklearn/utils/deprecation.py:87: FutureWarning: Function safe_indexing is deprecated; safe_indexing is deprecated in version 0.22 and will be removed in version 0.24.\n",
            "  warnings.warn(msg, category=FutureWarning)\n"
          ],
          "name": "stderr"
        }
      ]
    },
    {
      "cell_type": "code",
      "metadata": {
        "colab": {
          "base_uri": "https://localhost:8080/"
        },
        "id": "Yq3GRHKqgqcG",
        "outputId": "21ce3023-f2aa-402b-f223-135af04e7e3d"
      },
      "source": [
        "print('After OverSampling, the shape of features_X: {}'.format(X_train_res.shape))\r\n",
        "print('After OverSampling, the shape of Output_y: {} \\n'.format(y_train_res.shape))\r\n",
        "\r\n",
        "print(\"After OverSampling, counts of Recurrent Class '1': {}\".format(sum(y_train_res==1)))\r\n",
        "print(\"After OverSampling, counts of Non-Recurrent Class '0': {}\".format(sum(y_train_res==0)))"
      ],
      "execution_count": 22,
      "outputs": [
        {
          "output_type": "stream",
          "text": [
            "After OverSampling, the shape of features_X: (280, 564)\n",
            "After OverSampling, the shape of Output_y: (280,) \n",
            "\n",
            "After OverSampling, counts of Recurrent Class '1': 140\n",
            "After OverSampling, counts of Non-Recurrent Class '0': 140\n"
          ],
          "name": "stdout"
        }
      ]
    },
    {
      "cell_type": "code",
      "metadata": {
        "colab": {
          "base_uri": "https://localhost:8080/"
        },
        "id": "wkKFOrrqmJGK",
        "outputId": "f2efe36a-1e40-4f68-fff8-a4b9e72d8bc7"
      },
      "source": [
        "import sklearn.feature_selection\n",
        "\n",
        "select = sklearn.feature_selection.SelectKBest(k=20)\n",
        "selected_features = select.fit(X_train, y_train)\n",
        "indices_selected = selected_features.get_support(indices=True)\n",
        "colnames_selected = [X.columns[i] for i in indices_selected]\n",
        "\n",
        "X_train_selected = X_train[colnames_selected]\n",
        "X_test_selected = X_test[colnames_selected]"
      ],
      "execution_count": 23,
      "outputs": [
        {
          "output_type": "stream",
          "text": [
            "/usr/local/lib/python3.7/dist-packages/sklearn/utils/validation.py:760: DataConversionWarning: A column-vector y was passed when a 1d array was expected. Please change the shape of y to (n_samples, ), for example using ravel().\n",
            "  y = column_or_1d(y, warn=True)\n",
            "/usr/local/lib/python3.7/dist-packages/sklearn/feature_selection/_univariate_selection.py:114: UserWarning: Features [  9  17  37  49  57  77  86 112 122 126 127 144 156 175 176 185 193 207\n",
            " 241 245 272 283 297 306 307 308 309 311 326 334 343 348 386 390 393 399\n",
            " 406 410 414 440 448 454 458 459 468 481 516 521 525 532 534 536 538 544\n",
            " 559] are constant.\n",
            "  UserWarning)\n",
            "/usr/local/lib/python3.7/dist-packages/sklearn/feature_selection/_univariate_selection.py:115: RuntimeWarning: invalid value encountered in true_divide\n",
            "  f = msb / msw\n"
          ],
          "name": "stderr"
        }
      ]
    },
    {
      "cell_type": "code",
      "metadata": {
        "colab": {
          "base_uri": "https://localhost:8080/"
        },
        "id": "wlDzuqUymJKF",
        "outputId": "f470566b-f274-41fc-dbc1-9647e28200d3"
      },
      "source": [
        "colnames_selected"
      ],
      "execution_count": 24,
      "outputs": [
        {
          "output_type": "execute_result",
          "data": {
            "text/plain": [
              "['deg-malig',\n",
              " 'node-caps_no',\n",
              " 'node-caps_yes',\n",
              " 'inv-nodes_0-2',\n",
              " 'deg-malig_node-caps_yes',\n",
              " 'deg-malig_breast_left',\n",
              " 'deg-malig_irradiat_yes',\n",
              " 'deg-malig_age_30-39',\n",
              " 'menopause_ge40_inv-nodes_0-2',\n",
              " 'menopause_premeno_node-caps_yes',\n",
              " 'node-caps_no_irradiat_no',\n",
              " 'node-caps_no_inv-nodes_0-2',\n",
              " 'node-caps_yes_breast_left',\n",
              " 'node-caps_yes_breast-quad_left_low',\n",
              " 'breast_left_irradiat_yes',\n",
              " 'breast_left_age_30-39',\n",
              " 'breast_left_inv-nodes_6-8',\n",
              " 'breast-quad_left_low_inv-nodes_6-8',\n",
              " 'irradiat_no_inv-nodes_0-2',\n",
              " 'irradiat_yes_inv-nodes_6-8']"
            ]
          },
          "metadata": {
            "tags": []
          },
          "execution_count": 24
        }
      ]
    },
    {
      "cell_type": "markdown",
      "metadata": {
        "id": "_bN-TOmpUkl2"
      },
      "source": [
        "## Logistic Regression Model"
      ]
    },
    {
      "cell_type": "code",
      "metadata": {
        "id": "-o6YItWXm4-w"
      },
      "source": [
        "from sklearn.linear_model import LogisticRegression\n",
        "from sklearn.metrics import roc_auc_score, confusion_matrix, plot_confusion_matrix, classification_report\n",
        "\n",
        "def find_model_perf(X_train, X_test, y_train, y_test):\n",
        "    model = LogisticRegression()\n",
        "    model.fit(X_train, y_train)\n",
        "    y_hat = [x[1] for x in model.predict_proba(X_test)]\n",
        "    auc = roc_auc_score(y_test, y_hat)\n",
        "    \n",
        "    return auc"
      ],
      "execution_count": 25,
      "outputs": []
    },
    {
      "cell_type": "code",
      "metadata": {
        "colab": {
          "base_uri": "https://localhost:8080/"
        },
        "id": "3qCvImuHm5DE",
        "outputId": "875b134d-2810-4592-95dc-4d315fcdaaa0"
      },
      "source": [
        "auc_processed = find_model_perf(X_train_selected, X_test_selected, np.ravel(y_train), np.ravel(y_test))\n",
        "auc_processed"
      ],
      "execution_count": 26,
      "outputs": [
        {
          "output_type": "execute_result",
          "data": {
            "text/plain": [
              "0.6698717948717948"
            ]
          },
          "metadata": {
            "tags": []
          },
          "execution_count": 26
        }
      ]
    },
    {
      "cell_type": "code",
      "metadata": {
        "id": "ktCFb2K2Uqpx"
      },
      "source": [
        "lr = LogisticRegression()\n",
        "lr.fit(X_train_selected, np.ravel(y_train))\n",
        "\n",
        "lr_pred = lr.predict(X_test_selected)"
      ],
      "execution_count": 27,
      "outputs": []
    },
    {
      "cell_type": "code",
      "metadata": {
        "colab": {
          "base_uri": "https://localhost:8080/",
          "height": 303
        },
        "id": "djY40eG9Uqxy",
        "outputId": "f39917c9-8926-4788-c317-65577a081125"
      },
      "source": [
        "plot_confusion_matrix(lr, X_test_selected,y_test)"
      ],
      "execution_count": 28,
      "outputs": [
        {
          "output_type": "execute_result",
          "data": {
            "text/plain": [
              "<sklearn.metrics._plot.confusion_matrix.ConfusionMatrixDisplay at 0x7f3795ff5850>"
            ]
          },
          "metadata": {
            "tags": []
          },
          "execution_count": 28
        },
        {
          "output_type": "display_data",
          "data": {
            "image/png": "[encoded data removed]",
            "text/plain": [
              "<Figure size 432x288 with 2 Axes>"
            ]
          },
          "metadata": {
            "tags": [],
            "needs_background": "light"
          }
        }
      ]
    },
    {
      "cell_type": "code",
      "metadata": {
        "colab": {
          "base_uri": "https://localhost:8080/"
        },
        "id": "DMu-sOnwUrhM",
        "outputId": "a2914d67-d778-4de5-bd4c-328278c1ae96"
      },
      "source": [
        "print(classification_report(y_test, lr_pred))"
      ],
      "execution_count": 29,
      "outputs": [
        {
          "output_type": "stream",
          "text": [
            "              precision    recall  f1-score   support\n",
            "\n",
            "           0       0.75      0.83      0.79        60\n",
            "           1       0.47      0.35      0.40        26\n",
            "\n",
            "    accuracy                           0.69        86\n",
            "   macro avg       0.61      0.59      0.59        86\n",
            "weighted avg       0.66      0.69      0.67        86\n",
            "\n"
          ],
          "name": "stdout"
        }
      ]
    },
    {
      "cell_type": "markdown",
      "metadata": {
        "id": "mkSHT12FjSkf"
      },
      "source": [
        "## Evaluate Model with RepeatedSratidiedKFold Cross Validation"
      ]
    },
    {
      "cell_type": "code",
      "metadata": {
        "colab": {
          "base_uri": "https://localhost:8080/"
        },
        "id": "-GyM34bNUrve",
        "outputId": "f320f7df-f129-45a3-bf59-a398e87cacff"
      },
      "source": [
        "from sklearn.model_selection import RepeatedStratifiedKFold, GridSearchCV, cross_val_score\n",
        "\n",
        "cv = RepeatedStratifiedKFold(n_splits=10, n_repeats=3, random_state=1)\n",
        "\n",
        "#evaluate model\n",
        "scores = cross_val_score(lr, X_train_selected, y_train, scoring='accuracy', cv=cv, n_jobs=-1)\n",
        "print(np.mean(scores))  "
      ],
      "execution_count": 30,
      "outputs": [
        {
          "output_type": "stream",
          "text": [
            "0.7342105263157894\n"
          ],
          "name": "stdout"
        }
      ]
    },
    {
      "cell_type": "markdown",
      "metadata": {
        "id": "BxEtoipdjpsZ"
      },
      "source": [
        "## Tune the LR model with GridSearchCV"
      ]
    },
    {
      "cell_type": "code",
      "metadata": {
        "colab": {
          "base_uri": "https://localhost:8080/"
        },
        "id": "v0fANWhDViNM",
        "outputId": "cd8ba407-8f3b-43d1-c63f-c053e72779b3"
      },
      "source": [
        "# define grid\n",
        "grid = {'penalty': ['I1', 'I2', 'elasticnet', 'none'], 'solver':['newton-cg', 'lbfgs', 'liblinear', 'sag', 'saga'], 'multi_class': ['auto', 'ovr', 'multinomial'], 'max_iter': [100, 200, 300]}\n",
        "\n",
        "# define search\n",
        "search = GridSearchCV(lr, grid, scoring='accuracy', cv=cv, n_jobs=-1)\n",
        "\n",
        "# fit the search\n",
        "lr_results = search.fit(X_train_selected, y_train)\n",
        "\n",
        "\n"
      ],
      "execution_count": 86,
      "outputs": [
        {
          "output_type": "stream",
          "text": [
            "/usr/local/lib/python3.7/dist-packages/sklearn/utils/validation.py:760: DataConversionWarning: A column-vector y was passed when a 1d array was expected. Please change the shape of y to (n_samples, ), for example using ravel().\n",
            "  y = column_or_1d(y, warn=True)\n",
            "/usr/local/lib/python3.7/dist-packages/sklearn/linear_model/_sag.py:330: ConvergenceWarning: The max_iter was reached which means the coef_ did not converge\n",
            "  \"the coef_ did not converge\", ConvergenceWarning)\n"
          ],
          "name": "stderr"
        }
      ]
    },
    {
      "cell_type": "code",
      "metadata": {
        "colab": {
          "base_uri": "https://localhost:8080/"
        },
        "id": "fxTZH2_nViWf",
        "outputId": "47301577-cd06-49aa-fc0e-e7714475a163"
      },
      "source": [
        "# summarize\n",
        "print('Mean Accuracy: %.5f' % lr_results.best_score_)\n",
        "print()\n",
        "print('-'*100)\n",
        "print('The best estimator of the logistic regression model: ', lr_results.best_estimator_)\n",
        "print()\n",
        "print('-'*100)\n",
        "print('The best index of the logistic regression model: ', lr_results.best_index_)\n",
        "print()\n",
        "print('-'*100)\n",
        "print('The best parameter of the logistic regression. model: ', lr_results.best_params_)\n",
        "print()\n",
        "print('-'*100)\n",
        "print('The best score of the logistic regression model: ', lr_results.best_score_)"
      ],
      "execution_count": 88,
      "outputs": [
        {
          "output_type": "stream",
          "text": [
            "Mean Accuracy: 0.71588\n",
            "\n",
            "----------------------------------------------------------------------------------------------------\n",
            "The best estimator of the logistic regression model:  LogisticRegression(C=1.0, class_weight=None, dual=False, fit_intercept=True,\n",
            "                   intercept_scaling=1, l1_ratio=None, max_iter=100,\n",
            "                   multi_class='auto', n_jobs=None, penalty='none',\n",
            "                   random_state=None, solver='sag', tol=0.0001, verbose=0,\n",
            "                   warm_start=False)\n",
            "\n",
            "----------------------------------------------------------------------------------------------------\n",
            "The best index of the logistic regression model:  18\n",
            "\n",
            "----------------------------------------------------------------------------------------------------\n",
            "The best parameter of the logistic regression. model:  {'max_iter': 100, 'multi_class': 'auto', 'penalty': 'none', 'solver': 'sag'}\n",
            "\n",
            "----------------------------------------------------------------------------------------------------\n",
            "The best score of the logistic regression model:  0.7158771929824561\n"
          ],
          "name": "stdout"
        }
      ]
    },
    {
      "cell_type": "markdown",
      "metadata": {
        "id": "C0qLx2Y5Uaz3"
      },
      "source": [
        "## Random Forest Model"
      ]
    },
    {
      "cell_type": "code",
      "metadata": {
        "id": "JVNNCvuGm5Gz"
      },
      "source": [
        "from sklearn.ensemble import RandomForestClassifier\n",
        "from sklearn.metrics import confusion_matrix, plot_confusion_matrix, classification_report\n",
        "\n",
        "def rf_model(X_train, X_test, y_train, y_test):\n",
        "    rf = RandomForestClassifier()\n",
        "    rf.fit(X_train, y_train)\n",
        "    y_pred = [x[1] for x in rf.predict_proba(X_test)]\n",
        "    auc = roc_auc_score(y_test, y_pred)\n",
        "    return auc\n",
        "  \n"
      ],
      "execution_count": 33,
      "outputs": []
    },
    {
      "cell_type": "code",
      "metadata": {
        "colab": {
          "base_uri": "https://localhost:8080/"
        },
        "id": "9cHGwX9om5KZ",
        "outputId": "2fd0c9e2-8abd-4eed-f4c4-e4f6418de19f"
      },
      "source": [
        "rf_model(X_train_selected, X_test_selected, y_train, y_test)"
      ],
      "execution_count": 34,
      "outputs": [
        {
          "output_type": "stream",
          "text": [
            "/usr/local/lib/python3.7/dist-packages/ipykernel_launcher.py:6: DataConversionWarning: A column-vector y was passed when a 1d array was expected. Please change the shape of y to (n_samples,), for example using ravel().\n",
            "  \n"
          ],
          "name": "stderr"
        },
        {
          "output_type": "execute_result",
          "data": {
            "text/plain": [
              "0.6628205128205128"
            ]
          },
          "metadata": {
            "tags": []
          },
          "execution_count": 34
        }
      ]
    },
    {
      "cell_type": "code",
      "metadata": {
        "colab": {
          "base_uri": "https://localhost:8080/",
          "height": 354
        },
        "id": "j2h2zthom5N5",
        "outputId": "744a1205-b127-4ce6-b1f0-683251896888"
      },
      "source": [
        "rf=RandomForestClassifier()\n",
        "rf.fit(X_train_selected, y_train)\n",
        "rf_pred = rf.predict(X_test_selected)\n",
        "plot_confusion_matrix(rf, X_test_selected, y_test)\n"
      ],
      "execution_count": 35,
      "outputs": [
        {
          "output_type": "stream",
          "text": [
            "/usr/local/lib/python3.7/dist-packages/ipykernel_launcher.py:2: DataConversionWarning: A column-vector y was passed when a 1d array was expected. Please change the shape of y to (n_samples,), for example using ravel().\n",
            "  \n"
          ],
          "name": "stderr"
        },
        {
          "output_type": "execute_result",
          "data": {
            "text/plain": [
              "<sklearn.metrics._plot.confusion_matrix.ConfusionMatrixDisplay at 0x7f37a188d7d0>"
            ]
          },
          "metadata": {
            "tags": []
          },
          "execution_count": 35
        },
        {
          "output_type": "display_data",
          "data": {
            "image/png": "[encoded data removed]",
            "text/plain": [
              "<Figure size 432x288 with 2 Axes>"
            ]
          },
          "metadata": {
            "tags": [],
            "needs_background": "light"
          }
        }
      ]
    },
    {
      "cell_type": "code",
      "metadata": {
        "colab": {
          "base_uri": "https://localhost:8080/"
        },
        "id": "cFKzOWYJq10_",
        "outputId": "8e5c62ee-925a-401e-a32b-6f24f47efe3f"
      },
      "source": [
        "print(classification_report(y_test, rf_pred))"
      ],
      "execution_count": 36,
      "outputs": [
        {
          "output_type": "stream",
          "text": [
            "              precision    recall  f1-score   support\n",
            "\n",
            "           0       0.75      0.87      0.81        60\n",
            "           1       0.53      0.35      0.42        26\n",
            "\n",
            "    accuracy                           0.71        86\n",
            "   macro avg       0.64      0.61      0.61        86\n",
            "weighted avg       0.69      0.71      0.69        86\n",
            "\n"
          ],
          "name": "stdout"
        }
      ]
    },
    {
      "cell_type": "markdown",
      "metadata": {
        "id": "O1tNVIkEj-eU"
      },
      "source": [
        "## Evaluate the RF Model with RepeatedStratifiedKFold Cross Validation"
      ]
    },
    {
      "cell_type": "code",
      "metadata": {
        "colab": {
          "base_uri": "https://localhost:8080/"
        },
        "id": "2aks2CK9Nvfm",
        "outputId": "dc6246b6-996b-4d73-d54e-3b456b80068b"
      },
      "source": [
        "from sklearn.model_selection import RepeatedStratifiedKFold\r\n",
        "from sklearn.model_selection import cross_val_score\r\n",
        "#Define method to evaluate model\r\n",
        "cv = RepeatedStratifiedKFold(n_splits=10, n_repeats=3, random_state=1)\r\n",
        "\r\n",
        "#evaluate model\r\n",
        "scores = cross_val_score(rf, X_train_selected, y_train, scoring='accuracy', cv=cv, n_jobs=-1)\r\n",
        "print(np.mean(scores))  "
      ],
      "execution_count": 37,
      "outputs": [
        {
          "output_type": "stream",
          "text": [
            "0.672017543859649\n"
          ],
          "name": "stdout"
        }
      ]
    },
    {
      "cell_type": "code",
      "metadata": {
        "colab": {
          "base_uri": "https://localhost:8080/"
        },
        "id": "CZGddrHct8-0",
        "outputId": "0b976437-5dd3-4636-bb86-7e78acca7f5a"
      },
      "source": [
        "rf.get_params()"
      ],
      "execution_count": 38,
      "outputs": [
        {
          "output_type": "execute_result",
          "data": {
            "text/plain": [
              "{'bootstrap': True,\n",
              " 'ccp_alpha': 0.0,\n",
              " 'class_weight': None,\n",
              " 'criterion': 'gini',\n",
              " 'max_depth': None,\n",
              " 'max_features': 'auto',\n",
              " 'max_leaf_nodes': None,\n",
              " 'max_samples': None,\n",
              " 'min_impurity_decrease': 0.0,\n",
              " 'min_impurity_split': None,\n",
              " 'min_samples_leaf': 1,\n",
              " 'min_samples_split': 2,\n",
              " 'min_weight_fraction_leaf': 0.0,\n",
              " 'n_estimators': 100,\n",
              " 'n_jobs': None,\n",
              " 'oob_score': False,\n",
              " 'random_state': None,\n",
              " 'verbose': 0,\n",
              " 'warm_start': False}"
            ]
          },
          "metadata": {
            "tags": []
          },
          "execution_count": 38
        }
      ]
    },
    {
      "cell_type": "markdown",
      "metadata": {
        "id": "yK_VoyWlkM4E"
      },
      "source": [
        "## Tune the RF Model with GridSearchCV"
      ]
    },
    {
      "cell_type": "code",
      "metadata": {
        "id": "TL3o0cogM9Ug",
        "colab": {
          "base_uri": "https://localhost:8080/"
        },
        "outputId": "c3671bd8-f90e-491e-8dec-dd30421df3d1"
      },
      "source": [
        "from sklearn.model_selection import GridSearchCV\n",
        "RandomForestClassifier()\n",
        "# define grid\n",
        "grid = {'n_estimators': [100, 200], 'criterion': ['gini', 'entropy'], 'max_leaf_nodes': [int, None], 'bootstrap': [True, False] }\n",
        "\n",
        "# define search\n",
        "search = GridSearchCV(rf, grid, scoring='accuracy', cv=cv, n_jobs=-1)\n",
        "\n",
        "# fit the search\n",
        "rf_results = search.fit(X_train_selected, y_train)\n",
        "\n",
        "# summarize\n",
        "print('Mean Accuracy: %.3f' % rf_results.best_score_)\n",
        "print('The best parameters of the random forest model: %s' % rf_results.best_params_)"
      ],
      "execution_count": 39,
      "outputs": [
        {
          "output_type": "stream",
          "text": [
            "Mean Accuracy: 0.697\n",
            "The best parameters of the random forest model: {'bootstrap': False, 'criterion': 'entropy', 'max_leaf_nodes': None, 'n_estimators': 100}\n"
          ],
          "name": "stdout"
        },
        {
          "output_type": "stream",
          "text": [
            "/usr/local/lib/python3.7/dist-packages/sklearn/model_selection/_search.py:739: DataConversionWarning: A column-vector y was passed when a 1d array was expected. Please change the shape of y to (n_samples,), for example using ravel().\n",
            "  self.best_estimator_.fit(X, y, **fit_params)\n"
          ],
          "name": "stderr"
        }
      ]
    },
    {
      "cell_type": "code",
      "metadata": {
        "id": "3qjlvOZYM9WS",
        "colab": {
          "base_uri": "https://localhost:8080/"
        },
        "outputId": "f6ec7526-abc0-4ec0-e07d-d83464f0da4e"
      },
      "source": [
        "print('The best estimator of the random forest model: ', rf_results.best_estimator_)\n",
        "print()\n",
        "print('-'*100)\n",
        "print('The best index of the random forest model: ', rf_results.best_index_)\n",
        "print()\n",
        "print('-'*100)\n",
        "print('The best parameter of the random forest model: ', rf_results.best_params_)\n",
        "print()\n",
        "print('-'*100)\n",
        "print('The best score of the random forest model: ', rf_results.best_score_)\n"
      ],
      "execution_count": 40,
      "outputs": [
        {
          "output_type": "stream",
          "text": [
            "The best estimator of the random forest model:  RandomForestClassifier(bootstrap=False, ccp_alpha=0.0, class_weight=None,\n",
            "                       criterion='entropy', max_depth=None, max_features='auto',\n",
            "                       max_leaf_nodes=None, max_samples=None,\n",
            "                       min_impurity_decrease=0.0, min_impurity_split=None,\n",
            "                       min_samples_leaf=1, min_samples_split=2,\n",
            "                       min_weight_fraction_leaf=0.0, n_estimators=100,\n",
            "                       n_jobs=None, oob_score=False, random_state=None,\n",
            "                       verbose=0, warm_start=False)\n",
            "\n",
            "----------------------------------------------------------------------------------------------------\n",
            "The best index of the random forest model:  14\n",
            "\n",
            "----------------------------------------------------------------------------------------------------\n",
            "The best parameter of the random forest model:  {'bootstrap': False, 'criterion': 'entropy', 'max_leaf_nodes': None, 'n_estimators': 100}\n",
            "\n",
            "----------------------------------------------------------------------------------------------------\n",
            "The best score of the random forest model:  0.6973684210526315\n"
          ],
          "name": "stdout"
        }
      ]
    },
    {
      "cell_type": "markdown",
      "metadata": {
        "id": "l2GzAckaw8cG"
      },
      "source": [
        "## Decision Tree Model"
      ]
    },
    {
      "cell_type": "code",
      "metadata": {
        "id": "zkTboc2cw7U2"
      },
      "source": [
        "from sklearn.tree import DecisionTreeClassifier\n",
        "\n",
        "dt = DecisionTreeClassifier()\n",
        "dt.fit(X_train_selected, y_train)\n",
        "dt_pred = dt.predict(X_test_selected)"
      ],
      "execution_count": 41,
      "outputs": []
    },
    {
      "cell_type": "code",
      "metadata": {
        "colab": {
          "base_uri": "https://localhost:8080/",
          "height": 0
        },
        "id": "zDR6IyB-xZFd",
        "outputId": "9c61df61-6113-4024-f69d-47b76115e14b"
      },
      "source": [
        "plot_confusion_matrix(dt, X_test_selected, y_test)"
      ],
      "execution_count": 42,
      "outputs": [
        {
          "output_type": "execute_result",
          "data": {
            "text/plain": [
              "<sklearn.metrics._plot.confusion_matrix.ConfusionMatrixDisplay at 0x7f3795ed8050>"
            ]
          },
          "metadata": {
            "tags": []
          },
          "execution_count": 42
        },
        {
          "output_type": "display_data",
          "data": {
            "image/png": "[encoded data removed]",
            "text/plain": [
              "<Figure size 432x288 with 2 Axes>"
            ]
          },
          "metadata": {
            "tags": [],
            "needs_background": "light"
          }
        }
      ]
    },
    {
      "cell_type": "code",
      "metadata": {
        "colab": {
          "base_uri": "https://localhost:8080/"
        },
        "id": "PZ67bjHVxkRw",
        "outputId": "cedd06cf-862c-40cf-8ab6-b5444f5a6c31"
      },
      "source": [
        "print(classification_report(y_test, dt_pred))"
      ],
      "execution_count": 43,
      "outputs": [
        {
          "output_type": "stream",
          "text": [
            "              precision    recall  f1-score   support\n",
            "\n",
            "           0       0.75      0.88      0.81        60\n",
            "           1       0.53      0.31      0.39        26\n",
            "\n",
            "    accuracy                           0.71        86\n",
            "   macro avg       0.64      0.60      0.60        86\n",
            "weighted avg       0.68      0.71      0.68        86\n",
            "\n"
          ],
          "name": "stdout"
        }
      ]
    },
    {
      "cell_type": "code",
      "metadata": {
        "colab": {
          "base_uri": "https://localhost:8080/"
        },
        "id": "fuoX0bFZydBL",
        "outputId": "c6c9224e-2f6b-459a-97f4-208822a3c004"
      },
      "source": [
        "\r\n",
        "#Define method to evaluate model\r\n",
        "cv = RepeatedStratifiedKFold(n_splits=10, n_repeats=3, random_state=1)\r\n",
        "\r\n",
        "#evaluate model\r\n",
        "scores = cross_val_score(dt, X_train_selected, y_train, scoring='accuracy', cv=cv, n_jobs=-1)\r\n",
        "print(np.mean(scores))  "
      ],
      "execution_count": 44,
      "outputs": [
        {
          "output_type": "stream",
          "text": [
            "0.6839473684210525\n"
          ],
          "name": "stdout"
        }
      ]
    },
    {
      "cell_type": "code",
      "metadata": {
        "colab": {
          "base_uri": "https://localhost:8080/"
        },
        "id": "bNfxJ2aGydvD",
        "outputId": "ebf03e08-c23c-48ee-9075-e44118ec4a7d"
      },
      "source": [
        "\n",
        "# define grid\n",
        "grid = {'splitter': ['random', 'best'], 'criterion': ['gini', 'entropy'], 'max_leaf_nodes': [int, None], 'max_features': ['auto', 'sqrt', 'log2']}\n",
        "\n",
        "# define search\n",
        "search = GridSearchCV(dt, grid, scoring='accuracy', cv=cv, n_jobs=-1)\n",
        "\n",
        "# fit the search\n",
        "dt_results = search.fit(X_train_selected, y_train)\n",
        "\n",
        "# summarize\n",
        "print('Mean Accuracy: %.3f' % dt_results.best_score_)\n",
        "print('The best parameters of the decision tree model: %s' % dt_results.best_params_)"
      ],
      "execution_count": 45,
      "outputs": [
        {
          "output_type": "stream",
          "text": [
            "Mean Accuracy: 0.709\n",
            "The best parameters of the decision tree model: {'criterion': 'gini', 'max_features': 'auto', 'max_leaf_nodes': None, 'splitter': 'random'}\n"
          ],
          "name": "stdout"
        }
      ]
    },
    {
      "cell_type": "code",
      "metadata": {
        "colab": {
          "base_uri": "https://localhost:8080/"
        },
        "id": "yzDRHhq7z9Y1",
        "outputId": "d4aed437-c2ea-4580-816b-4b8413a89e17"
      },
      "source": [
        "print('The best estimator of the decision tree model: ', dt_results.best_estimator_)\n",
        "print()\n",
        "print('-'*100)\n",
        "print('The best index of the decision tree model: ', dt_results.best_index_)\n",
        "print()\n",
        "print('-'*100)\n",
        "print('The best parameter of the decision tree model: ', dt_results.best_params_)\n",
        "print()\n",
        "print('-'*100)\n",
        "print('The best score of the decision tree model: ', dt_results.best_score_)"
      ],
      "execution_count": 46,
      "outputs": [
        {
          "output_type": "stream",
          "text": [
            "The best estimator of the decision tree model:  DecisionTreeClassifier(ccp_alpha=0.0, class_weight=None, criterion='gini',\n",
            "                       max_depth=None, max_features='auto', max_leaf_nodes=None,\n",
            "                       min_impurity_decrease=0.0, min_impurity_split=None,\n",
            "                       min_samples_leaf=1, min_samples_split=2,\n",
            "                       min_weight_fraction_leaf=0.0, presort='deprecated',\n",
            "                       random_state=None, splitter='random')\n",
            "\n",
            "----------------------------------------------------------------------------------------------------\n",
            "The best index of the decision tree model:  2\n",
            "\n",
            "----------------------------------------------------------------------------------------------------\n",
            "The best parameter of the decision tree model:  {'criterion': 'gini', 'max_features': 'auto', 'max_leaf_nodes': None, 'splitter': 'random'}\n",
            "\n",
            "----------------------------------------------------------------------------------------------------\n",
            "The best score of the decision tree model:  0.7091228070175438\n"
          ],
          "name": "stdout"
        }
      ]
    },
    {
      "cell_type": "markdown",
      "metadata": {
        "id": "6GD4ZUUM-5tL"
      },
      "source": [
        "## Naive Bayes Model"
      ]
    },
    {
      "cell_type": "code",
      "metadata": {
        "id": "2bx-9XmU0IOB",
        "colab": {
          "base_uri": "https://localhost:8080/"
        },
        "outputId": "3cb009e9-30eb-4c4f-d6fb-7f711e116c7a"
      },
      "source": [
        "from sklearn.naive_bayes import GaussianNB\n",
        "\n",
        "gnb = GaussianNB()\n",
        "gnb.fit(X_train_selected, y_train)\n",
        "gnb_pred = gnb.predict(X_test_selected)"
      ],
      "execution_count": 47,
      "outputs": [
        {
          "output_type": "stream",
          "text": [
            "/usr/local/lib/python3.7/dist-packages/sklearn/naive_bayes.py:206: DataConversionWarning: A column-vector y was passed when a 1d array was expected. Please change the shape of y to (n_samples, ), for example using ravel().\n",
            "  y = column_or_1d(y, warn=True)\n"
          ],
          "name": "stderr"
        }
      ]
    },
    {
      "cell_type": "code",
      "metadata": {
        "colab": {
          "base_uri": "https://localhost:8080/"
        },
        "id": "53omUU6G-xYj",
        "outputId": "d7a71378-209d-4c97-bcfa-924869efeebf"
      },
      "source": [
        "\r\n",
        "#Define method to evaluate model\r\n",
        "cv = RepeatedStratifiedKFold(n_splits=10, n_repeats=3, random_state=1)\r\n",
        "\r\n",
        "#evaluate model\r\n",
        "scores = cross_val_score(gnb, X_train_selected, y_train, scoring='accuracy', cv=cv, n_jobs=-1)\r\n",
        "print(np.mean(scores))  "
      ],
      "execution_count": 48,
      "outputs": [
        {
          "output_type": "stream",
          "text": [
            "0.7359649122807017\n"
          ],
          "name": "stdout"
        }
      ]
    },
    {
      "cell_type": "code",
      "metadata": {
        "colab": {
          "base_uri": "https://localhost:8080/"
        },
        "id": "QduY-t0s-2Ib",
        "outputId": "2591a86e-770f-4aeb-fe71-8d34cfa3144e"
      },
      "source": [
        "\n",
        "# define grid\n",
        "grid = {'priors': [None], 'var_smoothing': [1e-09]}\n",
        "\n",
        "# define search\n",
        "search = GridSearchCV(gnb, grid, scoring='accuracy', cv=cv, n_jobs=-1)\n",
        "\n",
        "# fit the search\n",
        "gnb_results = search.fit(X_train_selected, y_train)\n",
        "\n",
        "# summarize\n",
        "print('Mean Accuracy: %.3f' % gnb_results.best_score_)\n",
        "print('The best parameters of the naive bayes model: %s' % gnb_results.best_params_)"
      ],
      "execution_count": 49,
      "outputs": [
        {
          "output_type": "stream",
          "text": [
            "Mean Accuracy: 0.736\n",
            "The best parameters of the naive bayes model: {'priors': None, 'var_smoothing': 1e-09}\n"
          ],
          "name": "stdout"
        },
        {
          "output_type": "stream",
          "text": [
            "/usr/local/lib/python3.7/dist-packages/sklearn/naive_bayes.py:206: DataConversionWarning: A column-vector y was passed when a 1d array was expected. Please change the shape of y to (n_samples, ), for example using ravel().\n",
            "  y = column_or_1d(y, warn=True)\n"
          ],
          "name": "stderr"
        }
      ]
    },
    {
      "cell_type": "code",
      "metadata": {
        "colab": {
          "base_uri": "https://localhost:8080/"
        },
        "id": "mkH0SgTzCWfv",
        "outputId": "72b078d5-2aed-4440-d1e3-e757a46be467"
      },
      "source": [
        "print('The best estimator of the naive bayes model: ', gnb_results.best_estimator_)\n",
        "print()\n",
        "print('-'*100)\n",
        "print('The best index of the naive bayes model: ', gnb_results.best_index_)\n",
        "print()\n",
        "print('-'*100)\n",
        "print('The best parameter of the naive bayes model: ', gnb_results.best_params_)\n",
        "print()\n",
        "print('-'*100)\n",
        "print('The best score of the naive bayes model: ', gnb_results.best_score_)"
      ],
      "execution_count": 50,
      "outputs": [
        {
          "output_type": "stream",
          "text": [
            "The best estimator of the naive bayes model:  GaussianNB(priors=None, var_smoothing=1e-09)\n",
            "\n",
            "----------------------------------------------------------------------------------------------------\n",
            "The best index of the naive bayes model:  0\n",
            "\n",
            "----------------------------------------------------------------------------------------------------\n",
            "The best parameter of the naive bayes model:  {'priors': None, 'var_smoothing': 1e-09}\n",
            "\n",
            "----------------------------------------------------------------------------------------------------\n",
            "The best score of the naive bayes model:  0.7359649122807017\n"
          ],
          "name": "stdout"
        }
      ]
    },
    {
      "cell_type": "markdown",
      "metadata": {
        "id": "O0aeCVKDEJ8o"
      },
      "source": [
        "## K Nearest Neighbors"
      ]
    },
    {
      "cell_type": "code",
      "metadata": {
        "id": "tZgfHKms0IVp",
        "colab": {
          "base_uri": "https://localhost:8080/"
        },
        "outputId": "f6f8b3a7-c0ef-4fc6-ac40-265446e939d8"
      },
      "source": [
        "from sklearn.neighbors import KNeighborsClassifier\n",
        "\n",
        "knn = KNeighborsClassifier()\n",
        "knn.fit(X_train_selected, y_train)\n",
        "\n",
        "knn_pred = knn.predict(X_test_selected)"
      ],
      "execution_count": 51,
      "outputs": [
        {
          "output_type": "stream",
          "text": [
            "/usr/local/lib/python3.7/dist-packages/ipykernel_launcher.py:4: DataConversionWarning: A column-vector y was passed when a 1d array was expected. Please change the shape of y to (n_samples, ), for example using ravel().\n",
            "  after removing the cwd from sys.path.\n"
          ],
          "name": "stderr"
        }
      ]
    },
    {
      "cell_type": "code",
      "metadata": {
        "colab": {
          "base_uri": "https://localhost:8080/"
        },
        "id": "Suej1L2NEkK6",
        "outputId": "cf3a7c62-ef6f-4745-830c-adc743602525"
      },
      "source": [
        "#Define method to evaluate model\n",
        "cv = RepeatedStratifiedKFold(n_splits=10, n_repeats=3, random_state=1)\n",
        "\n",
        "#evaluate model\n",
        "scores = cross_val_score(knn, X_train_selected, y_train, scoring='accuracy', cv=cv, n_jobs=-1)\n",
        "print(np.mean(scores))  \n",
        "\n"
      ],
      "execution_count": 52,
      "outputs": [
        {
          "output_type": "stream",
          "text": [
            "0.7223684210526315\n"
          ],
          "name": "stdout"
        }
      ]
    },
    {
      "cell_type": "code",
      "metadata": {
        "colab": {
          "base_uri": "https://localhost:8080/"
        },
        "id": "6llU1YRcEo4j",
        "outputId": "8c07cda0-e839-4b8b-af2a-734a8e73bf91"
      },
      "source": [
        "# define grid\n",
        "grid = {'algorithm': ['auto', 'ball_tree', 'kd_tree', 'brute'], 'leaf_size': [30, 40, 50], 'n_neighbors': [5, 10, 15], 'weights': ['uniform', 'distance']}\n",
        "\n",
        "# define search\n",
        "search = GridSearchCV(knn, grid, scoring='accuracy', cv=cv, n_jobs=-1)\n",
        "\n",
        "# fit the search\n",
        "knn_results = search.fit(X_train_selected, y_train)\n",
        "\n",
        "# summarize\n",
        "print('Mean Accuracy: %.3f' % knn_results.best_score_)"
      ],
      "execution_count": 53,
      "outputs": [
        {
          "output_type": "stream",
          "text": [
            "Mean Accuracy: 0.754\n"
          ],
          "name": "stdout"
        },
        {
          "output_type": "stream",
          "text": [
            "/usr/local/lib/python3.7/dist-packages/sklearn/model_selection/_search.py:739: DataConversionWarning: A column-vector y was passed when a 1d array was expected. Please change the shape of y to (n_samples, ), for example using ravel().\n",
            "  self.best_estimator_.fit(X, y, **fit_params)\n"
          ],
          "name": "stderr"
        }
      ]
    },
    {
      "cell_type": "code",
      "metadata": {
        "colab": {
          "base_uri": "https://localhost:8080/"
        },
        "id": "ZWPExunaGqt2",
        "outputId": "985c2e5e-63ba-4565-8a85-b0db19b93ded"
      },
      "source": [
        "print('The best estimator of the KNN model: ', knn_results.best_estimator_)\n",
        "print()\n",
        "print('-'*100)\n",
        "print('The best index of the KNN model: ', knn_results.best_index_)\n",
        "print()\n",
        "print('-'*100)\n",
        "print('The best parameter of the KNN model: ', knn_results.best_params_)\n",
        "print()\n",
        "print('-'*100)\n",
        "print('The best score of the KNN model: ', knn_results.best_score_)"
      ],
      "execution_count": 54,
      "outputs": [
        {
          "output_type": "stream",
          "text": [
            "The best estimator of the KNN model:  KNeighborsClassifier(algorithm='auto', leaf_size=30, metric='minkowski',\n",
            "                     metric_params=None, n_jobs=None, n_neighbors=10, p=2,\n",
            "                     weights='uniform')\n",
            "\n",
            "----------------------------------------------------------------------------------------------------\n",
            "The best index of the KNN model:  2\n",
            "\n",
            "----------------------------------------------------------------------------------------------------\n",
            "The best parameter of the KNN model:  {'algorithm': 'auto', 'leaf_size': 30, 'n_neighbors': 10, 'weights': 'uniform'}\n",
            "\n",
            "----------------------------------------------------------------------------------------------------\n",
            "The best score of the KNN model:  0.7542982456140351\n"
          ],
          "name": "stdout"
        }
      ]
    },
    {
      "cell_type": "markdown",
      "metadata": {
        "id": "EcMUGiXVNOi6"
      },
      "source": [
        "## Linear Discriminant Analysis"
      ]
    },
    {
      "cell_type": "code",
      "metadata": {
        "id": "Pb0A_9LlI-jA",
        "colab": {
          "base_uri": "https://localhost:8080/"
        },
        "outputId": "071ddeda-775e-4717-ee99-cad78ebcdcdd"
      },
      "source": [
        "from sklearn.discriminant_analysis import LinearDiscriminantAnalysis as LDA\n",
        "\n",
        "lda = LDA()\n",
        "lda.fit(X_train_selected, y_train)\n",
        "\n",
        "lda_pred = lda.predict(X_test_selected)"
      ],
      "execution_count": 55,
      "outputs": [
        {
          "output_type": "stream",
          "text": [
            "/usr/local/lib/python3.7/dist-packages/sklearn/utils/validation.py:760: DataConversionWarning: A column-vector y was passed when a 1d array was expected. Please change the shape of y to (n_samples, ), for example using ravel().\n",
            "  y = column_or_1d(y, warn=True)\n"
          ],
          "name": "stderr"
        }
      ]
    },
    {
      "cell_type": "code",
      "metadata": {
        "colab": {
          "base_uri": "https://localhost:8080/"
        },
        "id": "2pcW6PPeNsix",
        "outputId": "d4ee951b-d952-4153-aeaa-6320535701a7"
      },
      "source": [
        "#Define method to evaluate model\n",
        "cv = RepeatedStratifiedKFold(n_splits=10, n_repeats=3, random_state=1)\n",
        "\n",
        "#evaluate model\n",
        "scores = cross_val_score(lda, X_train_selected, y_train, scoring='accuracy', cv=cv, n_jobs=-1)\n",
        "print(np.mean(scores))  \n",
        "\n"
      ],
      "execution_count": 56,
      "outputs": [
        {
          "output_type": "stream",
          "text": [
            "0.707280701754386\n"
          ],
          "name": "stdout"
        }
      ]
    },
    {
      "cell_type": "code",
      "metadata": {
        "colab": {
          "base_uri": "https://localhost:8080/"
        },
        "id": "7lbFIlJDNtZ9",
        "outputId": "4e87ff9d-b242-44c4-bb84-b1cffbd990b4"
      },
      "source": [
        "# define grid\n",
        "grid = {'solver': ['svd', 'lsqr', 'eigen'], 'shrinkage': np.arange(0, 1, 0.01), 'n_components': [0, 1, 2] }\n",
        "\n",
        "# define search\n",
        "search = GridSearchCV(lda, grid, scoring='accuracy', cv=cv, n_jobs=-1)\n",
        "\n",
        "# fit the search\n",
        "lda_results = search.fit(X_train_selected, y_train)\n",
        "\n",
        "# summarize\n",
        "print('Mean Accuracy: %.3f' % lda_results.best_score_)"
      ],
      "execution_count": 57,
      "outputs": [
        {
          "output_type": "stream",
          "text": [
            "Mean Accuracy: 0.741\n"
          ],
          "name": "stdout"
        },
        {
          "output_type": "stream",
          "text": [
            "/usr/local/lib/python3.7/dist-packages/sklearn/utils/validation.py:760: DataConversionWarning: A column-vector y was passed when a 1d array was expected. Please change the shape of y to (n_samples, ), for example using ravel().\n",
            "  y = column_or_1d(y, warn=True)\n"
          ],
          "name": "stderr"
        }
      ]
    },
    {
      "cell_type": "code",
      "metadata": {
        "colab": {
          "base_uri": "https://localhost:8080/"
        },
        "id": "5E6018DUNtex",
        "outputId": "1e7c3eda-1ad1-4d50-fd93-3db366d7e896"
      },
      "source": [
        "print('The best estimator of the LDA model: ', lda_results.best_estimator_)\n",
        "print()\n",
        "print('-'*100)\n",
        "print('The best index of the LDA model: ', lda_results.best_index_)\n",
        "print()\n",
        "print('-'*100)\n",
        "print('The best parameter of the LDA model: ', lda_results.best_params_)\n",
        "print()\n",
        "print('-'*100)\n",
        "print('The best score of the LDA model: ', lda_results.best_score_)"
      ],
      "execution_count": 58,
      "outputs": [
        {
          "output_type": "stream",
          "text": [
            "The best estimator of the LDA model:  LinearDiscriminantAnalysis(n_components=0, priors=None, shrinkage=0.29,\n",
            "                           solver='lsqr', store_covariance=False, tol=0.0001)\n",
            "\n",
            "----------------------------------------------------------------------------------------------------\n",
            "The best index of the LDA model:  88\n",
            "\n",
            "----------------------------------------------------------------------------------------------------\n",
            "The best parameter of the LDA model:  {'n_components': 0, 'shrinkage': 0.29, 'solver': 'lsqr'}\n",
            "\n",
            "----------------------------------------------------------------------------------------------------\n",
            "The best score of the LDA model:  0.7407894736842106\n"
          ],
          "name": "stdout"
        }
      ]
    },
    {
      "cell_type": "markdown",
      "metadata": {
        "id": "aISx6AV1O82S"
      },
      "source": [
        "## Quadratic Discriminant Analysis"
      ]
    },
    {
      "cell_type": "code",
      "metadata": {
        "id": "IWmEvVSQNtiy"
      },
      "source": [
        ""
      ],
      "execution_count": 58,
      "outputs": []
    },
    {
      "cell_type": "code",
      "metadata": {
        "id": "nBKoOrY4PDFr"
      },
      "source": [
        "from sklearn.discriminant_analysis import QuadraticDiscriminantAnalysis as QDA"
      ],
      "execution_count": 59,
      "outputs": []
    },
    {
      "cell_type": "code",
      "metadata": {
        "colab": {
          "base_uri": "https://localhost:8080/"
        },
        "id": "24TiRMczPDJn",
        "outputId": "5dfe69d4-fe38-4c52-821f-68af62f9d4ca"
      },
      "source": [
        "qda = QDA()\n",
        "qda.fit(X_train_selected, y_train)\n",
        "qda_pred = qda.predict(X_test_selected)"
      ],
      "execution_count": 60,
      "outputs": [
        {
          "output_type": "stream",
          "text": [
            "/usr/local/lib/python3.7/dist-packages/sklearn/utils/validation.py:760: DataConversionWarning: A column-vector y was passed when a 1d array was expected. Please change the shape of y to (n_samples, ), for example using ravel().\n",
            "  y = column_or_1d(y, warn=True)\n",
            "/usr/local/lib/python3.7/dist-packages/sklearn/discriminant_analysis.py:691: UserWarning: Variables are collinear\n",
            "  warnings.warn(\"Variables are collinear\")\n"
          ],
          "name": "stderr"
        }
      ]
    },
    {
      "cell_type": "code",
      "metadata": {
        "colab": {
          "base_uri": "https://localhost:8080/"
        },
        "id": "LNKmbATWPDN2",
        "outputId": "da0af541-f4a6-4a1a-f80c-943793c6b62f"
      },
      "source": [
        "cv = RepeatedStratifiedKFold(n_splits=10, n_repeats=3, random_state=1)\n",
        "\n",
        "#evaluate model\n",
        "scores = cross_val_score(qda, X_train_selected, y_train, scoring='accuracy', cv=cv, n_jobs=-1)\n",
        "print(np.mean(scores))  "
      ],
      "execution_count": 61,
      "outputs": [
        {
          "output_type": "stream",
          "text": [
            "0.6162280701754386\n"
          ],
          "name": "stdout"
        }
      ]
    },
    {
      "cell_type": "code",
      "metadata": {
        "colab": {
          "base_uri": "https://localhost:8080/"
        },
        "id": "mbnW7IyxdIwG",
        "outputId": "33e1fe44-bac4-4697-881c-3268b799cf4c"
      },
      "source": [
        "grid = {\r\n",
        "    'reg_param': (0.00001, 0.0001, 0.001,0.01, 0.1), \r\n",
        "    'store_covariance': (True, False),\r\n",
        "    'tol': (0.0001, 0.001,0.01, 0.1), \r\n",
        "                   }\r\n",
        "# define search\r\n",
        "qda_search = GridSearchCV(qda, grid, scoring='accuracy', cv=cv, n_jobs=-1)\r\n",
        "\r\n",
        "# fit the search\r\n",
        "qda_results = qda_search.fit(X_train, y_train)\r\n",
        "\r\n",
        "# summarize\r\n",
        "print('Mean Accuracy: %.3f' % qda_results.best_score_)\r\n",
        "print('The best parameters of the model: %s' % qda_results.best_params_)"
      ],
      "execution_count": 62,
      "outputs": [
        {
          "output_type": "stream",
          "text": [
            "Mean Accuracy: 0.747\n",
            "The best parameters of the model: {'reg_param': 0.01, 'store_covariance': True, 'tol': 0.0001}\n"
          ],
          "name": "stdout"
        },
        {
          "output_type": "stream",
          "text": [
            "/usr/local/lib/python3.7/dist-packages/sklearn/utils/validation.py:760: DataConversionWarning: A column-vector y was passed when a 1d array was expected. Please change the shape of y to (n_samples, ), for example using ravel().\n",
            "  y = column_or_1d(y, warn=True)\n",
            "/usr/local/lib/python3.7/dist-packages/sklearn/discriminant_analysis.py:691: UserWarning: Variables are collinear\n",
            "  warnings.warn(\"Variables are collinear\")\n"
          ],
          "name": "stderr"
        }
      ]
    },
    {
      "cell_type": "code",
      "metadata": {
        "colab": {
          "base_uri": "https://localhost:8080/"
        },
        "id": "Mwu7k6lLPDSU",
        "outputId": "d33a2d14-393e-4bd1-9345-fbfa86305a25"
      },
      "source": [
        "print('The best estimator of the model: ', qda_results.best_estimator_)\n",
        "print()\n",
        "print('-'*100)\n",
        "print('The best index of the model: ', qda_results.best_index_)\n",
        "print()\n",
        "print('-'*100)\n",
        "print('The best parameter of the model: ', qda_results.best_params_)\n",
        "print()\n",
        "print('-'*100)\n",
        "print('The best score of the model: ', qda_results.best_score_)\n"
      ],
      "execution_count": 63,
      "outputs": [
        {
          "output_type": "stream",
          "text": [
            "The best estimator of the model:  QuadraticDiscriminantAnalysis(priors=None, reg_param=0.01,\n",
            "                              store_covariance=True, tol=0.0001)\n",
            "\n",
            "----------------------------------------------------------------------------------------------------\n",
            "The best index of the model:  24\n",
            "\n",
            "----------------------------------------------------------------------------------------------------\n",
            "The best parameter of the model:  {'reg_param': 0.01, 'store_covariance': True, 'tol': 0.0001}\n",
            "\n",
            "----------------------------------------------------------------------------------------------------\n",
            "The best score of the model:  0.7471052631578947\n"
          ],
          "name": "stdout"
        }
      ]
    },
    {
      "cell_type": "markdown",
      "metadata": {
        "id": "bNrLuMRGP9iy"
      },
      "source": [
        "## Compare Models"
      ]
    },
    {
      "cell_type": "code",
      "metadata": {
        "colab": {
          "base_uri": "https://localhost:8080/",
          "height": 0
        },
        "id": "fmj5rN3PaIg8",
        "outputId": "49ecd028-5d09-4ef0-a7fa-3bb077f1a7bf"
      },
      "source": [
        "models = {'model': ['Logistic Regression', 'Random Forest', 'Decision Tree', 'Gaussian Naive Bayes', 'K Nearest Neighbors', 'Linear Discriminant Analysis', 'Quadratic Discriminant Analysis'],\n",
        "          'best_scores': [lr_results.best_score_, rf_results.best_score_, dt_results.best_score_, gnb_results.best_score_, knn_results.best_score_, lda_results.best_score_, qda_results.best_score_]}\n",
        "\n",
        "compare_models = pd.DataFrame(models)\n",
        "compare_models"
      ],
      "execution_count": 64,
      "outputs": [
        {
          "output_type": "execute_result",
          "data": {
            "text/html": [
              "<div>\n",
              "<style scoped>\n",
              "    .dataframe tbody tr th:only-of-type {\n",
              "        vertical-align: middle;\n",
              "    }\n",
              "\n",
              "    .dataframe tbody tr th {\n",
              "        vertical-align: top;\n",
              "    }\n",
              "\n",
              "    .dataframe thead th {\n",
              "        text-align: right;\n",
              "    }\n",
              "</style>\n",
              "<table border=\"1\" class=\"dataframe\">\n",
              "  <thead>\n",
              "    <tr style=\"text-align: right;\">\n",
              "      <th></th>\n",
              "      <th>model</th>\n",
              "      <th>best_scores</th>\n",
              "    </tr>\n",
              "  </thead>\n",
              "  <tbody>\n",
              "    <tr>\n",
              "      <th>0</th>\n",
              "      <td>Logistic Regression</td>\n",
              "      <td>0.715877</td>\n",
              "    </tr>\n",
              "    <tr>\n",
              "      <th>1</th>\n",
              "      <td>Random Forest</td>\n",
              "      <td>0.697368</td>\n",
              "    </tr>\n",
              "    <tr>\n",
              "      <th>2</th>\n",
              "      <td>Decision Tree</td>\n",
              "      <td>0.709123</td>\n",
              "    </tr>\n",
              "    <tr>\n",
              "      <th>3</th>\n",
              "      <td>Gaussian Naive Bayes</td>\n",
              "      <td>0.735965</td>\n",
              "    </tr>\n",
              "    <tr>\n",
              "      <th>4</th>\n",
              "      <td>K Nearest Neighbors</td>\n",
              "      <td>0.754298</td>\n",
              "    </tr>\n",
              "    <tr>\n",
              "      <th>5</th>\n",
              "      <td>Linear Discriminant Analysis</td>\n",
              "      <td>0.740789</td>\n",
              "    </tr>\n",
              "    <tr>\n",
              "      <th>6</th>\n",
              "      <td>Quadratic Discriminant Analysis</td>\n",
              "      <td>0.747105</td>\n",
              "    </tr>\n",
              "  </tbody>\n",
              "</table>\n",
              "</div>"
            ],
            "text/plain": [
              "                             model  best_scores\n",
              "0              Logistic Regression     0.715877\n",
              "1                    Random Forest     0.697368\n",
              "2                    Decision Tree     0.709123\n",
              "3             Gaussian Naive Bayes     0.735965\n",
              "4              K Nearest Neighbors     0.754298\n",
              "5     Linear Discriminant Analysis     0.740789\n",
              "6  Quadratic Discriminant Analysis     0.747105"
            ]
          },
          "metadata": {
            "tags": []
          },
          "execution_count": 64
        }
      ]
    },
    {
      "cell_type": "code",
      "metadata": {
        "colab": {
          "base_uri": "https://localhost:8080/",
          "height": 0
        },
        "id": "K-9UDvEUeZuC",
        "outputId": "f351ad73-484f-4284-8879-124a04f9238a"
      },
      "source": [
        "compare_models.sort_values('best_scores', ascending=False)"
      ],
      "execution_count": 65,
      "outputs": [
        {
          "output_type": "execute_result",
          "data": {
            "text/html": [
              "<div>\n",
              "<style scoped>\n",
              "    .dataframe tbody tr th:only-of-type {\n",
              "        vertical-align: middle;\n",
              "    }\n",
              "\n",
              "    .dataframe tbody tr th {\n",
              "        vertical-align: top;\n",
              "    }\n",
              "\n",
              "    .dataframe thead th {\n",
              "        text-align: right;\n",
              "    }\n",
              "</style>\n",
              "<table border=\"1\" class=\"dataframe\">\n",
              "  <thead>\n",
              "    <tr style=\"text-align: right;\">\n",
              "      <th></th>\n",
              "      <th>model</th>\n",
              "      <th>best_scores</th>\n",
              "    </tr>\n",
              "  </thead>\n",
              "  <tbody>\n",
              "    <tr>\n",
              "      <th>4</th>\n",
              "      <td>K Nearest Neighbors</td>\n",
              "      <td>0.754298</td>\n",
              "    </tr>\n",
              "    <tr>\n",
              "      <th>6</th>\n",
              "      <td>Quadratic Discriminant Analysis</td>\n",
              "      <td>0.747105</td>\n",
              "    </tr>\n",
              "    <tr>\n",
              "      <th>5</th>\n",
              "      <td>Linear Discriminant Analysis</td>\n",
              "      <td>0.740789</td>\n",
              "    </tr>\n",
              "    <tr>\n",
              "      <th>3</th>\n",
              "      <td>Gaussian Naive Bayes</td>\n",
              "      <td>0.735965</td>\n",
              "    </tr>\n",
              "    <tr>\n",
              "      <th>0</th>\n",
              "      <td>Logistic Regression</td>\n",
              "      <td>0.715877</td>\n",
              "    </tr>\n",
              "    <tr>\n",
              "      <th>2</th>\n",
              "      <td>Decision Tree</td>\n",
              "      <td>0.709123</td>\n",
              "    </tr>\n",
              "    <tr>\n",
              "      <th>1</th>\n",
              "      <td>Random Forest</td>\n",
              "      <td>0.697368</td>\n",
              "    </tr>\n",
              "  </tbody>\n",
              "</table>\n",
              "</div>"
            ],
            "text/plain": [
              "                             model  best_scores\n",
              "4              K Nearest Neighbors     0.754298\n",
              "6  Quadratic Discriminant Analysis     0.747105\n",
              "5     Linear Discriminant Analysis     0.740789\n",
              "3             Gaussian Naive Bayes     0.735965\n",
              "0              Logistic Regression     0.715877\n",
              "2                    Decision Tree     0.709123\n",
              "1                    Random Forest     0.697368"
            ]
          },
          "metadata": {
            "tags": []
          },
          "execution_count": 65
        }
      ]
    },
    {
      "cell_type": "markdown",
      "metadata": {
        "id": "OQ--lJAZf3Y1"
      },
      "source": [
        "## Artificial Neural Network Model Using Keras"
      ]
    },
    {
      "cell_type": "code",
      "metadata": {
        "id": "EJl-YKZyf07G"
      },
      "source": [
        "import keras\r\n",
        "from keras.models import Sequential\r\n",
        "from keras.layers import Dense\r\n",
        "from keras.losses import sparse_categorical_crossentropy\r\n",
        "from keras.metrics import Accuracy"
      ],
      "execution_count": 66,
      "outputs": []
    },
    {
      "cell_type": "code",
      "metadata": {
        "id": "fSLTXotwmQbc"
      },
      "source": [
        "model = Sequential(\r\n",
        "    [\r\n",
        "        keras.Input(shape=(X_train_selected.shape[1],)),\r\n",
        "        Dense(20, activation='relu', name='layer1'),\r\n",
        "        Dense(10, activation='relu', name='layer2'),\r\n",
        "        Dense(5, activation='relu', name='layer3'),\r\n",
        "        Dense(1, name='layer4')\r\n",
        "    ])"
      ],
      "execution_count": 67,
      "outputs": []
    },
    {
      "cell_type": "code",
      "metadata": {
        "id": "-1zHEKImnFo7"
      },
      "source": [
        "model.compile(optimizer='adam', loss='mean_squared_error', metrics='Accuracy')"
      ],
      "execution_count": 68,
      "outputs": []
    },
    {
      "cell_type": "code",
      "metadata": {
        "colab": {
          "base_uri": "https://localhost:8080/"
        },
        "id": "QalX4n5qqrdK",
        "outputId": "ad47c561-a701-4e18-e765-c7682368329d"
      },
      "source": [
        "model.fit(X_train_selected, y_train, epochs=20, batch_size=20, verbose=0)\r\n"
      ],
      "execution_count": 69,
      "outputs": [
        {
          "output_type": "execute_result",
          "data": {
            "text/plain": [
              "<tensorflow.python.keras.callbacks.History at 0x7f375d0d4e50>"
            ]
          },
          "metadata": {
            "tags": []
          },
          "execution_count": 69
        }
      ]
    },
    {
      "cell_type": "code",
      "metadata": {
        "colab": {
          "base_uri": "https://localhost:8080/"
        },
        "id": "8DY9AVyFrOB_",
        "outputId": "572de7d3-4265-45b5-f23b-8aabb81d098b"
      },
      "source": [
        "model.evaluate(X_test_selected, y_test, verbose=2)"
      ],
      "execution_count": 70,
      "outputs": [
        {
          "output_type": "stream",
          "text": [
            "3/3 - 0s - loss: 0.1962 - accuracy: 0.0000e+00\n"
          ],
          "name": "stdout"
        },
        {
          "output_type": "execute_result",
          "data": {
            "text/plain": [
              "[0.1961711198091507, 0.0]"
            ]
          },
          "metadata": {
            "tags": []
          },
          "execution_count": 70
        }
      ]
    },
    {
      "cell_type": "code",
      "metadata": {
        "colab": {
          "base_uri": "https://localhost:8080/"
        },
        "id": "rGdvZH3hrQ8I",
        "outputId": "5c253d03-d917-4939-b07e-ea23ebe809b5"
      },
      "source": [
        "model.predict(X_test_selected, batch_size=32, verbose=1)[:10]"
      ],
      "execution_count": 71,
      "outputs": [
        {
          "output_type": "stream",
          "text": [
            "3/3 [==============================] - 0s 4ms/step\n"
          ],
          "name": "stdout"
        },
        {
          "output_type": "execute_result",
          "data": {
            "text/plain": [
              "array([[0.18526368],\n",
              "       [0.10911795],\n",
              "       [0.43303433],\n",
              "       [0.27718818],\n",
              "       [0.50732654],\n",
              "       [0.67074513],\n",
              "       [0.27718818],\n",
              "       [0.24392019],\n",
              "       [0.8143382 ],\n",
              "       [0.18158345]], dtype=float32)"
            ]
          },
          "metadata": {
            "tags": []
          },
          "execution_count": 71
        }
      ]
    },
    {
      "cell_type": "code",
      "metadata": {
        "colab": {
          "base_uri": "https://localhost:8080/"
        },
        "id": "aytZXYzN4sBE",
        "outputId": "14a97d71-b505-46b1-fcef-fe4fb8595ba8"
      },
      "source": [
        "model.summary()"
      ],
      "execution_count": 72,
      "outputs": [
        {
          "output_type": "stream",
          "text": [
            "Model: \"sequential\"\n",
            "_________________________________________________________________\n",
            "Layer (type)                 Output Shape              Param #   \n",
            "=================================================================\n",
            "layer1 (Dense)               (None, 20)                420       \n",
            "_________________________________________________________________\n",
            "layer2 (Dense)               (None, 10)                210       \n",
            "_________________________________________________________________\n",
            "layer3 (Dense)               (None, 5)                 55        \n",
            "_________________________________________________________________\n",
            "layer4 (Dense)               (None, 1)                 6         \n",
            "=================================================================\n",
            "Total params: 691\n",
            "Trainable params: 691\n",
            "Non-trainable params: 0\n",
            "_________________________________________________________________\n"
          ],
          "name": "stdout"
        }
      ]
    },
    {
      "cell_type": "code",
      "metadata": {
        "id": "UQhJDDL0x12_"
      },
      "source": [
        "def regression_model():\r\n",
        "    model = Sequential()\r\n",
        "    model.add(Dense(20, activation='relu', input_shape = (X_train_selected.shape[1],)))\r\n",
        "    model.add(Dense(10, activation='relu'))\r\n",
        "    model.add(Dense(5, activation='softmax'))\r\n",
        "    model.add(Dense(1))\r\n",
        "\r\n",
        "    model.compile(optimizer='adam', loss='mean_squared_error')\r\n",
        "    return model"
      ],
      "execution_count": 73,
      "outputs": []
    },
    {
      "cell_type": "code",
      "metadata": {
        "id": "5p2tdmv5y2Ou"
      },
      "source": [
        "model = regression_model()"
      ],
      "execution_count": 74,
      "outputs": []
    },
    {
      "cell_type": "code",
      "metadata": {
        "colab": {
          "base_uri": "https://localhost:8080/"
        },
        "id": "OYl2RNHLy76H",
        "outputId": "0d0099c8-b154-4060-b2c1-dc0a93e9c36b"
      },
      "source": [
        "model.fit(X_train_selected, y_train, validation_data = (X_test_selected, y_test), epochs=50, verbose=2)"
      ],
      "execution_count": 75,
      "outputs": [
        {
          "output_type": "stream",
          "text": [
            "Epoch 1/50\n",
            "7/7 - 1s - loss: 0.6956 - val_loss: 0.6852\n",
            "Epoch 2/50\n",
            "7/7 - 0s - loss: 0.6588 - val_loss: 0.6496\n",
            "Epoch 3/50\n",
            "7/7 - 0s - loss: 0.6254 - val_loss: 0.6160\n",
            "Epoch 4/50\n",
            "7/7 - 0s - loss: 0.5911 - val_loss: 0.5812\n",
            "Epoch 5/50\n",
            "7/7 - 0s - loss: 0.5558 - val_loss: 0.5468\n",
            "Epoch 6/50\n",
            "7/7 - 0s - loss: 0.5200 - val_loss: 0.5092\n",
            "Epoch 7/50\n",
            "7/7 - 0s - loss: 0.4767 - val_loss: 0.4675\n",
            "Epoch 8/50\n",
            "7/7 - 0s - loss: 0.4275 - val_loss: 0.4194\n",
            "Epoch 9/50\n",
            "7/7 - 0s - loss: 0.3728 - val_loss: 0.3682\n",
            "Epoch 10/50\n",
            "7/7 - 0s - loss: 0.3203 - val_loss: 0.3231\n",
            "Epoch 11/50\n",
            "7/7 - 0s - loss: 0.2755 - val_loss: 0.2903\n",
            "Epoch 12/50\n",
            "7/7 - 0s - loss: 0.2504 - val_loss: 0.2667\n",
            "Epoch 13/50\n",
            "7/7 - 0s - loss: 0.2321 - val_loss: 0.2529\n",
            "Epoch 14/50\n",
            "7/7 - 0s - loss: 0.2234 - val_loss: 0.2435\n",
            "Epoch 15/50\n",
            "7/7 - 0s - loss: 0.2171 - val_loss: 0.2376\n",
            "Epoch 16/50\n",
            "7/7 - 0s - loss: 0.2135 - val_loss: 0.2334\n",
            "Epoch 17/50\n",
            "7/7 - 0s - loss: 0.2115 - val_loss: 0.2303\n",
            "Epoch 18/50\n",
            "7/7 - 0s - loss: 0.2093 - val_loss: 0.2275\n",
            "Epoch 19/50\n",
            "7/7 - 0s - loss: 0.2076 - val_loss: 0.2251\n",
            "Epoch 20/50\n",
            "7/7 - 0s - loss: 0.2068 - val_loss: 0.2235\n",
            "Epoch 21/50\n",
            "7/7 - 0s - loss: 0.2060 - val_loss: 0.2226\n",
            "Epoch 22/50\n",
            "7/7 - 0s - loss: 0.2053 - val_loss: 0.2220\n",
            "Epoch 23/50\n",
            "7/7 - 0s - loss: 0.2047 - val_loss: 0.2210\n",
            "Epoch 24/50\n",
            "7/7 - 0s - loss: 0.2040 - val_loss: 0.2203\n",
            "Epoch 25/50\n",
            "7/7 - 0s - loss: 0.2032 - val_loss: 0.2197\n",
            "Epoch 26/50\n",
            "7/7 - 0s - loss: 0.2027 - val_loss: 0.2190\n",
            "Epoch 27/50\n",
            "7/7 - 0s - loss: 0.2019 - val_loss: 0.2186\n",
            "Epoch 28/50\n",
            "7/7 - 0s - loss: 0.2012 - val_loss: 0.2181\n",
            "Epoch 29/50\n",
            "7/7 - 0s - loss: 0.2004 - val_loss: 0.2178\n",
            "Epoch 30/50\n",
            "7/7 - 0s - loss: 0.1994 - val_loss: 0.2171\n",
            "Epoch 31/50\n",
            "7/7 - 0s - loss: 0.1988 - val_loss: 0.2168\n",
            "Epoch 32/50\n",
            "7/7 - 0s - loss: 0.1979 - val_loss: 0.2162\n",
            "Epoch 33/50\n",
            "7/7 - 0s - loss: 0.1971 - val_loss: 0.2158\n",
            "Epoch 34/50\n",
            "7/7 - 0s - loss: 0.1964 - val_loss: 0.2150\n",
            "Epoch 35/50\n",
            "7/7 - 0s - loss: 0.1955 - val_loss: 0.2142\n",
            "Epoch 36/50\n",
            "7/7 - 0s - loss: 0.1948 - val_loss: 0.2136\n",
            "Epoch 37/50\n",
            "7/7 - 0s - loss: 0.1940 - val_loss: 0.2130\n",
            "Epoch 38/50\n",
            "7/7 - 0s - loss: 0.1930 - val_loss: 0.2120\n",
            "Epoch 39/50\n",
            "7/7 - 0s - loss: 0.1924 - val_loss: 0.2110\n",
            "Epoch 40/50\n",
            "7/7 - 0s - loss: 0.1917 - val_loss: 0.2104\n",
            "Epoch 41/50\n",
            "7/7 - 0s - loss: 0.1909 - val_loss: 0.2099\n",
            "Epoch 42/50\n",
            "7/7 - 0s - loss: 0.1900 - val_loss: 0.2096\n",
            "Epoch 43/50\n",
            "7/7 - 0s - loss: 0.1894 - val_loss: 0.2093\n",
            "Epoch 44/50\n",
            "7/7 - 0s - loss: 0.1888 - val_loss: 0.2090\n",
            "Epoch 45/50\n",
            "7/7 - 0s - loss: 0.1883 - val_loss: 0.2088\n",
            "Epoch 46/50\n",
            "7/7 - 0s - loss: 0.1877 - val_loss: 0.2085\n",
            "Epoch 47/50\n",
            "7/7 - 0s - loss: 0.1872 - val_loss: 0.2082\n",
            "Epoch 48/50\n",
            "7/7 - 0s - loss: 0.1866 - val_loss: 0.2079\n",
            "Epoch 49/50\n",
            "7/7 - 0s - loss: 0.1861 - val_loss: 0.2073\n",
            "Epoch 50/50\n",
            "7/7 - 0s - loss: 0.1856 - val_loss: 0.2070\n"
          ],
          "name": "stdout"
        },
        {
          "output_type": "execute_result",
          "data": {
            "text/plain": [
              "<tensorflow.python.keras.callbacks.History at 0x7f375a928610>"
            ]
          },
          "metadata": {
            "tags": []
          },
          "execution_count": 75
        }
      ]
    },
    {
      "cell_type": "code",
      "metadata": {
        "id": "qEveJgVZPcBA"
      },
      "source": [
        "predictions = model.predict(X_test_selected)"
      ],
      "execution_count": 76,
      "outputs": []
    },
    {
      "cell_type": "code",
      "metadata": {
        "colab": {
          "base_uri": "https://localhost:8080/"
        },
        "id": "HIPBpMRvQd-v",
        "outputId": "1a7dda05-0a93-469c-f2e7-1013323e8caa"
      },
      "source": [
        "predictions.shape"
      ],
      "execution_count": 77,
      "outputs": [
        {
          "output_type": "execute_result",
          "data": {
            "text/plain": [
              "(86, 1)"
            ]
          },
          "metadata": {
            "tags": []
          },
          "execution_count": 77
        }
      ]
    },
    {
      "cell_type": "code",
      "metadata": {
        "colab": {
          "base_uri": "https://localhost:8080/"
        },
        "id": "Z9n1PggdPkV-",
        "outputId": "d10afb02-1698-4812-950a-1820c0ab84af"
      },
      "source": [
        "predictions[0:10]"
      ],
      "execution_count": 78,
      "outputs": [
        {
          "output_type": "execute_result",
          "data": {
            "text/plain": [
              "array([[0.20979832],\n",
              "       [0.11312766],\n",
              "       [0.41476333],\n",
              "       [0.27393952],\n",
              "       [0.06392576],\n",
              "       [0.43345553],\n",
              "       [0.27393952],\n",
              "       [0.121886  ],\n",
              "       [0.41062498],\n",
              "       [0.19841614]], dtype=float32)"
            ]
          },
          "metadata": {
            "tags": []
          },
          "execution_count": 78
        }
      ]
    },
    {
      "cell_type": "code",
      "metadata": {
        "id": "43DxJg4aPry0"
      },
      "source": [
        "predictions = predictions.flatten()\r\n"
      ],
      "execution_count": 79,
      "outputs": []
    },
    {
      "cell_type": "code",
      "metadata": {
        "id": "k8M52_vgTZTP"
      },
      "source": [
        "y1 = y_test.reset_index()"
      ],
      "execution_count": 80,
      "outputs": []
    },
    {
      "cell_type": "code",
      "metadata": {
        "id": "SPG5wLAZUQq2"
      },
      "source": [
        "y1 = y1.iloc[:,1]"
      ],
      "execution_count": 81,
      "outputs": []
    },
    {
      "cell_type": "code",
      "metadata": {
        "colab": {
          "base_uri": "https://localhost:8080/",
          "height": 415
        },
        "id": "vn5vlvdBPy49",
        "outputId": "a60a1c81-8b91-44c0-de19-82c0f322cba5"
      },
      "source": [
        "preds = ({'Actual': y1, 'Predicted': predictions})\r\n",
        "\r\n",
        "pd.DataFrame(preds)"
      ],
      "execution_count": 82,
      "outputs": [
        {
          "output_type": "execute_result",
          "data": {
            "text/html": [
              "<div>\n",
              "<style scoped>\n",
              "    .dataframe tbody tr th:only-of-type {\n",
              "        vertical-align: middle;\n",
              "    }\n",
              "\n",
              "    .dataframe tbody tr th {\n",
              "        vertical-align: top;\n",
              "    }\n",
              "\n",
              "    .dataframe thead th {\n",
              "        text-align: right;\n",
              "    }\n",
              "</style>\n",
              "<table border=\"1\" class=\"dataframe\">\n",
              "  <thead>\n",
              "    <tr style=\"text-align: right;\">\n",
              "      <th></th>\n",
              "      <th>Actual</th>\n",
              "      <th>Predicted</th>\n",
              "    </tr>\n",
              "  </thead>\n",
              "  <tbody>\n",
              "    <tr>\n",
              "      <th>0</th>\n",
              "      <td>0</td>\n",
              "      <td>0.209798</td>\n",
              "    </tr>\n",
              "    <tr>\n",
              "      <th>1</th>\n",
              "      <td>0</td>\n",
              "      <td>0.113128</td>\n",
              "    </tr>\n",
              "    <tr>\n",
              "      <th>2</th>\n",
              "      <td>0</td>\n",
              "      <td>0.414763</td>\n",
              "    </tr>\n",
              "    <tr>\n",
              "      <th>3</th>\n",
              "      <td>1</td>\n",
              "      <td>0.273940</td>\n",
              "    </tr>\n",
              "    <tr>\n",
              "      <th>4</th>\n",
              "      <td>1</td>\n",
              "      <td>0.063926</td>\n",
              "    </tr>\n",
              "    <tr>\n",
              "      <th>...</th>\n",
              "      <td>...</td>\n",
              "      <td>...</td>\n",
              "    </tr>\n",
              "    <tr>\n",
              "      <th>81</th>\n",
              "      <td>0</td>\n",
              "      <td>0.143971</td>\n",
              "    </tr>\n",
              "    <tr>\n",
              "      <th>82</th>\n",
              "      <td>1</td>\n",
              "      <td>0.364882</td>\n",
              "    </tr>\n",
              "    <tr>\n",
              "      <th>83</th>\n",
              "      <td>0</td>\n",
              "      <td>0.138410</td>\n",
              "    </tr>\n",
              "    <tr>\n",
              "      <th>84</th>\n",
              "      <td>1</td>\n",
              "      <td>0.433876</td>\n",
              "    </tr>\n",
              "    <tr>\n",
              "      <th>85</th>\n",
              "      <td>1</td>\n",
              "      <td>0.307074</td>\n",
              "    </tr>\n",
              "  </tbody>\n",
              "</table>\n",
              "<p>86 rows × 2 columns</p>\n",
              "</div>"
            ],
            "text/plain": [
              "    Actual  Predicted\n",
              "0        0   0.209798\n",
              "1        0   0.113128\n",
              "2        0   0.414763\n",
              "3        1   0.273940\n",
              "4        1   0.063926\n",
              "..     ...        ...\n",
              "81       0   0.143971\n",
              "82       1   0.364882\n",
              "83       0   0.138410\n",
              "84       1   0.433876\n",
              "85       1   0.307074\n",
              "\n",
              "[86 rows x 2 columns]"
            ]
          },
          "metadata": {
            "tags": []
          },
          "execution_count": 82
        }
      ]
    },
    {
      "cell_type": "code",
      "metadata": {
        "colab": {
          "base_uri": "https://localhost:8080/"
        },
        "id": "9fEuFV7iUx6a",
        "outputId": "9dd2c01e-0d4c-470e-ad7a-25d529a143fe"
      },
      "source": [
        "mse = mean_squared_error(y_test, predictions)\r\n",
        "mse"
      ],
      "execution_count": 83,
      "outputs": [
        {
          "output_type": "execute_result",
          "data": {
            "text/plain": [
              "0.2069986"
            ]
          },
          "metadata": {
            "tags": []
          },
          "execution_count": 83
        }
      ]
    },
    {
      "cell_type": "markdown",
      "metadata": {
        "id": "aDExJ1fm9tkg"
      },
      "source": [
        ""
      ]
    }
  ]
}