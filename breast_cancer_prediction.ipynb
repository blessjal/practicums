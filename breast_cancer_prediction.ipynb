{
  "nbformat": 4,
  "nbformat_minor": 0,
  "metadata": {
    "colab": {
      "name": "breast-cancer-prediction.ipynb",
      "provenance": [],
      "collapsed_sections": [],
      "authorship_tag": "ABX9TyOb7ZWwtDQXMWoFVazAFAlV",
      "include_colab_link": true
    },
    "kernelspec": {
      "name": "python3",
      "display_name": "Python 3"
    }
  },
  "cells": [
    {
      "cell_type": "markdown",
      "metadata": {
        "id": "view-in-github",
        "colab_type": "text"
      },
      "source": [
        "<a href=\"https://colab.research.google.com/github/blessjal/practicums/blob/master/breast_cancer_prediction.ipynb\" target=\"_parent\"><img src=\"https://colab.research.google.com/assets/colab-badge.svg\" alt=\"Open In Colab\"/></a>"
      ]
    },
    {
      "cell_type": "code",
      "metadata": {
        "id": "khoV8ls98X09"
      },
      "source": [
        "import pandas as pd\n",
        "import numpy as np\n",
        "import seaborn as sns\n",
        "import matplotlib.pyplot as plt\n",
        "from sklearn.preprocessing import StandardScaler\n",
        "from sklearn.model_selection import train_test_split\n",
        "from sklearn.linear_model import LinearRegression, LogisticRegression\n",
        "from sklearn.ensemble import RandomForestClassifier\n",
        "from sklearn.metrics import mean_squared_error, accuracy_score, confusion_matrix\n",
        "\n",
        "%matplotlib inline\n",
        "plt.style.use('ggplot')"
      ],
      "execution_count": 48,
      "outputs": []
    },
    {
      "cell_type": "code",
      "metadata": {
        "colab": {
          "base_uri": "https://localhost:8080/",
          "height": 204
        },
        "id": "_lHg-qvO8JYA",
        "outputId": "b06f017c-76d7-4a62-9509-dff234d986ce"
      },
      "source": [
        "df = pd.read_csv('/content/sample_data/breast-cancer.data')\n",
        "\n",
        "df.head()"
      ],
      "execution_count": 49,
      "outputs": [
        {
          "output_type": "execute_result",
          "data": {
            "text/html": [
              "<div>\n",
              "<style scoped>\n",
              "    .dataframe tbody tr th:only-of-type {\n",
              "        vertical-align: middle;\n",
              "    }\n",
              "\n",
              "    .dataframe tbody tr th {\n",
              "        vertical-align: top;\n",
              "    }\n",
              "\n",
              "    .dataframe thead th {\n",
              "        text-align: right;\n",
              "    }\n",
              "</style>\n",
              "<table border=\"1\" class=\"dataframe\">\n",
              "  <thead>\n",
              "    <tr style=\"text-align: right;\">\n",
              "      <th></th>\n",
              "      <th>no-recurrence-events</th>\n",
              "      <th>30-39</th>\n",
              "      <th>premeno</th>\n",
              "      <th>30-34</th>\n",
              "      <th>0-2</th>\n",
              "      <th>no</th>\n",
              "      <th>3</th>\n",
              "      <th>left</th>\n",
              "      <th>left_low</th>\n",
              "      <th>no.1</th>\n",
              "    </tr>\n",
              "  </thead>\n",
              "  <tbody>\n",
              "    <tr>\n",
              "      <th>0</th>\n",
              "      <td>no-recurrence-events</td>\n",
              "      <td>40-49</td>\n",
              "      <td>premeno</td>\n",
              "      <td>20-24</td>\n",
              "      <td>0-2</td>\n",
              "      <td>no</td>\n",
              "      <td>2</td>\n",
              "      <td>right</td>\n",
              "      <td>right_up</td>\n",
              "      <td>no</td>\n",
              "    </tr>\n",
              "    <tr>\n",
              "      <th>1</th>\n",
              "      <td>no-recurrence-events</td>\n",
              "      <td>40-49</td>\n",
              "      <td>premeno</td>\n",
              "      <td>20-24</td>\n",
              "      <td>0-2</td>\n",
              "      <td>no</td>\n",
              "      <td>2</td>\n",
              "      <td>left</td>\n",
              "      <td>left_low</td>\n",
              "      <td>no</td>\n",
              "    </tr>\n",
              "    <tr>\n",
              "      <th>2</th>\n",
              "      <td>no-recurrence-events</td>\n",
              "      <td>60-69</td>\n",
              "      <td>ge40</td>\n",
              "      <td>15-19</td>\n",
              "      <td>0-2</td>\n",
              "      <td>no</td>\n",
              "      <td>2</td>\n",
              "      <td>right</td>\n",
              "      <td>left_up</td>\n",
              "      <td>no</td>\n",
              "    </tr>\n",
              "    <tr>\n",
              "      <th>3</th>\n",
              "      <td>no-recurrence-events</td>\n",
              "      <td>40-49</td>\n",
              "      <td>premeno</td>\n",
              "      <td>0-4</td>\n",
              "      <td>0-2</td>\n",
              "      <td>no</td>\n",
              "      <td>2</td>\n",
              "      <td>right</td>\n",
              "      <td>right_low</td>\n",
              "      <td>no</td>\n",
              "    </tr>\n",
              "    <tr>\n",
              "      <th>4</th>\n",
              "      <td>no-recurrence-events</td>\n",
              "      <td>60-69</td>\n",
              "      <td>ge40</td>\n",
              "      <td>15-19</td>\n",
              "      <td>0-2</td>\n",
              "      <td>no</td>\n",
              "      <td>2</td>\n",
              "      <td>left</td>\n",
              "      <td>left_low</td>\n",
              "      <td>no</td>\n",
              "    </tr>\n",
              "  </tbody>\n",
              "</table>\n",
              "</div>"
            ],
            "text/plain": [
              "   no-recurrence-events  30-39  premeno  30-34  ...  3   left   left_low no.1\n",
              "0  no-recurrence-events  40-49  premeno  20-24  ...  2  right   right_up   no\n",
              "1  no-recurrence-events  40-49  premeno  20-24  ...  2   left   left_low   no\n",
              "2  no-recurrence-events  60-69     ge40  15-19  ...  2  right    left_up   no\n",
              "3  no-recurrence-events  40-49  premeno    0-4  ...  2  right  right_low   no\n",
              "4  no-recurrence-events  60-69     ge40  15-19  ...  2   left   left_low   no\n",
              "\n",
              "[5 rows x 10 columns]"
            ]
          },
          "metadata": {
            "tags": []
          },
          "execution_count": 49
        }
      ]
    },
    {
      "cell_type": "code",
      "metadata": {
        "colab": {
          "base_uri": "https://localhost:8080/",
          "height": 204
        },
        "id": "kD1gPd4z9Gn6",
        "outputId": "6875927a-fcdb-43f7-9726-aed55296f1f7"
      },
      "source": [
        " \n",
        "columns = [ 'Class', 'age','menopause','tumor-size','inv-nodes','node-caps','deg-malig','breast','breast-quad','irradiat']\n",
        "df.columns = columns\n",
        "df.head()"
      ],
      "execution_count": 50,
      "outputs": [
        {
          "output_type": "execute_result",
          "data": {
            "text/html": [
              "<div>\n",
              "<style scoped>\n",
              "    .dataframe tbody tr th:only-of-type {\n",
              "        vertical-align: middle;\n",
              "    }\n",
              "\n",
              "    .dataframe tbody tr th {\n",
              "        vertical-align: top;\n",
              "    }\n",
              "\n",
              "    .dataframe thead th {\n",
              "        text-align: right;\n",
              "    }\n",
              "</style>\n",
              "<table border=\"1\" class=\"dataframe\">\n",
              "  <thead>\n",
              "    <tr style=\"text-align: right;\">\n",
              "      <th></th>\n",
              "      <th>Class</th>\n",
              "      <th>age</th>\n",
              "      <th>menopause</th>\n",
              "      <th>tumor-size</th>\n",
              "      <th>inv-nodes</th>\n",
              "      <th>node-caps</th>\n",
              "      <th>deg-malig</th>\n",
              "      <th>breast</th>\n",
              "      <th>breast-quad</th>\n",
              "      <th>irradiat</th>\n",
              "    </tr>\n",
              "  </thead>\n",
              "  <tbody>\n",
              "    <tr>\n",
              "      <th>0</th>\n",
              "      <td>no-recurrence-events</td>\n",
              "      <td>40-49</td>\n",
              "      <td>premeno</td>\n",
              "      <td>20-24</td>\n",
              "      <td>0-2</td>\n",
              "      <td>no</td>\n",
              "      <td>2</td>\n",
              "      <td>right</td>\n",
              "      <td>right_up</td>\n",
              "      <td>no</td>\n",
              "    </tr>\n",
              "    <tr>\n",
              "      <th>1</th>\n",
              "      <td>no-recurrence-events</td>\n",
              "      <td>40-49</td>\n",
              "      <td>premeno</td>\n",
              "      <td>20-24</td>\n",
              "      <td>0-2</td>\n",
              "      <td>no</td>\n",
              "      <td>2</td>\n",
              "      <td>left</td>\n",
              "      <td>left_low</td>\n",
              "      <td>no</td>\n",
              "    </tr>\n",
              "    <tr>\n",
              "      <th>2</th>\n",
              "      <td>no-recurrence-events</td>\n",
              "      <td>60-69</td>\n",
              "      <td>ge40</td>\n",
              "      <td>15-19</td>\n",
              "      <td>0-2</td>\n",
              "      <td>no</td>\n",
              "      <td>2</td>\n",
              "      <td>right</td>\n",
              "      <td>left_up</td>\n",
              "      <td>no</td>\n",
              "    </tr>\n",
              "    <tr>\n",
              "      <th>3</th>\n",
              "      <td>no-recurrence-events</td>\n",
              "      <td>40-49</td>\n",
              "      <td>premeno</td>\n",
              "      <td>0-4</td>\n",
              "      <td>0-2</td>\n",
              "      <td>no</td>\n",
              "      <td>2</td>\n",
              "      <td>right</td>\n",
              "      <td>right_low</td>\n",
              "      <td>no</td>\n",
              "    </tr>\n",
              "    <tr>\n",
              "      <th>4</th>\n",
              "      <td>no-recurrence-events</td>\n",
              "      <td>60-69</td>\n",
              "      <td>ge40</td>\n",
              "      <td>15-19</td>\n",
              "      <td>0-2</td>\n",
              "      <td>no</td>\n",
              "      <td>2</td>\n",
              "      <td>left</td>\n",
              "      <td>left_low</td>\n",
              "      <td>no</td>\n",
              "    </tr>\n",
              "  </tbody>\n",
              "</table>\n",
              "</div>"
            ],
            "text/plain": [
              "                  Class    age menopause  ... breast breast-quad irradiat\n",
              "0  no-recurrence-events  40-49   premeno  ...  right    right_up       no\n",
              "1  no-recurrence-events  40-49   premeno  ...   left    left_low       no\n",
              "2  no-recurrence-events  60-69      ge40  ...  right     left_up       no\n",
              "3  no-recurrence-events  40-49   premeno  ...  right   right_low       no\n",
              "4  no-recurrence-events  60-69      ge40  ...   left    left_low       no\n",
              "\n",
              "[5 rows x 10 columns]"
            ]
          },
          "metadata": {
            "tags": []
          },
          "execution_count": 50
        }
      ]
    },
    {
      "cell_type": "code",
      "metadata": {
        "colab": {
          "base_uri": "https://localhost:8080/"
        },
        "id": "z3t9m4Ro2kIZ",
        "outputId": "8b2eeedd-93e9-498b-97c6-d1902e78b984"
      },
      "source": [
        "df.dtypes"
      ],
      "execution_count": 51,
      "outputs": [
        {
          "output_type": "execute_result",
          "data": {
            "text/plain": [
              "Class          object\n",
              "age            object\n",
              "menopause      object\n",
              "tumor-size     object\n",
              "inv-nodes      object\n",
              "node-caps      object\n",
              "deg-malig       int64\n",
              "breast         object\n",
              "breast-quad    object\n",
              "irradiat       object\n",
              "dtype: object"
            ]
          },
          "metadata": {
            "tags": []
          },
          "execution_count": 51
        }
      ]
    },
    {
      "cell_type": "code",
      "metadata": {
        "colab": {
          "base_uri": "https://localhost:8080/"
        },
        "id": "Sjl9WxNfCnCP",
        "outputId": "a66ad777-dfce-4724-edd4-6f9a16fcae18"
      },
      "source": [
        "df.info()"
      ],
      "execution_count": 54,
      "outputs": [
        {
          "output_type": "stream",
          "text": [
            "<class 'pandas.core.frame.DataFrame'>\n",
            "RangeIndex: 285 entries, 0 to 284\n",
            "Data columns (total 10 columns):\n",
            " #   Column       Non-Null Count  Dtype \n",
            "---  ------       --------------  ----- \n",
            " 0   Class        285 non-null    object\n",
            " 1   age          285 non-null    object\n",
            " 2   menopause    285 non-null    object\n",
            " 3   tumor-size   285 non-null    object\n",
            " 4   inv-nodes    285 non-null    object\n",
            " 5   node-caps    285 non-null    object\n",
            " 6   deg-malig    285 non-null    int64 \n",
            " 7   breast       285 non-null    object\n",
            " 8   breast-quad  285 non-null    object\n",
            " 9   irradiat     285 non-null    object\n",
            "dtypes: int64(1), object(9)\n",
            "memory usage: 22.4+ KB\n"
          ],
          "name": "stdout"
        }
      ]
    },
    {
      "cell_type": "code",
      "metadata": {
        "colab": {
          "base_uri": "https://localhost:8080/"
        },
        "id": "iG2YtF3nhjuc",
        "outputId": "9c7ba4bc-0064-40e3-bf8a-cd935894ca34"
      },
      "source": [
        "X = df.drop('Class', axis=1)\n",
        "y = df['Class']\n",
        "\n",
        "X.shape, y.shape"
      ],
      "execution_count": 61,
      "outputs": [
        {
          "output_type": "execute_result",
          "data": {
            "text/plain": [
              "((285, 9), (285,))"
            ]
          },
          "metadata": {
            "tags": []
          },
          "execution_count": 61
        }
      ]
    },
    {
      "cell_type": "code",
      "metadata": {
        "id": "g4djTKbtTQj4",
        "colab": {
          "base_uri": "https://localhost:8080/"
        },
        "outputId": "7d22fa46-6b86-4dca-ad80-922e5b0fdac4"
      },
      "source": [
        "\n",
        "for col_name in X.columns:\n",
        "    if X[col_name].dtypes == 'object':\n",
        "        unique_cat = len(X[col_name].unique())\n",
        "        print(\"Feature '{col_name}' has '{unique_cat}' unique categories\".format(col_name=col_name, unique_cat=unique_cat))"
      ],
      "execution_count": 6,
      "outputs": [
        {
          "output_type": "stream",
          "text": [
            "Feature 'age' has '6' unique categories\n",
            "Feature 'menopause' has '3' unique categories\n",
            "Feature 'tumor-size' has '11' unique categories\n",
            "Feature 'inv-nodes' has '7' unique categories\n",
            "Feature 'node-caps' has '3' unique categories\n",
            "Feature 'breast' has '2' unique categories\n",
            "Feature 'breast-quad' has '6' unique categories\n",
            "Feature 'irradiat' has '2' unique categories\n"
          ],
          "name": "stdout"
        }
      ]
    },
    {
      "cell_type": "code",
      "metadata": {
        "id": "XHq-LmpsY9Vd"
      },
      "source": [
        "todummy_list = ['menopause', 'node-caps', 'breast', 'breast-quad', 'irradiat', 'age', 'tumor-size', 'inv-nodes']\n",
        "def dummy_df(df, todummy_list):\n",
        "    for x in todummy_list:\n",
        "        dummies = pd.get_dummies(df[x], prefix=x, dummy_na=False)\n",
        "        df = df.drop(x, axis=1)\n",
        "        df = pd. concat([df, dummies], axis=1)\n",
        "    return df"
      ],
      "execution_count": 7,
      "outputs": []
    },
    {
      "cell_type": "code",
      "metadata": {
        "id": "6dUNbZ9S9SST"
      },
      "source": [
        "X = dummy_df(X, todummy_list)\n",
        "\n"
      ],
      "execution_count": 8,
      "outputs": []
    },
    {
      "cell_type": "code",
      "metadata": {
        "colab": {
          "base_uri": "https://localhost:8080/"
        },
        "id": "dLEK4BjQjyrh",
        "outputId": "50d49d02-7098-4f5f-9cfd-305f67d6f6b7"
      },
      "source": [
        "X.isnull().sum().sort_values(ascending=False).head()"
      ],
      "execution_count": 9,
      "outputs": [
        {
          "output_type": "execute_result",
          "data": {
            "text/plain": [
              "inv-nodes_9-11    0\n",
              "age_40-49         0\n",
              "age_20-29         0\n",
              "irradiat_yes      0\n",
              "irradiat_no       0\n",
              "dtype: int64"
            ]
          },
          "metadata": {
            "tags": []
          },
          "execution_count": 9
        }
      ]
    },
    {
      "cell_type": "code",
      "metadata": {
        "id": "2wln4QrYktVg"
      },
      "source": [
        "def plot_histogram(x):\n",
        "    plt.hist(x, color = 'blue', alpha=0.5)\n",
        "    plt.title(\"Histogram of {var_name}\".format(var_name=x.name))\n",
        "    plt.xlabel('Value')\n",
        "    plt.ylabel('Frequency')\n",
        "    plt.show()"
      ],
      "execution_count": 10,
      "outputs": []
    },
    {
      "cell_type": "code",
      "metadata": {
        "colab": {
          "base_uri": "https://localhost:8080/",
          "height": 299
        },
        "id": "ADszMaFNkwj7",
        "outputId": "606d529b-5fbb-4cc8-815d-c6fcefa75fa1"
      },
      "source": [
        "plot_histogram(df['age'])"
      ],
      "execution_count": 11,
      "outputs": [
        {
          "output_type": "display_data",
          "data": {
            "image/png": "[encoded data removed]",
            "text/plain": [
              "<Figure size 432x288 with 1 Axes>"
            ]
          },
          "metadata": {
            "tags": [],
            "needs_background": "light"
          }
        }
      ]
    },
    {
      "cell_type": "markdown",
      "metadata": {
        "id": "oOOB7y0rnQUT"
      },
      "source": [
        "## Check for Interactions and Remove significant Interactions"
      ]
    },
    {
      "cell_type": "code",
      "metadata": {
        "id": "3xUJgg5FmB6g"
      },
      "source": [
        "from itertools import combinations\n",
        "from sklearn.preprocessing import PolynomialFeatures"
      ],
      "execution_count": 12,
      "outputs": []
    },
    {
      "cell_type": "code",
      "metadata": {
        "id": "iN1MCdNNmIix"
      },
      "source": [
        "def add_interactions(df):\n",
        "    #get feature names\n",
        "    combos = list(combinations(list(df.columns), 2))\n",
        "    colnames = list(df.columns) + ['_'.join(x) for x in combos]\n",
        "    \n",
        "    #find interactions\n",
        "    poly = PolynomialFeatures(interaction_only = True, include_bias = False)\n",
        "    df = poly.fit_transform(df)\n",
        "    df = pd.DataFrame(df)\n",
        "    df.columns = colnames\n",
        "    \n",
        "    #remove interaction terms with all 0 values\n",
        "    noint_indices = [i for i, x in enumerate(list((df == 0).all()))if x]\n",
        "    df = df.drop(df.columns[noint_indices], axis=1)\n",
        "    \n",
        "    return df"
      ],
      "execution_count": 13,
      "outputs": []
    },
    {
      "cell_type": "code",
      "metadata": {
        "colab": {
          "base_uri": "https://localhost:8080/",
          "height": 321
        },
        "id": "EJtbGQ4omI6h",
        "outputId": "e5bc57b4-436f-4785-ca07-2f27fe944e3f"
      },
      "source": [
        "X = add_interactions(X)\n",
        "X.head()"
      ],
      "execution_count": 14,
      "outputs": [
        {
          "output_type": "execute_result",
          "data": {
            "text/html": [
              "<div>\n",
              "<style scoped>\n",
              "    .dataframe tbody tr th:only-of-type {\n",
              "        vertical-align: middle;\n",
              "    }\n",
              "\n",
              "    .dataframe tbody tr th {\n",
              "        vertical-align: top;\n",
              "    }\n",
              "\n",
              "    .dataframe thead th {\n",
              "        text-align: right;\n",
              "    }\n",
              "</style>\n",
              "<table border=\"1\" class=\"dataframe\">\n",
              "  <thead>\n",
              "    <tr style=\"text-align: right;\">\n",
              "      <th></th>\n",
              "      <th>deg-malig</th>\n",
              "      <th>menopause_ge40</th>\n",
              "      <th>menopause_lt40</th>\n",
              "      <th>menopause_premeno</th>\n",
              "      <th>node-caps_?</th>\n",
              "      <th>node-caps_no</th>\n",
              "      <th>node-caps_yes</th>\n",
              "      <th>breast_left</th>\n",
              "      <th>breast_right</th>\n",
              "      <th>breast-quad_?</th>\n",
              "      <th>breast-quad_central</th>\n",
              "      <th>breast-quad_left_low</th>\n",
              "      <th>breast-quad_left_up</th>\n",
              "      <th>breast-quad_right_low</th>\n",
              "      <th>breast-quad_right_up</th>\n",
              "      <th>irradiat_no</th>\n",
              "      <th>irradiat_yes</th>\n",
              "      <th>age_20-29</th>\n",
              "      <th>age_30-39</th>\n",
              "      <th>age_40-49</th>\n",
              "      <th>age_50-59</th>\n",
              "      <th>age_60-69</th>\n",
              "      <th>age_70-79</th>\n",
              "      <th>tumor-size_0-4</th>\n",
              "      <th>tumor-size_10-14</th>\n",
              "      <th>tumor-size_15-19</th>\n",
              "      <th>tumor-size_20-24</th>\n",
              "      <th>tumor-size_25-29</th>\n",
              "      <th>tumor-size_30-34</th>\n",
              "      <th>tumor-size_35-39</th>\n",
              "      <th>tumor-size_40-44</th>\n",
              "      <th>tumor-size_45-49</th>\n",
              "      <th>tumor-size_5-9</th>\n",
              "      <th>tumor-size_50-54</th>\n",
              "      <th>inv-nodes_0-2</th>\n",
              "      <th>inv-nodes_12-14</th>\n",
              "      <th>inv-nodes_15-17</th>\n",
              "      <th>inv-nodes_24-26</th>\n",
              "      <th>inv-nodes_3-5</th>\n",
              "      <th>inv-nodes_6-8</th>\n",
              "      <th>...</th>\n",
              "      <th>age_70-79_inv-nodes_0-2</th>\n",
              "      <th>age_70-79_inv-nodes_9-11</th>\n",
              "      <th>tumor-size_0-4_inv-nodes_0-2</th>\n",
              "      <th>tumor-size_10-14_inv-nodes_0-2</th>\n",
              "      <th>tumor-size_10-14_inv-nodes_3-5</th>\n",
              "      <th>tumor-size_10-14_inv-nodes_6-8</th>\n",
              "      <th>tumor-size_15-19_inv-nodes_0-2</th>\n",
              "      <th>tumor-size_15-19_inv-nodes_12-14</th>\n",
              "      <th>tumor-size_15-19_inv-nodes_15-17</th>\n",
              "      <th>tumor-size_15-19_inv-nodes_6-8</th>\n",
              "      <th>tumor-size_15-19_inv-nodes_9-11</th>\n",
              "      <th>tumor-size_20-24_inv-nodes_0-2</th>\n",
              "      <th>tumor-size_20-24_inv-nodes_24-26</th>\n",
              "      <th>tumor-size_20-24_inv-nodes_3-5</th>\n",
              "      <th>tumor-size_20-24_inv-nodes_6-8</th>\n",
              "      <th>tumor-size_25-29_inv-nodes_0-2</th>\n",
              "      <th>tumor-size_25-29_inv-nodes_12-14</th>\n",
              "      <th>tumor-size_25-29_inv-nodes_15-17</th>\n",
              "      <th>tumor-size_25-29_inv-nodes_3-5</th>\n",
              "      <th>tumor-size_25-29_inv-nodes_6-8</th>\n",
              "      <th>tumor-size_25-29_inv-nodes_9-11</th>\n",
              "      <th>tumor-size_30-34_inv-nodes_0-2</th>\n",
              "      <th>tumor-size_30-34_inv-nodes_12-14</th>\n",
              "      <th>tumor-size_30-34_inv-nodes_15-17</th>\n",
              "      <th>tumor-size_30-34_inv-nodes_3-5</th>\n",
              "      <th>tumor-size_30-34_inv-nodes_6-8</th>\n",
              "      <th>tumor-size_30-34_inv-nodes_9-11</th>\n",
              "      <th>tumor-size_35-39_inv-nodes_0-2</th>\n",
              "      <th>tumor-size_35-39_inv-nodes_15-17</th>\n",
              "      <th>tumor-size_35-39_inv-nodes_6-8</th>\n",
              "      <th>tumor-size_35-39_inv-nodes_9-11</th>\n",
              "      <th>tumor-size_40-44_inv-nodes_0-2</th>\n",
              "      <th>tumor-size_40-44_inv-nodes_15-17</th>\n",
              "      <th>tumor-size_40-44_inv-nodes_3-5</th>\n",
              "      <th>tumor-size_40-44_inv-nodes_6-8</th>\n",
              "      <th>tumor-size_45-49_inv-nodes_0-2</th>\n",
              "      <th>tumor-size_45-49_inv-nodes_6-8</th>\n",
              "      <th>tumor-size_5-9_inv-nodes_0-2</th>\n",
              "      <th>tumor-size_50-54_inv-nodes_0-2</th>\n",
              "      <th>tumor-size_50-54_inv-nodes_9-11</th>\n",
              "    </tr>\n",
              "  </thead>\n",
              "  <tbody>\n",
              "    <tr>\n",
              "      <th>0</th>\n",
              "      <td>2.0</td>\n",
              "      <td>0.0</td>\n",
              "      <td>0.0</td>\n",
              "      <td>1.0</td>\n",
              "      <td>0.0</td>\n",
              "      <td>1.0</td>\n",
              "      <td>0.0</td>\n",
              "      <td>0.0</td>\n",
              "      <td>1.0</td>\n",
              "      <td>0.0</td>\n",
              "      <td>0.0</td>\n",
              "      <td>0.0</td>\n",
              "      <td>0.0</td>\n",
              "      <td>0.0</td>\n",
              "      <td>1.0</td>\n",
              "      <td>1.0</td>\n",
              "      <td>0.0</td>\n",
              "      <td>0.0</td>\n",
              "      <td>0.0</td>\n",
              "      <td>1.0</td>\n",
              "      <td>0.0</td>\n",
              "      <td>0.0</td>\n",
              "      <td>0.0</td>\n",
              "      <td>0.0</td>\n",
              "      <td>0.0</td>\n",
              "      <td>0.0</td>\n",
              "      <td>1.0</td>\n",
              "      <td>0.0</td>\n",
              "      <td>0.0</td>\n",
              "      <td>0.0</td>\n",
              "      <td>0.0</td>\n",
              "      <td>0.0</td>\n",
              "      <td>0.0</td>\n",
              "      <td>0.0</td>\n",
              "      <td>1.0</td>\n",
              "      <td>0.0</td>\n",
              "      <td>0.0</td>\n",
              "      <td>0.0</td>\n",
              "      <td>0.0</td>\n",
              "      <td>0.0</td>\n",
              "      <td>...</td>\n",
              "      <td>0.0</td>\n",
              "      <td>0.0</td>\n",
              "      <td>0.0</td>\n",
              "      <td>0.0</td>\n",
              "      <td>0.0</td>\n",
              "      <td>0.0</td>\n",
              "      <td>0.0</td>\n",
              "      <td>0.0</td>\n",
              "      <td>0.0</td>\n",
              "      <td>0.0</td>\n",
              "      <td>0.0</td>\n",
              "      <td>1.0</td>\n",
              "      <td>0.0</td>\n",
              "      <td>0.0</td>\n",
              "      <td>0.0</td>\n",
              "      <td>0.0</td>\n",
              "      <td>0.0</td>\n",
              "      <td>0.0</td>\n",
              "      <td>0.0</td>\n",
              "      <td>0.0</td>\n",
              "      <td>0.0</td>\n",
              "      <td>0.0</td>\n",
              "      <td>0.0</td>\n",
              "      <td>0.0</td>\n",
              "      <td>0.0</td>\n",
              "      <td>0.0</td>\n",
              "      <td>0.0</td>\n",
              "      <td>0.0</td>\n",
              "      <td>0.0</td>\n",
              "      <td>0.0</td>\n",
              "      <td>0.0</td>\n",
              "      <td>0.0</td>\n",
              "      <td>0.0</td>\n",
              "      <td>0.0</td>\n",
              "      <td>0.0</td>\n",
              "      <td>0.0</td>\n",
              "      <td>0.0</td>\n",
              "      <td>0.0</td>\n",
              "      <td>0.0</td>\n",
              "      <td>0.0</td>\n",
              "    </tr>\n",
              "    <tr>\n",
              "      <th>1</th>\n",
              "      <td>2.0</td>\n",
              "      <td>0.0</td>\n",
              "      <td>0.0</td>\n",
              "      <td>1.0</td>\n",
              "      <td>0.0</td>\n",
              "      <td>1.0</td>\n",
              "      <td>0.0</td>\n",
              "      <td>1.0</td>\n",
              "      <td>0.0</td>\n",
              "      <td>0.0</td>\n",
              "      <td>0.0</td>\n",
              "      <td>1.0</td>\n",
              "      <td>0.0</td>\n",
              "      <td>0.0</td>\n",
              "      <td>0.0</td>\n",
              "      <td>1.0</td>\n",
              "      <td>0.0</td>\n",
              "      <td>0.0</td>\n",
              "      <td>0.0</td>\n",
              "      <td>1.0</td>\n",
              "      <td>0.0</td>\n",
              "      <td>0.0</td>\n",
              "      <td>0.0</td>\n",
              "      <td>0.0</td>\n",
              "      <td>0.0</td>\n",
              "      <td>0.0</td>\n",
              "      <td>1.0</td>\n",
              "      <td>0.0</td>\n",
              "      <td>0.0</td>\n",
              "      <td>0.0</td>\n",
              "      <td>0.0</td>\n",
              "      <td>0.0</td>\n",
              "      <td>0.0</td>\n",
              "      <td>0.0</td>\n",
              "      <td>1.0</td>\n",
              "      <td>0.0</td>\n",
              "      <td>0.0</td>\n",
              "      <td>0.0</td>\n",
              "      <td>0.0</td>\n",
              "      <td>0.0</td>\n",
              "      <td>...</td>\n",
              "      <td>0.0</td>\n",
              "      <td>0.0</td>\n",
              "      <td>0.0</td>\n",
              "      <td>0.0</td>\n",
              "      <td>0.0</td>\n",
              "      <td>0.0</td>\n",
              "      <td>0.0</td>\n",
              "      <td>0.0</td>\n",
              "      <td>0.0</td>\n",
              "      <td>0.0</td>\n",
              "      <td>0.0</td>\n",
              "      <td>1.0</td>\n",
              "      <td>0.0</td>\n",
              "      <td>0.0</td>\n",
              "      <td>0.0</td>\n",
              "      <td>0.0</td>\n",
              "      <td>0.0</td>\n",
              "      <td>0.0</td>\n",
              "      <td>0.0</td>\n",
              "      <td>0.0</td>\n",
              "      <td>0.0</td>\n",
              "      <td>0.0</td>\n",
              "      <td>0.0</td>\n",
              "      <td>0.0</td>\n",
              "      <td>0.0</td>\n",
              "      <td>0.0</td>\n",
              "      <td>0.0</td>\n",
              "      <td>0.0</td>\n",
              "      <td>0.0</td>\n",
              "      <td>0.0</td>\n",
              "      <td>0.0</td>\n",
              "      <td>0.0</td>\n",
              "      <td>0.0</td>\n",
              "      <td>0.0</td>\n",
              "      <td>0.0</td>\n",
              "      <td>0.0</td>\n",
              "      <td>0.0</td>\n",
              "      <td>0.0</td>\n",
              "      <td>0.0</td>\n",
              "      <td>0.0</td>\n",
              "    </tr>\n",
              "    <tr>\n",
              "      <th>2</th>\n",
              "      <td>2.0</td>\n",
              "      <td>1.0</td>\n",
              "      <td>0.0</td>\n",
              "      <td>0.0</td>\n",
              "      <td>0.0</td>\n",
              "      <td>1.0</td>\n",
              "      <td>0.0</td>\n",
              "      <td>0.0</td>\n",
              "      <td>1.0</td>\n",
              "      <td>0.0</td>\n",
              "      <td>0.0</td>\n",
              "      <td>0.0</td>\n",
              "      <td>1.0</td>\n",
              "      <td>0.0</td>\n",
              "      <td>0.0</td>\n",
              "      <td>1.0</td>\n",
              "      <td>0.0</td>\n",
              "      <td>0.0</td>\n",
              "      <td>0.0</td>\n",
              "      <td>0.0</td>\n",
              "      <td>0.0</td>\n",
              "      <td>1.0</td>\n",
              "      <td>0.0</td>\n",
              "      <td>0.0</td>\n",
              "      <td>0.0</td>\n",
              "      <td>1.0</td>\n",
              "      <td>0.0</td>\n",
              "      <td>0.0</td>\n",
              "      <td>0.0</td>\n",
              "      <td>0.0</td>\n",
              "      <td>0.0</td>\n",
              "      <td>0.0</td>\n",
              "      <td>0.0</td>\n",
              "      <td>0.0</td>\n",
              "      <td>1.0</td>\n",
              "      <td>0.0</td>\n",
              "      <td>0.0</td>\n",
              "      <td>0.0</td>\n",
              "      <td>0.0</td>\n",
              "      <td>0.0</td>\n",
              "      <td>...</td>\n",
              "      <td>0.0</td>\n",
              "      <td>0.0</td>\n",
              "      <td>0.0</td>\n",
              "      <td>0.0</td>\n",
              "      <td>0.0</td>\n",
              "      <td>0.0</td>\n",
              "      <td>1.0</td>\n",
              "      <td>0.0</td>\n",
              "      <td>0.0</td>\n",
              "      <td>0.0</td>\n",
              "      <td>0.0</td>\n",
              "      <td>0.0</td>\n",
              "      <td>0.0</td>\n",
              "      <td>0.0</td>\n",
              "      <td>0.0</td>\n",
              "      <td>0.0</td>\n",
              "      <td>0.0</td>\n",
              "      <td>0.0</td>\n",
              "      <td>0.0</td>\n",
              "      <td>0.0</td>\n",
              "      <td>0.0</td>\n",
              "      <td>0.0</td>\n",
              "      <td>0.0</td>\n",
              "      <td>0.0</td>\n",
              "      <td>0.0</td>\n",
              "      <td>0.0</td>\n",
              "      <td>0.0</td>\n",
              "      <td>0.0</td>\n",
              "      <td>0.0</td>\n",
              "      <td>0.0</td>\n",
              "      <td>0.0</td>\n",
              "      <td>0.0</td>\n",
              "      <td>0.0</td>\n",
              "      <td>0.0</td>\n",
              "      <td>0.0</td>\n",
              "      <td>0.0</td>\n",
              "      <td>0.0</td>\n",
              "      <td>0.0</td>\n",
              "      <td>0.0</td>\n",
              "      <td>0.0</td>\n",
              "    </tr>\n",
              "    <tr>\n",
              "      <th>3</th>\n",
              "      <td>2.0</td>\n",
              "      <td>0.0</td>\n",
              "      <td>0.0</td>\n",
              "      <td>1.0</td>\n",
              "      <td>0.0</td>\n",
              "      <td>1.0</td>\n",
              "      <td>0.0</td>\n",
              "      <td>0.0</td>\n",
              "      <td>1.0</td>\n",
              "      <td>0.0</td>\n",
              "      <td>0.0</td>\n",
              "      <td>0.0</td>\n",
              "      <td>0.0</td>\n",
              "      <td>1.0</td>\n",
              "      <td>0.0</td>\n",
              "      <td>1.0</td>\n",
              "      <td>0.0</td>\n",
              "      <td>0.0</td>\n",
              "      <td>0.0</td>\n",
              "      <td>1.0</td>\n",
              "      <td>0.0</td>\n",
              "      <td>0.0</td>\n",
              "      <td>0.0</td>\n",
              "      <td>1.0</td>\n",
              "      <td>0.0</td>\n",
              "      <td>0.0</td>\n",
              "      <td>0.0</td>\n",
              "      <td>0.0</td>\n",
              "      <td>0.0</td>\n",
              "      <td>0.0</td>\n",
              "      <td>0.0</td>\n",
              "      <td>0.0</td>\n",
              "      <td>0.0</td>\n",
              "      <td>0.0</td>\n",
              "      <td>1.0</td>\n",
              "      <td>0.0</td>\n",
              "      <td>0.0</td>\n",
              "      <td>0.0</td>\n",
              "      <td>0.0</td>\n",
              "      <td>0.0</td>\n",
              "      <td>...</td>\n",
              "      <td>0.0</td>\n",
              "      <td>0.0</td>\n",
              "      <td>1.0</td>\n",
              "      <td>0.0</td>\n",
              "      <td>0.0</td>\n",
              "      <td>0.0</td>\n",
              "      <td>0.0</td>\n",
              "      <td>0.0</td>\n",
              "      <td>0.0</td>\n",
              "      <td>0.0</td>\n",
              "      <td>0.0</td>\n",
              "      <td>0.0</td>\n",
              "      <td>0.0</td>\n",
              "      <td>0.0</td>\n",
              "      <td>0.0</td>\n",
              "      <td>0.0</td>\n",
              "      <td>0.0</td>\n",
              "      <td>0.0</td>\n",
              "      <td>0.0</td>\n",
              "      <td>0.0</td>\n",
              "      <td>0.0</td>\n",
              "      <td>0.0</td>\n",
              "      <td>0.0</td>\n",
              "      <td>0.0</td>\n",
              "      <td>0.0</td>\n",
              "      <td>0.0</td>\n",
              "      <td>0.0</td>\n",
              "      <td>0.0</td>\n",
              "      <td>0.0</td>\n",
              "      <td>0.0</td>\n",
              "      <td>0.0</td>\n",
              "      <td>0.0</td>\n",
              "      <td>0.0</td>\n",
              "      <td>0.0</td>\n",
              "      <td>0.0</td>\n",
              "      <td>0.0</td>\n",
              "      <td>0.0</td>\n",
              "      <td>0.0</td>\n",
              "      <td>0.0</td>\n",
              "      <td>0.0</td>\n",
              "    </tr>\n",
              "    <tr>\n",
              "      <th>4</th>\n",
              "      <td>2.0</td>\n",
              "      <td>1.0</td>\n",
              "      <td>0.0</td>\n",
              "      <td>0.0</td>\n",
              "      <td>0.0</td>\n",
              "      <td>1.0</td>\n",
              "      <td>0.0</td>\n",
              "      <td>1.0</td>\n",
              "      <td>0.0</td>\n",
              "      <td>0.0</td>\n",
              "      <td>0.0</td>\n",
              "      <td>1.0</td>\n",
              "      <td>0.0</td>\n",
              "      <td>0.0</td>\n",
              "      <td>0.0</td>\n",
              "      <td>1.0</td>\n",
              "      <td>0.0</td>\n",
              "      <td>0.0</td>\n",
              "      <td>0.0</td>\n",
              "      <td>0.0</td>\n",
              "      <td>0.0</td>\n",
              "      <td>1.0</td>\n",
              "      <td>0.0</td>\n",
              "      <td>0.0</td>\n",
              "      <td>0.0</td>\n",
              "      <td>1.0</td>\n",
              "      <td>0.0</td>\n",
              "      <td>0.0</td>\n",
              "      <td>0.0</td>\n",
              "      <td>0.0</td>\n",
              "      <td>0.0</td>\n",
              "      <td>0.0</td>\n",
              "      <td>0.0</td>\n",
              "      <td>0.0</td>\n",
              "      <td>1.0</td>\n",
              "      <td>0.0</td>\n",
              "      <td>0.0</td>\n",
              "      <td>0.0</td>\n",
              "      <td>0.0</td>\n",
              "      <td>0.0</td>\n",
              "      <td>...</td>\n",
              "      <td>0.0</td>\n",
              "      <td>0.0</td>\n",
              "      <td>0.0</td>\n",
              "      <td>0.0</td>\n",
              "      <td>0.0</td>\n",
              "      <td>0.0</td>\n",
              "      <td>1.0</td>\n",
              "      <td>0.0</td>\n",
              "      <td>0.0</td>\n",
              "      <td>0.0</td>\n",
              "      <td>0.0</td>\n",
              "      <td>0.0</td>\n",
              "      <td>0.0</td>\n",
              "      <td>0.0</td>\n",
              "      <td>0.0</td>\n",
              "      <td>0.0</td>\n",
              "      <td>0.0</td>\n",
              "      <td>0.0</td>\n",
              "      <td>0.0</td>\n",
              "      <td>0.0</td>\n",
              "      <td>0.0</td>\n",
              "      <td>0.0</td>\n",
              "      <td>0.0</td>\n",
              "      <td>0.0</td>\n",
              "      <td>0.0</td>\n",
              "      <td>0.0</td>\n",
              "      <td>0.0</td>\n",
              "      <td>0.0</td>\n",
              "      <td>0.0</td>\n",
              "      <td>0.0</td>\n",
              "      <td>0.0</td>\n",
              "      <td>0.0</td>\n",
              "      <td>0.0</td>\n",
              "      <td>0.0</td>\n",
              "      <td>0.0</td>\n",
              "      <td>0.0</td>\n",
              "      <td>0.0</td>\n",
              "      <td>0.0</td>\n",
              "      <td>0.0</td>\n",
              "      <td>0.0</td>\n",
              "    </tr>\n",
              "  </tbody>\n",
              "</table>\n",
              "<p>5 rows × 564 columns</p>\n",
              "</div>"
            ],
            "text/plain": [
              "   deg-malig  ...  tumor-size_50-54_inv-nodes_9-11\n",
              "0        2.0  ...                              0.0\n",
              "1        2.0  ...                              0.0\n",
              "2        2.0  ...                              0.0\n",
              "3        2.0  ...                              0.0\n",
              "4        2.0  ...                              0.0\n",
              "\n",
              "[5 rows x 564 columns]"
            ]
          },
          "metadata": {
            "tags": []
          },
          "execution_count": 14
        }
      ]
    },
    {
      "cell_type": "markdown",
      "metadata": {
        "id": "hKf0LHk-nIXo"
      },
      "source": [
        "## Dimensionality Reduction using PCA"
      ]
    },
    {
      "cell_type": "code",
      "metadata": {
        "colab": {
          "base_uri": "https://localhost:8080/",
          "height": 204
        },
        "id": "-HUnsjl5mI-Y",
        "outputId": "0acc9555-4ad3-4e02-9dcd-c34af9eefff5"
      },
      "source": [
        "from sklearn.decomposition import PCA\n",
        "\n",
        "pca = PCA(n_components = 10)\n",
        "\n",
        "X_pca = pd.DataFrame(pca.fit_transform(X))\n",
        "\n",
        "X_pca.head()"
      ],
      "execution_count": 15,
      "outputs": [
        {
          "output_type": "execute_result",
          "data": {
            "text/html": [
              "<div>\n",
              "<style scoped>\n",
              "    .dataframe tbody tr th:only-of-type {\n",
              "        vertical-align: middle;\n",
              "    }\n",
              "\n",
              "    .dataframe tbody tr th {\n",
              "        vertical-align: top;\n",
              "    }\n",
              "\n",
              "    .dataframe thead th {\n",
              "        text-align: right;\n",
              "    }\n",
              "</style>\n",
              "<table border=\"1\" class=\"dataframe\">\n",
              "  <thead>\n",
              "    <tr style=\"text-align: right;\">\n",
              "      <th></th>\n",
              "      <th>0</th>\n",
              "      <th>1</th>\n",
              "      <th>2</th>\n",
              "      <th>3</th>\n",
              "      <th>4</th>\n",
              "      <th>5</th>\n",
              "      <th>6</th>\n",
              "      <th>7</th>\n",
              "      <th>8</th>\n",
              "      <th>9</th>\n",
              "    </tr>\n",
              "  </thead>\n",
              "  <tbody>\n",
              "    <tr>\n",
              "      <th>0</th>\n",
              "      <td>2.974624</td>\n",
              "      <td>-2.806047</td>\n",
              "      <td>0.417706</td>\n",
              "      <td>-0.163285</td>\n",
              "      <td>-0.736878</td>\n",
              "      <td>1.315985</td>\n",
              "      <td>-1.025779</td>\n",
              "      <td>-0.508631</td>\n",
              "      <td>1.421525</td>\n",
              "      <td>-0.163642</td>\n",
              "    </tr>\n",
              "    <tr>\n",
              "      <th>1</th>\n",
              "      <td>1.269802</td>\n",
              "      <td>-1.211792</td>\n",
              "      <td>-3.868729</td>\n",
              "      <td>-0.533597</td>\n",
              "      <td>0.562373</td>\n",
              "      <td>1.544172</td>\n",
              "      <td>-0.836109</td>\n",
              "      <td>-1.909353</td>\n",
              "      <td>1.700404</td>\n",
              "      <td>0.336482</td>\n",
              "    </tr>\n",
              "    <tr>\n",
              "      <th>2</th>\n",
              "      <td>-2.034261</td>\n",
              "      <td>-2.194094</td>\n",
              "      <td>3.488823</td>\n",
              "      <td>-1.201067</td>\n",
              "      <td>1.227062</td>\n",
              "      <td>0.210017</td>\n",
              "      <td>-0.720975</td>\n",
              "      <td>-0.226264</td>\n",
              "      <td>-1.635230</td>\n",
              "      <td>0.276495</td>\n",
              "    </tr>\n",
              "    <tr>\n",
              "      <th>3</th>\n",
              "      <td>2.885793</td>\n",
              "      <td>-2.552770</td>\n",
              "      <td>0.094699</td>\n",
              "      <td>-0.509133</td>\n",
              "      <td>-0.513037</td>\n",
              "      <td>0.432341</td>\n",
              "      <td>-0.606064</td>\n",
              "      <td>0.530707</td>\n",
              "      <td>0.297800</td>\n",
              "      <td>-1.066586</td>\n",
              "    </tr>\n",
              "    <tr>\n",
              "      <th>4</th>\n",
              "      <td>-3.627114</td>\n",
              "      <td>-0.203887</td>\n",
              "      <td>-1.492604</td>\n",
              "      <td>-2.526401</td>\n",
              "      <td>0.745246</td>\n",
              "      <td>1.172639</td>\n",
              "      <td>-0.744222</td>\n",
              "      <td>-0.002274</td>\n",
              "      <td>-1.188180</td>\n",
              "      <td>0.224627</td>\n",
              "    </tr>\n",
              "  </tbody>\n",
              "</table>\n",
              "</div>"
            ],
            "text/plain": [
              "          0         1         2  ...         7         8         9\n",
              "0  2.974624 -2.806047  0.417706  ... -0.508631  1.421525 -0.163642\n",
              "1  1.269802 -1.211792 -3.868729  ... -1.909353  1.700404  0.336482\n",
              "2 -2.034261 -2.194094  3.488823  ... -0.226264 -1.635230  0.276495\n",
              "3  2.885793 -2.552770  0.094699  ...  0.530707  0.297800 -1.066586\n",
              "4 -3.627114 -0.203887 -1.492604  ... -0.002274 -1.188180  0.224627\n",
              "\n",
              "[5 rows x 10 columns]"
            ]
          },
          "metadata": {
            "tags": []
          },
          "execution_count": 15
        }
      ]
    },
    {
      "cell_type": "code",
      "metadata": {
        "colab": {
          "base_uri": "https://localhost:8080/"
        },
        "id": "fGD7qjspmJCP",
        "outputId": "e2d2046b-e692-40be-a34c-7ed1cb866522"
      },
      "source": [
        "from sklearn.model_selection import train_test_split\n",
        "\n",
        "X_train, X_test, y_train, y_test = train_test_split(X, y, test_size=0.3, random_state=1)\n",
        "\n",
        "X_train.shape, X_test.shape, y_train.shape, y_test.shape"
      ],
      "execution_count": 16,
      "outputs": [
        {
          "output_type": "execute_result",
          "data": {
            "text/plain": [
              "((199, 564), (86, 564), (199,), (86,))"
            ]
          },
          "metadata": {
            "tags": []
          },
          "execution_count": 16
        }
      ]
    },
    {
      "cell_type": "code",
      "metadata": {
        "colab": {
          "base_uri": "https://localhost:8080/"
        },
        "id": "wkKFOrrqmJGK",
        "outputId": "53bdc7c0-2ccc-4e01-c6bc-bf80079301aa"
      },
      "source": [
        "import sklearn.feature_selection\n",
        "\n",
        "select = sklearn.feature_selection.SelectKBest(k=20)\n",
        "selected_features = select.fit(X_train, y_train)\n",
        "indices_selected = selected_features.get_support(indices=True)\n",
        "colnames_selected = [X.columns[i] for i in indices_selected]\n",
        "\n",
        "X_train_selected = X_train[colnames_selected]\n",
        "X_test_selected = X_test[colnames_selected]"
      ],
      "execution_count": 17,
      "outputs": [
        {
          "output_type": "stream",
          "text": [
            "/usr/local/lib/python3.7/dist-packages/sklearn/feature_selection/_univariate_selection.py:114: UserWarning: Features [  9  17  37  49  57  77  86 112 122 126 127 144 156 175 176 185 193 207\n",
            " 241 245 272 283 297 306 307 308 309 311 326 334 343 348 386 390 393 399\n",
            " 406 410 414 440 448 454 458 459 468 481 516 521 525 532 534 536 538 544\n",
            " 559] are constant.\n",
            "  UserWarning)\n",
            "/usr/local/lib/python3.7/dist-packages/sklearn/feature_selection/_univariate_selection.py:115: RuntimeWarning: invalid value encountered in true_divide\n",
            "  f = msb / msw\n"
          ],
          "name": "stderr"
        }
      ]
    },
    {
      "cell_type": "code",
      "metadata": {
        "colab": {
          "base_uri": "https://localhost:8080/"
        },
        "id": "wlDzuqUymJKF",
        "outputId": "b17ff977-dba0-4f74-9d1e-61228ce268d7"
      },
      "source": [
        "colnames_selected"
      ],
      "execution_count": 18,
      "outputs": [
        {
          "output_type": "execute_result",
          "data": {
            "text/plain": [
              "['deg-malig',\n",
              " 'node-caps_no',\n",
              " 'node-caps_yes',\n",
              " 'inv-nodes_0-2',\n",
              " 'deg-malig_node-caps_yes',\n",
              " 'deg-malig_breast_left',\n",
              " 'deg-malig_irradiat_yes',\n",
              " 'deg-malig_age_30-39',\n",
              " 'menopause_ge40_inv-nodes_0-2',\n",
              " 'menopause_premeno_node-caps_yes',\n",
              " 'node-caps_no_irradiat_no',\n",
              " 'node-caps_no_inv-nodes_0-2',\n",
              " 'node-caps_yes_breast_left',\n",
              " 'node-caps_yes_breast-quad_left_low',\n",
              " 'breast_left_irradiat_yes',\n",
              " 'breast_left_age_30-39',\n",
              " 'breast_left_inv-nodes_6-8',\n",
              " 'breast-quad_left_low_inv-nodes_6-8',\n",
              " 'irradiat_no_inv-nodes_0-2',\n",
              " 'irradiat_yes_inv-nodes_6-8']"
            ]
          },
          "metadata": {
            "tags": []
          },
          "execution_count": 18
        }
      ]
    },
    {
      "cell_type": "markdown",
      "metadata": {
        "id": "_bN-TOmpUkl2"
      },
      "source": [
        "## Logistic Regression Model"
      ]
    },
    {
      "cell_type": "code",
      "metadata": {
        "id": "-o6YItWXm4-w"
      },
      "source": [
        "from sklearn.linear_model import LogisticRegression\n",
        "from sklearn.metrics import roc_auc_score\n",
        "\n",
        "def find_model_perf(X_train, X_test, y_train, y_test):\n",
        "    model = LogisticRegression()\n",
        "    model.fit(X_train, y_train)\n",
        "    y_hat = [x[1] for x in model.predict_proba(X_test)]\n",
        "    auc = roc_auc_score(y_test, y_hat)\n",
        "    \n",
        "    return auc"
      ],
      "execution_count": 19,
      "outputs": []
    },
    {
      "cell_type": "code",
      "metadata": {
        "colab": {
          "base_uri": "https://localhost:8080/"
        },
        "id": "3qCvImuHm5DE",
        "outputId": "ea27547b-c26a-47c1-dd2e-3b20c7ddc00b"
      },
      "source": [
        "auc_processed = find_model_perf(X_train_selected, X_test_selected, y_train, y_test)\n",
        "auc_processed"
      ],
      "execution_count": 20,
      "outputs": [
        {
          "output_type": "execute_result",
          "data": {
            "text/plain": [
              "0.6698717948717948"
            ]
          },
          "metadata": {
            "tags": []
          },
          "execution_count": 20
        }
      ]
    },
    {
      "cell_type": "code",
      "metadata": {
        "id": "ktCFb2K2Uqpx"
      },
      "source": [
        "lr = LogisticRegression()\n",
        "lr.fit(X_train_selected, y_train)\n",
        "\n",
        "lr_pred = lr.predict(X_test_selected)"
      ],
      "execution_count": 90,
      "outputs": []
    },
    {
      "cell_type": "code",
      "metadata": {
        "colab": {
          "base_uri": "https://localhost:8080/",
          "height": 303
        },
        "id": "djY40eG9Uqxy",
        "outputId": "99002a12-9a77-4a9d-c2b3-8ca20357a23a"
      },
      "source": [
        "plot_confusion_matrix(lr, X_test_selected,y_test)"
      ],
      "execution_count": 91,
      "outputs": [
        {
          "output_type": "execute_result",
          "data": {
            "text/plain": [
              "<sklearn.metrics._plot.confusion_matrix.ConfusionMatrixDisplay at 0x7fe5c4fc8610>"
            ]
          },
          "metadata": {
            "tags": []
          },
          "execution_count": 91
        },
        {
          "output_type": "display_data",
          "data": {
            "image/png": "[encoded data removed]",
            "text/plain": [
              "<Figure size 432x288 with 2 Axes>"
            ]
          },
          "metadata": {
            "tags": []
          }
        }
      ]
    },
    {
      "cell_type": "code",
      "metadata": {
        "colab": {
          "base_uri": "https://localhost:8080/"
        },
        "id": "DMu-sOnwUrhM",
        "outputId": "dc212085-5c68-4c5a-bf68-aa8b84a18508"
      },
      "source": [
        "print(classification_report(y_test, lr_pred))"
      ],
      "execution_count": 92,
      "outputs": [
        {
          "output_type": "stream",
          "text": [
            "                      precision    recall  f1-score   support\n",
            "\n",
            "no-recurrence-events       0.75      0.83      0.79        60\n",
            "   recurrence-events       0.47      0.35      0.40        26\n",
            "\n",
            "            accuracy                           0.69        86\n",
            "           macro avg       0.61      0.59      0.59        86\n",
            "        weighted avg       0.66      0.69      0.67        86\n",
            "\n"
          ],
          "name": "stdout"
        }
      ]
    },
    {
      "cell_type": "code",
      "metadata": {
        "colab": {
          "base_uri": "https://localhost:8080/"
        },
        "id": "-GyM34bNUrve",
        "outputId": "3a7cf618-4f94-4f30-8999-a4184a14d31b"
      },
      "source": [
        "cv = RepeatedStratifiedKFold(n_splits=10, n_repeats=3, random_state=1)\n",
        "\n",
        "#evaluate model\n",
        "scores = cross_val_score(lr, X_train_selected, y_train, scoring='accuracy', cv=cv, n_jobs=-1)\n",
        "print(np.mean(scores))  "
      ],
      "execution_count": 93,
      "outputs": [
        {
          "output_type": "stream",
          "text": [
            "0.7342105263157894\n"
          ],
          "name": "stdout"
        }
      ]
    },
    {
      "cell_type": "code",
      "metadata": {
        "colab": {
          "base_uri": "https://localhost:8080/"
        },
        "id": "v0fANWhDViNM",
        "outputId": "9ce26343-fef0-427c-da70-0acc8161ba83"
      },
      "source": [
        "LogisticRegression()\n",
        "# define grid\n",
        "grid = {'penalty': ['I1', 'I2', 'elasticnet', 'none'], 'solver':['newton-cg', 'lbfgs', 'liblinear', 'sag', 'saga'], 'multi_class': ['auto', 'ovr', 'multinomial'], 'max_iter': [100, 200, 300]}\n",
        "\n",
        "# define search\n",
        "search = GridSearchCV(lr, grid, scoring='accuracy', cv=cv, n_jobs=-1)\n",
        "\n",
        "# fit the search\n",
        "lr_results = search.fit(X_train_selected, y_train)\n",
        "\n",
        "# summarize\n",
        "print('Mean Accuracy: %.3f' % lr_results.best_score_)\n",
        "print('The best parameters of the logistic regression model: %s' % lr_results.best_params_)"
      ],
      "execution_count": 104,
      "outputs": [
        {
          "output_type": "stream",
          "text": [
            "Mean Accuracy: 0.716\n",
            "The best parameters of the model: {'max_iter': 100, 'multi_class': 'auto', 'penalty': 'none', 'solver': 'sag'}\n"
          ],
          "name": "stdout"
        },
        {
          "output_type": "stream",
          "text": [
            "/usr/local/lib/python3.7/dist-packages/sklearn/linear_model/_sag.py:330: ConvergenceWarning: The max_iter was reached which means the coef_ did not converge\n",
            "  \"the coef_ did not converge\", ConvergenceWarning)\n"
          ],
          "name": "stderr"
        }
      ]
    },
    {
      "cell_type": "code",
      "metadata": {
        "colab": {
          "base_uri": "https://localhost:8080/"
        },
        "id": "fxTZH2_nViWf",
        "outputId": "f9884f94-b9cf-45be-9163-8b5be106c5a2"
      },
      "source": [
        "print('The best estimator of the logistic regression model: ', lr_results.best_estimator_)\n",
        "print()\n",
        "print('-'*100)\n",
        "print('The best index of the logistic regression model: ', lr_results.best_index_)\n",
        "print()\n",
        "print('-'*100)\n",
        "print('The best parameter of the logistic regression. model: ', lr_results.best_params_)\n",
        "print()\n",
        "print('-'*100)\n",
        "print('The best score of the logistic regression model: ', lr_results.best_score_)"
      ],
      "execution_count": 105,
      "outputs": [
        {
          "output_type": "stream",
          "text": [
            "The best estimator of the logistic regression model:  LogisticRegression(C=1.0, class_weight=None, dual=False, fit_intercept=True,\n",
            "                   intercept_scaling=1, l1_ratio=None, max_iter=100,\n",
            "                   multi_class='auto', n_jobs=None, penalty='none',\n",
            "                   random_state=None, solver='sag', tol=0.0001, verbose=0,\n",
            "                   warm_start=False)\n",
            "\n",
            "----------------------------------------------------------------------------------------------------\n",
            "The best index of the logistic regression model:  18\n",
            "\n",
            "----------------------------------------------------------------------------------------------------\n",
            "The best parameter of the logistic regression. model:  {'max_iter': 100, 'multi_class': 'auto', 'penalty': 'none', 'solver': 'sag'}\n",
            "\n",
            "----------------------------------------------------------------------------------------------------\n",
            "The best score of the logistic regression model:  0.7158771929824561\n"
          ],
          "name": "stdout"
        }
      ]
    },
    {
      "cell_type": "markdown",
      "metadata": {
        "id": "C0qLx2Y5Uaz3"
      },
      "source": [
        "## Random Forest Model"
      ]
    },
    {
      "cell_type": "code",
      "metadata": {
        "id": "JVNNCvuGm5Gz"
      },
      "source": [
        "from sklearn.ensemble import RandomForestClassifier\n",
        "from sklearn.metrics import confusion_matrix, plot_confusion_matrix, classification_report\n",
        "\n",
        "def rf_model(X_train, X_test, y_train, y_test):\n",
        "    rf = RandomForestClassifier()\n",
        "    rf.fit(X_train, y_train)\n",
        "    y_pred = [x[1] for x in rf.predict_proba(X_test)]\n",
        "    auc = roc_auc_score(y_test, y_pred)\n",
        "    return auc\n",
        "  \n"
      ],
      "execution_count": 86,
      "outputs": []
    },
    {
      "cell_type": "code",
      "metadata": {
        "colab": {
          "base_uri": "https://localhost:8080/"
        },
        "id": "9cHGwX9om5KZ",
        "outputId": "419874b1-7e5c-4dd9-8673-0a6ee7d8a9d9"
      },
      "source": [
        "rf_model(X_train_selected, X_test_selected, y_train, y_test)"
      ],
      "execution_count": 87,
      "outputs": [
        {
          "output_type": "execute_result",
          "data": {
            "text/plain": [
              "0.6442307692307692"
            ]
          },
          "metadata": {
            "tags": []
          },
          "execution_count": 87
        }
      ]
    },
    {
      "cell_type": "code",
      "metadata": {
        "colab": {
          "base_uri": "https://localhost:8080/",
          "height": 303
        },
        "id": "j2h2zthom5N5",
        "outputId": "8f5bafd8-bacc-4f9f-d4ad-4b45f27ccfc6"
      },
      "source": [
        "rf=RandomForestClassifier()\n",
        "rf.fit(X_train_selected, y_train)\n",
        "rf_pred = rf.predict(X_test_selected)\n",
        "plot_confusion_matrix(rf, X_test_selected, y_test)\n"
      ],
      "execution_count": 88,
      "outputs": [
        {
          "output_type": "execute_result",
          "data": {
            "text/plain": [
              "<sklearn.metrics._plot.confusion_matrix.ConfusionMatrixDisplay at 0x7fe5da809a50>"
            ]
          },
          "metadata": {
            "tags": []
          },
          "execution_count": 88
        },
        {
          "output_type": "display_data",
          "data": {
            "image/png": "[encoded data removed]",
            "text/plain": [
              "<Figure size 432x288 with 2 Axes>"
            ]
          },
          "metadata": {
            "tags": []
          }
        }
      ]
    },
    {
      "cell_type": "code",
      "metadata": {
        "colab": {
          "base_uri": "https://localhost:8080/"
        },
        "id": "cFKzOWYJq10_",
        "outputId": "7b82ec9d-a7a7-4473-8343-3d16966c872e"
      },
      "source": [
        "print(classification_report(y_test, rf_pred))"
      ],
      "execution_count": 89,
      "outputs": [
        {
          "output_type": "stream",
          "text": [
            "                      precision    recall  f1-score   support\n",
            "\n",
            "no-recurrence-events       0.77      0.83      0.80        60\n",
            "   recurrence-events       0.52      0.42      0.47        26\n",
            "\n",
            "            accuracy                           0.71        86\n",
            "           macro avg       0.65      0.63      0.63        86\n",
            "        weighted avg       0.70      0.71      0.70        86\n",
            "\n"
          ],
          "name": "stdout"
        }
      ]
    },
    {
      "cell_type": "code",
      "metadata": {
        "id": "X1xNaCa6m5R1"
      },
      "source": [
        ""
      ],
      "execution_count": null,
      "outputs": []
    },
    {
      "cell_type": "code",
      "metadata": {
        "id": "AwqJ5s5JM9Rk"
      },
      "source": [
        ""
      ],
      "execution_count": null,
      "outputs": []
    },
    {
      "cell_type": "code",
      "metadata": {
        "colab": {
          "base_uri": "https://localhost:8080/"
        },
        "id": "2aks2CK9Nvfm",
        "outputId": "712ae29f-24db-40fe-c9d7-c69b81423faa"
      },
      "source": [
        "from sklearn.model_selection import RepeatedStratifiedKFold\r\n",
        "from sklearn.model_selection import cross_val_score\r\n",
        "#Define method to evaluate model\r\n",
        "cv = RepeatedStratifiedKFold(n_splits=10, n_repeats=3, random_state=1)\r\n",
        "\r\n",
        "#evaluate model\r\n",
        "scores = cross_val_score(rf, X_train_selected, y_train, scoring='accuracy', cv=cv, n_jobs=-1)\r\n",
        "print(np.mean(scores))  "
      ],
      "execution_count": 26,
      "outputs": [
        {
          "output_type": "stream",
          "text": [
            "0.6871929824561404\n"
          ],
          "name": "stdout"
        }
      ]
    },
    {
      "cell_type": "code",
      "metadata": {
        "colab": {
          "base_uri": "https://localhost:8080/"
        },
        "id": "CZGddrHct8-0",
        "outputId": "03638a5a-699c-40b4-d63e-392ed8ddd635"
      },
      "source": [
        "rf.get_params()"
      ],
      "execution_count": 27,
      "outputs": [
        {
          "output_type": "execute_result",
          "data": {
            "text/plain": [
              "{'bootstrap': True,\n",
              " 'ccp_alpha': 0.0,\n",
              " 'class_weight': None,\n",
              " 'criterion': 'gini',\n",
              " 'max_depth': None,\n",
              " 'max_features': 'auto',\n",
              " 'max_leaf_nodes': None,\n",
              " 'max_samples': None,\n",
              " 'min_impurity_decrease': 0.0,\n",
              " 'min_impurity_split': None,\n",
              " 'min_samples_leaf': 1,\n",
              " 'min_samples_split': 2,\n",
              " 'min_weight_fraction_leaf': 0.0,\n",
              " 'n_estimators': 100,\n",
              " 'n_jobs': None,\n",
              " 'oob_score': False,\n",
              " 'random_state': None,\n",
              " 'verbose': 0,\n",
              " 'warm_start': False}"
            ]
          },
          "metadata": {
            "tags": []
          },
          "execution_count": 27
        }
      ]
    },
    {
      "cell_type": "code",
      "metadata": {
        "id": "TL3o0cogM9Ug",
        "colab": {
          "base_uri": "https://localhost:8080/"
        },
        "outputId": "1d18b7d3-01cc-424f-f19d-d1871dc125cd"
      },
      "source": [
        "from sklearn.model_selection import GridSearchCV\n",
        "RandomForestClassifier()\n",
        "# define grid\n",
        "grid = {'n_estimators': [100, 200], 'criterion': ['gini', 'entropy'], 'max_leaf_nodes': [int, None], 'bootstrap': [True, False] }\n",
        "\n",
        "# define search\n",
        "search = GridSearchCV(rf, grid, scoring='accuracy', cv=cv, n_jobs=-1)\n",
        "\n",
        "# fit the search\n",
        "rf_results = search.fit(X_train_selected, y_train)\n",
        "\n",
        "# summarize\n",
        "print('Mean Accuracy: %.3f' % rf_results.best_score_)\n",
        "print('The best parameters of the random forest model: %s' % rf_results.best_params_)"
      ],
      "execution_count": 106,
      "outputs": [
        {
          "output_type": "stream",
          "text": [
            "Mean Accuracy: 0.694\n",
            "The best parameters of the random forest model: {'bootstrap': False, 'criterion': 'entropy', 'max_leaf_nodes': None, 'n_estimators': 100}\n"
          ],
          "name": "stdout"
        }
      ]
    },
    {
      "cell_type": "code",
      "metadata": {
        "id": "3qjlvOZYM9WS",
        "colab": {
          "base_uri": "https://localhost:8080/"
        },
        "outputId": "610de7c4-efd8-4587-b231-07f7fef63824"
      },
      "source": [
        "print('The best estimator of the random forest model: ', rf_results.best_estimator_)\n",
        "print()\n",
        "print('-'*100)\n",
        "print('The best index of the random forest model: ', rf_results.best_index_)\n",
        "print()\n",
        "print('-'*100)\n",
        "print('The best parameter of the random forest model: ', rf_results.best_params_)\n",
        "print()\n",
        "print('-'*100)\n",
        "print('The best score of the random forest model: ', rf_results.best_score_)\n"
      ],
      "execution_count": 107,
      "outputs": [
        {
          "output_type": "stream",
          "text": [
            "The best estimator of the random forest model:  RandomForestClassifier(bootstrap=False, ccp_alpha=0.0, class_weight=None,\n",
            "                       criterion='entropy', max_depth=None, max_features='auto',\n",
            "                       max_leaf_nodes=None, max_samples=None,\n",
            "                       min_impurity_decrease=0.0, min_impurity_split=None,\n",
            "                       min_samples_leaf=1, min_samples_split=2,\n",
            "                       min_weight_fraction_leaf=0.0, n_estimators=100,\n",
            "                       n_jobs=None, oob_score=False, random_state=None,\n",
            "                       verbose=0, warm_start=False)\n",
            "\n",
            "----------------------------------------------------------------------------------------------------\n",
            "The best index of the random forest model:  14\n",
            "\n",
            "----------------------------------------------------------------------------------------------------\n",
            "The best parameter of the random forest model:  {'bootstrap': False, 'criterion': 'entropy', 'max_leaf_nodes': None, 'n_estimators': 100}\n",
            "\n",
            "----------------------------------------------------------------------------------------------------\n",
            "The best score of the random forest model:  0.6940350877192982\n"
          ],
          "name": "stdout"
        }
      ]
    },
    {
      "cell_type": "markdown",
      "metadata": {
        "id": "l2GzAckaw8cG"
      },
      "source": [
        "## Decision Tree Model"
      ]
    },
    {
      "cell_type": "code",
      "metadata": {
        "id": "zkTboc2cw7U2"
      },
      "source": [
        "from sklearn.tree import DecisionTreeClassifier\n",
        "\n",
        "dt = DecisionTreeClassifier()\n",
        "dt.fit(X_train_selected, y_train)\n",
        "dt_pred = dt.predict(X_test_selected)"
      ],
      "execution_count": 30,
      "outputs": []
    },
    {
      "cell_type": "code",
      "metadata": {
        "colab": {
          "base_uri": "https://localhost:8080/",
          "height": 299
        },
        "id": "zDR6IyB-xZFd",
        "outputId": "ce7fdc88-26c6-43a2-90d2-ef8e22173687"
      },
      "source": [
        "plot_confusion_matrix(dt, X_test_selected, y_test)"
      ],
      "execution_count": 31,
      "outputs": [
        {
          "output_type": "execute_result",
          "data": {
            "text/plain": [
              "<sklearn.metrics._plot.confusion_matrix.ConfusionMatrixDisplay at 0x7fe5cf616390>"
            ]
          },
          "metadata": {
            "tags": []
          },
          "execution_count": 31
        },
        {
          "output_type": "display_data",
          "data": {
            "image/png": "[encoded data removed]",
            "text/plain": [
              "<Figure size 432x288 with 2 Axes>"
            ]
          },
          "metadata": {
            "tags": [],
            "needs_background": "light"
          }
        }
      ]
    },
    {
      "cell_type": "code",
      "metadata": {
        "colab": {
          "base_uri": "https://localhost:8080/"
        },
        "id": "PZ67bjHVxkRw",
        "outputId": "08dabdd9-b538-4481-b69b-00c2cef52b8e"
      },
      "source": [
        "print(classification_report(y_test, dt_pred))"
      ],
      "execution_count": 32,
      "outputs": [
        {
          "output_type": "stream",
          "text": [
            "                      precision    recall  f1-score   support\n",
            "\n",
            "no-recurrence-events       0.74      0.87      0.80        60\n",
            "   recurrence-events       0.50      0.31      0.38        26\n",
            "\n",
            "            accuracy                           0.70        86\n",
            "           macro avg       0.62      0.59      0.59        86\n",
            "        weighted avg       0.67      0.70      0.67        86\n",
            "\n"
          ],
          "name": "stdout"
        }
      ]
    },
    {
      "cell_type": "code",
      "metadata": {
        "colab": {
          "base_uri": "https://localhost:8080/"
        },
        "id": "fuoX0bFZydBL",
        "outputId": "0b35abd9-9a4b-4c7c-c85b-2c157b303519"
      },
      "source": [
        "from sklearn.model_selection import RepeatedStratifiedKFold\r\n",
        "from sklearn.model_selection import cross_val_score\r\n",
        "#Define method to evaluate model\r\n",
        "cv = RepeatedStratifiedKFold(n_splits=10, n_repeats=3, random_state=1)\r\n",
        "\r\n",
        "#evaluate model\r\n",
        "scores = cross_val_score(dt, X_train_selected, y_train, scoring='accuracy', cv=cv, n_jobs=-1)\r\n",
        "print(np.mean(scores))  "
      ],
      "execution_count": 33,
      "outputs": [
        {
          "output_type": "stream",
          "text": [
            "0.6821929824561402\n"
          ],
          "name": "stdout"
        }
      ]
    },
    {
      "cell_type": "code",
      "metadata": {
        "colab": {
          "base_uri": "https://localhost:8080/"
        },
        "id": "bNfxJ2aGydvD",
        "outputId": "60fb44d6-3ac5-4680-99c3-0edc55eba569"
      },
      "source": [
        "DecisionTreeClassifier()\n",
        "# define grid\n",
        "grid = {'splitter': ['random', 'best'], 'criterion': ['gini', 'entropy'], 'max_leaf_nodes': [int, None], 'max_features': ['auto', 'sqrt', 'log2']}\n",
        "\n",
        "# define search\n",
        "search = GridSearchCV(dt, grid, scoring='accuracy', cv=cv, n_jobs=-1)\n",
        "\n",
        "# fit the search\n",
        "dt_results = search.fit(X_train_selected, y_train)\n",
        "\n",
        "# summarize\n",
        "print('Mean Accuracy: %.3f' % dt_results.best_score_)\n",
        "print('The best parameters of the decision tree model: %s' % dt_results.best_params_)"
      ],
      "execution_count": 108,
      "outputs": [
        {
          "output_type": "stream",
          "text": [
            "Mean Accuracy: 0.709\n",
            "The best parameters of the decision tree model: {'criterion': 'gini', 'max_features': 'auto', 'max_leaf_nodes': None, 'splitter': 'random'}\n"
          ],
          "name": "stdout"
        }
      ]
    },
    {
      "cell_type": "code",
      "metadata": {
        "colab": {
          "base_uri": "https://localhost:8080/"
        },
        "id": "yzDRHhq7z9Y1",
        "outputId": "f84d47fc-ee67-46c8-d922-83b48b6410ec"
      },
      "source": [
        "print('The best estimator of the decision tree model: ', dt_results.best_estimator_)\n",
        "print()\n",
        "print('-'*100)\n",
        "print('The best index of the decision tree model: ', dt_results.best_index_)\n",
        "print()\n",
        "print('-'*100)\n",
        "print('The best parameter of the decision tree model: ', dt_results.best_params_)\n",
        "print()\n",
        "print('-'*100)\n",
        "print('The best score of the decision tree model: ', dt_results.best_score_)"
      ],
      "execution_count": 109,
      "outputs": [
        {
          "output_type": "stream",
          "text": [
            "The best estimator of the decision tree model:  DecisionTreeClassifier(ccp_alpha=0.0, class_weight=None, criterion='gini',\n",
            "                       max_depth=None, max_features='auto', max_leaf_nodes=None,\n",
            "                       min_impurity_decrease=0.0, min_impurity_split=None,\n",
            "                       min_samples_leaf=1, min_samples_split=2,\n",
            "                       min_weight_fraction_leaf=0.0, presort='deprecated',\n",
            "                       random_state=None, splitter='random')\n",
            "\n",
            "----------------------------------------------------------------------------------------------------\n",
            "The best index of the decision tree model:  2\n",
            "\n",
            "----------------------------------------------------------------------------------------------------\n",
            "The best parameter of the decision tree model:  {'criterion': 'gini', 'max_features': 'auto', 'max_leaf_nodes': None, 'splitter': 'random'}\n",
            "\n",
            "----------------------------------------------------------------------------------------------------\n",
            "The best score of the decision tree model:  0.7089473684210525\n"
          ],
          "name": "stdout"
        }
      ]
    },
    {
      "cell_type": "code",
      "metadata": {
        "id": "swGnic5H0H-M"
      },
      "source": [
        ""
      ],
      "execution_count": null,
      "outputs": []
    },
    {
      "cell_type": "code",
      "metadata": {
        "id": "vgnvidbO0IGP"
      },
      "source": [
        ""
      ],
      "execution_count": null,
      "outputs": []
    },
    {
      "cell_type": "code",
      "metadata": {
        "id": "GOvxVmqt0IKR"
      },
      "source": [
        ""
      ],
      "execution_count": null,
      "outputs": []
    },
    {
      "cell_type": "markdown",
      "metadata": {
        "id": "6GD4ZUUM-5tL"
      },
      "source": [
        "## Naive Bayes Model"
      ]
    },
    {
      "cell_type": "code",
      "metadata": {
        "id": "2bx-9XmU0IOB"
      },
      "source": [
        "from sklearn.naive_bayes import GaussianNB\n",
        "\n",
        "gnb = GaussianNB()\n",
        "gnb.fit(X_train_selected, y_train)\n",
        "gnb_pred = gnb.predict(X_test_selected)"
      ],
      "execution_count": 37,
      "outputs": []
    },
    {
      "cell_type": "code",
      "metadata": {
        "colab": {
          "base_uri": "https://localhost:8080/"
        },
        "id": "53omUU6G-xYj",
        "outputId": "cd21def8-1849-4335-ef21-568209212162"
      },
      "source": [
        "\r\n",
        "#Define method to evaluate model\r\n",
        "cv = RepeatedStratifiedKFold(n_splits=10, n_repeats=3, random_state=1)\r\n",
        "\r\n",
        "#evaluate model\r\n",
        "scores = cross_val_score(gnb, X_train_selected, y_train, scoring='accuracy', cv=cv, n_jobs=-1)\r\n",
        "print(np.mean(scores))  "
      ],
      "execution_count": 38,
      "outputs": [
        {
          "output_type": "stream",
          "text": [
            "0.7359649122807017\n"
          ],
          "name": "stdout"
        }
      ]
    },
    {
      "cell_type": "code",
      "metadata": {
        "colab": {
          "base_uri": "https://localhost:8080/"
        },
        "id": "QduY-t0s-2Ib",
        "outputId": "86c33db0-d3ee-4f6c-e29d-55f365872eb4"
      },
      "source": [
        "\n",
        "# define grid\n",
        "grid = {'priors': [None], 'var_smoothing': [1e-09]}\n",
        "\n",
        "# define search\n",
        "search = GridSearchCV(gnb, grid, scoring='accuracy', cv=cv, n_jobs=-1)\n",
        "\n",
        "# fit the search\n",
        "gnb_results = search.fit(X_train_selected, y_train)\n",
        "\n",
        "# summarize\n",
        "print('Mean Accuracy: %.3f' % gnb_results.best_score_)\n",
        "print('The best parameters of the naive bayes model: %s' % gnb_results.best_params_)"
      ],
      "execution_count": 111,
      "outputs": [
        {
          "output_type": "stream",
          "text": [
            "Mean Accuracy: 0.736\n",
            "The best parameters of the naive bayes model: {'priors': None, 'var_smoothing': 1e-09}\n"
          ],
          "name": "stdout"
        }
      ]
    },
    {
      "cell_type": "code",
      "metadata": {
        "colab": {
          "base_uri": "https://localhost:8080/"
        },
        "id": "NCf_0l7Q0IRX",
        "outputId": "cddeae54-7f8b-4cfe-c08e-f04f611667a3"
      },
      "source": [
        ""
      ],
      "execution_count": 42,
      "outputs": [
        {
          "output_type": "execute_result",
          "data": {
            "text/plain": [
              "<bound method BaseEstimator.get_params of GaussianNB(priors=None, var_smoothing=1e-09)>"
            ]
          },
          "metadata": {
            "tags": []
          },
          "execution_count": 42
        }
      ]
    },
    {
      "cell_type": "code",
      "metadata": {
        "colab": {
          "base_uri": "https://localhost:8080/"
        },
        "id": "mkH0SgTzCWfv",
        "outputId": "628677bb-f2eb-418b-dafa-71261d04e2b9"
      },
      "source": [
        "print('The best estimator of the naive bayes model: ', gnb_results.best_estimator_)\n",
        "print()\n",
        "print('-'*100)\n",
        "print('The best index of the naive bayes model: ', gnb_results.best_index_)\n",
        "print()\n",
        "print('-'*100)\n",
        "print('The best parameter of the naive bayes model: ', gnb_results.best_params_)\n",
        "print()\n",
        "print('-'*100)\n",
        "print('The best score of the naive bayes model: ', gnb_results.best_score_)"
      ],
      "execution_count": 112,
      "outputs": [
        {
          "output_type": "stream",
          "text": [
            "The best estimator of the naive bayes model:  GaussianNB(priors=None, var_smoothing=1e-09)\n",
            "\n",
            "----------------------------------------------------------------------------------------------------\n",
            "The best index of the naive bayes model:  0\n",
            "\n",
            "----------------------------------------------------------------------------------------------------\n",
            "The best parameter of the naive bayes model:  {'priors': None, 'var_smoothing': 1e-09}\n",
            "\n",
            "----------------------------------------------------------------------------------------------------\n",
            "The best score of the naive bayes model:  0.7359649122807017\n"
          ],
          "name": "stdout"
        }
      ]
    },
    {
      "cell_type": "markdown",
      "metadata": {
        "id": "O0aeCVKDEJ8o"
      },
      "source": [
        "## K Nearest Neighbors"
      ]
    },
    {
      "cell_type": "code",
      "metadata": {
        "id": "tZgfHKms0IVp"
      },
      "source": [
        "from sklearn.neighbors import KNeighborsClassifier\n",
        "\n",
        "knn = KNeighborsClassifier()\n",
        "knn.fit(X_train_selected, y_train)\n",
        "\n",
        "knn_pred = knn.predict(X_test_selected)"
      ],
      "execution_count": 62,
      "outputs": []
    },
    {
      "cell_type": "code",
      "metadata": {
        "colab": {
          "base_uri": "https://localhost:8080/"
        },
        "id": "Suej1L2NEkK6",
        "outputId": "36af7678-dbd6-4523-e9bf-03a8aa4d45ff"
      },
      "source": [
        "#Define method to evaluate model\n",
        "cv = RepeatedStratifiedKFold(n_splits=10, n_repeats=3, random_state=1)\n",
        "\n",
        "#evaluate model\n",
        "scores = cross_val_score(knn, X_train_selected, y_train, scoring='accuracy', cv=cv, n_jobs=-1)\n",
        "print(np.mean(scores))  \n",
        "\n"
      ],
      "execution_count": 63,
      "outputs": [
        {
          "output_type": "stream",
          "text": [
            "0.7223684210526315\n"
          ],
          "name": "stdout"
        }
      ]
    },
    {
      "cell_type": "code",
      "metadata": {
        "colab": {
          "base_uri": "https://localhost:8080/"
        },
        "id": "NuOhcOa3E2Us",
        "outputId": "f8d0627f-e151-48bc-88f7-782d7e6dcc3a"
      },
      "source": [
        "knn.get_params"
      ],
      "execution_count": 64,
      "outputs": [
        {
          "output_type": "execute_result",
          "data": {
            "text/plain": [
              "<bound method BaseEstimator.get_params of KNeighborsClassifier(algorithm='auto', leaf_size=30, metric='minkowski',\n",
              "                     metric_params=None, n_jobs=None, n_neighbors=5, p=2,\n",
              "                     weights='uniform')>"
            ]
          },
          "metadata": {
            "tags": []
          },
          "execution_count": 64
        }
      ]
    },
    {
      "cell_type": "code",
      "metadata": {
        "colab": {
          "base_uri": "https://localhost:8080/"
        },
        "id": "6llU1YRcEo4j",
        "outputId": "a113ccad-d025-4e33-fc7a-5437926769e2"
      },
      "source": [
        "# define grid\n",
        "grid = {'algorithm': ['auto', 'ball_tree', 'kd_tree', 'brute'], 'leaf_size': [30, 40, 50], 'n_neighbors': [5, 10, 15], 'weights': ['uniform', 'distance']}\n",
        "\n",
        "# define search\n",
        "search = GridSearchCV(knn, grid, scoring='accuracy', cv=cv, n_jobs=-1)\n",
        "\n",
        "# fit the search\n",
        "knn_results = search.fit(X_train_selected, y_train)\n",
        "\n",
        "# summarize\n",
        "print('Mean Accuracy: %.3f' % knn_results.best_score_)"
      ],
      "execution_count": 113,
      "outputs": [
        {
          "output_type": "stream",
          "text": [
            "Mean Accuracy: 0.754\n"
          ],
          "name": "stdout"
        }
      ]
    },
    {
      "cell_type": "code",
      "metadata": {
        "id": "Spgby-GFGqNz"
      },
      "source": [
        ""
      ],
      "execution_count": null,
      "outputs": []
    },
    {
      "cell_type": "code",
      "metadata": {
        "colab": {
          "base_uri": "https://localhost:8080/"
        },
        "id": "ZWPExunaGqt2",
        "outputId": "025d6aae-1d82-4e02-9a42-a9e6294ec86a"
      },
      "source": [
        "print('The best estimator of the KNN model: ', knn_results.best_estimator_)\n",
        "print()\n",
        "print('-'*100)\n",
        "print('The best index of the KNN model: ', knn_results.best_index_)\n",
        "print()\n",
        "print('-'*100)\n",
        "print('The best parameter of the KNN model: ', knn_results.best_params_)\n",
        "print()\n",
        "print('-'*100)\n",
        "print('The best score of the KNN model: ', knn_results.best_score_)"
      ],
      "execution_count": 114,
      "outputs": [
        {
          "output_type": "stream",
          "text": [
            "The best estimator of the KNN model:  KNeighborsClassifier(algorithm='auto', leaf_size=30, metric='minkowski',\n",
            "                     metric_params=None, n_jobs=None, n_neighbors=10, p=2,\n",
            "                     weights='uniform')\n",
            "\n",
            "----------------------------------------------------------------------------------------------------\n",
            "The best index of the KNN model:  2\n",
            "\n",
            "----------------------------------------------------------------------------------------------------\n",
            "The best parameter of the KNN model:  {'algorithm': 'auto', 'leaf_size': 30, 'n_neighbors': 10, 'weights': 'uniform'}\n",
            "\n",
            "----------------------------------------------------------------------------------------------------\n",
            "The best score of the KNN model:  0.7542982456140351\n"
          ],
          "name": "stdout"
        }
      ]
    },
    {
      "cell_type": "markdown",
      "metadata": {
        "id": "EcMUGiXVNOi6"
      },
      "source": [
        "## Linear Discriminant Analysis"
      ]
    },
    {
      "cell_type": "code",
      "metadata": {
        "id": "Pb0A_9LlI-jA"
      },
      "source": [
        "from sklearn.discriminant_analysis import LinearDiscriminantAnalysis as LDA\n",
        "\n",
        "lda = LDA()\n",
        "lda.fit(X_train_selected, y_train)\n",
        "\n",
        "lda_pred = lda.predict(X_test_selected)"
      ],
      "execution_count": 73,
      "outputs": []
    },
    {
      "cell_type": "code",
      "metadata": {
        "colab": {
          "base_uri": "https://localhost:8080/"
        },
        "id": "2pcW6PPeNsix",
        "outputId": "1a3c0216-94b6-4c72-a689-592e2253a0c4"
      },
      "source": [
        "#Define method to evaluate model\n",
        "cv = RepeatedStratifiedKFold(n_splits=10, n_repeats=3, random_state=1)\n",
        "\n",
        "#evaluate model\n",
        "scores = cross_val_score(lda, X_train_selected, y_train, scoring='accuracy', cv=cv, n_jobs=-1)\n",
        "print(np.mean(scores))  \n",
        "\n"
      ],
      "execution_count": 74,
      "outputs": [
        {
          "output_type": "stream",
          "text": [
            "0.707280701754386\n"
          ],
          "name": "stdout"
        }
      ]
    },
    {
      "cell_type": "code",
      "metadata": {
        "id": "bYd98Cx2N8xf"
      },
      "source": [
        "LDA()"
      ],
      "execution_count": null,
      "outputs": []
    },
    {
      "cell_type": "code",
      "metadata": {
        "colab": {
          "base_uri": "https://localhost:8080/"
        },
        "id": "7lbFIlJDNtZ9",
        "outputId": "e698b13a-caf1-48c3-b676-b504034b461d"
      },
      "source": [
        "# define grid\n",
        "grid = {'solver': ['svd', 'lsqr', 'eigen'], 'shrinkage': np.arange(0, 1, 0.01), 'n_components': [0, 1, 2] }\n",
        "\n",
        "# define search\n",
        "search = GridSearchCV(lda, grid, scoring='accuracy', cv=cv, n_jobs=-1)\n",
        "\n",
        "# fit the search\n",
        "lda_results = search.fit(X_train_selected, y_train)\n",
        "\n",
        "# summarize\n",
        "print('Mean Accuracy: %.3f' % lda_results.best_score_)"
      ],
      "execution_count": 115,
      "outputs": [
        {
          "output_type": "stream",
          "text": [
            "Mean Accuracy: 0.741\n"
          ],
          "name": "stdout"
        }
      ]
    },
    {
      "cell_type": "code",
      "metadata": {
        "colab": {
          "base_uri": "https://localhost:8080/"
        },
        "id": "5E6018DUNtex",
        "outputId": "786036e2-ef5a-4978-a6d7-99dde5c9b024"
      },
      "source": [
        "print('The best estimator of the LDA model: ', lda_results.best_estimator_)\n",
        "print()\n",
        "print('-'*100)\n",
        "print('The best index of the LDA model: ', lda_results.best_index_)\n",
        "print()\n",
        "print('-'*100)\n",
        "print('The best parameter of the LDA model: ', lda_results.best_params_)\n",
        "print()\n",
        "print('-'*100)\n",
        "print('The best score of the LDA model: ', lda_results.best_score_)"
      ],
      "execution_count": 116,
      "outputs": [
        {
          "output_type": "stream",
          "text": [
            "The best estimator of the LDA model:  LinearDiscriminantAnalysis(n_components=0, priors=None, shrinkage=0.29,\n",
            "                           solver='lsqr', store_covariance=False, tol=0.0001)\n",
            "\n",
            "----------------------------------------------------------------------------------------------------\n",
            "The best index of the LDA model:  88\n",
            "\n",
            "----------------------------------------------------------------------------------------------------\n",
            "The best parameter of the LDA model:  {'n_components': 0, 'shrinkage': 0.29, 'solver': 'lsqr'}\n",
            "\n",
            "----------------------------------------------------------------------------------------------------\n",
            "The best score of the LDA model:  0.7407894736842106\n"
          ],
          "name": "stdout"
        }
      ]
    },
    {
      "cell_type": "markdown",
      "metadata": {
        "id": "aISx6AV1O82S"
      },
      "source": [
        "## Quadratic Discriminant Analysis"
      ]
    },
    {
      "cell_type": "code",
      "metadata": {
        "id": "IWmEvVSQNtiy"
      },
      "source": [
        ""
      ],
      "execution_count": null,
      "outputs": []
    },
    {
      "cell_type": "code",
      "metadata": {
        "id": "nBKoOrY4PDFr"
      },
      "source": [
        "from sklearn.discriminant_analysis import QuadraticDiscriminantAnalysis as QDA"
      ],
      "execution_count": 77,
      "outputs": []
    },
    {
      "cell_type": "code",
      "metadata": {
        "colab": {
          "base_uri": "https://localhost:8080/"
        },
        "id": "24TiRMczPDJn",
        "outputId": "22aa2f6e-aa73-4660-f4bd-5bbb380ef159"
      },
      "source": [
        "qda = QDA()\n",
        "qda.fit(X_train_selected, y_train)\n",
        "qda_pred = qda.predict(X_test_selected)"
      ],
      "execution_count": 79,
      "outputs": [
        {
          "output_type": "stream",
          "text": [
            "/usr/local/lib/python3.7/dist-packages/sklearn/discriminant_analysis.py:691: UserWarning: Variables are collinear\n",
            "  warnings.warn(\"Variables are collinear\")\n"
          ],
          "name": "stderr"
        }
      ]
    },
    {
      "cell_type": "code",
      "metadata": {
        "colab": {
          "base_uri": "https://localhost:8080/"
        },
        "id": "LNKmbATWPDN2",
        "outputId": "2201aceb-4902-4e7b-84fb-3c8747902c46"
      },
      "source": [
        "cv = RepeatedStratifiedKFold(n_splits=10, n_repeats=3, random_state=1)\n",
        "\n",
        "#evaluate model\n",
        "scores = cross_val_score(qda, X_train_selected, y_train, scoring='accuracy', cv=cv, n_jobs=-1)\n",
        "print(np.mean(scores))  "
      ],
      "execution_count": 80,
      "outputs": [
        {
          "output_type": "stream",
          "text": [
            "0.6162280701754386\n"
          ],
          "name": "stdout"
        }
      ]
    },
    {
      "cell_type": "code",
      "metadata": {
        "colab": {
          "base_uri": "https://localhost:8080/"
        },
        "id": "mbnW7IyxdIwG",
        "outputId": "2ce2acd4-362e-4df0-ff24-bbc85fba64cb"
      },
      "source": [
        "grid = {\r\n",
        "    'reg_param': (0.00001, 0.0001, 0.001,0.01, 0.1), \r\n",
        "    'store_covariance': (True, False),\r\n",
        "    'tol': (0.0001, 0.001,0.01, 0.1), \r\n",
        "                   }\r\n",
        "# define search\r\n",
        "qda_search = GridSearchCV(qda, grid, scoring='accuracy', cv=cv, n_jobs=-1)\r\n",
        "\r\n",
        "# fit the search\r\n",
        "qda_results = qda_search.fit(X_train, y_train)\r\n",
        "\r\n",
        "# summarize\r\n",
        "print('Mean Accuracy: %.3f' % qda_results.best_score_)\r\n",
        "print('The best parameters of the model: %s' % qda_results.best_params_)"
      ],
      "execution_count": 81,
      "outputs": [
        {
          "output_type": "stream",
          "text": [
            "Mean Accuracy: 0.747\n",
            "The best parameters of the model: {'reg_param': 0.01, 'store_covariance': True, 'tol': 0.0001}\n"
          ],
          "name": "stdout"
        },
        {
          "output_type": "stream",
          "text": [
            "/usr/local/lib/python3.7/dist-packages/sklearn/discriminant_analysis.py:691: UserWarning: Variables are collinear\n",
            "  warnings.warn(\"Variables are collinear\")\n"
          ],
          "name": "stderr"
        }
      ]
    },
    {
      "cell_type": "code",
      "metadata": {
        "colab": {
          "base_uri": "https://localhost:8080/"
        },
        "id": "Mwu7k6lLPDSU",
        "outputId": "e1a5c47b-959c-4fc9-ea88-44c302890449"
      },
      "source": [
        "print('The best estimator of the model: ', qda_results.best_estimator_)\n",
        "print()\n",
        "print('-'*100)\n",
        "print('The best index of the model: ', qda_results.best_index_)\n",
        "print()\n",
        "print('-'*100)\n",
        "print('The best parameter of the model: ', qda_results.best_params_)\n",
        "print()\n",
        "print('-'*100)\n",
        "print('The best score of the model: ', qda_results.best_score_)\n"
      ],
      "execution_count": 82,
      "outputs": [
        {
          "output_type": "stream",
          "text": [
            "The best estimator of the model:  QuadraticDiscriminantAnalysis(priors=None, reg_param=0.01,\n",
            "                              store_covariance=True, tol=0.0001)\n",
            "\n",
            "----------------------------------------------------------------------------------------------------\n",
            "The best index of the model:  24\n",
            "\n",
            "----------------------------------------------------------------------------------------------------\n",
            "The best parameter of the model:  {'reg_param': 0.01, 'store_covariance': True, 'tol': 0.0001}\n",
            "\n",
            "----------------------------------------------------------------------------------------------------\n",
            "The best score of the model:  0.7471052631578947\n"
          ],
          "name": "stdout"
        }
      ]
    },
    {
      "cell_type": "markdown",
      "metadata": {
        "id": "bNrLuMRGP9iy"
      },
      "source": [
        "## Compare Models"
      ]
    },
    {
      "cell_type": "code",
      "metadata": {
        "colab": {
          "base_uri": "https://localhost:8080/",
          "height": 266
        },
        "id": "fmj5rN3PaIg8",
        "outputId": "41698578-edac-4481-da23-1c40d432b2d6"
      },
      "source": [
        "models = {'model': ['Logistic Regression', 'Random Forest', 'Decision Tree', 'Gaussian Naive Bayes', 'K Nearest Neighbors', 'Linear Discriminant Analysis', 'Quadratic Discriminant Analysis'],\n",
        "          'best_scores': [lr_results.best_score_, rf_results.best_score_, dt_results.best_score_, gnb_results.best_score_, knn_results.best_score_, lda_results.best_score_, qda_results.best_score_]}\n",
        "\n",
        "compare_models = pd.DataFrame(models)\n",
        "compare_models"
      ],
      "execution_count": 121,
      "outputs": [
        {
          "output_type": "execute_result",
          "data": {
            "text/html": [
              "<div>\n",
              "<style scoped>\n",
              "    .dataframe tbody tr th:only-of-type {\n",
              "        vertical-align: middle;\n",
              "    }\n",
              "\n",
              "    .dataframe tbody tr th {\n",
              "        vertical-align: top;\n",
              "    }\n",
              "\n",
              "    .dataframe thead th {\n",
              "        text-align: right;\n",
              "    }\n",
              "</style>\n",
              "<table border=\"1\" class=\"dataframe\">\n",
              "  <thead>\n",
              "    <tr style=\"text-align: right;\">\n",
              "      <th></th>\n",
              "      <th>model</th>\n",
              "      <th>best_scores</th>\n",
              "    </tr>\n",
              "  </thead>\n",
              "  <tbody>\n",
              "    <tr>\n",
              "      <th>0</th>\n",
              "      <td>Logistic Regression</td>\n",
              "      <td>0.715877</td>\n",
              "    </tr>\n",
              "    <tr>\n",
              "      <th>1</th>\n",
              "      <td>Random Forest</td>\n",
              "      <td>0.694035</td>\n",
              "    </tr>\n",
              "    <tr>\n",
              "      <th>2</th>\n",
              "      <td>Decision Tree</td>\n",
              "      <td>0.708947</td>\n",
              "    </tr>\n",
              "    <tr>\n",
              "      <th>3</th>\n",
              "      <td>Gaussian Naive Bayes</td>\n",
              "      <td>0.735965</td>\n",
              "    </tr>\n",
              "    <tr>\n",
              "      <th>4</th>\n",
              "      <td>K Nearest Neighbor</td>\n",
              "      <td>0.754298</td>\n",
              "    </tr>\n",
              "    <tr>\n",
              "      <th>5</th>\n",
              "      <td>Linear Discriminant Analysis</td>\n",
              "      <td>0.740789</td>\n",
              "    </tr>\n",
              "    <tr>\n",
              "      <th>6</th>\n",
              "      <td>Quadratic Discriminant Analysis</td>\n",
              "      <td>0.747105</td>\n",
              "    </tr>\n",
              "  </tbody>\n",
              "</table>\n",
              "</div>"
            ],
            "text/plain": [
              "                             model  best_scores\n",
              "0              Logistic Regression     0.715877\n",
              "1                    Random Forest     0.694035\n",
              "2                    Decision Tree     0.708947\n",
              "3             Gaussian Naive Bayes     0.735965\n",
              "4               K Nearest Neighbor     0.754298\n",
              "5     Linear Discriminant Analysis     0.740789\n",
              "6  Quadratic Discriminant Analysis     0.747105"
            ]
          },
          "metadata": {
            "tags": []
          },
          "execution_count": 121
        }
      ]
    },
    {
      "cell_type": "code",
      "metadata": {
        "colab": {
          "base_uri": "https://localhost:8080/",
          "height": 266
        },
        "id": "K-9UDvEUeZuC",
        "outputId": "60a211b0-a923-4449-dc6f-ebd13c95c594"
      },
      "source": [
        "compare_models.sort_values('best_scores', ascending=False)"
      ],
      "execution_count": 122,
      "outputs": [
        {
          "output_type": "execute_result",
          "data": {
            "text/html": [
              "<div>\n",
              "<style scoped>\n",
              "    .dataframe tbody tr th:only-of-type {\n",
              "        vertical-align: middle;\n",
              "    }\n",
              "\n",
              "    .dataframe tbody tr th {\n",
              "        vertical-align: top;\n",
              "    }\n",
              "\n",
              "    .dataframe thead th {\n",
              "        text-align: right;\n",
              "    }\n",
              "</style>\n",
              "<table border=\"1\" class=\"dataframe\">\n",
              "  <thead>\n",
              "    <tr style=\"text-align: right;\">\n",
              "      <th></th>\n",
              "      <th>model</th>\n",
              "      <th>best_scores</th>\n",
              "    </tr>\n",
              "  </thead>\n",
              "  <tbody>\n",
              "    <tr>\n",
              "      <th>4</th>\n",
              "      <td>K Nearest Neighbor</td>\n",
              "      <td>0.754298</td>\n",
              "    </tr>\n",
              "    <tr>\n",
              "      <th>6</th>\n",
              "      <td>Quadratic Discriminant Analysis</td>\n",
              "      <td>0.747105</td>\n",
              "    </tr>\n",
              "    <tr>\n",
              "      <th>5</th>\n",
              "      <td>Linear Discriminant Analysis</td>\n",
              "      <td>0.740789</td>\n",
              "    </tr>\n",
              "    <tr>\n",
              "      <th>3</th>\n",
              "      <td>Gaussian Naive Bayes</td>\n",
              "      <td>0.735965</td>\n",
              "    </tr>\n",
              "    <tr>\n",
              "      <th>0</th>\n",
              "      <td>Logistic Regression</td>\n",
              "      <td>0.715877</td>\n",
              "    </tr>\n",
              "    <tr>\n",
              "      <th>2</th>\n",
              "      <td>Decision Tree</td>\n",
              "      <td>0.708947</td>\n",
              "    </tr>\n",
              "    <tr>\n",
              "      <th>1</th>\n",
              "      <td>Random Forest</td>\n",
              "      <td>0.694035</td>\n",
              "    </tr>\n",
              "  </tbody>\n",
              "</table>\n",
              "</div>"
            ],
            "text/plain": [
              "                             model  best_scores\n",
              "4               K Nearest Neighbor     0.754298\n",
              "6  Quadratic Discriminant Analysis     0.747105\n",
              "5     Linear Discriminant Analysis     0.740789\n",
              "3             Gaussian Naive Bayes     0.735965\n",
              "0              Logistic Regression     0.715877\n",
              "2                    Decision Tree     0.708947\n",
              "1                    Random Forest     0.694035"
            ]
          },
          "metadata": {
            "tags": []
          },
          "execution_count": 122
        }
      ]
    }
  ]
}