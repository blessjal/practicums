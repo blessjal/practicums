{
  "nbformat": 4,
  "nbformat_minor": 0,
  "metadata": {
    "colab": {
      "name": "heart_neural_nets.ipynb",
      "provenance": [],
      "collapsed_sections": [],
      "authorship_tag": "ABX9TyP6he6w7No9YjU0ND2BympR",
      "include_colab_link": true
    },
    "kernelspec": {
      "name": "python3",
      "display_name": "Python 3"
    }
  },
  "cells": [
    {
      "cell_type": "markdown",
      "metadata": {
        "id": "view-in-github",
        "colab_type": "text"
      },
      "source": [
        "<a href=\"https://colab.research.google.com/github/blessjal/practicums/blob/master/heart_neural_nets.ipynb\" target=\"_parent\"><img src=\"https://colab.research.google.com/assets/colab-badge.svg\" alt=\"Open In Colab\"/></a>"
      ]
    },
    {
      "cell_type": "code",
      "metadata": {
        "id": "G7z_fJkJ7pS_"
      },
      "source": [
        "import numpy as np\n",
        "import pandas as pd\n",
        "import matplotlib.pyplot as plt\n",
        "import tensorflow as tf\n",
        "from tensorflow.keras.models import Sequential\n",
        "from tensorflow.keras import layers\n",
        "from tensorflow.keras.layers import Dense, InputLayer, Input\n",
        "from tensorflow.keras.metrics import mean_squared_error, Accuracy, binary_crossentropy,categorical_crossentropy, sparse_categorical_crossentropy"
      ],
      "execution_count": 1,
      "outputs": []
    },
    {
      "cell_type": "code",
      "metadata": {
        "colab": {
          "base_uri": "https://localhost:8080/",
          "height": 204
        },
        "id": "ME13-ufG9Mm_",
        "outputId": "ce8e708c-0403-44b9-bf70-379c97619053"
      },
      "source": [
        "df = pd.read_csv('/content/sample_data/Heart.txt').drop('Unnamed: 0',  axis=1)\n",
        "\n",
        "df.head()"
      ],
      "execution_count": 2,
      "outputs": [
        {
          "output_type": "execute_result",
          "data": {
            "text/html": [
              "<div>\n",
              "<style scoped>\n",
              "    .dataframe tbody tr th:only-of-type {\n",
              "        vertical-align: middle;\n",
              "    }\n",
              "\n",
              "    .dataframe tbody tr th {\n",
              "        vertical-align: top;\n",
              "    }\n",
              "\n",
              "    .dataframe thead th {\n",
              "        text-align: right;\n",
              "    }\n",
              "</style>\n",
              "<table border=\"1\" class=\"dataframe\">\n",
              "  <thead>\n",
              "    <tr style=\"text-align: right;\">\n",
              "      <th></th>\n",
              "      <th>Age</th>\n",
              "      <th>Sex</th>\n",
              "      <th>ChestPain</th>\n",
              "      <th>RestBP</th>\n",
              "      <th>Chol</th>\n",
              "      <th>Fbs</th>\n",
              "      <th>RestECG</th>\n",
              "      <th>MaxHR</th>\n",
              "      <th>ExAng</th>\n",
              "      <th>Oldpeak</th>\n",
              "      <th>Slope</th>\n",
              "      <th>Ca</th>\n",
              "      <th>Thal</th>\n",
              "      <th>AHD</th>\n",
              "    </tr>\n",
              "  </thead>\n",
              "  <tbody>\n",
              "    <tr>\n",
              "      <th>0</th>\n",
              "      <td>63</td>\n",
              "      <td>1</td>\n",
              "      <td>typical</td>\n",
              "      <td>145</td>\n",
              "      <td>233</td>\n",
              "      <td>1</td>\n",
              "      <td>2</td>\n",
              "      <td>150</td>\n",
              "      <td>0</td>\n",
              "      <td>2.3</td>\n",
              "      <td>3</td>\n",
              "      <td>0.0</td>\n",
              "      <td>fixed</td>\n",
              "      <td>No</td>\n",
              "    </tr>\n",
              "    <tr>\n",
              "      <th>1</th>\n",
              "      <td>67</td>\n",
              "      <td>1</td>\n",
              "      <td>asymptomatic</td>\n",
              "      <td>160</td>\n",
              "      <td>286</td>\n",
              "      <td>0</td>\n",
              "      <td>2</td>\n",
              "      <td>108</td>\n",
              "      <td>1</td>\n",
              "      <td>1.5</td>\n",
              "      <td>2</td>\n",
              "      <td>3.0</td>\n",
              "      <td>normal</td>\n",
              "      <td>Yes</td>\n",
              "    </tr>\n",
              "    <tr>\n",
              "      <th>2</th>\n",
              "      <td>67</td>\n",
              "      <td>1</td>\n",
              "      <td>asymptomatic</td>\n",
              "      <td>120</td>\n",
              "      <td>229</td>\n",
              "      <td>0</td>\n",
              "      <td>2</td>\n",
              "      <td>129</td>\n",
              "      <td>1</td>\n",
              "      <td>2.6</td>\n",
              "      <td>2</td>\n",
              "      <td>2.0</td>\n",
              "      <td>reversable</td>\n",
              "      <td>Yes</td>\n",
              "    </tr>\n",
              "    <tr>\n",
              "      <th>3</th>\n",
              "      <td>37</td>\n",
              "      <td>1</td>\n",
              "      <td>nonanginal</td>\n",
              "      <td>130</td>\n",
              "      <td>250</td>\n",
              "      <td>0</td>\n",
              "      <td>0</td>\n",
              "      <td>187</td>\n",
              "      <td>0</td>\n",
              "      <td>3.5</td>\n",
              "      <td>3</td>\n",
              "      <td>0.0</td>\n",
              "      <td>normal</td>\n",
              "      <td>No</td>\n",
              "    </tr>\n",
              "    <tr>\n",
              "      <th>4</th>\n",
              "      <td>41</td>\n",
              "      <td>0</td>\n",
              "      <td>nontypical</td>\n",
              "      <td>130</td>\n",
              "      <td>204</td>\n",
              "      <td>0</td>\n",
              "      <td>2</td>\n",
              "      <td>172</td>\n",
              "      <td>0</td>\n",
              "      <td>1.4</td>\n",
              "      <td>1</td>\n",
              "      <td>0.0</td>\n",
              "      <td>normal</td>\n",
              "      <td>No</td>\n",
              "    </tr>\n",
              "  </tbody>\n",
              "</table>\n",
              "</div>"
            ],
            "text/plain": [
              "   Age  Sex     ChestPain  RestBP  Chol  ...  Oldpeak  Slope   Ca        Thal  AHD\n",
              "0   63    1       typical     145   233  ...      2.3      3  0.0       fixed   No\n",
              "1   67    1  asymptomatic     160   286  ...      1.5      2  3.0      normal  Yes\n",
              "2   67    1  asymptomatic     120   229  ...      2.6      2  2.0  reversable  Yes\n",
              "3   37    1    nonanginal     130   250  ...      3.5      3  0.0      normal   No\n",
              "4   41    0    nontypical     130   204  ...      1.4      1  0.0      normal   No\n",
              "\n",
              "[5 rows x 14 columns]"
            ]
          },
          "metadata": {
            "tags": []
          },
          "execution_count": 2
        }
      ]
    },
    {
      "cell_type": "code",
      "metadata": {
        "id": "ejRASoyX9X_K"
      },
      "source": [
        "df = df.replace(np.nan, df.Ca.mean())"
      ],
      "execution_count": 3,
      "outputs": []
    },
    {
      "cell_type": "code",
      "metadata": {
        "id": "1ylZpu5m9arC"
      },
      "source": [
        "df.ChestPain = pd.factorize(df.ChestPain)[0]\n",
        "df.Thal = pd.factorize(df.Thal)[0]"
      ],
      "execution_count": 4,
      "outputs": []
    },
    {
      "cell_type": "code",
      "metadata": {
        "colab": {
          "base_uri": "https://localhost:8080/"
        },
        "id": "-BRp5lSGM8Q9",
        "outputId": "f890d2f3-73d5-405e-e410-310282bd406c"
      },
      "source": [
        "df.isnull().sum()"
      ],
      "execution_count": 5,
      "outputs": [
        {
          "output_type": "execute_result",
          "data": {
            "text/plain": [
              "Age          0\n",
              "Sex          0\n",
              "ChestPain    0\n",
              "RestBP       0\n",
              "Chol         0\n",
              "Fbs          0\n",
              "RestECG      0\n",
              "MaxHR        0\n",
              "ExAng        0\n",
              "Oldpeak      0\n",
              "Slope        0\n",
              "Ca           0\n",
              "Thal         0\n",
              "AHD          0\n",
              "dtype: int64"
            ]
          },
          "metadata": {
            "tags": []
          },
          "execution_count": 5
        }
      ]
    },
    {
      "cell_type": "code",
      "metadata": {
        "id": "vvg24P5d-WmO"
      },
      "source": [
        "X = df.iloc[:,:13].values\n",
        "y = df['AHD'].values"
      ],
      "execution_count": 6,
      "outputs": []
    },
    {
      "cell_type": "code",
      "metadata": {
        "colab": {
          "base_uri": "https://localhost:8080/"
        },
        "id": "Y9m9Mo3oA8jT",
        "outputId": "a1923261-c22c-4553-8825-f17b5766c20e"
      },
      "source": [
        "y = pd.factorize(y)[0]\n",
        "y"
      ],
      "execution_count": 7,
      "outputs": [
        {
          "output_type": "execute_result",
          "data": {
            "text/plain": [
              "array([0, 1, 1, 0, 0, 0, 1, 0, 1, 1, 0, 0, 1, 0, 0, 0, 1, 0, 0, 0, 0, 0,\n",
              "       1, 1, 1, 0, 0, 0, 0, 1, 0, 1, 1, 0, 0, 0, 1, 1, 1, 0, 1, 0, 0, 0,\n",
              "       1, 1, 0, 1, 0, 0, 0, 0, 1, 0, 1, 1, 1, 1, 0, 0, 1, 0, 1, 0, 1, 1,\n",
              "       1, 0, 1, 1, 0, 1, 1, 1, 1, 0, 1, 0, 0, 1, 0, 0, 0, 1, 0, 0, 0, 0,\n",
              "       0, 0, 0, 1, 0, 0, 0, 1, 1, 1, 0, 0, 0, 0, 0, 0, 1, 0, 1, 1, 1, 1,\n",
              "       1, 1, 0, 1, 1, 0, 0, 0, 1, 1, 1, 1, 0, 1, 1, 0, 1, 1, 0, 0, 0, 0,\n",
              "       0, 0, 0, 0, 1, 1, 1, 0, 0, 1, 0, 1, 0, 1, 1, 0, 0, 0, 0, 0, 0, 1,\n",
              "       1, 1, 1, 1, 1, 0, 0, 1, 0, 0, 0, 0, 0, 0, 1, 0, 1, 0, 1, 0, 1, 1,\n",
              "       0, 1, 0, 0, 1, 1, 0, 0, 1, 0, 0, 1, 1, 1, 0, 1, 1, 1, 0, 1, 0, 0,\n",
              "       0, 1, 0, 0, 0, 0, 0, 1, 1, 1, 0, 1, 0, 1, 0, 1, 1, 0, 0, 0, 0, 0,\n",
              "       0, 0, 0, 1, 1, 0, 0, 0, 1, 1, 0, 1, 1, 0, 0, 1, 1, 1, 0, 0, 0, 0,\n",
              "       0, 1, 0, 1, 1, 1, 1, 0, 0, 1, 0, 0, 0, 0, 0, 0, 0, 1, 0, 1, 0, 0,\n",
              "       1, 1, 1, 1, 1, 0, 1, 0, 1, 0, 1, 0, 0, 0, 1, 0, 1, 0, 1, 0, 1, 1,\n",
              "       1, 0, 0, 0, 1, 0, 1, 1, 1, 0, 1, 1, 1, 1, 1, 1, 0])"
            ]
          },
          "metadata": {
            "tags": []
          },
          "execution_count": 7
        }
      ]
    },
    {
      "cell_type": "code",
      "metadata": {
        "id": "MkdDELPD_7-y"
      },
      "source": [
        "from sklearn.preprocessing import StandardScaler\n",
        "from sklearn.model_selection import train_test_split\n",
        "\n",
        "X_train, X_test, y_train, y_test = train_test_split(X, y, test_size = 0.3, random_state=0)\n",
        "\n",
        "sc = StandardScaler()\n",
        "\n",
        "X_train = sc.fit_transform(X_train)\n",
        "X_test = sc.transform(X_test)\n",
        "\n"
      ],
      "execution_count": 8,
      "outputs": []
    },
    {
      "cell_type": "code",
      "metadata": {
        "colab": {
          "base_uri": "https://localhost:8080/"
        },
        "id": "FKH5NtzxRtKy",
        "outputId": "ab5fab9f-7aef-4e0e-f76c-03d326ec1443"
      },
      "source": [
        "X_train.shape, y_train.shape"
      ],
      "execution_count": 9,
      "outputs": [
        {
          "output_type": "execute_result",
          "data": {
            "text/plain": [
              "((212, 13), (212,))"
            ]
          },
          "metadata": {
            "tags": []
          },
          "execution_count": 9
        }
      ]
    },
    {
      "cell_type": "code",
      "metadata": {
        "id": "NufIG3FsRcG6"
      },
      "source": [
        "X_valid, X_train = X_train[106:,] , X_train[:106,] \n",
        "y_valid, y_train = y_train[106:,], y_train[:106,]\n"
      ],
      "execution_count": 10,
      "outputs": []
    },
    {
      "cell_type": "code",
      "metadata": {
        "colab": {
          "base_uri": "https://localhost:8080/"
        },
        "id": "lv4pzSn_Ufn0",
        "outputId": "a49735dd-2a9b-44cd-ebb4-dde4338e25ea"
      },
      "source": [
        "X_valid.shape, y_valid.shape, y_train.shape,  X_train.shape"
      ],
      "execution_count": 11,
      "outputs": [
        {
          "output_type": "execute_result",
          "data": {
            "text/plain": [
              "((106, 13), (106,), (106,), (106, 13))"
            ]
          },
          "metadata": {
            "tags": []
          },
          "execution_count": 11
        }
      ]
    },
    {
      "cell_type": "code",
      "metadata": {
        "id": "EhB4sfgXA20H"
      },
      "source": [
        "clf = Sequential([\n",
        "    # InputLayer(input_shape=(X_train.shape[1],)),\n",
        "    Dense(units=128, activation='relu', name = 'layer1'),\n",
        "    Dense(units=128, activation='relu', name = 'layer2'),\n",
        "    Dense(units=1, activation='sigmoid', name = 'layer3'),\n",
        "    \n",
        "   \n",
        "   \n",
        "    \n",
        "])"
      ],
      "execution_count": 12,
      "outputs": []
    },
    {
      "cell_type": "code",
      "metadata": {
        "id": "_cqkBu_nFa2n"
      },
      "source": [
        "clf.compile(optimizer='adam', loss='binary_crossentropy',  metrics=['accuracy'])"
      ],
      "execution_count": 13,
      "outputs": []
    },
    {
      "cell_type": "code",
      "metadata": {
        "colab": {
          "base_uri": "https://localhost:8080/"
        },
        "id": "Hnnk6eghFzhV",
        "outputId": "2928c178-f094-4ef8-f590-30189214a0e6"
      },
      "source": [
        "history = clf.fit(X_train, y_train, validation_data=(X_valid, y_valid), epochs=25, verbose=2)"
      ],
      "execution_count": 14,
      "outputs": [
        {
          "output_type": "stream",
          "text": [
            "Epoch 1/25\n",
            "4/4 - 1s - loss: 0.7036 - accuracy: 0.4811 - val_loss: 0.6562 - val_accuracy: 0.6792\n",
            "Epoch 2/25\n",
            "4/4 - 0s - loss: 0.5870 - accuracy: 0.7830 - val_loss: 0.5747 - val_accuracy: 0.7736\n",
            "Epoch 3/25\n",
            "4/4 - 0s - loss: 0.5099 - accuracy: 0.8302 - val_loss: 0.5125 - val_accuracy: 0.8019\n",
            "Epoch 4/25\n",
            "4/4 - 0s - loss: 0.4498 - accuracy: 0.8679 - val_loss: 0.4683 - val_accuracy: 0.8113\n",
            "Epoch 5/25\n",
            "4/4 - 0s - loss: 0.4013 - accuracy: 0.8962 - val_loss: 0.4385 - val_accuracy: 0.8208\n",
            "Epoch 6/25\n",
            "4/4 - 0s - loss: 0.3677 - accuracy: 0.8868 - val_loss: 0.4145 - val_accuracy: 0.8302\n",
            "Epoch 7/25\n",
            "4/4 - 0s - loss: 0.3387 - accuracy: 0.8962 - val_loss: 0.4029 - val_accuracy: 0.8302\n",
            "Epoch 8/25\n",
            "4/4 - 0s - loss: 0.3174 - accuracy: 0.9057 - val_loss: 0.3986 - val_accuracy: 0.8302\n",
            "Epoch 9/25\n",
            "4/4 - 0s - loss: 0.3011 - accuracy: 0.9057 - val_loss: 0.3897 - val_accuracy: 0.8208\n",
            "Epoch 10/25\n",
            "4/4 - 0s - loss: 0.2862 - accuracy: 0.9245 - val_loss: 0.3817 - val_accuracy: 0.8302\n",
            "Epoch 11/25\n",
            "4/4 - 0s - loss: 0.2694 - accuracy: 0.9340 - val_loss: 0.3816 - val_accuracy: 0.8302\n",
            "Epoch 12/25\n",
            "4/4 - 0s - loss: 0.2581 - accuracy: 0.9245 - val_loss: 0.3847 - val_accuracy: 0.8208\n",
            "Epoch 13/25\n",
            "4/4 - 0s - loss: 0.2459 - accuracy: 0.9245 - val_loss: 0.3946 - val_accuracy: 0.8302\n",
            "Epoch 14/25\n",
            "4/4 - 0s - loss: 0.2351 - accuracy: 0.9245 - val_loss: 0.3990 - val_accuracy: 0.8302\n",
            "Epoch 15/25\n",
            "4/4 - 0s - loss: 0.2243 - accuracy: 0.9245 - val_loss: 0.3975 - val_accuracy: 0.8396\n",
            "Epoch 16/25\n",
            "4/4 - 0s - loss: 0.2155 - accuracy: 0.9340 - val_loss: 0.3932 - val_accuracy: 0.8396\n",
            "Epoch 17/25\n",
            "4/4 - 0s - loss: 0.2061 - accuracy: 0.9340 - val_loss: 0.3950 - val_accuracy: 0.8396\n",
            "Epoch 18/25\n",
            "4/4 - 0s - loss: 0.1981 - accuracy: 0.9340 - val_loss: 0.3982 - val_accuracy: 0.8302\n",
            "Epoch 19/25\n",
            "4/4 - 0s - loss: 0.1905 - accuracy: 0.9434 - val_loss: 0.4081 - val_accuracy: 0.8208\n",
            "Epoch 20/25\n",
            "4/4 - 0s - loss: 0.1819 - accuracy: 0.9340 - val_loss: 0.4227 - val_accuracy: 0.8208\n",
            "Epoch 21/25\n",
            "4/4 - 0s - loss: 0.1717 - accuracy: 0.9340 - val_loss: 0.4467 - val_accuracy: 0.8302\n",
            "Epoch 22/25\n",
            "4/4 - 0s - loss: 0.1652 - accuracy: 0.9434 - val_loss: 0.4648 - val_accuracy: 0.8302\n",
            "Epoch 23/25\n",
            "4/4 - 0s - loss: 0.1593 - accuracy: 0.9434 - val_loss: 0.4703 - val_accuracy: 0.8302\n",
            "Epoch 24/25\n",
            "4/4 - 0s - loss: 0.1512 - accuracy: 0.9528 - val_loss: 0.4719 - val_accuracy: 0.8208\n",
            "Epoch 25/25\n",
            "4/4 - 0s - loss: 0.1426 - accuracy: 0.9528 - val_loss: 0.4653 - val_accuracy: 0.8208\n"
          ],
          "name": "stdout"
        }
      ]
    },
    {
      "cell_type": "code",
      "metadata": {
        "colab": {
          "base_uri": "https://localhost:8080/"
        },
        "id": "TqAt9ZF9HSfb",
        "outputId": "73b5bb48-9f8a-44ba-dc4f-c6d5a2cac0bc"
      },
      "source": [
        "clf.summary()"
      ],
      "execution_count": 15,
      "outputs": [
        {
          "output_type": "stream",
          "text": [
            "Model: \"sequential\"\n",
            "_________________________________________________________________\n",
            "Layer (type)                 Output Shape              Param #   \n",
            "=================================================================\n",
            "layer1 (Dense)               (None, 128)               1792      \n",
            "_________________________________________________________________\n",
            "layer2 (Dense)               (None, 128)               16512     \n",
            "_________________________________________________________________\n",
            "layer3 (Dense)               (None, 1)                 129       \n",
            "=================================================================\n",
            "Total params: 18,433\n",
            "Trainable params: 18,433\n",
            "Non-trainable params: 0\n",
            "_________________________________________________________________\n"
          ],
          "name": "stdout"
        }
      ]
    },
    {
      "cell_type": "code",
      "metadata": {
        "id": "HJ5OdYLdGBk-"
      },
      "source": [
        "pred = clf.predict(X_test)"
      ],
      "execution_count": 16,
      "outputs": []
    },
    {
      "cell_type": "code",
      "metadata": {
        "colab": {
          "base_uri": "https://localhost:8080/"
        },
        "id": "oPwVAvIZFzmP",
        "outputId": "777ec79c-aad4-4df2-c1a8-ca496f3bddba"
      },
      "source": [
        "pred[:10]"
      ],
      "execution_count": 17,
      "outputs": [
        {
          "output_type": "execute_result",
          "data": {
            "text/plain": [
              "array([[1.5494227e-04],\n",
              "       [8.9702445e-01],\n",
              "       [7.5826740e-01],\n",
              "       [7.9315543e-01],\n",
              "       [1.2215176e-01],\n",
              "       [1.9255593e-01],\n",
              "       [9.5708704e-01],\n",
              "       [4.5499820e-01],\n",
              "       [9.8461556e-01],\n",
              "       [3.0737093e-01]], dtype=float32)"
            ]
          },
          "metadata": {
            "tags": []
          },
          "execution_count": 17
        }
      ]
    },
    {
      "cell_type": "code",
      "metadata": {
        "colab": {
          "base_uri": "https://localhost:8080/",
          "height": 295
        },
        "id": "WQt74T_UFzr_",
        "outputId": "ce5e55f4-5f15-40ff-80a0-742fa42f5f0e"
      },
      "source": [
        "plt.plot(history.history['accuracy'])\n",
        "plt.plot(history.history['val_accuracy'])\n",
        "plt.title('model accuracy')\n",
        "plt.ylabel('accuracy')\n",
        "plt.xlabel('epoch')\n",
        "plt.ylim((0, 1))\n",
        "plt.legend(['train', 'test'], loc='lower right');"
      ],
      "execution_count": 18,
      "outputs": [
        {
          "output_type": "display_data",
          "data": {
            "image/png": "[encoded data removed]",
            "text/plain": [
              "<Figure size 432x288 with 1 Axes>"
            ]
          },
          "metadata": {
            "tags": [],
            "needs_background": "light"
          }
        }
      ]
    },
    {
      "cell_type": "code",
      "metadata": {
        "colab": {
          "base_uri": "https://localhost:8080/",
          "height": 295
        },
        "id": "1m_3-RRPFzwx",
        "outputId": "aebfa1ed-acca-424f-9d8c-11c1f4cd7931"
      },
      "source": [
        "plt.plot(history.history['loss'])\n",
        "plt.plot(history.history['val_loss'])\n",
        "plt.title('model error')\n",
        "plt.ylabel('loss')\n",
        "plt.xlabel('epoch')\n",
        "plt.ylim((0, 1))\n",
        "plt.legend(['train', 'test'], loc='lower right');"
      ],
      "execution_count": 19,
      "outputs": [
        {
          "output_type": "display_data",
          "data": {
            "image/png": "[encoded data removed]",
            "text/plain": [
              "<Figure size 432x288 with 1 Axes>"
            ]
          },
          "metadata": {
            "tags": [],
            "needs_background": "light"
          }
        }
      ]
    },
    {
      "cell_type": "code",
      "metadata": {
        "colab": {
          "base_uri": "https://localhost:8080/"
        },
        "id": "7kbbfX20Fz0p",
        "outputId": "2998a119-2fdf-4214-bf02-b59c41f05c52"
      },
      "source": [
        "history.params"
      ],
      "execution_count": 20,
      "outputs": [
        {
          "output_type": "execute_result",
          "data": {
            "text/plain": [
              "{'epochs': 25, 'steps': 4, 'verbose': 2}"
            ]
          },
          "metadata": {
            "tags": []
          },
          "execution_count": 20
        }
      ]
    },
    {
      "cell_type": "code",
      "metadata": {
        "colab": {
          "base_uri": "https://localhost:8080/"
        },
        "id": "apd9ikJ3Ztfp",
        "outputId": "bf88cfa3-c3af-4f1c-ae40-5fd17bed9dce"
      },
      "source": [
        "history.history.keys()"
      ],
      "execution_count": 21,
      "outputs": [
        {
          "output_type": "execute_result",
          "data": {
            "text/plain": [
              "dict_keys(['loss', 'accuracy', 'val_loss', 'val_accuracy'])"
            ]
          },
          "metadata": {
            "tags": []
          },
          "execution_count": 21
        }
      ]
    },
    {
      "cell_type": "code",
      "metadata": {
        "colab": {
          "base_uri": "https://localhost:8080/",
          "height": 324
        },
        "id": "J74zDPhAZ2D4",
        "outputId": "d8c0ac3e-292b-43fd-d6c0-45d09a37a9bc"
      },
      "source": [
        "pd.DataFrame(history.history).plot(figsize=(8, 5))\n",
        "plt.grid(True)\n",
        "plt.gca().set_ylim(0, 1)\n",
        "# save_fig(\"keras_learning_curves_plot\")\n",
        "plt.show()"
      ],
      "execution_count": 22,
      "outputs": [
        {
          "output_type": "display_data",
          "data": {
            "image/png": "[encoded data removed]",
            "text/plain": [
              "<Figure size 576x360 with 1 Axes>"
            ]
          },
          "metadata": {
            "tags": [],
            "needs_background": "light"
          }
        }
      ]
    },
    {
      "cell_type": "code",
      "metadata": {
        "id": "ybqeTJyWxAPu"
      },
      "source": [
        "from sklearn.metrics import classification_report, confusion_matrix, plot_confusion_matrix, ConfusionMatrixDisplay, roc_curve"
      ],
      "execution_count": 53,
      "outputs": []
    },
    {
      "cell_type": "code",
      "metadata": {
        "id": "SfiKBFzyy3Kl"
      },
      "source": [
        "bin_predictions = tf.round(pred).numpy().flatten()"
      ],
      "execution_count": 26,
      "outputs": []
    },
    {
      "cell_type": "code",
      "metadata": {
        "colab": {
          "base_uri": "https://localhost:8080/"
        },
        "id": "gBJe0khTdSqe",
        "outputId": "154c3f2d-d9fa-4218-d8c3-90d9657c853b"
      },
      "source": [
        "print(classification_report(y_test, bin_predictions))"
      ],
      "execution_count": 27,
      "outputs": [
        {
          "output_type": "stream",
          "text": [
            "              precision    recall  f1-score   support\n",
            "\n",
            "           0       0.64      0.79      0.70        47\n",
            "           1       0.70      0.52      0.60        44\n",
            "\n",
            "    accuracy                           0.66        91\n",
            "   macro avg       0.67      0.65      0.65        91\n",
            "weighted avg       0.67      0.66      0.65        91\n",
            "\n"
          ],
          "name": "stdout"
        }
      ]
    },
    {
      "cell_type": "code",
      "metadata": {
        "id": "3h4iXBqvy0WM",
        "colab": {
          "base_uri": "https://localhost:8080/"
        },
        "outputId": "0b16cf8c-b444-4c87-fcfc-5bfb9804462f"
      },
      "source": [
        "cnf_matrix = confusion_matrix(y_test, bin_predictions)\n",
        "cnf_matrix"
      ],
      "execution_count": 28,
      "outputs": [
        {
          "output_type": "execute_result",
          "data": {
            "text/plain": [
              "array([[37, 10],\n",
              "       [21, 23]])"
            ]
          },
          "metadata": {
            "tags": []
          },
          "execution_count": 28
        }
      ]
    },
    {
      "cell_type": "code",
      "metadata": {
        "colab": {
          "base_uri": "https://localhost:8080/",
          "height": 279
        },
        "id": "U6wafx5Jgf0O",
        "outputId": "6002b290-ac43-4acc-ae11-ef493601067f"
      },
      "source": [
        "disp = ConfusionMatrixDisplay(cnf_matrix, display_labels=['No AHD', 'AHD'])\n",
        "\n",
        "disp = disp.plot(include_values=True,\n",
        "                 cmap='viridis', xticks_rotation='horizontal')\n"
      ],
      "execution_count": 29,
      "outputs": [
        {
          "output_type": "display_data",
          "data": {
            "image/png": "[encoded data removed]",
            "text/plain": [
              "<Figure size 432x288 with 2 Axes>"
            ]
          },
          "metadata": {
            "tags": [],
            "needs_background": "light"
          }
        }
      ]
    },
    {
      "cell_type": "code",
      "metadata": {
        "id": "nQHi0da3jFrQ"
      },
      "source": [
        "from sklearn.linear_model import LogisticRegression\n",
        "from sklearn.ensemble import RandomForestClassifier, GradientBoostingClassifier"
      ],
      "execution_count": 30,
      "outputs": []
    },
    {
      "cell_type": "code",
      "metadata": {
        "id": "Wtwt1z3JjFwc"
      },
      "source": [
        "lr = LogisticRegression(random_state=0)\n",
        "lr.fit(X_train, y_train)\n",
        "\n",
        "lrPred = lr.predict(X_test)"
      ],
      "execution_count": 31,
      "outputs": []
    },
    {
      "cell_type": "code",
      "metadata": {
        "colab": {
          "base_uri": "https://localhost:8080/",
          "height": 296
        },
        "id": "_lP2aMTujF00",
        "outputId": "ccbaef7b-d360-4cfd-b7d6-9abf2da2881f"
      },
      "source": [
        "cm = confusion_matrix(y_test, lrPred)\n",
        "\n",
        "ConfusionMatrixDisplay(cm, display_labels=[0, 1]).plot()"
      ],
      "execution_count": 32,
      "outputs": [
        {
          "output_type": "execute_result",
          "data": {
            "text/plain": [
              "<sklearn.metrics._plot.confusion_matrix.ConfusionMatrixDisplay at 0x7f8a05aeaa10>"
            ]
          },
          "metadata": {
            "tags": []
          },
          "execution_count": 32
        },
        {
          "output_type": "display_data",
          "data": {
            "image/png": "[encoded data removed]",
            "text/plain": [
              "<Figure size 432x288 with 2 Axes>"
            ]
          },
          "metadata": {
            "tags": [],
            "needs_background": "light"
          }
        }
      ]
    },
    {
      "cell_type": "code",
      "metadata": {
        "colab": {
          "base_uri": "https://localhost:8080/"
        },
        "id": "Ppke4xjdjF5w",
        "outputId": "cef6aee7-c4a1-4b74-f36f-dc2f14f4777f"
      },
      "source": [
        "print(classification_report(y_test,  lrPred))"
      ],
      "execution_count": 33,
      "outputs": [
        {
          "output_type": "stream",
          "text": [
            "              precision    recall  f1-score   support\n",
            "\n",
            "           0       0.68      0.83      0.75        47\n",
            "           1       0.76      0.59      0.67        44\n",
            "\n",
            "    accuracy                           0.71        91\n",
            "   macro avg       0.72      0.71      0.71        91\n",
            "weighted avg       0.72      0.71      0.71        91\n",
            "\n"
          ],
          "name": "stdout"
        }
      ]
    },
    {
      "cell_type": "code",
      "metadata": {
        "id": "gTkxodxBdEm_"
      },
      "source": [
        "rf = RandomForestClassifier(random_state=1)\n",
        "\n",
        "rf.fit(X_train, y_train)\n",
        "\n",
        "rfPred = rf.predict(X_test)"
      ],
      "execution_count": 34,
      "outputs": []
    },
    {
      "cell_type": "code",
      "metadata": {
        "colab": {
          "base_uri": "https://localhost:8080/",
          "height": 296
        },
        "id": "F34_Nxwliivb",
        "outputId": "af3ad023-2332-43a0-d638-ad67a972a52e"
      },
      "source": [
        "rf_cm = confusion_matrix(y_test, rfPred)\n",
        "\n",
        "ConfusionMatrixDisplay(rf_cm, display_labels=[0, 1]).plot()"
      ],
      "execution_count": 35,
      "outputs": [
        {
          "output_type": "execute_result",
          "data": {
            "text/plain": [
              "<sklearn.metrics._plot.confusion_matrix.ConfusionMatrixDisplay at 0x7f8a01c86910>"
            ]
          },
          "metadata": {
            "tags": []
          },
          "execution_count": 35
        },
        {
          "output_type": "display_data",
          "data": {
            "image/png": "[encoded data removed]",
            "text/plain": [
              "<Figure size 432x288 with 2 Axes>"
            ]
          },
          "metadata": {
            "tags": [],
            "needs_background": "light"
          }
        }
      ]
    },
    {
      "cell_type": "code",
      "metadata": {
        "colab": {
          "base_uri": "https://localhost:8080/"
        },
        "id": "CXhv8_OWimaU",
        "outputId": "23a70dab-f8fe-4181-a9fe-0dcce5e78630"
      },
      "source": [
        "print(classification_report(y_test, rfPred))"
      ],
      "execution_count": 36,
      "outputs": [
        {
          "output_type": "stream",
          "text": [
            "              precision    recall  f1-score   support\n",
            "\n",
            "           0       0.70      0.83      0.76        47\n",
            "           1       0.77      0.61      0.68        44\n",
            "\n",
            "    accuracy                           0.73        91\n",
            "   macro avg       0.73      0.72      0.72        91\n",
            "weighted avg       0.73      0.73      0.72        91\n",
            "\n"
          ],
          "name": "stdout"
        }
      ]
    },
    {
      "cell_type": "code",
      "metadata": {
        "id": "lkyyLHA7l-xq"
      },
      "source": [
        "from sklearn.model_selection import GridSearchCV, StratifiedKFold\n",
        "from sklearn.ensemble import BaggingClassifier"
      ],
      "execution_count": 37,
      "outputs": []
    },
    {
      "cell_type": "code",
      "metadata": {
        "id": "iDEMuYfXmJ72"
      },
      "source": [
        "cv = StratifiedKFold(n_splits=10, random_state=0, shuffle=True)"
      ],
      "execution_count": 38,
      "outputs": []
    },
    {
      "cell_type": "code",
      "metadata": {
        "id": "MlK7aqf-mcIf"
      },
      "source": [
        "parameters = {'n_estimators': [100, 200, 300], 'criterion': ['gini', 'entropy'], 'max_depth': [0, 1, 2], 'min_samples_split':[2, 3, 4] }\n",
        "\n",
        "grid_rf = GridSearchCV(rf, param_grid=parameters, cv=cv, scoring= 'accuracy', n_jobs=-1)\n",
        "\n",
        "rf_result = grid_rf.fit(X_train, y_train)"
      ],
      "execution_count": 39,
      "outputs": []
    },
    {
      "cell_type": "code",
      "metadata": {
        "colab": {
          "base_uri": "https://localhost:8080/"
        },
        "id": "lGc2HTDnoRWT",
        "outputId": "2db06750-caaa-4f0e-c75a-1e58dc9767b1"
      },
      "source": [
        "print('The best parameters of the model is: ', rf_result.best_params_)\n",
        "print()\n",
        "print('-'*100)\n",
        "print('The best score of the model is: ', rf_result.best_score_)\n",
        "print()\n",
        "print('-'*100)\n",
        "print('The best estimator of the model is: ', rf_result.best_estimator_)\n",
        "print()\n",
        "print('-'*100)"
      ],
      "execution_count": 40,
      "outputs": [
        {
          "output_type": "stream",
          "text": [
            "The best parameters of the model is:  {'criterion': 'gini', 'max_depth': 2, 'min_samples_split': 2, 'n_estimators': 200}\n",
            "\n",
            "----------------------------------------------------------------------------------------------------\n",
            "The best score of the model is:  0.8290909090909091\n",
            "\n",
            "----------------------------------------------------------------------------------------------------\n",
            "The best estimator of the model is:  RandomForestClassifier(bootstrap=True, ccp_alpha=0.0, class_weight=None,\n",
            "                       criterion='gini', max_depth=2, max_features='auto',\n",
            "                       max_leaf_nodes=None, max_samples=None,\n",
            "                       min_impurity_decrease=0.0, min_impurity_split=None,\n",
            "                       min_samples_leaf=1, min_samples_split=2,\n",
            "                       min_weight_fraction_leaf=0.0, n_estimators=200,\n",
            "                       n_jobs=None, oob_score=False, random_state=1, verbose=0,\n",
            "                       warm_start=False)\n",
            "\n",
            "----------------------------------------------------------------------------------------------------\n"
          ],
          "name": "stdout"
        }
      ]
    },
    {
      "cell_type": "code",
      "metadata": {
        "id": "vLTvGPKqql5E"
      },
      "source": [
        "bc = BaggingClassifier(base_estimator=rf)\n",
        "\n",
        "bc.fit(X_train, y_train)\n",
        "\n",
        "bcPred = bc.predict(X_test)"
      ],
      "execution_count": 41,
      "outputs": []
    },
    {
      "cell_type": "code",
      "metadata": {
        "colab": {
          "base_uri": "https://localhost:8080/"
        },
        "id": "sJnyHJTErmNp",
        "outputId": "7a32c042-a827-485c-ab87-1b10cda98971"
      },
      "source": [
        "print(classification_report(y_test, bcPred))"
      ],
      "execution_count": 42,
      "outputs": [
        {
          "output_type": "stream",
          "text": [
            "              precision    recall  f1-score   support\n",
            "\n",
            "           0       0.70      0.81      0.75        47\n",
            "           1       0.76      0.64      0.69        44\n",
            "\n",
            "    accuracy                           0.73        91\n",
            "   macro avg       0.73      0.72      0.72        91\n",
            "weighted avg       0.73      0.73      0.72        91\n",
            "\n"
          ],
          "name": "stdout"
        }
      ]
    },
    {
      "cell_type": "code",
      "metadata": {
        "colab": {
          "base_uri": "https://localhost:8080/",
          "height": 296
        },
        "id": "_WoEOIV5sKde",
        "outputId": "1a80fd0e-9892-4d12-be9e-bc8666759b13"
      },
      "source": [
        "cm_bc = confusion_matrix(y_test, bcPred)\n",
        "ConfusionMatrixDisplay(cm_bc, display_labels=[0, 1]).plot()"
      ],
      "execution_count": 43,
      "outputs": [
        {
          "output_type": "execute_result",
          "data": {
            "text/plain": [
              "<sklearn.metrics._plot.confusion_matrix.ConfusionMatrixDisplay at 0x7f8a01ac9610>"
            ]
          },
          "metadata": {
            "tags": []
          },
          "execution_count": 43
        },
        {
          "output_type": "display_data",
          "data": {
            "image/png": "[encoded data removed]",
            "text/plain": [
              "<Figure size 432x288 with 2 Axes>"
            ]
          },
          "metadata": {
            "tags": [],
            "needs_background": "light"
          }
        }
      ]
    },
    {
      "cell_type": "code",
      "metadata": {
        "id": "XUdfXAgpsYSk"
      },
      "source": [
        "gb = GradientBoostingClassifier()\n",
        "\n",
        "gb.fit(X_train, y_train)\n",
        "\n",
        "gbPred = gb.predict(X_test)"
      ],
      "execution_count": 44,
      "outputs": []
    },
    {
      "cell_type": "code",
      "metadata": {
        "colab": {
          "base_uri": "https://localhost:8080/"
        },
        "id": "91b8aL6_JqJ_",
        "outputId": "4eac61b9-5c35-4a2c-c647-b29f534a1b79"
      },
      "source": [
        "print(classification_report(y_test, gbPred))"
      ],
      "execution_count": 45,
      "outputs": [
        {
          "output_type": "stream",
          "text": [
            "              precision    recall  f1-score   support\n",
            "\n",
            "           0       0.70      0.79      0.74        47\n",
            "           1       0.74      0.64      0.68        44\n",
            "\n",
            "    accuracy                           0.71        91\n",
            "   macro avg       0.72      0.71      0.71        91\n",
            "weighted avg       0.72      0.71      0.71        91\n",
            "\n"
          ],
          "name": "stdout"
        }
      ]
    },
    {
      "cell_type": "code",
      "metadata": {
        "id": "Ff1wsLMwLmK0"
      },
      "source": [
        "parameters = {'n_estimators': [100, 200, 300], 'loss': ['deviance', 'exponential'], 'learning_rate': [0.001, 0.01, 0.1], 'criterion':['friedman_mse', 'mse', 'mae'] }\n",
        "\n",
        "grid_gb = GridSearchCV(gb, param_grid=parameters, cv=cv, scoring= 'accuracy', n_jobs=-1)\n",
        "\n",
        "gb_result = grid_gb.fit(X_train, y_train)"
      ],
      "execution_count": 49,
      "outputs": []
    },
    {
      "cell_type": "code",
      "metadata": {
        "colab": {
          "base_uri": "https://localhost:8080/"
        },
        "id": "2gTMrPWyLmaX",
        "outputId": "4b310117-d48b-4f14-df88-5627f95f61da"
      },
      "source": [
        "print('The best parameters of the model is: ', gb_result.best_params_)\n",
        "print()\n",
        "print('-'*100)\n",
        "print('The best score of the model is: ', gb_result.best_score_)\n",
        "print()\n",
        "print('-'*100)\n",
        "print('The best estimator of the model is: ', gb_result.best_estimator_)\n",
        "print()\n",
        "print('-'*100)"
      ],
      "execution_count": 50,
      "outputs": [
        {
          "output_type": "stream",
          "text": [
            "The best parameters of the model is:  {'criterion': 'friedman_mse', 'learning_rate': 0.01, 'loss': 'deviance', 'n_estimators': 300}\n",
            "\n",
            "----------------------------------------------------------------------------------------------------\n",
            "The best score of the model is:  0.7899999999999999\n",
            "\n",
            "----------------------------------------------------------------------------------------------------\n",
            "The best estimator of the model is:  GradientBoostingClassifier(ccp_alpha=0.0, criterion='friedman_mse', init=None,\n",
            "                           learning_rate=0.01, loss='deviance', max_depth=3,\n",
            "                           max_features=None, max_leaf_nodes=None,\n",
            "                           min_impurity_decrease=0.0, min_impurity_split=None,\n",
            "                           min_samples_leaf=1, min_samples_split=2,\n",
            "                           min_weight_fraction_leaf=0.0, n_estimators=300,\n",
            "                           n_iter_no_change=None, presort='deprecated',\n",
            "                           random_state=None, subsample=1.0, tol=0.0001,\n",
            "                           validation_fraction=0.1, verbose=0,\n",
            "                           warm_start=False)\n",
            "\n",
            "----------------------------------------------------------------------------------------------------\n"
          ],
          "name": "stdout"
        }
      ]
    },
    {
      "cell_type": "code",
      "metadata": {
        "id": "PU8UhXf-Lmd-"
      },
      "source": [
        "y_pred_gb = gb.predict_proba(X_test)[:, 1]\n",
        "fpr_gb, tpr_gb, _ = roc_curve(y_test, y_pred_gb)\n",
        "\n",
        "y_pred_rf = rf.predict_proba(X_test)[:, 1]\n",
        "fpr_rf, tpr_rf, _ = roc_curve(y_test, y_pred_rf)"
      ],
      "execution_count": 58,
      "outputs": []
    },
    {
      "cell_type": "code",
      "metadata": {
        "id": "lnBGmIb4Qo9L"
      },
      "source": [
        "from sklearn.metrics import auc\n",
        "\n",
        "rf_auc = auc(fpr_rf, tpr_rf)\n",
        "gb_auc = auc(fpr_gb, tpr_gb)"
      ],
      "execution_count": 62,
      "outputs": []
    },
    {
      "cell_type": "code",
      "metadata": {
        "colab": {
          "base_uri": "https://localhost:8080/",
          "height": 312
        },
        "id": "rq5EAD-PO55C",
        "outputId": "dbc87880-f4ec-4537-9b6a-5845e8fc9f95"
      },
      "source": [
        "plt.plot([0, 1], [0, 1], color='g', linestyle='-', label='Baseline')\n",
        "plt.plot(fpr_gb, tpr_gb, color = 'b', label='Gradient Boosting AUC: {:0.2f}'.format(gb_auc))\n",
        "plt.xlabel('False positive rate')\n",
        "plt.ylabel('True positive rate')\n",
        "plt.plot(fpr_rf, tpr_rf, color = 'r', label='Random Forest AUC: {:0.2f}'.format(rf_auc))\n",
        "plt.legend(loc = 'best')\n",
        "plt.title('ROC Curves')"
      ],
      "execution_count": 83,
      "outputs": [
        {
          "output_type": "execute_result",
          "data": {
            "text/plain": [
              "Text(0.5, 1.0, 'ROC Curves')"
            ]
          },
          "metadata": {
            "tags": []
          },
          "execution_count": 83
        },
        {
          "output_type": "display_data",
          "data": {
            "image/png": "[encoded data removed]",
            "text/plain": [
              "<Figure size 432x288 with 1 Axes>"
            ]
          },
          "metadata": {
            "tags": [],
            "needs_background": "light"
          }
        }
      ]
    },
    {
      "cell_type": "code",
      "metadata": {
        "id": "9jKDm0kocG8i"
      },
      "source": [
        ""
      ],
      "execution_count": null,
      "outputs": []
    }
  ]
}