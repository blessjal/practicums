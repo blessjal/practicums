{
  "nbformat": 4,
  "nbformat_minor": 0,
  "metadata": {
    "colab": {
      "name": "heart_neural_nets.ipynb",
      "provenance": [],
      "collapsed_sections": [],
      "authorship_tag": "ABX9TyN43aGeGU85a1SI/6vLHqnC",
      "include_colab_link": true
    },
    "kernelspec": {
      "name": "python3",
      "display_name": "Python 3"
    }
  },
  "cells": [
    {
      "cell_type": "markdown",
      "metadata": {
        "id": "view-in-github",
        "colab_type": "text"
      },
      "source": [
        "<a href=\"https://colab.research.google.com/github/blessjal/practicums/blob/master/heart_neural_nets.ipynb\" target=\"_parent\"><img src=\"https://colab.research.google.com/assets/colab-badge.svg\" alt=\"Open In Colab\"/></a>"
      ]
    },
    {
      "cell_type": "code",
      "metadata": {
        "id": "G7z_fJkJ7pS_"
      },
      "source": [
        "import numpy as np\n",
        "import pandas as pd\n",
        "import matplotlib.pyplot as plt\n",
        "import tensorflow as tf\n",
        "from tensorflow.keras.models import Sequential\n",
        "from tensorflow.keras import layers\n",
        "from tensorflow.keras.layers import Dense, InputLayer, Input\n",
        "from tensorflow.keras.metrics import mean_squared_error, Accuracy, binary_crossentropy,categorical_crossentropy, sparse_categorical_crossentropy"
      ],
      "execution_count": 85,
      "outputs": []
    },
    {
      "cell_type": "code",
      "metadata": {
        "colab": {
          "base_uri": "https://localhost:8080/",
          "height": 204
        },
        "id": "ME13-ufG9Mm_",
        "outputId": "785816c6-23d2-4ed9-a88f-d5b1ee28d7a7"
      },
      "source": [
        "df = pd.read_csv('/content/sample_data/Heart.txt').drop('Unnamed: 0',  axis=1)\n",
        "\n",
        "df.head()"
      ],
      "execution_count": null,
      "outputs": [
        {
          "output_type": "execute_result",
          "data": {
            "text/html": [
              "<div>\n",
              "<style scoped>\n",
              "    .dataframe tbody tr th:only-of-type {\n",
              "        vertical-align: middle;\n",
              "    }\n",
              "\n",
              "    .dataframe tbody tr th {\n",
              "        vertical-align: top;\n",
              "    }\n",
              "\n",
              "    .dataframe thead th {\n",
              "        text-align: right;\n",
              "    }\n",
              "</style>\n",
              "<table border=\"1\" class=\"dataframe\">\n",
              "  <thead>\n",
              "    <tr style=\"text-align: right;\">\n",
              "      <th></th>\n",
              "      <th>Age</th>\n",
              "      <th>Sex</th>\n",
              "      <th>ChestPain</th>\n",
              "      <th>RestBP</th>\n",
              "      <th>Chol</th>\n",
              "      <th>Fbs</th>\n",
              "      <th>RestECG</th>\n",
              "      <th>MaxHR</th>\n",
              "      <th>ExAng</th>\n",
              "      <th>Oldpeak</th>\n",
              "      <th>Slope</th>\n",
              "      <th>Ca</th>\n",
              "      <th>Thal</th>\n",
              "      <th>AHD</th>\n",
              "    </tr>\n",
              "  </thead>\n",
              "  <tbody>\n",
              "    <tr>\n",
              "      <th>0</th>\n",
              "      <td>63</td>\n",
              "      <td>1</td>\n",
              "      <td>typical</td>\n",
              "      <td>145</td>\n",
              "      <td>233</td>\n",
              "      <td>1</td>\n",
              "      <td>2</td>\n",
              "      <td>150</td>\n",
              "      <td>0</td>\n",
              "      <td>2.3</td>\n",
              "      <td>3</td>\n",
              "      <td>0.0</td>\n",
              "      <td>fixed</td>\n",
              "      <td>No</td>\n",
              "    </tr>\n",
              "    <tr>\n",
              "      <th>1</th>\n",
              "      <td>67</td>\n",
              "      <td>1</td>\n",
              "      <td>asymptomatic</td>\n",
              "      <td>160</td>\n",
              "      <td>286</td>\n",
              "      <td>0</td>\n",
              "      <td>2</td>\n",
              "      <td>108</td>\n",
              "      <td>1</td>\n",
              "      <td>1.5</td>\n",
              "      <td>2</td>\n",
              "      <td>3.0</td>\n",
              "      <td>normal</td>\n",
              "      <td>Yes</td>\n",
              "    </tr>\n",
              "    <tr>\n",
              "      <th>2</th>\n",
              "      <td>67</td>\n",
              "      <td>1</td>\n",
              "      <td>asymptomatic</td>\n",
              "      <td>120</td>\n",
              "      <td>229</td>\n",
              "      <td>0</td>\n",
              "      <td>2</td>\n",
              "      <td>129</td>\n",
              "      <td>1</td>\n",
              "      <td>2.6</td>\n",
              "      <td>2</td>\n",
              "      <td>2.0</td>\n",
              "      <td>reversable</td>\n",
              "      <td>Yes</td>\n",
              "    </tr>\n",
              "    <tr>\n",
              "      <th>3</th>\n",
              "      <td>37</td>\n",
              "      <td>1</td>\n",
              "      <td>nonanginal</td>\n",
              "      <td>130</td>\n",
              "      <td>250</td>\n",
              "      <td>0</td>\n",
              "      <td>0</td>\n",
              "      <td>187</td>\n",
              "      <td>0</td>\n",
              "      <td>3.5</td>\n",
              "      <td>3</td>\n",
              "      <td>0.0</td>\n",
              "      <td>normal</td>\n",
              "      <td>No</td>\n",
              "    </tr>\n",
              "    <tr>\n",
              "      <th>4</th>\n",
              "      <td>41</td>\n",
              "      <td>0</td>\n",
              "      <td>nontypical</td>\n",
              "      <td>130</td>\n",
              "      <td>204</td>\n",
              "      <td>0</td>\n",
              "      <td>2</td>\n",
              "      <td>172</td>\n",
              "      <td>0</td>\n",
              "      <td>1.4</td>\n",
              "      <td>1</td>\n",
              "      <td>0.0</td>\n",
              "      <td>normal</td>\n",
              "      <td>No</td>\n",
              "    </tr>\n",
              "  </tbody>\n",
              "</table>\n",
              "</div>"
            ],
            "text/plain": [
              "   Age  Sex     ChestPain  RestBP  Chol  ...  Oldpeak  Slope   Ca        Thal  AHD\n",
              "0   63    1       typical     145   233  ...      2.3      3  0.0       fixed   No\n",
              "1   67    1  asymptomatic     160   286  ...      1.5      2  3.0      normal  Yes\n",
              "2   67    1  asymptomatic     120   229  ...      2.6      2  2.0  reversable  Yes\n",
              "3   37    1    nonanginal     130   250  ...      3.5      3  0.0      normal   No\n",
              "4   41    0    nontypical     130   204  ...      1.4      1  0.0      normal   No\n",
              "\n",
              "[5 rows x 14 columns]"
            ]
          },
          "metadata": {
            "tags": []
          },
          "execution_count": 7
        }
      ]
    },
    {
      "cell_type": "code",
      "metadata": {
        "id": "ejRASoyX9X_K"
      },
      "source": [
        "df = df.replace(np.nan, df.Ca.mean())"
      ],
      "execution_count": 107,
      "outputs": []
    },
    {
      "cell_type": "code",
      "metadata": {
        "id": "1ylZpu5m9arC"
      },
      "source": [
        "df.ChestPain = pd.factorize(df.ChestPain)[0]\n",
        "df.Thal = pd.factorize(df.Thal)[0]"
      ],
      "execution_count": 108,
      "outputs": []
    },
    {
      "cell_type": "code",
      "metadata": {
        "colab": {
          "base_uri": "https://localhost:8080/"
        },
        "id": "-BRp5lSGM8Q9",
        "outputId": "56f57bd4-dbe6-47ce-8463-d6baf67a1839"
      },
      "source": [
        "df.isnull().sum()"
      ],
      "execution_count": 110,
      "outputs": [
        {
          "output_type": "execute_result",
          "data": {
            "text/plain": [
              "Age          0\n",
              "Sex          0\n",
              "ChestPain    0\n",
              "RestBP       0\n",
              "Chol         0\n",
              "Fbs          0\n",
              "RestECG      0\n",
              "MaxHR        0\n",
              "ExAng        0\n",
              "Oldpeak      0\n",
              "Slope        0\n",
              "Ca           0\n",
              "Thal         0\n",
              "AHD          0\n",
              "dtype: int64"
            ]
          },
          "metadata": {
            "tags": []
          },
          "execution_count": 110
        }
      ]
    },
    {
      "cell_type": "code",
      "metadata": {
        "id": "vvg24P5d-WmO"
      },
      "source": [
        "X = df.iloc[:,:13].values\n",
        "y = df['AHD'].values"
      ],
      "execution_count": 194,
      "outputs": []
    },
    {
      "cell_type": "code",
      "metadata": {
        "colab": {
          "base_uri": "https://localhost:8080/"
        },
        "id": "Y9m9Mo3oA8jT",
        "outputId": "64dd634d-0011-4c8f-a017-f963981b374c"
      },
      "source": [
        "y = pd.factorize(y)[0]\n",
        "y"
      ],
      "execution_count": 195,
      "outputs": [
        {
          "output_type": "execute_result",
          "data": {
            "text/plain": [
              "array([0, 1, 1, 0, 0, 0, 1, 0, 1, 1, 0, 0, 1, 0, 0, 0, 1, 0, 0, 0, 0, 0,\n",
              "       1, 1, 1, 0, 0, 0, 0, 1, 0, 1, 1, 0, 0, 0, 1, 1, 1, 0, 1, 0, 0, 0,\n",
              "       1, 1, 0, 1, 0, 0, 0, 0, 1, 0, 1, 1, 1, 1, 0, 0, 1, 0, 1, 0, 1, 1,\n",
              "       1, 0, 1, 1, 0, 1, 1, 1, 1, 0, 1, 0, 0, 1, 0, 0, 0, 1, 0, 0, 0, 0,\n",
              "       0, 0, 0, 1, 0, 0, 0, 1, 1, 1, 0, 0, 0, 0, 0, 0, 1, 0, 1, 1, 1, 1,\n",
              "       1, 1, 0, 1, 1, 0, 0, 0, 1, 1, 1, 1, 0, 1, 1, 0, 1, 1, 0, 0, 0, 0,\n",
              "       0, 0, 0, 0, 1, 1, 1, 0, 0, 1, 0, 1, 0, 1, 1, 0, 0, 0, 0, 0, 0, 1,\n",
              "       1, 1, 1, 1, 1, 0, 0, 1, 0, 0, 0, 0, 0, 0, 1, 0, 1, 0, 1, 0, 1, 1,\n",
              "       0, 1, 0, 0, 1, 1, 0, 0, 1, 0, 0, 1, 1, 1, 0, 1, 1, 1, 0, 1, 0, 0,\n",
              "       0, 1, 0, 0, 0, 0, 0, 1, 1, 1, 0, 1, 0, 1, 0, 1, 1, 0, 0, 0, 0, 0,\n",
              "       0, 0, 0, 1, 1, 0, 0, 0, 1, 1, 0, 1, 1, 0, 0, 1, 1, 1, 0, 0, 0, 0,\n",
              "       0, 1, 0, 1, 1, 1, 1, 0, 0, 1, 0, 0, 0, 0, 0, 0, 0, 1, 0, 1, 0, 0,\n",
              "       1, 1, 1, 1, 1, 0, 1, 0, 1, 0, 1, 0, 0, 0, 1, 0, 1, 0, 1, 0, 1, 1,\n",
              "       1, 0, 0, 0, 1, 0, 1, 1, 1, 0, 1, 1, 1, 1, 1, 1, 0])"
            ]
          },
          "metadata": {
            "tags": []
          },
          "execution_count": 195
        }
      ]
    },
    {
      "cell_type": "code",
      "metadata": {
        "id": "MkdDELPD_7-y"
      },
      "source": [
        "from sklearn.preprocessing import StandardScaler\n",
        "from sklearn.model_selection import train_test_split\n",
        "\n",
        "X_train, X_test, y_train, y_test = train_test_split(X, y, test_size = 0.3, random_state=0)\n",
        "\n",
        "sc = StandardScaler()\n",
        "\n",
        "X_train = sc.fit_transform(X_train)\n",
        "X_test = sc.transform(X_test)\n",
        "\n"
      ],
      "execution_count": 243,
      "outputs": []
    },
    {
      "cell_type": "code",
      "metadata": {
        "colab": {
          "base_uri": "https://localhost:8080/"
        },
        "id": "FKH5NtzxRtKy",
        "outputId": "4b08d3a5-0cc7-4cf9-e1f9-ba509decbbc3"
      },
      "source": [
        "X_train.shape, y_train.shape"
      ],
      "execution_count": 244,
      "outputs": [
        {
          "output_type": "execute_result",
          "data": {
            "text/plain": [
              "((212, 13), (212,))"
            ]
          },
          "metadata": {
            "tags": []
          },
          "execution_count": 244
        }
      ]
    },
    {
      "cell_type": "code",
      "metadata": {
        "id": "NufIG3FsRcG6"
      },
      "source": [
        "X_valid, X_train = X_train[106:,] , X_train[:106,] \n",
        "y_valid, y_train = y_train[106:,], y_train[:106,]\n"
      ],
      "execution_count": 245,
      "outputs": []
    },
    {
      "cell_type": "code",
      "metadata": {
        "colab": {
          "base_uri": "https://localhost:8080/"
        },
        "id": "lv4pzSn_Ufn0",
        "outputId": "22f9c6b5-d07d-4271-a87d-0c9638fbec2d"
      },
      "source": [
        "X_valid.shape, y_valid.shape, y_train.shape,  X_train.shape"
      ],
      "execution_count": 246,
      "outputs": [
        {
          "output_type": "execute_result",
          "data": {
            "text/plain": [
              "((106, 13), (106,), (106,), (106, 13))"
            ]
          },
          "metadata": {
            "tags": []
          },
          "execution_count": 246
        }
      ]
    },
    {
      "cell_type": "code",
      "metadata": {
        "id": "EhB4sfgXA20H"
      },
      "source": [
        "clf = Sequential([\n",
        "    # InputLayer(input_shape=(X_train.shape[1],)),\n",
        "    Dense(units=128, activation='relu', name = 'layer1'),\n",
        "    Dense(units=128, activation='relu', name = 'layer2'),\n",
        "    Dense(units=1, activation='sigmoid', name = 'layer3'),\n",
        "    \n",
        "   \n",
        "   \n",
        "    \n",
        "])"
      ],
      "execution_count": 274,
      "outputs": []
    },
    {
      "cell_type": "code",
      "metadata": {
        "id": "_cqkBu_nFa2n"
      },
      "source": [
        "clf.compile(optimizer='adam', loss='binary_crossentropy',  metrics=['accuracy'])"
      ],
      "execution_count": 275,
      "outputs": []
    },
    {
      "cell_type": "code",
      "metadata": {
        "colab": {
          "base_uri": "https://localhost:8080/"
        },
        "id": "Hnnk6eghFzhV",
        "outputId": "baa11553-7d72-4ce9-e81a-b5bb1b78611a"
      },
      "source": [
        "history = clf.fit(X_train, y_train, validation_data=(X_valid, y_valid), epochs=25, verbose=2)"
      ],
      "execution_count": 276,
      "outputs": [
        {
          "output_type": "stream",
          "text": [
            "Epoch 1/25\n",
            "4/4 - 1s - loss: 0.6881 - accuracy: 0.4811 - val_loss: 0.6304 - val_accuracy: 0.7170\n",
            "Epoch 2/25\n",
            "4/4 - 0s - loss: 0.5866 - accuracy: 0.8208 - val_loss: 0.5554 - val_accuracy: 0.8019\n",
            "Epoch 3/25\n",
            "4/4 - 0s - loss: 0.5099 - accuracy: 0.8868 - val_loss: 0.4984 - val_accuracy: 0.8208\n",
            "Epoch 4/25\n",
            "4/4 - 0s - loss: 0.4507 - accuracy: 0.8774 - val_loss: 0.4567 - val_accuracy: 0.8113\n",
            "Epoch 5/25\n",
            "4/4 - 0s - loss: 0.4045 - accuracy: 0.8774 - val_loss: 0.4255 - val_accuracy: 0.8208\n",
            "Epoch 6/25\n",
            "4/4 - 0s - loss: 0.3701 - accuracy: 0.8868 - val_loss: 0.4018 - val_accuracy: 0.8302\n",
            "Epoch 7/25\n",
            "4/4 - 0s - loss: 0.3404 - accuracy: 0.8868 - val_loss: 0.3886 - val_accuracy: 0.8302\n",
            "Epoch 8/25\n",
            "4/4 - 0s - loss: 0.3173 - accuracy: 0.8962 - val_loss: 0.3806 - val_accuracy: 0.8302\n",
            "Epoch 9/25\n",
            "4/4 - 0s - loss: 0.2978 - accuracy: 0.8962 - val_loss: 0.3786 - val_accuracy: 0.8302\n",
            "Epoch 10/25\n",
            "4/4 - 0s - loss: 0.2829 - accuracy: 0.9057 - val_loss: 0.3816 - val_accuracy: 0.8302\n",
            "Epoch 11/25\n",
            "4/4 - 0s - loss: 0.2673 - accuracy: 0.9151 - val_loss: 0.3838 - val_accuracy: 0.8302\n",
            "Epoch 12/25\n",
            "4/4 - 0s - loss: 0.2539 - accuracy: 0.9151 - val_loss: 0.3852 - val_accuracy: 0.8302\n",
            "Epoch 13/25\n",
            "4/4 - 0s - loss: 0.2431 - accuracy: 0.9151 - val_loss: 0.3865 - val_accuracy: 0.8396\n",
            "Epoch 14/25\n",
            "4/4 - 0s - loss: 0.2329 - accuracy: 0.9340 - val_loss: 0.3920 - val_accuracy: 0.8396\n",
            "Epoch 15/25\n",
            "4/4 - 0s - loss: 0.2220 - accuracy: 0.9434 - val_loss: 0.3989 - val_accuracy: 0.8396\n",
            "Epoch 16/25\n",
            "4/4 - 0s - loss: 0.2121 - accuracy: 0.9528 - val_loss: 0.4081 - val_accuracy: 0.8396\n",
            "Epoch 17/25\n",
            "4/4 - 0s - loss: 0.2035 - accuracy: 0.9528 - val_loss: 0.4162 - val_accuracy: 0.8396\n",
            "Epoch 18/25\n",
            "4/4 - 0s - loss: 0.1954 - accuracy: 0.9528 - val_loss: 0.4247 - val_accuracy: 0.8396\n",
            "Epoch 19/25\n",
            "4/4 - 0s - loss: 0.1877 - accuracy: 0.9528 - val_loss: 0.4317 - val_accuracy: 0.8396\n",
            "Epoch 20/25\n",
            "4/4 - 0s - loss: 0.1796 - accuracy: 0.9528 - val_loss: 0.4348 - val_accuracy: 0.8396\n",
            "Epoch 21/25\n",
            "4/4 - 0s - loss: 0.1725 - accuracy: 0.9528 - val_loss: 0.4445 - val_accuracy: 0.8396\n",
            "Epoch 22/25\n",
            "4/4 - 0s - loss: 0.1648 - accuracy: 0.9528 - val_loss: 0.4584 - val_accuracy: 0.8396\n",
            "Epoch 23/25\n",
            "4/4 - 0s - loss: 0.1572 - accuracy: 0.9528 - val_loss: 0.4744 - val_accuracy: 0.8491\n",
            "Epoch 24/25\n",
            "4/4 - 0s - loss: 0.1510 - accuracy: 0.9528 - val_loss: 0.4844 - val_accuracy: 0.8585\n",
            "Epoch 25/25\n",
            "4/4 - 0s - loss: 0.1444 - accuracy: 0.9528 - val_loss: 0.4907 - val_accuracy: 0.8585\n"
          ],
          "name": "stdout"
        }
      ]
    },
    {
      "cell_type": "code",
      "metadata": {
        "colab": {
          "base_uri": "https://localhost:8080/"
        },
        "id": "TqAt9ZF9HSfb",
        "outputId": "0136b50a-5fac-451e-d5dd-3c74c14e3251"
      },
      "source": [
        "clf.summary()"
      ],
      "execution_count": 277,
      "outputs": [
        {
          "output_type": "stream",
          "text": [
            "Model: \"sequential_30\"\n",
            "_________________________________________________________________\n",
            "Layer (type)                 Output Shape              Param #   \n",
            "=================================================================\n",
            "layer1 (Dense)               (None, 128)               1792      \n",
            "_________________________________________________________________\n",
            "layer2 (Dense)               (None, 128)               16512     \n",
            "_________________________________________________________________\n",
            "layer3 (Dense)               (None, 1)                 129       \n",
            "=================================================================\n",
            "Total params: 18,433\n",
            "Trainable params: 18,433\n",
            "Non-trainable params: 0\n",
            "_________________________________________________________________\n"
          ],
          "name": "stdout"
        }
      ]
    },
    {
      "cell_type": "code",
      "metadata": {
        "colab": {
          "base_uri": "https://localhost:8080/"
        },
        "id": "HJ5OdYLdGBk-",
        "outputId": "f0ead42e-fc13-4974-ba3a-30f3aa0429db"
      },
      "source": [
        "pred = clf.predict(X_test)"
      ],
      "execution_count": 278,
      "outputs": [
        {
          "output_type": "stream",
          "text": [
            "WARNING:tensorflow:5 out of the last 16 calls to <function Model.make_predict_function.<locals>.predict_function at 0x7fbf61b113b0> triggered tf.function retracing. Tracing is expensive and the excessive number of tracings could be due to (1) creating @tf.function repeatedly in a loop, (2) passing tensors with different shapes, (3) passing Python objects instead of tensors. For (1), please define your @tf.function outside of the loop. For (2), @tf.function has experimental_relax_shapes=True option that relaxes argument shapes that can avoid unnecessary retracing. For (3), please refer to https://www.tensorflow.org/guide/function#controlling_retracing and https://www.tensorflow.org/api_docs/python/tf/function for  more details.\n"
          ],
          "name": "stdout"
        }
      ]
    },
    {
      "cell_type": "code",
      "metadata": {
        "colab": {
          "base_uri": "https://localhost:8080/"
        },
        "id": "oPwVAvIZFzmP",
        "outputId": "4c117487-03ae-4a4e-a460-f89534d76b93"
      },
      "source": [
        "pred[:10]"
      ],
      "execution_count": 279,
      "outputs": [
        {
          "output_type": "execute_result",
          "data": {
            "text/plain": [
              "array([[8.4587213e-05],\n",
              "       [4.8040608e-01],\n",
              "       [5.9478813e-01],\n",
              "       [8.9255863e-01],\n",
              "       [9.0767711e-02],\n",
              "       [3.3019230e-01],\n",
              "       [9.8655951e-01],\n",
              "       [3.5924545e-01],\n",
              "       [9.9727356e-01],\n",
              "       [1.5237987e-01]], dtype=float32)"
            ]
          },
          "metadata": {
            "tags": []
          },
          "execution_count": 279
        }
      ]
    },
    {
      "cell_type": "code",
      "metadata": {
        "colab": {
          "base_uri": "https://localhost:8080/",
          "height": 295
        },
        "id": "WQt74T_UFzr_",
        "outputId": "c96ac3b3-ab87-4ef5-8dc4-f13cc1eff38a"
      },
      "source": [
        "plt.plot(history.history['accuracy'])\n",
        "plt.plot(history.history['val_accuracy'])\n",
        "plt.title('model accuracy')\n",
        "plt.ylabel('accuracy')\n",
        "plt.xlabel('epoch')\n",
        "plt.ylim((0, 1))\n",
        "plt.legend(['train', 'test'], loc='lower right');"
      ],
      "execution_count": 280,
      "outputs": [
        {
          "output_type": "display_data",
          "data": {
            "image/png": "[encoded data removed]",
            "text/plain": [
              "<Figure size 432x288 with 1 Axes>"
            ]
          },
          "metadata": {
            "tags": [],
            "needs_background": "light"
          }
        }
      ]
    },
    {
      "cell_type": "code",
      "metadata": {
        "colab": {
          "base_uri": "https://localhost:8080/",
          "height": 295
        },
        "id": "1m_3-RRPFzwx",
        "outputId": "a2907828-d7e6-498b-b1d0-63cb3847d4cc"
      },
      "source": [
        "plt.plot(history.history['loss'])\n",
        "plt.plot(history.history['val_loss'])\n",
        "plt.title('model error')\n",
        "plt.ylabel('loss')\n",
        "plt.xlabel('epoch')\n",
        "plt.ylim((0, 1))\n",
        "plt.legend(['train', 'test'], loc='lower right');"
      ],
      "execution_count": 281,
      "outputs": [
        {
          "output_type": "display_data",
          "data": {
            "image/png": "[encoded data removed]",
            "text/plain": [
              "<Figure size 432x288 with 1 Axes>"
            ]
          },
          "metadata": {
            "tags": [],
            "needs_background": "light"
          }
        }
      ]
    },
    {
      "cell_type": "code",
      "metadata": {
        "colab": {
          "base_uri": "https://localhost:8080/"
        },
        "id": "7kbbfX20Fz0p",
        "outputId": "56194b79-c948-4fce-8dd8-6ffbec0b2edd"
      },
      "source": [
        "history.params"
      ],
      "execution_count": 282,
      "outputs": [
        {
          "output_type": "execute_result",
          "data": {
            "text/plain": [
              "{'epochs': 25, 'steps': 4, 'verbose': 2}"
            ]
          },
          "metadata": {
            "tags": []
          },
          "execution_count": 282
        }
      ]
    },
    {
      "cell_type": "code",
      "metadata": {
        "colab": {
          "base_uri": "https://localhost:8080/"
        },
        "id": "apd9ikJ3Ztfp",
        "outputId": "f1def27e-05fc-416f-e396-bb7e3c22a7a1"
      },
      "source": [
        "history.history.keys()"
      ],
      "execution_count": 283,
      "outputs": [
        {
          "output_type": "execute_result",
          "data": {
            "text/plain": [
              "dict_keys(['loss', 'accuracy', 'val_loss', 'val_accuracy'])"
            ]
          },
          "metadata": {
            "tags": []
          },
          "execution_count": 283
        }
      ]
    },
    {
      "cell_type": "code",
      "metadata": {
        "colab": {
          "base_uri": "https://localhost:8080/",
          "height": 324
        },
        "id": "J74zDPhAZ2D4",
        "outputId": "7f9baa88-d6de-4dea-a3fd-071878010b36"
      },
      "source": [
        "pd.DataFrame(history.history).plot(figsize=(8, 5))\n",
        "plt.grid(True)\n",
        "plt.gca().set_ylim(0, 1)\n",
        "# save_fig(\"keras_learning_curves_plot\")\n",
        "plt.show()"
      ],
      "execution_count": 284,
      "outputs": [
        {
          "output_type": "display_data",
          "data": {
            "image/png": "[encoded data removed]",
            "text/plain": [
              "<Figure size 576x360 with 1 Axes>"
            ]
          },
          "metadata": {
            "tags": [],
            "needs_background": "light"
          }
        }
      ]
    },
    {
      "cell_type": "code",
      "metadata": {
        "id": "xaxX11luczVw"
      },
      "source": [
        ""
      ],
      "execution_count": null,
      "outputs": []
    },
    {
      "cell_type": "code",
      "metadata": {
        "id": "QNsRPiNsywLU",
        "colab": {
          "base_uri": "https://localhost:8080/"
        },
        "outputId": "ce30c314-e36e-4d68-eb73-5bddaa6dcb6b"
      },
      "source": [
        "print(classification_report(y_test, bin_predictions))"
      ],
      "execution_count": 286,
      "outputs": [
        {
          "output_type": "stream",
          "text": [
            "              precision    recall  f1-score   support\n",
            "\n",
            "           0       0.69      0.79      0.73        47\n",
            "           1       0.73      0.61      0.67        44\n",
            "\n",
            "    accuracy                           0.70        91\n",
            "   macro avg       0.71      0.70      0.70        91\n",
            "weighted avg       0.71      0.70      0.70        91\n",
            "\n"
          ],
          "name": "stdout"
        }
      ]
    },
    {
      "cell_type": "code",
      "metadata": {
        "id": "ybqeTJyWxAPu"
      },
      "source": [
        "from sklearn.metrics import classification_report, confusion_matrix, plot_confusion_matrix, ConfusionMatrixDisplay"
      ],
      "execution_count": 290,
      "outputs": []
    },
    {
      "cell_type": "code",
      "metadata": {
        "id": "sp1rVWsIytrl"
      },
      "source": [
        ""
      ],
      "execution_count": null,
      "outputs": []
    },
    {
      "cell_type": "code",
      "metadata": {
        "id": "SfiKBFzyy3Kl"
      },
      "source": [
        "bin_predictions = tf.round(pred).numpy().flatten()"
      ],
      "execution_count": 288,
      "outputs": []
    },
    {
      "cell_type": "code",
      "metadata": {
        "colab": {
          "base_uri": "https://localhost:8080/"
        },
        "id": "gBJe0khTdSqe",
        "outputId": "6795701f-94f0-43eb-a1f7-6b4f5af7f9f4"
      },
      "source": [
        "print(classification_report(y_test, bin_predictions))"
      ],
      "execution_count": 268,
      "outputs": [
        {
          "output_type": "stream",
          "text": [
            "              precision    recall  f1-score   support\n",
            "\n",
            "           0       0.69      0.79      0.73        47\n",
            "           1       0.73      0.61      0.67        44\n",
            "\n",
            "    accuracy                           0.70        91\n",
            "   macro avg       0.71      0.70      0.70        91\n",
            "weighted avg       0.71      0.70      0.70        91\n",
            "\n"
          ],
          "name": "stdout"
        }
      ]
    },
    {
      "cell_type": "code",
      "metadata": {
        "id": "3h4iXBqvy0WM",
        "colab": {
          "base_uri": "https://localhost:8080/"
        },
        "outputId": "7413dc97-20dd-429a-e4d6-31783cb93148"
      },
      "source": [
        "cnf_matrix = confusion_matrix(y_test, bin_predictions)\n",
        "cnf_matrix"
      ],
      "execution_count": 269,
      "outputs": [
        {
          "output_type": "execute_result",
          "data": {
            "text/plain": [
              "array([[37, 10],\n",
              "       [17, 27]])"
            ]
          },
          "metadata": {
            "tags": []
          },
          "execution_count": 269
        }
      ]
    },
    {
      "cell_type": "code",
      "metadata": {
        "colab": {
          "base_uri": "https://localhost:8080/",
          "height": 279
        },
        "id": "U6wafx5Jgf0O",
        "outputId": "f65c0c73-4617-4824-98dc-f2aaea547c69"
      },
      "source": [
        "disp = ConfusionMatrixDisplay(cnf_matrix, display_labels=['No AHD', 'AHD'])\n",
        "\n",
        "disp = disp.plot(include_values=True,\n",
        "                 cmap='viridis', xticks_rotation='horizontal')\n"
      ],
      "execution_count": 298,
      "outputs": [
        {
          "output_type": "display_data",
          "data": {
            "image/png": "[encoded data removed]",
            "text/plain": [
              "<Figure size 432x288 with 2 Axes>"
            ]
          },
          "metadata": {
            "tags": [],
            "needs_background": "light"
          }
        }
      ]
    },
    {
      "cell_type": "code",
      "metadata": {
        "id": "nQHi0da3jFrQ"
      },
      "source": [
        "from sklearn.linear_model import LogisticRegression\n",
        "from sklearn.ensemble import RandomForestClassifier"
      ],
      "execution_count": 307,
      "outputs": []
    },
    {
      "cell_type": "code",
      "metadata": {
        "id": "Wtwt1z3JjFwc"
      },
      "source": [
        "lr = LogisticRegression(random_state=0)\n",
        "lr.fit(X_train, y_train)\n",
        "\n",
        "lrPred = lr.predict(X_test)"
      ],
      "execution_count": 310,
      "outputs": []
    },
    {
      "cell_type": "code",
      "metadata": {
        "colab": {
          "base_uri": "https://localhost:8080/",
          "height": 296
        },
        "id": "_lP2aMTujF00",
        "outputId": "7d4fd73f-fade-49f5-ecc6-769ff2c0a763"
      },
      "source": [
        "cm = confusion_matrix(y_test, lrPred)\n",
        "\n",
        "ConfusionMatrixDisplay(cm, display_labels=[0, 1]).plot()"
      ],
      "execution_count": 312,
      "outputs": [
        {
          "output_type": "execute_result",
          "data": {
            "text/plain": [
              "<sklearn.metrics._plot.confusion_matrix.ConfusionMatrixDisplay at 0x7fbf61f99cd0>"
            ]
          },
          "metadata": {
            "tags": []
          },
          "execution_count": 312
        },
        {
          "output_type": "display_data",
          "data": {
            "image/png": "[encoded data removed]",
            "text/plain": [
              "<Figure size 432x288 with 2 Axes>"
            ]
          },
          "metadata": {
            "tags": [],
            "needs_background": "light"
          }
        }
      ]
    },
    {
      "cell_type": "code",
      "metadata": {
        "colab": {
          "base_uri": "https://localhost:8080/"
        },
        "id": "Ppke4xjdjF5w",
        "outputId": "8d198d7d-f974-4cd8-d857-4c6b207b2651"
      },
      "source": [
        "print(classification_report(y_test,  lrPred))"
      ],
      "execution_count": 313,
      "outputs": [
        {
          "output_type": "stream",
          "text": [
            "              precision    recall  f1-score   support\n",
            "\n",
            "           0       0.68      0.83      0.75        47\n",
            "           1       0.76      0.59      0.67        44\n",
            "\n",
            "    accuracy                           0.71        91\n",
            "   macro avg       0.72      0.71      0.71        91\n",
            "weighted avg       0.72      0.71      0.71        91\n",
            "\n"
          ],
          "name": "stdout"
        }
      ]
    },
    {
      "cell_type": "code",
      "metadata": {
        "id": "gTkxodxBdEm_"
      },
      "source": [
        "rf = RandomForestClassifier(random_state=1)\n",
        "\n",
        "rf.fit(X_train, y_train)\n",
        "\n",
        "rfPred = rf.predict(X_test)"
      ],
      "execution_count": 314,
      "outputs": []
    },
    {
      "cell_type": "code",
      "metadata": {
        "colab": {
          "base_uri": "https://localhost:8080/",
          "height": 296
        },
        "id": "F34_Nxwliivb",
        "outputId": "d860b659-4d95-4fb6-ed56-a1e0a467bc1a"
      },
      "source": [
        "rf_cm = confusion_matrix(y_test, rfPred)\n",
        "\n",
        "ConfusionMatrixDisplay(rf_cm, display_labels=[0, 1]).plot()"
      ],
      "execution_count": 315,
      "outputs": [
        {
          "output_type": "execute_result",
          "data": {
            "text/plain": [
              "<sklearn.metrics._plot.confusion_matrix.ConfusionMatrixDisplay at 0x7fbf5f690450>"
            ]
          },
          "metadata": {
            "tags": []
          },
          "execution_count": 315
        },
        {
          "output_type": "display_data",
          "data": {
            "image/png": "[encoded data removed]",
            "text/plain": [
              "<Figure size 432x288 with 2 Axes>"
            ]
          },
          "metadata": {
            "tags": [],
            "needs_background": "light"
          }
        }
      ]
    },
    {
      "cell_type": "code",
      "metadata": {
        "colab": {
          "base_uri": "https://localhost:8080/"
        },
        "id": "CXhv8_OWimaU",
        "outputId": "b7ce98d7-bfd6-44c2-cf6b-d979e74f06f5"
      },
      "source": [
        "print(classification_report(y_test, rfPred))"
      ],
      "execution_count": 316,
      "outputs": [
        {
          "output_type": "stream",
          "text": [
            "              precision    recall  f1-score   support\n",
            "\n",
            "           0       0.70      0.83      0.76        47\n",
            "           1       0.77      0.61      0.68        44\n",
            "\n",
            "    accuracy                           0.73        91\n",
            "   macro avg       0.73      0.72      0.72        91\n",
            "weighted avg       0.73      0.73      0.72        91\n",
            "\n"
          ],
          "name": "stdout"
        }
      ]
    },
    {
      "cell_type": "code",
      "metadata": {
        "id": "lkyyLHA7l-xq"
      },
      "source": [
        "from sklearn.model_selection import GridSearchCV, StratifiedKFold\n",
        "from sklearn.ensemble import BaggingClassifier"
      ],
      "execution_count": 327,
      "outputs": []
    },
    {
      "cell_type": "code",
      "metadata": {
        "id": "vsKzvFmZmh9E"
      },
      "source": [
        "RandomForestClassifier()"
      ],
      "execution_count": null,
      "outputs": []
    },
    {
      "cell_type": "code",
      "metadata": {
        "id": "iDEMuYfXmJ72"
      },
      "source": [
        "cv = StratifiedKFold(n_splits=10, random_state=0, shuffle=True)"
      ],
      "execution_count": 318,
      "outputs": []
    },
    {
      "cell_type": "code",
      "metadata": {
        "id": "MlK7aqf-mcIf"
      },
      "source": [
        "parameters = {'n_estimators': [100, 200, 300], 'criterion': ['gini', 'entropy'], 'max_depth': [0, 1, 2], 'min_samples_split':[2, 3, 4] }\n",
        "\n",
        "grid_rf = GridSearchCV(rf, param_grid=parameters, cv=cv, scoring= 'accuracy', n_jobs=-1)\n",
        "\n",
        "rf_result = grid_rf.fit(X_train, y_train)"
      ],
      "execution_count": 325,
      "outputs": []
    },
    {
      "cell_type": "code",
      "metadata": {
        "colab": {
          "base_uri": "https://localhost:8080/"
        },
        "id": "lGc2HTDnoRWT",
        "outputId": "37b50b5a-adc9-4b6e-d22e-4247da437783"
      },
      "source": [
        "print('The best parameters of the model is: ', rf_result.best_params_)\n",
        "print()\n",
        "print('-'*100)\n",
        "print('The best score of the model is: ', rf_result.best_score_)\n",
        "print()\n",
        "print('-'*100)\n",
        "print('The best estimator of the model is: ', rf_result.best_estimator_)\n",
        "print()\n",
        "print('-'*100)"
      ],
      "execution_count": 326,
      "outputs": [
        {
          "output_type": "stream",
          "text": [
            "The best parameters of the model is:  {'criterion': 'gini', 'max_depth': 2, 'min_samples_split': 2, 'n_estimators': 200}\n",
            "\n",
            "----------------------------------------------------------------------------------------------------\n",
            "The best score of the model is:  0.8290909090909091\n",
            "\n",
            "----------------------------------------------------------------------------------------------------\n",
            "The best estimator of the model is:  RandomForestClassifier(bootstrap=True, ccp_alpha=0.0, class_weight=None,\n",
            "                       criterion='gini', max_depth=2, max_features='auto',\n",
            "                       max_leaf_nodes=None, max_samples=None,\n",
            "                       min_impurity_decrease=0.0, min_impurity_split=None,\n",
            "                       min_samples_leaf=1, min_samples_split=2,\n",
            "                       min_weight_fraction_leaf=0.0, n_estimators=200,\n",
            "                       n_jobs=None, oob_score=False, random_state=1, verbose=0,\n",
            "                       warm_start=False)\n",
            "\n",
            "----------------------------------------------------------------------------------------------------\n"
          ],
          "name": "stdout"
        }
      ]
    },
    {
      "cell_type": "code",
      "metadata": {
        "id": "vLTvGPKqql5E"
      },
      "source": [
        "bc = BaggingClassifier(base_estimator=rf)\n",
        "\n",
        "bc.fit(X_train, y_train)\n",
        "\n",
        "bcPred = bc.predict(X_test)"
      ],
      "execution_count": 330,
      "outputs": []
    },
    {
      "cell_type": "code",
      "metadata": {
        "colab": {
          "base_uri": "https://localhost:8080/"
        },
        "id": "sJnyHJTErmNp",
        "outputId": "bce4e8a7-8dab-4827-ebb1-9d20785030bd"
      },
      "source": [
        "print(classification_report(y_test, bcPred))"
      ],
      "execution_count": 331,
      "outputs": [
        {
          "output_type": "stream",
          "text": [
            "              precision    recall  f1-score   support\n",
            "\n",
            "           0       0.72      0.81      0.76        47\n",
            "           1       0.76      0.66      0.71        44\n",
            "\n",
            "    accuracy                           0.74        91\n",
            "   macro avg       0.74      0.73      0.73        91\n",
            "weighted avg       0.74      0.74      0.73        91\n",
            "\n"
          ],
          "name": "stdout"
        }
      ]
    },
    {
      "cell_type": "code",
      "metadata": {
        "colab": {
          "base_uri": "https://localhost:8080/",
          "height": 296
        },
        "id": "_WoEOIV5sKde",
        "outputId": "c6c9eb70-5967-43d8-c967-949c9354be34"
      },
      "source": [
        "cm_bc = confusion_matrix(y_test, bcPred)\n",
        "ConfusionMatrixDisplay(cm_bc, display_labels=[0, 1]).plot()"
      ],
      "execution_count": 339,
      "outputs": [
        {
          "output_type": "execute_result",
          "data": {
            "text/plain": [
              "<sklearn.metrics._plot.confusion_matrix.ConfusionMatrixDisplay at 0x7fbf72b37790>"
            ]
          },
          "metadata": {
            "tags": []
          },
          "execution_count": 339
        },
        {
          "output_type": "display_data",
          "data": {
            "image/png": "[encoded data removed]",
            "text/plain": [
              "<Figure size 432x288 with 2 Axes>"
            ]
          },
          "metadata": {
            "tags": [],
            "needs_background": "light"
          }
        }
      ]
    },
    {
      "cell_type": "code",
      "metadata": {
        "id": "XUdfXAgpsYSk"
      },
      "source": [
        ""
      ],
      "execution_count": null,
      "outputs": []
    }
  ]
}