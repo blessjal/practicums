{
  "nbformat": 4,
  "nbformat_minor": 0,
  "metadata": {
    "colab": {
      "name": "kmeans_clustering.ipynb",
      "provenance": [],
      "collapsed_sections": [],
      "authorship_tag": "ABX9TyPtxsjlQ0saAW2ivGOx444n",
      "include_colab_link": true
    },
    "kernelspec": {
      "name": "python3",
      "display_name": "Python 3"
    }
  },
  "cells": [
    {
      "cell_type": "markdown",
      "metadata": {
        "id": "view-in-github",
        "colab_type": "text"
      },
      "source": [
        "<a href=\"https://colab.research.google.com/github/blessjal/practicums/blob/master/kmeans_clustering.ipynb\" target=\"_parent\"><img src=\"https://colab.research.google.com/assets/colab-badge.svg\" alt=\"Open In Colab\"/></a>"
      ]
    },
    {
      "cell_type": "code",
      "metadata": {
        "id": "WiUfEBGOs-ed"
      },
      "source": [
        "import numpy as np\n",
        "import matplotlib.pyplot as plt\n",
        "from sklearn.datasets import make_blobs\n"
      ],
      "execution_count": 1,
      "outputs": []
    },
    {
      "cell_type": "code",
      "metadata": {
        "id": "ZN8iT6XOtJc_"
      },
      "source": [
        "#generate data\n",
        "dataset = make_blobs(n_samples=200, \n",
        "                     centers=4, \n",
        "                     n_features=2,\n",
        "                     cluster_std=1.6,\n",
        "                     random_state=50)"
      ],
      "execution_count": 2,
      "outputs": []
    },
    {
      "cell_type": "code",
      "metadata": {
        "id": "5AEClgGptk89"
      },
      "source": [
        "# select the first part of the dataset\n",
        "points = dataset[0]"
      ],
      "execution_count": 4,
      "outputs": []
    },
    {
      "cell_type": "code",
      "metadata": {
        "id": "wCA9ckqutouT"
      },
      "source": [
        "from sklearn.cluster import KMeans"
      ],
      "execution_count": 5,
      "outputs": []
    },
    {
      "cell_type": "code",
      "metadata": {
        "id": "g4E4_azbt7LE"
      },
      "source": [
        "# initialize the kmeans object\n",
        "kmeans = KMeans(n_clusters=4)"
      ],
      "execution_count": 6,
      "outputs": []
    },
    {
      "cell_type": "code",
      "metadata": {
        "colab": {
          "base_uri": "https://localhost:8080/"
        },
        "id": "Dg_2JGhouG6h",
        "outputId": "82c3810a-abe4-48ef-fe46-fb3222da00e0"
      },
      "source": [
        "# fit the kmeans object\n",
        "kmeans.fit(points)"
      ],
      "execution_count": 7,
      "outputs": [
        {
          "output_type": "execute_result",
          "data": {
            "text/plain": [
              "KMeans(algorithm='auto', copy_x=True, init='k-means++', max_iter=300,\n",
              "       n_clusters=4, n_init=10, n_jobs=None, precompute_distances='auto',\n",
              "       random_state=None, tol=0.0001, verbose=0)"
            ]
          },
          "metadata": {
            "tags": []
          },
          "execution_count": 7
        }
      ]
    },
    {
      "cell_type": "code",
      "metadata": {
        "colab": {
          "base_uri": "https://localhost:8080/",
          "height": 282
        },
        "id": "3PKMGc8UuLg4",
        "outputId": "87cbc48d-c9de-4437-fdaf-5d22de1e705d"
      },
      "source": [
        "# scatterplot of the dataset\n",
        "plt.scatter(dataset[0][:,0], dataset[0][:,1])"
      ],
      "execution_count": 8,
      "outputs": [
        {
          "output_type": "execute_result",
          "data": {
            "text/plain": [
              "<matplotlib.collections.PathCollection at 0x7eff57ea5210>"
            ]
          },
          "metadata": {
            "tags": []
          },
          "execution_count": 8
        },
        {
          "output_type": "display_data",
          "data": {
            "image/png": "[encoded data removed]",
            "text/plain": [
              "<Figure size 432x288 with 1 Axes>"
            ]
          },
          "metadata": {
            "tags": [],
            "needs_background": "light"
          }
        }
      ]
    },
    {
      "cell_type": "code",
      "metadata": {
        "id": "dfMXY1xJunbK"
      },
      "source": [
        "# create the centroids of the clusters\n",
        "clusters = kmeans.cluster_centers_"
      ],
      "execution_count": 9,
      "outputs": []
    },
    {
      "cell_type": "code",
      "metadata": {
        "colab": {
          "base_uri": "https://localhost:8080/"
        },
        "id": "NqJFw_Gtu45U",
        "outputId": "68f0f1cd-426e-433d-b23d-919261c2a790"
      },
      "source": [
        "print(clusters)"
      ],
      "execution_count": 10,
      "outputs": [
        {
          "output_type": "stream",
          "text": [
            "[[-1.92101646  5.21673484]\n",
            " [-5.56465793 -2.34988939]\n",
            " [ 0.05161133 -5.35489826]\n",
            " [-2.40167949 10.17352695]]\n"
          ],
          "name": "stdout"
        }
      ]
    },
    {
      "cell_type": "code",
      "metadata": {
        "id": "GTSHtUx7u-A4"
      },
      "source": [
        "# predict the clusters for the centroids\n",
        "y_km = kmeans.fit_predict(points)"
      ],
      "execution_count": 11,
      "outputs": []
    },
    {
      "cell_type": "code",
      "metadata": {
        "colab": {
          "base_uri": "https://localhost:8080/",
          "height": 282
        },
        "id": "xWir3ybUvRwJ",
        "outputId": "f7e12a70-24bd-4d16-9431-f1cdb9758bd4"
      },
      "source": [
        "# plot the scatter plots with the centroids\n",
        "\n",
        "\n",
        "plt.scatter(points[y_km==0, 0], points[y_km==0, 1], color='red', s=50)\n",
        "plt.scatter(points[y_km==1, 0], points[y_km==1, 1], color='blue', s=50)\n",
        "plt.scatter(points[y_km==2, 0], points[y_km==2, 1], color='yellow', s=50)\n",
        "plt.scatter(points[y_km==3, 0], points[y_km==3, 1], color='cyan', s=50)\n",
        "plt.scatter(clusters[0][0], clusters[0][1], marker='*', s=200, color='black')\n",
        "plt.scatter(clusters[1][0], clusters[1][1], marker='*', s=200, color='black')\n",
        "plt.scatter(clusters[2][0], clusters[2][1], marker='*', s=200, color='black')\n",
        "plt.scatter(clusters[3][0], clusters[3][1], marker='*', s=200, color='black')"
      ],
      "execution_count": 16,
      "outputs": [
        {
          "output_type": "execute_result",
          "data": {
            "text/plain": [
              "<matplotlib.collections.PathCollection at 0x7eff4f463990>"
            ]
          },
          "metadata": {
            "tags": []
          },
          "execution_count": 16
        },
        {
          "output_type": "display_data",
          "data": {
            "image/png": "[encoded data removed]",
            "text/plain": [
              "<Figure size 432x288 with 1 Axes>"
            ]
          },
          "metadata": {
            "tags": [],
            "needs_background": "light"
          }
        }
      ]
    },
    {
      "cell_type": "code",
      "metadata": {
        "id": "MHL6VH5RwCtT"
      },
      "source": [
        ""
      ],
      "execution_count": null,
      "outputs": []
    }
  ]
}