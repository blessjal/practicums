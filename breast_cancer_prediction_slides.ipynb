{
 "cells": [
  {
   "cell_type": "markdown",
   "metadata": {
    "slideshow": {
     "slide_type": "slide"
    }
   },
   "source": [
    "<h1 align='center'>BMIG 6201 Spring 2021</h1>\n",
    "\n",
    "<h2 align='center'>Predicting Breast Cancer Recurrence Using Machine Learning</h2>\n",
    "\n",
    "<h3 align='center'>Jonathan Laryea </h3>"
   ]
  },
  {
   "cell_type": "markdown",
   "metadata": {},
   "source": [
    "# Introduction\n",
    "* Breast Cancer is the most common cancer in females in the United States. \n",
    "* It is also the second leading cause of cancer deaths in women in the United States. \n",
    "* Breast Cancer is treated with a combination of surgery, chemotherapy, radiation, hormonal therapy and immunotherapy. \n",
    "* When the cancer is treated at an early stage, the survival is good. \n",
    "* However, when it is discovered at a later stage, the survival is not that good. \n",
    "* Some of the cancers will recur either in the same breast or in the other breast. Recurrences can also occur in other parts of the body like the lungs, liver, breast and brain. \n",
    "* It is not clear which patients will develop a recurrence. \n",
    "* Being able to determine recurrence can help to change the treatments from more traditional forms to more aggressive regimens. \n",
    "\n"
   ]
  },
  {
   "cell_type": "markdown",
   "metadata": {
    "slideshow": {
     "slide_type": "slide"
    }
   },
   "source": [
    "# Introdution\n",
    "\n",
    "**Objective**: To predict  cancer recurrence using machine learning algorithms  \n",
    "\n",
    "**Algorithms**: Classification algorithms: Logistic Regression, Naivebayes, KNN, RandomForest, DecisionTree, SVC, LDA, QDA \n",
    "\n",
    "Tune models with cross-validation and GridSearchCV to find the optimum hyperparameters. \n",
    "\n",
    "**Data source**: The dataset for the project is the [breast-cancer-data](https://archive.ics.uci.edu/ml/machine-learning-databases/breast-cancer/) dataset from the UCI archives  \n",
    " \n",
    "url: https://archive.ics.uci.edu/ml/machine-learning-databases/breast-cancer/\n"
   ]
  },
  {
   "cell_type": "markdown",
   "metadata": {
    "slideshow": {
     "slide_type": "slide"
    }
   },
   "source": [
    "# Methods  \n",
    "* Obtain the data\n",
    "* Do exploratory data analysis\n",
    "* Feature engineering\n",
    "* Feature selection\n",
    "* Divide data into training and testing sets\n",
    "* Apply classification algorithms and calculate metrics (accuracy, confusion matrix, precision, recall, F1-score, AUC\n",
    "* Tune the algorithms using cross-validation and GridSearchCV\n",
    "* Determine the best algorithm\n",
    "* Report results"
   ]
  },
  {
   "cell_type": "markdown",
   "metadata": {
    "slideshow": {
     "slide_type": "subslide"
    }
   },
   "source": [
    "# Load required libraries"
   ]
  },
  {
   "cell_type": "code",
   "execution_count": 3,
   "metadata": {
    "id": "khoV8ls98X09",
    "slideshow": {
     "slide_type": "subslide"
    }
   },
   "outputs": [],
   "source": [
    "import pandas as pd  \n",
    "import numpy as np\n",
    "import seaborn as sns\n",
    "import matplotlib.pyplot as plt\n",
    "from sklearn.preprocessing import StandardScaler\n",
    "from sklearn.model_selection import train_test_split\n",
    "from sklearn.linear_model import LinearRegression, LogisticRegression\n",
    "from sklearn.ensemble import RandomForestClassifier\n",
    "from sklearn.metrics import mean_squared_error, accuracy_score, confusion_matrix\n",
    "\n",
    "%matplotlib inline\n",
    "plt.style.use('ggplot')"
   ]
  },
  {
   "cell_type": "markdown",
   "metadata": {
    "slideshow": {
     "slide_type": "subslide"
    }
   },
   "source": [
    "# Load the data"
   ]
  },
  {
   "cell_type": "code",
   "execution_count": 4,
   "metadata": {
    "colab": {
     "base_uri": "https://localhost:8080/",
     "height": 204
    },
    "id": "_lHg-qvO8JYA",
    "outputId": "fc3227a7-4430-4f0e-a895-69fad6a00937",
    "slideshow": {
     "slide_type": "subslide"
    }
   },
   "outputs": [
    {
     "data": {
      "text/html": [
       "<div>\n",
       "<style scoped>\n",
       "    .dataframe tbody tr th:only-of-type {\n",
       "        vertical-align: middle;\n",
       "    }\n",
       "\n",
       "    .dataframe tbody tr th {\n",
       "        vertical-align: top;\n",
       "    }\n",
       "\n",
       "    .dataframe thead th {\n",
       "        text-align: right;\n",
       "    }\n",
       "</style>\n",
       "<table border=\"1\" class=\"dataframe\">\n",
       "  <thead>\n",
       "    <tr style=\"text-align: right;\">\n",
       "      <th></th>\n",
       "      <th>no-recurrence-events</th>\n",
       "      <th>30-39</th>\n",
       "      <th>premeno</th>\n",
       "      <th>30-34</th>\n",
       "      <th>0-2</th>\n",
       "      <th>no</th>\n",
       "      <th>3</th>\n",
       "      <th>left</th>\n",
       "      <th>left_low</th>\n",
       "      <th>no.1</th>\n",
       "    </tr>\n",
       "  </thead>\n",
       "  <tbody>\n",
       "    <tr>\n",
       "      <th>0</th>\n",
       "      <td>no-recurrence-events</td>\n",
       "      <td>40-49</td>\n",
       "      <td>premeno</td>\n",
       "      <td>20-24</td>\n",
       "      <td>0-2</td>\n",
       "      <td>no</td>\n",
       "      <td>2</td>\n",
       "      <td>right</td>\n",
       "      <td>right_up</td>\n",
       "      <td>no</td>\n",
       "    </tr>\n",
       "    <tr>\n",
       "      <th>1</th>\n",
       "      <td>no-recurrence-events</td>\n",
       "      <td>40-49</td>\n",
       "      <td>premeno</td>\n",
       "      <td>20-24</td>\n",
       "      <td>0-2</td>\n",
       "      <td>no</td>\n",
       "      <td>2</td>\n",
       "      <td>left</td>\n",
       "      <td>left_low</td>\n",
       "      <td>no</td>\n",
       "    </tr>\n",
       "    <tr>\n",
       "      <th>2</th>\n",
       "      <td>no-recurrence-events</td>\n",
       "      <td>60-69</td>\n",
       "      <td>ge40</td>\n",
       "      <td>15-19</td>\n",
       "      <td>0-2</td>\n",
       "      <td>no</td>\n",
       "      <td>2</td>\n",
       "      <td>right</td>\n",
       "      <td>left_up</td>\n",
       "      <td>no</td>\n",
       "    </tr>\n",
       "    <tr>\n",
       "      <th>3</th>\n",
       "      <td>no-recurrence-events</td>\n",
       "      <td>40-49</td>\n",
       "      <td>premeno</td>\n",
       "      <td>0-4</td>\n",
       "      <td>0-2</td>\n",
       "      <td>no</td>\n",
       "      <td>2</td>\n",
       "      <td>right</td>\n",
       "      <td>right_low</td>\n",
       "      <td>no</td>\n",
       "    </tr>\n",
       "    <tr>\n",
       "      <th>4</th>\n",
       "      <td>no-recurrence-events</td>\n",
       "      <td>60-69</td>\n",
       "      <td>ge40</td>\n",
       "      <td>15-19</td>\n",
       "      <td>0-2</td>\n",
       "      <td>no</td>\n",
       "      <td>2</td>\n",
       "      <td>left</td>\n",
       "      <td>left_low</td>\n",
       "      <td>no</td>\n",
       "    </tr>\n",
       "  </tbody>\n",
       "</table>\n",
       "</div>"
      ],
      "text/plain": [
       "   no-recurrence-events  30-39  premeno  30-34  0-2  no  3   left   left_low  \\\n",
       "0  no-recurrence-events  40-49  premeno  20-24  0-2  no  2  right   right_up   \n",
       "1  no-recurrence-events  40-49  premeno  20-24  0-2  no  2   left   left_low   \n",
       "2  no-recurrence-events  60-69     ge40  15-19  0-2  no  2  right    left_up   \n",
       "3  no-recurrence-events  40-49  premeno    0-4  0-2  no  2  right  right_low   \n",
       "4  no-recurrence-events  60-69     ge40  15-19  0-2  no  2   left   left_low   \n",
       "\n",
       "  no.1  \n",
       "0   no  \n",
       "1   no  \n",
       "2   no  \n",
       "3   no  \n",
       "4   no  "
      ]
     },
     "execution_count": 4,
     "metadata": {},
     "output_type": "execute_result"
    }
   ],
   "source": [
    "df = pd.read_csv('breast-cancer.data')\n",
    "\n",
    "df.head()"
   ]
  },
  {
   "cell_type": "code",
   "execution_count": 5,
   "metadata": {
    "colab": {
     "base_uri": "https://localhost:8080/",
     "height": 204
    },
    "id": "kD1gPd4z9Gn6",
    "outputId": "4890e47e-abb9-4998-988b-c32def53db00",
    "slideshow": {
     "slide_type": "slide"
    }
   },
   "outputs": [
    {
     "data": {
      "text/html": [
       "<div>\n",
       "<style scoped>\n",
       "    .dataframe tbody tr th:only-of-type {\n",
       "        vertical-align: middle;\n",
       "    }\n",
       "\n",
       "    .dataframe tbody tr th {\n",
       "        vertical-align: top;\n",
       "    }\n",
       "\n",
       "    .dataframe thead th {\n",
       "        text-align: right;\n",
       "    }\n",
       "</style>\n",
       "<table border=\"1\" class=\"dataframe\">\n",
       "  <thead>\n",
       "    <tr style=\"text-align: right;\">\n",
       "      <th></th>\n",
       "      <th>Class</th>\n",
       "      <th>age</th>\n",
       "      <th>menopause</th>\n",
       "      <th>tumor-size</th>\n",
       "      <th>inv-nodes</th>\n",
       "      <th>node-caps</th>\n",
       "      <th>deg-malig</th>\n",
       "      <th>breast</th>\n",
       "      <th>breast-quad</th>\n",
       "      <th>irradiat</th>\n",
       "    </tr>\n",
       "  </thead>\n",
       "  <tbody>\n",
       "    <tr>\n",
       "      <th>0</th>\n",
       "      <td>no-recurrence-events</td>\n",
       "      <td>40-49</td>\n",
       "      <td>premeno</td>\n",
       "      <td>20-24</td>\n",
       "      <td>0-2</td>\n",
       "      <td>no</td>\n",
       "      <td>2</td>\n",
       "      <td>right</td>\n",
       "      <td>right_up</td>\n",
       "      <td>no</td>\n",
       "    </tr>\n",
       "    <tr>\n",
       "      <th>1</th>\n",
       "      <td>no-recurrence-events</td>\n",
       "      <td>40-49</td>\n",
       "      <td>premeno</td>\n",
       "      <td>20-24</td>\n",
       "      <td>0-2</td>\n",
       "      <td>no</td>\n",
       "      <td>2</td>\n",
       "      <td>left</td>\n",
       "      <td>left_low</td>\n",
       "      <td>no</td>\n",
       "    </tr>\n",
       "    <tr>\n",
       "      <th>2</th>\n",
       "      <td>no-recurrence-events</td>\n",
       "      <td>60-69</td>\n",
       "      <td>ge40</td>\n",
       "      <td>15-19</td>\n",
       "      <td>0-2</td>\n",
       "      <td>no</td>\n",
       "      <td>2</td>\n",
       "      <td>right</td>\n",
       "      <td>left_up</td>\n",
       "      <td>no</td>\n",
       "    </tr>\n",
       "    <tr>\n",
       "      <th>3</th>\n",
       "      <td>no-recurrence-events</td>\n",
       "      <td>40-49</td>\n",
       "      <td>premeno</td>\n",
       "      <td>0-4</td>\n",
       "      <td>0-2</td>\n",
       "      <td>no</td>\n",
       "      <td>2</td>\n",
       "      <td>right</td>\n",
       "      <td>right_low</td>\n",
       "      <td>no</td>\n",
       "    </tr>\n",
       "    <tr>\n",
       "      <th>4</th>\n",
       "      <td>no-recurrence-events</td>\n",
       "      <td>60-69</td>\n",
       "      <td>ge40</td>\n",
       "      <td>15-19</td>\n",
       "      <td>0-2</td>\n",
       "      <td>no</td>\n",
       "      <td>2</td>\n",
       "      <td>left</td>\n",
       "      <td>left_low</td>\n",
       "      <td>no</td>\n",
       "    </tr>\n",
       "  </tbody>\n",
       "</table>\n",
       "</div>"
      ],
      "text/plain": [
       "                  Class    age menopause tumor-size inv-nodes node-caps  \\\n",
       "0  no-recurrence-events  40-49   premeno      20-24       0-2        no   \n",
       "1  no-recurrence-events  40-49   premeno      20-24       0-2        no   \n",
       "2  no-recurrence-events  60-69      ge40      15-19       0-2        no   \n",
       "3  no-recurrence-events  40-49   premeno        0-4       0-2        no   \n",
       "4  no-recurrence-events  60-69      ge40      15-19       0-2        no   \n",
       "\n",
       "   deg-malig breast breast-quad irradiat  \n",
       "0          2  right    right_up       no  \n",
       "1          2   left    left_low       no  \n",
       "2          2  right     left_up       no  \n",
       "3          2  right   right_low       no  \n",
       "4          2   left    left_low       no  "
      ]
     },
     "execution_count": 5,
     "metadata": {},
     "output_type": "execute_result"
    }
   ],
   "source": [
    " \n",
    "columns = [ 'Class', 'age','menopause','tumor-size','inv-nodes','node-caps','deg-malig','breast','breast-quad','irradiat']\n",
    "df.columns = columns\n",
    "df.head()"
   ]
  },
  {
   "cell_type": "code",
   "execution_count": 5,
   "metadata": {
    "colab": {
     "base_uri": "https://localhost:8080/"
    },
    "id": "z3t9m4Ro2kIZ",
    "outputId": "bfa371a1-508b-4ab4-a460-4b145cfa2dc2"
   },
   "outputs": [
    {
     "data": {
      "text/plain": [
       "Class          object\n",
       "age            object\n",
       "menopause      object\n",
       "tumor-size     object\n",
       "inv-nodes      object\n",
       "node-caps      object\n",
       "deg-malig       int64\n",
       "breast         object\n",
       "breast-quad    object\n",
       "irradiat       object\n",
       "dtype: object"
      ]
     },
     "execution_count": 5,
     "metadata": {
      "tags": []
     },
     "output_type": "execute_result"
    }
   ],
   "source": [
    "df.dtypes"
   ]
  },
  {
   "cell_type": "code",
   "execution_count": 6,
   "metadata": {
    "colab": {
     "base_uri": "https://localhost:8080/"
    },
    "id": "Sjl9WxNfCnCP",
    "outputId": "292d6586-9d2b-49ea-a2c2-4391ac24f1f4",
    "slideshow": {
     "slide_type": "slide"
    }
   },
   "outputs": [
    {
     "name": "stdout",
     "output_type": "stream",
     "text": [
      "<class 'pandas.core.frame.DataFrame'>\n",
      "RangeIndex: 285 entries, 0 to 284\n",
      "Data columns (total 10 columns):\n",
      " #   Column       Non-Null Count  Dtype \n",
      "---  ------       --------------  ----- \n",
      " 0   Class        285 non-null    object\n",
      " 1   age          285 non-null    object\n",
      " 2   menopause    285 non-null    object\n",
      " 3   tumor-size   285 non-null    object\n",
      " 4   inv-nodes    285 non-null    object\n",
      " 5   node-caps    285 non-null    object\n",
      " 6   deg-malig    285 non-null    int64 \n",
      " 7   breast       285 non-null    object\n",
      " 8   breast-quad  285 non-null    object\n",
      " 9   irradiat     285 non-null    object\n",
      "dtypes: int64(1), object(9)\n",
      "memory usage: 22.4+ KB\n"
     ]
    }
   ],
   "source": [
    "df.info()"
   ]
  },
  {
   "cell_type": "code",
   "execution_count": 7,
   "metadata": {
    "colab": {
     "base_uri": "https://localhost:8080/"
    },
    "id": "iG2YtF3nhjuc",
    "outputId": "aa302d34-e991-4c24-d790-c83e1c344a79",
    "slideshow": {
     "slide_type": "slide"
    }
   },
   "outputs": [
    {
     "data": {
      "text/plain": [
       "((285, 9), (285,))"
      ]
     },
     "execution_count": 7,
     "metadata": {
      "tags": []
     },
     "output_type": "execute_result"
    }
   ],
   "source": [
    "X = df.drop('Class', axis=1)\n",
    "y = df['Class']\n",
    "\n",
    "X.shape, y.shape"
   ]
  },
  {
   "cell_type": "code",
   "execution_count": 8,
   "metadata": {
    "colab": {
     "base_uri": "https://localhost:8080/"
    },
    "id": "g4djTKbtTQj4",
    "outputId": "0c78d547-5a0c-477b-e048-b94bf4f547e1",
    "slideshow": {
     "slide_type": "slide"
    }
   },
   "outputs": [
    {
     "name": "stdout",
     "output_type": "stream",
     "text": [
      "Feature 'age' has '6' unique categories\n",
      "Feature 'menopause' has '3' unique categories\n",
      "Feature 'tumor-size' has '11' unique categories\n",
      "Feature 'inv-nodes' has '7' unique categories\n",
      "Feature 'node-caps' has '3' unique categories\n",
      "Feature 'breast' has '2' unique categories\n",
      "Feature 'breast-quad' has '6' unique categories\n",
      "Feature 'irradiat' has '2' unique categories\n"
     ]
    }
   ],
   "source": [
    "\n",
    "for col_name in X.columns:\n",
    "    if X[col_name].dtypes == 'object':\n",
    "        unique_cat = len(X[col_name].unique())\n",
    "        print(\"Feature '{col_name}' has '{unique_cat}' unique categories\".format(col_name=col_name, unique_cat=unique_cat))"
   ]
  },
  {
   "cell_type": "code",
   "execution_count": 9,
   "metadata": {
    "id": "XHq-LmpsY9Vd",
    "slideshow": {
     "slide_type": "slide"
    }
   },
   "outputs": [],
   "source": [
    "todummy_list = ['menopause', 'node-caps', 'breast', 'breast-quad', 'irradiat', 'age', 'tumor-size', 'inv-nodes']\n",
    "def dummy_df(df, todummy_list):\n",
    "    for x in todummy_list:\n",
    "        dummies = pd.get_dummies(df[x], prefix=x, dummy_na=False)\n",
    "        df = df.drop(x, axis=1)\n",
    "        df = pd.concat([df, dummies], axis=1)\n",
    "    return df"
   ]
  },
  {
   "cell_type": "code",
   "execution_count": 10,
   "metadata": {
    "id": "6dUNbZ9S9SST",
    "slideshow": {
     "slide_type": "slide"
    }
   },
   "outputs": [],
   "source": [
    "X = dummy_df(X, todummy_list)\n",
    "\n"
   ]
  },
  {
   "cell_type": "code",
   "execution_count": 11,
   "metadata": {
    "id": "T4UVOA3v3Tef",
    "slideshow": {
     "slide_type": "slide"
    }
   },
   "outputs": [],
   "source": [
    "y = pd.get_dummies(y, drop_first=True)"
   ]
  },
  {
   "cell_type": "code",
   "execution_count": 12,
   "metadata": {
    "colab": {
     "base_uri": "https://localhost:8080/"
    },
    "id": "dLEK4BjQjyrh",
    "outputId": "e635a858-4d0e-4ca9-c001-cbab99c791d1",
    "slideshow": {
     "slide_type": "slide"
    }
   },
   "outputs": [
    {
     "data": {
      "text/plain": [
       "inv-nodes_9-11    0\n",
       "age_40-49         0\n",
       "age_20-29         0\n",
       "irradiat_yes      0\n",
       "irradiat_no       0\n",
       "dtype: int64"
      ]
     },
     "execution_count": 12,
     "metadata": {
      "tags": []
     },
     "output_type": "execute_result"
    }
   ],
   "source": [
    "X.isnull().sum().sort_values(ascending=False).head()"
   ]
  },
  {
   "cell_type": "markdown",
   "metadata": {
    "id": "oOOB7y0rnQUT",
    "slideshow": {
     "slide_type": "slide"
    }
   },
   "source": [
    "## Check for Interactions and Remove significant Interactions"
   ]
  },
  {
   "cell_type": "code",
   "execution_count": 15,
   "metadata": {
    "id": "3xUJgg5FmB6g",
    "slideshow": {
     "slide_type": "subslide"
    }
   },
   "outputs": [],
   "source": [
    "from itertools import combinations\n",
    "from sklearn.preprocessing import PolynomialFeatures"
   ]
  },
  {
   "cell_type": "code",
   "execution_count": 16,
   "metadata": {
    "id": "iN1MCdNNmIix",
    "slideshow": {
     "slide_type": "slide"
    }
   },
   "outputs": [],
   "source": [
    "def add_interactions(df):\n",
    "    #get feature names\n",
    "    combos = list(combinations(list(df.columns), 2))\n",
    "    colnames = list(df.columns) + ['_'.join(x) for x in combos]\n",
    "    \n",
    "    #find interactions\n",
    "    poly = PolynomialFeatures(interaction_only = True, include_bias = False)\n",
    "    df = poly.fit_transform(df)\n",
    "    df = pd.DataFrame(df)\n",
    "    df.columns = colnames\n",
    "    \n",
    "    #remove interaction terms with all 0 values\n",
    "    noint_indices = [i for i, x in enumerate(list((df == 0).all()))if x]\n",
    "    df = df.drop(df.columns[noint_indices], axis=1)\n",
    "    \n",
    "    return df"
   ]
  },
  {
   "cell_type": "code",
   "execution_count": 17,
   "metadata": {
    "colab": {
     "base_uri": "https://localhost:8080/",
     "height": 321
    },
    "id": "EJtbGQ4omI6h",
    "outputId": "6364f3bf-8a25-43cc-f420-8b666a4c55ef",
    "slideshow": {
     "slide_type": "slide"
    }
   },
   "outputs": [
    {
     "data": {
      "text/html": [
       "<div>\n",
       "<style scoped>\n",
       "    .dataframe tbody tr th:only-of-type {\n",
       "        vertical-align: middle;\n",
       "    }\n",
       "\n",
       "    .dataframe tbody tr th {\n",
       "        vertical-align: top;\n",
       "    }\n",
       "\n",
       "    .dataframe thead th {\n",
       "        text-align: right;\n",
       "    }\n",
       "</style>\n",
       "<table border=\"1\" class=\"dataframe\">\n",
       "  <thead>\n",
       "    <tr style=\"text-align: right;\">\n",
       "      <th></th>\n",
       "      <th>deg-malig</th>\n",
       "      <th>menopause_ge40</th>\n",
       "      <th>menopause_lt40</th>\n",
       "      <th>menopause_premeno</th>\n",
       "      <th>node-caps_?</th>\n",
       "      <th>node-caps_no</th>\n",
       "      <th>node-caps_yes</th>\n",
       "      <th>breast_left</th>\n",
       "      <th>breast_right</th>\n",
       "      <th>breast-quad_?</th>\n",
       "      <th>breast-quad_central</th>\n",
       "      <th>breast-quad_left_low</th>\n",
       "      <th>breast-quad_left_up</th>\n",
       "      <th>breast-quad_right_low</th>\n",
       "      <th>breast-quad_right_up</th>\n",
       "      <th>irradiat_no</th>\n",
       "      <th>irradiat_yes</th>\n",
       "      <th>age_20-29</th>\n",
       "      <th>age_30-39</th>\n",
       "      <th>age_40-49</th>\n",
       "      <th>age_50-59</th>\n",
       "      <th>age_60-69</th>\n",
       "      <th>age_70-79</th>\n",
       "      <th>tumor-size_0-4</th>\n",
       "      <th>tumor-size_10-14</th>\n",
       "      <th>tumor-size_15-19</th>\n",
       "      <th>tumor-size_20-24</th>\n",
       "      <th>tumor-size_25-29</th>\n",
       "      <th>tumor-size_30-34</th>\n",
       "      <th>tumor-size_35-39</th>\n",
       "      <th>tumor-size_40-44</th>\n",
       "      <th>tumor-size_45-49</th>\n",
       "      <th>tumor-size_5-9</th>\n",
       "      <th>tumor-size_50-54</th>\n",
       "      <th>inv-nodes_0-2</th>\n",
       "      <th>inv-nodes_12-14</th>\n",
       "      <th>inv-nodes_15-17</th>\n",
       "      <th>inv-nodes_24-26</th>\n",
       "      <th>inv-nodes_3-5</th>\n",
       "      <th>inv-nodes_6-8</th>\n",
       "      <th>...</th>\n",
       "      <th>age_70-79_inv-nodes_0-2</th>\n",
       "      <th>age_70-79_inv-nodes_9-11</th>\n",
       "      <th>tumor-size_0-4_inv-nodes_0-2</th>\n",
       "      <th>tumor-size_10-14_inv-nodes_0-2</th>\n",
       "      <th>tumor-size_10-14_inv-nodes_3-5</th>\n",
       "      <th>tumor-size_10-14_inv-nodes_6-8</th>\n",
       "      <th>tumor-size_15-19_inv-nodes_0-2</th>\n",
       "      <th>tumor-size_15-19_inv-nodes_12-14</th>\n",
       "      <th>tumor-size_15-19_inv-nodes_15-17</th>\n",
       "      <th>tumor-size_15-19_inv-nodes_6-8</th>\n",
       "      <th>tumor-size_15-19_inv-nodes_9-11</th>\n",
       "      <th>tumor-size_20-24_inv-nodes_0-2</th>\n",
       "      <th>tumor-size_20-24_inv-nodes_24-26</th>\n",
       "      <th>tumor-size_20-24_inv-nodes_3-5</th>\n",
       "      <th>tumor-size_20-24_inv-nodes_6-8</th>\n",
       "      <th>tumor-size_25-29_inv-nodes_0-2</th>\n",
       "      <th>tumor-size_25-29_inv-nodes_12-14</th>\n",
       "      <th>tumor-size_25-29_inv-nodes_15-17</th>\n",
       "      <th>tumor-size_25-29_inv-nodes_3-5</th>\n",
       "      <th>tumor-size_25-29_inv-nodes_6-8</th>\n",
       "      <th>tumor-size_25-29_inv-nodes_9-11</th>\n",
       "      <th>tumor-size_30-34_inv-nodes_0-2</th>\n",
       "      <th>tumor-size_30-34_inv-nodes_12-14</th>\n",
       "      <th>tumor-size_30-34_inv-nodes_15-17</th>\n",
       "      <th>tumor-size_30-34_inv-nodes_3-5</th>\n",
       "      <th>tumor-size_30-34_inv-nodes_6-8</th>\n",
       "      <th>tumor-size_30-34_inv-nodes_9-11</th>\n",
       "      <th>tumor-size_35-39_inv-nodes_0-2</th>\n",
       "      <th>tumor-size_35-39_inv-nodes_15-17</th>\n",
       "      <th>tumor-size_35-39_inv-nodes_6-8</th>\n",
       "      <th>tumor-size_35-39_inv-nodes_9-11</th>\n",
       "      <th>tumor-size_40-44_inv-nodes_0-2</th>\n",
       "      <th>tumor-size_40-44_inv-nodes_15-17</th>\n",
       "      <th>tumor-size_40-44_inv-nodes_3-5</th>\n",
       "      <th>tumor-size_40-44_inv-nodes_6-8</th>\n",
       "      <th>tumor-size_45-49_inv-nodes_0-2</th>\n",
       "      <th>tumor-size_45-49_inv-nodes_6-8</th>\n",
       "      <th>tumor-size_5-9_inv-nodes_0-2</th>\n",
       "      <th>tumor-size_50-54_inv-nodes_0-2</th>\n",
       "      <th>tumor-size_50-54_inv-nodes_9-11</th>\n",
       "    </tr>\n",
       "  </thead>\n",
       "  <tbody>\n",
       "    <tr>\n",
       "      <th>0</th>\n",
       "      <td>2.0</td>\n",
       "      <td>0.0</td>\n",
       "      <td>0.0</td>\n",
       "      <td>1.0</td>\n",
       "      <td>0.0</td>\n",
       "      <td>1.0</td>\n",
       "      <td>0.0</td>\n",
       "      <td>0.0</td>\n",
       "      <td>1.0</td>\n",
       "      <td>0.0</td>\n",
       "      <td>0.0</td>\n",
       "      <td>0.0</td>\n",
       "      <td>0.0</td>\n",
       "      <td>0.0</td>\n",
       "      <td>1.0</td>\n",
       "      <td>1.0</td>\n",
       "      <td>0.0</td>\n",
       "      <td>0.0</td>\n",
       "      <td>0.0</td>\n",
       "      <td>1.0</td>\n",
       "      <td>0.0</td>\n",
       "      <td>0.0</td>\n",
       "      <td>0.0</td>\n",
       "      <td>0.0</td>\n",
       "      <td>0.0</td>\n",
       "      <td>0.0</td>\n",
       "      <td>1.0</td>\n",
       "      <td>0.0</td>\n",
       "      <td>0.0</td>\n",
       "      <td>0.0</td>\n",
       "      <td>0.0</td>\n",
       "      <td>0.0</td>\n",
       "      <td>0.0</td>\n",
       "      <td>0.0</td>\n",
       "      <td>1.0</td>\n",
       "      <td>0.0</td>\n",
       "      <td>0.0</td>\n",
       "      <td>0.0</td>\n",
       "      <td>0.0</td>\n",
       "      <td>0.0</td>\n",
       "      <td>...</td>\n",
       "      <td>0.0</td>\n",
       "      <td>0.0</td>\n",
       "      <td>0.0</td>\n",
       "      <td>0.0</td>\n",
       "      <td>0.0</td>\n",
       "      <td>0.0</td>\n",
       "      <td>0.0</td>\n",
       "      <td>0.0</td>\n",
       "      <td>0.0</td>\n",
       "      <td>0.0</td>\n",
       "      <td>0.0</td>\n",
       "      <td>1.0</td>\n",
       "      <td>0.0</td>\n",
       "      <td>0.0</td>\n",
       "      <td>0.0</td>\n",
       "      <td>0.0</td>\n",
       "      <td>0.0</td>\n",
       "      <td>0.0</td>\n",
       "      <td>0.0</td>\n",
       "      <td>0.0</td>\n",
       "      <td>0.0</td>\n",
       "      <td>0.0</td>\n",
       "      <td>0.0</td>\n",
       "      <td>0.0</td>\n",
       "      <td>0.0</td>\n",
       "      <td>0.0</td>\n",
       "      <td>0.0</td>\n",
       "      <td>0.0</td>\n",
       "      <td>0.0</td>\n",
       "      <td>0.0</td>\n",
       "      <td>0.0</td>\n",
       "      <td>0.0</td>\n",
       "      <td>0.0</td>\n",
       "      <td>0.0</td>\n",
       "      <td>0.0</td>\n",
       "      <td>0.0</td>\n",
       "      <td>0.0</td>\n",
       "      <td>0.0</td>\n",
       "      <td>0.0</td>\n",
       "      <td>0.0</td>\n",
       "    </tr>\n",
       "    <tr>\n",
       "      <th>1</th>\n",
       "      <td>2.0</td>\n",
       "      <td>0.0</td>\n",
       "      <td>0.0</td>\n",
       "      <td>1.0</td>\n",
       "      <td>0.0</td>\n",
       "      <td>1.0</td>\n",
       "      <td>0.0</td>\n",
       "      <td>1.0</td>\n",
       "      <td>0.0</td>\n",
       "      <td>0.0</td>\n",
       "      <td>0.0</td>\n",
       "      <td>1.0</td>\n",
       "      <td>0.0</td>\n",
       "      <td>0.0</td>\n",
       "      <td>0.0</td>\n",
       "      <td>1.0</td>\n",
       "      <td>0.0</td>\n",
       "      <td>0.0</td>\n",
       "      <td>0.0</td>\n",
       "      <td>1.0</td>\n",
       "      <td>0.0</td>\n",
       "      <td>0.0</td>\n",
       "      <td>0.0</td>\n",
       "      <td>0.0</td>\n",
       "      <td>0.0</td>\n",
       "      <td>0.0</td>\n",
       "      <td>1.0</td>\n",
       "      <td>0.0</td>\n",
       "      <td>0.0</td>\n",
       "      <td>0.0</td>\n",
       "      <td>0.0</td>\n",
       "      <td>0.0</td>\n",
       "      <td>0.0</td>\n",
       "      <td>0.0</td>\n",
       "      <td>1.0</td>\n",
       "      <td>0.0</td>\n",
       "      <td>0.0</td>\n",
       "      <td>0.0</td>\n",
       "      <td>0.0</td>\n",
       "      <td>0.0</td>\n",
       "      <td>...</td>\n",
       "      <td>0.0</td>\n",
       "      <td>0.0</td>\n",
       "      <td>0.0</td>\n",
       "      <td>0.0</td>\n",
       "      <td>0.0</td>\n",
       "      <td>0.0</td>\n",
       "      <td>0.0</td>\n",
       "      <td>0.0</td>\n",
       "      <td>0.0</td>\n",
       "      <td>0.0</td>\n",
       "      <td>0.0</td>\n",
       "      <td>1.0</td>\n",
       "      <td>0.0</td>\n",
       "      <td>0.0</td>\n",
       "      <td>0.0</td>\n",
       "      <td>0.0</td>\n",
       "      <td>0.0</td>\n",
       "      <td>0.0</td>\n",
       "      <td>0.0</td>\n",
       "      <td>0.0</td>\n",
       "      <td>0.0</td>\n",
       "      <td>0.0</td>\n",
       "      <td>0.0</td>\n",
       "      <td>0.0</td>\n",
       "      <td>0.0</td>\n",
       "      <td>0.0</td>\n",
       "      <td>0.0</td>\n",
       "      <td>0.0</td>\n",
       "      <td>0.0</td>\n",
       "      <td>0.0</td>\n",
       "      <td>0.0</td>\n",
       "      <td>0.0</td>\n",
       "      <td>0.0</td>\n",
       "      <td>0.0</td>\n",
       "      <td>0.0</td>\n",
       "      <td>0.0</td>\n",
       "      <td>0.0</td>\n",
       "      <td>0.0</td>\n",
       "      <td>0.0</td>\n",
       "      <td>0.0</td>\n",
       "    </tr>\n",
       "    <tr>\n",
       "      <th>2</th>\n",
       "      <td>2.0</td>\n",
       "      <td>1.0</td>\n",
       "      <td>0.0</td>\n",
       "      <td>0.0</td>\n",
       "      <td>0.0</td>\n",
       "      <td>1.0</td>\n",
       "      <td>0.0</td>\n",
       "      <td>0.0</td>\n",
       "      <td>1.0</td>\n",
       "      <td>0.0</td>\n",
       "      <td>0.0</td>\n",
       "      <td>0.0</td>\n",
       "      <td>1.0</td>\n",
       "      <td>0.0</td>\n",
       "      <td>0.0</td>\n",
       "      <td>1.0</td>\n",
       "      <td>0.0</td>\n",
       "      <td>0.0</td>\n",
       "      <td>0.0</td>\n",
       "      <td>0.0</td>\n",
       "      <td>0.0</td>\n",
       "      <td>1.0</td>\n",
       "      <td>0.0</td>\n",
       "      <td>0.0</td>\n",
       "      <td>0.0</td>\n",
       "      <td>1.0</td>\n",
       "      <td>0.0</td>\n",
       "      <td>0.0</td>\n",
       "      <td>0.0</td>\n",
       "      <td>0.0</td>\n",
       "      <td>0.0</td>\n",
       "      <td>0.0</td>\n",
       "      <td>0.0</td>\n",
       "      <td>0.0</td>\n",
       "      <td>1.0</td>\n",
       "      <td>0.0</td>\n",
       "      <td>0.0</td>\n",
       "      <td>0.0</td>\n",
       "      <td>0.0</td>\n",
       "      <td>0.0</td>\n",
       "      <td>...</td>\n",
       "      <td>0.0</td>\n",
       "      <td>0.0</td>\n",
       "      <td>0.0</td>\n",
       "      <td>0.0</td>\n",
       "      <td>0.0</td>\n",
       "      <td>0.0</td>\n",
       "      <td>1.0</td>\n",
       "      <td>0.0</td>\n",
       "      <td>0.0</td>\n",
       "      <td>0.0</td>\n",
       "      <td>0.0</td>\n",
       "      <td>0.0</td>\n",
       "      <td>0.0</td>\n",
       "      <td>0.0</td>\n",
       "      <td>0.0</td>\n",
       "      <td>0.0</td>\n",
       "      <td>0.0</td>\n",
       "      <td>0.0</td>\n",
       "      <td>0.0</td>\n",
       "      <td>0.0</td>\n",
       "      <td>0.0</td>\n",
       "      <td>0.0</td>\n",
       "      <td>0.0</td>\n",
       "      <td>0.0</td>\n",
       "      <td>0.0</td>\n",
       "      <td>0.0</td>\n",
       "      <td>0.0</td>\n",
       "      <td>0.0</td>\n",
       "      <td>0.0</td>\n",
       "      <td>0.0</td>\n",
       "      <td>0.0</td>\n",
       "      <td>0.0</td>\n",
       "      <td>0.0</td>\n",
       "      <td>0.0</td>\n",
       "      <td>0.0</td>\n",
       "      <td>0.0</td>\n",
       "      <td>0.0</td>\n",
       "      <td>0.0</td>\n",
       "      <td>0.0</td>\n",
       "      <td>0.0</td>\n",
       "    </tr>\n",
       "    <tr>\n",
       "      <th>3</th>\n",
       "      <td>2.0</td>\n",
       "      <td>0.0</td>\n",
       "      <td>0.0</td>\n",
       "      <td>1.0</td>\n",
       "      <td>0.0</td>\n",
       "      <td>1.0</td>\n",
       "      <td>0.0</td>\n",
       "      <td>0.0</td>\n",
       "      <td>1.0</td>\n",
       "      <td>0.0</td>\n",
       "      <td>0.0</td>\n",
       "      <td>0.0</td>\n",
       "      <td>0.0</td>\n",
       "      <td>1.0</td>\n",
       "      <td>0.0</td>\n",
       "      <td>1.0</td>\n",
       "      <td>0.0</td>\n",
       "      <td>0.0</td>\n",
       "      <td>0.0</td>\n",
       "      <td>1.0</td>\n",
       "      <td>0.0</td>\n",
       "      <td>0.0</td>\n",
       "      <td>0.0</td>\n",
       "      <td>1.0</td>\n",
       "      <td>0.0</td>\n",
       "      <td>0.0</td>\n",
       "      <td>0.0</td>\n",
       "      <td>0.0</td>\n",
       "      <td>0.0</td>\n",
       "      <td>0.0</td>\n",
       "      <td>0.0</td>\n",
       "      <td>0.0</td>\n",
       "      <td>0.0</td>\n",
       "      <td>0.0</td>\n",
       "      <td>1.0</td>\n",
       "      <td>0.0</td>\n",
       "      <td>0.0</td>\n",
       "      <td>0.0</td>\n",
       "      <td>0.0</td>\n",
       "      <td>0.0</td>\n",
       "      <td>...</td>\n",
       "      <td>0.0</td>\n",
       "      <td>0.0</td>\n",
       "      <td>1.0</td>\n",
       "      <td>0.0</td>\n",
       "      <td>0.0</td>\n",
       "      <td>0.0</td>\n",
       "      <td>0.0</td>\n",
       "      <td>0.0</td>\n",
       "      <td>0.0</td>\n",
       "      <td>0.0</td>\n",
       "      <td>0.0</td>\n",
       "      <td>0.0</td>\n",
       "      <td>0.0</td>\n",
       "      <td>0.0</td>\n",
       "      <td>0.0</td>\n",
       "      <td>0.0</td>\n",
       "      <td>0.0</td>\n",
       "      <td>0.0</td>\n",
       "      <td>0.0</td>\n",
       "      <td>0.0</td>\n",
       "      <td>0.0</td>\n",
       "      <td>0.0</td>\n",
       "      <td>0.0</td>\n",
       "      <td>0.0</td>\n",
       "      <td>0.0</td>\n",
       "      <td>0.0</td>\n",
       "      <td>0.0</td>\n",
       "      <td>0.0</td>\n",
       "      <td>0.0</td>\n",
       "      <td>0.0</td>\n",
       "      <td>0.0</td>\n",
       "      <td>0.0</td>\n",
       "      <td>0.0</td>\n",
       "      <td>0.0</td>\n",
       "      <td>0.0</td>\n",
       "      <td>0.0</td>\n",
       "      <td>0.0</td>\n",
       "      <td>0.0</td>\n",
       "      <td>0.0</td>\n",
       "      <td>0.0</td>\n",
       "    </tr>\n",
       "    <tr>\n",
       "      <th>4</th>\n",
       "      <td>2.0</td>\n",
       "      <td>1.0</td>\n",
       "      <td>0.0</td>\n",
       "      <td>0.0</td>\n",
       "      <td>0.0</td>\n",
       "      <td>1.0</td>\n",
       "      <td>0.0</td>\n",
       "      <td>1.0</td>\n",
       "      <td>0.0</td>\n",
       "      <td>0.0</td>\n",
       "      <td>0.0</td>\n",
       "      <td>1.0</td>\n",
       "      <td>0.0</td>\n",
       "      <td>0.0</td>\n",
       "      <td>0.0</td>\n",
       "      <td>1.0</td>\n",
       "      <td>0.0</td>\n",
       "      <td>0.0</td>\n",
       "      <td>0.0</td>\n",
       "      <td>0.0</td>\n",
       "      <td>0.0</td>\n",
       "      <td>1.0</td>\n",
       "      <td>0.0</td>\n",
       "      <td>0.0</td>\n",
       "      <td>0.0</td>\n",
       "      <td>1.0</td>\n",
       "      <td>0.0</td>\n",
       "      <td>0.0</td>\n",
       "      <td>0.0</td>\n",
       "      <td>0.0</td>\n",
       "      <td>0.0</td>\n",
       "      <td>0.0</td>\n",
       "      <td>0.0</td>\n",
       "      <td>0.0</td>\n",
       "      <td>1.0</td>\n",
       "      <td>0.0</td>\n",
       "      <td>0.0</td>\n",
       "      <td>0.0</td>\n",
       "      <td>0.0</td>\n",
       "      <td>0.0</td>\n",
       "      <td>...</td>\n",
       "      <td>0.0</td>\n",
       "      <td>0.0</td>\n",
       "      <td>0.0</td>\n",
       "      <td>0.0</td>\n",
       "      <td>0.0</td>\n",
       "      <td>0.0</td>\n",
       "      <td>1.0</td>\n",
       "      <td>0.0</td>\n",
       "      <td>0.0</td>\n",
       "      <td>0.0</td>\n",
       "      <td>0.0</td>\n",
       "      <td>0.0</td>\n",
       "      <td>0.0</td>\n",
       "      <td>0.0</td>\n",
       "      <td>0.0</td>\n",
       "      <td>0.0</td>\n",
       "      <td>0.0</td>\n",
       "      <td>0.0</td>\n",
       "      <td>0.0</td>\n",
       "      <td>0.0</td>\n",
       "      <td>0.0</td>\n",
       "      <td>0.0</td>\n",
       "      <td>0.0</td>\n",
       "      <td>0.0</td>\n",
       "      <td>0.0</td>\n",
       "      <td>0.0</td>\n",
       "      <td>0.0</td>\n",
       "      <td>0.0</td>\n",
       "      <td>0.0</td>\n",
       "      <td>0.0</td>\n",
       "      <td>0.0</td>\n",
       "      <td>0.0</td>\n",
       "      <td>0.0</td>\n",
       "      <td>0.0</td>\n",
       "      <td>0.0</td>\n",
       "      <td>0.0</td>\n",
       "      <td>0.0</td>\n",
       "      <td>0.0</td>\n",
       "      <td>0.0</td>\n",
       "      <td>0.0</td>\n",
       "    </tr>\n",
       "  </tbody>\n",
       "</table>\n",
       "<p>5 rows × 564 columns</p>\n",
       "</div>"
      ],
      "text/plain": [
       "   deg-malig  ...  tumor-size_50-54_inv-nodes_9-11\n",
       "0        2.0  ...                              0.0\n",
       "1        2.0  ...                              0.0\n",
       "2        2.0  ...                              0.0\n",
       "3        2.0  ...                              0.0\n",
       "4        2.0  ...                              0.0\n",
       "\n",
       "[5 rows x 564 columns]"
      ]
     },
     "execution_count": 17,
     "metadata": {
      "tags": []
     },
     "output_type": "execute_result"
    }
   ],
   "source": [
    "X = add_interactions(X)\n",
    "X.head()"
   ]
  },
  {
   "cell_type": "markdown",
   "metadata": {
    "id": "hKf0LHk-nIXo",
    "slideshow": {
     "slide_type": "slide"
    }
   },
   "source": [
    "## Dimensionality Reduction using PCA"
   ]
  },
  {
   "cell_type": "code",
   "execution_count": 18,
   "metadata": {
    "colab": {
     "base_uri": "https://localhost:8080/",
     "height": 204
    },
    "id": "-HUnsjl5mI-Y",
    "outputId": "ce1002c0-9b3e-4801-eb43-652c6f57b3b2",
    "slideshow": {
     "slide_type": "subslide"
    }
   },
   "outputs": [
    {
     "data": {
      "text/html": [
       "<div>\n",
       "<style scoped>\n",
       "    .dataframe tbody tr th:only-of-type {\n",
       "        vertical-align: middle;\n",
       "    }\n",
       "\n",
       "    .dataframe tbody tr th {\n",
       "        vertical-align: top;\n",
       "    }\n",
       "\n",
       "    .dataframe thead th {\n",
       "        text-align: right;\n",
       "    }\n",
       "</style>\n",
       "<table border=\"1\" class=\"dataframe\">\n",
       "  <thead>\n",
       "    <tr style=\"text-align: right;\">\n",
       "      <th></th>\n",
       "      <th>0</th>\n",
       "      <th>1</th>\n",
       "      <th>2</th>\n",
       "      <th>3</th>\n",
       "      <th>4</th>\n",
       "      <th>5</th>\n",
       "      <th>6</th>\n",
       "      <th>7</th>\n",
       "      <th>8</th>\n",
       "      <th>9</th>\n",
       "    </tr>\n",
       "  </thead>\n",
       "  <tbody>\n",
       "    <tr>\n",
       "      <th>0</th>\n",
       "      <td>2.974624</td>\n",
       "      <td>-2.806047</td>\n",
       "      <td>0.417706</td>\n",
       "      <td>-0.163285</td>\n",
       "      <td>-0.736877</td>\n",
       "      <td>1.315988</td>\n",
       "      <td>-1.025774</td>\n",
       "      <td>-0.508666</td>\n",
       "      <td>1.421643</td>\n",
       "      <td>-0.163682</td>\n",
       "    </tr>\n",
       "    <tr>\n",
       "      <th>1</th>\n",
       "      <td>1.269802</td>\n",
       "      <td>-1.211792</td>\n",
       "      <td>-3.868729</td>\n",
       "      <td>-0.533597</td>\n",
       "      <td>0.562374</td>\n",
       "      <td>1.544171</td>\n",
       "      <td>-0.836108</td>\n",
       "      <td>-1.909369</td>\n",
       "      <td>1.700414</td>\n",
       "      <td>0.336524</td>\n",
       "    </tr>\n",
       "    <tr>\n",
       "      <th>2</th>\n",
       "      <td>-2.034261</td>\n",
       "      <td>-2.194094</td>\n",
       "      <td>3.488823</td>\n",
       "      <td>-1.201067</td>\n",
       "      <td>1.227062</td>\n",
       "      <td>0.210023</td>\n",
       "      <td>-0.720965</td>\n",
       "      <td>-0.226330</td>\n",
       "      <td>-1.635058</td>\n",
       "      <td>0.276345</td>\n",
       "    </tr>\n",
       "    <tr>\n",
       "      <th>3</th>\n",
       "      <td>2.885793</td>\n",
       "      <td>-2.552770</td>\n",
       "      <td>0.094699</td>\n",
       "      <td>-0.509133</td>\n",
       "      <td>-0.513037</td>\n",
       "      <td>0.432348</td>\n",
       "      <td>-0.606057</td>\n",
       "      <td>0.530639</td>\n",
       "      <td>0.297994</td>\n",
       "      <td>-1.066763</td>\n",
       "    </tr>\n",
       "    <tr>\n",
       "      <th>4</th>\n",
       "      <td>-3.627114</td>\n",
       "      <td>-0.203887</td>\n",
       "      <td>-1.492604</td>\n",
       "      <td>-2.526401</td>\n",
       "      <td>0.745245</td>\n",
       "      <td>1.172635</td>\n",
       "      <td>-0.744241</td>\n",
       "      <td>-0.002191</td>\n",
       "      <td>-1.188368</td>\n",
       "      <td>0.224726</td>\n",
       "    </tr>\n",
       "  </tbody>\n",
       "</table>\n",
       "</div>"
      ],
      "text/plain": [
       "          0         1         2  ...         7         8         9\n",
       "0  2.974624 -2.806047  0.417706  ... -0.508666  1.421643 -0.163682\n",
       "1  1.269802 -1.211792 -3.868729  ... -1.909369  1.700414  0.336524\n",
       "2 -2.034261 -2.194094  3.488823  ... -0.226330 -1.635058  0.276345\n",
       "3  2.885793 -2.552770  0.094699  ...  0.530639  0.297994 -1.066763\n",
       "4 -3.627114 -0.203887 -1.492604  ... -0.002191 -1.188368  0.224726\n",
       "\n",
       "[5 rows x 10 columns]"
      ]
     },
     "execution_count": 18,
     "metadata": {
      "tags": []
     },
     "output_type": "execute_result"
    }
   ],
   "source": [
    "from sklearn.decomposition import PCA\n",
    "\n",
    "pca = PCA(n_components = 10)\n",
    "\n",
    "X_pca = pd.DataFrame(pca.fit_transform(X))\n",
    "\n",
    "X_pca.head()"
   ]
  },
  {
   "cell_type": "code",
   "execution_count": 19,
   "metadata": {
    "colab": {
     "base_uri": "https://localhost:8080/"
    },
    "id": "fGD7qjspmJCP",
    "outputId": "6429373b-7236-495a-aa70-2fdd738aaae4",
    "slideshow": {
     "slide_type": "slide"
    }
   },
   "outputs": [
    {
     "data": {
      "text/plain": [
       "((199, 564), (86, 564), (199, 1), (86, 1))"
      ]
     },
     "execution_count": 19,
     "metadata": {
      "tags": []
     },
     "output_type": "execute_result"
    }
   ],
   "source": [
    "from sklearn.model_selection import train_test_split\n",
    "\n",
    "X_train, X_test, y_train, y_test = train_test_split(X, y, test_size=0.3, random_state=1)\n",
    "\n",
    "X_train.shape, X_test.shape, y_train.shape, y_test.shape"
   ]
  },
  {
   "cell_type": "code",
   "execution_count": 20,
   "metadata": {
    "colab": {
     "base_uri": "https://localhost:8080/",
     "height": 307
    },
    "id": "JTP2N_9zimtz",
    "outputId": "7303aa13-d7b5-4635-bd6c-cd4a7b247510",
    "slideshow": {
     "slide_type": "slide"
    }
   },
   "outputs": [
    {
     "data": {
      "text/plain": [
       "<matplotlib.axes._subplots.AxesSubplot at 0x7f9c4a093fd0>"
      ]
     },
     "execution_count": 20,
     "metadata": {
      "tags": []
     },
     "output_type": "execute_result"
    },
    {
     "data": {
      "image/png": "[encoded data removed]",
      "text/plain": [
       "<Figure size 432x288 with 1 Axes>"
      ]
     },
     "metadata": {
      "tags": []
     },
     "output_type": "display_data"
    }
   ],
   "source": [
    "y_train.value_counts().plot(kind='bar')"
   ]
  },
  {
   "cell_type": "code",
   "execution_count": 21,
   "metadata": {
    "colab": {
     "base_uri": "https://localhost:8080/"
    },
    "id": "oFS_zI_cgxIx",
    "outputId": "af77f9b1-d417-4a6b-e934-6923616b0060",
    "slideshow": {
     "slide_type": "slide"
    }
   },
   "outputs": [
    {
     "name": "stdout",
     "output_type": "stream",
     "text": [
      "Before OverSampling, counts of Recurrent Class '1':  recurrence-events\n",
      "0                    140\n",
      "dtype: int64\n",
      "Before OverSampling, counts of No-Recurrent Class '0': \n",
      " recurrence-events\n",
      "1                    59\n",
      "dtype: int64\n"
     ]
    }
   ],
   "source": [
    "\n",
    "print(\"Before OverSampling, counts of Recurrent Class '1': \",y_train.value_counts()[0])\n",
    "print(\"Before OverSampling, counts of No-Recurrent Class '0': \\n\", y_train.value_counts()[1])"
   ]
  },
  {
   "cell_type": "code",
   "execution_count": 22,
   "metadata": {
    "colab": {
     "base_uri": "https://localhost:8080/"
    },
    "id": "y3uiw4GegbRY",
    "outputId": "3c381e97-ed4b-4c0a-8628-c8be30b8b10e",
    "slideshow": {
     "slide_type": "slide"
    }
   },
   "outputs": [
    {
     "name": "stderr",
     "output_type": "stream",
     "text": [
      "/usr/local/lib/python3.7/dist-packages/sklearn/externals/six.py:31: FutureWarning: The module is deprecated in version 0.21 and will be removed in version 0.23 since we've dropped support for Python 2.7. Please rely on the official version of six (https://pypi.org/project/six/).\n",
      "  \"(https://pypi.org/project/six/).\", FutureWarning)\n",
      "/usr/local/lib/python3.7/dist-packages/sklearn/utils/deprecation.py:144: FutureWarning: The sklearn.neighbors.base module is  deprecated in version 0.22 and will be removed in version 0.24. The corresponding classes / functions should instead be imported from sklearn.neighbors. Anything that cannot be imported from sklearn.neighbors is now part of the private API.\n",
      "  warnings.warn(message, FutureWarning)\n",
      "/usr/local/lib/python3.7/dist-packages/sklearn/utils/deprecation.py:87: FutureWarning: Function safe_indexing is deprecated; safe_indexing is deprecated in version 0.22 and will be removed in version 0.24.\n",
      "  warnings.warn(msg, category=FutureWarning)\n"
     ]
    }
   ],
   "source": [
    "from imblearn.over_sampling import SMOTE\n",
    "sm = SMOTE(random_state=0)\n",
    "X_train_res, y_train_res = sm.fit_sample(X_train, np.ravel(y_train))"
   ]
  },
  {
   "cell_type": "code",
   "execution_count": 23,
   "metadata": {
    "colab": {
     "base_uri": "https://localhost:8080/"
    },
    "id": "Yq3GRHKqgqcG",
    "outputId": "e737939f-8e47-42ae-e6fd-4c4a36e93263",
    "slideshow": {
     "slide_type": "slide"
    }
   },
   "outputs": [
    {
     "name": "stdout",
     "output_type": "stream",
     "text": [
      "After OverSampling, the shape of features_X: (280, 564)\n",
      "After OverSampling, the shape of Output_y: (280,) \n",
      "\n",
      "After OverSampling, counts of Recurrent Class '1': 140\n",
      "After OverSampling, counts of Non-Recurrent Class '0': 140\n"
     ]
    }
   ],
   "source": [
    "print('After OverSampling, the shape of features_X: {}'.format(X_train_res.shape))\n",
    "print('After OverSampling, the shape of Output_y: {} \\n'.format(y_train_res.shape))\n",
    "\n",
    "print(\"After OverSampling, counts of Recurrent Class '1': {}\".format(sum(y_train_res==1)))\n",
    "print(\"After OverSampling, counts of Non-Recurrent Class '0': {}\".format(sum(y_train_res==0)))"
   ]
  },
  {
   "cell_type": "code",
   "execution_count": 24,
   "metadata": {
    "colab": {
     "base_uri": "https://localhost:8080/"
    },
    "id": "wkKFOrrqmJGK",
    "outputId": "a5621610-9889-4ffd-b5ef-1239762d7923",
    "slideshow": {
     "slide_type": "slide"
    }
   },
   "outputs": [
    {
     "name": "stderr",
     "output_type": "stream",
     "text": [
      "/usr/local/lib/python3.7/dist-packages/sklearn/utils/validation.py:760: DataConversionWarning: A column-vector y was passed when a 1d array was expected. Please change the shape of y to (n_samples, ), for example using ravel().\n",
      "  y = column_or_1d(y, warn=True)\n",
      "/usr/local/lib/python3.7/dist-packages/sklearn/feature_selection/_univariate_selection.py:114: UserWarning: Features [  9  17  37  49  57  77  86 112 122 126 127 144 156 175 176 185 193 207\n",
      " 241 245 272 283 297 306 307 308 309 311 326 334 343 348 386 390 393 399\n",
      " 406 410 414 440 448 454 458 459 468 481 516 521 525 532 534 536 538 544\n",
      " 559] are constant.\n",
      "  UserWarning)\n",
      "/usr/local/lib/python3.7/dist-packages/sklearn/feature_selection/_univariate_selection.py:115: RuntimeWarning: invalid value encountered in true_divide\n",
      "  f = msb / msw\n"
     ]
    }
   ],
   "source": [
    "import sklearn.feature_selection\n",
    "\n",
    "select = sklearn.feature_selection.SelectKBest(k=20)\n",
    "selected_features = select.fit(X_train, y_train)\n",
    "indices_selected = selected_features.get_support(indices=True)\n",
    "colnames_selected = [X.columns[i] for i in indices_selected]\n",
    "\n",
    "X_train_selected = X_train[colnames_selected]\n",
    "X_test_selected = X_test[colnames_selected]"
   ]
  },
  {
   "cell_type": "code",
   "execution_count": 25,
   "metadata": {
    "colab": {
     "base_uri": "https://localhost:8080/"
    },
    "id": "wlDzuqUymJKF",
    "outputId": "ce5dfdf9-f9a6-4bd3-f126-e06ac870d9a0",
    "slideshow": {
     "slide_type": "slide"
    }
   },
   "outputs": [
    {
     "data": {
      "text/plain": [
       "['deg-malig',\n",
       " 'node-caps_no',\n",
       " 'node-caps_yes',\n",
       " 'inv-nodes_0-2',\n",
       " 'deg-malig_node-caps_yes',\n",
       " 'deg-malig_breast_left',\n",
       " 'deg-malig_irradiat_yes',\n",
       " 'deg-malig_age_30-39',\n",
       " 'menopause_ge40_inv-nodes_0-2',\n",
       " 'menopause_premeno_node-caps_yes',\n",
       " 'node-caps_no_irradiat_no',\n",
       " 'node-caps_no_inv-nodes_0-2',\n",
       " 'node-caps_yes_breast_left',\n",
       " 'node-caps_yes_breast-quad_left_low',\n",
       " 'breast_left_irradiat_yes',\n",
       " 'breast_left_age_30-39',\n",
       " 'breast_left_inv-nodes_6-8',\n",
       " 'breast-quad_left_low_inv-nodes_6-8',\n",
       " 'irradiat_no_inv-nodes_0-2',\n",
       " 'irradiat_yes_inv-nodes_6-8']"
      ]
     },
     "execution_count": 25,
     "metadata": {
      "tags": []
     },
     "output_type": "execute_result"
    }
   ],
   "source": [
    "colnames_selected"
   ]
  },
  {
   "cell_type": "markdown",
   "metadata": {
    "id": "_bN-TOmpUkl2",
    "slideshow": {
     "slide_type": "slide"
    }
   },
   "source": [
    "## Logistic Regression Model"
   ]
  },
  {
   "cell_type": "code",
   "execution_count": 26,
   "metadata": {
    "id": "-o6YItWXm4-w",
    "slideshow": {
     "slide_type": "subslide"
    }
   },
   "outputs": [],
   "source": [
    "from sklearn.linear_model import LogisticRegression\n",
    "from sklearn.metrics import roc_auc_score, confusion_matrix, plot_confusion_matrix, classification_report\n",
    "\n",
    "def lr_model(X_train, X_test, y_train, y_test):\n",
    "    model = LogisticRegression()\n",
    "    model.fit(X_train, y_train)\n",
    "    y_hat = [x[1] for x in model.predict_proba(X_test)]\n",
    "    auc = roc_auc_score(y_test, y_hat)\n",
    "    \n",
    "    return auc"
   ]
  },
  {
   "cell_type": "code",
   "execution_count": 27,
   "metadata": {
    "colab": {
     "base_uri": "https://localhost:8080/"
    },
    "id": "3qCvImuHm5DE",
    "outputId": "a000fd13-01b2-4502-ed16-17604a81dc83",
    "slideshow": {
     "slide_type": "slide"
    }
   },
   "outputs": [
    {
     "data": {
      "text/plain": [
       "0.6698717948717948"
      ]
     },
     "execution_count": 27,
     "metadata": {
      "tags": []
     },
     "output_type": "execute_result"
    }
   ],
   "source": [
    "auc_processed = lr_model(X_train_selected, X_test_selected, np.ravel(y_train), np.ravel(y_test))\n",
    "auc_processed"
   ]
  },
  {
   "cell_type": "code",
   "execution_count": 28,
   "metadata": {
    "id": "ktCFb2K2Uqpx",
    "slideshow": {
     "slide_type": "slide"
    }
   },
   "outputs": [],
   "source": [
    "lr = LogisticRegression()\n",
    "lr.fit(X_train_selected, np.ravel(y_train))\n",
    "\n",
    "lr_pred = lr.predict(X_test_selected)"
   ]
  },
  {
   "cell_type": "code",
   "execution_count": 29,
   "metadata": {
    "colab": {
     "base_uri": "https://localhost:8080/",
     "height": 303
    },
    "id": "djY40eG9Uqxy",
    "outputId": "060b1d2c-11a5-467d-91f8-11c343eb9cd1",
    "slideshow": {
     "slide_type": "slide"
    }
   },
   "outputs": [
    {
     "data": {
      "text/plain": [
       "<sklearn.metrics._plot.confusion_matrix.ConfusionMatrixDisplay at 0x7f9c49f32810>"
      ]
     },
     "execution_count": 29,
     "metadata": {
      "tags": []
     },
     "output_type": "execute_result"
    },
    {
     "data": {
      "image/png": "[encoded data removed]",
      "text/plain": [
       "<Figure size 432x288 with 2 Axes>"
      ]
     },
     "metadata": {
      "tags": []
     },
     "output_type": "display_data"
    }
   ],
   "source": [
    "plot_confusion_matrix(lr, X_test_selected,y_test)"
   ]
  },
  {
   "cell_type": "code",
   "execution_count": 30,
   "metadata": {
    "colab": {
     "base_uri": "https://localhost:8080/"
    },
    "id": "DMu-sOnwUrhM",
    "outputId": "3c689a9f-2d63-4677-ac62-e6f3a3ba25b0",
    "slideshow": {
     "slide_type": "slide"
    }
   },
   "outputs": [
    {
     "name": "stdout",
     "output_type": "stream",
     "text": [
      "              precision    recall  f1-score   support\n",
      "\n",
      "           0       0.75      0.83      0.79        60\n",
      "           1       0.47      0.35      0.40        26\n",
      "\n",
      "    accuracy                           0.69        86\n",
      "   macro avg       0.61      0.59      0.59        86\n",
      "weighted avg       0.66      0.69      0.67        86\n",
      "\n"
     ]
    }
   ],
   "source": [
    "print(classification_report(y_test, lr_pred))"
   ]
  },
  {
   "cell_type": "markdown",
   "metadata": {
    "id": "mkSHT12FjSkf",
    "slideshow": {
     "slide_type": "slide"
    }
   },
   "source": [
    "## Evaluate Model with RepeatedSratidiedKFold Cross Validation"
   ]
  },
  {
   "cell_type": "code",
   "execution_count": 31,
   "metadata": {
    "colab": {
     "base_uri": "https://localhost:8080/"
    },
    "id": "-GyM34bNUrve",
    "outputId": "1974c992-4778-4284-d7e1-7c219bd921fb",
    "slideshow": {
     "slide_type": "slide"
    }
   },
   "outputs": [
    {
     "name": "stdout",
     "output_type": "stream",
     "text": [
      "0.7342105263157894\n"
     ]
    }
   ],
   "source": [
    "from sklearn.model_selection import RepeatedStratifiedKFold, GridSearchCV, cross_val_score\n",
    "\n",
    "cv = RepeatedStratifiedKFold(n_splits=10, n_repeats=3, random_state=1)\n",
    "\n",
    "#evaluate model\n",
    "scores = cross_val_score(lr, X_train_selected, y_train, scoring='accuracy', cv=cv, n_jobs=-1)\n",
    "print(np.mean(scores))  "
   ]
  },
  {
   "cell_type": "markdown",
   "metadata": {
    "id": "BxEtoipdjpsZ"
   },
   "source": [
    "## Tune the LR model with GridSearchCV"
   ]
  },
  {
   "cell_type": "code",
   "execution_count": 32,
   "metadata": {
    "colab": {
     "base_uri": "https://localhost:8080/"
    },
    "id": "v0fANWhDViNM",
    "outputId": "24f8d51b-c94a-4974-92d6-253c2e6102b7",
    "slideshow": {
     "slide_type": "slide"
    }
   },
   "outputs": [
    {
     "name": "stderr",
     "output_type": "stream",
     "text": [
      "/usr/local/lib/python3.7/dist-packages/sklearn/utils/validation.py:760: DataConversionWarning: A column-vector y was passed when a 1d array was expected. Please change the shape of y to (n_samples, ), for example using ravel().\n",
      "  y = column_or_1d(y, warn=True)\n",
      "/usr/local/lib/python3.7/dist-packages/sklearn/linear_model/_sag.py:330: ConvergenceWarning: The max_iter was reached which means the coef_ did not converge\n",
      "  \"the coef_ did not converge\", ConvergenceWarning)\n"
     ]
    }
   ],
   "source": [
    "# define grid\n",
    "grid = {'penalty': ['I1', 'I2', 'elasticnet', 'none'], 'solver':['newton-cg', 'lbfgs', 'liblinear', 'sag', 'saga'], 'multi_class': ['auto', 'ovr', 'multinomial'], 'max_iter': [100, 200, 300]}\n",
    "\n",
    "# define search\n",
    "search = GridSearchCV(lr, grid, scoring='accuracy', cv=cv, n_jobs=-1)\n",
    "\n",
    "# fit the search\n",
    "lr_results = search.fit(X_train_selected, y_train)\n",
    "\n",
    "\n"
   ]
  },
  {
   "cell_type": "code",
   "execution_count": 33,
   "metadata": {
    "colab": {
     "base_uri": "https://localhost:8080/"
    },
    "id": "fxTZH2_nViWf",
    "outputId": "07bf10d1-2b0e-4990-d13d-37281ab1fd40",
    "slideshow": {
     "slide_type": "slide"
    }
   },
   "outputs": [
    {
     "name": "stdout",
     "output_type": "stream",
     "text": [
      "Mean Accuracy: 0.71588\n",
      "\n",
      "----------------------------------------------------------------------------------------------------\n",
      "The best estimator of the logistic regression model:  LogisticRegression(C=1.0, class_weight=None, dual=False, fit_intercept=True,\n",
      "                   intercept_scaling=1, l1_ratio=None, max_iter=100,\n",
      "                   multi_class='auto', n_jobs=None, penalty='none',\n",
      "                   random_state=None, solver='sag', tol=0.0001, verbose=0,\n",
      "                   warm_start=False)\n",
      "\n",
      "----------------------------------------------------------------------------------------------------\n",
      "The best index of the logistic regression model:  18\n",
      "\n",
      "----------------------------------------------------------------------------------------------------\n",
      "The best parameter of the logistic regression. model:  {'max_iter': 100, 'multi_class': 'auto', 'penalty': 'none', 'solver': 'sag'}\n",
      "\n",
      "----------------------------------------------------------------------------------------------------\n",
      "The best score of the logistic regression model:  0.7158771929824561\n"
     ]
    }
   ],
   "source": [
    "# summarize\n",
    "print('Mean Accuracy: %.5f' % lr_results.best_score_)\n",
    "print()\n",
    "print('-'*100)\n",
    "print('The best estimator of the logistic regression model: ', lr_results.best_estimator_)\n",
    "print()\n",
    "print('-'*100)\n",
    "print('The best index of the logistic regression model: ', lr_results.best_index_)\n",
    "print()\n",
    "print('-'*100)\n",
    "print('The best parameter of the logistic regression. model: ', lr_results.best_params_)\n",
    "print()\n",
    "print('-'*100)\n",
    "print('The best score of the logistic regression model: ', lr_results.best_score_)"
   ]
  },
  {
   "cell_type": "markdown",
   "metadata": {
    "id": "C0qLx2Y5Uaz3",
    "slideshow": {
     "slide_type": "slide"
    }
   },
   "source": [
    "## Random Forest Model"
   ]
  },
  {
   "cell_type": "code",
   "execution_count": 34,
   "metadata": {
    "id": "JVNNCvuGm5Gz",
    "slideshow": {
     "slide_type": "subslide"
    }
   },
   "outputs": [],
   "source": [
    "from sklearn.ensemble import RandomForestClassifier\n",
    "from sklearn.metrics import confusion_matrix, plot_confusion_matrix, classification_report\n",
    "\n",
    "def rf_model(X_train, X_test, y_train, y_test):\n",
    "    rf = RandomForestClassifier()\n",
    "    rf.fit(X_train, y_train)\n",
    "    y_pred = [x[1] for x in rf.predict_proba(X_test)]\n",
    "    auc = roc_auc_score(y_test, y_pred)\n",
    "    return auc\n",
    "  \n"
   ]
  },
  {
   "cell_type": "code",
   "execution_count": 35,
   "metadata": {
    "colab": {
     "base_uri": "https://localhost:8080/"
    },
    "id": "9cHGwX9om5KZ",
    "outputId": "2363bbc9-f192-4693-9860-9527d1b5e3fc"
   },
   "outputs": [
    {
     "name": "stderr",
     "output_type": "stream",
     "text": [
      "/usr/local/lib/python3.7/dist-packages/ipykernel_launcher.py:6: DataConversionWarning: A column-vector y was passed when a 1d array was expected. Please change the shape of y to (n_samples,), for example using ravel().\n",
      "  \n"
     ]
    },
    {
     "data": {
      "text/plain": [
       "0.648076923076923"
      ]
     },
     "execution_count": 35,
     "metadata": {
      "tags": []
     },
     "output_type": "execute_result"
    }
   ],
   "source": [
    "rf_model(X_train_selected, X_test_selected, y_train, y_test)"
   ]
  },
  {
   "cell_type": "code",
   "execution_count": 36,
   "metadata": {
    "colab": {
     "base_uri": "https://localhost:8080/",
     "height": 353
    },
    "id": "j2h2zthom5N5",
    "outputId": "258e9818-12f6-4355-a2d2-96b475cd46fb",
    "slideshow": {
     "slide_type": "slide"
    }
   },
   "outputs": [
    {
     "name": "stderr",
     "output_type": "stream",
     "text": [
      "/usr/local/lib/python3.7/dist-packages/ipykernel_launcher.py:2: DataConversionWarning: A column-vector y was passed when a 1d array was expected. Please change the shape of y to (n_samples,), for example using ravel().\n",
      "  \n"
     ]
    },
    {
     "data": {
      "text/plain": [
       "<sklearn.metrics._plot.confusion_matrix.ConfusionMatrixDisplay at 0x7f9c4a0189d0>"
      ]
     },
     "execution_count": 36,
     "metadata": {
      "tags": []
     },
     "output_type": "execute_result"
    },
    {
     "data": {
      "image/png": "[encoded data removed]",
      "text/plain": [
       "<Figure size 432x288 with 2 Axes>"
      ]
     },
     "metadata": {
      "tags": []
     },
     "output_type": "display_data"
    }
   ],
   "source": [
    "rf=RandomForestClassifier()\n",
    "rf.fit(X_train_selected, y_train)\n",
    "rf_pred = rf.predict(X_test_selected)\n",
    "plot_confusion_matrix(rf, X_test_selected, y_test)\n"
   ]
  },
  {
   "cell_type": "code",
   "execution_count": 37,
   "metadata": {
    "colab": {
     "base_uri": "https://localhost:8080/"
    },
    "id": "cFKzOWYJq10_",
    "outputId": "491caf25-604b-456f-9ce9-5a512d7dc0a4",
    "slideshow": {
     "slide_type": "slide"
    }
   },
   "outputs": [
    {
     "name": "stdout",
     "output_type": "stream",
     "text": [
      "              precision    recall  f1-score   support\n",
      "\n",
      "           0       0.75      0.87      0.81        60\n",
      "           1       0.53      0.35      0.42        26\n",
      "\n",
      "    accuracy                           0.71        86\n",
      "   macro avg       0.64      0.61      0.61        86\n",
      "weighted avg       0.69      0.71      0.69        86\n",
      "\n"
     ]
    }
   ],
   "source": [
    "print(classification_report(y_test, rf_pred))"
   ]
  },
  {
   "cell_type": "markdown",
   "metadata": {
    "id": "O1tNVIkEj-eU",
    "slideshow": {
     "slide_type": "slide"
    }
   },
   "source": [
    "## Evaluate the RF Model with RepeatedStratifiedKFold Cross Validation"
   ]
  },
  {
   "cell_type": "code",
   "execution_count": 38,
   "metadata": {
    "colab": {
     "base_uri": "https://localhost:8080/"
    },
    "id": "2aks2CK9Nvfm",
    "outputId": "94871ef7-cf69-41b3-efa1-1006e07c5db3",
    "slideshow": {
     "slide_type": "slide"
    }
   },
   "outputs": [
    {
     "name": "stdout",
     "output_type": "stream",
     "text": [
      "0.6755263157894736\n"
     ]
    }
   ],
   "source": [
    "from sklearn.model_selection import RepeatedStratifiedKFold\n",
    "from sklearn.model_selection import cross_val_score\n",
    "#Define method to evaluate model\n",
    "cv = RepeatedStratifiedKFold(n_splits=10, n_repeats=3, random_state=1)\n",
    "\n",
    "#evaluate model\n",
    "scores = cross_val_score(rf, X_train_selected, y_train, scoring='accuracy', cv=cv, n_jobs=-1)\n",
    "print(np.mean(scores))  "
   ]
  },
  {
   "cell_type": "code",
   "execution_count": 39,
   "metadata": {
    "colab": {
     "base_uri": "https://localhost:8080/"
    },
    "id": "CZGddrHct8-0",
    "outputId": "83ecb80a-f8f8-4e63-b2cd-b2cf0533e7bf",
    "slideshow": {
     "slide_type": "slide"
    }
   },
   "outputs": [
    {
     "data": {
      "text/plain": [
       "{'bootstrap': True,\n",
       " 'ccp_alpha': 0.0,\n",
       " 'class_weight': None,\n",
       " 'criterion': 'gini',\n",
       " 'max_depth': None,\n",
       " 'max_features': 'auto',\n",
       " 'max_leaf_nodes': None,\n",
       " 'max_samples': None,\n",
       " 'min_impurity_decrease': 0.0,\n",
       " 'min_impurity_split': None,\n",
       " 'min_samples_leaf': 1,\n",
       " 'min_samples_split': 2,\n",
       " 'min_weight_fraction_leaf': 0.0,\n",
       " 'n_estimators': 100,\n",
       " 'n_jobs': None,\n",
       " 'oob_score': False,\n",
       " 'random_state': None,\n",
       " 'verbose': 0,\n",
       " 'warm_start': False}"
      ]
     },
     "execution_count": 39,
     "metadata": {
      "tags": []
     },
     "output_type": "execute_result"
    }
   ],
   "source": [
    "rf.get_params()"
   ]
  },
  {
   "cell_type": "markdown",
   "metadata": {
    "id": "yK_VoyWlkM4E",
    "slideshow": {
     "slide_type": "slide"
    }
   },
   "source": [
    "## Tune the RF Model with GridSearchCV"
   ]
  },
  {
   "cell_type": "code",
   "execution_count": 40,
   "metadata": {
    "colab": {
     "base_uri": "https://localhost:8080/"
    },
    "id": "TL3o0cogM9Ug",
    "outputId": "ed8b03de-4db1-4573-bdc3-66fe465c7d12",
    "slideshow": {
     "slide_type": "slide"
    }
   },
   "outputs": [
    {
     "name": "stdout",
     "output_type": "stream",
     "text": [
      "Mean Accuracy: 0.697\n",
      "The best parameters of the random forest model: {'bootstrap': False, 'criterion': 'entropy', 'max_leaf_nodes': None, 'n_estimators': 100}\n"
     ]
    },
    {
     "name": "stderr",
     "output_type": "stream",
     "text": [
      "/usr/local/lib/python3.7/dist-packages/sklearn/model_selection/_search.py:739: DataConversionWarning: A column-vector y was passed when a 1d array was expected. Please change the shape of y to (n_samples,), for example using ravel().\n",
      "  self.best_estimator_.fit(X, y, **fit_params)\n"
     ]
    }
   ],
   "source": [
    "from sklearn.model_selection import GridSearchCV\n",
    "RandomForestClassifier()\n",
    "# define grid\n",
    "grid = {'n_estimators': [100, 200], 'criterion': ['gini', 'entropy'], 'max_leaf_nodes': [int, None], 'bootstrap': [True, False] }\n",
    "\n",
    "# define search\n",
    "search = GridSearchCV(rf, grid, scoring='accuracy', cv=cv, n_jobs=-1)\n",
    "\n",
    "# fit the search\n",
    "rf_results = search.fit(X_train_selected, y_train)\n",
    "\n",
    "# summarize\n"
   ]
  },
  {
   "cell_type": "code",
   "execution_count": 41,
   "metadata": {
    "colab": {
     "base_uri": "https://localhost:8080/"
    },
    "id": "3qjlvOZYM9WS",
    "outputId": "4c1af8dc-2c9e-4a5c-d3cb-dc32b46a6bf3"
   },
   "outputs": [
    {
     "name": "stdout",
     "output_type": "stream",
     "text": [
      "The best estimator of the random forest model:  RandomForestClassifier(bootstrap=False, ccp_alpha=0.0, class_weight=None,\n",
      "                       criterion='entropy', max_depth=None, max_features='auto',\n",
      "                       max_leaf_nodes=None, max_samples=None,\n",
      "                       min_impurity_decrease=0.0, min_impurity_split=None,\n",
      "                       min_samples_leaf=1, min_samples_split=2,\n",
      "                       min_weight_fraction_leaf=0.0, n_estimators=100,\n",
      "                       n_jobs=None, oob_score=False, random_state=None,\n",
      "                       verbose=0, warm_start=False)\n",
      "\n",
      "----------------------------------------------------------------------------------------------------\n",
      "The best index of the random forest model:  14\n",
      "\n",
      "----------------------------------------------------------------------------------------------------\n",
      "The best parameter of the random forest model:  {'bootstrap': False, 'criterion': 'entropy', 'max_leaf_nodes': None, 'n_estimators': 100}\n",
      "\n",
      "----------------------------------------------------------------------------------------------------\n",
      "The best score of the random forest model:  0.6973684210526315\n"
     ]
    }
   ],
   "source": [
    "print('The best estimator of the random forest model: ', rf_results.best_estimator_)\n",
    "print()\n",
    "print('-'*100)\n",
    "print('The best index of the random forest model: ', rf_results.best_index_)\n",
    "print()\n",
    "print('-'*100)\n",
    "print('The best parameter of the random forest model: ', rf_results.best_params_)\n",
    "print()\n",
    "print('-'*100)\n",
    "print('The best score of the random forest model: ', rf_results.best_score_)\n"
   ]
  },
  {
   "cell_type": "markdown",
   "metadata": {
    "id": "l2GzAckaw8cG",
    "slideshow": {
     "slide_type": "slide"
    }
   },
   "source": [
    "## Decision Tree Model"
   ]
  },
  {
   "cell_type": "code",
   "execution_count": 42,
   "metadata": {
    "id": "zkTboc2cw7U2",
    "slideshow": {
     "slide_type": "slide"
    }
   },
   "outputs": [],
   "source": [
    "from sklearn.tree import DecisionTreeClassifier\n",
    "\n",
    "dt = DecisionTreeClassifier()\n",
    "dt.fit(X_train_selected, y_train)\n",
    "dt_pred = dt.predict(X_test_selected)"
   ]
  },
  {
   "cell_type": "code",
   "execution_count": 43,
   "metadata": {
    "colab": {
     "base_uri": "https://localhost:8080/",
     "height": 299
    },
    "id": "zDR6IyB-xZFd",
    "outputId": "77f8ef36-3d3a-46f2-d1de-a7701fe04480",
    "slideshow": {
     "slide_type": "slide"
    }
   },
   "outputs": [
    {
     "data": {
      "text/plain": [
       "<sklearn.metrics._plot.confusion_matrix.ConfusionMatrixDisplay at 0x7f9c49c97950>"
      ]
     },
     "execution_count": 43,
     "metadata": {
      "tags": []
     },
     "output_type": "execute_result"
    },
    {
     "data": {
      "image/png": "[encoded data removed]",
      "text/plain": [
       "<Figure size 432x288 with 2 Axes>"
      ]
     },
     "metadata": {
      "tags": []
     },
     "output_type": "display_data"
    }
   ],
   "source": [
    "plot_confusion_matrix(dt, X_test_selected, y_test)"
   ]
  },
  {
   "cell_type": "code",
   "execution_count": 44,
   "metadata": {
    "colab": {
     "base_uri": "https://localhost:8080/"
    },
    "id": "PZ67bjHVxkRw",
    "outputId": "9cc62002-ecd5-482d-dfe4-1fb6aff5b49a"
   },
   "outputs": [
    {
     "name": "stdout",
     "output_type": "stream",
     "text": [
      "              precision    recall  f1-score   support\n",
      "\n",
      "           0       0.75      0.88      0.81        60\n",
      "           1       0.53      0.31      0.39        26\n",
      "\n",
      "    accuracy                           0.71        86\n",
      "   macro avg       0.64      0.60      0.60        86\n",
      "weighted avg       0.68      0.71      0.68        86\n",
      "\n"
     ]
    }
   ],
   "source": [
    "print(classification_report(y_test, dt_pred))"
   ]
  },
  {
   "cell_type": "code",
   "execution_count": 45,
   "metadata": {
    "colab": {
     "base_uri": "https://localhost:8080/"
    },
    "id": "fuoX0bFZydBL",
    "outputId": "94fef200-8b99-49f0-9eb8-21cc615d3dbe",
    "slideshow": {
     "slide_type": "slide"
    }
   },
   "outputs": [
    {
     "name": "stdout",
     "output_type": "stream",
     "text": [
      "0.6789473684210525\n"
     ]
    }
   ],
   "source": [
    "\n",
    "#Define method to evaluate model\n",
    "cv = RepeatedStratifiedKFold(n_splits=10, n_repeats=3, random_state=1)\n",
    "\n",
    "#evaluate model\n",
    "scores = cross_val_score(dt, X_train_selected, y_train, scoring='accuracy', cv=cv, n_jobs=-1)\n",
    "print(np.mean(scores))  "
   ]
  },
  {
   "cell_type": "code",
   "execution_count": 46,
   "metadata": {
    "id": "bNfxJ2aGydvD",
    "slideshow": {
     "slide_type": "slide"
    }
   },
   "outputs": [],
   "source": [
    "\n",
    "# define grid\n",
    "grid = {'splitter': ['random', 'best'], 'criterion': ['gini', 'entropy'], 'max_leaf_nodes': [int, None], 'max_features': ['auto', 'sqrt', 'log2']}\n",
    "\n",
    "# define search\n",
    "search = GridSearchCV(dt, grid, scoring='accuracy', cv=cv, n_jobs=-1)\n",
    "\n",
    "# fit the search\n",
    "dt_results = search.fit(X_train_selected, y_train)\n",
    "\n"
   ]
  },
  {
   "cell_type": "code",
   "execution_count": 47,
   "metadata": {
    "colab": {
     "base_uri": "https://localhost:8080/"
    },
    "id": "yzDRHhq7z9Y1",
    "outputId": "15c0d0cf-6165-429f-e3b6-563789e119eb",
    "slideshow": {
     "slide_type": "slide"
    }
   },
   "outputs": [
    {
     "name": "stdout",
     "output_type": "stream",
     "text": [
      "The best estimator of the decision tree model:  DecisionTreeClassifier(ccp_alpha=0.0, class_weight=None, criterion='entropy',\n",
      "                       max_depth=None, max_features='log2', max_leaf_nodes=None,\n",
      "                       min_impurity_decrease=0.0, min_impurity_split=None,\n",
      "                       min_samples_leaf=1, min_samples_split=2,\n",
      "                       min_weight_fraction_leaf=0.0, presort='deprecated',\n",
      "                       random_state=None, splitter='random')\n",
      "\n",
      "----------------------------------------------------------------------------------------------------\n",
      "The best index of the decision tree model:  22\n",
      "\n",
      "----------------------------------------------------------------------------------------------------\n",
      "The best parameter of the decision tree model:  {'criterion': 'entropy', 'max_features': 'log2', 'max_leaf_nodes': None, 'splitter': 'random'}\n",
      "\n",
      "----------------------------------------------------------------------------------------------------\n",
      "The best score of the decision tree model:  0.7040350877192982\n"
     ]
    }
   ],
   "source": [
    "print('The best estimator of the decision tree model: ', dt_results.best_estimator_)\n",
    "print()\n",
    "print('-'*100)\n",
    "print('The best index of the decision tree model: ', dt_results.best_index_)\n",
    "print()\n",
    "print('-'*100)\n",
    "print('The best parameter of the decision tree model: ', dt_results.best_params_)\n",
    "print()\n",
    "print('-'*100)\n",
    "print('The best score of the decision tree model: ', dt_results.best_score_)"
   ]
  },
  {
   "cell_type": "markdown",
   "metadata": {
    "id": "6GD4ZUUM-5tL"
   },
   "source": [
    "## Naive Bayes Model"
   ]
  },
  {
   "cell_type": "code",
   "execution_count": 48,
   "metadata": {
    "colab": {
     "base_uri": "https://localhost:8080/"
    },
    "id": "2bx-9XmU0IOB",
    "outputId": "9ef11d4a-0713-45b1-bee7-46056e4d5e98",
    "slideshow": {
     "slide_type": "slide"
    }
   },
   "outputs": [
    {
     "name": "stderr",
     "output_type": "stream",
     "text": [
      "/usr/local/lib/python3.7/dist-packages/sklearn/naive_bayes.py:206: DataConversionWarning: A column-vector y was passed when a 1d array was expected. Please change the shape of y to (n_samples, ), for example using ravel().\n",
      "  y = column_or_1d(y, warn=True)\n"
     ]
    }
   ],
   "source": [
    "from sklearn.naive_bayes import GaussianNB\n",
    "\n",
    "gnb = GaussianNB()\n",
    "gnb.fit(X_train_selected, y_train)\n",
    "gnb_pred = gnb.predict(X_test_selected)"
   ]
  },
  {
   "cell_type": "code",
   "execution_count": 49,
   "metadata": {
    "colab": {
     "base_uri": "https://localhost:8080/"
    },
    "id": "53omUU6G-xYj",
    "outputId": "496e1bcf-b1a0-4ad1-efbe-3bd10c3d01f8",
    "slideshow": {
     "slide_type": "slide"
    }
   },
   "outputs": [
    {
     "name": "stdout",
     "output_type": "stream",
     "text": [
      "0.7359649122807017\n"
     ]
    }
   ],
   "source": [
    "\n",
    "#Define method to evaluate model\n",
    "cv = RepeatedStratifiedKFold(n_splits=10, n_repeats=3, random_state=1)\n",
    "\n",
    "#evaluate model\n",
    "scores = cross_val_score(gnb, X_train_selected, y_train, scoring='accuracy', cv=cv, n_jobs=-1)\n",
    "print(np.mean(scores))  "
   ]
  },
  {
   "cell_type": "code",
   "execution_count": 50,
   "metadata": {
    "colab": {
     "base_uri": "https://localhost:8080/"
    },
    "id": "QduY-t0s-2Ib",
    "outputId": "ec536fb6-cbb3-4300-87c7-9d21e2105bc1"
   },
   "outputs": [
    {
     "name": "stderr",
     "output_type": "stream",
     "text": [
      "/usr/local/lib/python3.7/dist-packages/sklearn/naive_bayes.py:206: DataConversionWarning: A column-vector y was passed when a 1d array was expected. Please change the shape of y to (n_samples, ), for example using ravel().\n",
      "  y = column_or_1d(y, warn=True)\n"
     ]
    }
   ],
   "source": [
    "\n",
    "# define grid\n",
    "grid = {'priors': [None], 'var_smoothing': [1e-09]}\n",
    "\n",
    "# define search\n",
    "search = GridSearchCV(gnb, grid, scoring='accuracy', cv=cv, n_jobs=-1)\n",
    "\n",
    "# fit the search\n",
    "gnb_results = search.fit(X_train_selected, y_train)\n",
    "\n"
   ]
  },
  {
   "cell_type": "code",
   "execution_count": 51,
   "metadata": {
    "colab": {
     "base_uri": "https://localhost:8080/"
    },
    "id": "mkH0SgTzCWfv",
    "outputId": "1a467cf8-185d-4a61-f437-80d376fa9e2e",
    "slideshow": {
     "slide_type": "slide"
    }
   },
   "outputs": [
    {
     "name": "stdout",
     "output_type": "stream",
     "text": [
      "The best estimator of the naive bayes model:  GaussianNB(priors=None, var_smoothing=1e-09)\n",
      "\n",
      "----------------------------------------------------------------------------------------------------\n",
      "The best index of the naive bayes model:  0\n",
      "\n",
      "----------------------------------------------------------------------------------------------------\n",
      "The best parameter of the naive bayes model:  {'priors': None, 'var_smoothing': 1e-09}\n",
      "\n",
      "----------------------------------------------------------------------------------------------------\n",
      "The best score of the naive bayes model:  0.7359649122807017\n"
     ]
    }
   ],
   "source": [
    "print('The best estimator of the naive bayes model: ', gnb_results.best_estimator_)\n",
    "print()\n",
    "print('-'*100)\n",
    "print('The best index of the naive bayes model: ', gnb_results.best_index_)\n",
    "print()\n",
    "print('-'*100)\n",
    "print('The best parameter of the naive bayes model: ', gnb_results.best_params_)\n",
    "print()\n",
    "print('-'*100)\n",
    "print('The best score of the naive bayes model: ', gnb_results.best_score_)"
   ]
  },
  {
   "cell_type": "markdown",
   "metadata": {
    "id": "O0aeCVKDEJ8o",
    "slideshow": {
     "slide_type": "slide"
    }
   },
   "source": [
    "## K Nearest Neighbors"
   ]
  },
  {
   "cell_type": "code",
   "execution_count": 52,
   "metadata": {
    "colab": {
     "base_uri": "https://localhost:8080/"
    },
    "id": "tZgfHKms0IVp",
    "outputId": "8375425e-4e2e-4748-f483-0e6be29e5eff",
    "slideshow": {
     "slide_type": "subslide"
    }
   },
   "outputs": [
    {
     "name": "stderr",
     "output_type": "stream",
     "text": [
      "/usr/local/lib/python3.7/dist-packages/ipykernel_launcher.py:4: DataConversionWarning: A column-vector y was passed when a 1d array was expected. Please change the shape of y to (n_samples, ), for example using ravel().\n",
      "  after removing the cwd from sys.path.\n"
     ]
    }
   ],
   "source": [
    "from sklearn.neighbors import KNeighborsClassifier\n",
    "\n",
    "knn = KNeighborsClassifier()\n",
    "knn.fit(X_train_selected, y_train)\n",
    "\n",
    "knn_pred = knn.predict(X_test_selected)"
   ]
  },
  {
   "cell_type": "code",
   "execution_count": 53,
   "metadata": {
    "colab": {
     "base_uri": "https://localhost:8080/"
    },
    "id": "Suej1L2NEkK6",
    "outputId": "758b176e-8dd8-4d84-8778-d99e96037eca"
   },
   "outputs": [
    {
     "name": "stdout",
     "output_type": "stream",
     "text": [
      "0.7223684210526315\n"
     ]
    }
   ],
   "source": [
    "#Define method to evaluate model\n",
    "cv = RepeatedStratifiedKFold(n_splits=10, n_repeats=3, random_state=1)\n",
    "\n",
    "#evaluate model\n",
    "scores = cross_val_score(knn, X_train_selected, y_train, scoring='accuracy', cv=cv, n_jobs=-1)\n",
    "print(np.mean(scores))  \n",
    "\n"
   ]
  },
  {
   "cell_type": "code",
   "execution_count": 54,
   "metadata": {
    "colab": {
     "base_uri": "https://localhost:8080/"
    },
    "id": "6llU1YRcEo4j",
    "outputId": "431c8b45-dab9-4430-ea8e-f96eccbc2bd6"
   },
   "outputs": [
    {
     "name": "stderr",
     "output_type": "stream",
     "text": [
      "/usr/local/lib/python3.7/dist-packages/sklearn/model_selection/_search.py:739: DataConversionWarning: A column-vector y was passed when a 1d array was expected. Please change the shape of y to (n_samples, ), for example using ravel().\n",
      "  self.best_estimator_.fit(X, y, **fit_params)\n"
     ]
    }
   ],
   "source": [
    "# define grid\n",
    "grid = {'algorithm': ['auto', 'ball_tree', 'kd_tree', 'brute'], 'leaf_size': [30, 40, 50], 'n_neighbors': [5, 10, 15], 'weights': ['uniform', 'distance']}\n",
    "\n",
    "# define search\n",
    "search = GridSearchCV(knn, grid, scoring='accuracy', cv=cv, n_jobs=-1)\n",
    "\n",
    "# fit the search\n",
    "knn_results = search.fit(X_train_selected, y_train)\n",
    "\n"
   ]
  },
  {
   "cell_type": "code",
   "execution_count": 55,
   "metadata": {
    "colab": {
     "base_uri": "https://localhost:8080/"
    },
    "id": "ZWPExunaGqt2",
    "outputId": "e30100e8-93e3-42f4-ead9-d451c6c6a3bc",
    "slideshow": {
     "slide_type": "slide"
    }
   },
   "outputs": [
    {
     "name": "stdout",
     "output_type": "stream",
     "text": [
      "The best estimator of the KNN model:  KNeighborsClassifier(algorithm='auto', leaf_size=30, metric='minkowski',\n",
      "                     metric_params=None, n_jobs=None, n_neighbors=10, p=2,\n",
      "                     weights='uniform')\n",
      "\n",
      "----------------------------------------------------------------------------------------------------\n",
      "The best index of the KNN model:  2\n",
      "\n",
      "----------------------------------------------------------------------------------------------------\n",
      "The best parameter of the KNN model:  {'algorithm': 'auto', 'leaf_size': 30, 'n_neighbors': 10, 'weights': 'uniform'}\n",
      "\n",
      "----------------------------------------------------------------------------------------------------\n",
      "The best score of the KNN model:  0.7542982456140351\n"
     ]
    }
   ],
   "source": [
    "print('The best estimator of the KNN model: ', knn_results.best_estimator_)\n",
    "print()\n",
    "print('-'*100)\n",
    "print('The best index of the KNN model: ', knn_results.best_index_)\n",
    "print()\n",
    "print('-'*100)\n",
    "print('The best parameter of the KNN model: ', knn_results.best_params_)\n",
    "print()\n",
    "print('-'*100)\n",
    "print('The best score of the KNN model: ', knn_results.best_score_)"
   ]
  },
  {
   "cell_type": "markdown",
   "metadata": {
    "id": "EcMUGiXVNOi6",
    "slideshow": {
     "slide_type": "slide"
    }
   },
   "source": [
    "## Linear Discriminant Analysis"
   ]
  },
  {
   "cell_type": "code",
   "execution_count": 56,
   "metadata": {
    "colab": {
     "base_uri": "https://localhost:8080/"
    },
    "id": "Pb0A_9LlI-jA",
    "outputId": "be96a22f-0c8e-44e8-b386-bd36a923bd88",
    "slideshow": {
     "slide_type": "subslide"
    }
   },
   "outputs": [
    {
     "name": "stderr",
     "output_type": "stream",
     "text": [
      "/usr/local/lib/python3.7/dist-packages/sklearn/utils/validation.py:760: DataConversionWarning: A column-vector y was passed when a 1d array was expected. Please change the shape of y to (n_samples, ), for example using ravel().\n",
      "  y = column_or_1d(y, warn=True)\n"
     ]
    }
   ],
   "source": [
    "from sklearn.discriminant_analysis import LinearDiscriminantAnalysis as LDA\n",
    "\n",
    "lda = LDA()\n",
    "lda.fit(X_train_selected, y_train)\n",
    "\n",
    "lda_pred = lda.predict(X_test_selected)"
   ]
  },
  {
   "cell_type": "code",
   "execution_count": 57,
   "metadata": {
    "colab": {
     "base_uri": "https://localhost:8080/"
    },
    "id": "2pcW6PPeNsix",
    "outputId": "c400f07c-c962-472f-e97a-7e0e3403b2c4",
    "slideshow": {
     "slide_type": "slide"
    }
   },
   "outputs": [
    {
     "name": "stdout",
     "output_type": "stream",
     "text": [
      "0.707280701754386\n"
     ]
    }
   ],
   "source": [
    "#Define method to evaluate model\n",
    "cv = RepeatedStratifiedKFold(n_splits=10, n_repeats=3, random_state=1)\n",
    "\n",
    "#evaluate model\n",
    "scores = cross_val_score(lda, X_train_selected, y_train, scoring='accuracy', cv=cv, n_jobs=-1)\n",
    "print(np.mean(scores))  \n",
    "\n"
   ]
  },
  {
   "cell_type": "code",
   "execution_count": 58,
   "metadata": {
    "colab": {
     "base_uri": "https://localhost:8080/"
    },
    "id": "7lbFIlJDNtZ9",
    "outputId": "bcd9d076-24b1-4099-c8b0-294f97e65001",
    "slideshow": {
     "slide_type": "slide"
    }
   },
   "outputs": [
    {
     "name": "stderr",
     "output_type": "stream",
     "text": [
      "/usr/local/lib/python3.7/dist-packages/sklearn/utils/validation.py:760: DataConversionWarning: A column-vector y was passed when a 1d array was expected. Please change the shape of y to (n_samples, ), for example using ravel().\n",
      "  y = column_or_1d(y, warn=True)\n"
     ]
    }
   ],
   "source": [
    "# define grid\n",
    "grid = {'solver': ['svd', 'lsqr', 'eigen'], 'shrinkage': np.arange(0, 1, 0.01), 'n_components': [0, 1, 2] }\n",
    "\n",
    "# define search\n",
    "search = GridSearchCV(lda, grid, scoring='accuracy', cv=cv, n_jobs=-1)\n",
    "\n",
    "# fit the search\n",
    "lda_results = search.fit(X_train_selected, y_train)\n",
    "\n"
   ]
  },
  {
   "cell_type": "code",
   "execution_count": 59,
   "metadata": {
    "colab": {
     "base_uri": "https://localhost:8080/"
    },
    "id": "5E6018DUNtex",
    "outputId": "b25b0fb5-61d2-4c3f-b19b-a2ab7e9c23bb",
    "slideshow": {
     "slide_type": "slide"
    }
   },
   "outputs": [
    {
     "name": "stdout",
     "output_type": "stream",
     "text": [
      "The best estimator of the LDA model:  LinearDiscriminantAnalysis(n_components=0, priors=None, shrinkage=0.29,\n",
      "                           solver='lsqr', store_covariance=False, tol=0.0001)\n",
      "\n",
      "----------------------------------------------------------------------------------------------------\n",
      "The best index of the LDA model:  88\n",
      "\n",
      "----------------------------------------------------------------------------------------------------\n",
      "The best parameter of the LDA model:  {'n_components': 0, 'shrinkage': 0.29, 'solver': 'lsqr'}\n",
      "\n",
      "----------------------------------------------------------------------------------------------------\n",
      "The best score of the LDA model:  0.7407894736842106\n"
     ]
    }
   ],
   "source": [
    "print('The best estimator of the LDA model: ', lda_results.best_estimator_)\n",
    "print()\n",
    "print('-'*100)\n",
    "print('The best index of the LDA model: ', lda_results.best_index_)\n",
    "print()\n",
    "print('-'*100)\n",
    "print('The best parameter of the LDA model: ', lda_results.best_params_)\n",
    "print()\n",
    "print('-'*100)\n",
    "print('The best score of the LDA model: ', lda_results.best_score_)"
   ]
  },
  {
   "cell_type": "markdown",
   "metadata": {
    "id": "aISx6AV1O82S",
    "slideshow": {
     "slide_type": "slide"
    }
   },
   "source": [
    "## Quadratic Discriminant Analysis"
   ]
  },
  {
   "cell_type": "code",
   "execution_count": null,
   "metadata": {
    "id": "IWmEvVSQNtiy"
   },
   "outputs": [],
   "source": []
  },
  {
   "cell_type": "code",
   "execution_count": 60,
   "metadata": {
    "id": "nBKoOrY4PDFr",
    "slideshow": {
     "slide_type": "subslide"
    }
   },
   "outputs": [],
   "source": [
    "from sklearn.discriminant_analysis import QuadraticDiscriminantAnalysis as QDA"
   ]
  },
  {
   "cell_type": "code",
   "execution_count": 61,
   "metadata": {
    "colab": {
     "base_uri": "https://localhost:8080/"
    },
    "id": "24TiRMczPDJn",
    "outputId": "cabbb9da-860b-43ca-bf45-e07a1b92e9f1",
    "slideshow": {
     "slide_type": "subslide"
    }
   },
   "outputs": [
    {
     "name": "stderr",
     "output_type": "stream",
     "text": [
      "/usr/local/lib/python3.7/dist-packages/sklearn/utils/validation.py:760: DataConversionWarning: A column-vector y was passed when a 1d array was expected. Please change the shape of y to (n_samples, ), for example using ravel().\n",
      "  y = column_or_1d(y, warn=True)\n",
      "/usr/local/lib/python3.7/dist-packages/sklearn/discriminant_analysis.py:691: UserWarning: Variables are collinear\n",
      "  warnings.warn(\"Variables are collinear\")\n"
     ]
    }
   ],
   "source": [
    "qda = QDA()\n",
    "qda.fit(X_train_selected, y_train)\n",
    "qda_pred = qda.predict(X_test_selected)"
   ]
  },
  {
   "cell_type": "code",
   "execution_count": 62,
   "metadata": {
    "colab": {
     "base_uri": "https://localhost:8080/"
    },
    "id": "LNKmbATWPDN2",
    "outputId": "3c93fc4a-ec5e-4766-972d-fa2402cbe053",
    "slideshow": {
     "slide_type": "slide"
    }
   },
   "outputs": [
    {
     "name": "stdout",
     "output_type": "stream",
     "text": [
      "0.6162280701754386\n"
     ]
    }
   ],
   "source": [
    "cv = RepeatedStratifiedKFold(n_splits=10, n_repeats=3, random_state=1)\n",
    "\n",
    "#evaluate model\n",
    "scores = cross_val_score(qda, X_train_selected, y_train, scoring='accuracy', cv=cv, n_jobs=-1)\n",
    "print(np.mean(scores))  "
   ]
  },
  {
   "cell_type": "code",
   "execution_count": 63,
   "metadata": {
    "colab": {
     "base_uri": "https://localhost:8080/"
    },
    "id": "mbnW7IyxdIwG",
    "outputId": "743afdae-78f4-4bb5-b8c5-83d8f1664361",
    "slideshow": {
     "slide_type": "slide"
    }
   },
   "outputs": [
    {
     "name": "stderr",
     "output_type": "stream",
     "text": [
      "/usr/local/lib/python3.7/dist-packages/sklearn/utils/validation.py:760: DataConversionWarning: A column-vector y was passed when a 1d array was expected. Please change the shape of y to (n_samples, ), for example using ravel().\n",
      "  y = column_or_1d(y, warn=True)\n",
      "/usr/local/lib/python3.7/dist-packages/sklearn/discriminant_analysis.py:691: UserWarning: Variables are collinear\n",
      "  warnings.warn(\"Variables are collinear\")\n"
     ]
    }
   ],
   "source": [
    "grid = {\n",
    "    'reg_param': (0.00001, 0.0001, 0.001,0.01, 0.1), \n",
    "    'store_covariance': (True, False),\n",
    "    'tol': (0.0001, 0.001,0.01, 0.1), \n",
    "                   }\n",
    "# define search\n",
    "qda_search = GridSearchCV(qda, grid, scoring='accuracy', cv=cv, n_jobs=-1)\n",
    "\n",
    "# fit the search\n",
    "qda_results = qda_search.fit(X_train, y_train)\n",
    "\n"
   ]
  },
  {
   "cell_type": "code",
   "execution_count": 64,
   "metadata": {
    "colab": {
     "base_uri": "https://localhost:8080/"
    },
    "id": "Mwu7k6lLPDSU",
    "outputId": "db291c35-64d7-4a82-ee5a-6646eef4de94",
    "slideshow": {
     "slide_type": "slide"
    }
   },
   "outputs": [
    {
     "name": "stdout",
     "output_type": "stream",
     "text": [
      "The best estimator of the model:  QuadraticDiscriminantAnalysis(priors=None, reg_param=0.01,\n",
      "                              store_covariance=True, tol=0.0001)\n",
      "\n",
      "----------------------------------------------------------------------------------------------------\n",
      "The best index of the model:  24\n",
      "\n",
      "----------------------------------------------------------------------------------------------------\n",
      "The best parameter of the model:  {'reg_param': 0.01, 'store_covariance': True, 'tol': 0.0001}\n",
      "\n",
      "----------------------------------------------------------------------------------------------------\n",
      "The best score of the model:  0.7471052631578947\n"
     ]
    }
   ],
   "source": [
    "print('The best estimator of the model: ', qda_results.best_estimator_)\n",
    "print()\n",
    "print('-'*100)\n",
    "print('The best index of the model: ', qda_results.best_index_)\n",
    "print()\n",
    "print('-'*100)\n",
    "print('The best parameter of the model: ', qda_results.best_params_)\n",
    "print()\n",
    "print('-'*100)\n",
    "print('The best score of the model: ', qda_results.best_score_)\n"
   ]
  },
  {
   "cell_type": "markdown",
   "metadata": {
    "id": "bNrLuMRGP9iy"
   },
   "source": [
    "## Compare Models"
   ]
  },
  {
   "cell_type": "code",
   "execution_count": 65,
   "metadata": {
    "colab": {
     "base_uri": "https://localhost:8080/",
     "height": 266
    },
    "id": "fmj5rN3PaIg8",
    "outputId": "66dad5dc-bb29-427b-dc16-25e6ce1bc8c8",
    "slideshow": {
     "slide_type": "slide"
    }
   },
   "outputs": [
    {
     "data": {
      "text/html": [
       "<div>\n",
       "<style scoped>\n",
       "    .dataframe tbody tr th:only-of-type {\n",
       "        vertical-align: middle;\n",
       "    }\n",
       "\n",
       "    .dataframe tbody tr th {\n",
       "        vertical-align: top;\n",
       "    }\n",
       "\n",
       "    .dataframe thead th {\n",
       "        text-align: right;\n",
       "    }\n",
       "</style>\n",
       "<table border=\"1\" class=\"dataframe\">\n",
       "  <thead>\n",
       "    <tr style=\"text-align: right;\">\n",
       "      <th></th>\n",
       "      <th>model</th>\n",
       "      <th>best_scores</th>\n",
       "    </tr>\n",
       "  </thead>\n",
       "  <tbody>\n",
       "    <tr>\n",
       "      <th>0</th>\n",
       "      <td>Logistic Regression</td>\n",
       "      <td>0.715877</td>\n",
       "    </tr>\n",
       "    <tr>\n",
       "      <th>1</th>\n",
       "      <td>Random Forest</td>\n",
       "      <td>0.697368</td>\n",
       "    </tr>\n",
       "    <tr>\n",
       "      <th>2</th>\n",
       "      <td>Decision Tree</td>\n",
       "      <td>0.704035</td>\n",
       "    </tr>\n",
       "    <tr>\n",
       "      <th>3</th>\n",
       "      <td>Gaussian Naive Bayes</td>\n",
       "      <td>0.735965</td>\n",
       "    </tr>\n",
       "    <tr>\n",
       "      <th>4</th>\n",
       "      <td>K Nearest Neighbors</td>\n",
       "      <td>0.754298</td>\n",
       "    </tr>\n",
       "    <tr>\n",
       "      <th>5</th>\n",
       "      <td>Linear Discriminant Analysis</td>\n",
       "      <td>0.740789</td>\n",
       "    </tr>\n",
       "    <tr>\n",
       "      <th>6</th>\n",
       "      <td>Quadratic Discriminant Analysis</td>\n",
       "      <td>0.747105</td>\n",
       "    </tr>\n",
       "  </tbody>\n",
       "</table>\n",
       "</div>"
      ],
      "text/plain": [
       "                             model  best_scores\n",
       "0              Logistic Regression     0.715877\n",
       "1                    Random Forest     0.697368\n",
       "2                    Decision Tree     0.704035\n",
       "3             Gaussian Naive Bayes     0.735965\n",
       "4              K Nearest Neighbors     0.754298\n",
       "5     Linear Discriminant Analysis     0.740789\n",
       "6  Quadratic Discriminant Analysis     0.747105"
      ]
     },
     "execution_count": 65,
     "metadata": {
      "tags": []
     },
     "output_type": "execute_result"
    }
   ],
   "source": [
    "models = {'model': ['Logistic Regression', 'Random Forest', 'Decision Tree', 'Gaussian Naive Bayes', 'K Nearest Neighbors', 'Linear Discriminant Analysis', 'Quadratic Discriminant Analysis'],\n",
    "          'best_scores': [lr_results.best_score_, rf_results.best_score_, dt_results.best_score_, gnb_results.best_score_, knn_results.best_score_, lda_results.best_score_, qda_results.best_score_]}\n",
    "\n",
    "compare_models = pd.DataFrame(models)\n",
    "compare_models"
   ]
  },
  {
   "cell_type": "code",
   "execution_count": 66,
   "metadata": {
    "colab": {
     "base_uri": "https://localhost:8080/",
     "height": 266
    },
    "id": "K-9UDvEUeZuC",
    "outputId": "056faca5-6353-4595-ad98-b10d739d6262"
   },
   "outputs": [
    {
     "data": {
      "text/html": [
       "<div>\n",
       "<style scoped>\n",
       "    .dataframe tbody tr th:only-of-type {\n",
       "        vertical-align: middle;\n",
       "    }\n",
       "\n",
       "    .dataframe tbody tr th {\n",
       "        vertical-align: top;\n",
       "    }\n",
       "\n",
       "    .dataframe thead th {\n",
       "        text-align: right;\n",
       "    }\n",
       "</style>\n",
       "<table border=\"1\" class=\"dataframe\">\n",
       "  <thead>\n",
       "    <tr style=\"text-align: right;\">\n",
       "      <th></th>\n",
       "      <th>model</th>\n",
       "      <th>best_scores</th>\n",
       "    </tr>\n",
       "  </thead>\n",
       "  <tbody>\n",
       "    <tr>\n",
       "      <th>4</th>\n",
       "      <td>K Nearest Neighbors</td>\n",
       "      <td>0.754298</td>\n",
       "    </tr>\n",
       "    <tr>\n",
       "      <th>6</th>\n",
       "      <td>Quadratic Discriminant Analysis</td>\n",
       "      <td>0.747105</td>\n",
       "    </tr>\n",
       "    <tr>\n",
       "      <th>5</th>\n",
       "      <td>Linear Discriminant Analysis</td>\n",
       "      <td>0.740789</td>\n",
       "    </tr>\n",
       "    <tr>\n",
       "      <th>3</th>\n",
       "      <td>Gaussian Naive Bayes</td>\n",
       "      <td>0.735965</td>\n",
       "    </tr>\n",
       "    <tr>\n",
       "      <th>0</th>\n",
       "      <td>Logistic Regression</td>\n",
       "      <td>0.715877</td>\n",
       "    </tr>\n",
       "    <tr>\n",
       "      <th>2</th>\n",
       "      <td>Decision Tree</td>\n",
       "      <td>0.704035</td>\n",
       "    </tr>\n",
       "    <tr>\n",
       "      <th>1</th>\n",
       "      <td>Random Forest</td>\n",
       "      <td>0.697368</td>\n",
       "    </tr>\n",
       "  </tbody>\n",
       "</table>\n",
       "</div>"
      ],
      "text/plain": [
       "                             model  best_scores\n",
       "4              K Nearest Neighbors     0.754298\n",
       "6  Quadratic Discriminant Analysis     0.747105\n",
       "5     Linear Discriminant Analysis     0.740789\n",
       "3             Gaussian Naive Bayes     0.735965\n",
       "0              Logistic Regression     0.715877\n",
       "2                    Decision Tree     0.704035\n",
       "1                    Random Forest     0.697368"
      ]
     },
     "execution_count": 66,
     "metadata": {
      "tags": []
     },
     "output_type": "execute_result"
    }
   ],
   "source": [
    "compare_models.sort_values('best_scores', ascending=False)"
   ]
  },
  {
   "cell_type": "markdown",
   "metadata": {
    "id": "OQ--lJAZf3Y1"
   },
   "source": [
    "## Artificial Neural Network Model Using Keras"
   ]
  },
  {
   "cell_type": "code",
   "execution_count": null,
   "metadata": {
    "id": "EJl-YKZyf07G"
   },
   "outputs": [],
   "source": [
    "import keras\n",
    "from keras.models import Sequential\n",
    "from keras.layers import Dense\n",
    "from keras.losses import sparse_categorical_crossentropy\n",
    "from keras.metrics import Accuracy"
   ]
  },
  {
   "cell_type": "code",
   "execution_count": null,
   "metadata": {
    "id": "fSLTXotwmQbc"
   },
   "outputs": [],
   "source": [
    "model = Sequential(\n",
    "    [\n",
    "        keras.Input(shape=(X_train_selected.shape[1],)),\n",
    "        Dense(20, activation='relu', name='layer1'),\n",
    "        Dense(10, activation='relu', name='layer2'),\n",
    "        Dense(5, activation='relu', name='layer3'),\n",
    "        Dense(1, name='layer4')\n",
    "    ])"
   ]
  },
  {
   "cell_type": "code",
   "execution_count": null,
   "metadata": {
    "id": "-1zHEKImnFo7"
   },
   "outputs": [],
   "source": [
    "model.compile(optimizer='adam', loss='mean_squared_error', metrics='Accuracy')"
   ]
  },
  {
   "cell_type": "code",
   "execution_count": null,
   "metadata": {
    "colab": {
     "base_uri": "https://localhost:8080/"
    },
    "id": "QalX4n5qqrdK",
    "outputId": "ad47c561-a701-4e18-e765-c7682368329d"
   },
   "outputs": [
    {
     "data": {
      "text/plain": [
       "<tensorflow.python.keras.callbacks.History at 0x7f375d0d4e50>"
      ]
     },
     "execution_count": 69,
     "metadata": {
      "tags": []
     },
     "output_type": "execute_result"
    }
   ],
   "source": [
    "model.fit(X_train_selected, y_train, epochs=20, batch_size=20, verbose=0)\n"
   ]
  },
  {
   "cell_type": "code",
   "execution_count": null,
   "metadata": {
    "colab": {
     "base_uri": "https://localhost:8080/"
    },
    "id": "8DY9AVyFrOB_",
    "outputId": "572de7d3-4265-45b5-f23b-8aabb81d098b"
   },
   "outputs": [
    {
     "name": "stdout",
     "output_type": "stream",
     "text": [
      "3/3 - 0s - loss: 0.1962 - accuracy: 0.0000e+00\n"
     ]
    },
    {
     "data": {
      "text/plain": [
       "[0.1961711198091507, 0.0]"
      ]
     },
     "execution_count": 70,
     "metadata": {
      "tags": []
     },
     "output_type": "execute_result"
    }
   ],
   "source": [
    "model.evaluate(X_test_selected, y_test, verbose=2)"
   ]
  },
  {
   "cell_type": "code",
   "execution_count": null,
   "metadata": {
    "colab": {
     "base_uri": "https://localhost:8080/"
    },
    "id": "rGdvZH3hrQ8I",
    "outputId": "5c253d03-d917-4939-b07e-ea23ebe809b5"
   },
   "outputs": [
    {
     "name": "stdout",
     "output_type": "stream",
     "text": [
      "3/3 [==============================] - 0s 4ms/step\n"
     ]
    },
    {
     "data": {
      "text/plain": [
       "array([[0.18526368],\n",
       "       [0.10911795],\n",
       "       [0.43303433],\n",
       "       [0.27718818],\n",
       "       [0.50732654],\n",
       "       [0.67074513],\n",
       "       [0.27718818],\n",
       "       [0.24392019],\n",
       "       [0.8143382 ],\n",
       "       [0.18158345]], dtype=float32)"
      ]
     },
     "execution_count": 71,
     "metadata": {
      "tags": []
     },
     "output_type": "execute_result"
    }
   ],
   "source": [
    "model.predict(X_test_selected, batch_size=32, verbose=1)[:10]"
   ]
  },
  {
   "cell_type": "code",
   "execution_count": null,
   "metadata": {
    "colab": {
     "base_uri": "https://localhost:8080/"
    },
    "id": "aytZXYzN4sBE",
    "outputId": "14a97d71-b505-46b1-fcef-fe4fb8595ba8"
   },
   "outputs": [
    {
     "name": "stdout",
     "output_type": "stream",
     "text": [
      "Model: \"sequential\"\n",
      "_________________________________________________________________\n",
      "Layer (type)                 Output Shape              Param #   \n",
      "=================================================================\n",
      "layer1 (Dense)               (None, 20)                420       \n",
      "_________________________________________________________________\n",
      "layer2 (Dense)               (None, 10)                210       \n",
      "_________________________________________________________________\n",
      "layer3 (Dense)               (None, 5)                 55        \n",
      "_________________________________________________________________\n",
      "layer4 (Dense)               (None, 1)                 6         \n",
      "=================================================================\n",
      "Total params: 691\n",
      "Trainable params: 691\n",
      "Non-trainable params: 0\n",
      "_________________________________________________________________\n"
     ]
    }
   ],
   "source": [
    "model.summary()"
   ]
  },
  {
   "cell_type": "code",
   "execution_count": null,
   "metadata": {
    "id": "UQhJDDL0x12_"
   },
   "outputs": [],
   "source": [
    "def regression_model():\n",
    "    model = Sequential()\n",
    "    model.add(Dense(20, activation='relu', input_shape = (X_train_selected.shape[1],)))\n",
    "    model.add(Dense(10, activation='relu'))\n",
    "    model.add(Dense(5, activation='softmax'))\n",
    "    model.add(Dense(1))\n",
    "\n",
    "    model.compile(optimizer='adam', loss='mean_squared_error')\n",
    "    return model"
   ]
  },
  {
   "cell_type": "code",
   "execution_count": null,
   "metadata": {
    "id": "5p2tdmv5y2Ou"
   },
   "outputs": [],
   "source": [
    "model = regression_model()"
   ]
  },
  {
   "cell_type": "code",
   "execution_count": null,
   "metadata": {
    "colab": {
     "base_uri": "https://localhost:8080/"
    },
    "id": "OYl2RNHLy76H",
    "outputId": "0d0099c8-b154-4060-b2c1-dc0a93e9c36b"
   },
   "outputs": [
    {
     "name": "stdout",
     "output_type": "stream",
     "text": [
      "Epoch 1/50\n",
      "7/7 - 1s - loss: 0.6956 - val_loss: 0.6852\n",
      "Epoch 2/50\n",
      "7/7 - 0s - loss: 0.6588 - val_loss: 0.6496\n",
      "Epoch 3/50\n",
      "7/7 - 0s - loss: 0.6254 - val_loss: 0.6160\n",
      "Epoch 4/50\n",
      "7/7 - 0s - loss: 0.5911 - val_loss: 0.5812\n",
      "Epoch 5/50\n",
      "7/7 - 0s - loss: 0.5558 - val_loss: 0.5468\n",
      "Epoch 6/50\n",
      "7/7 - 0s - loss: 0.5200 - val_loss: 0.5092\n",
      "Epoch 7/50\n",
      "7/7 - 0s - loss: 0.4767 - val_loss: 0.4675\n",
      "Epoch 8/50\n",
      "7/7 - 0s - loss: 0.4275 - val_loss: 0.4194\n",
      "Epoch 9/50\n",
      "7/7 - 0s - loss: 0.3728 - val_loss: 0.3682\n",
      "Epoch 10/50\n",
      "7/7 - 0s - loss: 0.3203 - val_loss: 0.3231\n",
      "Epoch 11/50\n",
      "7/7 - 0s - loss: 0.2755 - val_loss: 0.2903\n",
      "Epoch 12/50\n",
      "7/7 - 0s - loss: 0.2504 - val_loss: 0.2667\n",
      "Epoch 13/50\n",
      "7/7 - 0s - loss: 0.2321 - val_loss: 0.2529\n",
      "Epoch 14/50\n",
      "7/7 - 0s - loss: 0.2234 - val_loss: 0.2435\n",
      "Epoch 15/50\n",
      "7/7 - 0s - loss: 0.2171 - val_loss: 0.2376\n",
      "Epoch 16/50\n",
      "7/7 - 0s - loss: 0.2135 - val_loss: 0.2334\n",
      "Epoch 17/50\n",
      "7/7 - 0s - loss: 0.2115 - val_loss: 0.2303\n",
      "Epoch 18/50\n",
      "7/7 - 0s - loss: 0.2093 - val_loss: 0.2275\n",
      "Epoch 19/50\n",
      "7/7 - 0s - loss: 0.2076 - val_loss: 0.2251\n",
      "Epoch 20/50\n",
      "7/7 - 0s - loss: 0.2068 - val_loss: 0.2235\n",
      "Epoch 21/50\n",
      "7/7 - 0s - loss: 0.2060 - val_loss: 0.2226\n",
      "Epoch 22/50\n",
      "7/7 - 0s - loss: 0.2053 - val_loss: 0.2220\n",
      "Epoch 23/50\n",
      "7/7 - 0s - loss: 0.2047 - val_loss: 0.2210\n",
      "Epoch 24/50\n",
      "7/7 - 0s - loss: 0.2040 - val_loss: 0.2203\n",
      "Epoch 25/50\n",
      "7/7 - 0s - loss: 0.2032 - val_loss: 0.2197\n",
      "Epoch 26/50\n",
      "7/7 - 0s - loss: 0.2027 - val_loss: 0.2190\n",
      "Epoch 27/50\n",
      "7/7 - 0s - loss: 0.2019 - val_loss: 0.2186\n",
      "Epoch 28/50\n",
      "7/7 - 0s - loss: 0.2012 - val_loss: 0.2181\n",
      "Epoch 29/50\n",
      "7/7 - 0s - loss: 0.2004 - val_loss: 0.2178\n",
      "Epoch 30/50\n",
      "7/7 - 0s - loss: 0.1994 - val_loss: 0.2171\n",
      "Epoch 31/50\n",
      "7/7 - 0s - loss: 0.1988 - val_loss: 0.2168\n",
      "Epoch 32/50\n",
      "7/7 - 0s - loss: 0.1979 - val_loss: 0.2162\n",
      "Epoch 33/50\n",
      "7/7 - 0s - loss: 0.1971 - val_loss: 0.2158\n",
      "Epoch 34/50\n",
      "7/7 - 0s - loss: 0.1964 - val_loss: 0.2150\n",
      "Epoch 35/50\n",
      "7/7 - 0s - loss: 0.1955 - val_loss: 0.2142\n",
      "Epoch 36/50\n",
      "7/7 - 0s - loss: 0.1948 - val_loss: 0.2136\n",
      "Epoch 37/50\n",
      "7/7 - 0s - loss: 0.1940 - val_loss: 0.2130\n",
      "Epoch 38/50\n",
      "7/7 - 0s - loss: 0.1930 - val_loss: 0.2120\n",
      "Epoch 39/50\n",
      "7/7 - 0s - loss: 0.1924 - val_loss: 0.2110\n",
      "Epoch 40/50\n",
      "7/7 - 0s - loss: 0.1917 - val_loss: 0.2104\n",
      "Epoch 41/50\n",
      "7/7 - 0s - loss: 0.1909 - val_loss: 0.2099\n",
      "Epoch 42/50\n",
      "7/7 - 0s - loss: 0.1900 - val_loss: 0.2096\n",
      "Epoch 43/50\n",
      "7/7 - 0s - loss: 0.1894 - val_loss: 0.2093\n",
      "Epoch 44/50\n",
      "7/7 - 0s - loss: 0.1888 - val_loss: 0.2090\n",
      "Epoch 45/50\n",
      "7/7 - 0s - loss: 0.1883 - val_loss: 0.2088\n",
      "Epoch 46/50\n",
      "7/7 - 0s - loss: 0.1877 - val_loss: 0.2085\n",
      "Epoch 47/50\n",
      "7/7 - 0s - loss: 0.1872 - val_loss: 0.2082\n",
      "Epoch 48/50\n",
      "7/7 - 0s - loss: 0.1866 - val_loss: 0.2079\n",
      "Epoch 49/50\n",
      "7/7 - 0s - loss: 0.1861 - val_loss: 0.2073\n",
      "Epoch 50/50\n",
      "7/7 - 0s - loss: 0.1856 - val_loss: 0.2070\n"
     ]
    },
    {
     "data": {
      "text/plain": [
       "<tensorflow.python.keras.callbacks.History at 0x7f375a928610>"
      ]
     },
     "execution_count": 75,
     "metadata": {
      "tags": []
     },
     "output_type": "execute_result"
    }
   ],
   "source": [
    "model.fit(X_train_selected, y_train, validation_data = (X_test_selected, y_test), epochs=50, verbose=2)"
   ]
  },
  {
   "cell_type": "code",
   "execution_count": null,
   "metadata": {
    "id": "qEveJgVZPcBA"
   },
   "outputs": [],
   "source": [
    "predictions = model.predict(X_test_selected)"
   ]
  },
  {
   "cell_type": "code",
   "execution_count": null,
   "metadata": {
    "colab": {
     "base_uri": "https://localhost:8080/"
    },
    "id": "HIPBpMRvQd-v",
    "outputId": "1a7dda05-0a93-469c-f2e7-1013323e8caa"
   },
   "outputs": [
    {
     "data": {
      "text/plain": [
       "(86, 1)"
      ]
     },
     "execution_count": 77,
     "metadata": {
      "tags": []
     },
     "output_type": "execute_result"
    }
   ],
   "source": [
    "predictions.shape"
   ]
  },
  {
   "cell_type": "code",
   "execution_count": null,
   "metadata": {
    "colab": {
     "base_uri": "https://localhost:8080/"
    },
    "id": "Z9n1PggdPkV-",
    "outputId": "d10afb02-1698-4812-950a-1820c0ab84af"
   },
   "outputs": [
    {
     "data": {
      "text/plain": [
       "array([[0.20979832],\n",
       "       [0.11312766],\n",
       "       [0.41476333],\n",
       "       [0.27393952],\n",
       "       [0.06392576],\n",
       "       [0.43345553],\n",
       "       [0.27393952],\n",
       "       [0.121886  ],\n",
       "       [0.41062498],\n",
       "       [0.19841614]], dtype=float32)"
      ]
     },
     "execution_count": 78,
     "metadata": {
      "tags": []
     },
     "output_type": "execute_result"
    }
   ],
   "source": [
    "predictions[0:10]"
   ]
  },
  {
   "cell_type": "code",
   "execution_count": null,
   "metadata": {
    "id": "43DxJg4aPry0"
   },
   "outputs": [],
   "source": [
    "predictions = predictions.flatten()\n"
   ]
  },
  {
   "cell_type": "code",
   "execution_count": null,
   "metadata": {
    "id": "k8M52_vgTZTP"
   },
   "outputs": [],
   "source": [
    "y1 = y_test.reset_index()"
   ]
  },
  {
   "cell_type": "code",
   "execution_count": null,
   "metadata": {
    "id": "SPG5wLAZUQq2"
   },
   "outputs": [],
   "source": [
    "y1 = y1.iloc[:,1]"
   ]
  },
  {
   "cell_type": "code",
   "execution_count": null,
   "metadata": {
    "colab": {
     "base_uri": "https://localhost:8080/",
     "height": 415
    },
    "id": "vn5vlvdBPy49",
    "outputId": "a60a1c81-8b91-44c0-de19-82c0f322cba5"
   },
   "outputs": [
    {
     "data": {
      "text/html": [
       "<div>\n",
       "<style scoped>\n",
       "    .dataframe tbody tr th:only-of-type {\n",
       "        vertical-align: middle;\n",
       "    }\n",
       "\n",
       "    .dataframe tbody tr th {\n",
       "        vertical-align: top;\n",
       "    }\n",
       "\n",
       "    .dataframe thead th {\n",
       "        text-align: right;\n",
       "    }\n",
       "</style>\n",
       "<table border=\"1\" class=\"dataframe\">\n",
       "  <thead>\n",
       "    <tr style=\"text-align: right;\">\n",
       "      <th></th>\n",
       "      <th>Actual</th>\n",
       "      <th>Predicted</th>\n",
       "    </tr>\n",
       "  </thead>\n",
       "  <tbody>\n",
       "    <tr>\n",
       "      <th>0</th>\n",
       "      <td>0</td>\n",
       "      <td>0.209798</td>\n",
       "    </tr>\n",
       "    <tr>\n",
       "      <th>1</th>\n",
       "      <td>0</td>\n",
       "      <td>0.113128</td>\n",
       "    </tr>\n",
       "    <tr>\n",
       "      <th>2</th>\n",
       "      <td>0</td>\n",
       "      <td>0.414763</td>\n",
       "    </tr>\n",
       "    <tr>\n",
       "      <th>3</th>\n",
       "      <td>1</td>\n",
       "      <td>0.273940</td>\n",
       "    </tr>\n",
       "    <tr>\n",
       "      <th>4</th>\n",
       "      <td>1</td>\n",
       "      <td>0.063926</td>\n",
       "    </tr>\n",
       "    <tr>\n",
       "      <th>...</th>\n",
       "      <td>...</td>\n",
       "      <td>...</td>\n",
       "    </tr>\n",
       "    <tr>\n",
       "      <th>81</th>\n",
       "      <td>0</td>\n",
       "      <td>0.143971</td>\n",
       "    </tr>\n",
       "    <tr>\n",
       "      <th>82</th>\n",
       "      <td>1</td>\n",
       "      <td>0.364882</td>\n",
       "    </tr>\n",
       "    <tr>\n",
       "      <th>83</th>\n",
       "      <td>0</td>\n",
       "      <td>0.138410</td>\n",
       "    </tr>\n",
       "    <tr>\n",
       "      <th>84</th>\n",
       "      <td>1</td>\n",
       "      <td>0.433876</td>\n",
       "    </tr>\n",
       "    <tr>\n",
       "      <th>85</th>\n",
       "      <td>1</td>\n",
       "      <td>0.307074</td>\n",
       "    </tr>\n",
       "  </tbody>\n",
       "</table>\n",
       "<p>86 rows × 2 columns</p>\n",
       "</div>"
      ],
      "text/plain": [
       "    Actual  Predicted\n",
       "0        0   0.209798\n",
       "1        0   0.113128\n",
       "2        0   0.414763\n",
       "3        1   0.273940\n",
       "4        1   0.063926\n",
       "..     ...        ...\n",
       "81       0   0.143971\n",
       "82       1   0.364882\n",
       "83       0   0.138410\n",
       "84       1   0.433876\n",
       "85       1   0.307074\n",
       "\n",
       "[86 rows x 2 columns]"
      ]
     },
     "execution_count": 82,
     "metadata": {
      "tags": []
     },
     "output_type": "execute_result"
    }
   ],
   "source": [
    "preds = ({'Actual': y1, 'Predicted': predictions})\n",
    "\n",
    "pd.DataFrame(preds)"
   ]
  },
  {
   "cell_type": "code",
   "execution_count": null,
   "metadata": {
    "colab": {
     "base_uri": "https://localhost:8080/"
    },
    "id": "9fEuFV7iUx6a",
    "outputId": "9dd2c01e-0d4c-470e-ad7a-25d529a143fe"
   },
   "outputs": [
    {
     "data": {
      "text/plain": [
       "0.2069986"
      ]
     },
     "execution_count": 83,
     "metadata": {
      "tags": []
     },
     "output_type": "execute_result"
    }
   ],
   "source": [
    "mse = mean_squared_error(y_test, predictions)\n",
    "mse"
   ]
  },
  {
   "cell_type": "code",
   "execution_count": null,
   "metadata": {},
   "outputs": [],
   "source": []
  }
 ],
 "metadata": {
  "celltoolbar": "Slideshow",
  "colab": {
   "collapsed_sections": [],
   "name": "breast-cancer-prediction.ipynb",
   "provenance": [],
   "toc_visible": true
  },
  "kernelspec": {
   "display_name": "Python 3",
   "language": "python",
   "name": "python3"
  },
  "language_info": {
   "codemirror_mode": {
    "name": "ipython",
    "version": 3
   },
   "file_extension": ".py",
   "mimetype": "text/x-python",
   "name": "python",
   "nbconvert_exporter": "python",
   "pygments_lexer": "ipython3",
   "version": "3.7.9"
  },
  "varInspector": {
   "cols": {
    "lenName": 16,
    "lenType": 16,
    "lenVar": 40
   },
   "kernels_config": {
    "python": {
     "delete_cmd_postfix": "",
     "delete_cmd_prefix": "del ",
     "library": "var_list.py",
     "varRefreshCmd": "print(var_dic_list())"
    },
    "r": {
     "delete_cmd_postfix": ") ",
     "delete_cmd_prefix": "rm(",
     "library": "var_list.r",
     "varRefreshCmd": "cat(var_dic_list()) "
    }
   },
   "types_to_exclude": [
    "module",
    "function",
    "builtin_function_or_method",
    "instance",
    "_Feature"
   ],
   "window_display": false
  }
 },
 "nbformat": 4,
 "nbformat_minor": 1
}
