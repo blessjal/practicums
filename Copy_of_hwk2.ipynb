{
  "nbformat": 4,
  "nbformat_minor": 0,
  "metadata": {
    "colab": {
      "name": "Copy of hwk2.ipynb",
      "provenance": [],
      "collapsed_sections": [],
      "authorship_tag": "ABX9TyMmY/fPOEh8dFL4Zq4qbR+r",
      "include_colab_link": true
    },
    "kernelspec": {
      "name": "python3",
      "display_name": "Python 3"
    }
  },
  "cells": [
    {
      "cell_type": "markdown",
      "metadata": {
        "id": "view-in-github",
        "colab_type": "text"
      },
      "source": [
        "<a href=\"https://colab.research.google.com/github/blessjal/practicums/blob/master/Copy_of_hwk2.ipynb\" target=\"_parent\"><img src=\"https://colab.research.google.com/assets/colab-badge.svg\" alt=\"Open In Colab\"/></a>"
      ]
    },
    {
      "cell_type": "code",
      "metadata": {
        "id": "WXnujSe_2DVz"
      },
      "source": [
        "import pandas as pd\r\n",
        "import numpy as np\r\n",
        "import seaborn as sns\r\n",
        "import matplotlib.pyplot as plt\r\n",
        "from sklearn.preprocessing import StandardScaler\r\n",
        "from sklearn.model_selection import train_test_split\r\n",
        "from sklearn.linear_model import LinearRegression, LogisticRegression\r\n",
        "from sklearn.metrics import mean_squared_error, accuracy_score, confusion_matrix"
      ],
      "execution_count": 2,
      "outputs": []
    },
    {
      "cell_type": "code",
      "metadata": {
        "colab": {
          "base_uri": "https://localhost:8080/",
          "height": 360
        },
        "id": "Sq3SvZWi25K9",
        "outputId": "66141fe3-f56e-4ced-ef1c-ef89c5b87744"
      },
      "source": [
        "auto = pd.read_csv('/content/sample_data/auto-mpg.data', sep='\\s+', names=['mpg', 'cylinders', 'displacement','horsepower', 'weight', 'acceleration' , 'model year', 'origin', 'car name'])\r\n",
        "auto.head()"
      ],
      "execution_count": 8,
      "outputs": [
        {
          "output_type": "execute_result",
          "data": {
            "text/html": [
              "<div>\n",
              "<style scoped>\n",
              "    .dataframe tbody tr th:only-of-type {\n",
              "        vertical-align: middle;\n",
              "    }\n",
              "\n",
              "    .dataframe tbody tr th {\n",
              "        vertical-align: top;\n",
              "    }\n",
              "\n",
              "    .dataframe thead th {\n",
              "        text-align: right;\n",
              "    }\n",
              "</style>\n",
              "<table border=\"1\" class=\"dataframe\">\n",
              "  <thead>\n",
              "    <tr style=\"text-align: right;\">\n",
              "      <th></th>\n",
              "      <th>mpg</th>\n",
              "      <th>cylinders</th>\n",
              "      <th>displacement</th>\n",
              "      <th>horsepower</th>\n",
              "      <th>weight</th>\n",
              "      <th>acceleration</th>\n",
              "      <th>model year</th>\n",
              "      <th>origin</th>\n",
              "      <th>car name</th>\n",
              "    </tr>\n",
              "  </thead>\n",
              "  <tbody>\n",
              "    <tr>\n",
              "      <th>0</th>\n",
              "      <td>18.0</td>\n",
              "      <td>8</td>\n",
              "      <td>307.0</td>\n",
              "      <td>130.0</td>\n",
              "      <td>3504.0</td>\n",
              "      <td>12.0</td>\n",
              "      <td>70</td>\n",
              "      <td>1</td>\n",
              "      <td>chevrolet chevelle malibu</td>\n",
              "    </tr>\n",
              "    <tr>\n",
              "      <th>1</th>\n",
              "      <td>15.0</td>\n",
              "      <td>8</td>\n",
              "      <td>350.0</td>\n",
              "      <td>165.0</td>\n",
              "      <td>3693.0</td>\n",
              "      <td>11.5</td>\n",
              "      <td>70</td>\n",
              "      <td>1</td>\n",
              "      <td>buick skylark 320</td>\n",
              "    </tr>\n",
              "    <tr>\n",
              "      <th>2</th>\n",
              "      <td>18.0</td>\n",
              "      <td>8</td>\n",
              "      <td>318.0</td>\n",
              "      <td>150.0</td>\n",
              "      <td>3436.0</td>\n",
              "      <td>11.0</td>\n",
              "      <td>70</td>\n",
              "      <td>1</td>\n",
              "      <td>plymouth satellite</td>\n",
              "    </tr>\n",
              "    <tr>\n",
              "      <th>3</th>\n",
              "      <td>16.0</td>\n",
              "      <td>8</td>\n",
              "      <td>304.0</td>\n",
              "      <td>150.0</td>\n",
              "      <td>3433.0</td>\n",
              "      <td>12.0</td>\n",
              "      <td>70</td>\n",
              "      <td>1</td>\n",
              "      <td>amc rebel sst</td>\n",
              "    </tr>\n",
              "    <tr>\n",
              "      <th>4</th>\n",
              "      <td>17.0</td>\n",
              "      <td>8</td>\n",
              "      <td>302.0</td>\n",
              "      <td>140.0</td>\n",
              "      <td>3449.0</td>\n",
              "      <td>10.5</td>\n",
              "      <td>70</td>\n",
              "      <td>1</td>\n",
              "      <td>ford torino</td>\n",
              "    </tr>\n",
              "  </tbody>\n",
              "</table>\n",
              "</div>"
            ],
            "text/plain": [
              "    mpg  cylinders  displacement  ... model year  origin                   car name\n",
              "0  18.0          8         307.0  ...         70       1  chevrolet chevelle malibu\n",
              "1  15.0          8         350.0  ...         70       1          buick skylark 320\n",
              "2  18.0          8         318.0  ...         70       1         plymouth satellite\n",
              "3  16.0          8         304.0  ...         70       1              amc rebel sst\n",
              "4  17.0          8         302.0  ...         70       1                ford torino\n",
              "\n",
              "[5 rows x 9 columns]"
            ]
          },
          "metadata": {
            "tags": []
          },
          "execution_count": 8
        }
      ]
    },
    {
      "cell_type": "code",
      "metadata": {
        "colab": {
          "base_uri": "https://localhost:8080/"
        },
        "id": "u86tqycW3DRD",
        "outputId": "f2f55efe-ff96-435b-8148-e773a98c5485"
      },
      "source": [
        "auto.shape"
      ],
      "execution_count": 9,
      "outputs": [
        {
          "output_type": "execute_result",
          "data": {
            "text/plain": [
              "(398, 9)"
            ]
          },
          "metadata": {
            "tags": []
          },
          "execution_count": 9
        }
      ]
    },
    {
      "cell_type": "markdown",
      "metadata": {
        "id": "k9De_vocEllV"
      },
      "source": [
        "**1(a) Create a binary variable, mpg01, that contains a 1 if mpg contains a value above its median and a 0 if mpg contains a value below its medi**an"
      ]
    },
    {
      "cell_type": "code",
      "metadata": {
        "id": "gHValDJE4Vl4"
      },
      "source": [
        "mpg_med = auto.mpg.median()\r\n",
        "auto['mpg01'] = np.where(auto.mpg > mpg_med, 1, 0)"
      ],
      "execution_count": 10,
      "outputs": []
    },
    {
      "cell_type": "code",
      "metadata": {
        "colab": {
          "base_uri": "https://localhost:8080/",
          "height": 360
        },
        "id": "TWMu313H4nby",
        "outputId": "cf09077c-3b07-4c01-a6d2-3fe1f5ebb216"
      },
      "source": [
        "auto.head()"
      ],
      "execution_count": 11,
      "outputs": [
        {
          "output_type": "execute_result",
          "data": {
            "text/html": [
              "<div>\n",
              "<style scoped>\n",
              "    .dataframe tbody tr th:only-of-type {\n",
              "        vertical-align: middle;\n",
              "    }\n",
              "\n",
              "    .dataframe tbody tr th {\n",
              "        vertical-align: top;\n",
              "    }\n",
              "\n",
              "    .dataframe thead th {\n",
              "        text-align: right;\n",
              "    }\n",
              "</style>\n",
              "<table border=\"1\" class=\"dataframe\">\n",
              "  <thead>\n",
              "    <tr style=\"text-align: right;\">\n",
              "      <th></th>\n",
              "      <th>mpg</th>\n",
              "      <th>cylinders</th>\n",
              "      <th>displacement</th>\n",
              "      <th>horsepower</th>\n",
              "      <th>weight</th>\n",
              "      <th>acceleration</th>\n",
              "      <th>model year</th>\n",
              "      <th>origin</th>\n",
              "      <th>car name</th>\n",
              "      <th>mpg01</th>\n",
              "    </tr>\n",
              "  </thead>\n",
              "  <tbody>\n",
              "    <tr>\n",
              "      <th>0</th>\n",
              "      <td>18.0</td>\n",
              "      <td>8</td>\n",
              "      <td>307.0</td>\n",
              "      <td>130.0</td>\n",
              "      <td>3504.0</td>\n",
              "      <td>12.0</td>\n",
              "      <td>70</td>\n",
              "      <td>1</td>\n",
              "      <td>chevrolet chevelle malibu</td>\n",
              "      <td>0</td>\n",
              "    </tr>\n",
              "    <tr>\n",
              "      <th>1</th>\n",
              "      <td>15.0</td>\n",
              "      <td>8</td>\n",
              "      <td>350.0</td>\n",
              "      <td>165.0</td>\n",
              "      <td>3693.0</td>\n",
              "      <td>11.5</td>\n",
              "      <td>70</td>\n",
              "      <td>1</td>\n",
              "      <td>buick skylark 320</td>\n",
              "      <td>0</td>\n",
              "    </tr>\n",
              "    <tr>\n",
              "      <th>2</th>\n",
              "      <td>18.0</td>\n",
              "      <td>8</td>\n",
              "      <td>318.0</td>\n",
              "      <td>150.0</td>\n",
              "      <td>3436.0</td>\n",
              "      <td>11.0</td>\n",
              "      <td>70</td>\n",
              "      <td>1</td>\n",
              "      <td>plymouth satellite</td>\n",
              "      <td>0</td>\n",
              "    </tr>\n",
              "    <tr>\n",
              "      <th>3</th>\n",
              "      <td>16.0</td>\n",
              "      <td>8</td>\n",
              "      <td>304.0</td>\n",
              "      <td>150.0</td>\n",
              "      <td>3433.0</td>\n",
              "      <td>12.0</td>\n",
              "      <td>70</td>\n",
              "      <td>1</td>\n",
              "      <td>amc rebel sst</td>\n",
              "      <td>0</td>\n",
              "    </tr>\n",
              "    <tr>\n",
              "      <th>4</th>\n",
              "      <td>17.0</td>\n",
              "      <td>8</td>\n",
              "      <td>302.0</td>\n",
              "      <td>140.0</td>\n",
              "      <td>3449.0</td>\n",
              "      <td>10.5</td>\n",
              "      <td>70</td>\n",
              "      <td>1</td>\n",
              "      <td>ford torino</td>\n",
              "      <td>0</td>\n",
              "    </tr>\n",
              "  </tbody>\n",
              "</table>\n",
              "</div>"
            ],
            "text/plain": [
              "    mpg  cylinders  displacement  ... origin                   car name  mpg01\n",
              "0  18.0          8         307.0  ...      1  chevrolet chevelle malibu      0\n",
              "1  15.0          8         350.0  ...      1          buick skylark 320      0\n",
              "2  18.0          8         318.0  ...      1         plymouth satellite      0\n",
              "3  16.0          8         304.0  ...      1              amc rebel sst      0\n",
              "4  17.0          8         302.0  ...      1                ford torino      0\n",
              "\n",
              "[5 rows x 10 columns]"
            ]
          },
          "metadata": {
            "tags": []
          },
          "execution_count": 11
        }
      ]
    },
    {
      "cell_type": "markdown",
      "metadata": {
        "id": "tVJT7bVaFJ9L"
      },
      "source": [
        "**1(b) Explore the data graphically in orderto investigate the association between mpg01 and the other features using scatterplots and boxplots. Describe your findings.**"
      ]
    },
    {
      "cell_type": "code",
      "metadata": {
        "colab": {
          "base_uri": "https://localhost:8080/",
          "height": 332
        },
        "id": "PuCOIS34FIKr",
        "outputId": "098fb67a-dbb6-40ff-fbc4-b753a684f311"
      },
      "source": [
        "auto.corr()"
      ],
      "execution_count": 17,
      "outputs": [
        {
          "output_type": "execute_result",
          "data": {
            "text/html": [
              "<div>\n",
              "<style scoped>\n",
              "    .dataframe tbody tr th:only-of-type {\n",
              "        vertical-align: middle;\n",
              "    }\n",
              "\n",
              "    .dataframe tbody tr th {\n",
              "        vertical-align: top;\n",
              "    }\n",
              "\n",
              "    .dataframe thead th {\n",
              "        text-align: right;\n",
              "    }\n",
              "</style>\n",
              "<table border=\"1\" class=\"dataframe\">\n",
              "  <thead>\n",
              "    <tr style=\"text-align: right;\">\n",
              "      <th></th>\n",
              "      <th>mpg</th>\n",
              "      <th>cylinders</th>\n",
              "      <th>displacement</th>\n",
              "      <th>weight</th>\n",
              "      <th>acceleration</th>\n",
              "      <th>model year</th>\n",
              "      <th>origin</th>\n",
              "      <th>mpg01</th>\n",
              "    </tr>\n",
              "  </thead>\n",
              "  <tbody>\n",
              "    <tr>\n",
              "      <th>mpg</th>\n",
              "      <td>1.000000</td>\n",
              "      <td>-0.775396</td>\n",
              "      <td>-0.804203</td>\n",
              "      <td>-0.831741</td>\n",
              "      <td>0.420289</td>\n",
              "      <td>0.579267</td>\n",
              "      <td>0.563450</td>\n",
              "      <td>0.837419</td>\n",
              "    </tr>\n",
              "    <tr>\n",
              "      <th>cylinders</th>\n",
              "      <td>-0.775396</td>\n",
              "      <td>1.000000</td>\n",
              "      <td>0.950721</td>\n",
              "      <td>0.896017</td>\n",
              "      <td>-0.505419</td>\n",
              "      <td>-0.348746</td>\n",
              "      <td>-0.562543</td>\n",
              "      <td>-0.736711</td>\n",
              "    </tr>\n",
              "    <tr>\n",
              "      <th>displacement</th>\n",
              "      <td>-0.804203</td>\n",
              "      <td>0.950721</td>\n",
              "      <td>1.000000</td>\n",
              "      <td>0.932824</td>\n",
              "      <td>-0.543684</td>\n",
              "      <td>-0.370164</td>\n",
              "      <td>-0.609409</td>\n",
              "      <td>-0.736608</td>\n",
              "    </tr>\n",
              "    <tr>\n",
              "      <th>weight</th>\n",
              "      <td>-0.831741</td>\n",
              "      <td>0.896017</td>\n",
              "      <td>0.932824</td>\n",
              "      <td>1.000000</td>\n",
              "      <td>-0.417457</td>\n",
              "      <td>-0.306564</td>\n",
              "      <td>-0.581024</td>\n",
              "      <td>-0.745046</td>\n",
              "    </tr>\n",
              "    <tr>\n",
              "      <th>acceleration</th>\n",
              "      <td>0.420289</td>\n",
              "      <td>-0.505419</td>\n",
              "      <td>-0.543684</td>\n",
              "      <td>-0.417457</td>\n",
              "      <td>1.000000</td>\n",
              "      <td>0.288137</td>\n",
              "      <td>0.205873</td>\n",
              "      <td>0.316618</td>\n",
              "    </tr>\n",
              "    <tr>\n",
              "      <th>model year</th>\n",
              "      <td>0.579267</td>\n",
              "      <td>-0.348746</td>\n",
              "      <td>-0.370164</td>\n",
              "      <td>-0.306564</td>\n",
              "      <td>0.288137</td>\n",
              "      <td>1.000000</td>\n",
              "      <td>0.180662</td>\n",
              "      <td>0.448150</td>\n",
              "    </tr>\n",
              "    <tr>\n",
              "      <th>origin</th>\n",
              "      <td>0.563450</td>\n",
              "      <td>-0.562543</td>\n",
              "      <td>-0.609409</td>\n",
              "      <td>-0.581024</td>\n",
              "      <td>0.205873</td>\n",
              "      <td>0.180662</td>\n",
              "      <td>1.000000</td>\n",
              "      <td>0.512200</td>\n",
              "    </tr>\n",
              "    <tr>\n",
              "      <th>mpg01</th>\n",
              "      <td>0.837419</td>\n",
              "      <td>-0.736711</td>\n",
              "      <td>-0.736608</td>\n",
              "      <td>-0.745046</td>\n",
              "      <td>0.316618</td>\n",
              "      <td>0.448150</td>\n",
              "      <td>0.512200</td>\n",
              "      <td>1.000000</td>\n",
              "    </tr>\n",
              "  </tbody>\n",
              "</table>\n",
              "</div>"
            ],
            "text/plain": [
              "                   mpg  cylinders  displacement  ...  model year    origin     mpg01\n",
              "mpg           1.000000  -0.775396     -0.804203  ...    0.579267  0.563450  0.837419\n",
              "cylinders    -0.775396   1.000000      0.950721  ...   -0.348746 -0.562543 -0.736711\n",
              "displacement -0.804203   0.950721      1.000000  ...   -0.370164 -0.609409 -0.736608\n",
              "weight       -0.831741   0.896017      0.932824  ...   -0.306564 -0.581024 -0.745046\n",
              "acceleration  0.420289  -0.505419     -0.543684  ...    0.288137  0.205873  0.316618\n",
              "model year    0.579267  -0.348746     -0.370164  ...    1.000000  0.180662  0.448150\n",
              "origin        0.563450  -0.562543     -0.609409  ...    0.180662  1.000000  0.512200\n",
              "mpg01         0.837419  -0.736711     -0.736608  ...    0.448150  0.512200  1.000000\n",
              "\n",
              "[8 rows x 8 columns]"
            ]
          },
          "metadata": {
            "tags": []
          },
          "execution_count": 17
        }
      ]
    },
    {
      "cell_type": "code",
      "metadata": {
        "id": "yRc3xkslFm-i"
      },
      "source": [
        "sns.pairplot(auto, hue='mpg01', palette='set2')"
      ],
      "execution_count": null,
      "outputs": []
    },
    {
      "cell_type": "code",
      "metadata": {
        "id": "GqOVu152-NMA"
      },
      "source": [
        "auto['horsepower'] = auto[auto['horsepower'] != '?']\r\n",
        "auto['horsepower'] = auto['horsepower'].astype('int64')"
      ],
      "execution_count": 20,
      "outputs": []
    },
    {
      "cell_type": "code",
      "metadata": {
        "colab": {
          "base_uri": "https://localhost:8080/",
          "height": 282
        },
        "id": "SaRmkTVSGTR9",
        "outputId": "39ef43da-c2b2-4041-c712-93a1fe7b1cf5"
      },
      "source": [
        "auto.plot(kind='box')"
      ],
      "execution_count": 23,
      "outputs": [
        {
          "output_type": "execute_result",
          "data": {
            "text/plain": [
              "<matplotlib.axes._subplots.AxesSubplot at 0x7f3b89260128>"
            ]
          },
          "metadata": {
            "tags": []
          },
          "execution_count": 23
        },
        {
          "output_type": "display_data",
          "data": {
            "image/png": "[encoded data removed]",
            "text/plain": [
              "<Figure size 432x288 with 1 Axes>"
            ]
          },
          "metadata": {
            "tags": [],
            "needs_background": "light"
          }
        }
      ]
    },
    {
      "cell_type": "code",
      "metadata": {
        "id": "5wMBcL2Q9SgC"
      },
      "source": [
        ""
      ],
      "execution_count": null,
      "outputs": []
    },
    {
      "cell_type": "markdown",
      "metadata": {
        "id": "WrMK0CjGHOI5"
      },
      "source": [
        "\r\n",
        "**Data Processing **"
      ]
    },
    {
      "cell_type": "markdown",
      "metadata": {
        "id": "OVbnkrnDHkGA"
      },
      "source": [
        "**1(c) Split the dat into a training set and test set**"
      ]
    },
    {
      "cell_type": "code",
      "metadata": {
        "id": "guXqXKU14puy"
      },
      "source": [
        "X = auto.drop(['mpg01', 'car name', 'origin', 'model year'], axis=1)\r\n",
        "y = auto['mpg01']"
      ],
      "execution_count": 24,
      "outputs": []
    },
    {
      "cell_type": "code",
      "metadata": {
        "colab": {
          "base_uri": "https://localhost:8080/"
        },
        "id": "dTXTEk945a5H",
        "outputId": "a4a1a7e4-3dac-40e4-de76-9f3de1378ae8"
      },
      "source": [
        "X_train, X_test, y_train, y_test = train_test_split(X, y, test_size=0.2, random_state=0)\r\n",
        "print(X_train.shape)\r\n",
        "print(X_test.shape)\r\n",
        "print(y_train.shape)\r\n",
        "print(y_test.shape)"
      ],
      "execution_count": 25,
      "outputs": [
        {
          "output_type": "stream",
          "text": [
            "(318, 6)\n",
            "(80, 6)\n",
            "(318,)\n",
            "(80,)\n"
          ],
          "name": "stdout"
        }
      ]
    },
    {
      "cell_type": "markdown",
      "metadata": {
        "id": "dkRdWVcEHxYs"
      },
      "source": [
        "**Transform data using StandardScalar()**"
      ]
    },
    {
      "cell_type": "code",
      "metadata": {
        "id": "p-1i1fv46AcU"
      },
      "source": [
        "sc = StandardScaler()\r\n",
        "X_train = sc.fit_transform(X_train)\r\n",
        "X_test = sc.fit_transform(X_test)"
      ],
      "execution_count": 26,
      "outputs": []
    },
    {
      "cell_type": "markdown",
      "metadata": {
        "id": "3_wAUdH8H_HN"
      },
      "source": [
        "**1(d) Perform a logistic regression on the training data in order to predict mpg01 using variables that seemed most associated with mpg01. Calculate the test error.**"
      ]
    },
    {
      "cell_type": "code",
      "metadata": {
        "id": "lC22idgxCaVC"
      },
      "source": [
        "lr = LogisticRegression()\r\n",
        "lr_fit = lr.fit(X_train, y_train)"
      ],
      "execution_count": 27,
      "outputs": []
    },
    {
      "cell_type": "code",
      "metadata": {
        "id": "9j24ZGPNCoES"
      },
      "source": [
        "y_pred = lr.predict(X_test)"
      ],
      "execution_count": 28,
      "outputs": []
    },
    {
      "cell_type": "code",
      "metadata": {
        "colab": {
          "base_uri": "https://localhost:8080/"
        },
        "id": "d6t4RIHGCxJy",
        "outputId": "6f032c28-c324-4f22-a1bb-b6408cc037d8"
      },
      "source": [
        "y_pred"
      ],
      "execution_count": 29,
      "outputs": [
        {
          "output_type": "execute_result",
          "data": {
            "text/plain": [
              "array([0, 1, 0, 0, 0, 1, 1, 0, 0, 0, 1, 1, 0, 1, 0, 1, 1, 1, 0, 1, 0, 1,\n",
              "       1, 0, 1, 1, 1, 1, 1, 0, 0, 1, 0, 1, 0, 1, 0, 0, 1, 0, 0, 0, 1, 1,\n",
              "       1, 1, 0, 0, 0, 1, 1, 1, 0, 1, 0, 0, 0, 0, 1, 0, 0, 1, 0, 0, 0, 0,\n",
              "       0, 0, 1, 0, 1, 0, 1, 0, 1, 1, 1, 1, 1, 0])"
            ]
          },
          "metadata": {
            "tags": []
          },
          "execution_count": 29
        }
      ]
    },
    {
      "cell_type": "code",
      "metadata": {
        "colab": {
          "base_uri": "https://localhost:8080/"
        },
        "id": "rKd6FoOaCzRC",
        "outputId": "39193b6b-295d-4dac-bd44-00d4a01cf8b3"
      },
      "source": [
        "y_test"
      ],
      "execution_count": 30,
      "outputs": [
        {
          "output_type": "execute_result",
          "data": {
            "text/plain": [
              "65     0\n",
              "132    1\n",
              "74     0\n",
              "78     0\n",
              "37     0\n",
              "      ..\n",
              "269    1\n",
              "235    1\n",
              "145    1\n",
              "196    1\n",
              "124    0\n",
              "Name: mpg01, Length: 80, dtype: int64"
            ]
          },
          "metadata": {
            "tags": []
          },
          "execution_count": 30
        }
      ]
    },
    {
      "cell_type": "code",
      "metadata": {
        "colab": {
          "base_uri": "https://localhost:8080/"
        },
        "id": "70Nv8t4XDIsC",
        "outputId": "8be6fa16-a3b8-4eab-d5db-27a3fe15c239"
      },
      "source": [
        "accuracy = accuracy_score(y_test, y_pred)\r\n",
        "print('The accuracy of the logistic regression model is: ', accuracy)"
      ],
      "execution_count": 31,
      "outputs": [
        {
          "output_type": "stream",
          "text": [
            "The accuracy of the logistic regression model is:  0.95\n"
          ],
          "name": "stdout"
        }
      ]
    },
    {
      "cell_type": "code",
      "metadata": {
        "colab": {
          "base_uri": "https://localhost:8080/"
        },
        "id": "K4vlEpDhD-5T",
        "outputId": "67b9f762-e029-4034-e8dc-df0f5a033d5c"
      },
      "source": [
        "mse = mean_squared_error(y_test, y_pred)\r\n",
        "mse"
      ],
      "execution_count": 32,
      "outputs": [
        {
          "output_type": "execute_result",
          "data": {
            "text/plain": [
              "0.05"
            ]
          },
          "metadata": {
            "tags": []
          },
          "execution_count": 32
        }
      ]
    },
    {
      "cell_type": "code",
      "metadata": {
        "colab": {
          "base_uri": "https://localhost:8080/"
        },
        "id": "pn8WxhcCI4hD",
        "outputId": "9c9c408c-5b92-4795-dda8-400f5bdac9c5"
      },
      "source": [
        "error = np.sqrt(mse)\r\n",
        "\r\n",
        "print('The error of the logistic regression model is:', error)"
      ],
      "execution_count": 33,
      "outputs": [
        {
          "output_type": "stream",
          "text": [
            "The error of the logistic regression model is: 0.22360679774997896\n"
          ],
          "name": "stdout"
        }
      ]
    },
    {
      "cell_type": "code",
      "metadata": {
        "colab": {
          "base_uri": "https://localhost:8080/"
        },
        "id": "ug1lBa9vZX2H",
        "outputId": "f34a03d9-3d8e-4352-9a10-b3dacf1badd1"
      },
      "source": [
        "cm = confusion_matrix(y_test, y_pred)\r\n",
        "cm"
      ],
      "execution_count": 34,
      "outputs": [
        {
          "output_type": "execute_result",
          "data": {
            "text/plain": [
              "array([[40,  3],\n",
              "       [ 1, 36]])"
            ]
          },
          "metadata": {
            "tags": []
          },
          "execution_count": 34
        }
      ]
    },
    {
      "cell_type": "code",
      "metadata": {
        "colab": {
          "base_uri": "https://localhost:8080/",
          "height": 300
        },
        "id": "8-QfWErhZivG",
        "outputId": "69b23724-cb21-4147-8c34-177db523b62f"
      },
      "source": [
        "from sklearn.metrics import plot_confusion_matrix, classification_report\r\n",
        "\r\n",
        "plot_confusion_matrix(lr_fit, X_test, y_test)"
      ],
      "execution_count": 35,
      "outputs": [
        {
          "output_type": "execute_result",
          "data": {
            "text/plain": [
              "<sklearn.metrics._plot.confusion_matrix.ConfusionMatrixDisplay at 0x7f3b88e1e320>"
            ]
          },
          "metadata": {
            "tags": []
          },
          "execution_count": 35
        },
        {
          "output_type": "display_data",
          "data": {
            "image/png": "[encoded data removed]",
            "text/plain": [
              "<Figure size 432x288 with 2 Axes>"
            ]
          },
          "metadata": {
            "tags": [],
            "needs_background": "light"
          }
        }
      ]
    },
    {
      "cell_type": "code",
      "metadata": {
        "colab": {
          "base_uri": "https://localhost:8080/"
        },
        "id": "UeLO4zm7dgGx",
        "outputId": "274593cb-1c26-434b-8c90-7f1cbe442e4d"
      },
      "source": [
        "print(classification_report(y_test, y_pred))"
      ],
      "execution_count": 36,
      "outputs": [
        {
          "output_type": "stream",
          "text": [
            "              precision    recall  f1-score   support\n",
            "\n",
            "           0       0.98      0.93      0.95        43\n",
            "           1       0.92      0.97      0.95        37\n",
            "\n",
            "    accuracy                           0.95        80\n",
            "   macro avg       0.95      0.95      0.95        80\n",
            "weighted avg       0.95      0.95      0.95        80\n",
            "\n"
          ],
          "name": "stdout"
        }
      ]
    },
    {
      "cell_type": "markdown",
      "metadata": {
        "id": "VMdcWmzhJryU"
      },
      "source": [
        "**1(e) Fit a support vector classifier to the data with various values of cost, in order to predict whether a car gets high or low gas mileage. Report the cross-validation error associated with differnt values of this parameter.**"
      ]
    },
    {
      "cell_type": "code",
      "metadata": {
        "colab": {
          "base_uri": "https://localhost:8080/"
        },
        "id": "smf0N8f4JLgi",
        "outputId": "c6e88048-59ab-491b-f9dc-0024bc1ee166"
      },
      "source": [
        "from sklearn import svm\r\n",
        "from sklearn.svm import SVC\r\n",
        "import random\r\n",
        "\r\n",
        "# C=1\r\n",
        "svm_model = SVC(C=1)\r\n",
        "svm_model_fit = svm_model.fit(X_train, y_train)\r\n",
        "svm_pred = svm_model.predict(X_test)\r\n",
        "svm_accuracy = accuracy_score(y_test, svm_pred)\r\n",
        "print('The accuracy of the svm model is ', svm_accuracy)"
      ],
      "execution_count": 44,
      "outputs": [
        {
          "output_type": "stream",
          "text": [
            "The accuracy of the svm model is  0.9625\n"
          ],
          "name": "stdout"
        }
      ]
    },
    {
      "cell_type": "code",
      "metadata": {
        "colab": {
          "base_uri": "https://localhost:8080/"
        },
        "id": "-4U5PGdjGRKB",
        "outputId": "fc2f68cc-3a10-4567-cafb-4872ace903c5"
      },
      "source": [
        "# C=5\r\n",
        "svm_model = SVC(C=5)\r\n",
        "svm_model_fit = svm_model.fit(X_train, y_train)\r\n",
        "svm_pred = svm_model.predict(X_test)\r\n",
        "svm_accuracy = accuracy_score(y_test, svm_pred)\r\n",
        "print('The accuracy of the svm model is ', svm_accuracy)"
      ],
      "execution_count": 43,
      "outputs": [
        {
          "output_type": "stream",
          "text": [
            "The accuracy of the svm model is  0.9875\n"
          ],
          "name": "stdout"
        }
      ]
    },
    {
      "cell_type": "code",
      "metadata": {
        "colab": {
          "base_uri": "https://localhost:8080/"
        },
        "id": "ZQJt7Y2PGY1I",
        "outputId": "10307dcb-0a08-482a-b7f4-87b9e3c91176"
      },
      "source": [
        "# C=10\r\n",
        "svm_model = SVC(C=10)\r\n",
        "svm_model_fit = svm_model.fit(X_train, y_train)\r\n",
        "svm_pred = svm_model.predict(X_test)\r\n",
        "svm_accuracy = accuracy_score(y_test, svm_pred)\r\n",
        "print('The accuracy of the svm model is ', svm_accuracy)"
      ],
      "execution_count": 42,
      "outputs": [
        {
          "output_type": "stream",
          "text": [
            "The accuracy of the svm model is  0.975\n"
          ],
          "name": "stdout"
        }
      ]
    },
    {
      "cell_type": "code",
      "metadata": {
        "colab": {
          "base_uri": "https://localhost:8080/"
        },
        "id": "w1q5hFzLGaTf",
        "outputId": "e0abab9f-6061-4878-823c-6cd90644c7b1"
      },
      "source": [
        "# C=15\r\n",
        "svm_model = SVC(C=15)\r\n",
        "svm_model_fit = svm_model.fit(X_train, y_train)\r\n",
        "svm_pred = svm_model.predict(X_test)\r\n",
        "svm_accuracy = accuracy_score(y_test, svm_pred)\r\n",
        "print('The accuracy of the svm model is ', svm_accuracy)"
      ],
      "execution_count": 41,
      "outputs": [
        {
          "output_type": "stream",
          "text": [
            "The accuracy of the svm model is  0.975\n"
          ],
          "name": "stdout"
        }
      ]
    },
    {
      "cell_type": "code",
      "metadata": {
        "colab": {
          "base_uri": "https://localhost:8080/"
        },
        "id": "IEAUbcouhajE",
        "outputId": "ce5f3efa-8ce2-4f08-9515-60907c7139c4"
      },
      "source": [
        "from sklearn.model_selection import cross_val_score\r\n",
        "\r\n",
        "cv_accuracy = cross_val_score(estimator=svm_model, X=X_train, y=y_train, cv=5)\r\n",
        "\r\n",
        "cv_accuracy"
      ],
      "execution_count": 45,
      "outputs": [
        {
          "output_type": "execute_result",
          "data": {
            "text/plain": [
              "array([0.984375  , 0.953125  , 0.984375  , 0.96825397, 0.98412698])"
            ]
          },
          "metadata": {
            "tags": []
          },
          "execution_count": 45
        }
      ]
    },
    {
      "cell_type": "code",
      "metadata": {
        "colab": {
          "base_uri": "https://localhost:8080/"
        },
        "id": "4ZbXW2Bvh3H9",
        "outputId": "aef771b8-1e27-4570-9e69-149963d6498d"
      },
      "source": [
        "print('The mean accuracy of the cross_validation is', cv_accuracy.mean())"
      ],
      "execution_count": 46,
      "outputs": [
        {
          "output_type": "stream",
          "text": [
            "The mean accuracy of the cross_validation is 0.9748511904761905\n"
          ],
          "name": "stdout"
        }
      ]
    },
    {
      "cell_type": "code",
      "metadata": {
        "colab": {
          "base_uri": "https://localhost:8080/"
        },
        "id": "0LocuwTDM6hY",
        "outputId": "d84efa3e-29f8-47b7-bdac-87379693a552"
      },
      "source": [
        "from sklearn.model_selection import GridSearchCV\r\n",
        "parameters = {'kernel': ('linear', 'rbf', 'poly', 'sigmoid'), 'C': [1, 5, 10, 15], 'degree': [1, 2, 3, 4]}\r\n",
        "svc = svm.SVC()\r\n",
        "clf = GridSearchCV(svc, parameters)\r\n",
        "clf.fit(X_train, y_train)\r\n",
        "gd_sr = GridSearchCV(estimator=svc, param_grid=parameters, scoring='accuracy', cv=5, n_jobs=-1)\r\n",
        "\r\n",
        "clf.cv_results_"
      ],
      "execution_count": 59,
      "outputs": [
        {
          "output_type": "execute_result",
          "data": {
            "text/plain": [
              "{'mean_fit_time': array([0.00185399, 0.00137153, 0.00104723, 0.00151863, 0.0010653 ,\n",
              "        0.00131593, 0.00231452, 0.00151253, 0.00097713, 0.001402  ,\n",
              "        0.00129714, 0.00158601, 0.00101209, 0.00147748, 0.00263319,\n",
              "        0.00153637, 0.00112257, 0.00132494, 0.00098281, 0.00119963,\n",
              "        0.00104852, 0.0012002 , 0.00284715, 0.00121059, 0.00105772,\n",
              "        0.0012475 , 0.00113354, 0.0011744 , 0.00102592, 0.00120316,\n",
              "        0.00346093, 0.00127592, 0.00121431, 0.00112748, 0.00110221,\n",
              "        0.00122542, 0.00117526, 0.00111337, 0.00392342, 0.00126314,\n",
              "        0.00116606, 0.0011158 , 0.00112872, 0.00118175, 0.00117254,\n",
              "        0.00111504, 0.00427909, 0.00131221, 0.00115747, 0.00116992,\n",
              "        0.00103378, 0.00113955, 0.00115547, 0.00116978, 0.00444469,\n",
              "        0.00123382, 0.00120649, 0.00118027, 0.00112543, 0.00120964,\n",
              "        0.00119147, 0.00119748, 0.0052361 , 0.00128994]),\n",
              " 'mean_score_time': array([0.00056438, 0.00050559, 0.00044279, 0.00055461, 0.00048194,\n",
              "        0.00049877, 0.0006423 , 0.00053797, 0.00040488, 0.00051761,\n",
              "        0.00050821, 0.00056429, 0.00043464, 0.00057492, 0.00061336,\n",
              "        0.00055051, 0.00043759, 0.00051227, 0.0003994 , 0.00044951,\n",
              "        0.00037975, 0.00044169, 0.0005578 , 0.00045342, 0.00040789,\n",
              "        0.00044813, 0.00043435, 0.00045443, 0.00037799, 0.00046802,\n",
              "        0.00063972, 0.00047593, 0.00042057, 0.00044918, 0.00050249,\n",
              "        0.00046325, 0.00039115, 0.00044603, 0.00074224, 0.00046625,\n",
              "        0.00038514, 0.00042973, 0.00042691, 0.00048151, 0.00038867,\n",
              "        0.0004374 , 0.00070047, 0.00048985, 0.00038209, 0.00041475,\n",
              "        0.00039215, 0.000425  , 0.0003798 , 0.00043344, 0.0007021 ,\n",
              "        0.00046587, 0.00041409, 0.00043831, 0.00045586, 0.00045004,\n",
              "        0.00041981, 0.0004642 , 0.00076852, 0.00047927]),\n",
              " 'mean_test_score': array([0.9812004 , 0.97485119, 0.97167659, 0.96855159, 0.9812004 ,\n",
              "        0.97485119, 0.7421627 , 0.96855159, 0.9812004 , 0.97485119,\n",
              "        0.92455357, 0.96855159, 0.9812004 , 0.97485119, 0.7264881 ,\n",
              "        0.96855159, 0.9843254 , 0.96860119, 0.9780754 , 0.9780754 ,\n",
              "        0.9843254 , 0.96860119, 0.7484127 , 0.9780754 , 0.9843254 ,\n",
              "        0.96860119, 0.94975198, 0.9780754 , 0.9843254 , 0.96860119,\n",
              "        0.72018849, 0.9780754 , 0.9749504 , 0.97485119, 0.9812004 ,\n",
              "        0.9718254 , 0.9749504 , 0.97485119, 0.75133929, 0.9718254 ,\n",
              "        0.9749504 , 0.97485119, 0.95292659, 0.9718254 , 0.9749504 ,\n",
              "        0.97485119, 0.7389881 , 0.9718254 , 0.9749504 , 0.97490079,\n",
              "        0.9780754 , 0.96865079, 0.9749504 , 0.97490079, 0.74503968,\n",
              "        0.96865079, 0.9749504 , 0.97490079, 0.95610119, 0.96865079,\n",
              "        0.9749504 , 0.97490079, 0.7421627 , 0.96865079]),\n",
              " 'param_C': masked_array(data=[1, 1, 1, 1, 1, 1, 1, 1, 1, 1, 1, 1, 1, 1, 1, 1, 5, 5,\n",
              "                    5, 5, 5, 5, 5, 5, 5, 5, 5, 5, 5, 5, 5, 5, 10, 10, 10,\n",
              "                    10, 10, 10, 10, 10, 10, 10, 10, 10, 10, 10, 10, 10, 15,\n",
              "                    15, 15, 15, 15, 15, 15, 15, 15, 15, 15, 15, 15, 15, 15,\n",
              "                    15],\n",
              "              mask=[False, False, False, False, False, False, False, False,\n",
              "                    False, False, False, False, False, False, False, False,\n",
              "                    False, False, False, False, False, False, False, False,\n",
              "                    False, False, False, False, False, False, False, False,\n",
              "                    False, False, False, False, False, False, False, False,\n",
              "                    False, False, False, False, False, False, False, False,\n",
              "                    False, False, False, False, False, False, False, False,\n",
              "                    False, False, False, False, False, False, False, False],\n",
              "        fill_value='?',\n",
              "             dtype=object),\n",
              " 'param_degree': masked_array(data=[1, 1, 1, 1, 2, 2, 2, 2, 3, 3, 3, 3, 4, 4, 4, 4, 1, 1,\n",
              "                    1, 1, 2, 2, 2, 2, 3, 3, 3, 3, 4, 4, 4, 4, 1, 1, 1, 1,\n",
              "                    2, 2, 2, 2, 3, 3, 3, 3, 4, 4, 4, 4, 1, 1, 1, 1, 2, 2,\n",
              "                    2, 2, 3, 3, 3, 3, 4, 4, 4, 4],\n",
              "              mask=[False, False, False, False, False, False, False, False,\n",
              "                    False, False, False, False, False, False, False, False,\n",
              "                    False, False, False, False, False, False, False, False,\n",
              "                    False, False, False, False, False, False, False, False,\n",
              "                    False, False, False, False, False, False, False, False,\n",
              "                    False, False, False, False, False, False, False, False,\n",
              "                    False, False, False, False, False, False, False, False,\n",
              "                    False, False, False, False, False, False, False, False],\n",
              "        fill_value='?',\n",
              "             dtype=object),\n",
              " 'param_kernel': masked_array(data=['linear', 'rbf', 'poly', 'sigmoid', 'linear', 'rbf',\n",
              "                    'poly', 'sigmoid', 'linear', 'rbf', 'poly', 'sigmoid',\n",
              "                    'linear', 'rbf', 'poly', 'sigmoid', 'linear', 'rbf',\n",
              "                    'poly', 'sigmoid', 'linear', 'rbf', 'poly', 'sigmoid',\n",
              "                    'linear', 'rbf', 'poly', 'sigmoid', 'linear', 'rbf',\n",
              "                    'poly', 'sigmoid', 'linear', 'rbf', 'poly', 'sigmoid',\n",
              "                    'linear', 'rbf', 'poly', 'sigmoid', 'linear', 'rbf',\n",
              "                    'poly', 'sigmoid', 'linear', 'rbf', 'poly', 'sigmoid',\n",
              "                    'linear', 'rbf', 'poly', 'sigmoid', 'linear', 'rbf',\n",
              "                    'poly', 'sigmoid', 'linear', 'rbf', 'poly', 'sigmoid',\n",
              "                    'linear', 'rbf', 'poly', 'sigmoid'],\n",
              "              mask=[False, False, False, False, False, False, False, False,\n",
              "                    False, False, False, False, False, False, False, False,\n",
              "                    False, False, False, False, False, False, False, False,\n",
              "                    False, False, False, False, False, False, False, False,\n",
              "                    False, False, False, False, False, False, False, False,\n",
              "                    False, False, False, False, False, False, False, False,\n",
              "                    False, False, False, False, False, False, False, False,\n",
              "                    False, False, False, False, False, False, False, False],\n",
              "        fill_value='?',\n",
              "             dtype=object),\n",
              " 'params': [{'C': 1, 'degree': 1, 'kernel': 'linear'},\n",
              "  {'C': 1, 'degree': 1, 'kernel': 'rbf'},\n",
              "  {'C': 1, 'degree': 1, 'kernel': 'poly'},\n",
              "  {'C': 1, 'degree': 1, 'kernel': 'sigmoid'},\n",
              "  {'C': 1, 'degree': 2, 'kernel': 'linear'},\n",
              "  {'C': 1, 'degree': 2, 'kernel': 'rbf'},\n",
              "  {'C': 1, 'degree': 2, 'kernel': 'poly'},\n",
              "  {'C': 1, 'degree': 2, 'kernel': 'sigmoid'},\n",
              "  {'C': 1, 'degree': 3, 'kernel': 'linear'},\n",
              "  {'C': 1, 'degree': 3, 'kernel': 'rbf'},\n",
              "  {'C': 1, 'degree': 3, 'kernel': 'poly'},\n",
              "  {'C': 1, 'degree': 3, 'kernel': 'sigmoid'},\n",
              "  {'C': 1, 'degree': 4, 'kernel': 'linear'},\n",
              "  {'C': 1, 'degree': 4, 'kernel': 'rbf'},\n",
              "  {'C': 1, 'degree': 4, 'kernel': 'poly'},\n",
              "  {'C': 1, 'degree': 4, 'kernel': 'sigmoid'},\n",
              "  {'C': 5, 'degree': 1, 'kernel': 'linear'},\n",
              "  {'C': 5, 'degree': 1, 'kernel': 'rbf'},\n",
              "  {'C': 5, 'degree': 1, 'kernel': 'poly'},\n",
              "  {'C': 5, 'degree': 1, 'kernel': 'sigmoid'},\n",
              "  {'C': 5, 'degree': 2, 'kernel': 'linear'},\n",
              "  {'C': 5, 'degree': 2, 'kernel': 'rbf'},\n",
              "  {'C': 5, 'degree': 2, 'kernel': 'poly'},\n",
              "  {'C': 5, 'degree': 2, 'kernel': 'sigmoid'},\n",
              "  {'C': 5, 'degree': 3, 'kernel': 'linear'},\n",
              "  {'C': 5, 'degree': 3, 'kernel': 'rbf'},\n",
              "  {'C': 5, 'degree': 3, 'kernel': 'poly'},\n",
              "  {'C': 5, 'degree': 3, 'kernel': 'sigmoid'},\n",
              "  {'C': 5, 'degree': 4, 'kernel': 'linear'},\n",
              "  {'C': 5, 'degree': 4, 'kernel': 'rbf'},\n",
              "  {'C': 5, 'degree': 4, 'kernel': 'poly'},\n",
              "  {'C': 5, 'degree': 4, 'kernel': 'sigmoid'},\n",
              "  {'C': 10, 'degree': 1, 'kernel': 'linear'},\n",
              "  {'C': 10, 'degree': 1, 'kernel': 'rbf'},\n",
              "  {'C': 10, 'degree': 1, 'kernel': 'poly'},\n",
              "  {'C': 10, 'degree': 1, 'kernel': 'sigmoid'},\n",
              "  {'C': 10, 'degree': 2, 'kernel': 'linear'},\n",
              "  {'C': 10, 'degree': 2, 'kernel': 'rbf'},\n",
              "  {'C': 10, 'degree': 2, 'kernel': 'poly'},\n",
              "  {'C': 10, 'degree': 2, 'kernel': 'sigmoid'},\n",
              "  {'C': 10, 'degree': 3, 'kernel': 'linear'},\n",
              "  {'C': 10, 'degree': 3, 'kernel': 'rbf'},\n",
              "  {'C': 10, 'degree': 3, 'kernel': 'poly'},\n",
              "  {'C': 10, 'degree': 3, 'kernel': 'sigmoid'},\n",
              "  {'C': 10, 'degree': 4, 'kernel': 'linear'},\n",
              "  {'C': 10, 'degree': 4, 'kernel': 'rbf'},\n",
              "  {'C': 10, 'degree': 4, 'kernel': 'poly'},\n",
              "  {'C': 10, 'degree': 4, 'kernel': 'sigmoid'},\n",
              "  {'C': 15, 'degree': 1, 'kernel': 'linear'},\n",
              "  {'C': 15, 'degree': 1, 'kernel': 'rbf'},\n",
              "  {'C': 15, 'degree': 1, 'kernel': 'poly'},\n",
              "  {'C': 15, 'degree': 1, 'kernel': 'sigmoid'},\n",
              "  {'C': 15, 'degree': 2, 'kernel': 'linear'},\n",
              "  {'C': 15, 'degree': 2, 'kernel': 'rbf'},\n",
              "  {'C': 15, 'degree': 2, 'kernel': 'poly'},\n",
              "  {'C': 15, 'degree': 2, 'kernel': 'sigmoid'},\n",
              "  {'C': 15, 'degree': 3, 'kernel': 'linear'},\n",
              "  {'C': 15, 'degree': 3, 'kernel': 'rbf'},\n",
              "  {'C': 15, 'degree': 3, 'kernel': 'poly'},\n",
              "  {'C': 15, 'degree': 3, 'kernel': 'sigmoid'},\n",
              "  {'C': 15, 'degree': 4, 'kernel': 'linear'},\n",
              "  {'C': 15, 'degree': 4, 'kernel': 'rbf'},\n",
              "  {'C': 15, 'degree': 4, 'kernel': 'poly'},\n",
              "  {'C': 15, 'degree': 4, 'kernel': 'sigmoid'}],\n",
              " 'rank_test_score': array([ 5, 28, 40, 49,  5, 28, 60, 49,  5, 28, 56, 49,  5, 28, 63, 49,  1,\n",
              "        45, 10, 10,  1, 45, 58, 10,  1, 45, 55, 10,  1, 45, 64, 10, 16, 28,\n",
              "         5, 36, 16, 28, 57, 36, 16, 28, 54, 36, 16, 28, 62, 36, 16, 24, 10,\n",
              "        41, 16, 24, 59, 41, 16, 24, 53, 41, 16, 24, 60, 41], dtype=int32),\n",
              " 'split0_test_score': array([0.96875 , 0.984375, 0.984375, 0.96875 , 0.96875 , 0.984375,\n",
              "        0.75    , 0.96875 , 0.96875 , 0.984375, 0.96875 , 0.96875 ,\n",
              "        0.96875 , 0.984375, 0.75    , 0.96875 , 0.984375, 0.96875 ,\n",
              "        0.96875 , 0.984375, 0.984375, 0.96875 , 0.765625, 0.984375,\n",
              "        0.984375, 0.96875 , 0.96875 , 0.984375, 0.984375, 0.96875 ,\n",
              "        0.75    , 0.984375, 0.96875 , 0.96875 , 0.984375, 0.953125,\n",
              "        0.96875 , 0.96875 , 0.796875, 0.953125, 0.96875 , 0.96875 ,\n",
              "        0.96875 , 0.953125, 0.96875 , 0.96875 , 0.75    , 0.953125,\n",
              "        0.96875 , 0.96875 , 0.953125, 0.953125, 0.96875 , 0.96875 ,\n",
              "        0.796875, 0.953125, 0.96875 , 0.96875 , 0.96875 , 0.953125,\n",
              "        0.96875 , 0.96875 , 0.75    , 0.953125]),\n",
              " 'split1_test_score': array([0.96875 , 0.953125, 0.96875 , 0.96875 , 0.96875 , 0.953125,\n",
              "        0.71875 , 0.96875 , 0.96875 , 0.953125, 0.921875, 0.96875 ,\n",
              "        0.96875 , 0.953125, 0.703125, 0.96875 , 0.96875 , 0.953125,\n",
              "        0.96875 , 0.96875 , 0.96875 , 0.953125, 0.734375, 0.96875 ,\n",
              "        0.96875 , 0.953125, 0.9375  , 0.96875 , 0.96875 , 0.953125,\n",
              "        0.6875  , 0.96875 , 0.953125, 0.953125, 0.96875 , 0.96875 ,\n",
              "        0.953125, 0.953125, 0.734375, 0.96875 , 0.953125, 0.953125,\n",
              "        0.9375  , 0.96875 , 0.953125, 0.953125, 0.703125, 0.96875 ,\n",
              "        0.953125, 0.953125, 0.96875 , 0.96875 , 0.953125, 0.953125,\n",
              "        0.71875 , 0.96875 , 0.953125, 0.953125, 0.9375  , 0.96875 ,\n",
              "        0.953125, 0.953125, 0.703125, 0.96875 ]),\n",
              " 'split2_test_score': array([0.984375, 0.984375, 0.96875 , 0.96875 , 0.984375, 0.984375,\n",
              "        0.75    , 0.96875 , 0.984375, 0.984375, 0.875   , 0.96875 ,\n",
              "        0.984375, 0.984375, 0.703125, 0.96875 , 0.984375, 0.96875 ,\n",
              "        0.96875 , 0.953125, 0.984375, 0.96875 , 0.75    , 0.953125,\n",
              "        0.984375, 0.96875 , 0.921875, 0.953125, 0.984375, 0.96875 ,\n",
              "        0.703125, 0.953125, 0.96875 , 1.      , 0.96875 , 0.953125,\n",
              "        0.96875 , 1.      , 0.796875, 0.953125, 0.96875 , 1.      ,\n",
              "        0.921875, 0.953125, 0.96875 , 1.      , 0.765625, 0.953125,\n",
              "        0.96875 , 0.984375, 0.984375, 0.953125, 0.96875 , 0.984375,\n",
              "        0.796875, 0.953125, 0.96875 , 0.984375, 0.921875, 0.953125,\n",
              "        0.96875 , 0.984375, 0.765625, 0.953125]),\n",
              " 'split3_test_score': array([0.98412698, 0.96825397, 0.95238095, 0.95238095, 0.98412698,\n",
              "        0.96825397, 0.73015873, 0.95238095, 0.98412698, 0.96825397,\n",
              "        0.93650794, 0.95238095, 0.98412698, 0.96825397, 0.71428571,\n",
              "        0.95238095, 0.98412698, 0.96825397, 0.98412698, 0.98412698,\n",
              "        0.98412698, 0.96825397, 0.71428571, 0.98412698, 0.98412698,\n",
              "        0.96825397, 0.95238095, 0.98412698, 0.98412698, 0.96825397,\n",
              "        0.6984127 , 0.98412698, 0.98412698, 0.96825397, 0.98412698,\n",
              "        0.98412698, 0.98412698, 0.96825397, 0.73015873, 0.98412698,\n",
              "        0.98412698, 0.96825397, 0.96825397, 0.98412698, 0.98412698,\n",
              "        0.96825397, 0.6984127 , 0.98412698, 0.98412698, 0.98412698,\n",
              "        0.98412698, 0.98412698, 0.98412698, 0.98412698, 0.73015873,\n",
              "        0.98412698, 0.98412698, 0.98412698, 0.96825397, 0.98412698,\n",
              "        0.98412698, 0.98412698, 0.6984127 , 0.98412698]),\n",
              " 'split4_test_score': array([1.        , 0.98412698, 0.98412698, 0.98412698, 1.        ,\n",
              "        0.98412698, 0.76190476, 0.98412698, 1.        , 0.98412698,\n",
              "        0.92063492, 0.98412698, 1.        , 0.98412698, 0.76190476,\n",
              "        0.98412698, 1.        , 0.98412698, 1.        , 1.        ,\n",
              "        1.        , 0.98412698, 0.77777778, 1.        , 1.        ,\n",
              "        0.98412698, 0.96825397, 1.        , 1.        , 0.98412698,\n",
              "        0.76190476, 1.        , 1.        , 0.98412698, 1.        ,\n",
              "        1.        , 1.        , 0.98412698, 0.6984127 , 1.        ,\n",
              "        1.        , 0.98412698, 0.96825397, 1.        , 1.        ,\n",
              "        0.98412698, 0.77777778, 1.        , 1.        , 0.98412698,\n",
              "        1.        , 0.98412698, 1.        , 0.98412698, 0.68253968,\n",
              "        0.98412698, 1.        , 0.98412698, 0.98412698, 0.98412698,\n",
              "        1.        , 0.98412698, 0.79365079, 0.98412698]),\n",
              " 'std_fit_time': array([1.37392316e-03, 4.14989710e-05, 4.96702296e-05, 9.65341016e-05,\n",
              "        1.38870290e-04, 3.90551465e-05, 1.82009836e-04, 4.78284546e-05,\n",
              "        1.20101697e-04, 1.56428361e-04, 4.39427109e-05, 7.12648089e-05,\n",
              "        9.31385162e-05, 2.43629912e-04, 2.61098133e-04, 4.44106685e-05,\n",
              "        7.38144229e-05, 1.47453470e-04, 5.08797537e-05, 4.95455606e-05,\n",
              "        6.68399842e-05, 7.24048609e-05, 1.98621503e-04, 6.29086476e-05,\n",
              "        6.54620488e-05, 9.80088408e-05, 8.57434359e-05, 6.21948852e-05,\n",
              "        7.56318450e-05, 7.23490361e-05, 3.66205641e-04, 6.36138300e-05,\n",
              "        1.15089407e-04, 6.46755386e-05, 1.96863767e-04, 7.39278156e-05,\n",
              "        1.28646795e-04, 5.18893048e-05, 6.39865133e-04, 1.11580710e-04,\n",
              "        1.39748875e-04, 4.97496801e-05, 3.48389511e-05, 4.58291366e-05,\n",
              "        1.29508919e-04, 5.52228899e-05, 6.20243748e-04, 1.02888311e-04,\n",
              "        3.38263454e-05, 6.78514311e-05, 1.05221766e-04, 3.38156560e-05,\n",
              "        4.56305008e-05, 9.00546583e-05, 3.19824767e-04, 4.48630030e-05,\n",
              "        4.74076865e-05, 8.50771035e-05, 1.17336981e-04, 5.44778054e-05,\n",
              "        5.48409584e-05, 7.20995444e-05, 9.24182617e-04, 6.12956686e-05]),\n",
              " 'std_score_time': array([2.53965789e-04, 1.22275032e-05, 3.26232595e-05, 4.80247225e-05,\n",
              "        9.56946481e-05, 3.25512529e-05, 1.34062409e-04, 2.48686007e-05,\n",
              "        1.16473271e-05, 3.77831394e-05, 2.80226938e-05, 1.89349388e-05,\n",
              "        2.68895572e-06, 1.23241200e-04, 3.86907445e-05, 1.22008830e-05,\n",
              "        1.71625610e-05, 6.13384979e-05, 1.43038431e-05, 3.91935779e-06,\n",
              "        8.46758613e-06, 1.19538805e-05, 1.58081407e-05, 1.07202496e-05,\n",
              "        3.16669420e-05, 8.86019386e-06, 1.85117250e-05, 6.90014838e-06,\n",
              "        9.69587128e-06, 5.02238796e-05, 5.57641434e-05, 1.53089236e-05,\n",
              "        3.09441232e-05, 1.64553733e-05, 1.40753299e-04, 1.11001709e-05,\n",
              "        8.34069840e-06, 1.87703118e-05, 6.24202243e-05, 1.60564602e-05,\n",
              "        9.93676468e-06, 1.03239374e-05, 1.60352049e-05, 5.05016701e-05,\n",
              "        8.63773106e-06, 1.13248574e-05, 2.38666406e-05, 1.66733529e-05,\n",
              "        1.17234079e-05, 3.71382379e-06, 1.04463258e-05, 9.96874810e-06,\n",
              "        1.17257350e-05, 1.74525006e-05, 3.61923487e-05, 2.40200063e-05,\n",
              "        1.49770900e-05, 1.12816084e-05, 2.49987309e-05, 1.47947133e-05,\n",
              "        6.14990546e-06, 3.25791813e-05, 2.52140921e-05, 3.04591842e-05]),\n",
              " 'std_test_score': array([0.01167984, 0.01251397, 0.01188035, 0.01004192, 0.01167984,\n",
              "        0.01251397, 0.01552318, 0.01004192, 0.01167984, 0.01251397,\n",
              "        0.03024671, 0.01004192, 0.01167984, 0.01251397, 0.02468893,\n",
              "        0.01004192, 0.00988262, 0.00980538, 0.01247557, 0.01591528,\n",
              "        0.00988262, 0.00980538, 0.02246241, 0.01591528, 0.00988262,\n",
              "        0.00980538, 0.01809639, 0.01591528, 0.00988262, 0.00980538,\n",
              "        0.02987594, 0.01591528, 0.01590553, 0.0159454 , 0.01167984,\n",
              "        0.01818794, 0.01590553, 0.0159454 , 0.03920365, 0.01818794,\n",
              "        0.01590553, 0.0159454 , 0.01960825, 0.01818794, 0.01590553,\n",
              "        0.0159454 , 0.03245905, 0.01818794, 0.01590553, 0.01242597,\n",
              "        0.01591528, 0.0138646 , 0.01590553, 0.01242597, 0.04515006,\n",
              "        0.0138646 , 0.01590553, 0.01242597, 0.02284979, 0.0138646 ,\n",
              "        0.01590553, 0.01242597, 0.03660855, 0.0138646 ])}"
            ]
          },
          "metadata": {
            "tags": []
          },
          "execution_count": 59
        }
      ]
    },
    {
      "cell_type": "code",
      "metadata": {
        "colab": {
          "base_uri": "https://localhost:8080/"
        },
        "id": "IxfUujGBBqOS",
        "outputId": "99c13750-2c75-4115-c55f-e18921dc60ca"
      },
      "source": [
        "print('The best estimator of the model: ', clf.best_estimator_)\r\n",
        "print()\r\n",
        "print('-'*100)\r\n",
        "print('The best index of the model: ', clf.best_index_)\r\n",
        "print()\r\n",
        "print('-'*100)\r\n",
        "print('The best parameter of the model: ', clf.best_params_)\r\n",
        "print()\r\n",
        "print('-'*100)\r\n",
        "print('The best score of the model: ', clf.best_score_)"
      ],
      "execution_count": 61,
      "outputs": [
        {
          "output_type": "stream",
          "text": [
            "The best estimator of the model:  SVC(C=5, break_ties=False, cache_size=200, class_weight=None, coef0=0.0,\n",
            "    decision_function_shape='ovr', degree=1, gamma='scale', kernel='linear',\n",
            "    max_iter=-1, probability=False, random_state=None, shrinking=True,\n",
            "    tol=0.001, verbose=False)\n",
            "\n",
            "----------------------------------------------------------------------------------------------------\n",
            "The best index of the model:  16\n",
            "\n",
            "----------------------------------------------------------------------------------------------------\n",
            "The best parameter of the model:  {'C': 5, 'degree': 1, 'kernel': 'linear'}\n",
            "\n",
            "----------------------------------------------------------------------------------------------------\n",
            "The best score of the model:  0.9843253968253969\n"
          ],
          "name": "stdout"
        }
      ]
    },
    {
      "cell_type": "markdown",
      "metadata": {
        "id": "VvSeSr2yKCza"
      },
      "source": [
        "**1(f) Repeat the previous item but this time using SVMs with radial and polynomial basis kernels with different values of** *gamma*, *degree* and *costs*. "
      ]
    },
    {
      "cell_type": "code",
      "metadata": {
        "colab": {
          "base_uri": "https://localhost:8080/"
        },
        "id": "_qJw0usjDoby",
        "outputId": "359272c0-9268-49d9-84da-6742b3e658a2"
      },
      "source": [
        "# Polynomial Model\r\n",
        "svc_polynomial = SVC(kernel='poly', degree=5)\r\n",
        "svc_polynomial_fit = svc_polynomial.fit(X_train, y_train)\r\n",
        "\r\n",
        "svc_polynomial_pred = svc_polynomial.predict(X_test)\r\n",
        "svc_polynomial_accuracy = accuracy_score(y_test, svc_polynomial_pred)\r\n",
        "print('The accuracy of the polynomial model is ', svc_polynomial_accuracy)\r\n"
      ],
      "execution_count": 62,
      "outputs": [
        {
          "output_type": "stream",
          "text": [
            "The accuracy of the polynomial model is  0.8375\n"
          ],
          "name": "stdout"
        }
      ]
    },
    {
      "cell_type": "code",
      "metadata": {
        "colab": {
          "base_uri": "https://localhost:8080/"
        },
        "id": "1XXnW3JL7mQ7",
        "outputId": "a68f3b31-3a8c-4a0d-b6f4-054af408bb83"
      },
      "source": [
        "# Polynomial Model with C=5 and gamma= 'auto'\r\n",
        "svc_polynomial = SVC(C=5, kernel='poly', degree=5, gamma='auto')\r\n",
        "svc_polynomial_fit = svc_polynomial.fit(X_train, y_train)\r\n",
        "\r\n",
        "svc_polynomial_pred = svc_polynomial.predict(X_test)\r\n",
        "svc_polynomial_accuracy = accuracy_score(y_test, svc_polynomial_pred)\r\n",
        "print('The accuracy of the polynomial model with gamma=auto is ', svc_polynomial_accuracy)\r\n"
      ],
      "execution_count": 63,
      "outputs": [
        {
          "output_type": "stream",
          "text": [
            "The accuracy of the polynomial model with gamma=auto is  0.85\n"
          ],
          "name": "stdout"
        }
      ]
    },
    {
      "cell_type": "code",
      "metadata": {
        "colab": {
          "base_uri": "https://localhost:8080/"
        },
        "id": "wX67hEw15jVm",
        "outputId": "44c39351-7d6c-49dd-df12-53ddebf339bd"
      },
      "source": [
        "# Gaussian Model\r\n",
        "svc_gaussian = SVC(kernel='rbf')\r\n",
        "svc_gaussian_fit = svc_gaussian.fit(X_train, y_train)\r\n",
        "\r\n",
        "svc_gaussian_pred = svc_gaussian.predict(X_test)\r\n",
        "svc_gaussian_accuracy = accuracy_score(y_test, svc_gaussian_pred)\r\n",
        "print('The accuracy of the gaussian model is ', svc_gaussian_accuracy)\r\n"
      ],
      "execution_count": 64,
      "outputs": [
        {
          "output_type": "stream",
          "text": [
            "The accuracy of the gaussian model is  0.9625\n"
          ],
          "name": "stdout"
        }
      ]
    },
    {
      "cell_type": "code",
      "metadata": {
        "colab": {
          "base_uri": "https://localhost:8080/"
        },
        "id": "gNsE_-rn8RiW",
        "outputId": "c9f003e1-b3b8-4700-d328-b7adce86c78c"
      },
      "source": [
        "# Gaussian Model with C=10 and gamma='auto'\r\n",
        "svc_gaussian = SVC(C=10, kernel='rbf', gamma='auto')\r\n",
        "svc_gaussian_fit = svc_gaussian.fit(X_train, y_train)\r\n",
        "\r\n",
        "svc_gaussian_pred = svc_gaussian.predict(X_test)\r\n",
        "svc_gaussian_accuracy = accuracy_score(y_test, svc_gaussian_pred)\r\n",
        "print('The accuracy of the gaussian model is ', svc_gaussian_accuracy)\r\n"
      ],
      "execution_count": 65,
      "outputs": [
        {
          "output_type": "stream",
          "text": [
            "The accuracy of the gaussian model is  0.975\n"
          ],
          "name": "stdout"
        }
      ]
    },
    {
      "cell_type": "code",
      "metadata": {
        "colab": {
          "base_uri": "https://localhost:8080/"
        },
        "id": "WzZBmQfl6DNF",
        "outputId": "d7e4d5d9-d960-4549-e294-01c08f4e9c7f"
      },
      "source": [
        "# Sigmoid Model\r\n",
        "svc_sigmoid = SVC(kernel='sigmoid')\r\n",
        "svc_sigmoid_fit = svc_sigmoid.fit(X_train, y_train)\r\n",
        "\r\n",
        "svc_sigmoid_pred = svc_sigmoid.predict(X_test)\r\n",
        "svc_sigmoid_accuracy = accuracy_score(y_test, svc_sigmoid_pred)\r\n",
        "print('The accuracy of the sigmoid model is ', svc_sigmoid_accuracy)\r\n"
      ],
      "execution_count": 66,
      "outputs": [
        {
          "output_type": "stream",
          "text": [
            "The accuracy of the sigmoid model is  0.95\n"
          ],
          "name": "stdout"
        }
      ]
    },
    {
      "cell_type": "code",
      "metadata": {
        "colab": {
          "base_uri": "https://localhost:8080/"
        },
        "id": "-sHK21aD8hrZ",
        "outputId": "423137e9-a45c-4f53-ac7a-42d60bf0a3d0"
      },
      "source": [
        "# Sigmoid Model with C=15 and gamma='auto'\r\n",
        "svc_sigmoid = SVC(C=15, kernel='sigmoid', gamma='auto')\r\n",
        "svc_sigmoid_fit = svc_sigmoid.fit(X_train, y_train)\r\n",
        "\r\n",
        "svc_sigmoid_pred = svc_sigmoid.predict(X_test)\r\n",
        "svc_sigmoid_accuracy = accuracy_score(y_test, svc_sigmoid_pred)\r\n",
        "print('The accuracy of the sigmoid model (C=15 and gamma=auto) is ', svc_sigmoid_accuracy)"
      ],
      "execution_count": 67,
      "outputs": [
        {
          "output_type": "stream",
          "text": [
            "The accuracy of the sigmoid model (C=15 and gamma=auto) is  0.95\n"
          ],
          "name": "stdout"
        }
      ]
    },
    {
      "cell_type": "markdown",
      "metadata": {
        "id": "oqlazCnZrrk3"
      },
      "source": [
        "**2. Using the *College* data set, provide a solution for the following questions**\r\n",
        "\r\n",
        "(a) Split the data into a training set and a test set"
      ]
    },
    {
      "cell_type": "code",
      "metadata": {
        "id": "0BAC4cLgsIVS"
      },
      "source": [
        "df = pd.read_csv('/content/sample_data/College.txt')\r\n",
        "\r\n",
        "df.head()"
      ],
      "execution_count": null,
      "outputs": []
    },
    {
      "cell_type": "code",
      "metadata": {
        "id": "dOcKCkzhsiqL"
      },
      "source": [
        "df.shape"
      ],
      "execution_count": null,
      "outputs": []
    },
    {
      "cell_type": "code",
      "metadata": {
        "id": "xJf9X-OMs4rs"
      },
      "source": [
        "df.columns"
      ],
      "execution_count": null,
      "outputs": []
    },
    {
      "cell_type": "code",
      "metadata": {
        "id": "huIZpNGys7E8"
      },
      "source": [
        "df.set_index('Unnamed: 0', inplace=True)"
      ],
      "execution_count": null,
      "outputs": []
    },
    {
      "cell_type": "code",
      "metadata": {
        "id": "P0WinzxhtVgr"
      },
      "source": [
        "df['Private'] = np.where(df.Private == 'Yes', 1, 0)\r\n",
        "df['Private'].value_counts()"
      ],
      "execution_count": null,
      "outputs": []
    },
    {
      "cell_type": "code",
      "metadata": {
        "id": "M_yd08tPtXsb"
      },
      "source": [
        "X = df.drop('Grad.Rate', axis=1)\r\n",
        "y = df['Grad.Rate']\r\n",
        "\r\n",
        "X_train, X_test, y_train, y_test = train_test_split(X, y, test_size = 0.30, random_state = 0)\r\n",
        "\r\n",
        "print(X_train.shape)\r\n",
        "print(X_test.shape)\r\n",
        "print(y_train.shape)\r\n",
        "print(y_test.shape)"
      ],
      "execution_count": null,
      "outputs": []
    },
    {
      "cell_type": "markdown",
      "metadata": {
        "id": "uWn8O7KnxYpS"
      },
      "source": [
        "**2(b) Fit a linear model using least squares on the training set and report the test error obtained.**"
      ]
    },
    {
      "cell_type": "code",
      "metadata": {
        "id": "4Blc2YdWvdWM"
      },
      "source": [
        "lrMod = LinearRegression()\r\n",
        "lrMod_fit = lrMod.fit(X_train, y_train)\r\n",
        "lrMod_pred = lrMod_fit.predict(X_test)\r\n",
        "lrMod_pred[:10]"
      ],
      "execution_count": null,
      "outputs": []
    },
    {
      "cell_type": "code",
      "metadata": {
        "id": "bIjNZNqww2Kr"
      },
      "source": [
        "mse = mean_squared_error(y_test, lrMod_pred)\r\n",
        "ols_error = np.sqrt(mse)\r\n",
        "print('The error of the ols model is ', ols_error)"
      ],
      "execution_count": null,
      "outputs": []
    },
    {
      "cell_type": "code",
      "metadata": {
        "id": "YLWKsQ3fxTT8"
      },
      "source": [
        "import statsmodels.api as sm\r\n",
        "X = sm.add_constant(X_train.values)\r\n",
        "y = y_train\r\n",
        "mod = sm.OLS(y, X)\r\n",
        "results = mod.fit()\r\n",
        "print(results.summary())"
      ],
      "execution_count": null,
      "outputs": []
    },
    {
      "cell_type": "code",
      "metadata": {
        "id": "UGn6-fuXyoEs"
      },
      "source": [
        "print('The Parameters of the OLS model: ', results.params)\r\n",
        "print()\r\n",
        "print('-'*100)\r\n",
        "print('The Standard Errors of the OLS model: ', results.bse)\r\n",
        "print()\r\n",
        "print('-'*100)\r\n",
        "print('The R^2 of the OLS model: ', results.rsquared)\r\n",
        "print()\r\n",
        "print('-'*100)\r\n",
        "print('First 10 Predicted values: ', results.predict()[:10])"
      ],
      "execution_count": null,
      "outputs": []
    },
    {
      "cell_type": "markdown",
      "metadata": {
        "id": "jVD91xzkHpvg"
      },
      "source": [
        "**Remove factors that are not contributing to the model**"
      ]
    },
    {
      "cell_type": "code",
      "metadata": {
        "id": "im0GEUYkBjxh"
      },
      "source": [
        "df1 =df.copy()\r\n",
        "X1 = df1.drop(['Enroll', 'Top10perc', 'Top25perc', 'Personal', 'Terminal', 'S.F.Ratio', 'perc.alumni', 'Grad.Rate'], axis=1)\r\n",
        "y1 = df1['Grad.Rate']\r\n",
        "\r\n",
        "print(X1.shape)\r\n",
        "print(y1.shape)\r\n",
        "print()\r\n",
        "print('-'*100)\r\n",
        "df1['Private'] = np.where(df1.Private == 'Yes', 1, 0)\r\n",
        "\r\n",
        "X1_train, X1_test, y1_train, y1_test = train_test_split(X1, y1, test_size=0.3, random_state=10)\r\n",
        "\r\n",
        "X1 = sm.add_constant(X1_train.values)\r\n",
        "y1 = y1_train\r\n",
        "mod = sm.OLS(y1, X1)\r\n",
        "results = mod.fit()\r\n",
        "print(results.summary())"
      ],
      "execution_count": null,
      "outputs": []
    },
    {
      "cell_type": "markdown",
      "metadata": {
        "id": "pfMcuc09H0-l"
      },
      "source": [
        "**Remove factors that are not contributing to the model**"
      ]
    },
    {
      "cell_type": "code",
      "metadata": {
        "id": "RpiVlr59EuRD"
      },
      "source": [
        "df1 =df.copy()\r\n",
        "X1 = df1.drop(['Enroll', 'Top10perc', 'Top25perc', 'Personal', 'Terminal', 'S.F.Ratio', 'perc.alumni', 'Grad.Rate', 'P.Undergrad', 'PhD', 'perc.alumni'], axis=1)\r\n",
        "y1 = df1['Grad.Rate']\r\n",
        "\r\n",
        "print(X1.shape)\r\n",
        "print(y1.shape)\r\n",
        "print()\r\n",
        "print('-'*100)\r\n",
        "df1['Private'] = np.where(df1.Private == 'Yes', 1, 0)\r\n",
        "\r\n",
        "X1_train, X1_test, y1_train, y1_test = train_test_split(X1, y1, test_size=0.3, random_state=10)\r\n",
        "\r\n",
        "X1 = sm.add_constant(X1_train.values)\r\n",
        "y1 = y1_train\r\n",
        "mod = sm.OLS(y1, X1)\r\n",
        "results = mod.fit()\r\n",
        "print(results.summary())"
      ],
      "execution_count": null,
      "outputs": []
    },
    {
      "cell_type": "markdown",
      "metadata": {
        "id": "KutrDcW7H4tB"
      },
      "source": [
        "**Remove factors that are not contributing to the model**"
      ]
    },
    {
      "cell_type": "code",
      "metadata": {
        "id": "BoSVI3ykF8m6"
      },
      "source": [
        "df1 =df.copy()\r\n",
        "X1 = df1.drop(['Enroll', 'Top10perc', 'Top25perc', 'Personal', 'Terminal', 'S.F.Ratio', 'perc.alumni', 'Grad.Rate', 'Private', 'F.Undergrad', 'Room.Board', 'Books'], axis=1)\r\n",
        "y1 = df1['Grad.Rate']\r\n",
        "\r\n",
        "print(X1.shape)\r\n",
        "print(y1.shape)\r\n",
        "print()\r\n",
        "print('-'*100)\r\n",
        "df1['Private'] = np.where(df1.Private == 'Yes', 1, 0)\r\n",
        "\r\n",
        "X1_train, X1_test, y1_train, y1_test = train_test_split(X1, y1, test_size=0.3, random_state=10)\r\n",
        "\r\n",
        "X1 = sm.add_constant(X1_train.values)\r\n",
        "y1 = y1_train\r\n",
        "mod = sm.OLS(y1, X1)\r\n",
        "results = mod.fit()\r\n",
        "print(results.summary())"
      ],
      "execution_count": null,
      "outputs": []
    },
    {
      "cell_type": "code",
      "metadata": {
        "id": "D7DCB7zJIXDb"
      },
      "source": [
        "print('The Parameters of the final OLS model: ', results.params)\r\n",
        "print()\r\n",
        "print('-'*100)\r\n",
        "print('The Standard Errors of the final OLS model: ', results.bse)\r\n",
        "print()\r\n",
        "print('-'*100)\r\n",
        "print('The R^2 of the final OLS model: ', results.rsquared)\r\n",
        "print()\r\n",
        "print('-'*100)\r\n",
        "print('First 10 Predicted values: ', results.predict()[:10])"
      ],
      "execution_count": null,
      "outputs": []
    },
    {
      "cell_type": "markdown",
      "metadata": {
        "id": "rUKIlSdq5Q69"
      },
      "source": [
        "**2(c) Fit a ridge regression model on the training set, with lambda chosen by cross-validation. Report the test error obtained.**"
      ]
    },
    {
      "cell_type": "code",
      "metadata": {
        "id": "mcVcnPYl5P8_"
      },
      "source": [
        "from sklearn.linear_model import Ridge, RidgeCV\r\n",
        "from sklearn.model_selection import RepeatedKFold\r\n",
        "\r\n",
        "# define the cross-validation method to evaluate model\r\n",
        "cv = RepeatedKFold(n_splits=10, n_repeats=3, random_state=1)\r\n",
        "\r\n",
        "# define the model\r\n",
        "model = RidgeCV(alphas=np.arange(0, 1, 0.1), cv=cv, scoring='neg_mean_absolute_error')\r\n",
        "\r\n",
        "# fit the model\r\n",
        "modFit = model.fit(X_train, y_train)\r\n",
        "\r\n",
        "# display the lambda that produced the lowest test MSE\r\n",
        "print('The lambda that produced the least MSE is ', model.alpha_)\r\n",
        "\r\n",
        "# error\r\n",
        "mod_mse = mean_squared_error(y_test, modFit.predict(X_test))\r\n",
        "modError = np.sqrt(mod_mse)\r\n",
        "print('The error of the model is ', modError)"
      ],
      "execution_count": null,
      "outputs": []
    },
    {
      "cell_type": "markdown",
      "metadata": {
        "id": "W7OO0qhu9jj6"
      },
      "source": [
        "**2(d) Fit a lasso model on the training set, with lambda chosen by corss-validation. Report the test error obtained along wit hthe number of non-zero coefficients.** "
      ]
    },
    {
      "cell_type": "code",
      "metadata": {
        "id": "mXCcsiTJ75QR"
      },
      "source": [
        "from sklearn.linear_model import LassoCV\r\n",
        "\r\n",
        "#define cross-validation method to evaluate model\r\n",
        "cv = RepeatedKFold(n_splits=10, n_repeats=3, random_state=1)\r\n",
        "\r\n",
        "#define model\r\n",
        "model = LassoCV(alphas=np.arange(0.01, 1, 0.01), cv=cv, n_jobs=-1)\r\n",
        "\r\n",
        "#fit model\r\n",
        "model_fit = model.fit(X_train, y_train)\r\n",
        "\r\n",
        "# display the lambda that produced the lowest test MSE\r\n",
        "print('The lambda that produced the least MSE is ', model.alpha_)\r\n",
        "\r\n",
        "# error\r\n",
        "model_mse = mean_squared_error(y_test, model_fit.predict(X_test))\r\n",
        "modelError = np.sqrt(mod_mse)\r\n",
        "print('The error of the model is ', modelError)"
      ],
      "execution_count": null,
      "outputs": []
    },
    {
      "cell_type": "code",
      "metadata": {
        "id": "fl0lAhAHAKMO"
      },
      "source": [
        "non_zero_coefficients = np.sum(model.coef_ !=0)\r\n",
        "print('The number of non-zero coefficients of the model is', non_zero_coefficients)"
      ],
      "execution_count": null,
      "outputs": []
    },
    {
      "cell_type": "code",
      "metadata": {
        "id": "PVPbMoI7APVg"
      },
      "source": [
        ""
      ],
      "execution_count": null,
      "outputs": []
    }
  ]
}