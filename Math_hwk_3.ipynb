{
  "nbformat": 4,
  "nbformat_minor": 0,
  "metadata": {
    "colab": {
      "name": "Math_hwk_3.ipynb",
      "provenance": [],
      "authorship_tag": "ABX9TyOZt1vrLh+mRjCt9RYGme4+",
      "include_colab_link": true
    },
    "kernelspec": {
      "name": "python3",
      "display_name": "Python 3"
    }
  },
  "cells": [
    {
      "cell_type": "markdown",
      "metadata": {
        "id": "view-in-github",
        "colab_type": "text"
      },
      "source": [
        "<a href=\"https://colab.research.google.com/github/blessjal/practicums/blob/master/Math_hwk_3.ipynb\" target=\"_parent\"><img src=\"https://colab.research.google.com/assets/colab-badge.svg\" alt=\"Open In Colab\"/></a>"
      ]
    },
    {
      "cell_type": "markdown",
      "metadata": {
        "id": "d5_QfNuwGgzQ"
      },
      "source": [
        "**Math Homework Question 3**\r\n",
        "\r\n",
        " Let U and V be tuples (of size n) of uniformly distributed random numbers\r\n",
        "in (0,1). Say, U is generated using the random uniform method in the random module and V using numpy. Define a python function that returns a\r\n",
        "tuple performing element-wise the function f(u, v) = √\r\n",
        "−2 log u cos(2πv).\r\n",
        "What is the empirical mean and standard deviation of the tuple defined\r\n",
        "by f for tuples of size n = 5000."
      ]
    },
    {
      "cell_type": "code",
      "metadata": {
        "id": "w-bdY08iFCag"
      },
      "source": [
        "import numpy as np\r\n",
        "import random\r\n",
        "import math\r\n",
        "import pandas as pd"
      ],
      "execution_count": 2,
      "outputs": []
    },
    {
      "cell_type": "code",
      "metadata": {
        "colab": {
          "base_uri": "https://localhost:8080/"
        },
        "id": "K9ZZBMMPGfY0",
        "outputId": "52eb7e3e-81c1-48d4-ba35-d470fdd9ddf6"
      },
      "source": [
        "\r\n",
        "random.seed(42)\r\n",
        "\r\n",
        "u = random.uniform(0,1)\r\n",
        "print(\"Uniformly distributed random numbers between (0,1) using random package\")\r\n",
        "print('%.4f'%u)\r\n"
      ],
      "execution_count": 3,
      "outputs": [
        {
          "output_type": "stream",
          "text": [
            "Uniformly distributed random numbers between (0,1) using random package\n",
            "0.6394\n"
          ],
          "name": "stdout"
        }
      ]
    },
    {
      "cell_type": "code",
      "metadata": {
        "colab": {
          "base_uri": "https://localhost:8080/"
        },
        "id": "oiGj-fD7Hs1K",
        "outputId": "5749e265-a76e-4c2a-e3f4-f96783ce27a4"
      },
      "source": [
        "\r\n",
        "random.seed(42)\r\n",
        "\r\n",
        "v = np.random.uniform(0,1)\r\n",
        "print(\"Uniformly distributed random numbers between (0,1) using numpy\")\r\n",
        "print('%.4f'%v)"
      ],
      "execution_count": 4,
      "outputs": [
        {
          "output_type": "stream",
          "text": [
            "Uniformly distributed random numbers between (0,1) using numpy\n",
            "0.9234\n"
          ],
          "name": "stdout"
        }
      ]
    },
    {
      "cell_type": "code",
      "metadata": {
        "id": "4ppUf_q1xn2M"
      },
      "source": [
        "\r\n",
        "random.seed(42)\r\n",
        "\r\n",
        "ulist=[]\r\n",
        "vlist=[]\r\n",
        "for u, v in enumerate(range(5000)):\r\n",
        "    u=random.uniform(0,1)\r\n",
        "    v=np.random.uniform(0, 1)\r\n",
        "    ulist.append(u)\r\n",
        "    vlist.append(v)\r\n"
      ],
      "execution_count": 24,
      "outputs": []
    },
    {
      "cell_type": "code",
      "metadata": {
        "colab": {
          "base_uri": "https://localhost:8080/"
        },
        "id": "5ftBzFLGyihN",
        "outputId": "85045159-21a9-43c1-d0ad-ee056ccf7c7a"
      },
      "source": [
        "ulist[:10]"
      ],
      "execution_count": 25,
      "outputs": [
        {
          "output_type": "execute_result",
          "data": {
            "text/plain": [
              "[0.6394267984578837,\n",
              " 0.025010755222666936,\n",
              " 0.27502931836911926,\n",
              " 0.22321073814882275,\n",
              " 0.7364712141640124,\n",
              " 0.6766994874229113,\n",
              " 0.8921795677048454,\n",
              " 0.08693883262941615,\n",
              " 0.4219218196852704,\n",
              " 0.029797219438070344]"
            ]
          },
          "metadata": {
            "tags": []
          },
          "execution_count": 25
        }
      ]
    },
    {
      "cell_type": "code",
      "metadata": {
        "colab": {
          "base_uri": "https://localhost:8080/"
        },
        "id": "Y6ljA4usHvUW",
        "outputId": "ca5dd0ce-ed26-4f64-adc0-ec8cae495a25"
      },
      "source": [
        "vlist[:10]"
      ],
      "execution_count": 26,
      "outputs": [
        {
          "output_type": "execute_result",
          "data": {
            "text/plain": [
              "[0.6426457660714071,\n",
              " 0.6107041277045597,\n",
              " 0.683523749968101,\n",
              " 0.49158625966339464,\n",
              " 0.9287213888675108,\n",
              " 0.5792659783234494,\n",
              " 0.5083052117193196,\n",
              " 0.5988812716091356,\n",
              " 0.1619144924774073,\n",
              " 0.3855185931129882]"
            ]
          },
          "metadata": {
            "tags": []
          },
          "execution_count": 26
        }
      ]
    },
    {
      "cell_type": "code",
      "metadata": {
        "colab": {
          "base_uri": "https://localhost:8080/",
          "height": 419
        },
        "id": "dsZCW6LXNCJz",
        "outputId": "1840d2d9-7e0c-4a9f-cbdb-49c1f2d08e61"
      },
      "source": [
        "\r\n",
        "ulist=pd.Series(ulist)\r\n",
        "vlist=pd.Series(vlist)\r\n",
        "\r\n",
        "df=pd.concat([ulist, vlist], axis=1)\r\n",
        "df.columns = ['u', 'v']\r\n",
        "df"
      ],
      "execution_count": 27,
      "outputs": [
        {
          "output_type": "execute_result",
          "data": {
            "text/html": [
              "<div>\n",
              "<style scoped>\n",
              "    .dataframe tbody tr th:only-of-type {\n",
              "        vertical-align: middle;\n",
              "    }\n",
              "\n",
              "    .dataframe tbody tr th {\n",
              "        vertical-align: top;\n",
              "    }\n",
              "\n",
              "    .dataframe thead th {\n",
              "        text-align: right;\n",
              "    }\n",
              "</style>\n",
              "<table border=\"1\" class=\"dataframe\">\n",
              "  <thead>\n",
              "    <tr style=\"text-align: right;\">\n",
              "      <th></th>\n",
              "      <th>u</th>\n",
              "      <th>v</th>\n",
              "    </tr>\n",
              "  </thead>\n",
              "  <tbody>\n",
              "    <tr>\n",
              "      <th>0</th>\n",
              "      <td>0.639427</td>\n",
              "      <td>0.642646</td>\n",
              "    </tr>\n",
              "    <tr>\n",
              "      <th>1</th>\n",
              "      <td>0.025011</td>\n",
              "      <td>0.610704</td>\n",
              "    </tr>\n",
              "    <tr>\n",
              "      <th>2</th>\n",
              "      <td>0.275029</td>\n",
              "      <td>0.683524</td>\n",
              "    </tr>\n",
              "    <tr>\n",
              "      <th>3</th>\n",
              "      <td>0.223211</td>\n",
              "      <td>0.491586</td>\n",
              "    </tr>\n",
              "    <tr>\n",
              "      <th>4</th>\n",
              "      <td>0.736471</td>\n",
              "      <td>0.928721</td>\n",
              "    </tr>\n",
              "    <tr>\n",
              "      <th>...</th>\n",
              "      <td>...</td>\n",
              "      <td>...</td>\n",
              "    </tr>\n",
              "    <tr>\n",
              "      <th>4995</th>\n",
              "      <td>0.608845</td>\n",
              "      <td>0.305302</td>\n",
              "    </tr>\n",
              "    <tr>\n",
              "      <th>4996</th>\n",
              "      <td>0.316489</td>\n",
              "      <td>0.325933</td>\n",
              "    </tr>\n",
              "    <tr>\n",
              "      <th>4997</th>\n",
              "      <td>0.525391</td>\n",
              "      <td>0.891535</td>\n",
              "    </tr>\n",
              "    <tr>\n",
              "      <th>4998</th>\n",
              "      <td>0.995024</td>\n",
              "      <td>0.400116</td>\n",
              "    </tr>\n",
              "    <tr>\n",
              "      <th>4999</th>\n",
              "      <td>0.353853</td>\n",
              "      <td>0.558739</td>\n",
              "    </tr>\n",
              "  </tbody>\n",
              "</table>\n",
              "<p>5000 rows × 2 columns</p>\n",
              "</div>"
            ],
            "text/plain": [
              "             u         v\n",
              "0     0.639427  0.642646\n",
              "1     0.025011  0.610704\n",
              "2     0.275029  0.683524\n",
              "3     0.223211  0.491586\n",
              "4     0.736471  0.928721\n",
              "...        ...       ...\n",
              "4995  0.608845  0.305302\n",
              "4996  0.316489  0.325933\n",
              "4997  0.525391  0.891535\n",
              "4998  0.995024  0.400116\n",
              "4999  0.353853  0.558739\n",
              "\n",
              "[5000 rows x 2 columns]"
            ]
          },
          "metadata": {
            "tags": []
          },
          "execution_count": 27
        }
      ]
    },
    {
      "cell_type": "code",
      "metadata": {
        "colab": {
          "base_uri": "https://localhost:8080/",
          "height": 204
        },
        "id": "1p5z2SNdkRPh",
        "outputId": "c2c9fdf3-fee7-4048-8079-59ab6ad3170b"
      },
      "source": [
        "df['f'] = df.apply(lambda row: np.sqrt(-2*np.log(row.u))*(np.cos(2*row.v*(np.pi))), axis = 1)\r\n",
        "df.head()"
      ],
      "execution_count": 28,
      "outputs": [
        {
          "output_type": "execute_result",
          "data": {
            "text/html": [
              "<div>\n",
              "<style scoped>\n",
              "    .dataframe tbody tr th:only-of-type {\n",
              "        vertical-align: middle;\n",
              "    }\n",
              "\n",
              "    .dataframe tbody tr th {\n",
              "        vertical-align: top;\n",
              "    }\n",
              "\n",
              "    .dataframe thead th {\n",
              "        text-align: right;\n",
              "    }\n",
              "</style>\n",
              "<table border=\"1\" class=\"dataframe\">\n",
              "  <thead>\n",
              "    <tr style=\"text-align: right;\">\n",
              "      <th></th>\n",
              "      <th>u</th>\n",
              "      <th>v</th>\n",
              "      <th>f</th>\n",
              "    </tr>\n",
              "  </thead>\n",
              "  <tbody>\n",
              "    <tr>\n",
              "      <th>0</th>\n",
              "      <td>0.639427</td>\n",
              "      <td>0.642646</td>\n",
              "      <td>-0.590622</td>\n",
              "    </tr>\n",
              "    <tr>\n",
              "      <th>1</th>\n",
              "      <td>0.025011</td>\n",
              "      <td>0.610704</td>\n",
              "      <td>-2.085069</td>\n",
              "    </tr>\n",
              "    <tr>\n",
              "      <th>2</th>\n",
              "      <td>0.275029</td>\n",
              "      <td>0.683524</td>\n",
              "      <td>-0.651781</td>\n",
              "    </tr>\n",
              "    <tr>\n",
              "      <th>3</th>\n",
              "      <td>0.223211</td>\n",
              "      <td>0.491586</td>\n",
              "      <td>-1.729423</td>\n",
              "    </tr>\n",
              "    <tr>\n",
              "      <th>4</th>\n",
              "      <td>0.736471</td>\n",
              "      <td>0.928721</td>\n",
              "      <td>0.705019</td>\n",
              "    </tr>\n",
              "  </tbody>\n",
              "</table>\n",
              "</div>"
            ],
            "text/plain": [
              "          u         v         f\n",
              "0  0.639427  0.642646 -0.590622\n",
              "1  0.025011  0.610704 -2.085069\n",
              "2  0.275029  0.683524 -0.651781\n",
              "3  0.223211  0.491586 -1.729423\n",
              "4  0.736471  0.928721  0.705019"
            ]
          },
          "metadata": {
            "tags": []
          },
          "execution_count": 28
        }
      ]
    },
    {
      "cell_type": "code",
      "metadata": {
        "colab": {
          "base_uri": "https://localhost:8080/",
          "height": 297
        },
        "id": "n5pL7wxSpYZE",
        "outputId": "e1ef77a0-ca81-4fe8-bae4-20cdee06dabb"
      },
      "source": [
        "df.describe()"
      ],
      "execution_count": 29,
      "outputs": [
        {
          "output_type": "execute_result",
          "data": {
            "text/html": [
              "<div>\n",
              "<style scoped>\n",
              "    .dataframe tbody tr th:only-of-type {\n",
              "        vertical-align: middle;\n",
              "    }\n",
              "\n",
              "    .dataframe tbody tr th {\n",
              "        vertical-align: top;\n",
              "    }\n",
              "\n",
              "    .dataframe thead th {\n",
              "        text-align: right;\n",
              "    }\n",
              "</style>\n",
              "<table border=\"1\" class=\"dataframe\">\n",
              "  <thead>\n",
              "    <tr style=\"text-align: right;\">\n",
              "      <th></th>\n",
              "      <th>u</th>\n",
              "      <th>v</th>\n",
              "      <th>f</th>\n",
              "    </tr>\n",
              "  </thead>\n",
              "  <tbody>\n",
              "    <tr>\n",
              "      <th>count</th>\n",
              "      <td>5000.000000</td>\n",
              "      <td>5000.000000</td>\n",
              "      <td>5000.000000</td>\n",
              "    </tr>\n",
              "    <tr>\n",
              "      <th>mean</th>\n",
              "      <td>0.500362</td>\n",
              "      <td>0.499396</td>\n",
              "      <td>0.006717</td>\n",
              "    </tr>\n",
              "    <tr>\n",
              "      <th>std</th>\n",
              "      <td>0.286224</td>\n",
              "      <td>0.288649</td>\n",
              "      <td>1.003104</td>\n",
              "    </tr>\n",
              "    <tr>\n",
              "      <th>min</th>\n",
              "      <td>0.000092</td>\n",
              "      <td>0.000192</td>\n",
              "      <td>-3.860128</td>\n",
              "    </tr>\n",
              "    <tr>\n",
              "      <th>25%</th>\n",
              "      <td>0.254061</td>\n",
              "      <td>0.248437</td>\n",
              "      <td>-0.673588</td>\n",
              "    </tr>\n",
              "    <tr>\n",
              "      <th>50%</th>\n",
              "      <td>0.504003</td>\n",
              "      <td>0.499891</td>\n",
              "      <td>-0.000175</td>\n",
              "    </tr>\n",
              "    <tr>\n",
              "      <th>75%</th>\n",
              "      <td>0.744678</td>\n",
              "      <td>0.749006</td>\n",
              "      <td>0.676654</td>\n",
              "    </tr>\n",
              "    <tr>\n",
              "      <th>max</th>\n",
              "      <td>0.999908</td>\n",
              "      <td>0.999840</td>\n",
              "      <td>3.946461</td>\n",
              "    </tr>\n",
              "  </tbody>\n",
              "</table>\n",
              "</div>"
            ],
            "text/plain": [
              "                 u            v            f\n",
              "count  5000.000000  5000.000000  5000.000000\n",
              "mean      0.500362     0.499396     0.006717\n",
              "std       0.286224     0.288649     1.003104\n",
              "min       0.000092     0.000192    -3.860128\n",
              "25%       0.254061     0.248437    -0.673588\n",
              "50%       0.504003     0.499891    -0.000175\n",
              "75%       0.744678     0.749006     0.676654\n",
              "max       0.999908     0.999840     3.946461"
            ]
          },
          "metadata": {
            "tags": []
          },
          "execution_count": 29
        }
      ]
    },
    {
      "cell_type": "code",
      "metadata": {
        "id": "IhmC_wHRJU0H",
        "colab": {
          "base_uri": "https://localhost:8080/"
        },
        "outputId": "2ad839db-b4a8-471e-b6cf-57d55645f7e9"
      },
      "source": [
        "df['f'].mean()"
      ],
      "execution_count": 30,
      "outputs": [
        {
          "output_type": "execute_result",
          "data": {
            "text/plain": [
              "0.006716899447271011"
            ]
          },
          "metadata": {
            "tags": []
          },
          "execution_count": 30
        }
      ]
    },
    {
      "cell_type": "code",
      "metadata": {
        "colab": {
          "base_uri": "https://localhost:8080/"
        },
        "id": "ufBmQF0Kg-nI",
        "outputId": "399199cb-cac7-4ea0-8434-f4d102ddf1b1"
      },
      "source": [
        "df['f'].std()"
      ],
      "execution_count": 31,
      "outputs": [
        {
          "output_type": "execute_result",
          "data": {
            "text/plain": [
              "1.0031039239188957"
            ]
          },
          "metadata": {
            "tags": []
          },
          "execution_count": 31
        }
      ]
    },
    {
      "cell_type": "code",
      "metadata": {
        "colab": {
          "base_uri": "https://localhost:8080/"
        },
        "id": "akjZdYuFlLXa",
        "outputId": "b1c246df-1cec-4746-f048-3e4e71a7cf82"
      },
      "source": [
        "fmean = np.sum(df.f)/ n\r\n",
        "fmean"
      ],
      "execution_count": 32,
      "outputs": [
        {
          "output_type": "execute_result",
          "data": {
            "text/plain": [
              "0.0067168994472709955"
            ]
          },
          "metadata": {
            "tags": []
          },
          "execution_count": 32
        }
      ]
    },
    {
      "cell_type": "code",
      "metadata": {
        "colab": {
          "base_uri": "https://localhost:8080/"
        },
        "id": "DG7LzPW_lrXa",
        "outputId": "a739e530-00e2-4a42-daa6-76c6cce1b400"
      },
      "source": [
        "fstdev = np.sqrt(np.sum((df.f-fmean)**2)/(n-1))\r\n",
        "fstdev"
      ],
      "execution_count": 33,
      "outputs": [
        {
          "output_type": "execute_result",
          "data": {
            "text/plain": [
              "1.003103923918896"
            ]
          },
          "metadata": {
            "tags": []
          },
          "execution_count": 33
        }
      ]
    },
    {
      "cell_type": "code",
      "metadata": {
        "colab": {
          "base_uri": "https://localhost:8080/"
        },
        "id": "eko-gd1iGRAW",
        "outputId": "bec7d9b6-0bb5-4c43-a177-32d2b54b9a4b"
      },
      "source": [
        "    print(\"The empirical mean of f = {} \".format(fmean))\r\n",
        "    print(\"The empirical std of f = {} \".format(fstdev))"
      ],
      "execution_count": 34,
      "outputs": [
        {
          "output_type": "stream",
          "text": [
            "The empirical mean of f = 0.0067168994472709955 \n",
            "The empirical std of f = 1.003103923918896 \n"
          ],
          "name": "stdout"
        }
      ]
    },
    {
      "cell_type": "code",
      "metadata": {
        "id": "mCDp3D0nqplf"
      },
      "source": [
        "def my_function(u, v, n=5000):\r\n",
        "    ulist=[]\r\n",
        "    vlist=[]\r\n",
        "    for u, v in enumerate(range(5000)):\r\n",
        "        u=random.uniform(0, 1)\r\n",
        "        v=np.random.uniform(0, 1)\r\n",
        "        ulist.append(u)\r\n",
        "        vlist.append(v)\r\n",
        "    ulist=pd.Series(ulist)\r\n",
        "    vlist=pd.Series(vlist)\r\n",
        "\r\n",
        "    df=pd.concat([ulist, vlist], axis=1)\r\n",
        "    df.columns = ['u', 'v']\r\n",
        "    df['f'] = df.apply(lambda row: np.sqrt(-2*np.log(row.u))*(np.cos(2*row.v*(np.pi))), axis = 1)\r\n",
        "    fmean = np.sum(my_list.f)/ n\r\n",
        "    fstdev = np.sqrt(np.sum((f-fmean)**2)/(n-1))\r\n",
        "    print(\"The empirical mean of f = %.5 and the empirical standard deviation of f = %.5\",fmean, fstdev)"
      ],
      "execution_count": 35,
      "outputs": []
    },
    {
      "cell_type": "markdown",
      "metadata": {
        "id": "qpyzp_mxsgyc"
      },
      "source": [
        "**Question 4.**\r\n",
        "\r\n",
        "Make a histogram of the tuple definedby the function f from the previous problem."
      ]
    },
    {
      "cell_type": "code",
      "metadata": {
        "colab": {
          "base_uri": "https://localhost:8080/",
          "height": 282
        },
        "id": "JZd7a889nj87",
        "outputId": "9de0f639-9563-424f-f523-00ae17f59800"
      },
      "source": [
        "df['f'].plot(kind='hist')\r\n"
      ],
      "execution_count": 36,
      "outputs": [
        {
          "output_type": "execute_result",
          "data": {
            "text/plain": [
              "<matplotlib.axes._subplots.AxesSubplot at 0x7f60c1202240>"
            ]
          },
          "metadata": {
            "tags": []
          },
          "execution_count": 36
        },
        {
          "output_type": "display_data",
          "data": {
            "image/png": "[encoded data removed]",
            "text/plain": [
              "<Figure size 432x288 with 1 Axes>"
            ]
          },
          "metadata": {
            "tags": [],
            "needs_background": "light"
          }
        }
      ]
    },
    {
      "cell_type": "code",
      "metadata": {
        "id": "c3_JZsA8sDNh"
      },
      "source": [
        ""
      ],
      "execution_count": null,
      "outputs": []
    }
  ]
}