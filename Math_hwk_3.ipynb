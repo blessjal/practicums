{
  "nbformat": 4,
  "nbformat_minor": 0,
  "metadata": {
    "colab": {
      "name": "Math_hwk_3.ipynb",
      "provenance": [],
      "authorship_tag": "ABX9TyMy0Sz/7psYmDwawOJlAdoY",
      "include_colab_link": true
    },
    "kernelspec": {
      "name": "python3",
      "display_name": "Python 3"
    }
  },
  "cells": [
    {
      "cell_type": "markdown",
      "metadata": {
        "id": "view-in-github",
        "colab_type": "text"
      },
      "source": [
        "<a href=\"https://colab.research.google.com/github/blessjal/practicums/blob/master/Math_hwk_3.ipynb\" target=\"_parent\"><img src=\"https://colab.research.google.com/assets/colab-badge.svg\" alt=\"Open In Colab\"/></a>"
      ]
    },
    {
      "cell_type": "markdown",
      "metadata": {
        "id": "d5_QfNuwGgzQ"
      },
      "source": [
        "**Math Homework Question 3**\r\n",
        "\r\n",
        " Let U and V be tuples (of size n) of uniformly distributed random numbers\r\n",
        "in (0,1). Say, U is generated using the random uniform method in the random module and V using numpy. Define a python function that returns a\r\n",
        "tuple performing element-wise the function f(u, v) = √\r\n",
        "−2 log u cos(2πv).\r\n",
        "What is the empirical mean and standard deviation of the tuple defined\r\n",
        "by f for tuples of size n = 5000."
      ]
    },
    {
      "cell_type": "code",
      "metadata": {
        "colab": {
          "base_uri": "https://localhost:8080/"
        },
        "id": "K9ZZBMMPGfY0",
        "outputId": "c957001b-84f2-4bc9-f2c1-3b21405e1c54"
      },
      "source": [
        "import random\r\n",
        "random.seed(42)\r\n",
        "\r\n",
        "u = random.uniform(0,1)\r\n",
        "print(\"Uniformly distributed random numbers between (0,1) using random package\")\r\n",
        "print('%.4f'%u)\r\n"
      ],
      "execution_count": 3,
      "outputs": [
        {
          "output_type": "stream",
          "text": [
            "Uniformly distributed random numbers between (0,1) using random package\n",
            "0.6394\n"
          ],
          "name": "stdout"
        }
      ]
    },
    {
      "cell_type": "code",
      "metadata": {
        "colab": {
          "base_uri": "https://localhost:8080/"
        },
        "id": "oiGj-fD7Hs1K",
        "outputId": "799c614f-46ad-4961-b5a8-001be83103fb"
      },
      "source": [
        "import numpy as np\r\n",
        "random.seed(42)\r\n",
        "\r\n",
        "v = np.random.uniform(0,1)\r\n",
        "print(\"Uniformly distributed random numbers between (0,1) using numpy\")\r\n",
        "print('%.4f'%v)"
      ],
      "execution_count": 4,
      "outputs": [
        {
          "output_type": "stream",
          "text": [
            "Uniformly distributed random numbers between (0,1) using numpy\n",
            "0.9889\n"
          ],
          "name": "stdout"
        }
      ]
    },
    {
      "cell_type": "code",
      "metadata": {
        "id": "4ppUf_q1xn2M"
      },
      "source": [
        "import math\r\n",
        "my_mean=0; my_stdev=1; n=5000\r\n",
        "u=random.uniform(my_mean,my_stdev)\r\n",
        "ulist=[]\r\n",
        "vlist=[]\r\n",
        "for u, v in enumerate(range(5000)):\r\n",
        "    u=random.uniform(my_mean,my_stdev)\r\n",
        "    v=np.random.uniform(0, 1)\r\n",
        "    ulist.append(u)\r\n",
        "    vlist.append(v)\r\n"
      ],
      "execution_count": 5,
      "outputs": []
    },
    {
      "cell_type": "code",
      "metadata": {
        "colab": {
          "base_uri": "https://localhost:8080/"
        },
        "id": "5ftBzFLGyihN",
        "outputId": "0d8ab6d9-409a-40ba-e1ef-112a254777ff"
      },
      "source": [
        "ulist[:10]"
      ],
      "execution_count": 6,
      "outputs": [
        {
          "output_type": "execute_result",
          "data": {
            "text/plain": [
              "[0.025010755222666936,\n",
              " 0.27502931836911926,\n",
              " 0.22321073814882275,\n",
              " 0.7364712141640124,\n",
              " 0.6766994874229113,\n",
              " 0.8921795677048454,\n",
              " 0.08693883262941615,\n",
              " 0.4219218196852704,\n",
              " 0.029797219438070344,\n",
              " 0.21863797480360336]"
            ]
          },
          "metadata": {
            "tags": []
          },
          "execution_count": 6
        }
      ]
    },
    {
      "cell_type": "code",
      "metadata": {
        "colab": {
          "base_uri": "https://localhost:8080/"
        },
        "id": "Y6ljA4usHvUW",
        "outputId": "408305b2-a8aa-4a56-b486-aad2aac8a09e"
      },
      "source": [
        "vlist[:10]"
      ],
      "execution_count": 7,
      "outputs": [
        {
          "output_type": "execute_result",
          "data": {
            "text/plain": [
              "[0.8812715511061188,\n",
              " 0.9941963442490697,\n",
              " 0.7783879428748727,\n",
              " 0.018847033500166144,\n",
              " 0.5118142960729684,\n",
              " 0.794271164929519,\n",
              " 0.3225230612686808,\n",
              " 0.3248244209275263,\n",
              " 0.7806809177849448,\n",
              " 0.8331966737985358]"
            ]
          },
          "metadata": {
            "tags": []
          },
          "execution_count": 7
        }
      ]
    },
    {
      "cell_type": "code",
      "metadata": {
        "colab": {
          "base_uri": "https://localhost:8080/",
          "height": 419
        },
        "id": "dsZCW6LXNCJz",
        "outputId": "c933e99b-1fd9-4f58-ef95-4c177209f699"
      },
      "source": [
        "import pandas as pd\r\n",
        "ulist=pd.Series(ulist)\r\n",
        "vlist=pd.Series(vlist)\r\n",
        "\r\n",
        "df=pd.concat([ulist, vlist], axis=1)\r\n",
        "df.columns = ['u', 'v']\r\n",
        "df"
      ],
      "execution_count": 57,
      "outputs": [
        {
          "output_type": "execute_result",
          "data": {
            "text/html": [
              "<div>\n",
              "<style scoped>\n",
              "    .dataframe tbody tr th:only-of-type {\n",
              "        vertical-align: middle;\n",
              "    }\n",
              "\n",
              "    .dataframe tbody tr th {\n",
              "        vertical-align: top;\n",
              "    }\n",
              "\n",
              "    .dataframe thead th {\n",
              "        text-align: right;\n",
              "    }\n",
              "</style>\n",
              "<table border=\"1\" class=\"dataframe\">\n",
              "  <thead>\n",
              "    <tr style=\"text-align: right;\">\n",
              "      <th></th>\n",
              "      <th>u</th>\n",
              "      <th>v</th>\n",
              "    </tr>\n",
              "  </thead>\n",
              "  <tbody>\n",
              "    <tr>\n",
              "      <th>0</th>\n",
              "      <td>0.025011</td>\n",
              "      <td>0.881272</td>\n",
              "    </tr>\n",
              "    <tr>\n",
              "      <th>1</th>\n",
              "      <td>0.275029</td>\n",
              "      <td>0.994196</td>\n",
              "    </tr>\n",
              "    <tr>\n",
              "      <th>2</th>\n",
              "      <td>0.223211</td>\n",
              "      <td>0.778388</td>\n",
              "    </tr>\n",
              "    <tr>\n",
              "      <th>3</th>\n",
              "      <td>0.736471</td>\n",
              "      <td>0.018847</td>\n",
              "    </tr>\n",
              "    <tr>\n",
              "      <th>4</th>\n",
              "      <td>0.676699</td>\n",
              "      <td>0.511814</td>\n",
              "    </tr>\n",
              "    <tr>\n",
              "      <th>...</th>\n",
              "      <td>...</td>\n",
              "      <td>...</td>\n",
              "    </tr>\n",
              "    <tr>\n",
              "      <th>4995</th>\n",
              "      <td>0.316489</td>\n",
              "      <td>0.501151</td>\n",
              "    </tr>\n",
              "    <tr>\n",
              "      <th>4996</th>\n",
              "      <td>0.525391</td>\n",
              "      <td>0.541897</td>\n",
              "    </tr>\n",
              "    <tr>\n",
              "      <th>4997</th>\n",
              "      <td>0.995024</td>\n",
              "      <td>0.093415</td>\n",
              "    </tr>\n",
              "    <tr>\n",
              "      <th>4998</th>\n",
              "      <td>0.353853</td>\n",
              "      <td>0.765404</td>\n",
              "    </tr>\n",
              "    <tr>\n",
              "      <th>4999</th>\n",
              "      <td>0.129713</td>\n",
              "      <td>0.948712</td>\n",
              "    </tr>\n",
              "  </tbody>\n",
              "</table>\n",
              "<p>5000 rows × 2 columns</p>\n",
              "</div>"
            ],
            "text/plain": [
              "             u         v\n",
              "0     0.025011  0.881272\n",
              "1     0.275029  0.994196\n",
              "2     0.223211  0.778388\n",
              "3     0.736471  0.018847\n",
              "4     0.676699  0.511814\n",
              "...        ...       ...\n",
              "4995  0.316489  0.501151\n",
              "4996  0.525391  0.541897\n",
              "4997  0.995024  0.093415\n",
              "4998  0.353853  0.765404\n",
              "4999  0.129713  0.948712\n",
              "\n",
              "[5000 rows x 2 columns]"
            ]
          },
          "metadata": {
            "tags": []
          },
          "execution_count": 57
        }
      ]
    },
    {
      "cell_type": "code",
      "metadata": {
        "colab": {
          "base_uri": "https://localhost:8080/",
          "height": 204
        },
        "id": "1p5z2SNdkRPh",
        "outputId": "86a574fe-acfe-4870-9882-7950da1b4fa7"
      },
      "source": [
        "df['f'] = df.apply(lambda row: np.sqrt(-2*np.log(row.u))*(np.cos(2*row.v*(np.pi))), axis = 1)\r\n",
        "df.head()"
      ],
      "execution_count": 60,
      "outputs": [
        {
          "output_type": "execute_result",
          "data": {
            "text/html": [
              "<div>\n",
              "<style scoped>\n",
              "    .dataframe tbody tr th:only-of-type {\n",
              "        vertical-align: middle;\n",
              "    }\n",
              "\n",
              "    .dataframe tbody tr th {\n",
              "        vertical-align: top;\n",
              "    }\n",
              "\n",
              "    .dataframe thead th {\n",
              "        text-align: right;\n",
              "    }\n",
              "</style>\n",
              "<table border=\"1\" class=\"dataframe\">\n",
              "  <thead>\n",
              "    <tr style=\"text-align: right;\">\n",
              "      <th></th>\n",
              "      <th>u</th>\n",
              "      <th>v</th>\n",
              "      <th>f</th>\n",
              "    </tr>\n",
              "  </thead>\n",
              "  <tbody>\n",
              "    <tr>\n",
              "      <th>0</th>\n",
              "      <td>0.025011</td>\n",
              "      <td>0.881272</td>\n",
              "      <td>1.994702</td>\n",
              "    </tr>\n",
              "    <tr>\n",
              "      <th>1</th>\n",
              "      <td>0.275029</td>\n",
              "      <td>0.994196</td>\n",
              "      <td>1.605716</td>\n",
              "    </tr>\n",
              "    <tr>\n",
              "      <th>2</th>\n",
              "      <td>0.223211</td>\n",
              "      <td>0.778388</td>\n",
              "      <td>0.307268</td>\n",
              "    </tr>\n",
              "    <tr>\n",
              "      <th>3</th>\n",
              "      <td>0.736471</td>\n",
              "      <td>0.018847</td>\n",
              "      <td>0.776680</td>\n",
              "    </tr>\n",
              "    <tr>\n",
              "      <th>4</th>\n",
              "      <td>0.676699</td>\n",
              "      <td>0.511814</td>\n",
              "      <td>-0.881340</td>\n",
              "    </tr>\n",
              "  </tbody>\n",
              "</table>\n",
              "</div>"
            ],
            "text/plain": [
              "          u         v         f\n",
              "0  0.025011  0.881272  1.994702\n",
              "1  0.275029  0.994196  1.605716\n",
              "2  0.223211  0.778388  0.307268\n",
              "3  0.736471  0.018847  0.776680\n",
              "4  0.676699  0.511814 -0.881340"
            ]
          },
          "metadata": {
            "tags": []
          },
          "execution_count": 60
        }
      ]
    },
    {
      "cell_type": "code",
      "metadata": {
        "colab": {
          "base_uri": "https://localhost:8080/",
          "height": 297
        },
        "id": "n5pL7wxSpYZE",
        "outputId": "11c55c7c-64ac-4040-86c2-36fa3047b3c3"
      },
      "source": [
        "df.describe()"
      ],
      "execution_count": 61,
      "outputs": [
        {
          "output_type": "execute_result",
          "data": {
            "text/html": [
              "<div>\n",
              "<style scoped>\n",
              "    .dataframe tbody tr th:only-of-type {\n",
              "        vertical-align: middle;\n",
              "    }\n",
              "\n",
              "    .dataframe tbody tr th {\n",
              "        vertical-align: top;\n",
              "    }\n",
              "\n",
              "    .dataframe thead th {\n",
              "        text-align: right;\n",
              "    }\n",
              "</style>\n",
              "<table border=\"1\" class=\"dataframe\">\n",
              "  <thead>\n",
              "    <tr style=\"text-align: right;\">\n",
              "      <th></th>\n",
              "      <th>u</th>\n",
              "      <th>v</th>\n",
              "      <th>f</th>\n",
              "    </tr>\n",
              "  </thead>\n",
              "  <tbody>\n",
              "    <tr>\n",
              "      <th>count</th>\n",
              "      <td>5000.000000</td>\n",
              "      <td>5000.000000</td>\n",
              "      <td>5000.000000</td>\n",
              "    </tr>\n",
              "    <tr>\n",
              "      <th>mean</th>\n",
              "      <td>0.500260</td>\n",
              "      <td>0.501704</td>\n",
              "      <td>-0.028487</td>\n",
              "    </tr>\n",
              "    <tr>\n",
              "      <th>std</th>\n",
              "      <td>0.286265</td>\n",
              "      <td>0.285573</td>\n",
              "      <td>0.998258</td>\n",
              "    </tr>\n",
              "    <tr>\n",
              "      <th>min</th>\n",
              "      <td>0.000092</td>\n",
              "      <td>0.000095</td>\n",
              "      <td>-3.458147</td>\n",
              "    </tr>\n",
              "    <tr>\n",
              "      <th>25%</th>\n",
              "      <td>0.253927</td>\n",
              "      <td>0.254778</td>\n",
              "      <td>-0.725295</td>\n",
              "    </tr>\n",
              "    <tr>\n",
              "      <th>50%</th>\n",
              "      <td>0.503895</td>\n",
              "      <td>0.497771</td>\n",
              "      <td>-0.024496</td>\n",
              "    </tr>\n",
              "    <tr>\n",
              "      <th>75%</th>\n",
              "      <td>0.744678</td>\n",
              "      <td>0.744806</td>\n",
              "      <td>0.647276</td>\n",
              "    </tr>\n",
              "    <tr>\n",
              "      <th>max</th>\n",
              "      <td>0.999908</td>\n",
              "      <td>0.999998</td>\n",
              "      <td>3.533009</td>\n",
              "    </tr>\n",
              "  </tbody>\n",
              "</table>\n",
              "</div>"
            ],
            "text/plain": [
              "                 u            v            f\n",
              "count  5000.000000  5000.000000  5000.000000\n",
              "mean      0.500260     0.501704    -0.028487\n",
              "std       0.286265     0.285573     0.998258\n",
              "min       0.000092     0.000095    -3.458147\n",
              "25%       0.253927     0.254778    -0.725295\n",
              "50%       0.503895     0.497771    -0.024496\n",
              "75%       0.744678     0.744806     0.647276\n",
              "max       0.999908     0.999998     3.533009"
            ]
          },
          "metadata": {
            "tags": []
          },
          "execution_count": 61
        }
      ]
    },
    {
      "cell_type": "code",
      "metadata": {
        "id": "IhmC_wHRJU0H",
        "colab": {
          "base_uri": "https://localhost:8080/"
        },
        "outputId": "c3bd9707-0ba2-4e79-ba35-db589eba72f1"
      },
      "source": [
        "df['f'].mean()"
      ],
      "execution_count": 64,
      "outputs": [
        {
          "output_type": "execute_result",
          "data": {
            "text/plain": [
              "-0.028487171876662682"
            ]
          },
          "metadata": {
            "tags": []
          },
          "execution_count": 64
        }
      ]
    },
    {
      "cell_type": "code",
      "metadata": {
        "colab": {
          "base_uri": "https://localhost:8080/"
        },
        "id": "ufBmQF0Kg-nI",
        "outputId": "95d59b4a-fd1a-466b-cdea-04d345a3fe60"
      },
      "source": [
        "df['f'].std()"
      ],
      "execution_count": 78,
      "outputs": [
        {
          "output_type": "execute_result",
          "data": {
            "text/plain": [
              "0.998257952874171"
            ]
          },
          "metadata": {
            "tags": []
          },
          "execution_count": 78
        }
      ]
    },
    {
      "cell_type": "code",
      "metadata": {
        "colab": {
          "base_uri": "https://localhost:8080/"
        },
        "id": "akjZdYuFlLXa",
        "outputId": "6d9dde94-f43c-4589-f48f-20ab9090618c"
      },
      "source": [
        "fmean = np.sum(my_list.f)/ n\r\n",
        "fmean"
      ],
      "execution_count": 66,
      "outputs": [
        {
          "output_type": "execute_result",
          "data": {
            "text/plain": [
              "-0.028487171876662786"
            ]
          },
          "metadata": {
            "tags": []
          },
          "execution_count": 66
        }
      ]
    },
    {
      "cell_type": "code",
      "metadata": {
        "colab": {
          "base_uri": "https://localhost:8080/"
        },
        "id": "DG7LzPW_lrXa",
        "outputId": "b15df455-4983-4347-f0e4-517ccc114a5e"
      },
      "source": [
        "fstdev = np.sqrt(np.sum((f-fmean)**2)/(n-1))\r\n",
        "fstdev"
      ],
      "execution_count": 80,
      "outputs": [
        {
          "output_type": "execute_result",
          "data": {
            "text/plain": [
              "0.027517014413880006"
            ]
          },
          "metadata": {
            "tags": []
          },
          "execution_count": 80
        }
      ]
    },
    {
      "cell_type": "code",
      "metadata": {
        "id": "mCDp3D0nqplf"
      },
      "source": [
        "def my_function(u, v, n=5000):\r\n",
        "    ulist=[]\r\n",
        "    vlist=[]\r\n",
        "    for u, v in enumerate(range(5000)):\r\n",
        "        u=random.uniform(0, 1)\r\n",
        "        v=np.random.uniform(0, 1)\r\n",
        "        ulist.append(u)\r\n",
        "        vlist.append(v)\r\n",
        "    ulist=pd.Series(ulist)\r\n",
        "    vlist=pd.Series(vlist)\r\n",
        "\r\n",
        "    df=pd.concat([ulist, vlist], axis=1)\r\n",
        "    df.columns = ['u', 'v']\r\n",
        "    df['f'] = df.apply(lambda row: np.sqrt(-2*np.log(row.u))*(np.cos(2*row.v*(np.pi))), axis = 1)\r\n",
        "    fmean = np.sum(my_list.f)/ n\r\n",
        "    fstdev = np.sqrt(np.sum((f-fmean)**2)/(n-1))\r\n",
        "    print(\"The empirical mean of f = %.5 and the empirical standard deviation of f = %.5\",fmean, fstdev)"
      ],
      "execution_count": 2,
      "outputs": []
    },
    {
      "cell_type": "markdown",
      "metadata": {
        "id": "qpyzp_mxsgyc"
      },
      "source": [
        "**Question 4.**\r\n",
        "\r\n",
        "Make a histogram of the tuple definedby the function f from the previous problem."
      ]
    },
    {
      "cell_type": "code",
      "metadata": {
        "colab": {
          "base_uri": "https://localhost:8080/",
          "height": 282
        },
        "id": "JZd7a889nj87",
        "outputId": "c5e26772-1e8c-4a70-9dfa-c9248b9569fa"
      },
      "source": [
        "df['f'].plot(kind='hist')\r\n"
      ],
      "execution_count": 77,
      "outputs": [
        {
          "output_type": "execute_result",
          "data": {
            "text/plain": [
              "<matplotlib.axes._subplots.AxesSubplot at 0x7f7d224120f0>"
            ]
          },
          "metadata": {
            "tags": []
          },
          "execution_count": 77
        },
        {
          "output_type": "display_data",
          "data": {
            "image/png": "[encoded data removed]",
            "text/plain": [
              "<Figure size 432x288 with 1 Axes>"
            ]
          },
          "metadata": {
            "tags": [],
            "needs_background": "light"
          }
        }
      ]
    },
    {
      "cell_type": "code",
      "metadata": {
        "id": "c3_JZsA8sDNh"
      },
      "source": [
        ""
      ],
      "execution_count": null,
      "outputs": []
    }
  ]
}