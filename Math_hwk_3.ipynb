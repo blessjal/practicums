{
  "nbformat": 4,
  "nbformat_minor": 0,
  "metadata": {
    "colab": {
      "name": "Math_hwk_3.ipynb",
      "provenance": [],
      "authorship_tag": "ABX9TyM/KVXU0zIc8Uo/cLd0c1B7",
      "include_colab_link": true
    },
    "kernelspec": {
      "name": "python3",
      "display_name": "Python 3"
    }
  },
  "cells": [
    {
      "cell_type": "markdown",
      "metadata": {
        "id": "view-in-github",
        "colab_type": "text"
      },
      "source": [
        "<a href=\"https://colab.research.google.com/github/blessjal/practicums/blob/master/Math_hwk_3.ipynb\" target=\"_parent\"><img src=\"https://colab.research.google.com/assets/colab-badge.svg\" alt=\"Open In Colab\"/></a>"
      ]
    },
    {
      "cell_type": "markdown",
      "metadata": {
        "id": "d5_QfNuwGgzQ"
      },
      "source": [
        "**Math Homework Question 3**\r\n",
        "\r\n",
        " Let U and V be tuples (of size n) of uniformly distributed random numbers\r\n",
        "in (0,1). Say, U is generated using the random uniform method in the random module and V using numpy. Define a python function that returns a\r\n",
        "tuple performing element-wise the function f(u, v) = √\r\n",
        "−2 log u cos(2πv).\r\n",
        "What is the empirical mean and standard deviation of the tuple defined\r\n",
        "by f for tuples of size n = 5000."
      ]
    },
    {
      "cell_type": "code",
      "metadata": {
        "id": "w-bdY08iFCag"
      },
      "source": [
        "import numpy as np\r\n",
        "import random\r\n",
        "import math\r\n",
        "import pandas as pd"
      ],
      "execution_count": 2,
      "outputs": []
    },
    {
      "cell_type": "code",
      "metadata": {
        "colab": {
          "base_uri": "https://localhost:8080/"
        },
        "id": "K9ZZBMMPGfY0",
        "outputId": "52eb7e3e-81c1-48d4-ba35-d470fdd9ddf6"
      },
      "source": [
        "\r\n",
        "random.seed(42)\r\n",
        "\r\n",
        "u = random.uniform(0,1)\r\n",
        "print(\"Uniformly distributed random numbers between (0,1) using random package\")\r\n",
        "print('%.4f'%u)\r\n"
      ],
      "execution_count": 3,
      "outputs": [
        {
          "output_type": "stream",
          "text": [
            "Uniformly distributed random numbers between (0,1) using random package\n",
            "0.6394\n"
          ],
          "name": "stdout"
        }
      ]
    },
    {
      "cell_type": "code",
      "metadata": {
        "colab": {
          "base_uri": "https://localhost:8080/"
        },
        "id": "oiGj-fD7Hs1K",
        "outputId": "5749e265-a76e-4c2a-e3f4-f96783ce27a4"
      },
      "source": [
        "\r\n",
        "random.seed(42)\r\n",
        "\r\n",
        "v = np.random.uniform(0,1)\r\n",
        "print(\"Uniformly distributed random numbers between (0,1) using numpy\")\r\n",
        "print('%.4f'%v)"
      ],
      "execution_count": 4,
      "outputs": [
        {
          "output_type": "stream",
          "text": [
            "Uniformly distributed random numbers between (0,1) using numpy\n",
            "0.9234\n"
          ],
          "name": "stdout"
        }
      ]
    },
    {
      "cell_type": "code",
      "metadata": {
        "id": "4ppUf_q1xn2M"
      },
      "source": [
        "\r\n",
        "random.seed(42)\r\n",
        "my_mean=0; my_stdev=1; n=5000\r\n",
        "u=random.uniform(my_mean,my_stdev)\r\n",
        "ulist=[]\r\n",
        "vlist=[]\r\n",
        "for u, v in enumerate(range(5000)):\r\n",
        "    u=random.uniform(my_mean,my_stdev)\r\n",
        "    v=np.random.uniform(0, 1)\r\n",
        "    ulist.append(u)\r\n",
        "    vlist.append(v)\r\n"
      ],
      "execution_count": 5,
      "outputs": []
    },
    {
      "cell_type": "code",
      "metadata": {
        "colab": {
          "base_uri": "https://localhost:8080/"
        },
        "id": "5ftBzFLGyihN",
        "outputId": "0d8ab6d9-409a-40ba-e1ef-112a254777ff"
      },
      "source": [
        "ulist[:10]"
      ],
      "execution_count": null,
      "outputs": [
        {
          "output_type": "execute_result",
          "data": {
            "text/plain": [
              "[0.025010755222666936,\n",
              " 0.27502931836911926,\n",
              " 0.22321073814882275,\n",
              " 0.7364712141640124,\n",
              " 0.6766994874229113,\n",
              " 0.8921795677048454,\n",
              " 0.08693883262941615,\n",
              " 0.4219218196852704,\n",
              " 0.029797219438070344,\n",
              " 0.21863797480360336]"
            ]
          },
          "metadata": {
            "tags": []
          },
          "execution_count": 6
        }
      ]
    },
    {
      "cell_type": "code",
      "metadata": {
        "colab": {
          "base_uri": "https://localhost:8080/"
        },
        "id": "Y6ljA4usHvUW",
        "outputId": "ee1bc36a-4a81-4e4e-ea15-3659a021f25b"
      },
      "source": [
        "vlist[:10]"
      ],
      "execution_count": 6,
      "outputs": [
        {
          "output_type": "execute_result",
          "data": {
            "text/plain": [
              "[0.5451570478524194,\n",
              " 0.3160862750222613,\n",
              " 0.09533879649025523,\n",
              " 0.6817997638835623,\n",
              " 0.9430143041682084,\n",
              " 0.5727357818881811,\n",
              " 0.43238643009163247,\n",
              " 0.8002790827211937,\n",
              " 0.6963869277994167,\n",
              " 0.8202077385580773]"
            ]
          },
          "metadata": {
            "tags": []
          },
          "execution_count": 6
        }
      ]
    },
    {
      "cell_type": "code",
      "metadata": {
        "colab": {
          "base_uri": "https://localhost:8080/",
          "height": 419
        },
        "id": "dsZCW6LXNCJz",
        "outputId": "f9245c13-0a21-42de-b9a3-5543f6800637"
      },
      "source": [
        "\r\n",
        "ulist=pd.Series(ulist)\r\n",
        "vlist=pd.Series(vlist)\r\n",
        "\r\n",
        "df=pd.concat([ulist, vlist], axis=1)\r\n",
        "df.columns = ['u', 'v']\r\n",
        "df"
      ],
      "execution_count": 7,
      "outputs": [
        {
          "output_type": "execute_result",
          "data": {
            "text/html": [
              "<div>\n",
              "<style scoped>\n",
              "    .dataframe tbody tr th:only-of-type {\n",
              "        vertical-align: middle;\n",
              "    }\n",
              "\n",
              "    .dataframe tbody tr th {\n",
              "        vertical-align: top;\n",
              "    }\n",
              "\n",
              "    .dataframe thead th {\n",
              "        text-align: right;\n",
              "    }\n",
              "</style>\n",
              "<table border=\"1\" class=\"dataframe\">\n",
              "  <thead>\n",
              "    <tr style=\"text-align: right;\">\n",
              "      <th></th>\n",
              "      <th>u</th>\n",
              "      <th>v</th>\n",
              "    </tr>\n",
              "  </thead>\n",
              "  <tbody>\n",
              "    <tr>\n",
              "      <th>0</th>\n",
              "      <td>0.025011</td>\n",
              "      <td>0.545157</td>\n",
              "    </tr>\n",
              "    <tr>\n",
              "      <th>1</th>\n",
              "      <td>0.275029</td>\n",
              "      <td>0.316086</td>\n",
              "    </tr>\n",
              "    <tr>\n",
              "      <th>2</th>\n",
              "      <td>0.223211</td>\n",
              "      <td>0.095339</td>\n",
              "    </tr>\n",
              "    <tr>\n",
              "      <th>3</th>\n",
              "      <td>0.736471</td>\n",
              "      <td>0.681800</td>\n",
              "    </tr>\n",
              "    <tr>\n",
              "      <th>4</th>\n",
              "      <td>0.676699</td>\n",
              "      <td>0.943014</td>\n",
              "    </tr>\n",
              "    <tr>\n",
              "      <th>...</th>\n",
              "      <td>...</td>\n",
              "      <td>...</td>\n",
              "    </tr>\n",
              "    <tr>\n",
              "      <th>4995</th>\n",
              "      <td>0.316489</td>\n",
              "      <td>0.035250</td>\n",
              "    </tr>\n",
              "    <tr>\n",
              "      <th>4996</th>\n",
              "      <td>0.525391</td>\n",
              "      <td>0.675644</td>\n",
              "    </tr>\n",
              "    <tr>\n",
              "      <th>4997</th>\n",
              "      <td>0.995024</td>\n",
              "      <td>0.075592</td>\n",
              "    </tr>\n",
              "    <tr>\n",
              "      <th>4998</th>\n",
              "      <td>0.353853</td>\n",
              "      <td>0.134439</td>\n",
              "    </tr>\n",
              "    <tr>\n",
              "      <th>4999</th>\n",
              "      <td>0.129713</td>\n",
              "      <td>0.680194</td>\n",
              "    </tr>\n",
              "  </tbody>\n",
              "</table>\n",
              "<p>5000 rows × 2 columns</p>\n",
              "</div>"
            ],
            "text/plain": [
              "             u         v\n",
              "0     0.025011  0.545157\n",
              "1     0.275029  0.316086\n",
              "2     0.223211  0.095339\n",
              "3     0.736471  0.681800\n",
              "4     0.676699  0.943014\n",
              "...        ...       ...\n",
              "4995  0.316489  0.035250\n",
              "4996  0.525391  0.675644\n",
              "4997  0.995024  0.075592\n",
              "4998  0.353853  0.134439\n",
              "4999  0.129713  0.680194\n",
              "\n",
              "[5000 rows x 2 columns]"
            ]
          },
          "metadata": {
            "tags": []
          },
          "execution_count": 7
        }
      ]
    },
    {
      "cell_type": "code",
      "metadata": {
        "colab": {
          "base_uri": "https://localhost:8080/",
          "height": 204
        },
        "id": "1p5z2SNdkRPh",
        "outputId": "236ec6dc-2ca3-4fdf-c186-929c403b198a"
      },
      "source": [
        "df['f'] = df.apply(lambda row: np.sqrt(-2*np.log(row.u))*(np.cos(2*row.v*(np.pi))), axis = 1)\r\n",
        "df.head()"
      ],
      "execution_count": 8,
      "outputs": [
        {
          "output_type": "execute_result",
          "data": {
            "text/html": [
              "<div>\n",
              "<style scoped>\n",
              "    .dataframe tbody tr th:only-of-type {\n",
              "        vertical-align: middle;\n",
              "    }\n",
              "\n",
              "    .dataframe tbody tr th {\n",
              "        vertical-align: top;\n",
              "    }\n",
              "\n",
              "    .dataframe thead th {\n",
              "        text-align: right;\n",
              "    }\n",
              "</style>\n",
              "<table border=\"1\" class=\"dataframe\">\n",
              "  <thead>\n",
              "    <tr style=\"text-align: right;\">\n",
              "      <th></th>\n",
              "      <th>u</th>\n",
              "      <th>v</th>\n",
              "      <th>f</th>\n",
              "    </tr>\n",
              "  </thead>\n",
              "  <tbody>\n",
              "    <tr>\n",
              "      <th>0</th>\n",
              "      <td>0.025011</td>\n",
              "      <td>0.545157</td>\n",
              "      <td>-2.607452</td>\n",
              "    </tr>\n",
              "    <tr>\n",
              "      <th>1</th>\n",
              "      <td>0.275029</td>\n",
              "      <td>0.316086</td>\n",
              "      <td>-0.648181</td>\n",
              "    </tr>\n",
              "    <tr>\n",
              "      <th>2</th>\n",
              "      <td>0.223211</td>\n",
              "      <td>0.095339</td>\n",
              "      <td>1.430298</td>\n",
              "    </tr>\n",
              "    <tr>\n",
              "      <th>3</th>\n",
              "      <td>0.736471</td>\n",
              "      <td>0.681800</td>\n",
              "      <td>-0.325002</td>\n",
              "    </tr>\n",
              "    <tr>\n",
              "      <th>4</th>\n",
              "      <td>0.676699</td>\n",
              "      <td>0.943014</td>\n",
              "      <td>0.827726</td>\n",
              "    </tr>\n",
              "  </tbody>\n",
              "</table>\n",
              "</div>"
            ],
            "text/plain": [
              "          u         v         f\n",
              "0  0.025011  0.545157 -2.607452\n",
              "1  0.275029  0.316086 -0.648181\n",
              "2  0.223211  0.095339  1.430298\n",
              "3  0.736471  0.681800 -0.325002\n",
              "4  0.676699  0.943014  0.827726"
            ]
          },
          "metadata": {
            "tags": []
          },
          "execution_count": 8
        }
      ]
    },
    {
      "cell_type": "code",
      "metadata": {
        "colab": {
          "base_uri": "https://localhost:8080/",
          "height": 297
        },
        "id": "n5pL7wxSpYZE",
        "outputId": "04ca744a-517d-4874-cbea-6743e568d306"
      },
      "source": [
        "df.describe()"
      ],
      "execution_count": 9,
      "outputs": [
        {
          "output_type": "execute_result",
          "data": {
            "text/html": [
              "<div>\n",
              "<style scoped>\n",
              "    .dataframe tbody tr th:only-of-type {\n",
              "        vertical-align: middle;\n",
              "    }\n",
              "\n",
              "    .dataframe tbody tr th {\n",
              "        vertical-align: top;\n",
              "    }\n",
              "\n",
              "    .dataframe thead th {\n",
              "        text-align: right;\n",
              "    }\n",
              "</style>\n",
              "<table border=\"1\" class=\"dataframe\">\n",
              "  <thead>\n",
              "    <tr style=\"text-align: right;\">\n",
              "      <th></th>\n",
              "      <th>u</th>\n",
              "      <th>v</th>\n",
              "      <th>f</th>\n",
              "    </tr>\n",
              "  </thead>\n",
              "  <tbody>\n",
              "    <tr>\n",
              "      <th>count</th>\n",
              "      <td>5000.000000</td>\n",
              "      <td>5000.000000</td>\n",
              "      <td>5000.000000</td>\n",
              "    </tr>\n",
              "    <tr>\n",
              "      <th>mean</th>\n",
              "      <td>0.500260</td>\n",
              "      <td>0.496165</td>\n",
              "      <td>-0.007051</td>\n",
              "    </tr>\n",
              "    <tr>\n",
              "      <th>std</th>\n",
              "      <td>0.286265</td>\n",
              "      <td>0.287417</td>\n",
              "      <td>0.994014</td>\n",
              "    </tr>\n",
              "    <tr>\n",
              "      <th>min</th>\n",
              "      <td>0.000092</td>\n",
              "      <td>0.000503</td>\n",
              "      <td>-3.664531</td>\n",
              "    </tr>\n",
              "    <tr>\n",
              "      <th>25%</th>\n",
              "      <td>0.253927</td>\n",
              "      <td>0.250017</td>\n",
              "      <td>-0.684308</td>\n",
              "    </tr>\n",
              "    <tr>\n",
              "      <th>50%</th>\n",
              "      <td>0.503895</td>\n",
              "      <td>0.498459</td>\n",
              "      <td>-0.019860</td>\n",
              "    </tr>\n",
              "    <tr>\n",
              "      <th>75%</th>\n",
              "      <td>0.744678</td>\n",
              "      <td>0.742145</td>\n",
              "      <td>0.663738</td>\n",
              "    </tr>\n",
              "    <tr>\n",
              "      <th>max</th>\n",
              "      <td>0.999908</td>\n",
              "      <td>0.999994</td>\n",
              "      <td>3.624335</td>\n",
              "    </tr>\n",
              "  </tbody>\n",
              "</table>\n",
              "</div>"
            ],
            "text/plain": [
              "                 u            v            f\n",
              "count  5000.000000  5000.000000  5000.000000\n",
              "mean      0.500260     0.496165    -0.007051\n",
              "std       0.286265     0.287417     0.994014\n",
              "min       0.000092     0.000503    -3.664531\n",
              "25%       0.253927     0.250017    -0.684308\n",
              "50%       0.503895     0.498459    -0.019860\n",
              "75%       0.744678     0.742145     0.663738\n",
              "max       0.999908     0.999994     3.624335"
            ]
          },
          "metadata": {
            "tags": []
          },
          "execution_count": 9
        }
      ]
    },
    {
      "cell_type": "code",
      "metadata": {
        "id": "IhmC_wHRJU0H",
        "colab": {
          "base_uri": "https://localhost:8080/"
        },
        "outputId": "57d8481c-601d-46ac-b274-92b50e81dfb6"
      },
      "source": [
        "df['f'].mean()"
      ],
      "execution_count": 10,
      "outputs": [
        {
          "output_type": "execute_result",
          "data": {
            "text/plain": [
              "-0.007050581660694322"
            ]
          },
          "metadata": {
            "tags": []
          },
          "execution_count": 10
        }
      ]
    },
    {
      "cell_type": "code",
      "metadata": {
        "colab": {
          "base_uri": "https://localhost:8080/"
        },
        "id": "ufBmQF0Kg-nI",
        "outputId": "53c5c1fb-303f-450e-d98d-02ee97723832"
      },
      "source": [
        "df['f'].std()"
      ],
      "execution_count": 11,
      "outputs": [
        {
          "output_type": "execute_result",
          "data": {
            "text/plain": [
              "0.9940137541062017"
            ]
          },
          "metadata": {
            "tags": []
          },
          "execution_count": 11
        }
      ]
    },
    {
      "cell_type": "code",
      "metadata": {
        "colab": {
          "base_uri": "https://localhost:8080/"
        },
        "id": "akjZdYuFlLXa",
        "outputId": "3992fd06-f4d6-4596-d8d1-1e5591981a1d"
      },
      "source": [
        "fmean = np.sum(df.f)/ n\r\n",
        "fmean"
      ],
      "execution_count": 13,
      "outputs": [
        {
          "output_type": "execute_result",
          "data": {
            "text/plain": [
              "-0.00705058166069426"
            ]
          },
          "metadata": {
            "tags": []
          },
          "execution_count": 13
        }
      ]
    },
    {
      "cell_type": "code",
      "metadata": {
        "colab": {
          "base_uri": "https://localhost:8080/"
        },
        "id": "DG7LzPW_lrXa",
        "outputId": "561f4ac3-24d7-4f9a-9236-3c540a79c200"
      },
      "source": [
        "fstdev = np.sqrt(np.sum((df.f-fmean)**2)/(n-1))\r\n",
        "fstdev"
      ],
      "execution_count": 15,
      "outputs": [
        {
          "output_type": "execute_result",
          "data": {
            "text/plain": [
              "0.9940137541062019"
            ]
          },
          "metadata": {
            "tags": []
          },
          "execution_count": 15
        }
      ]
    },
    {
      "cell_type": "code",
      "metadata": {
        "colab": {
          "base_uri": "https://localhost:8080/"
        },
        "id": "eko-gd1iGRAW",
        "outputId": "da20358d-424d-410c-c362-6dc2eda7b770"
      },
      "source": [
        "    print(\"The empirical mean of f = {} \".format(fmean))\r\n",
        "    print(\"The empirical std of f = {} \".format(fstdev))"
      ],
      "execution_count": 22,
      "outputs": [
        {
          "output_type": "stream",
          "text": [
            "The empirical mean of f = -0.00705058166069426 \n",
            "The empirical std of f = 0.9940137541062019 \n"
          ],
          "name": "stdout"
        }
      ]
    },
    {
      "cell_type": "code",
      "metadata": {
        "id": "mCDp3D0nqplf"
      },
      "source": [
        "def my_function(u, v, n=5000):\r\n",
        "    ulist=[]\r\n",
        "    vlist=[]\r\n",
        "    for u, v in enumerate(range(5000)):\r\n",
        "        u=random.uniform(0, 1)\r\n",
        "        v=np.random.uniform(0, 1)\r\n",
        "        ulist.append(u)\r\n",
        "        vlist.append(v)\r\n",
        "    ulist=pd.Series(ulist)\r\n",
        "    vlist=pd.Series(vlist)\r\n",
        "\r\n",
        "    df=pd.concat([ulist, vlist], axis=1)\r\n",
        "    df.columns = ['u', 'v']\r\n",
        "    df['f'] = df.apply(lambda row: np.sqrt(-2*np.log(row.u))*(np.cos(2*row.v*(np.pi))), axis = 1)\r\n",
        "    fmean = np.sum(my_list.f)/ n\r\n",
        "    fstdev = np.sqrt(np.sum((f-fmean)**2)/(n-1))\r\n",
        "    print(\"The empirical mean of f = %.5 and the empirical standard deviation of f = %.5\",fmean, fstdev)"
      ],
      "execution_count": null,
      "outputs": []
    },
    {
      "cell_type": "markdown",
      "metadata": {
        "id": "qpyzp_mxsgyc"
      },
      "source": [
        "**Question 4.**\r\n",
        "\r\n",
        "Make a histogram of the tuple definedby the function f from the previous problem."
      ]
    },
    {
      "cell_type": "code",
      "metadata": {
        "colab": {
          "base_uri": "https://localhost:8080/",
          "height": 282
        },
        "id": "JZd7a889nj87",
        "outputId": "c5e26772-1e8c-4a70-9dfa-c9248b9569fa"
      },
      "source": [
        "df['f'].plot(kind='hist')\r\n"
      ],
      "execution_count": null,
      "outputs": [
        {
          "output_type": "execute_result",
          "data": {
            "text/plain": [
              "<matplotlib.axes._subplots.AxesSubplot at 0x7f7d224120f0>"
            ]
          },
          "metadata": {
            "tags": []
          },
          "execution_count": 77
        },
        {
          "output_type": "display_data",
          "data": {
            "image/png": "[encoded data removed]",
            "text/plain": [
              "<Figure size 432x288 with 1 Axes>"
            ]
          },
          "metadata": {
            "tags": [],
            "needs_background": "light"
          }
        }
      ]
    },
    {
      "cell_type": "code",
      "metadata": {
        "id": "c3_JZsA8sDNh"
      },
      "source": [
        ""
      ],
      "execution_count": null,
      "outputs": []
    }
  ]
}