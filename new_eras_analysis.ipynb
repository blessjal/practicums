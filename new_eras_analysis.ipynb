{
  "nbformat": 4,
  "nbformat_minor": 0,
  "metadata": {
    "colab": {
      "name": "new_eras_analysis.ipynb",
      "provenance": [],
      "collapsed_sections": [],
      "authorship_tag": "ABX9TyMLNgSETqEk1uzUcbxTtsRc",
      "include_colab_link": true
    },
    "kernelspec": {
      "name": "python3",
      "display_name": "Python 3"
    }
  },
  "cells": [
    {
      "cell_type": "markdown",
      "metadata": {
        "id": "view-in-github",
        "colab_type": "text"
      },
      "source": [
        "<a href=\"https://colab.research.google.com/github/blessjal/practicums/blob/master/new_eras_analysis.ipynb\" target=\"_parent\"><img src=\"https://colab.research.google.com/assets/colab-badge.svg\" alt=\"Open In Colab\"/></a>"
      ]
    },
    {
      "cell_type": "code",
      "metadata": {
        "id": "NEw75eE5Hj4b"
      },
      "source": [
        "import pandas as pd\r\n",
        "import numpy as np\r\n",
        "import matplotlib.pyplot as plt\r\n",
        "import seaborn as sns\r\n",
        "\r\n",
        "%matplotlib inline\r\n",
        "plt.style.use('ggplot')"
      ],
      "execution_count": 1,
      "outputs": []
    },
    {
      "cell_type": "code",
      "metadata": {
        "colab": {
          "base_uri": "https://localhost:8080/",
          "height": 407
        },
        "id": "l5XgVYoNIKAF",
        "outputId": "6feb746f-43b7-4045-bfd4-8cc4f58844b4"
      },
      "source": [
        "df = pd.read_excel('/content/sample_data/new_eras_data.xlsx')\r\n",
        "\r\n",
        "df.head()"
      ],
      "execution_count": 2,
      "outputs": [
        {
          "output_type": "execute_result",
          "data": {
            "text/html": [
              "<div>\n",
              "<style scoped>\n",
              "    .dataframe tbody tr th:only-of-type {\n",
              "        vertical-align: middle;\n",
              "    }\n",
              "\n",
              "    .dataframe tbody tr th {\n",
              "        vertical-align: top;\n",
              "    }\n",
              "\n",
              "    .dataframe thead th {\n",
              "        text-align: right;\n",
              "    }\n",
              "</style>\n",
              "<table border=\"1\" class=\"dataframe\">\n",
              "  <thead>\n",
              "    <tr style=\"text-align: right;\">\n",
              "      <th></th>\n",
              "      <th>masked_patient_id</th>\n",
              "      <th>Age</th>\n",
              "      <th>sex</th>\n",
              "      <th>race</th>\n",
              "      <th>admission_date</th>\n",
              "      <th>discharge_date</th>\n",
              "      <th>date_of_surgery</th>\n",
              "      <th>proc_codes</th>\n",
              "      <th>proc_code_desc</th>\n",
              "      <th>length_of_stay</th>\n",
              "      <th>benign_disease</th>\n",
              "      <th>malignant_disease</th>\n",
              "      <th>diabetes_mellitus</th>\n",
              "      <th>COPD_or_asthma_or_emphysema</th>\n",
              "      <th>Congestive_heart_failure</th>\n",
              "      <th>Obesity_comorb</th>\n",
              "      <th>Tobacco_abuse</th>\n",
              "      <th>chronic_kidney_disease</th>\n",
              "      <th>chronic_steroid_use</th>\n",
              "      <th>chronic_constipation</th>\n",
              "      <th>hemoglobin_yn</th>\n",
              "      <th>hemoglobin_result_value</th>\n",
              "      <th>hemoglobin_result_unit</th>\n",
              "      <th>hematocrit_yn</th>\n",
              "      <th>hematocrit_result_value</th>\n",
              "      <th>hematocrit_result_unit</th>\n",
              "      <th>albumin_yn</th>\n",
              "      <th>albumin_result_value</th>\n",
              "      <th>albumin_result_unit</th>\n",
              "      <th>prealbumin_yn</th>\n",
              "      <th>prealbumin_result_value</th>\n",
              "      <th>prealbumin_result_unit</th>\n",
              "      <th>mu_opioid_antagonist_yn</th>\n",
              "      <th>epidurals_yn</th>\n",
              "      <th>BMI</th>\n",
              "      <th>ostomy_teaching</th>\n",
              "      <th>Tot_bloodloss</th>\n",
              "      <th>urinary_retention</th>\n",
              "      <th>tapblock_yn</th>\n",
              "      <th>avg_painscore</th>\n",
              "      <th>...</th>\n",
              "      <th>anastomoticleak_yn</th>\n",
              "      <th>Fentanyl_Transdermal_mcg</th>\n",
              "      <th>Fentanyl_Transdermal_mcg_mme</th>\n",
              "      <th>Fentanyl_Epidural_mcg</th>\n",
              "      <th>Fentanyl_Epidural_mcg_mme</th>\n",
              "      <th>Fentanyl_IV_mcg</th>\n",
              "      <th>Fentanyl_IV_mcg_mme</th>\n",
              "      <th>Hydrocodone_po_mg</th>\n",
              "      <th>Hydrocodone_po_mg_mme</th>\n",
              "      <th>hydromorphone_po_mg</th>\n",
              "      <th>hydromorphone_po_mg_mme</th>\n",
              "      <th>hydromorphone_Epidural_mg</th>\n",
              "      <th>hydromorphone_Epidural_mg_mme</th>\n",
              "      <th>hydromorphone_IV_mg</th>\n",
              "      <th>hydromorphone_IV_mg_mme</th>\n",
              "      <th>meperidine_po_mg</th>\n",
              "      <th>meperidine_po_mg_mme</th>\n",
              "      <th>meperidine_IV_mg</th>\n",
              "      <th>meperidine_IV_mg_mme</th>\n",
              "      <th>methadone_po_mg</th>\n",
              "      <th>methadone_po_mg_mme</th>\n",
              "      <th>methadone_IV_mg</th>\n",
              "      <th>methadone_IV_mg_mme</th>\n",
              "      <th>morphine_ER_po_mg</th>\n",
              "      <th>morphine_IV_mg</th>\n",
              "      <th>morphine_IV_mg_mme</th>\n",
              "      <th>morphine_po_mg</th>\n",
              "      <th>nalbuphine_iv_mg</th>\n",
              "      <th>nalbuphine_iv_mg_mme</th>\n",
              "      <th>oxycodone_ER_mg</th>\n",
              "      <th>oxycodone_ER_mg_mme</th>\n",
              "      <th>oxycodone_po_mg</th>\n",
              "      <th>oxycodone_po_mg_mme</th>\n",
              "      <th>oxymorphone_ER_po_mg</th>\n",
              "      <th>oxymorphone_ER_po_mg_mme</th>\n",
              "      <th>tramadol_po_mg</th>\n",
              "      <th>tramadol_po_mg_mme</th>\n",
              "      <th>redmission_30day_yn</th>\n",
              "      <th>Unnamed: 79</th>\n",
              "      <th>Total MME</th>\n",
              "    </tr>\n",
              "  </thead>\n",
              "  <tbody>\n",
              "    <tr>\n",
              "      <th>0</th>\n",
              "      <td>720</td>\n",
              "      <td>42</td>\n",
              "      <td>Male</td>\n",
              "      <td>Unknown</td>\n",
              "      <td>2017-10-02 09:05:00</td>\n",
              "      <td>2017-10-09 11:02:00</td>\n",
              "      <td>2017-10-02 09:05:00</td>\n",
              "      <td>45397</td>\n",
              "      <td>PR LAP, SURG PROCTECTOMY W J-POUCH</td>\n",
              "      <td>7</td>\n",
              "      <td>Y</td>\n",
              "      <td>Y</td>\n",
              "      <td>N</td>\n",
              "      <td>N</td>\n",
              "      <td>N</td>\n",
              "      <td>N</td>\n",
              "      <td>N</td>\n",
              "      <td>N</td>\n",
              "      <td>N</td>\n",
              "      <td>N</td>\n",
              "      <td>Y</td>\n",
              "      <td>14.2</td>\n",
              "      <td>g/dL</td>\n",
              "      <td>Y</td>\n",
              "      <td>42.0</td>\n",
              "      <td>%</td>\n",
              "      <td>N</td>\n",
              "      <td>NaN</td>\n",
              "      <td>NaN</td>\n",
              "      <td>N</td>\n",
              "      <td>NaN</td>\n",
              "      <td>NaN</td>\n",
              "      <td>N</td>\n",
              "      <td>N</td>\n",
              "      <td>27.13</td>\n",
              "      <td>N</td>\n",
              "      <td>NaN</td>\n",
              "      <td>N</td>\n",
              "      <td>N</td>\n",
              "      <td>2.0</td>\n",
              "      <td>...</td>\n",
              "      <td>N</td>\n",
              "      <td>0</td>\n",
              "      <td>0.0</td>\n",
              "      <td>0</td>\n",
              "      <td>0.0</td>\n",
              "      <td>300.0</td>\n",
              "      <td>30.0</td>\n",
              "      <td>0.0</td>\n",
              "      <td>0.0</td>\n",
              "      <td>0</td>\n",
              "      <td>0</td>\n",
              "      <td>0</td>\n",
              "      <td>0</td>\n",
              "      <td>0.5</td>\n",
              "      <td>10</td>\n",
              "      <td>0</td>\n",
              "      <td>0</td>\n",
              "      <td>0.0</td>\n",
              "      <td>0.0</td>\n",
              "      <td>0.0</td>\n",
              "      <td>0.0</td>\n",
              "      <td>0</td>\n",
              "      <td>0</td>\n",
              "      <td>0</td>\n",
              "      <td>0.0</td>\n",
              "      <td>0.0</td>\n",
              "      <td>0</td>\n",
              "      <td>0.0</td>\n",
              "      <td>0.0</td>\n",
              "      <td>0</td>\n",
              "      <td>0.0</td>\n",
              "      <td>20.0</td>\n",
              "      <td>30.0</td>\n",
              "      <td>0</td>\n",
              "      <td>0</td>\n",
              "      <td>0</td>\n",
              "      <td>0.0</td>\n",
              "      <td>Y</td>\n",
              "      <td>NaN</td>\n",
              "      <td>390.5</td>\n",
              "    </tr>\n",
              "    <tr>\n",
              "      <th>1</th>\n",
              "      <td>845</td>\n",
              "      <td>68</td>\n",
              "      <td>Male</td>\n",
              "      <td>White</td>\n",
              "      <td>2014-05-24 18:07:00</td>\n",
              "      <td>2014-06-28 12:17:00</td>\n",
              "      <td>2014-05-24 18:07:00</td>\n",
              "      <td>44160, 44160</td>\n",
              "      <td>PR REMVL COLON &amp; TERM ILEUM W/ILEOCOLOSTOMY, ...</td>\n",
              "      <td>35</td>\n",
              "      <td>Y</td>\n",
              "      <td>N</td>\n",
              "      <td>Y</td>\n",
              "      <td>Y</td>\n",
              "      <td>Y</td>\n",
              "      <td>N</td>\n",
              "      <td>N</td>\n",
              "      <td>Y</td>\n",
              "      <td>N</td>\n",
              "      <td>Y</td>\n",
              "      <td>Y</td>\n",
              "      <td>7.8</td>\n",
              "      <td>g/dL</td>\n",
              "      <td>Y</td>\n",
              "      <td>24.7</td>\n",
              "      <td>%</td>\n",
              "      <td>Y</td>\n",
              "      <td>1.8</td>\n",
              "      <td>g/dL</td>\n",
              "      <td>Y</td>\n",
              "      <td>10.8</td>\n",
              "      <td>mg/dl</td>\n",
              "      <td>N</td>\n",
              "      <td>N</td>\n",
              "      <td>43.96</td>\n",
              "      <td>N</td>\n",
              "      <td>NaN</td>\n",
              "      <td>N</td>\n",
              "      <td>N</td>\n",
              "      <td>4.0</td>\n",
              "      <td>...</td>\n",
              "      <td>N</td>\n",
              "      <td>0</td>\n",
              "      <td>0.0</td>\n",
              "      <td>0</td>\n",
              "      <td>0.0</td>\n",
              "      <td>700.0</td>\n",
              "      <td>70.0</td>\n",
              "      <td>0.0</td>\n",
              "      <td>0.0</td>\n",
              "      <td>0</td>\n",
              "      <td>0</td>\n",
              "      <td>0</td>\n",
              "      <td>0</td>\n",
              "      <td>0.0</td>\n",
              "      <td>0</td>\n",
              "      <td>0</td>\n",
              "      <td>0</td>\n",
              "      <td>0.0</td>\n",
              "      <td>0.0</td>\n",
              "      <td>0.0</td>\n",
              "      <td>0.0</td>\n",
              "      <td>0</td>\n",
              "      <td>0</td>\n",
              "      <td>0</td>\n",
              "      <td>20.0</td>\n",
              "      <td>60.0</td>\n",
              "      <td>0</td>\n",
              "      <td>0.0</td>\n",
              "      <td>0.0</td>\n",
              "      <td>0</td>\n",
              "      <td>0.0</td>\n",
              "      <td>765.0</td>\n",
              "      <td>1147.5</td>\n",
              "      <td>0</td>\n",
              "      <td>0</td>\n",
              "      <td>0</td>\n",
              "      <td>0.0</td>\n",
              "      <td>Y</td>\n",
              "      <td>NaN</td>\n",
              "      <td>2762.5</td>\n",
              "    </tr>\n",
              "    <tr>\n",
              "      <th>2</th>\n",
              "      <td>1286</td>\n",
              "      <td>62</td>\n",
              "      <td>Male</td>\n",
              "      <td>White</td>\n",
              "      <td>2019-01-11 05:29:00</td>\n",
              "      <td>2019-01-16 11:59:00</td>\n",
              "      <td>2019-01-11 05:29:00</td>\n",
              "      <td>44207, 44213</td>\n",
              "      <td>PR LAP,SURG,COLECTOMY,W/ANAST, PR LAP, SURG M...</td>\n",
              "      <td>5</td>\n",
              "      <td>Y</td>\n",
              "      <td>N</td>\n",
              "      <td>Y</td>\n",
              "      <td>N</td>\n",
              "      <td>N</td>\n",
              "      <td>N</td>\n",
              "      <td>N</td>\n",
              "      <td>N</td>\n",
              "      <td>N</td>\n",
              "      <td>N</td>\n",
              "      <td>Y</td>\n",
              "      <td>14.8</td>\n",
              "      <td>g/dL</td>\n",
              "      <td>Y</td>\n",
              "      <td>42.8</td>\n",
              "      <td>%</td>\n",
              "      <td>N</td>\n",
              "      <td>NaN</td>\n",
              "      <td>NaN</td>\n",
              "      <td>N</td>\n",
              "      <td>NaN</td>\n",
              "      <td>NaN</td>\n",
              "      <td>N</td>\n",
              "      <td>N</td>\n",
              "      <td>26.49</td>\n",
              "      <td>N</td>\n",
              "      <td>NaN</td>\n",
              "      <td>N</td>\n",
              "      <td>N</td>\n",
              "      <td>5.0</td>\n",
              "      <td>...</td>\n",
              "      <td>N</td>\n",
              "      <td>0</td>\n",
              "      <td>0.0</td>\n",
              "      <td>0</td>\n",
              "      <td>0.0</td>\n",
              "      <td>350.0</td>\n",
              "      <td>35.0</td>\n",
              "      <td>0.0</td>\n",
              "      <td>0.0</td>\n",
              "      <td>0</td>\n",
              "      <td>0</td>\n",
              "      <td>0</td>\n",
              "      <td>0</td>\n",
              "      <td>0.0</td>\n",
              "      <td>0</td>\n",
              "      <td>0</td>\n",
              "      <td>0</td>\n",
              "      <td>0.0</td>\n",
              "      <td>0.0</td>\n",
              "      <td>0.0</td>\n",
              "      <td>0.0</td>\n",
              "      <td>0</td>\n",
              "      <td>0</td>\n",
              "      <td>0</td>\n",
              "      <td>0.0</td>\n",
              "      <td>0.0</td>\n",
              "      <td>0</td>\n",
              "      <td>0.0</td>\n",
              "      <td>0.0</td>\n",
              "      <td>0</td>\n",
              "      <td>0.0</td>\n",
              "      <td>50.0</td>\n",
              "      <td>75.0</td>\n",
              "      <td>0</td>\n",
              "      <td>0</td>\n",
              "      <td>0</td>\n",
              "      <td>0.0</td>\n",
              "      <td>N</td>\n",
              "      <td>NaN</td>\n",
              "      <td>510.0</td>\n",
              "    </tr>\n",
              "    <tr>\n",
              "      <th>3</th>\n",
              "      <td>2111</td>\n",
              "      <td>65</td>\n",
              "      <td>Male</td>\n",
              "      <td>Black or African American</td>\n",
              "      <td>2018-05-14 08:10:00</td>\n",
              "      <td>2018-05-30 14:12:00</td>\n",
              "      <td>2018-05-14 08:10:00</td>\n",
              "      <td>44210</td>\n",
              "      <td>PR LAP,SURG,COLECTOMY,TOTAL,W/O PROCTECTOMY</td>\n",
              "      <td>16</td>\n",
              "      <td>Y</td>\n",
              "      <td>N</td>\n",
              "      <td>Y</td>\n",
              "      <td>Y</td>\n",
              "      <td>Y</td>\n",
              "      <td>N</td>\n",
              "      <td>N</td>\n",
              "      <td>N</td>\n",
              "      <td>N</td>\n",
              "      <td>N</td>\n",
              "      <td>Y</td>\n",
              "      <td>8.4</td>\n",
              "      <td>g/dL</td>\n",
              "      <td>Y</td>\n",
              "      <td>26.8</td>\n",
              "      <td>%</td>\n",
              "      <td>Y</td>\n",
              "      <td>3.3</td>\n",
              "      <td>g/dL</td>\n",
              "      <td>N</td>\n",
              "      <td>NaN</td>\n",
              "      <td>NaN</td>\n",
              "      <td>N</td>\n",
              "      <td>N</td>\n",
              "      <td>31.50</td>\n",
              "      <td>Y</td>\n",
              "      <td>NaN</td>\n",
              "      <td>N</td>\n",
              "      <td>Y</td>\n",
              "      <td>3.0</td>\n",
              "      <td>...</td>\n",
              "      <td>Y</td>\n",
              "      <td>0</td>\n",
              "      <td>0.0</td>\n",
              "      <td>0</td>\n",
              "      <td>0.0</td>\n",
              "      <td>575.0</td>\n",
              "      <td>57.5</td>\n",
              "      <td>0.0</td>\n",
              "      <td>0.0</td>\n",
              "      <td>0</td>\n",
              "      <td>0</td>\n",
              "      <td>0</td>\n",
              "      <td>0</td>\n",
              "      <td>0.5</td>\n",
              "      <td>10</td>\n",
              "      <td>0</td>\n",
              "      <td>0</td>\n",
              "      <td>0.0</td>\n",
              "      <td>0.0</td>\n",
              "      <td>0.0</td>\n",
              "      <td>0.0</td>\n",
              "      <td>0</td>\n",
              "      <td>0</td>\n",
              "      <td>0</td>\n",
              "      <td>0.0</td>\n",
              "      <td>0.0</td>\n",
              "      <td>0</td>\n",
              "      <td>0.0</td>\n",
              "      <td>0.0</td>\n",
              "      <td>0</td>\n",
              "      <td>0.0</td>\n",
              "      <td>50.0</td>\n",
              "      <td>75.0</td>\n",
              "      <td>0</td>\n",
              "      <td>0</td>\n",
              "      <td>50</td>\n",
              "      <td>5.0</td>\n",
              "      <td>N</td>\n",
              "      <td>NaN</td>\n",
              "      <td>823.0</td>\n",
              "    </tr>\n",
              "    <tr>\n",
              "      <th>4</th>\n",
              "      <td>2813</td>\n",
              "      <td>74</td>\n",
              "      <td>Male</td>\n",
              "      <td>Black or African American</td>\n",
              "      <td>2015-12-29 12:53:00</td>\n",
              "      <td>2016-01-29 10:07:00</td>\n",
              "      <td>2015-12-29 12:53:00</td>\n",
              "      <td>44320</td>\n",
              "      <td>PR COLOSTOMY</td>\n",
              "      <td>31</td>\n",
              "      <td>N</td>\n",
              "      <td>N</td>\n",
              "      <td>Y</td>\n",
              "      <td>Y</td>\n",
              "      <td>N</td>\n",
              "      <td>N</td>\n",
              "      <td>N</td>\n",
              "      <td>N</td>\n",
              "      <td>N</td>\n",
              "      <td>N</td>\n",
              "      <td>Y</td>\n",
              "      <td>8.2</td>\n",
              "      <td>g/dL</td>\n",
              "      <td>Y</td>\n",
              "      <td>24.9</td>\n",
              "      <td>%</td>\n",
              "      <td>Y</td>\n",
              "      <td>1.5</td>\n",
              "      <td>g/dL</td>\n",
              "      <td>Y</td>\n",
              "      <td>8.7</td>\n",
              "      <td>mg/dl</td>\n",
              "      <td>N</td>\n",
              "      <td>N</td>\n",
              "      <td>NaN</td>\n",
              "      <td>N</td>\n",
              "      <td>NaN</td>\n",
              "      <td>N</td>\n",
              "      <td>N</td>\n",
              "      <td>4.0</td>\n",
              "      <td>...</td>\n",
              "      <td>N</td>\n",
              "      <td>75</td>\n",
              "      <td>7.5</td>\n",
              "      <td>0</td>\n",
              "      <td>0.0</td>\n",
              "      <td>1050.0</td>\n",
              "      <td>105.0</td>\n",
              "      <td>0.0</td>\n",
              "      <td>0.0</td>\n",
              "      <td>0</td>\n",
              "      <td>0</td>\n",
              "      <td>0</td>\n",
              "      <td>0</td>\n",
              "      <td>12.5</td>\n",
              "      <td>250</td>\n",
              "      <td>0</td>\n",
              "      <td>0</td>\n",
              "      <td>0.0</td>\n",
              "      <td>0.0</td>\n",
              "      <td>0.0</td>\n",
              "      <td>0.0</td>\n",
              "      <td>0</td>\n",
              "      <td>0</td>\n",
              "      <td>0</td>\n",
              "      <td>0.0</td>\n",
              "      <td>0.0</td>\n",
              "      <td>0</td>\n",
              "      <td>0.0</td>\n",
              "      <td>0.0</td>\n",
              "      <td>0</td>\n",
              "      <td>0.0</td>\n",
              "      <td>220.0</td>\n",
              "      <td>330.0</td>\n",
              "      <td>0</td>\n",
              "      <td>0</td>\n",
              "      <td>0</td>\n",
              "      <td>0.0</td>\n",
              "      <td>N</td>\n",
              "      <td>NaN</td>\n",
              "      <td>2050.0</td>\n",
              "    </tr>\n",
              "  </tbody>\n",
              "</table>\n",
              "<p>5 rows × 81 columns</p>\n",
              "</div>"
            ],
            "text/plain": [
              "   masked_patient_id Age   sex  ... redmission_30day_yn Unnamed: 79 Total MME\n",
              "0                720  42  Male  ...                   Y         NaN     390.5\n",
              "1                845  68  Male  ...                   Y         NaN    2762.5\n",
              "2               1286  62  Male  ...                   N         NaN     510.0\n",
              "3               2111  65  Male  ...                   N         NaN     823.0\n",
              "4               2813  74  Male  ...                   N         NaN    2050.0\n",
              "\n",
              "[5 rows x 81 columns]"
            ]
          },
          "metadata": {
            "tags": []
          },
          "execution_count": 2
        }
      ]
    },
    {
      "cell_type": "code",
      "metadata": {
        "colab": {
          "base_uri": "https://localhost:8080/"
        },
        "id": "DGiE55BfKzh4",
        "outputId": "8d2e31d4-8812-4a67-a182-9ef77cb826c8"
      },
      "source": [
        "df.shape"
      ],
      "execution_count": 3,
      "outputs": [
        {
          "output_type": "execute_result",
          "data": {
            "text/plain": [
              "(1521, 81)"
            ]
          },
          "metadata": {
            "tags": []
          },
          "execution_count": 3
        }
      ]
    },
    {
      "cell_type": "code",
      "metadata": {
        "colab": {
          "base_uri": "https://localhost:8080/"
        },
        "id": "LbUzStyvI75u",
        "outputId": "697e2cc2-be49-47f0-9c6f-abfec534602c"
      },
      "source": [
        "df.dtypes"
      ],
      "execution_count": 4,
      "outputs": [
        {
          "output_type": "execute_result",
          "data": {
            "text/plain": [
              "masked_patient_id               int64\n",
              "Age                            object\n",
              "sex                            object\n",
              "race                           object\n",
              "admission_date         datetime64[ns]\n",
              "                            ...      \n",
              "tramadol_po_mg                  int64\n",
              "tramadol_po_mg_mme            float64\n",
              "redmission_30day_yn            object\n",
              "Unnamed: 79                   float64\n",
              "Total MME                     float64\n",
              "Length: 81, dtype: object"
            ]
          },
          "metadata": {
            "tags": []
          },
          "execution_count": 4
        }
      ]
    },
    {
      "cell_type": "code",
      "metadata": {
        "id": "7nV82eqXJJZd"
      },
      "source": [
        "import datetime"
      ],
      "execution_count": 5,
      "outputs": []
    },
    {
      "cell_type": "code",
      "metadata": {
        "id": "rNC6sYwsJP8a"
      },
      "source": [
        "df['admission_date'] = df['admission_date'].dt.to_period(\"Y\")\r\n"
      ],
      "execution_count": 6,
      "outputs": []
    },
    {
      "cell_type": "code",
      "metadata": {
        "colab": {
          "base_uri": "https://localhost:8080/",
          "height": 407
        },
        "id": "HVFC6eoeJhdV",
        "outputId": "2168bd4e-43f9-4aeb-f15b-0329666f4c4c"
      },
      "source": [
        "df.head()"
      ],
      "execution_count": 7,
      "outputs": [
        {
          "output_type": "execute_result",
          "data": {
            "text/html": [
              "<div>\n",
              "<style scoped>\n",
              "    .dataframe tbody tr th:only-of-type {\n",
              "        vertical-align: middle;\n",
              "    }\n",
              "\n",
              "    .dataframe tbody tr th {\n",
              "        vertical-align: top;\n",
              "    }\n",
              "\n",
              "    .dataframe thead th {\n",
              "        text-align: right;\n",
              "    }\n",
              "</style>\n",
              "<table border=\"1\" class=\"dataframe\">\n",
              "  <thead>\n",
              "    <tr style=\"text-align: right;\">\n",
              "      <th></th>\n",
              "      <th>masked_patient_id</th>\n",
              "      <th>Age</th>\n",
              "      <th>sex</th>\n",
              "      <th>race</th>\n",
              "      <th>admission_date</th>\n",
              "      <th>discharge_date</th>\n",
              "      <th>date_of_surgery</th>\n",
              "      <th>proc_codes</th>\n",
              "      <th>proc_code_desc</th>\n",
              "      <th>length_of_stay</th>\n",
              "      <th>benign_disease</th>\n",
              "      <th>malignant_disease</th>\n",
              "      <th>diabetes_mellitus</th>\n",
              "      <th>COPD_or_asthma_or_emphysema</th>\n",
              "      <th>Congestive_heart_failure</th>\n",
              "      <th>Obesity_comorb</th>\n",
              "      <th>Tobacco_abuse</th>\n",
              "      <th>chronic_kidney_disease</th>\n",
              "      <th>chronic_steroid_use</th>\n",
              "      <th>chronic_constipation</th>\n",
              "      <th>hemoglobin_yn</th>\n",
              "      <th>hemoglobin_result_value</th>\n",
              "      <th>hemoglobin_result_unit</th>\n",
              "      <th>hematocrit_yn</th>\n",
              "      <th>hematocrit_result_value</th>\n",
              "      <th>hematocrit_result_unit</th>\n",
              "      <th>albumin_yn</th>\n",
              "      <th>albumin_result_value</th>\n",
              "      <th>albumin_result_unit</th>\n",
              "      <th>prealbumin_yn</th>\n",
              "      <th>prealbumin_result_value</th>\n",
              "      <th>prealbumin_result_unit</th>\n",
              "      <th>mu_opioid_antagonist_yn</th>\n",
              "      <th>epidurals_yn</th>\n",
              "      <th>BMI</th>\n",
              "      <th>ostomy_teaching</th>\n",
              "      <th>Tot_bloodloss</th>\n",
              "      <th>urinary_retention</th>\n",
              "      <th>tapblock_yn</th>\n",
              "      <th>avg_painscore</th>\n",
              "      <th>...</th>\n",
              "      <th>anastomoticleak_yn</th>\n",
              "      <th>Fentanyl_Transdermal_mcg</th>\n",
              "      <th>Fentanyl_Transdermal_mcg_mme</th>\n",
              "      <th>Fentanyl_Epidural_mcg</th>\n",
              "      <th>Fentanyl_Epidural_mcg_mme</th>\n",
              "      <th>Fentanyl_IV_mcg</th>\n",
              "      <th>Fentanyl_IV_mcg_mme</th>\n",
              "      <th>Hydrocodone_po_mg</th>\n",
              "      <th>Hydrocodone_po_mg_mme</th>\n",
              "      <th>hydromorphone_po_mg</th>\n",
              "      <th>hydromorphone_po_mg_mme</th>\n",
              "      <th>hydromorphone_Epidural_mg</th>\n",
              "      <th>hydromorphone_Epidural_mg_mme</th>\n",
              "      <th>hydromorphone_IV_mg</th>\n",
              "      <th>hydromorphone_IV_mg_mme</th>\n",
              "      <th>meperidine_po_mg</th>\n",
              "      <th>meperidine_po_mg_mme</th>\n",
              "      <th>meperidine_IV_mg</th>\n",
              "      <th>meperidine_IV_mg_mme</th>\n",
              "      <th>methadone_po_mg</th>\n",
              "      <th>methadone_po_mg_mme</th>\n",
              "      <th>methadone_IV_mg</th>\n",
              "      <th>methadone_IV_mg_mme</th>\n",
              "      <th>morphine_ER_po_mg</th>\n",
              "      <th>morphine_IV_mg</th>\n",
              "      <th>morphine_IV_mg_mme</th>\n",
              "      <th>morphine_po_mg</th>\n",
              "      <th>nalbuphine_iv_mg</th>\n",
              "      <th>nalbuphine_iv_mg_mme</th>\n",
              "      <th>oxycodone_ER_mg</th>\n",
              "      <th>oxycodone_ER_mg_mme</th>\n",
              "      <th>oxycodone_po_mg</th>\n",
              "      <th>oxycodone_po_mg_mme</th>\n",
              "      <th>oxymorphone_ER_po_mg</th>\n",
              "      <th>oxymorphone_ER_po_mg_mme</th>\n",
              "      <th>tramadol_po_mg</th>\n",
              "      <th>tramadol_po_mg_mme</th>\n",
              "      <th>redmission_30day_yn</th>\n",
              "      <th>Unnamed: 79</th>\n",
              "      <th>Total MME</th>\n",
              "    </tr>\n",
              "  </thead>\n",
              "  <tbody>\n",
              "    <tr>\n",
              "      <th>0</th>\n",
              "      <td>720</td>\n",
              "      <td>42</td>\n",
              "      <td>Male</td>\n",
              "      <td>Unknown</td>\n",
              "      <td>2017</td>\n",
              "      <td>2017-10-09 11:02:00</td>\n",
              "      <td>2017-10-02 09:05:00</td>\n",
              "      <td>45397</td>\n",
              "      <td>PR LAP, SURG PROCTECTOMY W J-POUCH</td>\n",
              "      <td>7</td>\n",
              "      <td>Y</td>\n",
              "      <td>Y</td>\n",
              "      <td>N</td>\n",
              "      <td>N</td>\n",
              "      <td>N</td>\n",
              "      <td>N</td>\n",
              "      <td>N</td>\n",
              "      <td>N</td>\n",
              "      <td>N</td>\n",
              "      <td>N</td>\n",
              "      <td>Y</td>\n",
              "      <td>14.2</td>\n",
              "      <td>g/dL</td>\n",
              "      <td>Y</td>\n",
              "      <td>42.0</td>\n",
              "      <td>%</td>\n",
              "      <td>N</td>\n",
              "      <td>NaN</td>\n",
              "      <td>NaN</td>\n",
              "      <td>N</td>\n",
              "      <td>NaN</td>\n",
              "      <td>NaN</td>\n",
              "      <td>N</td>\n",
              "      <td>N</td>\n",
              "      <td>27.13</td>\n",
              "      <td>N</td>\n",
              "      <td>NaN</td>\n",
              "      <td>N</td>\n",
              "      <td>N</td>\n",
              "      <td>2.0</td>\n",
              "      <td>...</td>\n",
              "      <td>N</td>\n",
              "      <td>0</td>\n",
              "      <td>0.0</td>\n",
              "      <td>0</td>\n",
              "      <td>0.0</td>\n",
              "      <td>300.0</td>\n",
              "      <td>30.0</td>\n",
              "      <td>0.0</td>\n",
              "      <td>0.0</td>\n",
              "      <td>0</td>\n",
              "      <td>0</td>\n",
              "      <td>0</td>\n",
              "      <td>0</td>\n",
              "      <td>0.5</td>\n",
              "      <td>10</td>\n",
              "      <td>0</td>\n",
              "      <td>0</td>\n",
              "      <td>0.0</td>\n",
              "      <td>0.0</td>\n",
              "      <td>0.0</td>\n",
              "      <td>0.0</td>\n",
              "      <td>0</td>\n",
              "      <td>0</td>\n",
              "      <td>0</td>\n",
              "      <td>0.0</td>\n",
              "      <td>0.0</td>\n",
              "      <td>0</td>\n",
              "      <td>0.0</td>\n",
              "      <td>0.0</td>\n",
              "      <td>0</td>\n",
              "      <td>0.0</td>\n",
              "      <td>20.0</td>\n",
              "      <td>30.0</td>\n",
              "      <td>0</td>\n",
              "      <td>0</td>\n",
              "      <td>0</td>\n",
              "      <td>0.0</td>\n",
              "      <td>Y</td>\n",
              "      <td>NaN</td>\n",
              "      <td>390.5</td>\n",
              "    </tr>\n",
              "    <tr>\n",
              "      <th>1</th>\n",
              "      <td>845</td>\n",
              "      <td>68</td>\n",
              "      <td>Male</td>\n",
              "      <td>White</td>\n",
              "      <td>2014</td>\n",
              "      <td>2014-06-28 12:17:00</td>\n",
              "      <td>2014-05-24 18:07:00</td>\n",
              "      <td>44160, 44160</td>\n",
              "      <td>PR REMVL COLON &amp; TERM ILEUM W/ILEOCOLOSTOMY, ...</td>\n",
              "      <td>35</td>\n",
              "      <td>Y</td>\n",
              "      <td>N</td>\n",
              "      <td>Y</td>\n",
              "      <td>Y</td>\n",
              "      <td>Y</td>\n",
              "      <td>N</td>\n",
              "      <td>N</td>\n",
              "      <td>Y</td>\n",
              "      <td>N</td>\n",
              "      <td>Y</td>\n",
              "      <td>Y</td>\n",
              "      <td>7.8</td>\n",
              "      <td>g/dL</td>\n",
              "      <td>Y</td>\n",
              "      <td>24.7</td>\n",
              "      <td>%</td>\n",
              "      <td>Y</td>\n",
              "      <td>1.8</td>\n",
              "      <td>g/dL</td>\n",
              "      <td>Y</td>\n",
              "      <td>10.8</td>\n",
              "      <td>mg/dl</td>\n",
              "      <td>N</td>\n",
              "      <td>N</td>\n",
              "      <td>43.96</td>\n",
              "      <td>N</td>\n",
              "      <td>NaN</td>\n",
              "      <td>N</td>\n",
              "      <td>N</td>\n",
              "      <td>4.0</td>\n",
              "      <td>...</td>\n",
              "      <td>N</td>\n",
              "      <td>0</td>\n",
              "      <td>0.0</td>\n",
              "      <td>0</td>\n",
              "      <td>0.0</td>\n",
              "      <td>700.0</td>\n",
              "      <td>70.0</td>\n",
              "      <td>0.0</td>\n",
              "      <td>0.0</td>\n",
              "      <td>0</td>\n",
              "      <td>0</td>\n",
              "      <td>0</td>\n",
              "      <td>0</td>\n",
              "      <td>0.0</td>\n",
              "      <td>0</td>\n",
              "      <td>0</td>\n",
              "      <td>0</td>\n",
              "      <td>0.0</td>\n",
              "      <td>0.0</td>\n",
              "      <td>0.0</td>\n",
              "      <td>0.0</td>\n",
              "      <td>0</td>\n",
              "      <td>0</td>\n",
              "      <td>0</td>\n",
              "      <td>20.0</td>\n",
              "      <td>60.0</td>\n",
              "      <td>0</td>\n",
              "      <td>0.0</td>\n",
              "      <td>0.0</td>\n",
              "      <td>0</td>\n",
              "      <td>0.0</td>\n",
              "      <td>765.0</td>\n",
              "      <td>1147.5</td>\n",
              "      <td>0</td>\n",
              "      <td>0</td>\n",
              "      <td>0</td>\n",
              "      <td>0.0</td>\n",
              "      <td>Y</td>\n",
              "      <td>NaN</td>\n",
              "      <td>2762.5</td>\n",
              "    </tr>\n",
              "    <tr>\n",
              "      <th>2</th>\n",
              "      <td>1286</td>\n",
              "      <td>62</td>\n",
              "      <td>Male</td>\n",
              "      <td>White</td>\n",
              "      <td>2019</td>\n",
              "      <td>2019-01-16 11:59:00</td>\n",
              "      <td>2019-01-11 05:29:00</td>\n",
              "      <td>44207, 44213</td>\n",
              "      <td>PR LAP,SURG,COLECTOMY,W/ANAST, PR LAP, SURG M...</td>\n",
              "      <td>5</td>\n",
              "      <td>Y</td>\n",
              "      <td>N</td>\n",
              "      <td>Y</td>\n",
              "      <td>N</td>\n",
              "      <td>N</td>\n",
              "      <td>N</td>\n",
              "      <td>N</td>\n",
              "      <td>N</td>\n",
              "      <td>N</td>\n",
              "      <td>N</td>\n",
              "      <td>Y</td>\n",
              "      <td>14.8</td>\n",
              "      <td>g/dL</td>\n",
              "      <td>Y</td>\n",
              "      <td>42.8</td>\n",
              "      <td>%</td>\n",
              "      <td>N</td>\n",
              "      <td>NaN</td>\n",
              "      <td>NaN</td>\n",
              "      <td>N</td>\n",
              "      <td>NaN</td>\n",
              "      <td>NaN</td>\n",
              "      <td>N</td>\n",
              "      <td>N</td>\n",
              "      <td>26.49</td>\n",
              "      <td>N</td>\n",
              "      <td>NaN</td>\n",
              "      <td>N</td>\n",
              "      <td>N</td>\n",
              "      <td>5.0</td>\n",
              "      <td>...</td>\n",
              "      <td>N</td>\n",
              "      <td>0</td>\n",
              "      <td>0.0</td>\n",
              "      <td>0</td>\n",
              "      <td>0.0</td>\n",
              "      <td>350.0</td>\n",
              "      <td>35.0</td>\n",
              "      <td>0.0</td>\n",
              "      <td>0.0</td>\n",
              "      <td>0</td>\n",
              "      <td>0</td>\n",
              "      <td>0</td>\n",
              "      <td>0</td>\n",
              "      <td>0.0</td>\n",
              "      <td>0</td>\n",
              "      <td>0</td>\n",
              "      <td>0</td>\n",
              "      <td>0.0</td>\n",
              "      <td>0.0</td>\n",
              "      <td>0.0</td>\n",
              "      <td>0.0</td>\n",
              "      <td>0</td>\n",
              "      <td>0</td>\n",
              "      <td>0</td>\n",
              "      <td>0.0</td>\n",
              "      <td>0.0</td>\n",
              "      <td>0</td>\n",
              "      <td>0.0</td>\n",
              "      <td>0.0</td>\n",
              "      <td>0</td>\n",
              "      <td>0.0</td>\n",
              "      <td>50.0</td>\n",
              "      <td>75.0</td>\n",
              "      <td>0</td>\n",
              "      <td>0</td>\n",
              "      <td>0</td>\n",
              "      <td>0.0</td>\n",
              "      <td>N</td>\n",
              "      <td>NaN</td>\n",
              "      <td>510.0</td>\n",
              "    </tr>\n",
              "    <tr>\n",
              "      <th>3</th>\n",
              "      <td>2111</td>\n",
              "      <td>65</td>\n",
              "      <td>Male</td>\n",
              "      <td>Black or African American</td>\n",
              "      <td>2018</td>\n",
              "      <td>2018-05-30 14:12:00</td>\n",
              "      <td>2018-05-14 08:10:00</td>\n",
              "      <td>44210</td>\n",
              "      <td>PR LAP,SURG,COLECTOMY,TOTAL,W/O PROCTECTOMY</td>\n",
              "      <td>16</td>\n",
              "      <td>Y</td>\n",
              "      <td>N</td>\n",
              "      <td>Y</td>\n",
              "      <td>Y</td>\n",
              "      <td>Y</td>\n",
              "      <td>N</td>\n",
              "      <td>N</td>\n",
              "      <td>N</td>\n",
              "      <td>N</td>\n",
              "      <td>N</td>\n",
              "      <td>Y</td>\n",
              "      <td>8.4</td>\n",
              "      <td>g/dL</td>\n",
              "      <td>Y</td>\n",
              "      <td>26.8</td>\n",
              "      <td>%</td>\n",
              "      <td>Y</td>\n",
              "      <td>3.3</td>\n",
              "      <td>g/dL</td>\n",
              "      <td>N</td>\n",
              "      <td>NaN</td>\n",
              "      <td>NaN</td>\n",
              "      <td>N</td>\n",
              "      <td>N</td>\n",
              "      <td>31.50</td>\n",
              "      <td>Y</td>\n",
              "      <td>NaN</td>\n",
              "      <td>N</td>\n",
              "      <td>Y</td>\n",
              "      <td>3.0</td>\n",
              "      <td>...</td>\n",
              "      <td>Y</td>\n",
              "      <td>0</td>\n",
              "      <td>0.0</td>\n",
              "      <td>0</td>\n",
              "      <td>0.0</td>\n",
              "      <td>575.0</td>\n",
              "      <td>57.5</td>\n",
              "      <td>0.0</td>\n",
              "      <td>0.0</td>\n",
              "      <td>0</td>\n",
              "      <td>0</td>\n",
              "      <td>0</td>\n",
              "      <td>0</td>\n",
              "      <td>0.5</td>\n",
              "      <td>10</td>\n",
              "      <td>0</td>\n",
              "      <td>0</td>\n",
              "      <td>0.0</td>\n",
              "      <td>0.0</td>\n",
              "      <td>0.0</td>\n",
              "      <td>0.0</td>\n",
              "      <td>0</td>\n",
              "      <td>0</td>\n",
              "      <td>0</td>\n",
              "      <td>0.0</td>\n",
              "      <td>0.0</td>\n",
              "      <td>0</td>\n",
              "      <td>0.0</td>\n",
              "      <td>0.0</td>\n",
              "      <td>0</td>\n",
              "      <td>0.0</td>\n",
              "      <td>50.0</td>\n",
              "      <td>75.0</td>\n",
              "      <td>0</td>\n",
              "      <td>0</td>\n",
              "      <td>50</td>\n",
              "      <td>5.0</td>\n",
              "      <td>N</td>\n",
              "      <td>NaN</td>\n",
              "      <td>823.0</td>\n",
              "    </tr>\n",
              "    <tr>\n",
              "      <th>4</th>\n",
              "      <td>2813</td>\n",
              "      <td>74</td>\n",
              "      <td>Male</td>\n",
              "      <td>Black or African American</td>\n",
              "      <td>2015</td>\n",
              "      <td>2016-01-29 10:07:00</td>\n",
              "      <td>2015-12-29 12:53:00</td>\n",
              "      <td>44320</td>\n",
              "      <td>PR COLOSTOMY</td>\n",
              "      <td>31</td>\n",
              "      <td>N</td>\n",
              "      <td>N</td>\n",
              "      <td>Y</td>\n",
              "      <td>Y</td>\n",
              "      <td>N</td>\n",
              "      <td>N</td>\n",
              "      <td>N</td>\n",
              "      <td>N</td>\n",
              "      <td>N</td>\n",
              "      <td>N</td>\n",
              "      <td>Y</td>\n",
              "      <td>8.2</td>\n",
              "      <td>g/dL</td>\n",
              "      <td>Y</td>\n",
              "      <td>24.9</td>\n",
              "      <td>%</td>\n",
              "      <td>Y</td>\n",
              "      <td>1.5</td>\n",
              "      <td>g/dL</td>\n",
              "      <td>Y</td>\n",
              "      <td>8.7</td>\n",
              "      <td>mg/dl</td>\n",
              "      <td>N</td>\n",
              "      <td>N</td>\n",
              "      <td>NaN</td>\n",
              "      <td>N</td>\n",
              "      <td>NaN</td>\n",
              "      <td>N</td>\n",
              "      <td>N</td>\n",
              "      <td>4.0</td>\n",
              "      <td>...</td>\n",
              "      <td>N</td>\n",
              "      <td>75</td>\n",
              "      <td>7.5</td>\n",
              "      <td>0</td>\n",
              "      <td>0.0</td>\n",
              "      <td>1050.0</td>\n",
              "      <td>105.0</td>\n",
              "      <td>0.0</td>\n",
              "      <td>0.0</td>\n",
              "      <td>0</td>\n",
              "      <td>0</td>\n",
              "      <td>0</td>\n",
              "      <td>0</td>\n",
              "      <td>12.5</td>\n",
              "      <td>250</td>\n",
              "      <td>0</td>\n",
              "      <td>0</td>\n",
              "      <td>0.0</td>\n",
              "      <td>0.0</td>\n",
              "      <td>0.0</td>\n",
              "      <td>0.0</td>\n",
              "      <td>0</td>\n",
              "      <td>0</td>\n",
              "      <td>0</td>\n",
              "      <td>0.0</td>\n",
              "      <td>0.0</td>\n",
              "      <td>0</td>\n",
              "      <td>0.0</td>\n",
              "      <td>0.0</td>\n",
              "      <td>0</td>\n",
              "      <td>0.0</td>\n",
              "      <td>220.0</td>\n",
              "      <td>330.0</td>\n",
              "      <td>0</td>\n",
              "      <td>0</td>\n",
              "      <td>0</td>\n",
              "      <td>0.0</td>\n",
              "      <td>N</td>\n",
              "      <td>NaN</td>\n",
              "      <td>2050.0</td>\n",
              "    </tr>\n",
              "  </tbody>\n",
              "</table>\n",
              "<p>5 rows × 81 columns</p>\n",
              "</div>"
            ],
            "text/plain": [
              "   masked_patient_id Age   sex  ... redmission_30day_yn Unnamed: 79 Total MME\n",
              "0                720  42  Male  ...                   Y         NaN     390.5\n",
              "1                845  68  Male  ...                   Y         NaN    2762.5\n",
              "2               1286  62  Male  ...                   N         NaN     510.0\n",
              "3               2111  65  Male  ...                   N         NaN     823.0\n",
              "4               2813  74  Male  ...                   N         NaN    2050.0\n",
              "\n",
              "[5 rows x 81 columns]"
            ]
          },
          "metadata": {
            "tags": []
          },
          "execution_count": 7
        }
      ]
    },
    {
      "cell_type": "code",
      "metadata": {
        "colab": {
          "base_uri": "https://localhost:8080/",
          "height": 202
        },
        "id": "mEK68laUKn3o",
        "outputId": "c19b3dcb-28db-4590-f151-eae71049c42e"
      },
      "source": [
        "df_yearly = df[['admission_date', 'tapblock_yn', 'Total MME', 'length_of_stay', 'redmission_30day_yn', 'anastomoticleak_yn']]\r\n",
        "\r\n",
        "\r\n",
        "\r\n",
        "columns = ['Date', 'Tapblock', 'MME', 'LOS', 'Readmit', 'Leak']\r\n",
        "df_yearly.columns = columns\r\n",
        "df_yearly.head()"
      ],
      "execution_count": 8,
      "outputs": [
        {
          "output_type": "execute_result",
          "data": {
            "text/html": [
              "<div>\n",
              "<style scoped>\n",
              "    .dataframe tbody tr th:only-of-type {\n",
              "        vertical-align: middle;\n",
              "    }\n",
              "\n",
              "    .dataframe tbody tr th {\n",
              "        vertical-align: top;\n",
              "    }\n",
              "\n",
              "    .dataframe thead th {\n",
              "        text-align: right;\n",
              "    }\n",
              "</style>\n",
              "<table border=\"1\" class=\"dataframe\">\n",
              "  <thead>\n",
              "    <tr style=\"text-align: right;\">\n",
              "      <th></th>\n",
              "      <th>Date</th>\n",
              "      <th>Tapblock</th>\n",
              "      <th>MME</th>\n",
              "      <th>LOS</th>\n",
              "      <th>Readmit</th>\n",
              "      <th>Leak</th>\n",
              "    </tr>\n",
              "  </thead>\n",
              "  <tbody>\n",
              "    <tr>\n",
              "      <th>0</th>\n",
              "      <td>2017</td>\n",
              "      <td>N</td>\n",
              "      <td>390.5</td>\n",
              "      <td>7</td>\n",
              "      <td>Y</td>\n",
              "      <td>N</td>\n",
              "    </tr>\n",
              "    <tr>\n",
              "      <th>1</th>\n",
              "      <td>2014</td>\n",
              "      <td>N</td>\n",
              "      <td>2762.5</td>\n",
              "      <td>35</td>\n",
              "      <td>Y</td>\n",
              "      <td>N</td>\n",
              "    </tr>\n",
              "    <tr>\n",
              "      <th>2</th>\n",
              "      <td>2019</td>\n",
              "      <td>N</td>\n",
              "      <td>510.0</td>\n",
              "      <td>5</td>\n",
              "      <td>N</td>\n",
              "      <td>N</td>\n",
              "    </tr>\n",
              "    <tr>\n",
              "      <th>3</th>\n",
              "      <td>2018</td>\n",
              "      <td>Y</td>\n",
              "      <td>823.0</td>\n",
              "      <td>16</td>\n",
              "      <td>N</td>\n",
              "      <td>Y</td>\n",
              "    </tr>\n",
              "    <tr>\n",
              "      <th>4</th>\n",
              "      <td>2015</td>\n",
              "      <td>N</td>\n",
              "      <td>2050.0</td>\n",
              "      <td>31</td>\n",
              "      <td>N</td>\n",
              "      <td>N</td>\n",
              "    </tr>\n",
              "  </tbody>\n",
              "</table>\n",
              "</div>"
            ],
            "text/plain": [
              "   Date Tapblock     MME  LOS Readmit Leak\n",
              "0  2017        N   390.5    7       Y    N\n",
              "1  2014        N  2762.5   35       Y    N\n",
              "2  2019        N   510.0    5       N    N\n",
              "3  2018        Y   823.0   16       N    Y\n",
              "4  2015        N  2050.0   31       N    N"
            ]
          },
          "metadata": {
            "tags": []
          },
          "execution_count": 8
        }
      ]
    },
    {
      "cell_type": "code",
      "metadata": {
        "colab": {
          "base_uri": "https://localhost:8080/",
          "height": 415
        },
        "id": "RaggOA1QFLpj",
        "outputId": "e2293298-3a2a-465a-c313-2c26c2611997"
      },
      "source": [
        "df_yearly.reset_index()"
      ],
      "execution_count": 9,
      "outputs": [
        {
          "output_type": "execute_result",
          "data": {
            "text/html": [
              "<div>\n",
              "<style scoped>\n",
              "    .dataframe tbody tr th:only-of-type {\n",
              "        vertical-align: middle;\n",
              "    }\n",
              "\n",
              "    .dataframe tbody tr th {\n",
              "        vertical-align: top;\n",
              "    }\n",
              "\n",
              "    .dataframe thead th {\n",
              "        text-align: right;\n",
              "    }\n",
              "</style>\n",
              "<table border=\"1\" class=\"dataframe\">\n",
              "  <thead>\n",
              "    <tr style=\"text-align: right;\">\n",
              "      <th></th>\n",
              "      <th>index</th>\n",
              "      <th>Date</th>\n",
              "      <th>Tapblock</th>\n",
              "      <th>MME</th>\n",
              "      <th>LOS</th>\n",
              "      <th>Readmit</th>\n",
              "      <th>Leak</th>\n",
              "    </tr>\n",
              "  </thead>\n",
              "  <tbody>\n",
              "    <tr>\n",
              "      <th>0</th>\n",
              "      <td>0</td>\n",
              "      <td>2017</td>\n",
              "      <td>N</td>\n",
              "      <td>390.50</td>\n",
              "      <td>7</td>\n",
              "      <td>Y</td>\n",
              "      <td>N</td>\n",
              "    </tr>\n",
              "    <tr>\n",
              "      <th>1</th>\n",
              "      <td>1</td>\n",
              "      <td>2014</td>\n",
              "      <td>N</td>\n",
              "      <td>2762.50</td>\n",
              "      <td>35</td>\n",
              "      <td>Y</td>\n",
              "      <td>N</td>\n",
              "    </tr>\n",
              "    <tr>\n",
              "      <th>2</th>\n",
              "      <td>2</td>\n",
              "      <td>2019</td>\n",
              "      <td>N</td>\n",
              "      <td>510.00</td>\n",
              "      <td>5</td>\n",
              "      <td>N</td>\n",
              "      <td>N</td>\n",
              "    </tr>\n",
              "    <tr>\n",
              "      <th>3</th>\n",
              "      <td>3</td>\n",
              "      <td>2018</td>\n",
              "      <td>Y</td>\n",
              "      <td>823.00</td>\n",
              "      <td>16</td>\n",
              "      <td>N</td>\n",
              "      <td>Y</td>\n",
              "    </tr>\n",
              "    <tr>\n",
              "      <th>4</th>\n",
              "      <td>4</td>\n",
              "      <td>2015</td>\n",
              "      <td>N</td>\n",
              "      <td>2050.00</td>\n",
              "      <td>31</td>\n",
              "      <td>N</td>\n",
              "      <td>N</td>\n",
              "    </tr>\n",
              "    <tr>\n",
              "      <th>...</th>\n",
              "      <td>...</td>\n",
              "      <td>...</td>\n",
              "      <td>...</td>\n",
              "      <td>...</td>\n",
              "      <td>...</td>\n",
              "      <td>...</td>\n",
              "      <td>...</td>\n",
              "    </tr>\n",
              "    <tr>\n",
              "      <th>1516</th>\n",
              "      <td>1516</td>\n",
              "      <td>2020</td>\n",
              "      <td>N</td>\n",
              "      <td>444.25</td>\n",
              "      <td>11</td>\n",
              "      <td>Y</td>\n",
              "      <td>Y</td>\n",
              "    </tr>\n",
              "    <tr>\n",
              "      <th>1517</th>\n",
              "      <td>1517</td>\n",
              "      <td>2019</td>\n",
              "      <td>Y</td>\n",
              "      <td>175.00</td>\n",
              "      <td>2</td>\n",
              "      <td>N</td>\n",
              "      <td>N</td>\n",
              "    </tr>\n",
              "    <tr>\n",
              "      <th>1518</th>\n",
              "      <td>1518</td>\n",
              "      <td>2019</td>\n",
              "      <td>N</td>\n",
              "      <td>1116.50</td>\n",
              "      <td>5</td>\n",
              "      <td>N</td>\n",
              "      <td>N</td>\n",
              "    </tr>\n",
              "    <tr>\n",
              "      <th>1519</th>\n",
              "      <td>1519</td>\n",
              "      <td>2020</td>\n",
              "      <td>N</td>\n",
              "      <td>549.00</td>\n",
              "      <td>6</td>\n",
              "      <td>N</td>\n",
              "      <td>N</td>\n",
              "    </tr>\n",
              "    <tr>\n",
              "      <th>1520</th>\n",
              "      <td>1520</td>\n",
              "      <td>2019</td>\n",
              "      <td>N</td>\n",
              "      <td>1197.00</td>\n",
              "      <td>12</td>\n",
              "      <td>Y</td>\n",
              "      <td>N</td>\n",
              "    </tr>\n",
              "  </tbody>\n",
              "</table>\n",
              "<p>1521 rows × 7 columns</p>\n",
              "</div>"
            ],
            "text/plain": [
              "      index  Date Tapblock      MME  LOS Readmit Leak\n",
              "0         0  2017        N   390.50    7       Y    N\n",
              "1         1  2014        N  2762.50   35       Y    N\n",
              "2         2  2019        N   510.00    5       N    N\n",
              "3         3  2018        Y   823.00   16       N    Y\n",
              "4         4  2015        N  2050.00   31       N    N\n",
              "...     ...   ...      ...      ...  ...     ...  ...\n",
              "1516   1516  2020        N   444.25   11       Y    Y\n",
              "1517   1517  2019        Y   175.00    2       N    N\n",
              "1518   1518  2019        N  1116.50    5       N    N\n",
              "1519   1519  2020        N   549.00    6       N    N\n",
              "1520   1520  2019        N  1197.00   12       Y    N\n",
              "\n",
              "[1521 rows x 7 columns]"
            ]
          },
          "metadata": {
            "tags": []
          },
          "execution_count": 9
        }
      ]
    },
    {
      "cell_type": "code",
      "metadata": {
        "colab": {
          "base_uri": "https://localhost:8080/"
        },
        "id": "ivnNcjTqFYL3",
        "outputId": "d6040760-e3dc-496b-f4ef-23b0f72434e4"
      },
      "source": [
        "df_yearly.columns"
      ],
      "execution_count": 10,
      "outputs": [
        {
          "output_type": "execute_result",
          "data": {
            "text/plain": [
              "Index(['Date', 'Tapblock', 'MME', 'LOS', 'Readmit', 'Leak'], dtype='object')"
            ]
          },
          "metadata": {
            "tags": []
          },
          "execution_count": 10
        }
      ]
    },
    {
      "cell_type": "code",
      "metadata": {
        "id": "FnO0BQ3BKwuP",
        "colab": {
          "base_uri": "https://localhost:8080/",
          "height": 349
        },
        "outputId": "f7491673-ff67-4b3f-ae2f-f47d80d70469"
      },
      "source": [
        "grouped = df_yearly.groupby('Date')['MME', 'LOS'].mean()\r\n",
        "grouped\r\n"
      ],
      "execution_count": 11,
      "outputs": [
        {
          "output_type": "stream",
          "text": [
            "/usr/local/lib/python3.7/dist-packages/ipykernel_launcher.py:1: FutureWarning: Indexing with multiple keys (implicitly converted to a tuple of keys) will be deprecated, use a list instead.\n",
            "  \"\"\"Entry point for launching an IPython kernel.\n"
          ],
          "name": "stderr"
        },
        {
          "output_type": "execute_result",
          "data": {
            "text/html": [
              "<div>\n",
              "<style scoped>\n",
              "    .dataframe tbody tr th:only-of-type {\n",
              "        vertical-align: middle;\n",
              "    }\n",
              "\n",
              "    .dataframe tbody tr th {\n",
              "        vertical-align: top;\n",
              "    }\n",
              "\n",
              "    .dataframe thead th {\n",
              "        text-align: right;\n",
              "    }\n",
              "</style>\n",
              "<table border=\"1\" class=\"dataframe\">\n",
              "  <thead>\n",
              "    <tr style=\"text-align: right;\">\n",
              "      <th></th>\n",
              "      <th>MME</th>\n",
              "      <th>LOS</th>\n",
              "    </tr>\n",
              "    <tr>\n",
              "      <th>Date</th>\n",
              "      <th></th>\n",
              "      <th></th>\n",
              "    </tr>\n",
              "  </thead>\n",
              "  <tbody>\n",
              "    <tr>\n",
              "      <th>2014</th>\n",
              "      <td>1360.408529</td>\n",
              "      <td>11.017647</td>\n",
              "    </tr>\n",
              "    <tr>\n",
              "      <th>2015</th>\n",
              "      <td>1234.211245</td>\n",
              "      <td>10.349398</td>\n",
              "    </tr>\n",
              "    <tr>\n",
              "      <th>2016</th>\n",
              "      <td>1058.604231</td>\n",
              "      <td>10.261538</td>\n",
              "    </tr>\n",
              "    <tr>\n",
              "      <th>2017</th>\n",
              "      <td>1110.971033</td>\n",
              "      <td>9.900369</td>\n",
              "    </tr>\n",
              "    <tr>\n",
              "      <th>2018</th>\n",
              "      <td>833.930669</td>\n",
              "      <td>8.516729</td>\n",
              "    </tr>\n",
              "    <tr>\n",
              "      <th>2019</th>\n",
              "      <td>768.417953</td>\n",
              "      <td>7.882550</td>\n",
              "    </tr>\n",
              "    <tr>\n",
              "      <th>2020</th>\n",
              "      <td>367.062500</td>\n",
              "      <td>8.750000</td>\n",
              "    </tr>\n",
              "  </tbody>\n",
              "</table>\n",
              "</div>"
            ],
            "text/plain": [
              "              MME        LOS\n",
              "Date                        \n",
              "2014  1360.408529  11.017647\n",
              "2015  1234.211245  10.349398\n",
              "2016  1058.604231  10.261538\n",
              "2017  1110.971033   9.900369\n",
              "2018   833.930669   8.516729\n",
              "2019   768.417953   7.882550\n",
              "2020   367.062500   8.750000"
            ]
          },
          "metadata": {
            "tags": []
          },
          "execution_count": 11
        }
      ]
    },
    {
      "cell_type": "code",
      "metadata": {
        "colab": {
          "base_uri": "https://localhost:8080/",
          "height": 294
        },
        "id": "X_kw_PY-e6GQ",
        "outputId": "62e0ec64-3a28-4ade-9b22-d36975cdf1ba"
      },
      "source": [
        "grouped['MPD'] = grouped.MME/grouped.LOS #MPD = MME per Day\r\n",
        "\r\n",
        "grouped"
      ],
      "execution_count": 12,
      "outputs": [
        {
          "output_type": "execute_result",
          "data": {
            "text/html": [
              "<div>\n",
              "<style scoped>\n",
              "    .dataframe tbody tr th:only-of-type {\n",
              "        vertical-align: middle;\n",
              "    }\n",
              "\n",
              "    .dataframe tbody tr th {\n",
              "        vertical-align: top;\n",
              "    }\n",
              "\n",
              "    .dataframe thead th {\n",
              "        text-align: right;\n",
              "    }\n",
              "</style>\n",
              "<table border=\"1\" class=\"dataframe\">\n",
              "  <thead>\n",
              "    <tr style=\"text-align: right;\">\n",
              "      <th></th>\n",
              "      <th>MME</th>\n",
              "      <th>LOS</th>\n",
              "      <th>MPD</th>\n",
              "    </tr>\n",
              "    <tr>\n",
              "      <th>Date</th>\n",
              "      <th></th>\n",
              "      <th></th>\n",
              "      <th></th>\n",
              "    </tr>\n",
              "  </thead>\n",
              "  <tbody>\n",
              "    <tr>\n",
              "      <th>2014</th>\n",
              "      <td>1360.408529</td>\n",
              "      <td>11.017647</td>\n",
              "      <td>123.475414</td>\n",
              "    </tr>\n",
              "    <tr>\n",
              "      <th>2015</th>\n",
              "      <td>1234.211245</td>\n",
              "      <td>10.349398</td>\n",
              "      <td>119.254404</td>\n",
              "    </tr>\n",
              "    <tr>\n",
              "      <th>2016</th>\n",
              "      <td>1058.604231</td>\n",
              "      <td>10.261538</td>\n",
              "      <td>103.162331</td>\n",
              "    </tr>\n",
              "    <tr>\n",
              "      <th>2017</th>\n",
              "      <td>1110.971033</td>\n",
              "      <td>9.900369</td>\n",
              "      <td>112.215114</td>\n",
              "    </tr>\n",
              "    <tr>\n",
              "      <th>2018</th>\n",
              "      <td>833.930669</td>\n",
              "      <td>8.516729</td>\n",
              "      <td>97.916783</td>\n",
              "    </tr>\n",
              "    <tr>\n",
              "      <th>2019</th>\n",
              "      <td>768.417953</td>\n",
              "      <td>7.882550</td>\n",
              "      <td>97.483418</td>\n",
              "    </tr>\n",
              "    <tr>\n",
              "      <th>2020</th>\n",
              "      <td>367.062500</td>\n",
              "      <td>8.750000</td>\n",
              "      <td>41.950000</td>\n",
              "    </tr>\n",
              "  </tbody>\n",
              "</table>\n",
              "</div>"
            ],
            "text/plain": [
              "              MME        LOS         MPD\n",
              "Date                                    \n",
              "2014  1360.408529  11.017647  123.475414\n",
              "2015  1234.211245  10.349398  119.254404\n",
              "2016  1058.604231  10.261538  103.162331\n",
              "2017  1110.971033   9.900369  112.215114\n",
              "2018   833.930669   8.516729   97.916783\n",
              "2019   768.417953   7.882550   97.483418\n",
              "2020   367.062500   8.750000   41.950000"
            ]
          },
          "metadata": {
            "tags": []
          },
          "execution_count": 12
        }
      ]
    },
    {
      "cell_type": "code",
      "metadata": {
        "colab": {
          "base_uri": "https://localhost:8080/",
          "height": 299
        },
        "id": "VhEEFDLBQfQn",
        "outputId": "038737d1-159f-4ad0-fb9d-9c16cdd62e1a"
      },
      "source": [
        "grouped['MPD'].plot()"
      ],
      "execution_count": 13,
      "outputs": [
        {
          "output_type": "execute_result",
          "data": {
            "text/plain": [
              "<matplotlib.axes._subplots.AxesSubplot at 0x7f768dd15350>"
            ]
          },
          "metadata": {
            "tags": []
          },
          "execution_count": 13
        },
        {
          "output_type": "display_data",
          "data": {
            "image/png": "[encoded data removed]",
            "text/plain": [
              "<Figure size 432x288 with 1 Axes>"
            ]
          },
          "metadata": {
            "tags": [],
            "needs_background": "light"
          }
        }
      ]
    },
    {
      "cell_type": "code",
      "metadata": {
        "colab": {
          "base_uri": "https://localhost:8080/"
        },
        "id": "G2twsjKbW2Xo",
        "outputId": "07f60f15-6916-44f4-86c4-40afe0c04609"
      },
      "source": [
        "df_yearly.groupby('Date')['LOS'].mean()"
      ],
      "execution_count": 14,
      "outputs": [
        {
          "output_type": "execute_result",
          "data": {
            "text/plain": [
              "Date\n",
              "2014    11.017647\n",
              "2015    10.349398\n",
              "2016    10.261538\n",
              "2017     9.900369\n",
              "2018     8.516729\n",
              "2019     7.882550\n",
              "2020     8.750000\n",
              "Freq: A-DEC, Name: LOS, dtype: float64"
            ]
          },
          "metadata": {
            "tags": []
          },
          "execution_count": 14
        }
      ]
    },
    {
      "cell_type": "code",
      "metadata": {
        "colab": {
          "base_uri": "https://localhost:8080/",
          "height": 301
        },
        "id": "XlJ0xxZ4Mwly",
        "outputId": "ac5da4da-37df-42af-a2a7-65e5e2d1e983"
      },
      "source": [
        "grouped['MME'].plot()"
      ],
      "execution_count": 15,
      "outputs": [
        {
          "output_type": "execute_result",
          "data": {
            "text/plain": [
              "<matplotlib.axes._subplots.AxesSubplot at 0x7f768cbdab90>"
            ]
          },
          "metadata": {
            "tags": []
          },
          "execution_count": 15
        },
        {
          "output_type": "display_data",
          "data": {
            "image/png": "[encoded data removed]",
            "text/plain": [
              "<Figure size 432x288 with 1 Axes>"
            ]
          },
          "metadata": {
            "tags": [],
            "needs_background": "light"
          }
        }
      ]
    },
    {
      "cell_type": "code",
      "metadata": {
        "colab": {
          "base_uri": "https://localhost:8080/",
          "height": 299
        },
        "id": "aY0S_lr3ShST",
        "outputId": "ca6eee1a-d672-43fa-b7b8-df99c60d61bc"
      },
      "source": [
        "grouped.LOS.plot()"
      ],
      "execution_count": 16,
      "outputs": [
        {
          "output_type": "execute_result",
          "data": {
            "text/plain": [
              "<matplotlib.axes._subplots.AxesSubplot at 0x7f768cbac910>"
            ]
          },
          "metadata": {
            "tags": []
          },
          "execution_count": 16
        },
        {
          "output_type": "display_data",
          "data": {
            "image/png": "[encoded data removed]",
            "text/plain": [
              "<Figure size 432x288 with 1 Axes>"
            ]
          },
          "metadata": {
            "tags": [],
            "needs_background": "light"
          }
        }
      ]
    },
    {
      "cell_type": "code",
      "metadata": {
        "colab": {
          "base_uri": "https://localhost:8080/",
          "height": 141
        },
        "id": "vT23kT7XBnmT",
        "outputId": "85ab8d07-1e58-4886-c5de-fa468b748721"
      },
      "source": [
        "df_yearly.describe().T"
      ],
      "execution_count": 48,
      "outputs": [
        {
          "output_type": "execute_result",
          "data": {
            "text/html": [
              "<div>\n",
              "<style scoped>\n",
              "    .dataframe tbody tr th:only-of-type {\n",
              "        vertical-align: middle;\n",
              "    }\n",
              "\n",
              "    .dataframe tbody tr th {\n",
              "        vertical-align: top;\n",
              "    }\n",
              "\n",
              "    .dataframe thead th {\n",
              "        text-align: right;\n",
              "    }\n",
              "</style>\n",
              "<table border=\"1\" class=\"dataframe\">\n",
              "  <thead>\n",
              "    <tr style=\"text-align: right;\">\n",
              "      <th></th>\n",
              "      <th>count</th>\n",
              "      <th>mean</th>\n",
              "      <th>std</th>\n",
              "      <th>min</th>\n",
              "      <th>25%</th>\n",
              "      <th>50%</th>\n",
              "      <th>75%</th>\n",
              "      <th>max</th>\n",
              "    </tr>\n",
              "  </thead>\n",
              "  <tbody>\n",
              "    <tr>\n",
              "      <th>MME</th>\n",
              "      <td>1521.0</td>\n",
              "      <td>1032.006870</td>\n",
              "      <td>1817.565149</td>\n",
              "      <td>0.0</td>\n",
              "      <td>373.800000</td>\n",
              "      <td>605.000000</td>\n",
              "      <td>1084.000000</td>\n",
              "      <td>42186.500000</td>\n",
              "    </tr>\n",
              "    <tr>\n",
              "      <th>LOS</th>\n",
              "      <td>1521.0</td>\n",
              "      <td>9.517423</td>\n",
              "      <td>10.427689</td>\n",
              "      <td>1.0</td>\n",
              "      <td>3.000000</td>\n",
              "      <td>6.000000</td>\n",
              "      <td>12.000000</td>\n",
              "      <td>95.000000</td>\n",
              "    </tr>\n",
              "    <tr>\n",
              "      <th>log_MME</th>\n",
              "      <td>1521.0</td>\n",
              "      <td>-inf</td>\n",
              "      <td>NaN</td>\n",
              "      <td>-inf</td>\n",
              "      <td>5.923721</td>\n",
              "      <td>6.405228</td>\n",
              "      <td>6.988413</td>\n",
              "      <td>10.649856</td>\n",
              "    </tr>\n",
              "  </tbody>\n",
              "</table>\n",
              "</div>"
            ],
            "text/plain": [
              "          count         mean  ...          75%           max\n",
              "MME      1521.0  1032.006870  ...  1084.000000  42186.500000\n",
              "LOS      1521.0     9.517423  ...    12.000000     95.000000\n",
              "log_MME  1521.0         -inf  ...     6.988413     10.649856\n",
              "\n",
              "[3 rows x 8 columns]"
            ]
          },
          "metadata": {
            "tags": []
          },
          "execution_count": 48
        }
      ]
    },
    {
      "cell_type": "code",
      "metadata": {
        "colab": {
          "base_uri": "https://localhost:8080/"
        },
        "id": "44F_gu2nPb6W",
        "outputId": "62a17f26-d962-49ca-e79b-e7be5404fd8e"
      },
      "source": [
        "df_yearly.groupby('Date')['Tapblock'].value_counts()"
      ],
      "execution_count": 17,
      "outputs": [
        {
          "output_type": "execute_result",
          "data": {
            "text/plain": [
              "Date  Tapblock\n",
              "2014  N           170\n",
              "2015  N           151\n",
              "      Y            98\n",
              "2016  N           147\n",
              "      Y           113\n",
              "2017  N           147\n",
              "      Y           124\n",
              "2018  N           145\n",
              "      Y           124\n",
              "2019  Y           169\n",
              "      N           129\n",
              "2020  N             4\n",
              "Name: Tapblock, dtype: int64"
            ]
          },
          "metadata": {
            "tags": []
          },
          "execution_count": 17
        }
      ]
    },
    {
      "cell_type": "code",
      "metadata": {
        "colab": {
          "base_uri": "https://localhost:8080/",
          "height": 294
        },
        "id": "h-ykERVCP9UJ",
        "outputId": "10b36f8b-9c71-44f8-afdf-0f8d62f87cc6"
      },
      "source": [
        "tap_mme = df_yearly.groupby('Date').mean()\r\n",
        "tap_mme"
      ],
      "execution_count": 18,
      "outputs": [
        {
          "output_type": "execute_result",
          "data": {
            "text/html": [
              "<div>\n",
              "<style scoped>\n",
              "    .dataframe tbody tr th:only-of-type {\n",
              "        vertical-align: middle;\n",
              "    }\n",
              "\n",
              "    .dataframe tbody tr th {\n",
              "        vertical-align: top;\n",
              "    }\n",
              "\n",
              "    .dataframe thead th {\n",
              "        text-align: right;\n",
              "    }\n",
              "</style>\n",
              "<table border=\"1\" class=\"dataframe\">\n",
              "  <thead>\n",
              "    <tr style=\"text-align: right;\">\n",
              "      <th></th>\n",
              "      <th>MME</th>\n",
              "      <th>LOS</th>\n",
              "    </tr>\n",
              "    <tr>\n",
              "      <th>Date</th>\n",
              "      <th></th>\n",
              "      <th></th>\n",
              "    </tr>\n",
              "  </thead>\n",
              "  <tbody>\n",
              "    <tr>\n",
              "      <th>2014</th>\n",
              "      <td>1360.408529</td>\n",
              "      <td>11.017647</td>\n",
              "    </tr>\n",
              "    <tr>\n",
              "      <th>2015</th>\n",
              "      <td>1234.211245</td>\n",
              "      <td>10.349398</td>\n",
              "    </tr>\n",
              "    <tr>\n",
              "      <th>2016</th>\n",
              "      <td>1058.604231</td>\n",
              "      <td>10.261538</td>\n",
              "    </tr>\n",
              "    <tr>\n",
              "      <th>2017</th>\n",
              "      <td>1110.971033</td>\n",
              "      <td>9.900369</td>\n",
              "    </tr>\n",
              "    <tr>\n",
              "      <th>2018</th>\n",
              "      <td>833.930669</td>\n",
              "      <td>8.516729</td>\n",
              "    </tr>\n",
              "    <tr>\n",
              "      <th>2019</th>\n",
              "      <td>768.417953</td>\n",
              "      <td>7.882550</td>\n",
              "    </tr>\n",
              "    <tr>\n",
              "      <th>2020</th>\n",
              "      <td>367.062500</td>\n",
              "      <td>8.750000</td>\n",
              "    </tr>\n",
              "  </tbody>\n",
              "</table>\n",
              "</div>"
            ],
            "text/plain": [
              "              MME        LOS\n",
              "Date                        \n",
              "2014  1360.408529  11.017647\n",
              "2015  1234.211245  10.349398\n",
              "2016  1058.604231  10.261538\n",
              "2017  1110.971033   9.900369\n",
              "2018   833.930669   8.516729\n",
              "2019   768.417953   7.882550\n",
              "2020   367.062500   8.750000"
            ]
          },
          "metadata": {
            "tags": []
          },
          "execution_count": 18
        }
      ]
    },
    {
      "cell_type": "code",
      "metadata": {
        "colab": {
          "base_uri": "https://localhost:8080/"
        },
        "id": "zd7tNhpTeKq2",
        "outputId": "ca0f0f1e-17ce-4c81-de5a-e7aa0339aaa3"
      },
      "source": [
        "tap_mme = df_yearly.groupby('Tapblock')['MME'].mean()\r\n",
        "tap_mme"
      ],
      "execution_count": 19,
      "outputs": [
        {
          "output_type": "execute_result",
          "data": {
            "text/plain": [
              "Tapblock\n",
              "N    1259.124692\n",
              "Y     709.051115\n",
              "Name: MME, dtype: float64"
            ]
          },
          "metadata": {
            "tags": []
          },
          "execution_count": 19
        }
      ]
    },
    {
      "cell_type": "code",
      "metadata": {
        "colab": {
          "base_uri": "https://localhost:8080/"
        },
        "id": "-aUTnn1GQ63e",
        "outputId": "ad6e1ded-1c8d-4eef-e74e-7557c75ed3ea"
      },
      "source": [
        "tap_mme.reset_index()\r\n",
        "n = tap_mme.iloc[0]\r\n",
        "y = tap_mme.iloc[1]\r\n",
        "y"
      ],
      "execution_count": 20,
      "outputs": [
        {
          "output_type": "execute_result",
          "data": {
            "text/plain": [
              "709.0511146496809"
            ]
          },
          "metadata": {
            "tags": []
          },
          "execution_count": 20
        }
      ]
    },
    {
      "cell_type": "code",
      "metadata": {
        "id": "Ez_DU-LQSPMk"
      },
      "source": [
        "pct_reduc = (n-y)/(n)"
      ],
      "execution_count": 21,
      "outputs": []
    },
    {
      "cell_type": "code",
      "metadata": {
        "colab": {
          "base_uri": "https://localhost:8080/"
        },
        "id": "qlTiCUu7Su31",
        "outputId": "109c26e9-5646-4b87-812f-8fe3f5d0f3a8"
      },
      "source": [
        "pct_reduc\r\n",
        "print('The percent reduction in MME for Tapblock: {:.4f}'.format(pct_reduc*100) + '%')"
      ],
      "execution_count": 22,
      "outputs": [
        {
          "output_type": "stream",
          "text": [
            "The percent reduction in MME for Tapblock: 43.6870%\n"
          ],
          "name": "stdout"
        }
      ]
    },
    {
      "cell_type": "code",
      "metadata": {
        "colab": {
          "base_uri": "https://localhost:8080/"
        },
        "id": "jt_jUFpiS9x9",
        "outputId": "1a413bd8-85d8-4239-9f96-36c48eb0c4b2"
      },
      "source": [
        "tap1 = df_yearly.groupby('Date')['MME'].mean()\r\n",
        "\r\n",
        "\r\n",
        "tap1"
      ],
      "execution_count": 23,
      "outputs": [
        {
          "output_type": "execute_result",
          "data": {
            "text/plain": [
              "Date\n",
              "2014    1360.408529\n",
              "2015    1234.211245\n",
              "2016    1058.604231\n",
              "2017    1110.971033\n",
              "2018     833.930669\n",
              "2019     768.417953\n",
              "2020     367.062500\n",
              "Freq: A-DEC, Name: MME, dtype: float64"
            ]
          },
          "metadata": {
            "tags": []
          },
          "execution_count": 23
        }
      ]
    },
    {
      "cell_type": "code",
      "metadata": {
        "id": "nEt4CRnwT_U7"
      },
      "source": [
        "\r\n",
        "tap1 = pd.DataFrame(tap1)"
      ],
      "execution_count": 24,
      "outputs": []
    },
    {
      "cell_type": "code",
      "metadata": {
        "colab": {
          "base_uri": "https://localhost:8080/",
          "height": 294
        },
        "id": "d3gQmxMbhtOf",
        "outputId": "13b992d8-4b68-46ec-d2f9-ae13f8b98790"
      },
      "source": [
        "tap1['Diff1'] = tap1.pct_change()\r\n",
        "tap1"
      ],
      "execution_count": 25,
      "outputs": [
        {
          "output_type": "execute_result",
          "data": {
            "text/html": [
              "<div>\n",
              "<style scoped>\n",
              "    .dataframe tbody tr th:only-of-type {\n",
              "        vertical-align: middle;\n",
              "    }\n",
              "\n",
              "    .dataframe tbody tr th {\n",
              "        vertical-align: top;\n",
              "    }\n",
              "\n",
              "    .dataframe thead th {\n",
              "        text-align: right;\n",
              "    }\n",
              "</style>\n",
              "<table border=\"1\" class=\"dataframe\">\n",
              "  <thead>\n",
              "    <tr style=\"text-align: right;\">\n",
              "      <th></th>\n",
              "      <th>MME</th>\n",
              "      <th>Diff1</th>\n",
              "    </tr>\n",
              "    <tr>\n",
              "      <th>Date</th>\n",
              "      <th></th>\n",
              "      <th></th>\n",
              "    </tr>\n",
              "  </thead>\n",
              "  <tbody>\n",
              "    <tr>\n",
              "      <th>2014</th>\n",
              "      <td>1360.408529</td>\n",
              "      <td>NaN</td>\n",
              "    </tr>\n",
              "    <tr>\n",
              "      <th>2015</th>\n",
              "      <td>1234.211245</td>\n",
              "      <td>-0.092764</td>\n",
              "    </tr>\n",
              "    <tr>\n",
              "      <th>2016</th>\n",
              "      <td>1058.604231</td>\n",
              "      <td>-0.142283</td>\n",
              "    </tr>\n",
              "    <tr>\n",
              "      <th>2017</th>\n",
              "      <td>1110.971033</td>\n",
              "      <td>0.049468</td>\n",
              "    </tr>\n",
              "    <tr>\n",
              "      <th>2018</th>\n",
              "      <td>833.930669</td>\n",
              "      <td>-0.249368</td>\n",
              "    </tr>\n",
              "    <tr>\n",
              "      <th>2019</th>\n",
              "      <td>768.417953</td>\n",
              "      <td>-0.078559</td>\n",
              "    </tr>\n",
              "    <tr>\n",
              "      <th>2020</th>\n",
              "      <td>367.062500</td>\n",
              "      <td>-0.522314</td>\n",
              "    </tr>\n",
              "  </tbody>\n",
              "</table>\n",
              "</div>"
            ],
            "text/plain": [
              "              MME     Diff1\n",
              "Date                       \n",
              "2014  1360.408529       NaN\n",
              "2015  1234.211245 -0.092764\n",
              "2016  1058.604231 -0.142283\n",
              "2017  1110.971033  0.049468\n",
              "2018   833.930669 -0.249368\n",
              "2019   768.417953 -0.078559\n",
              "2020   367.062500 -0.522314"
            ]
          },
          "metadata": {
            "tags": []
          },
          "execution_count": 25
        }
      ]
    },
    {
      "cell_type": "code",
      "metadata": {
        "colab": {
          "base_uri": "https://localhost:8080/",
          "height": 263
        },
        "id": "gcX1icI_h6_g",
        "outputId": "c7cad7ea-a5aa-47e1-fb82-fe584d69d664"
      },
      "source": [
        "tap1.dropna(axis=0)"
      ],
      "execution_count": 26,
      "outputs": [
        {
          "output_type": "execute_result",
          "data": {
            "text/html": [
              "<div>\n",
              "<style scoped>\n",
              "    .dataframe tbody tr th:only-of-type {\n",
              "        vertical-align: middle;\n",
              "    }\n",
              "\n",
              "    .dataframe tbody tr th {\n",
              "        vertical-align: top;\n",
              "    }\n",
              "\n",
              "    .dataframe thead th {\n",
              "        text-align: right;\n",
              "    }\n",
              "</style>\n",
              "<table border=\"1\" class=\"dataframe\">\n",
              "  <thead>\n",
              "    <tr style=\"text-align: right;\">\n",
              "      <th></th>\n",
              "      <th>MME</th>\n",
              "      <th>Diff1</th>\n",
              "    </tr>\n",
              "    <tr>\n",
              "      <th>Date</th>\n",
              "      <th></th>\n",
              "      <th></th>\n",
              "    </tr>\n",
              "  </thead>\n",
              "  <tbody>\n",
              "    <tr>\n",
              "      <th>2015</th>\n",
              "      <td>1234.211245</td>\n",
              "      <td>-0.092764</td>\n",
              "    </tr>\n",
              "    <tr>\n",
              "      <th>2016</th>\n",
              "      <td>1058.604231</td>\n",
              "      <td>-0.142283</td>\n",
              "    </tr>\n",
              "    <tr>\n",
              "      <th>2017</th>\n",
              "      <td>1110.971033</td>\n",
              "      <td>0.049468</td>\n",
              "    </tr>\n",
              "    <tr>\n",
              "      <th>2018</th>\n",
              "      <td>833.930669</td>\n",
              "      <td>-0.249368</td>\n",
              "    </tr>\n",
              "    <tr>\n",
              "      <th>2019</th>\n",
              "      <td>768.417953</td>\n",
              "      <td>-0.078559</td>\n",
              "    </tr>\n",
              "    <tr>\n",
              "      <th>2020</th>\n",
              "      <td>367.062500</td>\n",
              "      <td>-0.522314</td>\n",
              "    </tr>\n",
              "  </tbody>\n",
              "</table>\n",
              "</div>"
            ],
            "text/plain": [
              "              MME     Diff1\n",
              "Date                       \n",
              "2015  1234.211245 -0.092764\n",
              "2016  1058.604231 -0.142283\n",
              "2017  1110.971033  0.049468\n",
              "2018   833.930669 -0.249368\n",
              "2019   768.417953 -0.078559\n",
              "2020   367.062500 -0.522314"
            ]
          },
          "metadata": {
            "tags": []
          },
          "execution_count": 26
        }
      ]
    },
    {
      "cell_type": "code",
      "metadata": {
        "colab": {
          "base_uri": "https://localhost:8080/",
          "height": 299
        },
        "id": "dyb0W7m2Sv3u",
        "outputId": "a29c7e8a-3781-4f6d-a430-79f0bc81441b"
      },
      "source": [
        "sns.boxplot(data=df_yearly, x='Tapblock', y='LOS')"
      ],
      "execution_count": 27,
      "outputs": [
        {
          "output_type": "execute_result",
          "data": {
            "text/plain": [
              "<matplotlib.axes._subplots.AxesSubplot at 0x7f768cacabd0>"
            ]
          },
          "metadata": {
            "tags": []
          },
          "execution_count": 27
        },
        {
          "output_type": "display_data",
          "data": {
            "image/png": "[encoded data removed]",
            "text/plain": [
              "<Figure size 432x288 with 1 Axes>"
            ]
          },
          "metadata": {
            "tags": [],
            "needs_background": "light"
          }
        }
      ]
    },
    {
      "cell_type": "code",
      "metadata": {
        "colab": {
          "base_uri": "https://localhost:8080/"
        },
        "id": "FCF_NqI--4Ad",
        "outputId": "00b925ea-927d-4f3c-ad58-bc778b05b092"
      },
      "source": [
        "df_yearly['log_MME'] = np.log(df_yearly.MME)"
      ],
      "execution_count": 37,
      "outputs": [
        {
          "output_type": "stream",
          "text": [
            "/usr/local/lib/python3.7/dist-packages/pandas/core/series.py:726: RuntimeWarning: divide by zero encountered in log\n",
            "  result = getattr(ufunc, method)(*inputs, **kwargs)\n",
            "/usr/local/lib/python3.7/dist-packages/ipykernel_launcher.py:1: SettingWithCopyWarning: \n",
            "A value is trying to be set on a copy of a slice from a DataFrame.\n",
            "Try using .loc[row_indexer,col_indexer] = value instead\n",
            "\n",
            "See the caveats in the documentation: https://pandas.pydata.org/pandas-docs/stable/user_guide/indexing.html#returning-a-view-versus-a-copy\n",
            "  \"\"\"Entry point for launching an IPython kernel.\n"
          ],
          "name": "stderr"
        }
      ]
    },
    {
      "cell_type": "code",
      "metadata": {
        "colab": {
          "base_uri": "https://localhost:8080/",
          "height": 303
        },
        "id": "HraBlvxBXiCv",
        "outputId": "700147ed-8f02-43a6-9d24-6dec12ff227e"
      },
      "source": [
        "sns.boxplot(data=df_yearly, x='Tapblock', y='log_MME')"
      ],
      "execution_count": 39,
      "outputs": [
        {
          "output_type": "execute_result",
          "data": {
            "text/plain": [
              "<matplotlib.axes._subplots.AxesSubplot at 0x7f7688142ad0>"
            ]
          },
          "metadata": {
            "tags": []
          },
          "execution_count": 39
        },
        {
          "output_type": "display_data",
          "data": {
            "image/png": "[encoded data removed]",
            "text/plain": [
              "<Figure size 432x288 with 1 Axes>"
            ]
          },
          "metadata": {
            "tags": [],
            "needs_background": "light"
          }
        }
      ]
    },
    {
      "cell_type": "code",
      "metadata": {
        "colab": {
          "base_uri": "https://localhost:8080/",
          "height": 202
        },
        "id": "GNI6UB3w_CHG",
        "outputId": "647dccab-d7a9-4392-844c-720b1ada91a5"
      },
      "source": [
        "df_yearly.head().sort_values(by='Date', ascending=True)"
      ],
      "execution_count": 43,
      "outputs": [
        {
          "output_type": "execute_result",
          "data": {
            "text/html": [
              "<div>\n",
              "<style scoped>\n",
              "    .dataframe tbody tr th:only-of-type {\n",
              "        vertical-align: middle;\n",
              "    }\n",
              "\n",
              "    .dataframe tbody tr th {\n",
              "        vertical-align: top;\n",
              "    }\n",
              "\n",
              "    .dataframe thead th {\n",
              "        text-align: right;\n",
              "    }\n",
              "</style>\n",
              "<table border=\"1\" class=\"dataframe\">\n",
              "  <thead>\n",
              "    <tr style=\"text-align: right;\">\n",
              "      <th></th>\n",
              "      <th>Date</th>\n",
              "      <th>Tapblock</th>\n",
              "      <th>MME</th>\n",
              "      <th>LOS</th>\n",
              "      <th>Readmit</th>\n",
              "      <th>Leak</th>\n",
              "      <th>log_MME</th>\n",
              "    </tr>\n",
              "  </thead>\n",
              "  <tbody>\n",
              "    <tr>\n",
              "      <th>1</th>\n",
              "      <td>2014</td>\n",
              "      <td>N</td>\n",
              "      <td>2762.5</td>\n",
              "      <td>35</td>\n",
              "      <td>Y</td>\n",
              "      <td>N</td>\n",
              "      <td>7.923891</td>\n",
              "    </tr>\n",
              "    <tr>\n",
              "      <th>4</th>\n",
              "      <td>2015</td>\n",
              "      <td>N</td>\n",
              "      <td>2050.0</td>\n",
              "      <td>31</td>\n",
              "      <td>N</td>\n",
              "      <td>N</td>\n",
              "      <td>7.625595</td>\n",
              "    </tr>\n",
              "    <tr>\n",
              "      <th>0</th>\n",
              "      <td>2017</td>\n",
              "      <td>N</td>\n",
              "      <td>390.5</td>\n",
              "      <td>7</td>\n",
              "      <td>Y</td>\n",
              "      <td>N</td>\n",
              "      <td>5.967428</td>\n",
              "    </tr>\n",
              "    <tr>\n",
              "      <th>3</th>\n",
              "      <td>2018</td>\n",
              "      <td>Y</td>\n",
              "      <td>823.0</td>\n",
              "      <td>16</td>\n",
              "      <td>N</td>\n",
              "      <td>Y</td>\n",
              "      <td>6.712956</td>\n",
              "    </tr>\n",
              "    <tr>\n",
              "      <th>2</th>\n",
              "      <td>2019</td>\n",
              "      <td>N</td>\n",
              "      <td>510.0</td>\n",
              "      <td>5</td>\n",
              "      <td>N</td>\n",
              "      <td>N</td>\n",
              "      <td>6.234411</td>\n",
              "    </tr>\n",
              "  </tbody>\n",
              "</table>\n",
              "</div>"
            ],
            "text/plain": [
              "   Date Tapblock     MME  LOS Readmit Leak   log_MME\n",
              "1  2014        N  2762.5   35       Y    N  7.923891\n",
              "4  2015        N  2050.0   31       N    N  7.625595\n",
              "0  2017        N   390.5    7       Y    N  5.967428\n",
              "3  2018        Y   823.0   16       N    Y  6.712956\n",
              "2  2019        N   510.0    5       N    N  6.234411"
            ]
          },
          "metadata": {
            "tags": []
          },
          "execution_count": 43
        }
      ]
    },
    {
      "cell_type": "code",
      "metadata": {
        "colab": {
          "base_uri": "https://localhost:8080/",
          "height": 171
        },
        "id": "9uG2ct0AYvG5",
        "outputId": "ee0ff5aa-5fbe-407e-a47e-4f7cf8a13b71"
      },
      "source": [
        "\r\n",
        "df_yearly.groupby('Readmit').agg(['mean', 'count'])"
      ],
      "execution_count": 29,
      "outputs": [
        {
          "output_type": "execute_result",
          "data": {
            "text/html": [
              "<div>\n",
              "<style scoped>\n",
              "    .dataframe tbody tr th:only-of-type {\n",
              "        vertical-align: middle;\n",
              "    }\n",
              "\n",
              "    .dataframe tbody tr th {\n",
              "        vertical-align: top;\n",
              "    }\n",
              "\n",
              "    .dataframe thead tr th {\n",
              "        text-align: left;\n",
              "    }\n",
              "\n",
              "    .dataframe thead tr:last-of-type th {\n",
              "        text-align: right;\n",
              "    }\n",
              "</style>\n",
              "<table border=\"1\" class=\"dataframe\">\n",
              "  <thead>\n",
              "    <tr>\n",
              "      <th></th>\n",
              "      <th colspan=\"2\" halign=\"left\">MME</th>\n",
              "      <th colspan=\"2\" halign=\"left\">LOS</th>\n",
              "    </tr>\n",
              "    <tr>\n",
              "      <th></th>\n",
              "      <th>mean</th>\n",
              "      <th>count</th>\n",
              "      <th>mean</th>\n",
              "      <th>count</th>\n",
              "    </tr>\n",
              "    <tr>\n",
              "      <th>Readmit</th>\n",
              "      <th></th>\n",
              "      <th></th>\n",
              "      <th></th>\n",
              "      <th></th>\n",
              "    </tr>\n",
              "  </thead>\n",
              "  <tbody>\n",
              "    <tr>\n",
              "      <th>N</th>\n",
              "      <td>960.546627</td>\n",
              "      <td>1245</td>\n",
              "      <td>9.180723</td>\n",
              "      <td>1245</td>\n",
              "    </tr>\n",
              "    <tr>\n",
              "      <th>Y</th>\n",
              "      <td>1354.354710</td>\n",
              "      <td>276</td>\n",
              "      <td>11.036232</td>\n",
              "      <td>276</td>\n",
              "    </tr>\n",
              "  </tbody>\n",
              "</table>\n",
              "</div>"
            ],
            "text/plain": [
              "                 MME              LOS      \n",
              "                mean count       mean count\n",
              "Readmit                                    \n",
              "N         960.546627  1245   9.180723  1245\n",
              "Y        1354.354710   276  11.036232   276"
            ]
          },
          "metadata": {
            "tags": []
          },
          "execution_count": 29
        }
      ]
    },
    {
      "cell_type": "code",
      "metadata": {
        "colab": {
          "base_uri": "https://localhost:8080/",
          "height": 141
        },
        "id": "rttxgAZKYxX0",
        "outputId": "6bc39707-a6c4-44e0-e662-fc0ffb5e10c3"
      },
      "source": [
        "df_yearly.groupby('Leak').median()"
      ],
      "execution_count": 30,
      "outputs": [
        {
          "output_type": "execute_result",
          "data": {
            "text/html": [
              "<div>\n",
              "<style scoped>\n",
              "    .dataframe tbody tr th:only-of-type {\n",
              "        vertical-align: middle;\n",
              "    }\n",
              "\n",
              "    .dataframe tbody tr th {\n",
              "        vertical-align: top;\n",
              "    }\n",
              "\n",
              "    .dataframe thead th {\n",
              "        text-align: right;\n",
              "    }\n",
              "</style>\n",
              "<table border=\"1\" class=\"dataframe\">\n",
              "  <thead>\n",
              "    <tr style=\"text-align: right;\">\n",
              "      <th></th>\n",
              "      <th>MME</th>\n",
              "      <th>LOS</th>\n",
              "    </tr>\n",
              "    <tr>\n",
              "      <th>Leak</th>\n",
              "      <th></th>\n",
              "      <th></th>\n",
              "    </tr>\n",
              "  </thead>\n",
              "  <tbody>\n",
              "    <tr>\n",
              "      <th>N</th>\n",
              "      <td>595.0</td>\n",
              "      <td>5</td>\n",
              "    </tr>\n",
              "    <tr>\n",
              "      <th>Y</th>\n",
              "      <td>1053.9</td>\n",
              "      <td>14</td>\n",
              "    </tr>\n",
              "  </tbody>\n",
              "</table>\n",
              "</div>"
            ],
            "text/plain": [
              "         MME  LOS\n",
              "Leak             \n",
              "N      595.0    5\n",
              "Y     1053.9   14"
            ]
          },
          "metadata": {
            "tags": []
          },
          "execution_count": 30
        }
      ]
    },
    {
      "cell_type": "code",
      "metadata": {
        "colab": {
          "base_uri": "https://localhost:8080/",
          "height": 202
        },
        "id": "TsRwDN_xY9dl",
        "outputId": "1adfc2eb-aa20-4c92-fa5c-c9628b6e8a0b"
      },
      "source": [
        "pd.pivot_table(df_yearly, index = ['Readmit', 'Tapblock'], values=['MME', 'LOS'],\r\n",
        "                     aggfunc={'MME' : 'mean', 'LOS' : 'median'})"
      ],
      "execution_count": 31,
      "outputs": [
        {
          "output_type": "execute_result",
          "data": {
            "text/html": [
              "<div>\n",
              "<style scoped>\n",
              "    .dataframe tbody tr th:only-of-type {\n",
              "        vertical-align: middle;\n",
              "    }\n",
              "\n",
              "    .dataframe tbody tr th {\n",
              "        vertical-align: top;\n",
              "    }\n",
              "\n",
              "    .dataframe thead th {\n",
              "        text-align: right;\n",
              "    }\n",
              "</style>\n",
              "<table border=\"1\" class=\"dataframe\">\n",
              "  <thead>\n",
              "    <tr style=\"text-align: right;\">\n",
              "      <th></th>\n",
              "      <th></th>\n",
              "      <th>LOS</th>\n",
              "      <th>MME</th>\n",
              "    </tr>\n",
              "    <tr>\n",
              "      <th>Readmit</th>\n",
              "      <th>Tapblock</th>\n",
              "      <th></th>\n",
              "      <th></th>\n",
              "    </tr>\n",
              "  </thead>\n",
              "  <tbody>\n",
              "    <tr>\n",
              "      <th rowspan=\"2\" valign=\"top\">N</th>\n",
              "      <th>N</th>\n",
              "      <td>7</td>\n",
              "      <td>1186.466690</td>\n",
              "    </tr>\n",
              "    <tr>\n",
              "      <th>Y</th>\n",
              "      <td>4</td>\n",
              "      <td>666.558226</td>\n",
              "    </tr>\n",
              "    <tr>\n",
              "      <th rowspan=\"2\" valign=\"top\">Y</th>\n",
              "      <th>N</th>\n",
              "      <td>8</td>\n",
              "      <td>1529.766138</td>\n",
              "    </tr>\n",
              "    <tr>\n",
              "      <th>Y</th>\n",
              "      <td>6</td>\n",
              "      <td>973.288506</td>\n",
              "    </tr>\n",
              "  </tbody>\n",
              "</table>\n",
              "</div>"
            ],
            "text/plain": [
              "                  LOS          MME\n",
              "Readmit Tapblock                  \n",
              "N       N           7  1186.466690\n",
              "        Y           4   666.558226\n",
              "Y       N           8  1529.766138\n",
              "        Y           6   973.288506"
            ]
          },
          "metadata": {
            "tags": []
          },
          "execution_count": 31
        }
      ]
    },
    {
      "cell_type": "code",
      "metadata": {
        "colab": {
          "base_uri": "https://localhost:8080/",
          "height": 202
        },
        "id": "72Z_7xCEZ_98",
        "outputId": "7c98559c-1d0c-48d1-cb2b-9d00a530668e"
      },
      "source": [
        "pd.pivot_table(df_yearly, index = ['Leak', 'Tapblock'], values=['MME', 'LOS'],\r\n",
        "                     aggfunc={'MME' : 'mean', 'LOS' : 'median'})"
      ],
      "execution_count": 32,
      "outputs": [
        {
          "output_type": "execute_result",
          "data": {
            "text/html": [
              "<div>\n",
              "<style scoped>\n",
              "    .dataframe tbody tr th:only-of-type {\n",
              "        vertical-align: middle;\n",
              "    }\n",
              "\n",
              "    .dataframe tbody tr th {\n",
              "        vertical-align: top;\n",
              "    }\n",
              "\n",
              "    .dataframe thead th {\n",
              "        text-align: right;\n",
              "    }\n",
              "</style>\n",
              "<table border=\"1\" class=\"dataframe\">\n",
              "  <thead>\n",
              "    <tr style=\"text-align: right;\">\n",
              "      <th></th>\n",
              "      <th></th>\n",
              "      <th>LOS</th>\n",
              "      <th>MME</th>\n",
              "    </tr>\n",
              "    <tr>\n",
              "      <th>Leak</th>\n",
              "      <th>Tapblock</th>\n",
              "      <th></th>\n",
              "      <th></th>\n",
              "    </tr>\n",
              "  </thead>\n",
              "  <tbody>\n",
              "    <tr>\n",
              "      <th rowspan=\"2\" valign=\"top\">N</th>\n",
              "      <th>N</th>\n",
              "      <td>7.0</td>\n",
              "      <td>1240.612368</td>\n",
              "    </tr>\n",
              "    <tr>\n",
              "      <th>Y</th>\n",
              "      <td>4.0</td>\n",
              "      <td>684.302782</td>\n",
              "    </tr>\n",
              "    <tr>\n",
              "      <th rowspan=\"2\" valign=\"top\">Y</th>\n",
              "      <th>N</th>\n",
              "      <td>14.5</td>\n",
              "      <td>1653.900000</td>\n",
              "    </tr>\n",
              "    <tr>\n",
              "      <th>Y</th>\n",
              "      <td>12.0</td>\n",
              "      <td>1128.358571</td>\n",
              "    </tr>\n",
              "  </tbody>\n",
              "</table>\n",
              "</div>"
            ],
            "text/plain": [
              "                LOS          MME\n",
              "Leak Tapblock                   \n",
              "N    N          7.0  1240.612368\n",
              "     Y          4.0   684.302782\n",
              "Y    N         14.5  1653.900000\n",
              "     Y         12.0  1128.358571"
            ]
          },
          "metadata": {
            "tags": []
          },
          "execution_count": 32
        }
      ]
    },
    {
      "cell_type": "code",
      "metadata": {
        "colab": {
          "base_uri": "https://localhost:8080/",
          "height": 447
        },
        "id": "jA4FXsDqAcK4",
        "outputId": "517161d9-29f6-47c2-8876-b7691285480e"
      },
      "source": [
        "pd.pivot_table(df_yearly, index = ['Date','Tapblock'], values=['MME', 'LOS'],\r\n",
        "                     aggfunc={'MME' : 'mean', 'LOS' : 'mean'})"
      ],
      "execution_count": 46,
      "outputs": [
        {
          "output_type": "execute_result",
          "data": {
            "text/html": [
              "<div>\n",
              "<style scoped>\n",
              "    .dataframe tbody tr th:only-of-type {\n",
              "        vertical-align: middle;\n",
              "    }\n",
              "\n",
              "    .dataframe tbody tr th {\n",
              "        vertical-align: top;\n",
              "    }\n",
              "\n",
              "    .dataframe thead th {\n",
              "        text-align: right;\n",
              "    }\n",
              "</style>\n",
              "<table border=\"1\" class=\"dataframe\">\n",
              "  <thead>\n",
              "    <tr style=\"text-align: right;\">\n",
              "      <th></th>\n",
              "      <th></th>\n",
              "      <th>LOS</th>\n",
              "      <th>MME</th>\n",
              "    </tr>\n",
              "    <tr>\n",
              "      <th>Date</th>\n",
              "      <th>Tapblock</th>\n",
              "      <th></th>\n",
              "      <th></th>\n",
              "    </tr>\n",
              "  </thead>\n",
              "  <tbody>\n",
              "    <tr>\n",
              "      <th>2014</th>\n",
              "      <th>N</th>\n",
              "      <td>11.017647</td>\n",
              "      <td>1360.408529</td>\n",
              "    </tr>\n",
              "    <tr>\n",
              "      <th rowspan=\"2\" valign=\"top\">2015</th>\n",
              "      <th>N</th>\n",
              "      <td>12.443709</td>\n",
              "      <td>1528.958609</td>\n",
              "    </tr>\n",
              "    <tr>\n",
              "      <th>Y</th>\n",
              "      <td>7.122449</td>\n",
              "      <td>780.059694</td>\n",
              "    </tr>\n",
              "    <tr>\n",
              "      <th rowspan=\"2\" valign=\"top\">2016</th>\n",
              "      <th>N</th>\n",
              "      <td>12.938776</td>\n",
              "      <td>1330.212585</td>\n",
              "    </tr>\n",
              "    <tr>\n",
              "      <th>Y</th>\n",
              "      <td>6.778761</td>\n",
              "      <td>705.273009</td>\n",
              "    </tr>\n",
              "    <tr>\n",
              "      <th rowspan=\"2\" valign=\"top\">2017</th>\n",
              "      <th>N</th>\n",
              "      <td>11.646259</td>\n",
              "      <td>1373.398980</td>\n",
              "    </tr>\n",
              "    <tr>\n",
              "      <th>Y</th>\n",
              "      <td>7.830645</td>\n",
              "      <td>799.866935</td>\n",
              "    </tr>\n",
              "    <tr>\n",
              "      <th rowspan=\"2\" valign=\"top\">2018</th>\n",
              "      <th>N</th>\n",
              "      <td>10.241379</td>\n",
              "      <td>988.342759</td>\n",
              "    </tr>\n",
              "    <tr>\n",
              "      <th>Y</th>\n",
              "      <td>6.500000</td>\n",
              "      <td>653.368145</td>\n",
              "    </tr>\n",
              "    <tr>\n",
              "      <th rowspan=\"2\" valign=\"top\">2019</th>\n",
              "      <th>N</th>\n",
              "      <td>9.720930</td>\n",
              "      <td>930.599225</td>\n",
              "    </tr>\n",
              "    <tr>\n",
              "      <th>Y</th>\n",
              "      <td>6.479290</td>\n",
              "      <td>644.622781</td>\n",
              "    </tr>\n",
              "    <tr>\n",
              "      <th>2020</th>\n",
              "      <th>N</th>\n",
              "      <td>8.750000</td>\n",
              "      <td>367.062500</td>\n",
              "    </tr>\n",
              "  </tbody>\n",
              "</table>\n",
              "</div>"
            ],
            "text/plain": [
              "                     LOS          MME\n",
              "Date Tapblock                        \n",
              "2014 N         11.017647  1360.408529\n",
              "2015 N         12.443709  1528.958609\n",
              "     Y          7.122449   780.059694\n",
              "2016 N         12.938776  1330.212585\n",
              "     Y          6.778761   705.273009\n",
              "2017 N         11.646259  1373.398980\n",
              "     Y          7.830645   799.866935\n",
              "2018 N         10.241379   988.342759\n",
              "     Y          6.500000   653.368145\n",
              "2019 N          9.720930   930.599225\n",
              "     Y          6.479290   644.622781\n",
              "2020 N          8.750000   367.062500"
            ]
          },
          "metadata": {
            "tags": []
          },
          "execution_count": 46
        }
      ]
    },
    {
      "cell_type": "code",
      "metadata": {
        "colab": {
          "base_uri": "https://localhost:8080/"
        },
        "id": "buvhq127bruP",
        "outputId": "fbb8cb53-0dd5-4cdd-8e94-782a0d285f2e"
      },
      "source": [
        "mme_per_day = df_yearly.MME.mean()/df_yearly.LOS.mean()\r\n",
        "\r\n",
        "print('The overall MME per day: {:.2f}'.format(mme_per_day))"
      ],
      "execution_count": 33,
      "outputs": [
        {
          "output_type": "stream",
          "text": [
            "The overall MME per day: 108.43\n"
          ],
          "name": "stdout"
        }
      ]
    },
    {
      "cell_type": "code",
      "metadata": {
        "colab": {
          "base_uri": "https://localhost:8080/"
        },
        "id": "eZ9ZmZQXcBSd",
        "outputId": "934dd155-246a-4b44-f251-e10e334b0c12"
      },
      "source": [
        "df_yearly.groupby('Date')['Readmit'].value_counts()"
      ],
      "execution_count": 34,
      "outputs": [
        {
          "output_type": "execute_result",
          "data": {
            "text/plain": [
              "Date  Readmit\n",
              "2014  N          130\n",
              "      Y           40\n",
              "2015  N          208\n",
              "      Y           41\n",
              "2016  N          213\n",
              "      Y           47\n",
              "2017  N          232\n",
              "      Y           39\n",
              "2018  N          210\n",
              "      Y           59\n",
              "2019  N          249\n",
              "      Y           49\n",
              "2020  N            3\n",
              "      Y            1\n",
              "Name: Readmit, dtype: int64"
            ]
          },
          "metadata": {
            "tags": []
          },
          "execution_count": 34
        }
      ]
    }
  ]
}