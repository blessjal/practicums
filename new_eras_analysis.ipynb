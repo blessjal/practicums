{
  "nbformat": 4,
  "nbformat_minor": 0,
  "metadata": {
    "colab": {
      "name": "new_eras_analysis.ipynb",
      "provenance": [],
      "collapsed_sections": [],
      "authorship_tag": "ABX9TyPRTVPo7ZAG4a3LMGN5dKJh",
      "include_colab_link": true
    },
    "kernelspec": {
      "name": "python3",
      "display_name": "Python 3"
    }
  },
  "cells": [
    {
      "cell_type": "markdown",
      "metadata": {
        "id": "view-in-github",
        "colab_type": "text"
      },
      "source": [
        "<a href=\"https://colab.research.google.com/github/blessjal/practicums/blob/master/new_eras_analysis.ipynb\" target=\"_parent\"><img src=\"https://colab.research.google.com/assets/colab-badge.svg\" alt=\"Open In Colab\"/></a>"
      ]
    },
    {
      "cell_type": "code",
      "metadata": {
        "id": "NEw75eE5Hj4b"
      },
      "source": [
        "import pandas as pd\r\n",
        "import numpy as np\r\n",
        "import matplotlib.pyplot as plt\r\n",
        "import seaborn as sns\r\n",
        "\r\n",
        "%matplotlib inline\r\n",
        "plt.style.use('ggplot')"
      ],
      "execution_count": 32,
      "outputs": []
    },
    {
      "cell_type": "code",
      "metadata": {
        "colab": {
          "base_uri": "https://localhost:8080/",
          "height": 407
        },
        "id": "l5XgVYoNIKAF",
        "outputId": "9794d394-af29-4b4a-ba6a-1e7f9c31271f"
      },
      "source": [
        "df = pd.read_excel('/content/sample_data/new_eras_data.xlsx')\r\n",
        "\r\n",
        "df.head()"
      ],
      "execution_count": 33,
      "outputs": [
        {
          "output_type": "execute_result",
          "data": {
            "text/html": [
              "<div>\n",
              "<style scoped>\n",
              "    .dataframe tbody tr th:only-of-type {\n",
              "        vertical-align: middle;\n",
              "    }\n",
              "\n",
              "    .dataframe tbody tr th {\n",
              "        vertical-align: top;\n",
              "    }\n",
              "\n",
              "    .dataframe thead th {\n",
              "        text-align: right;\n",
              "    }\n",
              "</style>\n",
              "<table border=\"1\" class=\"dataframe\">\n",
              "  <thead>\n",
              "    <tr style=\"text-align: right;\">\n",
              "      <th></th>\n",
              "      <th>masked_patient_id</th>\n",
              "      <th>Age</th>\n",
              "      <th>sex</th>\n",
              "      <th>race</th>\n",
              "      <th>admission_date</th>\n",
              "      <th>discharge_date</th>\n",
              "      <th>date_of_surgery</th>\n",
              "      <th>proc_codes</th>\n",
              "      <th>proc_code_desc</th>\n",
              "      <th>length_of_stay</th>\n",
              "      <th>benign_disease</th>\n",
              "      <th>malignant_disease</th>\n",
              "      <th>diabetes_mellitus</th>\n",
              "      <th>COPD_or_asthma_or_emphysema</th>\n",
              "      <th>Congestive_heart_failure</th>\n",
              "      <th>Obesity_comorb</th>\n",
              "      <th>Tobacco_abuse</th>\n",
              "      <th>chronic_kidney_disease</th>\n",
              "      <th>chronic_steroid_use</th>\n",
              "      <th>chronic_constipation</th>\n",
              "      <th>hemoglobin_yn</th>\n",
              "      <th>hemoglobin_result_value</th>\n",
              "      <th>hemoglobin_result_unit</th>\n",
              "      <th>hematocrit_yn</th>\n",
              "      <th>hematocrit_result_value</th>\n",
              "      <th>hematocrit_result_unit</th>\n",
              "      <th>albumin_yn</th>\n",
              "      <th>albumin_result_value</th>\n",
              "      <th>albumin_result_unit</th>\n",
              "      <th>prealbumin_yn</th>\n",
              "      <th>prealbumin_result_value</th>\n",
              "      <th>prealbumin_result_unit</th>\n",
              "      <th>mu_opioid_antagonist_yn</th>\n",
              "      <th>epidurals_yn</th>\n",
              "      <th>BMI</th>\n",
              "      <th>ostomy_teaching</th>\n",
              "      <th>Tot_bloodloss</th>\n",
              "      <th>urinary_retention</th>\n",
              "      <th>tapblock_yn</th>\n",
              "      <th>avg_painscore</th>\n",
              "      <th>...</th>\n",
              "      <th>anastomoticleak_yn</th>\n",
              "      <th>Fentanyl_Transdermal_mcg</th>\n",
              "      <th>Fentanyl_Transdermal_mcg_mme</th>\n",
              "      <th>Fentanyl_Epidural_mcg</th>\n",
              "      <th>Fentanyl_Epidural_mcg_mme</th>\n",
              "      <th>Fentanyl_IV_mcg</th>\n",
              "      <th>Fentanyl_IV_mcg_mme</th>\n",
              "      <th>Hydrocodone_po_mg</th>\n",
              "      <th>Hydrocodone_po_mg_mme</th>\n",
              "      <th>hydromorphone_po_mg</th>\n",
              "      <th>hydromorphone_po_mg_mme</th>\n",
              "      <th>hydromorphone_Epidural_mg</th>\n",
              "      <th>hydromorphone_Epidural_mg_mme</th>\n",
              "      <th>hydromorphone_IV_mg</th>\n",
              "      <th>hydromorphone_IV_mg_mme</th>\n",
              "      <th>meperidine_po_mg</th>\n",
              "      <th>meperidine_po_mg_mme</th>\n",
              "      <th>meperidine_IV_mg</th>\n",
              "      <th>meperidine_IV_mg_mme</th>\n",
              "      <th>methadone_po_mg</th>\n",
              "      <th>methadone_po_mg_mme</th>\n",
              "      <th>methadone_IV_mg</th>\n",
              "      <th>methadone_IV_mg_mme</th>\n",
              "      <th>morphine_ER_po_mg</th>\n",
              "      <th>morphine_IV_mg</th>\n",
              "      <th>morphine_IV_mg_mme</th>\n",
              "      <th>morphine_po_mg</th>\n",
              "      <th>nalbuphine_iv_mg</th>\n",
              "      <th>nalbuphine_iv_mg_mme</th>\n",
              "      <th>oxycodone_ER_mg</th>\n",
              "      <th>oxycodone_ER_mg_mme</th>\n",
              "      <th>oxycodone_po_mg</th>\n",
              "      <th>oxycodone_po_mg_mme</th>\n",
              "      <th>oxymorphone_ER_po_mg</th>\n",
              "      <th>oxymorphone_ER_po_mg_mme</th>\n",
              "      <th>tramadol_po_mg</th>\n",
              "      <th>tramadol_po_mg_mme</th>\n",
              "      <th>redmission_30day_yn</th>\n",
              "      <th>Unnamed: 79</th>\n",
              "      <th>Total MME</th>\n",
              "    </tr>\n",
              "  </thead>\n",
              "  <tbody>\n",
              "    <tr>\n",
              "      <th>0</th>\n",
              "      <td>720</td>\n",
              "      <td>42</td>\n",
              "      <td>Male</td>\n",
              "      <td>Unknown</td>\n",
              "      <td>2017-10-02 09:05:00</td>\n",
              "      <td>2017-10-09 11:02:00</td>\n",
              "      <td>2017-10-02 09:05:00</td>\n",
              "      <td>45397</td>\n",
              "      <td>PR LAP, SURG PROCTECTOMY W J-POUCH</td>\n",
              "      <td>7</td>\n",
              "      <td>Y</td>\n",
              "      <td>Y</td>\n",
              "      <td>N</td>\n",
              "      <td>N</td>\n",
              "      <td>N</td>\n",
              "      <td>N</td>\n",
              "      <td>N</td>\n",
              "      <td>N</td>\n",
              "      <td>N</td>\n",
              "      <td>N</td>\n",
              "      <td>Y</td>\n",
              "      <td>14.2</td>\n",
              "      <td>g/dL</td>\n",
              "      <td>Y</td>\n",
              "      <td>42.0</td>\n",
              "      <td>%</td>\n",
              "      <td>N</td>\n",
              "      <td>NaN</td>\n",
              "      <td>NaN</td>\n",
              "      <td>N</td>\n",
              "      <td>NaN</td>\n",
              "      <td>NaN</td>\n",
              "      <td>N</td>\n",
              "      <td>N</td>\n",
              "      <td>27.13</td>\n",
              "      <td>N</td>\n",
              "      <td>NaN</td>\n",
              "      <td>N</td>\n",
              "      <td>N</td>\n",
              "      <td>2.0</td>\n",
              "      <td>...</td>\n",
              "      <td>N</td>\n",
              "      <td>0</td>\n",
              "      <td>0.0</td>\n",
              "      <td>0</td>\n",
              "      <td>0.0</td>\n",
              "      <td>300.0</td>\n",
              "      <td>30.0</td>\n",
              "      <td>0.0</td>\n",
              "      <td>0.0</td>\n",
              "      <td>0</td>\n",
              "      <td>0</td>\n",
              "      <td>0</td>\n",
              "      <td>0</td>\n",
              "      <td>0.5</td>\n",
              "      <td>10</td>\n",
              "      <td>0</td>\n",
              "      <td>0</td>\n",
              "      <td>0.0</td>\n",
              "      <td>0.0</td>\n",
              "      <td>0.0</td>\n",
              "      <td>0.0</td>\n",
              "      <td>0</td>\n",
              "      <td>0</td>\n",
              "      <td>0</td>\n",
              "      <td>0.0</td>\n",
              "      <td>0.0</td>\n",
              "      <td>0</td>\n",
              "      <td>0.0</td>\n",
              "      <td>0.0</td>\n",
              "      <td>0</td>\n",
              "      <td>0.0</td>\n",
              "      <td>20.0</td>\n",
              "      <td>30.0</td>\n",
              "      <td>0</td>\n",
              "      <td>0</td>\n",
              "      <td>0</td>\n",
              "      <td>0.0</td>\n",
              "      <td>Y</td>\n",
              "      <td>NaN</td>\n",
              "      <td>390.5</td>\n",
              "    </tr>\n",
              "    <tr>\n",
              "      <th>1</th>\n",
              "      <td>845</td>\n",
              "      <td>68</td>\n",
              "      <td>Male</td>\n",
              "      <td>White</td>\n",
              "      <td>2014-05-24 18:07:00</td>\n",
              "      <td>2014-06-28 12:17:00</td>\n",
              "      <td>2014-05-24 18:07:00</td>\n",
              "      <td>44160, 44160</td>\n",
              "      <td>PR REMVL COLON &amp; TERM ILEUM W/ILEOCOLOSTOMY, ...</td>\n",
              "      <td>35</td>\n",
              "      <td>Y</td>\n",
              "      <td>N</td>\n",
              "      <td>Y</td>\n",
              "      <td>Y</td>\n",
              "      <td>Y</td>\n",
              "      <td>N</td>\n",
              "      <td>N</td>\n",
              "      <td>Y</td>\n",
              "      <td>N</td>\n",
              "      <td>Y</td>\n",
              "      <td>Y</td>\n",
              "      <td>7.8</td>\n",
              "      <td>g/dL</td>\n",
              "      <td>Y</td>\n",
              "      <td>24.7</td>\n",
              "      <td>%</td>\n",
              "      <td>Y</td>\n",
              "      <td>1.8</td>\n",
              "      <td>g/dL</td>\n",
              "      <td>Y</td>\n",
              "      <td>10.8</td>\n",
              "      <td>mg/dl</td>\n",
              "      <td>N</td>\n",
              "      <td>N</td>\n",
              "      <td>43.96</td>\n",
              "      <td>N</td>\n",
              "      <td>NaN</td>\n",
              "      <td>N</td>\n",
              "      <td>N</td>\n",
              "      <td>4.0</td>\n",
              "      <td>...</td>\n",
              "      <td>N</td>\n",
              "      <td>0</td>\n",
              "      <td>0.0</td>\n",
              "      <td>0</td>\n",
              "      <td>0.0</td>\n",
              "      <td>700.0</td>\n",
              "      <td>70.0</td>\n",
              "      <td>0.0</td>\n",
              "      <td>0.0</td>\n",
              "      <td>0</td>\n",
              "      <td>0</td>\n",
              "      <td>0</td>\n",
              "      <td>0</td>\n",
              "      <td>0.0</td>\n",
              "      <td>0</td>\n",
              "      <td>0</td>\n",
              "      <td>0</td>\n",
              "      <td>0.0</td>\n",
              "      <td>0.0</td>\n",
              "      <td>0.0</td>\n",
              "      <td>0.0</td>\n",
              "      <td>0</td>\n",
              "      <td>0</td>\n",
              "      <td>0</td>\n",
              "      <td>20.0</td>\n",
              "      <td>60.0</td>\n",
              "      <td>0</td>\n",
              "      <td>0.0</td>\n",
              "      <td>0.0</td>\n",
              "      <td>0</td>\n",
              "      <td>0.0</td>\n",
              "      <td>765.0</td>\n",
              "      <td>1147.5</td>\n",
              "      <td>0</td>\n",
              "      <td>0</td>\n",
              "      <td>0</td>\n",
              "      <td>0.0</td>\n",
              "      <td>Y</td>\n",
              "      <td>NaN</td>\n",
              "      <td>2762.5</td>\n",
              "    </tr>\n",
              "    <tr>\n",
              "      <th>2</th>\n",
              "      <td>1286</td>\n",
              "      <td>62</td>\n",
              "      <td>Male</td>\n",
              "      <td>White</td>\n",
              "      <td>2019-01-11 05:29:00</td>\n",
              "      <td>2019-01-16 11:59:00</td>\n",
              "      <td>2019-01-11 05:29:00</td>\n",
              "      <td>44207, 44213</td>\n",
              "      <td>PR LAP,SURG,COLECTOMY,W/ANAST, PR LAP, SURG M...</td>\n",
              "      <td>5</td>\n",
              "      <td>Y</td>\n",
              "      <td>N</td>\n",
              "      <td>Y</td>\n",
              "      <td>N</td>\n",
              "      <td>N</td>\n",
              "      <td>N</td>\n",
              "      <td>N</td>\n",
              "      <td>N</td>\n",
              "      <td>N</td>\n",
              "      <td>N</td>\n",
              "      <td>Y</td>\n",
              "      <td>14.8</td>\n",
              "      <td>g/dL</td>\n",
              "      <td>Y</td>\n",
              "      <td>42.8</td>\n",
              "      <td>%</td>\n",
              "      <td>N</td>\n",
              "      <td>NaN</td>\n",
              "      <td>NaN</td>\n",
              "      <td>N</td>\n",
              "      <td>NaN</td>\n",
              "      <td>NaN</td>\n",
              "      <td>N</td>\n",
              "      <td>N</td>\n",
              "      <td>26.49</td>\n",
              "      <td>N</td>\n",
              "      <td>NaN</td>\n",
              "      <td>N</td>\n",
              "      <td>N</td>\n",
              "      <td>5.0</td>\n",
              "      <td>...</td>\n",
              "      <td>N</td>\n",
              "      <td>0</td>\n",
              "      <td>0.0</td>\n",
              "      <td>0</td>\n",
              "      <td>0.0</td>\n",
              "      <td>350.0</td>\n",
              "      <td>35.0</td>\n",
              "      <td>0.0</td>\n",
              "      <td>0.0</td>\n",
              "      <td>0</td>\n",
              "      <td>0</td>\n",
              "      <td>0</td>\n",
              "      <td>0</td>\n",
              "      <td>0.0</td>\n",
              "      <td>0</td>\n",
              "      <td>0</td>\n",
              "      <td>0</td>\n",
              "      <td>0.0</td>\n",
              "      <td>0.0</td>\n",
              "      <td>0.0</td>\n",
              "      <td>0.0</td>\n",
              "      <td>0</td>\n",
              "      <td>0</td>\n",
              "      <td>0</td>\n",
              "      <td>0.0</td>\n",
              "      <td>0.0</td>\n",
              "      <td>0</td>\n",
              "      <td>0.0</td>\n",
              "      <td>0.0</td>\n",
              "      <td>0</td>\n",
              "      <td>0.0</td>\n",
              "      <td>50.0</td>\n",
              "      <td>75.0</td>\n",
              "      <td>0</td>\n",
              "      <td>0</td>\n",
              "      <td>0</td>\n",
              "      <td>0.0</td>\n",
              "      <td>N</td>\n",
              "      <td>NaN</td>\n",
              "      <td>510.0</td>\n",
              "    </tr>\n",
              "    <tr>\n",
              "      <th>3</th>\n",
              "      <td>2111</td>\n",
              "      <td>65</td>\n",
              "      <td>Male</td>\n",
              "      <td>Black or African American</td>\n",
              "      <td>2018-05-14 08:10:00</td>\n",
              "      <td>2018-05-30 14:12:00</td>\n",
              "      <td>2018-05-14 08:10:00</td>\n",
              "      <td>44210</td>\n",
              "      <td>PR LAP,SURG,COLECTOMY,TOTAL,W/O PROCTECTOMY</td>\n",
              "      <td>16</td>\n",
              "      <td>Y</td>\n",
              "      <td>N</td>\n",
              "      <td>Y</td>\n",
              "      <td>Y</td>\n",
              "      <td>Y</td>\n",
              "      <td>N</td>\n",
              "      <td>N</td>\n",
              "      <td>N</td>\n",
              "      <td>N</td>\n",
              "      <td>N</td>\n",
              "      <td>Y</td>\n",
              "      <td>8.4</td>\n",
              "      <td>g/dL</td>\n",
              "      <td>Y</td>\n",
              "      <td>26.8</td>\n",
              "      <td>%</td>\n",
              "      <td>Y</td>\n",
              "      <td>3.3</td>\n",
              "      <td>g/dL</td>\n",
              "      <td>N</td>\n",
              "      <td>NaN</td>\n",
              "      <td>NaN</td>\n",
              "      <td>N</td>\n",
              "      <td>N</td>\n",
              "      <td>31.50</td>\n",
              "      <td>Y</td>\n",
              "      <td>NaN</td>\n",
              "      <td>N</td>\n",
              "      <td>Y</td>\n",
              "      <td>3.0</td>\n",
              "      <td>...</td>\n",
              "      <td>Y</td>\n",
              "      <td>0</td>\n",
              "      <td>0.0</td>\n",
              "      <td>0</td>\n",
              "      <td>0.0</td>\n",
              "      <td>575.0</td>\n",
              "      <td>57.5</td>\n",
              "      <td>0.0</td>\n",
              "      <td>0.0</td>\n",
              "      <td>0</td>\n",
              "      <td>0</td>\n",
              "      <td>0</td>\n",
              "      <td>0</td>\n",
              "      <td>0.5</td>\n",
              "      <td>10</td>\n",
              "      <td>0</td>\n",
              "      <td>0</td>\n",
              "      <td>0.0</td>\n",
              "      <td>0.0</td>\n",
              "      <td>0.0</td>\n",
              "      <td>0.0</td>\n",
              "      <td>0</td>\n",
              "      <td>0</td>\n",
              "      <td>0</td>\n",
              "      <td>0.0</td>\n",
              "      <td>0.0</td>\n",
              "      <td>0</td>\n",
              "      <td>0.0</td>\n",
              "      <td>0.0</td>\n",
              "      <td>0</td>\n",
              "      <td>0.0</td>\n",
              "      <td>50.0</td>\n",
              "      <td>75.0</td>\n",
              "      <td>0</td>\n",
              "      <td>0</td>\n",
              "      <td>50</td>\n",
              "      <td>5.0</td>\n",
              "      <td>N</td>\n",
              "      <td>NaN</td>\n",
              "      <td>823.0</td>\n",
              "    </tr>\n",
              "    <tr>\n",
              "      <th>4</th>\n",
              "      <td>2813</td>\n",
              "      <td>74</td>\n",
              "      <td>Male</td>\n",
              "      <td>Black or African American</td>\n",
              "      <td>2015-12-29 12:53:00</td>\n",
              "      <td>2016-01-29 10:07:00</td>\n",
              "      <td>2015-12-29 12:53:00</td>\n",
              "      <td>44320</td>\n",
              "      <td>PR COLOSTOMY</td>\n",
              "      <td>31</td>\n",
              "      <td>N</td>\n",
              "      <td>N</td>\n",
              "      <td>Y</td>\n",
              "      <td>Y</td>\n",
              "      <td>N</td>\n",
              "      <td>N</td>\n",
              "      <td>N</td>\n",
              "      <td>N</td>\n",
              "      <td>N</td>\n",
              "      <td>N</td>\n",
              "      <td>Y</td>\n",
              "      <td>8.2</td>\n",
              "      <td>g/dL</td>\n",
              "      <td>Y</td>\n",
              "      <td>24.9</td>\n",
              "      <td>%</td>\n",
              "      <td>Y</td>\n",
              "      <td>1.5</td>\n",
              "      <td>g/dL</td>\n",
              "      <td>Y</td>\n",
              "      <td>8.7</td>\n",
              "      <td>mg/dl</td>\n",
              "      <td>N</td>\n",
              "      <td>N</td>\n",
              "      <td>NaN</td>\n",
              "      <td>N</td>\n",
              "      <td>NaN</td>\n",
              "      <td>N</td>\n",
              "      <td>N</td>\n",
              "      <td>4.0</td>\n",
              "      <td>...</td>\n",
              "      <td>N</td>\n",
              "      <td>75</td>\n",
              "      <td>7.5</td>\n",
              "      <td>0</td>\n",
              "      <td>0.0</td>\n",
              "      <td>1050.0</td>\n",
              "      <td>105.0</td>\n",
              "      <td>0.0</td>\n",
              "      <td>0.0</td>\n",
              "      <td>0</td>\n",
              "      <td>0</td>\n",
              "      <td>0</td>\n",
              "      <td>0</td>\n",
              "      <td>12.5</td>\n",
              "      <td>250</td>\n",
              "      <td>0</td>\n",
              "      <td>0</td>\n",
              "      <td>0.0</td>\n",
              "      <td>0.0</td>\n",
              "      <td>0.0</td>\n",
              "      <td>0.0</td>\n",
              "      <td>0</td>\n",
              "      <td>0</td>\n",
              "      <td>0</td>\n",
              "      <td>0.0</td>\n",
              "      <td>0.0</td>\n",
              "      <td>0</td>\n",
              "      <td>0.0</td>\n",
              "      <td>0.0</td>\n",
              "      <td>0</td>\n",
              "      <td>0.0</td>\n",
              "      <td>220.0</td>\n",
              "      <td>330.0</td>\n",
              "      <td>0</td>\n",
              "      <td>0</td>\n",
              "      <td>0</td>\n",
              "      <td>0.0</td>\n",
              "      <td>N</td>\n",
              "      <td>NaN</td>\n",
              "      <td>2050.0</td>\n",
              "    </tr>\n",
              "  </tbody>\n",
              "</table>\n",
              "<p>5 rows × 81 columns</p>\n",
              "</div>"
            ],
            "text/plain": [
              "   masked_patient_id Age   sex  ... redmission_30day_yn Unnamed: 79 Total MME\n",
              "0                720  42  Male  ...                   Y         NaN     390.5\n",
              "1                845  68  Male  ...                   Y         NaN    2762.5\n",
              "2               1286  62  Male  ...                   N         NaN     510.0\n",
              "3               2111  65  Male  ...                   N         NaN     823.0\n",
              "4               2813  74  Male  ...                   N         NaN    2050.0\n",
              "\n",
              "[5 rows x 81 columns]"
            ]
          },
          "metadata": {
            "tags": []
          },
          "execution_count": 33
        }
      ]
    },
    {
      "cell_type": "code",
      "metadata": {
        "colab": {
          "base_uri": "https://localhost:8080/"
        },
        "id": "DGiE55BfKzh4",
        "outputId": "89c5fad2-1fd1-408d-c477-df3b78deda7d"
      },
      "source": [
        "df.shape"
      ],
      "execution_count": 4,
      "outputs": [
        {
          "output_type": "execute_result",
          "data": {
            "text/plain": [
              "(1521, 81)"
            ]
          },
          "metadata": {
            "tags": []
          },
          "execution_count": 4
        }
      ]
    },
    {
      "cell_type": "code",
      "metadata": {
        "colab": {
          "base_uri": "https://localhost:8080/"
        },
        "id": "LbUzStyvI75u",
        "outputId": "a15448d2-e7ff-4f8b-aadd-22c7fab909b7"
      },
      "source": [
        "df.dtypes"
      ],
      "execution_count": 6,
      "outputs": [
        {
          "output_type": "execute_result",
          "data": {
            "text/plain": [
              "masked_patient_id               int64\n",
              "Age                            object\n",
              "sex                            object\n",
              "race                           object\n",
              "admission_date         datetime64[ns]\n",
              "                            ...      \n",
              "tramadol_po_mg                  int64\n",
              "tramadol_po_mg_mme            float64\n",
              "redmission_30day_yn            object\n",
              "Unnamed: 79                   float64\n",
              "Total MME                     float64\n",
              "Length: 81, dtype: object"
            ]
          },
          "metadata": {
            "tags": []
          },
          "execution_count": 6
        }
      ]
    },
    {
      "cell_type": "code",
      "metadata": {
        "id": "7nV82eqXJJZd"
      },
      "source": [
        "import datetime"
      ],
      "execution_count": 34,
      "outputs": []
    },
    {
      "cell_type": "code",
      "metadata": {
        "id": "rNC6sYwsJP8a"
      },
      "source": [
        "df['admission_date'] = df['admission_date'].dt.to_period(\"Y\")\r\n"
      ],
      "execution_count": 35,
      "outputs": []
    },
    {
      "cell_type": "code",
      "metadata": {
        "colab": {
          "base_uri": "https://localhost:8080/",
          "height": 407
        },
        "id": "HVFC6eoeJhdV",
        "outputId": "a593cbd4-d278-49ac-cfe4-a7edd13b0ffd"
      },
      "source": [
        "df.head()"
      ],
      "execution_count": 36,
      "outputs": [
        {
          "output_type": "execute_result",
          "data": {
            "text/html": [
              "<div>\n",
              "<style scoped>\n",
              "    .dataframe tbody tr th:only-of-type {\n",
              "        vertical-align: middle;\n",
              "    }\n",
              "\n",
              "    .dataframe tbody tr th {\n",
              "        vertical-align: top;\n",
              "    }\n",
              "\n",
              "    .dataframe thead th {\n",
              "        text-align: right;\n",
              "    }\n",
              "</style>\n",
              "<table border=\"1\" class=\"dataframe\">\n",
              "  <thead>\n",
              "    <tr style=\"text-align: right;\">\n",
              "      <th></th>\n",
              "      <th>masked_patient_id</th>\n",
              "      <th>Age</th>\n",
              "      <th>sex</th>\n",
              "      <th>race</th>\n",
              "      <th>admission_date</th>\n",
              "      <th>discharge_date</th>\n",
              "      <th>date_of_surgery</th>\n",
              "      <th>proc_codes</th>\n",
              "      <th>proc_code_desc</th>\n",
              "      <th>length_of_stay</th>\n",
              "      <th>benign_disease</th>\n",
              "      <th>malignant_disease</th>\n",
              "      <th>diabetes_mellitus</th>\n",
              "      <th>COPD_or_asthma_or_emphysema</th>\n",
              "      <th>Congestive_heart_failure</th>\n",
              "      <th>Obesity_comorb</th>\n",
              "      <th>Tobacco_abuse</th>\n",
              "      <th>chronic_kidney_disease</th>\n",
              "      <th>chronic_steroid_use</th>\n",
              "      <th>chronic_constipation</th>\n",
              "      <th>hemoglobin_yn</th>\n",
              "      <th>hemoglobin_result_value</th>\n",
              "      <th>hemoglobin_result_unit</th>\n",
              "      <th>hematocrit_yn</th>\n",
              "      <th>hematocrit_result_value</th>\n",
              "      <th>hematocrit_result_unit</th>\n",
              "      <th>albumin_yn</th>\n",
              "      <th>albumin_result_value</th>\n",
              "      <th>albumin_result_unit</th>\n",
              "      <th>prealbumin_yn</th>\n",
              "      <th>prealbumin_result_value</th>\n",
              "      <th>prealbumin_result_unit</th>\n",
              "      <th>mu_opioid_antagonist_yn</th>\n",
              "      <th>epidurals_yn</th>\n",
              "      <th>BMI</th>\n",
              "      <th>ostomy_teaching</th>\n",
              "      <th>Tot_bloodloss</th>\n",
              "      <th>urinary_retention</th>\n",
              "      <th>tapblock_yn</th>\n",
              "      <th>avg_painscore</th>\n",
              "      <th>...</th>\n",
              "      <th>anastomoticleak_yn</th>\n",
              "      <th>Fentanyl_Transdermal_mcg</th>\n",
              "      <th>Fentanyl_Transdermal_mcg_mme</th>\n",
              "      <th>Fentanyl_Epidural_mcg</th>\n",
              "      <th>Fentanyl_Epidural_mcg_mme</th>\n",
              "      <th>Fentanyl_IV_mcg</th>\n",
              "      <th>Fentanyl_IV_mcg_mme</th>\n",
              "      <th>Hydrocodone_po_mg</th>\n",
              "      <th>Hydrocodone_po_mg_mme</th>\n",
              "      <th>hydromorphone_po_mg</th>\n",
              "      <th>hydromorphone_po_mg_mme</th>\n",
              "      <th>hydromorphone_Epidural_mg</th>\n",
              "      <th>hydromorphone_Epidural_mg_mme</th>\n",
              "      <th>hydromorphone_IV_mg</th>\n",
              "      <th>hydromorphone_IV_mg_mme</th>\n",
              "      <th>meperidine_po_mg</th>\n",
              "      <th>meperidine_po_mg_mme</th>\n",
              "      <th>meperidine_IV_mg</th>\n",
              "      <th>meperidine_IV_mg_mme</th>\n",
              "      <th>methadone_po_mg</th>\n",
              "      <th>methadone_po_mg_mme</th>\n",
              "      <th>methadone_IV_mg</th>\n",
              "      <th>methadone_IV_mg_mme</th>\n",
              "      <th>morphine_ER_po_mg</th>\n",
              "      <th>morphine_IV_mg</th>\n",
              "      <th>morphine_IV_mg_mme</th>\n",
              "      <th>morphine_po_mg</th>\n",
              "      <th>nalbuphine_iv_mg</th>\n",
              "      <th>nalbuphine_iv_mg_mme</th>\n",
              "      <th>oxycodone_ER_mg</th>\n",
              "      <th>oxycodone_ER_mg_mme</th>\n",
              "      <th>oxycodone_po_mg</th>\n",
              "      <th>oxycodone_po_mg_mme</th>\n",
              "      <th>oxymorphone_ER_po_mg</th>\n",
              "      <th>oxymorphone_ER_po_mg_mme</th>\n",
              "      <th>tramadol_po_mg</th>\n",
              "      <th>tramadol_po_mg_mme</th>\n",
              "      <th>redmission_30day_yn</th>\n",
              "      <th>Unnamed: 79</th>\n",
              "      <th>Total MME</th>\n",
              "    </tr>\n",
              "  </thead>\n",
              "  <tbody>\n",
              "    <tr>\n",
              "      <th>0</th>\n",
              "      <td>720</td>\n",
              "      <td>42</td>\n",
              "      <td>Male</td>\n",
              "      <td>Unknown</td>\n",
              "      <td>2017</td>\n",
              "      <td>2017-10-09 11:02:00</td>\n",
              "      <td>2017-10-02 09:05:00</td>\n",
              "      <td>45397</td>\n",
              "      <td>PR LAP, SURG PROCTECTOMY W J-POUCH</td>\n",
              "      <td>7</td>\n",
              "      <td>Y</td>\n",
              "      <td>Y</td>\n",
              "      <td>N</td>\n",
              "      <td>N</td>\n",
              "      <td>N</td>\n",
              "      <td>N</td>\n",
              "      <td>N</td>\n",
              "      <td>N</td>\n",
              "      <td>N</td>\n",
              "      <td>N</td>\n",
              "      <td>Y</td>\n",
              "      <td>14.2</td>\n",
              "      <td>g/dL</td>\n",
              "      <td>Y</td>\n",
              "      <td>42.0</td>\n",
              "      <td>%</td>\n",
              "      <td>N</td>\n",
              "      <td>NaN</td>\n",
              "      <td>NaN</td>\n",
              "      <td>N</td>\n",
              "      <td>NaN</td>\n",
              "      <td>NaN</td>\n",
              "      <td>N</td>\n",
              "      <td>N</td>\n",
              "      <td>27.13</td>\n",
              "      <td>N</td>\n",
              "      <td>NaN</td>\n",
              "      <td>N</td>\n",
              "      <td>N</td>\n",
              "      <td>2.0</td>\n",
              "      <td>...</td>\n",
              "      <td>N</td>\n",
              "      <td>0</td>\n",
              "      <td>0.0</td>\n",
              "      <td>0</td>\n",
              "      <td>0.0</td>\n",
              "      <td>300.0</td>\n",
              "      <td>30.0</td>\n",
              "      <td>0.0</td>\n",
              "      <td>0.0</td>\n",
              "      <td>0</td>\n",
              "      <td>0</td>\n",
              "      <td>0</td>\n",
              "      <td>0</td>\n",
              "      <td>0.5</td>\n",
              "      <td>10</td>\n",
              "      <td>0</td>\n",
              "      <td>0</td>\n",
              "      <td>0.0</td>\n",
              "      <td>0.0</td>\n",
              "      <td>0.0</td>\n",
              "      <td>0.0</td>\n",
              "      <td>0</td>\n",
              "      <td>0</td>\n",
              "      <td>0</td>\n",
              "      <td>0.0</td>\n",
              "      <td>0.0</td>\n",
              "      <td>0</td>\n",
              "      <td>0.0</td>\n",
              "      <td>0.0</td>\n",
              "      <td>0</td>\n",
              "      <td>0.0</td>\n",
              "      <td>20.0</td>\n",
              "      <td>30.0</td>\n",
              "      <td>0</td>\n",
              "      <td>0</td>\n",
              "      <td>0</td>\n",
              "      <td>0.0</td>\n",
              "      <td>Y</td>\n",
              "      <td>NaN</td>\n",
              "      <td>390.5</td>\n",
              "    </tr>\n",
              "    <tr>\n",
              "      <th>1</th>\n",
              "      <td>845</td>\n",
              "      <td>68</td>\n",
              "      <td>Male</td>\n",
              "      <td>White</td>\n",
              "      <td>2014</td>\n",
              "      <td>2014-06-28 12:17:00</td>\n",
              "      <td>2014-05-24 18:07:00</td>\n",
              "      <td>44160, 44160</td>\n",
              "      <td>PR REMVL COLON &amp; TERM ILEUM W/ILEOCOLOSTOMY, ...</td>\n",
              "      <td>35</td>\n",
              "      <td>Y</td>\n",
              "      <td>N</td>\n",
              "      <td>Y</td>\n",
              "      <td>Y</td>\n",
              "      <td>Y</td>\n",
              "      <td>N</td>\n",
              "      <td>N</td>\n",
              "      <td>Y</td>\n",
              "      <td>N</td>\n",
              "      <td>Y</td>\n",
              "      <td>Y</td>\n",
              "      <td>7.8</td>\n",
              "      <td>g/dL</td>\n",
              "      <td>Y</td>\n",
              "      <td>24.7</td>\n",
              "      <td>%</td>\n",
              "      <td>Y</td>\n",
              "      <td>1.8</td>\n",
              "      <td>g/dL</td>\n",
              "      <td>Y</td>\n",
              "      <td>10.8</td>\n",
              "      <td>mg/dl</td>\n",
              "      <td>N</td>\n",
              "      <td>N</td>\n",
              "      <td>43.96</td>\n",
              "      <td>N</td>\n",
              "      <td>NaN</td>\n",
              "      <td>N</td>\n",
              "      <td>N</td>\n",
              "      <td>4.0</td>\n",
              "      <td>...</td>\n",
              "      <td>N</td>\n",
              "      <td>0</td>\n",
              "      <td>0.0</td>\n",
              "      <td>0</td>\n",
              "      <td>0.0</td>\n",
              "      <td>700.0</td>\n",
              "      <td>70.0</td>\n",
              "      <td>0.0</td>\n",
              "      <td>0.0</td>\n",
              "      <td>0</td>\n",
              "      <td>0</td>\n",
              "      <td>0</td>\n",
              "      <td>0</td>\n",
              "      <td>0.0</td>\n",
              "      <td>0</td>\n",
              "      <td>0</td>\n",
              "      <td>0</td>\n",
              "      <td>0.0</td>\n",
              "      <td>0.0</td>\n",
              "      <td>0.0</td>\n",
              "      <td>0.0</td>\n",
              "      <td>0</td>\n",
              "      <td>0</td>\n",
              "      <td>0</td>\n",
              "      <td>20.0</td>\n",
              "      <td>60.0</td>\n",
              "      <td>0</td>\n",
              "      <td>0.0</td>\n",
              "      <td>0.0</td>\n",
              "      <td>0</td>\n",
              "      <td>0.0</td>\n",
              "      <td>765.0</td>\n",
              "      <td>1147.5</td>\n",
              "      <td>0</td>\n",
              "      <td>0</td>\n",
              "      <td>0</td>\n",
              "      <td>0.0</td>\n",
              "      <td>Y</td>\n",
              "      <td>NaN</td>\n",
              "      <td>2762.5</td>\n",
              "    </tr>\n",
              "    <tr>\n",
              "      <th>2</th>\n",
              "      <td>1286</td>\n",
              "      <td>62</td>\n",
              "      <td>Male</td>\n",
              "      <td>White</td>\n",
              "      <td>2019</td>\n",
              "      <td>2019-01-16 11:59:00</td>\n",
              "      <td>2019-01-11 05:29:00</td>\n",
              "      <td>44207, 44213</td>\n",
              "      <td>PR LAP,SURG,COLECTOMY,W/ANAST, PR LAP, SURG M...</td>\n",
              "      <td>5</td>\n",
              "      <td>Y</td>\n",
              "      <td>N</td>\n",
              "      <td>Y</td>\n",
              "      <td>N</td>\n",
              "      <td>N</td>\n",
              "      <td>N</td>\n",
              "      <td>N</td>\n",
              "      <td>N</td>\n",
              "      <td>N</td>\n",
              "      <td>N</td>\n",
              "      <td>Y</td>\n",
              "      <td>14.8</td>\n",
              "      <td>g/dL</td>\n",
              "      <td>Y</td>\n",
              "      <td>42.8</td>\n",
              "      <td>%</td>\n",
              "      <td>N</td>\n",
              "      <td>NaN</td>\n",
              "      <td>NaN</td>\n",
              "      <td>N</td>\n",
              "      <td>NaN</td>\n",
              "      <td>NaN</td>\n",
              "      <td>N</td>\n",
              "      <td>N</td>\n",
              "      <td>26.49</td>\n",
              "      <td>N</td>\n",
              "      <td>NaN</td>\n",
              "      <td>N</td>\n",
              "      <td>N</td>\n",
              "      <td>5.0</td>\n",
              "      <td>...</td>\n",
              "      <td>N</td>\n",
              "      <td>0</td>\n",
              "      <td>0.0</td>\n",
              "      <td>0</td>\n",
              "      <td>0.0</td>\n",
              "      <td>350.0</td>\n",
              "      <td>35.0</td>\n",
              "      <td>0.0</td>\n",
              "      <td>0.0</td>\n",
              "      <td>0</td>\n",
              "      <td>0</td>\n",
              "      <td>0</td>\n",
              "      <td>0</td>\n",
              "      <td>0.0</td>\n",
              "      <td>0</td>\n",
              "      <td>0</td>\n",
              "      <td>0</td>\n",
              "      <td>0.0</td>\n",
              "      <td>0.0</td>\n",
              "      <td>0.0</td>\n",
              "      <td>0.0</td>\n",
              "      <td>0</td>\n",
              "      <td>0</td>\n",
              "      <td>0</td>\n",
              "      <td>0.0</td>\n",
              "      <td>0.0</td>\n",
              "      <td>0</td>\n",
              "      <td>0.0</td>\n",
              "      <td>0.0</td>\n",
              "      <td>0</td>\n",
              "      <td>0.0</td>\n",
              "      <td>50.0</td>\n",
              "      <td>75.0</td>\n",
              "      <td>0</td>\n",
              "      <td>0</td>\n",
              "      <td>0</td>\n",
              "      <td>0.0</td>\n",
              "      <td>N</td>\n",
              "      <td>NaN</td>\n",
              "      <td>510.0</td>\n",
              "    </tr>\n",
              "    <tr>\n",
              "      <th>3</th>\n",
              "      <td>2111</td>\n",
              "      <td>65</td>\n",
              "      <td>Male</td>\n",
              "      <td>Black or African American</td>\n",
              "      <td>2018</td>\n",
              "      <td>2018-05-30 14:12:00</td>\n",
              "      <td>2018-05-14 08:10:00</td>\n",
              "      <td>44210</td>\n",
              "      <td>PR LAP,SURG,COLECTOMY,TOTAL,W/O PROCTECTOMY</td>\n",
              "      <td>16</td>\n",
              "      <td>Y</td>\n",
              "      <td>N</td>\n",
              "      <td>Y</td>\n",
              "      <td>Y</td>\n",
              "      <td>Y</td>\n",
              "      <td>N</td>\n",
              "      <td>N</td>\n",
              "      <td>N</td>\n",
              "      <td>N</td>\n",
              "      <td>N</td>\n",
              "      <td>Y</td>\n",
              "      <td>8.4</td>\n",
              "      <td>g/dL</td>\n",
              "      <td>Y</td>\n",
              "      <td>26.8</td>\n",
              "      <td>%</td>\n",
              "      <td>Y</td>\n",
              "      <td>3.3</td>\n",
              "      <td>g/dL</td>\n",
              "      <td>N</td>\n",
              "      <td>NaN</td>\n",
              "      <td>NaN</td>\n",
              "      <td>N</td>\n",
              "      <td>N</td>\n",
              "      <td>31.50</td>\n",
              "      <td>Y</td>\n",
              "      <td>NaN</td>\n",
              "      <td>N</td>\n",
              "      <td>Y</td>\n",
              "      <td>3.0</td>\n",
              "      <td>...</td>\n",
              "      <td>Y</td>\n",
              "      <td>0</td>\n",
              "      <td>0.0</td>\n",
              "      <td>0</td>\n",
              "      <td>0.0</td>\n",
              "      <td>575.0</td>\n",
              "      <td>57.5</td>\n",
              "      <td>0.0</td>\n",
              "      <td>0.0</td>\n",
              "      <td>0</td>\n",
              "      <td>0</td>\n",
              "      <td>0</td>\n",
              "      <td>0</td>\n",
              "      <td>0.5</td>\n",
              "      <td>10</td>\n",
              "      <td>0</td>\n",
              "      <td>0</td>\n",
              "      <td>0.0</td>\n",
              "      <td>0.0</td>\n",
              "      <td>0.0</td>\n",
              "      <td>0.0</td>\n",
              "      <td>0</td>\n",
              "      <td>0</td>\n",
              "      <td>0</td>\n",
              "      <td>0.0</td>\n",
              "      <td>0.0</td>\n",
              "      <td>0</td>\n",
              "      <td>0.0</td>\n",
              "      <td>0.0</td>\n",
              "      <td>0</td>\n",
              "      <td>0.0</td>\n",
              "      <td>50.0</td>\n",
              "      <td>75.0</td>\n",
              "      <td>0</td>\n",
              "      <td>0</td>\n",
              "      <td>50</td>\n",
              "      <td>5.0</td>\n",
              "      <td>N</td>\n",
              "      <td>NaN</td>\n",
              "      <td>823.0</td>\n",
              "    </tr>\n",
              "    <tr>\n",
              "      <th>4</th>\n",
              "      <td>2813</td>\n",
              "      <td>74</td>\n",
              "      <td>Male</td>\n",
              "      <td>Black or African American</td>\n",
              "      <td>2015</td>\n",
              "      <td>2016-01-29 10:07:00</td>\n",
              "      <td>2015-12-29 12:53:00</td>\n",
              "      <td>44320</td>\n",
              "      <td>PR COLOSTOMY</td>\n",
              "      <td>31</td>\n",
              "      <td>N</td>\n",
              "      <td>N</td>\n",
              "      <td>Y</td>\n",
              "      <td>Y</td>\n",
              "      <td>N</td>\n",
              "      <td>N</td>\n",
              "      <td>N</td>\n",
              "      <td>N</td>\n",
              "      <td>N</td>\n",
              "      <td>N</td>\n",
              "      <td>Y</td>\n",
              "      <td>8.2</td>\n",
              "      <td>g/dL</td>\n",
              "      <td>Y</td>\n",
              "      <td>24.9</td>\n",
              "      <td>%</td>\n",
              "      <td>Y</td>\n",
              "      <td>1.5</td>\n",
              "      <td>g/dL</td>\n",
              "      <td>Y</td>\n",
              "      <td>8.7</td>\n",
              "      <td>mg/dl</td>\n",
              "      <td>N</td>\n",
              "      <td>N</td>\n",
              "      <td>NaN</td>\n",
              "      <td>N</td>\n",
              "      <td>NaN</td>\n",
              "      <td>N</td>\n",
              "      <td>N</td>\n",
              "      <td>4.0</td>\n",
              "      <td>...</td>\n",
              "      <td>N</td>\n",
              "      <td>75</td>\n",
              "      <td>7.5</td>\n",
              "      <td>0</td>\n",
              "      <td>0.0</td>\n",
              "      <td>1050.0</td>\n",
              "      <td>105.0</td>\n",
              "      <td>0.0</td>\n",
              "      <td>0.0</td>\n",
              "      <td>0</td>\n",
              "      <td>0</td>\n",
              "      <td>0</td>\n",
              "      <td>0</td>\n",
              "      <td>12.5</td>\n",
              "      <td>250</td>\n",
              "      <td>0</td>\n",
              "      <td>0</td>\n",
              "      <td>0.0</td>\n",
              "      <td>0.0</td>\n",
              "      <td>0.0</td>\n",
              "      <td>0.0</td>\n",
              "      <td>0</td>\n",
              "      <td>0</td>\n",
              "      <td>0</td>\n",
              "      <td>0.0</td>\n",
              "      <td>0.0</td>\n",
              "      <td>0</td>\n",
              "      <td>0.0</td>\n",
              "      <td>0.0</td>\n",
              "      <td>0</td>\n",
              "      <td>0.0</td>\n",
              "      <td>220.0</td>\n",
              "      <td>330.0</td>\n",
              "      <td>0</td>\n",
              "      <td>0</td>\n",
              "      <td>0</td>\n",
              "      <td>0.0</td>\n",
              "      <td>N</td>\n",
              "      <td>NaN</td>\n",
              "      <td>2050.0</td>\n",
              "    </tr>\n",
              "  </tbody>\n",
              "</table>\n",
              "<p>5 rows × 81 columns</p>\n",
              "</div>"
            ],
            "text/plain": [
              "   masked_patient_id Age   sex  ... redmission_30day_yn Unnamed: 79 Total MME\n",
              "0                720  42  Male  ...                   Y         NaN     390.5\n",
              "1                845  68  Male  ...                   Y         NaN    2762.5\n",
              "2               1286  62  Male  ...                   N         NaN     510.0\n",
              "3               2111  65  Male  ...                   N         NaN     823.0\n",
              "4               2813  74  Male  ...                   N         NaN    2050.0\n",
              "\n",
              "[5 rows x 81 columns]"
            ]
          },
          "metadata": {
            "tags": []
          },
          "execution_count": 36
        }
      ]
    },
    {
      "cell_type": "code",
      "metadata": {
        "colab": {
          "base_uri": "https://localhost:8080/",
          "height": 202
        },
        "id": "mEK68laUKn3o",
        "outputId": "165c9f04-bf78-470d-af54-7524548c4c2a"
      },
      "source": [
        "df_yearly = df[['admission_date', 'tapblock_yn', 'Total MME', 'length_of_stay', 'redmission_30day_yn', 'anastomoticleak_yn']]\r\n",
        "\r\n",
        "\r\n",
        "\r\n",
        "columns = ['Date', 'Tapblock', 'MME', 'LOS', 'Readmit', 'Leak']\r\n",
        "df_yearly.columns = columns\r\n",
        "df_yearly.head()"
      ],
      "execution_count": 37,
      "outputs": [
        {
          "output_type": "execute_result",
          "data": {
            "text/html": [
              "<div>\n",
              "<style scoped>\n",
              "    .dataframe tbody tr th:only-of-type {\n",
              "        vertical-align: middle;\n",
              "    }\n",
              "\n",
              "    .dataframe tbody tr th {\n",
              "        vertical-align: top;\n",
              "    }\n",
              "\n",
              "    .dataframe thead th {\n",
              "        text-align: right;\n",
              "    }\n",
              "</style>\n",
              "<table border=\"1\" class=\"dataframe\">\n",
              "  <thead>\n",
              "    <tr style=\"text-align: right;\">\n",
              "      <th></th>\n",
              "      <th>Date</th>\n",
              "      <th>Tapblock</th>\n",
              "      <th>MME</th>\n",
              "      <th>LOS</th>\n",
              "      <th>Readmit</th>\n",
              "      <th>Leak</th>\n",
              "    </tr>\n",
              "  </thead>\n",
              "  <tbody>\n",
              "    <tr>\n",
              "      <th>0</th>\n",
              "      <td>2017</td>\n",
              "      <td>N</td>\n",
              "      <td>390.5</td>\n",
              "      <td>7</td>\n",
              "      <td>Y</td>\n",
              "      <td>N</td>\n",
              "    </tr>\n",
              "    <tr>\n",
              "      <th>1</th>\n",
              "      <td>2014</td>\n",
              "      <td>N</td>\n",
              "      <td>2762.5</td>\n",
              "      <td>35</td>\n",
              "      <td>Y</td>\n",
              "      <td>N</td>\n",
              "    </tr>\n",
              "    <tr>\n",
              "      <th>2</th>\n",
              "      <td>2019</td>\n",
              "      <td>N</td>\n",
              "      <td>510.0</td>\n",
              "      <td>5</td>\n",
              "      <td>N</td>\n",
              "      <td>N</td>\n",
              "    </tr>\n",
              "    <tr>\n",
              "      <th>3</th>\n",
              "      <td>2018</td>\n",
              "      <td>Y</td>\n",
              "      <td>823.0</td>\n",
              "      <td>16</td>\n",
              "      <td>N</td>\n",
              "      <td>Y</td>\n",
              "    </tr>\n",
              "    <tr>\n",
              "      <th>4</th>\n",
              "      <td>2015</td>\n",
              "      <td>N</td>\n",
              "      <td>2050.0</td>\n",
              "      <td>31</td>\n",
              "      <td>N</td>\n",
              "      <td>N</td>\n",
              "    </tr>\n",
              "  </tbody>\n",
              "</table>\n",
              "</div>"
            ],
            "text/plain": [
              "   Date Tapblock     MME  LOS Readmit Leak\n",
              "0  2017        N   390.5    7       Y    N\n",
              "1  2014        N  2762.5   35       Y    N\n",
              "2  2019        N   510.0    5       N    N\n",
              "3  2018        Y   823.0   16       N    Y\n",
              "4  2015        N  2050.0   31       N    N"
            ]
          },
          "metadata": {
            "tags": []
          },
          "execution_count": 37
        }
      ]
    },
    {
      "cell_type": "code",
      "metadata": {
        "colab": {
          "base_uri": "https://localhost:8080/",
          "height": 415
        },
        "id": "RaggOA1QFLpj",
        "outputId": "1c252507-2b67-42dc-ee28-947b619b9c2a"
      },
      "source": [
        "df_yearly.reset_index()"
      ],
      "execution_count": 38,
      "outputs": [
        {
          "output_type": "execute_result",
          "data": {
            "text/html": [
              "<div>\n",
              "<style scoped>\n",
              "    .dataframe tbody tr th:only-of-type {\n",
              "        vertical-align: middle;\n",
              "    }\n",
              "\n",
              "    .dataframe tbody tr th {\n",
              "        vertical-align: top;\n",
              "    }\n",
              "\n",
              "    .dataframe thead th {\n",
              "        text-align: right;\n",
              "    }\n",
              "</style>\n",
              "<table border=\"1\" class=\"dataframe\">\n",
              "  <thead>\n",
              "    <tr style=\"text-align: right;\">\n",
              "      <th></th>\n",
              "      <th>index</th>\n",
              "      <th>Date</th>\n",
              "      <th>Tapblock</th>\n",
              "      <th>MME</th>\n",
              "      <th>LOS</th>\n",
              "      <th>Readmit</th>\n",
              "      <th>Leak</th>\n",
              "    </tr>\n",
              "  </thead>\n",
              "  <tbody>\n",
              "    <tr>\n",
              "      <th>0</th>\n",
              "      <td>0</td>\n",
              "      <td>2017</td>\n",
              "      <td>N</td>\n",
              "      <td>390.50</td>\n",
              "      <td>7</td>\n",
              "      <td>Y</td>\n",
              "      <td>N</td>\n",
              "    </tr>\n",
              "    <tr>\n",
              "      <th>1</th>\n",
              "      <td>1</td>\n",
              "      <td>2014</td>\n",
              "      <td>N</td>\n",
              "      <td>2762.50</td>\n",
              "      <td>35</td>\n",
              "      <td>Y</td>\n",
              "      <td>N</td>\n",
              "    </tr>\n",
              "    <tr>\n",
              "      <th>2</th>\n",
              "      <td>2</td>\n",
              "      <td>2019</td>\n",
              "      <td>N</td>\n",
              "      <td>510.00</td>\n",
              "      <td>5</td>\n",
              "      <td>N</td>\n",
              "      <td>N</td>\n",
              "    </tr>\n",
              "    <tr>\n",
              "      <th>3</th>\n",
              "      <td>3</td>\n",
              "      <td>2018</td>\n",
              "      <td>Y</td>\n",
              "      <td>823.00</td>\n",
              "      <td>16</td>\n",
              "      <td>N</td>\n",
              "      <td>Y</td>\n",
              "    </tr>\n",
              "    <tr>\n",
              "      <th>4</th>\n",
              "      <td>4</td>\n",
              "      <td>2015</td>\n",
              "      <td>N</td>\n",
              "      <td>2050.00</td>\n",
              "      <td>31</td>\n",
              "      <td>N</td>\n",
              "      <td>N</td>\n",
              "    </tr>\n",
              "    <tr>\n",
              "      <th>...</th>\n",
              "      <td>...</td>\n",
              "      <td>...</td>\n",
              "      <td>...</td>\n",
              "      <td>...</td>\n",
              "      <td>...</td>\n",
              "      <td>...</td>\n",
              "      <td>...</td>\n",
              "    </tr>\n",
              "    <tr>\n",
              "      <th>1516</th>\n",
              "      <td>1516</td>\n",
              "      <td>2020</td>\n",
              "      <td>N</td>\n",
              "      <td>444.25</td>\n",
              "      <td>11</td>\n",
              "      <td>Y</td>\n",
              "      <td>Y</td>\n",
              "    </tr>\n",
              "    <tr>\n",
              "      <th>1517</th>\n",
              "      <td>1517</td>\n",
              "      <td>2019</td>\n",
              "      <td>Y</td>\n",
              "      <td>175.00</td>\n",
              "      <td>2</td>\n",
              "      <td>N</td>\n",
              "      <td>N</td>\n",
              "    </tr>\n",
              "    <tr>\n",
              "      <th>1518</th>\n",
              "      <td>1518</td>\n",
              "      <td>2019</td>\n",
              "      <td>N</td>\n",
              "      <td>1116.50</td>\n",
              "      <td>5</td>\n",
              "      <td>N</td>\n",
              "      <td>N</td>\n",
              "    </tr>\n",
              "    <tr>\n",
              "      <th>1519</th>\n",
              "      <td>1519</td>\n",
              "      <td>2020</td>\n",
              "      <td>N</td>\n",
              "      <td>549.00</td>\n",
              "      <td>6</td>\n",
              "      <td>N</td>\n",
              "      <td>N</td>\n",
              "    </tr>\n",
              "    <tr>\n",
              "      <th>1520</th>\n",
              "      <td>1520</td>\n",
              "      <td>2019</td>\n",
              "      <td>N</td>\n",
              "      <td>1197.00</td>\n",
              "      <td>12</td>\n",
              "      <td>Y</td>\n",
              "      <td>N</td>\n",
              "    </tr>\n",
              "  </tbody>\n",
              "</table>\n",
              "<p>1521 rows × 7 columns</p>\n",
              "</div>"
            ],
            "text/plain": [
              "      index  Date Tapblock      MME  LOS Readmit Leak\n",
              "0         0  2017        N   390.50    7       Y    N\n",
              "1         1  2014        N  2762.50   35       Y    N\n",
              "2         2  2019        N   510.00    5       N    N\n",
              "3         3  2018        Y   823.00   16       N    Y\n",
              "4         4  2015        N  2050.00   31       N    N\n",
              "...     ...   ...      ...      ...  ...     ...  ...\n",
              "1516   1516  2020        N   444.25   11       Y    Y\n",
              "1517   1517  2019        Y   175.00    2       N    N\n",
              "1518   1518  2019        N  1116.50    5       N    N\n",
              "1519   1519  2020        N   549.00    6       N    N\n",
              "1520   1520  2019        N  1197.00   12       Y    N\n",
              "\n",
              "[1521 rows x 7 columns]"
            ]
          },
          "metadata": {
            "tags": []
          },
          "execution_count": 38
        }
      ]
    },
    {
      "cell_type": "code",
      "metadata": {
        "colab": {
          "base_uri": "https://localhost:8080/"
        },
        "id": "ivnNcjTqFYL3",
        "outputId": "47f0432b-7151-4e1c-d6f1-c159b7381c3a"
      },
      "source": [
        "df_yearly.columns"
      ],
      "execution_count": 39,
      "outputs": [
        {
          "output_type": "execute_result",
          "data": {
            "text/plain": [
              "Index(['Date', 'Tapblock', 'MME', 'LOS', 'Readmit', 'Leak'], dtype='object')"
            ]
          },
          "metadata": {
            "tags": []
          },
          "execution_count": 39
        }
      ]
    },
    {
      "cell_type": "code",
      "metadata": {
        "id": "FnO0BQ3BKwuP",
        "colab": {
          "base_uri": "https://localhost:8080/",
          "height": 349
        },
        "outputId": "cf1344e6-8cf7-479b-d01c-1cbc0b1feb8e"
      },
      "source": [
        "grouped = df_yearly.groupby('Date')['MME', 'LOS'].mean()\r\n",
        "grouped\r\n"
      ],
      "execution_count": 40,
      "outputs": [
        {
          "output_type": "stream",
          "text": [
            "/usr/local/lib/python3.7/dist-packages/ipykernel_launcher.py:1: FutureWarning: Indexing with multiple keys (implicitly converted to a tuple of keys) will be deprecated, use a list instead.\n",
            "  \"\"\"Entry point for launching an IPython kernel.\n"
          ],
          "name": "stderr"
        },
        {
          "output_type": "execute_result",
          "data": {
            "text/html": [
              "<div>\n",
              "<style scoped>\n",
              "    .dataframe tbody tr th:only-of-type {\n",
              "        vertical-align: middle;\n",
              "    }\n",
              "\n",
              "    .dataframe tbody tr th {\n",
              "        vertical-align: top;\n",
              "    }\n",
              "\n",
              "    .dataframe thead th {\n",
              "        text-align: right;\n",
              "    }\n",
              "</style>\n",
              "<table border=\"1\" class=\"dataframe\">\n",
              "  <thead>\n",
              "    <tr style=\"text-align: right;\">\n",
              "      <th></th>\n",
              "      <th>MME</th>\n",
              "      <th>LOS</th>\n",
              "    </tr>\n",
              "    <tr>\n",
              "      <th>Date</th>\n",
              "      <th></th>\n",
              "      <th></th>\n",
              "    </tr>\n",
              "  </thead>\n",
              "  <tbody>\n",
              "    <tr>\n",
              "      <th>2014</th>\n",
              "      <td>1360.408529</td>\n",
              "      <td>11.017647</td>\n",
              "    </tr>\n",
              "    <tr>\n",
              "      <th>2015</th>\n",
              "      <td>1234.211245</td>\n",
              "      <td>10.349398</td>\n",
              "    </tr>\n",
              "    <tr>\n",
              "      <th>2016</th>\n",
              "      <td>1058.604231</td>\n",
              "      <td>10.261538</td>\n",
              "    </tr>\n",
              "    <tr>\n",
              "      <th>2017</th>\n",
              "      <td>1110.971033</td>\n",
              "      <td>9.900369</td>\n",
              "    </tr>\n",
              "    <tr>\n",
              "      <th>2018</th>\n",
              "      <td>833.930669</td>\n",
              "      <td>8.516729</td>\n",
              "    </tr>\n",
              "    <tr>\n",
              "      <th>2019</th>\n",
              "      <td>768.417953</td>\n",
              "      <td>7.882550</td>\n",
              "    </tr>\n",
              "    <tr>\n",
              "      <th>2020</th>\n",
              "      <td>367.062500</td>\n",
              "      <td>8.750000</td>\n",
              "    </tr>\n",
              "  </tbody>\n",
              "</table>\n",
              "</div>"
            ],
            "text/plain": [
              "              MME        LOS\n",
              "Date                        \n",
              "2014  1360.408529  11.017647\n",
              "2015  1234.211245  10.349398\n",
              "2016  1058.604231  10.261538\n",
              "2017  1110.971033   9.900369\n",
              "2018   833.930669   8.516729\n",
              "2019   768.417953   7.882550\n",
              "2020   367.062500   8.750000"
            ]
          },
          "metadata": {
            "tags": []
          },
          "execution_count": 40
        }
      ]
    },
    {
      "cell_type": "code",
      "metadata": {
        "colab": {
          "base_uri": "https://localhost:8080/",
          "height": 294
        },
        "id": "X_kw_PY-e6GQ",
        "outputId": "0d030325-1459-4362-8191-5b46f65d531a"
      },
      "source": [
        "grouped['MPD'] = grouped.MME/grouped.LOS #MPD = MME per Day\r\n",
        "\r\n",
        "grouped"
      ],
      "execution_count": 41,
      "outputs": [
        {
          "output_type": "execute_result",
          "data": {
            "text/html": [
              "<div>\n",
              "<style scoped>\n",
              "    .dataframe tbody tr th:only-of-type {\n",
              "        vertical-align: middle;\n",
              "    }\n",
              "\n",
              "    .dataframe tbody tr th {\n",
              "        vertical-align: top;\n",
              "    }\n",
              "\n",
              "    .dataframe thead th {\n",
              "        text-align: right;\n",
              "    }\n",
              "</style>\n",
              "<table border=\"1\" class=\"dataframe\">\n",
              "  <thead>\n",
              "    <tr style=\"text-align: right;\">\n",
              "      <th></th>\n",
              "      <th>MME</th>\n",
              "      <th>LOS</th>\n",
              "      <th>MPD</th>\n",
              "    </tr>\n",
              "    <tr>\n",
              "      <th>Date</th>\n",
              "      <th></th>\n",
              "      <th></th>\n",
              "      <th></th>\n",
              "    </tr>\n",
              "  </thead>\n",
              "  <tbody>\n",
              "    <tr>\n",
              "      <th>2014</th>\n",
              "      <td>1360.408529</td>\n",
              "      <td>11.017647</td>\n",
              "      <td>123.475414</td>\n",
              "    </tr>\n",
              "    <tr>\n",
              "      <th>2015</th>\n",
              "      <td>1234.211245</td>\n",
              "      <td>10.349398</td>\n",
              "      <td>119.254404</td>\n",
              "    </tr>\n",
              "    <tr>\n",
              "      <th>2016</th>\n",
              "      <td>1058.604231</td>\n",
              "      <td>10.261538</td>\n",
              "      <td>103.162331</td>\n",
              "    </tr>\n",
              "    <tr>\n",
              "      <th>2017</th>\n",
              "      <td>1110.971033</td>\n",
              "      <td>9.900369</td>\n",
              "      <td>112.215114</td>\n",
              "    </tr>\n",
              "    <tr>\n",
              "      <th>2018</th>\n",
              "      <td>833.930669</td>\n",
              "      <td>8.516729</td>\n",
              "      <td>97.916783</td>\n",
              "    </tr>\n",
              "    <tr>\n",
              "      <th>2019</th>\n",
              "      <td>768.417953</td>\n",
              "      <td>7.882550</td>\n",
              "      <td>97.483418</td>\n",
              "    </tr>\n",
              "    <tr>\n",
              "      <th>2020</th>\n",
              "      <td>367.062500</td>\n",
              "      <td>8.750000</td>\n",
              "      <td>41.950000</td>\n",
              "    </tr>\n",
              "  </tbody>\n",
              "</table>\n",
              "</div>"
            ],
            "text/plain": [
              "              MME        LOS         MPD\n",
              "Date                                    \n",
              "2014  1360.408529  11.017647  123.475414\n",
              "2015  1234.211245  10.349398  119.254404\n",
              "2016  1058.604231  10.261538  103.162331\n",
              "2017  1110.971033   9.900369  112.215114\n",
              "2018   833.930669   8.516729   97.916783\n",
              "2019   768.417953   7.882550   97.483418\n",
              "2020   367.062500   8.750000   41.950000"
            ]
          },
          "metadata": {
            "tags": []
          },
          "execution_count": 41
        }
      ]
    },
    {
      "cell_type": "code",
      "metadata": {
        "colab": {
          "base_uri": "https://localhost:8080/",
          "height": 299
        },
        "id": "VhEEFDLBQfQn",
        "outputId": "99434793-4427-4094-a524-82b52a05b2fd"
      },
      "source": [
        "grouped['MPD'].plot()"
      ],
      "execution_count": 42,
      "outputs": [
        {
          "output_type": "execute_result",
          "data": {
            "text/plain": [
              "<matplotlib.axes._subplots.AxesSubplot at 0x7fce35ab41d0>"
            ]
          },
          "metadata": {
            "tags": []
          },
          "execution_count": 42
        },
        {
          "output_type": "display_data",
          "data": {
            "image/png": "[encoded data removed]",
            "text/plain": [
              "<Figure size 432x288 with 1 Axes>"
            ]
          },
          "metadata": {
            "tags": []
          }
        }
      ]
    },
    {
      "cell_type": "code",
      "metadata": {
        "colab": {
          "base_uri": "https://localhost:8080/"
        },
        "id": "G2twsjKbW2Xo",
        "outputId": "aabe9f5b-c4b8-4afe-f5c1-33af4a24ebfd"
      },
      "source": [
        "df_yearly.groupby('Date')['LOS'].mean()"
      ],
      "execution_count": 44,
      "outputs": [
        {
          "output_type": "execute_result",
          "data": {
            "text/plain": [
              "Date\n",
              "2014    11.017647\n",
              "2015    10.349398\n",
              "2016    10.261538\n",
              "2017     9.900369\n",
              "2018     8.516729\n",
              "2019     7.882550\n",
              "2020     8.750000\n",
              "Freq: A-DEC, Name: LOS, dtype: float64"
            ]
          },
          "metadata": {
            "tags": []
          },
          "execution_count": 44
        }
      ]
    },
    {
      "cell_type": "code",
      "metadata": {
        "colab": {
          "base_uri": "https://localhost:8080/",
          "height": 301
        },
        "id": "XlJ0xxZ4Mwly",
        "outputId": "73ad089c-0c76-45ee-d4de-846d64de6ab6"
      },
      "source": [
        "grouped['MME'].plot()"
      ],
      "execution_count": 45,
      "outputs": [
        {
          "output_type": "execute_result",
          "data": {
            "text/plain": [
              "<matplotlib.axes._subplots.AxesSubplot at 0x7fce35ab4310>"
            ]
          },
          "metadata": {
            "tags": []
          },
          "execution_count": 45
        },
        {
          "output_type": "display_data",
          "data": {
            "image/png": "[encoded data removed]",
            "text/plain": [
              "<Figure size 432x288 with 1 Axes>"
            ]
          },
          "metadata": {
            "tags": []
          }
        }
      ]
    },
    {
      "cell_type": "code",
      "metadata": {
        "colab": {
          "base_uri": "https://localhost:8080/",
          "height": 299
        },
        "id": "aY0S_lr3ShST",
        "outputId": "af988020-0cbb-4b3f-d2ab-6a89127400f9"
      },
      "source": [
        "grouped.LOS.plot()"
      ],
      "execution_count": 46,
      "outputs": [
        {
          "output_type": "execute_result",
          "data": {
            "text/plain": [
              "<matplotlib.axes._subplots.AxesSubplot at 0x7fce376dbf50>"
            ]
          },
          "metadata": {
            "tags": []
          },
          "execution_count": 46
        },
        {
          "output_type": "display_data",
          "data": {
            "image/png": "[encoded data removed]",
            "text/plain": [
              "<Figure size 432x288 with 1 Axes>"
            ]
          },
          "metadata": {
            "tags": []
          }
        }
      ]
    },
    {
      "cell_type": "code",
      "metadata": {
        "colab": {
          "base_uri": "https://localhost:8080/"
        },
        "id": "44F_gu2nPb6W",
        "outputId": "d0caeb8e-9701-4221-c001-2b2adf3bf0ce"
      },
      "source": [
        "df_yearly.groupby('Date')['Tapblock'].value_counts()"
      ],
      "execution_count": 49,
      "outputs": [
        {
          "output_type": "execute_result",
          "data": {
            "text/plain": [
              "Date  Tapblock\n",
              "2014  N           170\n",
              "2015  N           151\n",
              "      Y            98\n",
              "2016  N           147\n",
              "      Y           113\n",
              "2017  N           147\n",
              "      Y           124\n",
              "2018  N           145\n",
              "      Y           124\n",
              "2019  Y           169\n",
              "      N           129\n",
              "2020  N             4\n",
              "Name: Tapblock, dtype: int64"
            ]
          },
          "metadata": {
            "tags": []
          },
          "execution_count": 49
        }
      ]
    },
    {
      "cell_type": "code",
      "metadata": {
        "colab": {
          "base_uri": "https://localhost:8080/",
          "height": 294
        },
        "id": "h-ykERVCP9UJ",
        "outputId": "2d2eb3f1-176b-4464-fcb8-6e5611022459"
      },
      "source": [
        "tap_mme = df_yearly.groupby('Date').mean()\r\n",
        "tap_mme"
      ],
      "execution_count": 50,
      "outputs": [
        {
          "output_type": "execute_result",
          "data": {
            "text/html": [
              "<div>\n",
              "<style scoped>\n",
              "    .dataframe tbody tr th:only-of-type {\n",
              "        vertical-align: middle;\n",
              "    }\n",
              "\n",
              "    .dataframe tbody tr th {\n",
              "        vertical-align: top;\n",
              "    }\n",
              "\n",
              "    .dataframe thead th {\n",
              "        text-align: right;\n",
              "    }\n",
              "</style>\n",
              "<table border=\"1\" class=\"dataframe\">\n",
              "  <thead>\n",
              "    <tr style=\"text-align: right;\">\n",
              "      <th></th>\n",
              "      <th>MME</th>\n",
              "      <th>LOS</th>\n",
              "    </tr>\n",
              "    <tr>\n",
              "      <th>Date</th>\n",
              "      <th></th>\n",
              "      <th></th>\n",
              "    </tr>\n",
              "  </thead>\n",
              "  <tbody>\n",
              "    <tr>\n",
              "      <th>2014</th>\n",
              "      <td>1360.408529</td>\n",
              "      <td>11.017647</td>\n",
              "    </tr>\n",
              "    <tr>\n",
              "      <th>2015</th>\n",
              "      <td>1234.211245</td>\n",
              "      <td>10.349398</td>\n",
              "    </tr>\n",
              "    <tr>\n",
              "      <th>2016</th>\n",
              "      <td>1058.604231</td>\n",
              "      <td>10.261538</td>\n",
              "    </tr>\n",
              "    <tr>\n",
              "      <th>2017</th>\n",
              "      <td>1110.971033</td>\n",
              "      <td>9.900369</td>\n",
              "    </tr>\n",
              "    <tr>\n",
              "      <th>2018</th>\n",
              "      <td>833.930669</td>\n",
              "      <td>8.516729</td>\n",
              "    </tr>\n",
              "    <tr>\n",
              "      <th>2019</th>\n",
              "      <td>768.417953</td>\n",
              "      <td>7.882550</td>\n",
              "    </tr>\n",
              "    <tr>\n",
              "      <th>2020</th>\n",
              "      <td>367.062500</td>\n",
              "      <td>8.750000</td>\n",
              "    </tr>\n",
              "  </tbody>\n",
              "</table>\n",
              "</div>"
            ],
            "text/plain": [
              "              MME        LOS\n",
              "Date                        \n",
              "2014  1360.408529  11.017647\n",
              "2015  1234.211245  10.349398\n",
              "2016  1058.604231  10.261538\n",
              "2017  1110.971033   9.900369\n",
              "2018   833.930669   8.516729\n",
              "2019   768.417953   7.882550\n",
              "2020   367.062500   8.750000"
            ]
          },
          "metadata": {
            "tags": []
          },
          "execution_count": 50
        }
      ]
    },
    {
      "cell_type": "code",
      "metadata": {
        "colab": {
          "base_uri": "https://localhost:8080/"
        },
        "id": "zd7tNhpTeKq2",
        "outputId": "e29aef31-47a6-420c-8785-0377456b1511"
      },
      "source": [
        "tap_mme = df_yearly.groupby('Tapblock')['MME'].mean()\r\n",
        "tap_mme"
      ],
      "execution_count": 64,
      "outputs": [
        {
          "output_type": "execute_result",
          "data": {
            "text/plain": [
              "Tapblock\n",
              "N    1259.124692\n",
              "Y     709.051115\n",
              "Name: MME, dtype: float64"
            ]
          },
          "metadata": {
            "tags": []
          },
          "execution_count": 64
        }
      ]
    },
    {
      "cell_type": "code",
      "metadata": {
        "colab": {
          "base_uri": "https://localhost:8080/"
        },
        "id": "-aUTnn1GQ63e",
        "outputId": "eedf5e21-9c34-4c3b-f1e9-4c62badce693"
      },
      "source": [
        "tap_mme.reset_index()\r\n",
        "n = tap_mme.iloc[0]\r\n",
        "y = tap_mme.iloc[1]\r\n",
        "y"
      ],
      "execution_count": 61,
      "outputs": [
        {
          "output_type": "execute_result",
          "data": {
            "text/plain": [
              "709.0511146496809"
            ]
          },
          "metadata": {
            "tags": []
          },
          "execution_count": 61
        }
      ]
    },
    {
      "cell_type": "code",
      "metadata": {
        "id": "Ez_DU-LQSPMk"
      },
      "source": [
        "pct_reduc = (n-y)/(n)"
      ],
      "execution_count": 62,
      "outputs": []
    },
    {
      "cell_type": "code",
      "metadata": {
        "colab": {
          "base_uri": "https://localhost:8080/"
        },
        "id": "qlTiCUu7Su31",
        "outputId": "a63b4c6e-ec5a-4d11-b46a-541b3f6125f1"
      },
      "source": [
        "pct_reduc\r\n",
        "print('The percent reduction in MME for Tapblock: {:.4f}'.format(pct_reduc*100) + '%')"
      ],
      "execution_count": 63,
      "outputs": [
        {
          "output_type": "stream",
          "text": [
            "The percent reduction in MME for Tapblock: 43.6870%\n"
          ],
          "name": "stdout"
        }
      ]
    },
    {
      "cell_type": "code",
      "metadata": {
        "colab": {
          "base_uri": "https://localhost:8080/"
        },
        "id": "jt_jUFpiS9x9",
        "outputId": "f560f20f-88cc-4a1f-ced7-43fc19efcfa8"
      },
      "source": [
        "tap1 = df_yearly.groupby('Date')['MME'].mean()\r\n",
        "\r\n",
        "\r\n",
        "tap1"
      ],
      "execution_count": 72,
      "outputs": [
        {
          "output_type": "execute_result",
          "data": {
            "text/plain": [
              "Date\n",
              "2014    1360.408529\n",
              "2015    1234.211245\n",
              "2016    1058.604231\n",
              "2017    1110.971033\n",
              "2018     833.930669\n",
              "2019     768.417953\n",
              "2020     367.062500\n",
              "Freq: A-DEC, Name: MME, dtype: float64"
            ]
          },
          "metadata": {
            "tags": []
          },
          "execution_count": 72
        }
      ]
    },
    {
      "cell_type": "code",
      "metadata": {
        "id": "nEt4CRnwT_U7"
      },
      "source": [
        "\r\n",
        "tap1 = pd.DataFrame(tap1)"
      ],
      "execution_count": 75,
      "outputs": []
    },
    {
      "cell_type": "code",
      "metadata": {
        "colab": {
          "base_uri": "https://localhost:8080/",
          "height": 325
        },
        "id": "d3gQmxMbhtOf",
        "outputId": "7a48aa8e-e2b3-496d-c203-6ca649ba9c9c"
      },
      "source": [
        "tap1['Diff1'] = tap1.pct_change()\r\n",
        "tap1"
      ],
      "execution_count": 76,
      "outputs": [
        {
          "output_type": "execute_result",
          "data": {
            "text/html": [
              "<div>\n",
              "<style scoped>\n",
              "    .dataframe tbody tr th:only-of-type {\n",
              "        vertical-align: middle;\n",
              "    }\n",
              "\n",
              "    .dataframe tbody tr th {\n",
              "        vertical-align: top;\n",
              "    }\n",
              "\n",
              "    .dataframe thead th {\n",
              "        text-align: right;\n",
              "    }\n",
              "</style>\n",
              "<table border=\"1\" class=\"dataframe\">\n",
              "  <thead>\n",
              "    <tr style=\"text-align: right;\">\n",
              "      <th></th>\n",
              "      <th>MME</th>\n",
              "      <th>Diff1</th>\n",
              "    </tr>\n",
              "    <tr>\n",
              "      <th>Date</th>\n",
              "      <th></th>\n",
              "      <th></th>\n",
              "    </tr>\n",
              "  </thead>\n",
              "  <tbody>\n",
              "    <tr>\n",
              "      <th>2014</th>\n",
              "      <td>1360.41</td>\n",
              "      <td>NaN</td>\n",
              "    </tr>\n",
              "    <tr>\n",
              "      <th>2015</th>\n",
              "      <td>1234.21</td>\n",
              "      <td>-0.0927643</td>\n",
              "    </tr>\n",
              "    <tr>\n",
              "      <th>2016</th>\n",
              "      <td>1058.6</td>\n",
              "      <td>-0.142283</td>\n",
              "    </tr>\n",
              "    <tr>\n",
              "      <th>2017</th>\n",
              "      <td>1110.97</td>\n",
              "      <td>0.0494678</td>\n",
              "    </tr>\n",
              "    <tr>\n",
              "      <th>2018</th>\n",
              "      <td>833.931</td>\n",
              "      <td>-0.249368</td>\n",
              "    </tr>\n",
              "    <tr>\n",
              "      <th>2019</th>\n",
              "      <td>768.418</td>\n",
              "      <td>-0.0785589</td>\n",
              "    </tr>\n",
              "    <tr>\n",
              "      <th>2020</th>\n",
              "      <td>367.062</td>\n",
              "      <td>-0.522314</td>\n",
              "    </tr>\n",
              "    <tr>\n",
              "      <th>Diff1</th>\n",
              "      <td>Date\n",
              "2014         NaN\n",
              "2015   -0.092764\n",
              "2016   ...</td>\n",
              "      <td>Date\n",
              "2014         NaN\n",
              "2015   -1.000253\n",
              "2016   ...</td>\n",
              "    </tr>\n",
              "  </tbody>\n",
              "</table>\n",
              "</div>"
            ],
            "text/plain": [
              "                                                     MME                                              Diff1\n",
              "Date                                                                                                       \n",
              "2014                                             1360.41                                                NaN\n",
              "2015                                             1234.21                                         -0.0927643\n",
              "2016                                              1058.6                                          -0.142283\n",
              "2017                                             1110.97                                          0.0494678\n",
              "2018                                             833.931                                          -0.249368\n",
              "2019                                             768.418                                         -0.0785589\n",
              "2020                                             367.062                                          -0.522314\n",
              "Diff1  Date\n",
              "2014         NaN\n",
              "2015   -0.092764\n",
              "2016   ...  Date\n",
              "2014         NaN\n",
              "2015   -1.000253\n",
              "2016   ..."
            ]
          },
          "metadata": {
            "tags": []
          },
          "execution_count": 76
        }
      ]
    },
    {
      "cell_type": "code",
      "metadata": {
        "colab": {
          "base_uri": "https://localhost:8080/",
          "height": 294
        },
        "id": "gcX1icI_h6_g",
        "outputId": "ea1663d4-e6b5-4ab4-caa7-aa0d9fbfc0d5"
      },
      "source": [
        "tap1.dropna(axis=0)"
      ],
      "execution_count": 77,
      "outputs": [
        {
          "output_type": "execute_result",
          "data": {
            "text/html": [
              "<div>\n",
              "<style scoped>\n",
              "    .dataframe tbody tr th:only-of-type {\n",
              "        vertical-align: middle;\n",
              "    }\n",
              "\n",
              "    .dataframe tbody tr th {\n",
              "        vertical-align: top;\n",
              "    }\n",
              "\n",
              "    .dataframe thead th {\n",
              "        text-align: right;\n",
              "    }\n",
              "</style>\n",
              "<table border=\"1\" class=\"dataframe\">\n",
              "  <thead>\n",
              "    <tr style=\"text-align: right;\">\n",
              "      <th></th>\n",
              "      <th>MME</th>\n",
              "      <th>Diff1</th>\n",
              "    </tr>\n",
              "    <tr>\n",
              "      <th>Date</th>\n",
              "      <th></th>\n",
              "      <th></th>\n",
              "    </tr>\n",
              "  </thead>\n",
              "  <tbody>\n",
              "    <tr>\n",
              "      <th>2015</th>\n",
              "      <td>1234.21</td>\n",
              "      <td>-0.0927643</td>\n",
              "    </tr>\n",
              "    <tr>\n",
              "      <th>2016</th>\n",
              "      <td>1058.6</td>\n",
              "      <td>-0.142283</td>\n",
              "    </tr>\n",
              "    <tr>\n",
              "      <th>2017</th>\n",
              "      <td>1110.97</td>\n",
              "      <td>0.0494678</td>\n",
              "    </tr>\n",
              "    <tr>\n",
              "      <th>2018</th>\n",
              "      <td>833.931</td>\n",
              "      <td>-0.249368</td>\n",
              "    </tr>\n",
              "    <tr>\n",
              "      <th>2019</th>\n",
              "      <td>768.418</td>\n",
              "      <td>-0.0785589</td>\n",
              "    </tr>\n",
              "    <tr>\n",
              "      <th>2020</th>\n",
              "      <td>367.062</td>\n",
              "      <td>-0.522314</td>\n",
              "    </tr>\n",
              "    <tr>\n",
              "      <th>Diff1</th>\n",
              "      <td>Date\n",
              "2014         NaN\n",
              "2015   -0.092764\n",
              "2016   ...</td>\n",
              "      <td>Date\n",
              "2014         NaN\n",
              "2015   -1.000253\n",
              "2016   ...</td>\n",
              "    </tr>\n",
              "  </tbody>\n",
              "</table>\n",
              "</div>"
            ],
            "text/plain": [
              "                                                     MME                                              Diff1\n",
              "Date                                                                                                       \n",
              "2015                                             1234.21                                         -0.0927643\n",
              "2016                                              1058.6                                          -0.142283\n",
              "2017                                             1110.97                                          0.0494678\n",
              "2018                                             833.931                                          -0.249368\n",
              "2019                                             768.418                                         -0.0785589\n",
              "2020                                             367.062                                          -0.522314\n",
              "Diff1  Date\n",
              "2014         NaN\n",
              "2015   -0.092764\n",
              "2016   ...  Date\n",
              "2014         NaN\n",
              "2015   -1.000253\n",
              "2016   ..."
            ]
          },
          "metadata": {
            "tags": []
          },
          "execution_count": 77
        }
      ]
    },
    {
      "cell_type": "code",
      "metadata": {
        "colab": {
          "base_uri": "https://localhost:8080/",
          "height": 299
        },
        "id": "dyb0W7m2Sv3u",
        "outputId": "a0c14f8c-ade8-4dfb-82bb-9eb6df3c828f"
      },
      "source": [
        "sns.boxplot(data=df_yearly, x='Tapblock', y='LOS')"
      ],
      "execution_count": 90,
      "outputs": [
        {
          "output_type": "execute_result",
          "data": {
            "text/plain": [
              "<matplotlib.axes._subplots.AxesSubplot at 0x7f06da09f490>"
            ]
          },
          "metadata": {
            "tags": []
          },
          "execution_count": 90
        },
        {
          "output_type": "display_data",
          "data": {
            "image/png": "[encoded data removed]",
            "text/plain": [
              "<Figure size 432x288 with 1 Axes>"
            ]
          },
          "metadata": {
            "tags": [],
            "needs_background": "light"
          }
        }
      ]
    },
    {
      "cell_type": "code",
      "metadata": {
        "colab": {
          "base_uri": "https://localhost:8080/",
          "height": 299
        },
        "id": "HraBlvxBXiCv",
        "outputId": "77642490-72c7-4921-a3d7-13b299be17a6"
      },
      "source": [
        "sns.boxplot(data=df_yearly, x='Tapblock', y='MME')"
      ],
      "execution_count": 91,
      "outputs": [
        {
          "output_type": "execute_result",
          "data": {
            "text/plain": [
              "<matplotlib.axes._subplots.AxesSubplot at 0x7f06da01dc10>"
            ]
          },
          "metadata": {
            "tags": []
          },
          "execution_count": 91
        },
        {
          "output_type": "display_data",
          "data": {
            "image/png": "[encoded data removed]",
            "text/plain": [
              "<Figure size 432x288 with 1 Axes>"
            ]
          },
          "metadata": {
            "tags": [],
            "needs_background": "light"
          }
        }
      ]
    },
    {
      "cell_type": "code",
      "metadata": {
        "colab": {
          "base_uri": "https://localhost:8080/",
          "height": 141
        },
        "id": "9uG2ct0AYvG5",
        "outputId": "a3312372-469f-41b7-c1c0-5ca9df8a02bf"
      },
      "source": [
        "df_yearly.groupby('Readmit').aggfunc(['mean', 'count'])"
      ],
      "execution_count": 93,
      "outputs": [
        {
          "output_type": "execute_result",
          "data": {
            "text/html": [
              "<div>\n",
              "<style scoped>\n",
              "    .dataframe tbody tr th:only-of-type {\n",
              "        vertical-align: middle;\n",
              "    }\n",
              "\n",
              "    .dataframe tbody tr th {\n",
              "        vertical-align: top;\n",
              "    }\n",
              "\n",
              "    .dataframe thead th {\n",
              "        text-align: right;\n",
              "    }\n",
              "</style>\n",
              "<table border=\"1\" class=\"dataframe\">\n",
              "  <thead>\n",
              "    <tr style=\"text-align: right;\">\n",
              "      <th></th>\n",
              "      <th>MME</th>\n",
              "      <th>LOS</th>\n",
              "    </tr>\n",
              "    <tr>\n",
              "      <th>Readmit</th>\n",
              "      <th></th>\n",
              "      <th></th>\n",
              "    </tr>\n",
              "  </thead>\n",
              "  <tbody>\n",
              "    <tr>\n",
              "      <th>N</th>\n",
              "      <td>960.546627</td>\n",
              "      <td>9.180723</td>\n",
              "    </tr>\n",
              "    <tr>\n",
              "      <th>Y</th>\n",
              "      <td>1354.354710</td>\n",
              "      <td>11.036232</td>\n",
              "    </tr>\n",
              "  </tbody>\n",
              "</table>\n",
              "</div>"
            ],
            "text/plain": [
              "                 MME        LOS\n",
              "Readmit                        \n",
              "N         960.546627   9.180723\n",
              "Y        1354.354710  11.036232"
            ]
          },
          "metadata": {
            "tags": []
          },
          "execution_count": 93
        }
      ]
    },
    {
      "cell_type": "code",
      "metadata": {
        "colab": {
          "base_uri": "https://localhost:8080/",
          "height": 141
        },
        "id": "rttxgAZKYxX0",
        "outputId": "6dccdc0a-74f9-4fd7-9543-8ca86e6954b9"
      },
      "source": [
        "df_yearly.groupby('Leak').median()"
      ],
      "execution_count": 97,
      "outputs": [
        {
          "output_type": "execute_result",
          "data": {
            "text/html": [
              "<div>\n",
              "<style scoped>\n",
              "    .dataframe tbody tr th:only-of-type {\n",
              "        vertical-align: middle;\n",
              "    }\n",
              "\n",
              "    .dataframe tbody tr th {\n",
              "        vertical-align: top;\n",
              "    }\n",
              "\n",
              "    .dataframe thead th {\n",
              "        text-align: right;\n",
              "    }\n",
              "</style>\n",
              "<table border=\"1\" class=\"dataframe\">\n",
              "  <thead>\n",
              "    <tr style=\"text-align: right;\">\n",
              "      <th></th>\n",
              "      <th>MME</th>\n",
              "      <th>LOS</th>\n",
              "    </tr>\n",
              "    <tr>\n",
              "      <th>Leak</th>\n",
              "      <th></th>\n",
              "      <th></th>\n",
              "    </tr>\n",
              "  </thead>\n",
              "  <tbody>\n",
              "    <tr>\n",
              "      <th>N</th>\n",
              "      <td>595.0</td>\n",
              "      <td>5</td>\n",
              "    </tr>\n",
              "    <tr>\n",
              "      <th>Y</th>\n",
              "      <td>1053.9</td>\n",
              "      <td>14</td>\n",
              "    </tr>\n",
              "  </tbody>\n",
              "</table>\n",
              "</div>"
            ],
            "text/plain": [
              "         MME  LOS\n",
              "Leak             \n",
              "N      595.0    5\n",
              "Y     1053.9   14"
            ]
          },
          "metadata": {
            "tags": []
          },
          "execution_count": 97
        }
      ]
    },
    {
      "cell_type": "code",
      "metadata": {
        "colab": {
          "base_uri": "https://localhost:8080/",
          "height": 202
        },
        "id": "TsRwDN_xY9dl",
        "outputId": "af07b851-ed3e-447d-bc83-dc4df8189ca8"
      },
      "source": [
        "pd.pivot_table(df_yearly, index = ['Readmit', 'Tapblock'], values=['MME', 'LOS'],\r\n",
        "                     aggfunc={'MME' : 'mean', 'LOS' : 'median'})"
      ],
      "execution_count": 104,
      "outputs": [
        {
          "output_type": "execute_result",
          "data": {
            "text/html": [
              "<div>\n",
              "<style scoped>\n",
              "    .dataframe tbody tr th:only-of-type {\n",
              "        vertical-align: middle;\n",
              "    }\n",
              "\n",
              "    .dataframe tbody tr th {\n",
              "        vertical-align: top;\n",
              "    }\n",
              "\n",
              "    .dataframe thead th {\n",
              "        text-align: right;\n",
              "    }\n",
              "</style>\n",
              "<table border=\"1\" class=\"dataframe\">\n",
              "  <thead>\n",
              "    <tr style=\"text-align: right;\">\n",
              "      <th></th>\n",
              "      <th></th>\n",
              "      <th>LOS</th>\n",
              "      <th>MME</th>\n",
              "    </tr>\n",
              "    <tr>\n",
              "      <th>Readmit</th>\n",
              "      <th>Tapblock</th>\n",
              "      <th></th>\n",
              "      <th></th>\n",
              "    </tr>\n",
              "  </thead>\n",
              "  <tbody>\n",
              "    <tr>\n",
              "      <th rowspan=\"2\" valign=\"top\">N</th>\n",
              "      <th>N</th>\n",
              "      <td>7</td>\n",
              "      <td>1186.466690</td>\n",
              "    </tr>\n",
              "    <tr>\n",
              "      <th>Y</th>\n",
              "      <td>4</td>\n",
              "      <td>666.558226</td>\n",
              "    </tr>\n",
              "    <tr>\n",
              "      <th rowspan=\"2\" valign=\"top\">Y</th>\n",
              "      <th>N</th>\n",
              "      <td>8</td>\n",
              "      <td>1529.766138</td>\n",
              "    </tr>\n",
              "    <tr>\n",
              "      <th>Y</th>\n",
              "      <td>6</td>\n",
              "      <td>973.288506</td>\n",
              "    </tr>\n",
              "  </tbody>\n",
              "</table>\n",
              "</div>"
            ],
            "text/plain": [
              "                  LOS          MME\n",
              "Readmit Tapblock                  \n",
              "N       N           7  1186.466690\n",
              "        Y           4   666.558226\n",
              "Y       N           8  1529.766138\n",
              "        Y           6   973.288506"
            ]
          },
          "metadata": {
            "tags": []
          },
          "execution_count": 104
        }
      ]
    },
    {
      "cell_type": "code",
      "metadata": {
        "colab": {
          "base_uri": "https://localhost:8080/",
          "height": 202
        },
        "id": "72Z_7xCEZ_98",
        "outputId": "03a1f65f-9b70-4b42-8bca-c69fa8f5403e"
      },
      "source": [
        "pd.pivot_table(df_yearly, index = ['Leak', 'Tapblock'], values=['MME', 'LOS'],\r\n",
        "                     aggfunc={'MME' : 'mean', 'LOS' : 'median'})"
      ],
      "execution_count": 105,
      "outputs": [
        {
          "output_type": "execute_result",
          "data": {
            "text/html": [
              "<div>\n",
              "<style scoped>\n",
              "    .dataframe tbody tr th:only-of-type {\n",
              "        vertical-align: middle;\n",
              "    }\n",
              "\n",
              "    .dataframe tbody tr th {\n",
              "        vertical-align: top;\n",
              "    }\n",
              "\n",
              "    .dataframe thead th {\n",
              "        text-align: right;\n",
              "    }\n",
              "</style>\n",
              "<table border=\"1\" class=\"dataframe\">\n",
              "  <thead>\n",
              "    <tr style=\"text-align: right;\">\n",
              "      <th></th>\n",
              "      <th></th>\n",
              "      <th>LOS</th>\n",
              "      <th>MME</th>\n",
              "    </tr>\n",
              "    <tr>\n",
              "      <th>Leak</th>\n",
              "      <th>Tapblock</th>\n",
              "      <th></th>\n",
              "      <th></th>\n",
              "    </tr>\n",
              "  </thead>\n",
              "  <tbody>\n",
              "    <tr>\n",
              "      <th rowspan=\"2\" valign=\"top\">N</th>\n",
              "      <th>N</th>\n",
              "      <td>7.0</td>\n",
              "      <td>1240.612368</td>\n",
              "    </tr>\n",
              "    <tr>\n",
              "      <th>Y</th>\n",
              "      <td>4.0</td>\n",
              "      <td>684.302782</td>\n",
              "    </tr>\n",
              "    <tr>\n",
              "      <th rowspan=\"2\" valign=\"top\">Y</th>\n",
              "      <th>N</th>\n",
              "      <td>14.5</td>\n",
              "      <td>1653.900000</td>\n",
              "    </tr>\n",
              "    <tr>\n",
              "      <th>Y</th>\n",
              "      <td>12.0</td>\n",
              "      <td>1128.358571</td>\n",
              "    </tr>\n",
              "  </tbody>\n",
              "</table>\n",
              "</div>"
            ],
            "text/plain": [
              "                LOS          MME\n",
              "Leak Tapblock                   \n",
              "N    N          7.0  1240.612368\n",
              "     Y          4.0   684.302782\n",
              "Y    N         14.5  1653.900000\n",
              "     Y         12.0  1128.358571"
            ]
          },
          "metadata": {
            "tags": []
          },
          "execution_count": 105
        }
      ]
    },
    {
      "cell_type": "code",
      "metadata": {
        "colab": {
          "base_uri": "https://localhost:8080/"
        },
        "id": "buvhq127bruP",
        "outputId": "22698981-1b2a-4959-de5b-ea2191baa6f3"
      },
      "source": [
        "mme_per_day = df_yearly.MME.mean()/df_yearly.LOS.mean()\r\n",
        "\r\n",
        "print('The overall MME per day: {:.2f}'.format(mme_per_day))"
      ],
      "execution_count": 125,
      "outputs": [
        {
          "output_type": "stream",
          "text": [
            "The overall MME per day: 108.43\n"
          ],
          "name": "stdout"
        }
      ]
    },
    {
      "cell_type": "code",
      "metadata": {
        "id": "eZ9ZmZQXcBSd"
      },
      "source": [
        ""
      ],
      "execution_count": null,
      "outputs": []
    }
  ]
}