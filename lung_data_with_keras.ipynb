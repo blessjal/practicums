{
  "nbformat": 4,
  "nbformat_minor": 0,
  "metadata": {
    "colab": {
      "name": "lung_data_with_keras.ipynb",
      "provenance": [],
      "collapsed_sections": [],
      "authorship_tag": "ABX9TyPvOV83VmR4y9ezjkh5gx3+",
      "include_colab_link": true
    },
    "kernelspec": {
      "name": "python3",
      "display_name": "Python 3"
    }
  },
  "cells": [
    {
      "cell_type": "markdown",
      "metadata": {
        "id": "view-in-github",
        "colab_type": "text"
      },
      "source": [
        "<a href=\"https://colab.research.google.com/github/blessjal/practicums/blob/master/lung_data_with_keras.ipynb\" target=\"_parent\"><img src=\"https://colab.research.google.com/assets/colab-badge.svg\" alt=\"Open In Colab\"/></a>"
      ]
    },
    {
      "cell_type": "code",
      "metadata": {
        "id": "lb4eIsMP1iRn"
      },
      "source": [
        "import pandas as pd\n",
        "from scipy.io import arff\n",
        "from io import StringIO\n",
        "\n",
        "\n",
        "data, meta = arff.loadarff('/content/sample_data/ThoraricSurgery.arff')\n",
        "\n"
      ],
      "execution_count": null,
      "outputs": []
    },
    {
      "cell_type": "code",
      "metadata": {
        "colab": {
          "base_uri": "https://localhost:8080/",
          "height": 419
        },
        "id": "eNYWB8d-JKWF",
        "outputId": "ebc44c3c-2176-415f-a36c-960c381fc31d"
      },
      "source": [
        "df = pd.DataFrame(data)\n",
        "df"
      ],
      "execution_count": null,
      "outputs": [
        {
          "output_type": "execute_result",
          "data": {
            "text/html": [
              "<div>\n",
              "<style scoped>\n",
              "    .dataframe tbody tr th:only-of-type {\n",
              "        vertical-align: middle;\n",
              "    }\n",
              "\n",
              "    .dataframe tbody tr th {\n",
              "        vertical-align: top;\n",
              "    }\n",
              "\n",
              "    .dataframe thead th {\n",
              "        text-align: right;\n",
              "    }\n",
              "</style>\n",
              "<table border=\"1\" class=\"dataframe\">\n",
              "  <thead>\n",
              "    <tr style=\"text-align: right;\">\n",
              "      <th></th>\n",
              "      <th>DGN</th>\n",
              "      <th>PRE4</th>\n",
              "      <th>PRE5</th>\n",
              "      <th>PRE6</th>\n",
              "      <th>PRE7</th>\n",
              "      <th>PRE8</th>\n",
              "      <th>PRE9</th>\n",
              "      <th>PRE10</th>\n",
              "      <th>PRE11</th>\n",
              "      <th>PRE14</th>\n",
              "      <th>PRE17</th>\n",
              "      <th>PRE19</th>\n",
              "      <th>PRE25</th>\n",
              "      <th>PRE30</th>\n",
              "      <th>PRE32</th>\n",
              "      <th>AGE</th>\n",
              "      <th>Risk1Yr</th>\n",
              "    </tr>\n",
              "  </thead>\n",
              "  <tbody>\n",
              "    <tr>\n",
              "      <th>0</th>\n",
              "      <td>b'DGN2'</td>\n",
              "      <td>2.88</td>\n",
              "      <td>2.16</td>\n",
              "      <td>b'PRZ1'</td>\n",
              "      <td>b'F'</td>\n",
              "      <td>b'F'</td>\n",
              "      <td>b'F'</td>\n",
              "      <td>b'T'</td>\n",
              "      <td>b'T'</td>\n",
              "      <td>b'OC14'</td>\n",
              "      <td>b'F'</td>\n",
              "      <td>b'F'</td>\n",
              "      <td>b'F'</td>\n",
              "      <td>b'T'</td>\n",
              "      <td>b'F'</td>\n",
              "      <td>60.0</td>\n",
              "      <td>b'F'</td>\n",
              "    </tr>\n",
              "    <tr>\n",
              "      <th>1</th>\n",
              "      <td>b'DGN3'</td>\n",
              "      <td>3.40</td>\n",
              "      <td>1.88</td>\n",
              "      <td>b'PRZ0'</td>\n",
              "      <td>b'F'</td>\n",
              "      <td>b'F'</td>\n",
              "      <td>b'F'</td>\n",
              "      <td>b'F'</td>\n",
              "      <td>b'F'</td>\n",
              "      <td>b'OC12'</td>\n",
              "      <td>b'F'</td>\n",
              "      <td>b'F'</td>\n",
              "      <td>b'F'</td>\n",
              "      <td>b'T'</td>\n",
              "      <td>b'F'</td>\n",
              "      <td>51.0</td>\n",
              "      <td>b'F'</td>\n",
              "    </tr>\n",
              "    <tr>\n",
              "      <th>2</th>\n",
              "      <td>b'DGN3'</td>\n",
              "      <td>2.76</td>\n",
              "      <td>2.08</td>\n",
              "      <td>b'PRZ1'</td>\n",
              "      <td>b'F'</td>\n",
              "      <td>b'F'</td>\n",
              "      <td>b'F'</td>\n",
              "      <td>b'T'</td>\n",
              "      <td>b'F'</td>\n",
              "      <td>b'OC11'</td>\n",
              "      <td>b'F'</td>\n",
              "      <td>b'F'</td>\n",
              "      <td>b'F'</td>\n",
              "      <td>b'T'</td>\n",
              "      <td>b'F'</td>\n",
              "      <td>59.0</td>\n",
              "      <td>b'F'</td>\n",
              "    </tr>\n",
              "    <tr>\n",
              "      <th>3</th>\n",
              "      <td>b'DGN3'</td>\n",
              "      <td>3.68</td>\n",
              "      <td>3.04</td>\n",
              "      <td>b'PRZ0'</td>\n",
              "      <td>b'F'</td>\n",
              "      <td>b'F'</td>\n",
              "      <td>b'F'</td>\n",
              "      <td>b'F'</td>\n",
              "      <td>b'F'</td>\n",
              "      <td>b'OC11'</td>\n",
              "      <td>b'F'</td>\n",
              "      <td>b'F'</td>\n",
              "      <td>b'F'</td>\n",
              "      <td>b'F'</td>\n",
              "      <td>b'F'</td>\n",
              "      <td>54.0</td>\n",
              "      <td>b'F'</td>\n",
              "    </tr>\n",
              "    <tr>\n",
              "      <th>4</th>\n",
              "      <td>b'DGN3'</td>\n",
              "      <td>2.44</td>\n",
              "      <td>0.96</td>\n",
              "      <td>b'PRZ2'</td>\n",
              "      <td>b'F'</td>\n",
              "      <td>b'T'</td>\n",
              "      <td>b'F'</td>\n",
              "      <td>b'T'</td>\n",
              "      <td>b'T'</td>\n",
              "      <td>b'OC11'</td>\n",
              "      <td>b'F'</td>\n",
              "      <td>b'F'</td>\n",
              "      <td>b'F'</td>\n",
              "      <td>b'T'</td>\n",
              "      <td>b'F'</td>\n",
              "      <td>73.0</td>\n",
              "      <td>b'T'</td>\n",
              "    </tr>\n",
              "    <tr>\n",
              "      <th>...</th>\n",
              "      <td>...</td>\n",
              "      <td>...</td>\n",
              "      <td>...</td>\n",
              "      <td>...</td>\n",
              "      <td>...</td>\n",
              "      <td>...</td>\n",
              "      <td>...</td>\n",
              "      <td>...</td>\n",
              "      <td>...</td>\n",
              "      <td>...</td>\n",
              "      <td>...</td>\n",
              "      <td>...</td>\n",
              "      <td>...</td>\n",
              "      <td>...</td>\n",
              "      <td>...</td>\n",
              "      <td>...</td>\n",
              "      <td>...</td>\n",
              "    </tr>\n",
              "    <tr>\n",
              "      <th>465</th>\n",
              "      <td>b'DGN2'</td>\n",
              "      <td>3.88</td>\n",
              "      <td>2.12</td>\n",
              "      <td>b'PRZ1'</td>\n",
              "      <td>b'F'</td>\n",
              "      <td>b'F'</td>\n",
              "      <td>b'F'</td>\n",
              "      <td>b'T'</td>\n",
              "      <td>b'F'</td>\n",
              "      <td>b'OC13'</td>\n",
              "      <td>b'F'</td>\n",
              "      <td>b'F'</td>\n",
              "      <td>b'F'</td>\n",
              "      <td>b'T'</td>\n",
              "      <td>b'F'</td>\n",
              "      <td>63.0</td>\n",
              "      <td>b'F'</td>\n",
              "    </tr>\n",
              "    <tr>\n",
              "      <th>466</th>\n",
              "      <td>b'DGN3'</td>\n",
              "      <td>3.76</td>\n",
              "      <td>3.12</td>\n",
              "      <td>b'PRZ0'</td>\n",
              "      <td>b'F'</td>\n",
              "      <td>b'F'</td>\n",
              "      <td>b'F'</td>\n",
              "      <td>b'F'</td>\n",
              "      <td>b'F'</td>\n",
              "      <td>b'OC11'</td>\n",
              "      <td>b'F'</td>\n",
              "      <td>b'F'</td>\n",
              "      <td>b'F'</td>\n",
              "      <td>b'T'</td>\n",
              "      <td>b'F'</td>\n",
              "      <td>61.0</td>\n",
              "      <td>b'F'</td>\n",
              "    </tr>\n",
              "    <tr>\n",
              "      <th>467</th>\n",
              "      <td>b'DGN3'</td>\n",
              "      <td>3.04</td>\n",
              "      <td>2.08</td>\n",
              "      <td>b'PRZ1'</td>\n",
              "      <td>b'F'</td>\n",
              "      <td>b'F'</td>\n",
              "      <td>b'F'</td>\n",
              "      <td>b'T'</td>\n",
              "      <td>b'F'</td>\n",
              "      <td>b'OC13'</td>\n",
              "      <td>b'F'</td>\n",
              "      <td>b'F'</td>\n",
              "      <td>b'F'</td>\n",
              "      <td>b'F'</td>\n",
              "      <td>b'F'</td>\n",
              "      <td>52.0</td>\n",
              "      <td>b'F'</td>\n",
              "    </tr>\n",
              "    <tr>\n",
              "      <th>468</th>\n",
              "      <td>b'DGN3'</td>\n",
              "      <td>1.96</td>\n",
              "      <td>1.68</td>\n",
              "      <td>b'PRZ1'</td>\n",
              "      <td>b'F'</td>\n",
              "      <td>b'F'</td>\n",
              "      <td>b'F'</td>\n",
              "      <td>b'T'</td>\n",
              "      <td>b'T'</td>\n",
              "      <td>b'OC12'</td>\n",
              "      <td>b'F'</td>\n",
              "      <td>b'F'</td>\n",
              "      <td>b'F'</td>\n",
              "      <td>b'T'</td>\n",
              "      <td>b'F'</td>\n",
              "      <td>79.0</td>\n",
              "      <td>b'F'</td>\n",
              "    </tr>\n",
              "    <tr>\n",
              "      <th>469</th>\n",
              "      <td>b'DGN3'</td>\n",
              "      <td>4.72</td>\n",
              "      <td>3.56</td>\n",
              "      <td>b'PRZ0'</td>\n",
              "      <td>b'F'</td>\n",
              "      <td>b'F'</td>\n",
              "      <td>b'F'</td>\n",
              "      <td>b'F'</td>\n",
              "      <td>b'F'</td>\n",
              "      <td>b'OC12'</td>\n",
              "      <td>b'F'</td>\n",
              "      <td>b'F'</td>\n",
              "      <td>b'F'</td>\n",
              "      <td>b'T'</td>\n",
              "      <td>b'F'</td>\n",
              "      <td>51.0</td>\n",
              "      <td>b'F'</td>\n",
              "    </tr>\n",
              "  </tbody>\n",
              "</table>\n",
              "<p>470 rows × 17 columns</p>\n",
              "</div>"
            ],
            "text/plain": [
              "         DGN  PRE4  PRE5     PRE6  PRE7  ... PRE25 PRE30 PRE32   AGE Risk1Yr\n",
              "0    b'DGN2'  2.88  2.16  b'PRZ1'  b'F'  ...  b'F'  b'T'  b'F'  60.0    b'F'\n",
              "1    b'DGN3'  3.40  1.88  b'PRZ0'  b'F'  ...  b'F'  b'T'  b'F'  51.0    b'F'\n",
              "2    b'DGN3'  2.76  2.08  b'PRZ1'  b'F'  ...  b'F'  b'T'  b'F'  59.0    b'F'\n",
              "3    b'DGN3'  3.68  3.04  b'PRZ0'  b'F'  ...  b'F'  b'F'  b'F'  54.0    b'F'\n",
              "4    b'DGN3'  2.44  0.96  b'PRZ2'  b'F'  ...  b'F'  b'T'  b'F'  73.0    b'T'\n",
              "..       ...   ...   ...      ...   ...  ...   ...   ...   ...   ...     ...\n",
              "465  b'DGN2'  3.88  2.12  b'PRZ1'  b'F'  ...  b'F'  b'T'  b'F'  63.0    b'F'\n",
              "466  b'DGN3'  3.76  3.12  b'PRZ0'  b'F'  ...  b'F'  b'T'  b'F'  61.0    b'F'\n",
              "467  b'DGN3'  3.04  2.08  b'PRZ1'  b'F'  ...  b'F'  b'F'  b'F'  52.0    b'F'\n",
              "468  b'DGN3'  1.96  1.68  b'PRZ1'  b'F'  ...  b'F'  b'T'  b'F'  79.0    b'F'\n",
              "469  b'DGN3'  4.72  3.56  b'PRZ0'  b'F'  ...  b'F'  b'T'  b'F'  51.0    b'F'\n",
              "\n",
              "[470 rows x 17 columns]"
            ]
          },
          "metadata": {
            "tags": []
          },
          "execution_count": 26
        }
      ]
    },
    {
      "cell_type": "code",
      "metadata": {
        "id": "oM6gsIzhGg8j"
      },
      "source": [
        "colnames = ['Diagnosis', 'FVC', 'FEV1', 'Performance Status', 'Pain', 'Hemoptysis', 'Dyspnea', 'Cough', 'Weakness', 'T Stage', 'DM2', 'MI', 'PAD', 'Smoking', 'Asthma', 'Age', 'Survival']"
      ],
      "execution_count": null,
      "outputs": []
    },
    {
      "cell_type": "code",
      "metadata": {
        "id": "c4eo66px3Owm"
      },
      "source": [
        "df.columns = colnames"
      ],
      "execution_count": null,
      "outputs": []
    },
    {
      "cell_type": "code",
      "metadata": {
        "colab": {
          "base_uri": "https://localhost:8080/",
          "height": 241
        },
        "id": "Vi77Vysq3QTL",
        "outputId": "714a0694-79ff-4256-db5e-93c07ccb8b58"
      },
      "source": [
        "df.head()"
      ],
      "execution_count": null,
      "outputs": [
        {
          "output_type": "execute_result",
          "data": {
            "text/html": [
              "<div>\n",
              "<style scoped>\n",
              "    .dataframe tbody tr th:only-of-type {\n",
              "        vertical-align: middle;\n",
              "    }\n",
              "\n",
              "    .dataframe tbody tr th {\n",
              "        vertical-align: top;\n",
              "    }\n",
              "\n",
              "    .dataframe thead th {\n",
              "        text-align: right;\n",
              "    }\n",
              "</style>\n",
              "<table border=\"1\" class=\"dataframe\">\n",
              "  <thead>\n",
              "    <tr style=\"text-align: right;\">\n",
              "      <th></th>\n",
              "      <th>Diagnosis</th>\n",
              "      <th>FVC</th>\n",
              "      <th>FEV1</th>\n",
              "      <th>Performance Status</th>\n",
              "      <th>Pain</th>\n",
              "      <th>Hemoptysis</th>\n",
              "      <th>Dyspnea</th>\n",
              "      <th>Cough</th>\n",
              "      <th>Weakness</th>\n",
              "      <th>T Stage</th>\n",
              "      <th>DM2</th>\n",
              "      <th>MI</th>\n",
              "      <th>PAD</th>\n",
              "      <th>Smoking</th>\n",
              "      <th>Asthma</th>\n",
              "      <th>Age</th>\n",
              "      <th>Survival</th>\n",
              "    </tr>\n",
              "  </thead>\n",
              "  <tbody>\n",
              "    <tr>\n",
              "      <th>0</th>\n",
              "      <td>b'DGN2'</td>\n",
              "      <td>2.88</td>\n",
              "      <td>2.16</td>\n",
              "      <td>b'PRZ1'</td>\n",
              "      <td>b'F'</td>\n",
              "      <td>b'F'</td>\n",
              "      <td>b'F'</td>\n",
              "      <td>b'T'</td>\n",
              "      <td>b'T'</td>\n",
              "      <td>b'OC14'</td>\n",
              "      <td>b'F'</td>\n",
              "      <td>b'F'</td>\n",
              "      <td>b'F'</td>\n",
              "      <td>b'T'</td>\n",
              "      <td>b'F'</td>\n",
              "      <td>60.0</td>\n",
              "      <td>b'F'</td>\n",
              "    </tr>\n",
              "    <tr>\n",
              "      <th>1</th>\n",
              "      <td>b'DGN3'</td>\n",
              "      <td>3.40</td>\n",
              "      <td>1.88</td>\n",
              "      <td>b'PRZ0'</td>\n",
              "      <td>b'F'</td>\n",
              "      <td>b'F'</td>\n",
              "      <td>b'F'</td>\n",
              "      <td>b'F'</td>\n",
              "      <td>b'F'</td>\n",
              "      <td>b'OC12'</td>\n",
              "      <td>b'F'</td>\n",
              "      <td>b'F'</td>\n",
              "      <td>b'F'</td>\n",
              "      <td>b'T'</td>\n",
              "      <td>b'F'</td>\n",
              "      <td>51.0</td>\n",
              "      <td>b'F'</td>\n",
              "    </tr>\n",
              "    <tr>\n",
              "      <th>2</th>\n",
              "      <td>b'DGN3'</td>\n",
              "      <td>2.76</td>\n",
              "      <td>2.08</td>\n",
              "      <td>b'PRZ1'</td>\n",
              "      <td>b'F'</td>\n",
              "      <td>b'F'</td>\n",
              "      <td>b'F'</td>\n",
              "      <td>b'T'</td>\n",
              "      <td>b'F'</td>\n",
              "      <td>b'OC11'</td>\n",
              "      <td>b'F'</td>\n",
              "      <td>b'F'</td>\n",
              "      <td>b'F'</td>\n",
              "      <td>b'T'</td>\n",
              "      <td>b'F'</td>\n",
              "      <td>59.0</td>\n",
              "      <td>b'F'</td>\n",
              "    </tr>\n",
              "    <tr>\n",
              "      <th>3</th>\n",
              "      <td>b'DGN3'</td>\n",
              "      <td>3.68</td>\n",
              "      <td>3.04</td>\n",
              "      <td>b'PRZ0'</td>\n",
              "      <td>b'F'</td>\n",
              "      <td>b'F'</td>\n",
              "      <td>b'F'</td>\n",
              "      <td>b'F'</td>\n",
              "      <td>b'F'</td>\n",
              "      <td>b'OC11'</td>\n",
              "      <td>b'F'</td>\n",
              "      <td>b'F'</td>\n",
              "      <td>b'F'</td>\n",
              "      <td>b'F'</td>\n",
              "      <td>b'F'</td>\n",
              "      <td>54.0</td>\n",
              "      <td>b'F'</td>\n",
              "    </tr>\n",
              "    <tr>\n",
              "      <th>4</th>\n",
              "      <td>b'DGN3'</td>\n",
              "      <td>2.44</td>\n",
              "      <td>0.96</td>\n",
              "      <td>b'PRZ2'</td>\n",
              "      <td>b'F'</td>\n",
              "      <td>b'T'</td>\n",
              "      <td>b'F'</td>\n",
              "      <td>b'T'</td>\n",
              "      <td>b'T'</td>\n",
              "      <td>b'OC11'</td>\n",
              "      <td>b'F'</td>\n",
              "      <td>b'F'</td>\n",
              "      <td>b'F'</td>\n",
              "      <td>b'T'</td>\n",
              "      <td>b'F'</td>\n",
              "      <td>73.0</td>\n",
              "      <td>b'T'</td>\n",
              "    </tr>\n",
              "  </tbody>\n",
              "</table>\n",
              "</div>"
            ],
            "text/plain": [
              "  Diagnosis   FVC  FEV1 Performance Status  ... Smoking Asthma   Age Survival\n",
              "0   b'DGN2'  2.88  2.16            b'PRZ1'  ...    b'T'   b'F'  60.0     b'F'\n",
              "1   b'DGN3'  3.40  1.88            b'PRZ0'  ...    b'T'   b'F'  51.0     b'F'\n",
              "2   b'DGN3'  2.76  2.08            b'PRZ1'  ...    b'T'   b'F'  59.0     b'F'\n",
              "3   b'DGN3'  3.68  3.04            b'PRZ0'  ...    b'F'   b'F'  54.0     b'F'\n",
              "4   b'DGN3'  2.44  0.96            b'PRZ2'  ...    b'T'   b'F'  73.0     b'T'\n",
              "\n",
              "[5 rows x 17 columns]"
            ]
          },
          "metadata": {
            "tags": []
          },
          "execution_count": 36
        }
      ]
    },
    {
      "cell_type": "code",
      "metadata": {
        "colab": {
          "base_uri": "https://localhost:8080/"
        },
        "id": "WRn2oUz9OGOc",
        "outputId": "da55c939-3a98-4e20-bf26-04d6608b9ed0"
      },
      "source": [
        "df.info()"
      ],
      "execution_count": null,
      "outputs": [
        {
          "output_type": "stream",
          "text": [
            "<class 'pandas.core.frame.DataFrame'>\n",
            "RangeIndex: 470 entries, 0 to 469\n",
            "Data columns (total 17 columns):\n",
            " #   Column              Non-Null Count  Dtype  \n",
            "---  ------              --------------  -----  \n",
            " 0   Diagnosis           470 non-null    object \n",
            " 1   FVC                 470 non-null    float64\n",
            " 2   FEV1                470 non-null    float64\n",
            " 3   Performance Status  470 non-null    object \n",
            " 4   Pain                470 non-null    object \n",
            " 5   Hemoptysis          470 non-null    object \n",
            " 6   Dyspnea             470 non-null    object \n",
            " 7   Cough               470 non-null    object \n",
            " 8   Weakness            470 non-null    object \n",
            " 9   T Stage             470 non-null    object \n",
            " 10  DM2                 470 non-null    object \n",
            " 11  MI                  470 non-null    object \n",
            " 12  PAD                 470 non-null    object \n",
            " 13  Smoking             470 non-null    object \n",
            " 14  Asthma              470 non-null    object \n",
            " 15  Age                 470 non-null    float64\n",
            " 16  Survival            470 non-null    object \n",
            "dtypes: float64(3), object(14)\n",
            "memory usage: 62.5+ KB\n"
          ],
          "name": "stdout"
        }
      ]
    },
    {
      "cell_type": "code",
      "metadata": {
        "id": "g89zb8wEM9Xs"
      },
      "source": [
        "todummy_list = ['Diagnosis', 'PAD','Performance Status', 'Pain', 'Hemoptysis', 'Dyspnea', 'Cough', 'Weakness', 'T Stage', 'DM2', 'MI', 'Asthma', 'Smoking', 'Survival']\n",
        "\n",
        "def dummy_df(df, todummy_list):\n",
        "    for x in todummy_list:\n",
        "        dummies = pd.get_dummies(df[x], prefix=x, dummy_na=False)\n",
        "        df = df.drop(x, axis=1)\n",
        "        df = pd. concat([df, dummies], axis=1)\n",
        "    return df"
      ],
      "execution_count": null,
      "outputs": []
    },
    {
      "cell_type": "code",
      "metadata": {
        "id": "woUIst-l3Wuo"
      },
      "source": [
        "df = dummy_df(df, todummy_list).drop([\"PAD_b'F'\", \"Pain_b'F'\", \"Hemoptysis_b'F'\", \"Dyspnea_b'F'\", \"Cough_b'F'\", \"Weakness_b'F'\", \"DM2_b'F'\", \"MI_b'F'\", \"Asthma_b'F'\", \"Smoking_b'F'\", \"Survival_b'F'\"], axis=1)"
      ],
      "execution_count": null,
      "outputs": []
    },
    {
      "cell_type": "code",
      "metadata": {
        "id": "awtRucRDMG4d",
        "colab": {
          "base_uri": "https://localhost:8080/",
          "height": 241
        },
        "outputId": "893641ce-16ee-4308-b531-93eb2e10fa1a"
      },
      "source": [
        "df.head()"
      ],
      "execution_count": null,
      "outputs": [
        {
          "output_type": "execute_result",
          "data": {
            "text/html": [
              "<div>\n",
              "<style scoped>\n",
              "    .dataframe tbody tr th:only-of-type {\n",
              "        vertical-align: middle;\n",
              "    }\n",
              "\n",
              "    .dataframe tbody tr th {\n",
              "        vertical-align: top;\n",
              "    }\n",
              "\n",
              "    .dataframe thead th {\n",
              "        text-align: right;\n",
              "    }\n",
              "</style>\n",
              "<table border=\"1\" class=\"dataframe\">\n",
              "  <thead>\n",
              "    <tr style=\"text-align: right;\">\n",
              "      <th></th>\n",
              "      <th>FVC</th>\n",
              "      <th>FEV1</th>\n",
              "      <th>Age</th>\n",
              "      <th>Diagnosis_b'DGN1'</th>\n",
              "      <th>Diagnosis_b'DGN2'</th>\n",
              "      <th>Diagnosis_b'DGN3'</th>\n",
              "      <th>Diagnosis_b'DGN4'</th>\n",
              "      <th>Diagnosis_b'DGN5'</th>\n",
              "      <th>Diagnosis_b'DGN6'</th>\n",
              "      <th>Diagnosis_b'DGN8'</th>\n",
              "      <th>PAD_b'T'</th>\n",
              "      <th>Performance Status_b'PRZ0'</th>\n",
              "      <th>Performance Status_b'PRZ1'</th>\n",
              "      <th>Performance Status_b'PRZ2'</th>\n",
              "      <th>Pain_b'T'</th>\n",
              "      <th>Hemoptysis_b'T'</th>\n",
              "      <th>Dyspnea_b'T'</th>\n",
              "      <th>Cough_b'T'</th>\n",
              "      <th>Weakness_b'T'</th>\n",
              "      <th>T Stage_b'OC11'</th>\n",
              "      <th>T Stage_b'OC12'</th>\n",
              "      <th>T Stage_b'OC13'</th>\n",
              "      <th>T Stage_b'OC14'</th>\n",
              "      <th>DM2_b'T'</th>\n",
              "      <th>MI_b'T'</th>\n",
              "      <th>Asthma_b'T'</th>\n",
              "      <th>Smoking_b'T'</th>\n",
              "      <th>Survival_b'T'</th>\n",
              "    </tr>\n",
              "  </thead>\n",
              "  <tbody>\n",
              "    <tr>\n",
              "      <th>0</th>\n",
              "      <td>2.88</td>\n",
              "      <td>2.16</td>\n",
              "      <td>60.0</td>\n",
              "      <td>0</td>\n",
              "      <td>1</td>\n",
              "      <td>0</td>\n",
              "      <td>0</td>\n",
              "      <td>0</td>\n",
              "      <td>0</td>\n",
              "      <td>0</td>\n",
              "      <td>0</td>\n",
              "      <td>0</td>\n",
              "      <td>1</td>\n",
              "      <td>0</td>\n",
              "      <td>0</td>\n",
              "      <td>0</td>\n",
              "      <td>0</td>\n",
              "      <td>1</td>\n",
              "      <td>1</td>\n",
              "      <td>0</td>\n",
              "      <td>0</td>\n",
              "      <td>0</td>\n",
              "      <td>1</td>\n",
              "      <td>0</td>\n",
              "      <td>0</td>\n",
              "      <td>0</td>\n",
              "      <td>1</td>\n",
              "      <td>0</td>\n",
              "    </tr>\n",
              "    <tr>\n",
              "      <th>1</th>\n",
              "      <td>3.40</td>\n",
              "      <td>1.88</td>\n",
              "      <td>51.0</td>\n",
              "      <td>0</td>\n",
              "      <td>0</td>\n",
              "      <td>1</td>\n",
              "      <td>0</td>\n",
              "      <td>0</td>\n",
              "      <td>0</td>\n",
              "      <td>0</td>\n",
              "      <td>0</td>\n",
              "      <td>1</td>\n",
              "      <td>0</td>\n",
              "      <td>0</td>\n",
              "      <td>0</td>\n",
              "      <td>0</td>\n",
              "      <td>0</td>\n",
              "      <td>0</td>\n",
              "      <td>0</td>\n",
              "      <td>0</td>\n",
              "      <td>1</td>\n",
              "      <td>0</td>\n",
              "      <td>0</td>\n",
              "      <td>0</td>\n",
              "      <td>0</td>\n",
              "      <td>0</td>\n",
              "      <td>1</td>\n",
              "      <td>0</td>\n",
              "    </tr>\n",
              "    <tr>\n",
              "      <th>2</th>\n",
              "      <td>2.76</td>\n",
              "      <td>2.08</td>\n",
              "      <td>59.0</td>\n",
              "      <td>0</td>\n",
              "      <td>0</td>\n",
              "      <td>1</td>\n",
              "      <td>0</td>\n",
              "      <td>0</td>\n",
              "      <td>0</td>\n",
              "      <td>0</td>\n",
              "      <td>0</td>\n",
              "      <td>0</td>\n",
              "      <td>1</td>\n",
              "      <td>0</td>\n",
              "      <td>0</td>\n",
              "      <td>0</td>\n",
              "      <td>0</td>\n",
              "      <td>1</td>\n",
              "      <td>0</td>\n",
              "      <td>1</td>\n",
              "      <td>0</td>\n",
              "      <td>0</td>\n",
              "      <td>0</td>\n",
              "      <td>0</td>\n",
              "      <td>0</td>\n",
              "      <td>0</td>\n",
              "      <td>1</td>\n",
              "      <td>0</td>\n",
              "    </tr>\n",
              "    <tr>\n",
              "      <th>3</th>\n",
              "      <td>3.68</td>\n",
              "      <td>3.04</td>\n",
              "      <td>54.0</td>\n",
              "      <td>0</td>\n",
              "      <td>0</td>\n",
              "      <td>1</td>\n",
              "      <td>0</td>\n",
              "      <td>0</td>\n",
              "      <td>0</td>\n",
              "      <td>0</td>\n",
              "      <td>0</td>\n",
              "      <td>1</td>\n",
              "      <td>0</td>\n",
              "      <td>0</td>\n",
              "      <td>0</td>\n",
              "      <td>0</td>\n",
              "      <td>0</td>\n",
              "      <td>0</td>\n",
              "      <td>0</td>\n",
              "      <td>1</td>\n",
              "      <td>0</td>\n",
              "      <td>0</td>\n",
              "      <td>0</td>\n",
              "      <td>0</td>\n",
              "      <td>0</td>\n",
              "      <td>0</td>\n",
              "      <td>0</td>\n",
              "      <td>0</td>\n",
              "    </tr>\n",
              "    <tr>\n",
              "      <th>4</th>\n",
              "      <td>2.44</td>\n",
              "      <td>0.96</td>\n",
              "      <td>73.0</td>\n",
              "      <td>0</td>\n",
              "      <td>0</td>\n",
              "      <td>1</td>\n",
              "      <td>0</td>\n",
              "      <td>0</td>\n",
              "      <td>0</td>\n",
              "      <td>0</td>\n",
              "      <td>0</td>\n",
              "      <td>0</td>\n",
              "      <td>0</td>\n",
              "      <td>1</td>\n",
              "      <td>0</td>\n",
              "      <td>1</td>\n",
              "      <td>0</td>\n",
              "      <td>1</td>\n",
              "      <td>1</td>\n",
              "      <td>1</td>\n",
              "      <td>0</td>\n",
              "      <td>0</td>\n",
              "      <td>0</td>\n",
              "      <td>0</td>\n",
              "      <td>0</td>\n",
              "      <td>0</td>\n",
              "      <td>1</td>\n",
              "      <td>1</td>\n",
              "    </tr>\n",
              "  </tbody>\n",
              "</table>\n",
              "</div>"
            ],
            "text/plain": [
              "    FVC  FEV1   Age  ...  Asthma_b'T'  Smoking_b'T'  Survival_b'T'\n",
              "0  2.88  2.16  60.0  ...            0             1              0\n",
              "1  3.40  1.88  51.0  ...            0             1              0\n",
              "2  2.76  2.08  59.0  ...            0             1              0\n",
              "3  3.68  3.04  54.0  ...            0             0              0\n",
              "4  2.44  0.96  73.0  ...            0             1              1\n",
              "\n",
              "[5 rows x 28 columns]"
            ]
          },
          "metadata": {
            "tags": []
          },
          "execution_count": 54
        }
      ]
    },
    {
      "cell_type": "code",
      "metadata": {
        "colab": {
          "base_uri": "https://localhost:8080/"
        },
        "id": "z3Kle47mUR0N",
        "outputId": "4ebc014a-5391-4eb5-d0e9-4e8d65347d0a"
      },
      "source": [
        "df.shape"
      ],
      "execution_count": null,
      "outputs": [
        {
          "output_type": "execute_result",
          "data": {
            "text/plain": [
              "(470, 28)"
            ]
          },
          "metadata": {
            "tags": []
          },
          "execution_count": 55
        }
      ]
    },
    {
      "cell_type": "code",
      "metadata": {
        "id": "WRAKKdv9UdWq"
      },
      "source": [
        "features = df.drop(\"Survival_b'T'\", axis=1)\n",
        "target = df[\"Survival_b'T'\"]"
      ],
      "execution_count": null,
      "outputs": []
    },
    {
      "cell_type": "code",
      "metadata": {
        "colab": {
          "base_uri": "https://localhost:8080/"
        },
        "id": "akr6iXpCW7QW",
        "outputId": "277eb9b1-a685-429f-b067-2f38043b3f65"
      },
      "source": [
        "features.columns"
      ],
      "execution_count": null,
      "outputs": [
        {
          "output_type": "execute_result",
          "data": {
            "text/plain": [
              "Index(['FVC', 'FEV1', 'Age', 'Diagnosis_b'DGN1'', 'Diagnosis_b'DGN2'',\n",
              "       'Diagnosis_b'DGN3'', 'Diagnosis_b'DGN4'', 'Diagnosis_b'DGN5'',\n",
              "       'Diagnosis_b'DGN6'', 'Diagnosis_b'DGN8'', 'PAD_b'T'',\n",
              "       'Performance Status_b'PRZ0'', 'Performance Status_b'PRZ1'',\n",
              "       'Performance Status_b'PRZ2'', 'Pain_b'T'', 'Hemoptysis_b'T'',\n",
              "       'Dyspnea_b'T'', 'Cough_b'T'', 'Weakness_b'T'', 'T Stage_b'OC11'',\n",
              "       'T Stage_b'OC12'', 'T Stage_b'OC13'', 'T Stage_b'OC14'', 'DM2_b'T'',\n",
              "       'MI_b'T'', 'Asthma_b'T'', 'Smoking_b'T''],\n",
              "      dtype='object')"
            ]
          },
          "metadata": {
            "tags": []
          },
          "execution_count": 61
        }
      ]
    },
    {
      "cell_type": "code",
      "metadata": {
        "colab": {
          "base_uri": "https://localhost:8080/",
          "height": 224
        },
        "id": "Qn8XcM5XU8Ra",
        "outputId": "1d2f43d7-cbf5-45c2-8554-8306638fde08"
      },
      "source": [
        "features_cols = [\"FVC\", \"FEV1\", \"Age\", \"DGN1\", \"DGN2\", \"DGN3\",  \"DGN4\", \"DGN5\", \"DGN6\", \"DGN8\", \"PAD\", \"PFS0\", \"PFS1\", \"PFS2\", \"Pain\", \"Hemoptysis\", \"Dyspnea\", \"Cough\", \"Weakness\", \"StageOC11\", \"StageOC12\", \"StageOC13\", \"StageOC14\", \"DM2\", \"MI\", \"Asthma\", \"Smoking\"]\n",
        "features.columns = features_cols\n",
        "features.head()"
      ],
      "execution_count": null,
      "outputs": [
        {
          "output_type": "execute_result",
          "data": {
            "text/html": [
              "<div>\n",
              "<style scoped>\n",
              "    .dataframe tbody tr th:only-of-type {\n",
              "        vertical-align: middle;\n",
              "    }\n",
              "\n",
              "    .dataframe tbody tr th {\n",
              "        vertical-align: top;\n",
              "    }\n",
              "\n",
              "    .dataframe thead th {\n",
              "        text-align: right;\n",
              "    }\n",
              "</style>\n",
              "<table border=\"1\" class=\"dataframe\">\n",
              "  <thead>\n",
              "    <tr style=\"text-align: right;\">\n",
              "      <th></th>\n",
              "      <th>FVC</th>\n",
              "      <th>FEV1</th>\n",
              "      <th>Age</th>\n",
              "      <th>DGN1</th>\n",
              "      <th>DGN2</th>\n",
              "      <th>DGN3</th>\n",
              "      <th>DGN4</th>\n",
              "      <th>DGN5</th>\n",
              "      <th>DGN6</th>\n",
              "      <th>DGN8</th>\n",
              "      <th>PAD</th>\n",
              "      <th>PFS0</th>\n",
              "      <th>PFS1</th>\n",
              "      <th>PFS2</th>\n",
              "      <th>Pain</th>\n",
              "      <th>Hemoptysis</th>\n",
              "      <th>Dyspnea</th>\n",
              "      <th>Cough</th>\n",
              "      <th>Weakness</th>\n",
              "      <th>StageOC11</th>\n",
              "      <th>StageOC12</th>\n",
              "      <th>StageOC13</th>\n",
              "      <th>StageOC14</th>\n",
              "      <th>DM2</th>\n",
              "      <th>MI</th>\n",
              "      <th>Asthma</th>\n",
              "      <th>Smoking</th>\n",
              "    </tr>\n",
              "  </thead>\n",
              "  <tbody>\n",
              "    <tr>\n",
              "      <th>0</th>\n",
              "      <td>2.88</td>\n",
              "      <td>2.16</td>\n",
              "      <td>60.0</td>\n",
              "      <td>0</td>\n",
              "      <td>1</td>\n",
              "      <td>0</td>\n",
              "      <td>0</td>\n",
              "      <td>0</td>\n",
              "      <td>0</td>\n",
              "      <td>0</td>\n",
              "      <td>0</td>\n",
              "      <td>0</td>\n",
              "      <td>1</td>\n",
              "      <td>0</td>\n",
              "      <td>0</td>\n",
              "      <td>0</td>\n",
              "      <td>0</td>\n",
              "      <td>1</td>\n",
              "      <td>1</td>\n",
              "      <td>0</td>\n",
              "      <td>0</td>\n",
              "      <td>0</td>\n",
              "      <td>1</td>\n",
              "      <td>0</td>\n",
              "      <td>0</td>\n",
              "      <td>0</td>\n",
              "      <td>1</td>\n",
              "    </tr>\n",
              "    <tr>\n",
              "      <th>1</th>\n",
              "      <td>3.40</td>\n",
              "      <td>1.88</td>\n",
              "      <td>51.0</td>\n",
              "      <td>0</td>\n",
              "      <td>0</td>\n",
              "      <td>1</td>\n",
              "      <td>0</td>\n",
              "      <td>0</td>\n",
              "      <td>0</td>\n",
              "      <td>0</td>\n",
              "      <td>0</td>\n",
              "      <td>1</td>\n",
              "      <td>0</td>\n",
              "      <td>0</td>\n",
              "      <td>0</td>\n",
              "      <td>0</td>\n",
              "      <td>0</td>\n",
              "      <td>0</td>\n",
              "      <td>0</td>\n",
              "      <td>0</td>\n",
              "      <td>1</td>\n",
              "      <td>0</td>\n",
              "      <td>0</td>\n",
              "      <td>0</td>\n",
              "      <td>0</td>\n",
              "      <td>0</td>\n",
              "      <td>1</td>\n",
              "    </tr>\n",
              "    <tr>\n",
              "      <th>2</th>\n",
              "      <td>2.76</td>\n",
              "      <td>2.08</td>\n",
              "      <td>59.0</td>\n",
              "      <td>0</td>\n",
              "      <td>0</td>\n",
              "      <td>1</td>\n",
              "      <td>0</td>\n",
              "      <td>0</td>\n",
              "      <td>0</td>\n",
              "      <td>0</td>\n",
              "      <td>0</td>\n",
              "      <td>0</td>\n",
              "      <td>1</td>\n",
              "      <td>0</td>\n",
              "      <td>0</td>\n",
              "      <td>0</td>\n",
              "      <td>0</td>\n",
              "      <td>1</td>\n",
              "      <td>0</td>\n",
              "      <td>1</td>\n",
              "      <td>0</td>\n",
              "      <td>0</td>\n",
              "      <td>0</td>\n",
              "      <td>0</td>\n",
              "      <td>0</td>\n",
              "      <td>0</td>\n",
              "      <td>1</td>\n",
              "    </tr>\n",
              "    <tr>\n",
              "      <th>3</th>\n",
              "      <td>3.68</td>\n",
              "      <td>3.04</td>\n",
              "      <td>54.0</td>\n",
              "      <td>0</td>\n",
              "      <td>0</td>\n",
              "      <td>1</td>\n",
              "      <td>0</td>\n",
              "      <td>0</td>\n",
              "      <td>0</td>\n",
              "      <td>0</td>\n",
              "      <td>0</td>\n",
              "      <td>1</td>\n",
              "      <td>0</td>\n",
              "      <td>0</td>\n",
              "      <td>0</td>\n",
              "      <td>0</td>\n",
              "      <td>0</td>\n",
              "      <td>0</td>\n",
              "      <td>0</td>\n",
              "      <td>1</td>\n",
              "      <td>0</td>\n",
              "      <td>0</td>\n",
              "      <td>0</td>\n",
              "      <td>0</td>\n",
              "      <td>0</td>\n",
              "      <td>0</td>\n",
              "      <td>0</td>\n",
              "    </tr>\n",
              "    <tr>\n",
              "      <th>4</th>\n",
              "      <td>2.44</td>\n",
              "      <td>0.96</td>\n",
              "      <td>73.0</td>\n",
              "      <td>0</td>\n",
              "      <td>0</td>\n",
              "      <td>1</td>\n",
              "      <td>0</td>\n",
              "      <td>0</td>\n",
              "      <td>0</td>\n",
              "      <td>0</td>\n",
              "      <td>0</td>\n",
              "      <td>0</td>\n",
              "      <td>0</td>\n",
              "      <td>1</td>\n",
              "      <td>0</td>\n",
              "      <td>1</td>\n",
              "      <td>0</td>\n",
              "      <td>1</td>\n",
              "      <td>1</td>\n",
              "      <td>1</td>\n",
              "      <td>0</td>\n",
              "      <td>0</td>\n",
              "      <td>0</td>\n",
              "      <td>0</td>\n",
              "      <td>0</td>\n",
              "      <td>0</td>\n",
              "      <td>1</td>\n",
              "    </tr>\n",
              "  </tbody>\n",
              "</table>\n",
              "</div>"
            ],
            "text/plain": [
              "    FVC  FEV1   Age  DGN1  DGN2  ...  StageOC14  DM2  MI  Asthma  Smoking\n",
              "0  2.88  2.16  60.0     0     1  ...          1    0   0       0        1\n",
              "1  3.40  1.88  51.0     0     0  ...          0    0   0       0        1\n",
              "2  2.76  2.08  59.0     0     0  ...          0    0   0       0        1\n",
              "3  3.68  3.04  54.0     0     0  ...          0    0   0       0        0\n",
              "4  2.44  0.96  73.0     0     0  ...          0    0   0       0        1\n",
              "\n",
              "[5 rows x 27 columns]"
            ]
          },
          "metadata": {
            "tags": []
          },
          "execution_count": 63
        }
      ]
    },
    {
      "cell_type": "code",
      "metadata": {
        "colab": {
          "base_uri": "https://localhost:8080/"
        },
        "id": "ry0x4LaRXKIb",
        "outputId": "9d9348eb-0018-4537-cb4b-e7be977586e2"
      },
      "source": [
        "target.columns = 'Survival'\n",
        "\n",
        "target.value_counts()"
      ],
      "execution_count": null,
      "outputs": [
        {
          "output_type": "execute_result",
          "data": {
            "text/plain": [
              "0    400\n",
              "1     70\n",
              "Name: Survival_b'T', dtype: int64"
            ]
          },
          "metadata": {
            "tags": []
          },
          "execution_count": 66
        }
      ]
    },
    {
      "cell_type": "code",
      "metadata": {
        "colab": {
          "base_uri": "https://localhost:8080/"
        },
        "id": "3xspdlPzZS6D",
        "outputId": "035afe0b-79cf-43a6-b580-8820a223ee46"
      },
      "source": [
        "sm = SMOTE()\n",
        "\n",
        "features_res, target_res = sm.fit_resample(features, target)\n"
      ],
      "execution_count": null,
      "outputs": [
        {
          "output_type": "stream",
          "text": [
            "/usr/local/lib/python3.7/dist-packages/sklearn/utils/deprecation.py:87: FutureWarning: Function safe_indexing is deprecated; safe_indexing is deprecated in version 0.22 and will be removed in version 0.24.\n",
            "  warnings.warn(msg, category=FutureWarning)\n"
          ],
          "name": "stderr"
        }
      ]
    },
    {
      "cell_type": "code",
      "metadata": {
        "colab": {
          "base_uri": "https://localhost:8080/"
        },
        "id": "TGO4nIhOXXqv",
        "outputId": "d4b55e06-99f6-4502-b177-e98c02197640"
      },
      "source": [
        "from sklearn.model_selection import train_test_split\n",
        "\n",
        "X_train, X_test, y_train, y_test = train_test_split(features_res, target_res, test_size=0.3, random_state=42)\n",
        "\n",
        "print('X_train {0}, y_train {1}'.format(X_train.shape, y_train.shape))\n",
        "print('X_test {0}, y_test {1}'.format(X_test.shape, y_test.shape))"
      ],
      "execution_count": null,
      "outputs": [
        {
          "output_type": "stream",
          "text": [
            "X_train (560, 27), y_train (560,)\n",
            "X_test (240, 27), y_test (240,)\n"
          ],
          "name": "stdout"
        }
      ]
    },
    {
      "cell_type": "code",
      "metadata": {
        "id": "c0Z1C-1DYpp-"
      },
      "source": [
        "from imblearn.over_sampling import SMOTE"
      ],
      "execution_count": null,
      "outputs": []
    },
    {
      "cell_type": "code",
      "metadata": {
        "colab": {
          "base_uri": "https://localhost:8080/"
        },
        "id": "3aYpZfjOZ8k5",
        "outputId": "210a01aa-5478-4496-ea0c-bf03f0628219"
      },
      "source": [
        "y_train_res[:5]"
      ],
      "execution_count": null,
      "outputs": [
        {
          "output_type": "execute_result",
          "data": {
            "text/plain": [
              "array([0, 0, 0, 1, 0], dtype=uint8)"
            ]
          },
          "metadata": {
            "tags": []
          },
          "execution_count": 71
        }
      ]
    },
    {
      "cell_type": "code",
      "metadata": {
        "id": "ov9qhnJ2aBwc"
      },
      "source": [
        "from sklearn.linear_model import LogisticRegression"
      ],
      "execution_count": null,
      "outputs": []
    },
    {
      "cell_type": "code",
      "metadata": {
        "colab": {
          "base_uri": "https://localhost:8080/"
        },
        "id": "dpxXBy1CafxX",
        "outputId": "484bf1ec-b51a-4e5e-eb7f-7a2818a68833"
      },
      "source": [
        "logreg = LogisticRegression()\n",
        "logreg.fit(X_train_res, y_train_res)\n",
        "\n",
        "lr_pred = logreg.predict(X_test)"
      ],
      "execution_count": null,
      "outputs": [
        {
          "output_type": "stream",
          "text": [
            "/usr/local/lib/python3.7/dist-packages/sklearn/linear_model/_logistic.py:940: ConvergenceWarning: lbfgs failed to converge (status=1):\n",
            "STOP: TOTAL NO. of ITERATIONS REACHED LIMIT.\n",
            "\n",
            "Increase the number of iterations (max_iter) or scale the data as shown in:\n",
            "    https://scikit-learn.org/stable/modules/preprocessing.html\n",
            "Please also refer to the documentation for alternative solver options:\n",
            "    https://scikit-learn.org/stable/modules/linear_model.html#logistic-regression\n",
            "  extra_warning_msg=_LOGISTIC_SOLVER_CONVERGENCE_MSG)\n"
          ],
          "name": "stderr"
        }
      ]
    },
    {
      "cell_type": "code",
      "metadata": {
        "id": "WpYeyPOZbPrI"
      },
      "source": [
        "from sklearn.metrics import mean_squared_error, accuracy_score, confusion_matrix, plot_confusion_matrix, classification_report"
      ],
      "execution_count": null,
      "outputs": []
    },
    {
      "cell_type": "code",
      "metadata": {
        "colab": {
          "base_uri": "https://localhost:8080/",
          "height": 296
        },
        "id": "EDf9W2htbd0L",
        "outputId": "04994cc4-5935-4e48-b41d-52cc6952d24e"
      },
      "source": [
        "plot_confusion_matrix(logreg, X_test, y_test)"
      ],
      "execution_count": null,
      "outputs": [
        {
          "output_type": "execute_result",
          "data": {
            "text/plain": [
              "<sklearn.metrics._plot.confusion_matrix.ConfusionMatrixDisplay at 0x7fc131e7c410>"
            ]
          },
          "metadata": {
            "tags": []
          },
          "execution_count": 93
        },
        {
          "output_type": "display_data",
          "data": {
            "image/png": "[encoded data removed]",
            "text/plain": [
              "<Figure size 432x288 with 2 Axes>"
            ]
          },
          "metadata": {
            "tags": [],
            "needs_background": "light"
          }
        }
      ]
    },
    {
      "cell_type": "code",
      "metadata": {
        "colab": {
          "base_uri": "https://localhost:8080/"
        },
        "id": "46fkgviGb31O",
        "outputId": "72b51e00-1c93-4668-b978-3117ce2bb7f9"
      },
      "source": [
        "print(classification_report(y_test, lr_pred))"
      ],
      "execution_count": null,
      "outputs": [
        {
          "output_type": "stream",
          "text": [
            "              precision    recall  f1-score   support\n",
            "\n",
            "           0       0.60      0.70      0.65       120\n",
            "           1       0.64      0.53      0.58       120\n",
            "\n",
            "    accuracy                           0.62       240\n",
            "   macro avg       0.62      0.62      0.61       240\n",
            "weighted avg       0.62      0.62      0.61       240\n",
            "\n"
          ],
          "name": "stdout"
        }
      ]
    },
    {
      "cell_type": "code",
      "metadata": {
        "id": "krY6WbWmcCQX"
      },
      "source": [
        "from sklearn.model_selection import RepeatedStratifiedKFold,  GridSearchCV, cross_val_score\n",
        "from sklearn.ensemble import RandomForestClassifier"
      ],
      "execution_count": null,
      "outputs": []
    },
    {
      "cell_type": "code",
      "metadata": {
        "id": "ICS3A6Y2ch-_"
      },
      "source": [
        "rf = RandomForestClassifier()\n",
        "\n",
        "rf.fit(X_train, y_train)\n",
        "\n",
        "rf_pred = rf.predict(X_test)"
      ],
      "execution_count": null,
      "outputs": []
    },
    {
      "cell_type": "code",
      "metadata": {
        "colab": {
          "base_uri": "https://localhost:8080/",
          "height": 296
        },
        "id": "0mszt7ORcyrE",
        "outputId": "98f69b16-e5bb-4833-8b20-cdca34efacf3"
      },
      "source": [
        "plot_confusion_matrix(rf, X_test, y_test)"
      ],
      "execution_count": null,
      "outputs": [
        {
          "output_type": "execute_result",
          "data": {
            "text/plain": [
              "<sklearn.metrics._plot.confusion_matrix.ConfusionMatrixDisplay at 0x7fc130a28050>"
            ]
          },
          "metadata": {
            "tags": []
          },
          "execution_count": 96
        },
        {
          "output_type": "display_data",
          "data": {
            "image/png": "[encoded data removed]",
            "text/plain": [
              "<Figure size 432x288 with 2 Axes>"
            ]
          },
          "metadata": {
            "tags": [],
            "needs_background": "light"
          }
        }
      ]
    },
    {
      "cell_type": "code",
      "metadata": {
        "colab": {
          "base_uri": "https://localhost:8080/"
        },
        "id": "ekGkC-t5eIGq",
        "outputId": "2be2e834-a04a-4571-c269-67775630a625"
      },
      "source": [
        "print(classification_report(y_test, rf_pred))"
      ],
      "execution_count": null,
      "outputs": [
        {
          "output_type": "stream",
          "text": [
            "              precision    recall  f1-score   support\n",
            "\n",
            "           0       0.87      0.97      0.92       120\n",
            "           1       0.97      0.86      0.91       120\n",
            "\n",
            "    accuracy                           0.92       240\n",
            "   macro avg       0.92      0.92      0.92       240\n",
            "weighted avg       0.92      0.92      0.92       240\n",
            "\n"
          ],
          "name": "stdout"
        }
      ]
    },
    {
      "cell_type": "code",
      "metadata": {
        "id": "Rg2dImYFeTBy",
        "colab": {
          "base_uri": "https://localhost:8080/"
        },
        "outputId": "d1aa3a37-dc45-41eb-b18b-1a0abfa66a5a"
      },
      "source": [
        "import numpy as np\n",
        "cv = RepeatedStratifiedKFold(n_splits=10, n_repeats=3, random_state=None)\n",
        "\n",
        "\n",
        "rf_scores = cross_val_score(rf, X_train, y_train, scoring='accuracy', cv=cv, n_jobs=-1)\n",
        "print(np.mean(rf_scores))  "
      ],
      "execution_count": null,
      "outputs": [
        {
          "output_type": "stream",
          "text": [
            "0.905952380952381\n"
          ],
          "name": "stdout"
        }
      ]
    },
    {
      "cell_type": "code",
      "metadata": {
        "id": "TL3o0cogM9Ug",
        "colab": {
          "base_uri": "https://localhost:8080/"
        },
        "outputId": "5a4d6c29-be82-40a4-c5d9-38331bb11eeb"
      },
      "source": [
        "from sklearn.model_selection import GridSearchCV\n",
        "RandomForestClassifier()\n",
        "# define grid\n",
        "grid = {'n_estimators': [100, 200], 'criterion': ['gini', 'entropy'], 'max_leaf_nodes': [int, None], 'bootstrap': [True, False] }\n",
        "\n",
        "# define search\n",
        "search = GridSearchCV(rf, grid, scoring='accuracy', cv=cv, n_jobs=-1)\n",
        "\n",
        "# fit the search\n",
        "rf_results = search.fit(X_train, y_train)\n",
        "\n",
        "# summarize\n",
        "print('Mean Accuracy: %.3f' % rf_results.best_score_)\n",
        "print('The best parameters of the random forest model: %s' % rf_results.best_params_)"
      ],
      "execution_count": 103,
      "outputs": [
        {
          "output_type": "stream",
          "text": [
            "Mean Accuracy: 0.912\n",
            "The best parameters of the random forest model: {'bootstrap': False, 'criterion': 'gini', 'max_leaf_nodes': None, 'n_estimators': 100}\n"
          ],
          "name": "stdout"
        }
      ]
    },
    {
      "cell_type": "code",
      "metadata": {
        "id": "bXXpgHMUgl5w"
      },
      "source": [
        "import keras\n",
        "from keras.models import Sequential\n",
        "from keras.layers import Dense\n",
        "from keras.layers import Input\n",
        "from keras.metrics import mean_squared_error, Accuracy\n",
        "from keras.losses import sparse_categorical_crossentropy, categorical_crossentropy"
      ],
      "execution_count": 122,
      "outputs": []
    },
    {
      "cell_type": "code",
      "metadata": {
        "id": "G4bNSHfKhV9H"
      },
      "source": [
        "model = Sequential([\n",
        "    Input(shape=(X_train.shape[1],), name='input'),\n",
        "    Dense(20, activation='relu', name='layer1'),\n",
        "    Dense(10, activation='relu', name='layer2'),\n",
        "    Dense(5, activation='softmax', name='layer3'),\n",
        "    Dense(1, name='layer4')\n",
        "])"
      ],
      "execution_count": 105,
      "outputs": []
    },
    {
      "cell_type": "code",
      "metadata": {
        "id": "syMURkqLiOmD"
      },
      "source": [
        "model.compile(optimizer='adam', loss='categorical_crossentropy', metrics=['Accuracy'])"
      ],
      "execution_count": 125,
      "outputs": []
    },
    {
      "cell_type": "code",
      "metadata": {
        "colab": {
          "base_uri": "https://localhost:8080/"
        },
        "id": "u7Ggr1MaiiQc",
        "outputId": "50191b97-21bd-4ce6-b2f4-ab16110c6a10"
      },
      "source": [
        "model.fit(X_train, y_train, batch_size=32, epochs=50, verbose=1, validation_data=(X_test, y_test))"
      ],
      "execution_count": 126,
      "outputs": [
        {
          "output_type": "stream",
          "text": [
            "Epoch 1/50\n",
            "18/18 [==============================] - 1s 15ms/step - loss: 6.0199e-08 - accuracy: 0.0000e+00 - val_loss: 5.9605e-08 - val_accuracy: 0.0000e+00\n",
            "Epoch 2/50\n",
            "18/18 [==============================] - 0s 5ms/step - loss: 5.6875e-08 - accuracy: 0.0000e+00 - val_loss: 5.9605e-08 - val_accuracy: 0.0000e+00\n",
            "Epoch 3/50\n",
            "18/18 [==============================] - 0s 5ms/step - loss: 5.8564e-08 - accuracy: 0.0000e+00 - val_loss: 5.9605e-08 - val_accuracy: 0.0000e+00\n",
            "Epoch 4/50\n",
            "18/18 [==============================] - 0s 4ms/step - loss: 5.7187e-08 - accuracy: 0.0000e+00 - val_loss: 5.9605e-08 - val_accuracy: 0.0000e+00\n",
            "Epoch 5/50\n",
            "18/18 [==============================] - 0s 4ms/step - loss: 5.6535e-08 - accuracy: 0.0000e+00 - val_loss: 5.9605e-08 - val_accuracy: 0.0000e+00\n",
            "Epoch 6/50\n",
            "18/18 [==============================] - 0s 4ms/step - loss: 5.7778e-08 - accuracy: 0.0000e+00 - val_loss: 5.9605e-08 - val_accuracy: 0.0000e+00\n",
            "Epoch 7/50\n",
            "18/18 [==============================] - 0s 4ms/step - loss: 5.7571e-08 - accuracy: 0.0000e+00 - val_loss: 5.9605e-08 - val_accuracy: 0.0000e+00\n",
            "Epoch 8/50\n",
            "18/18 [==============================] - 0s 4ms/step - loss: 5.6178e-08 - accuracy: 0.0000e+00 - val_loss: 5.9605e-08 - val_accuracy: 0.0000e+00\n",
            "Epoch 9/50\n",
            "18/18 [==============================] - 0s 4ms/step - loss: 5.7605e-08 - accuracy: 0.0000e+00 - val_loss: 5.9605e-08 - val_accuracy: 0.0000e+00\n",
            "Epoch 10/50\n",
            "18/18 [==============================] - 0s 5ms/step - loss: 5.5009e-08 - accuracy: 0.0000e+00 - val_loss: 5.9605e-08 - val_accuracy: 0.0000e+00\n",
            "Epoch 11/50\n",
            "18/18 [==============================] - 0s 5ms/step - loss: 6.0923e-08 - accuracy: 0.0000e+00 - val_loss: 5.9605e-08 - val_accuracy: 0.0000e+00\n",
            "Epoch 12/50\n",
            "18/18 [==============================] - 0s 4ms/step - loss: 5.9192e-08 - accuracy: 0.0000e+00 - val_loss: 5.9605e-08 - val_accuracy: 0.0000e+00\n",
            "Epoch 13/50\n",
            "18/18 [==============================] - 0s 4ms/step - loss: 6.0755e-08 - accuracy: 0.0000e+00 - val_loss: 5.9605e-08 - val_accuracy: 0.0000e+00\n",
            "Epoch 14/50\n",
            "18/18 [==============================] - 0s 4ms/step - loss: 5.6831e-08 - accuracy: 0.0000e+00 - val_loss: 5.9605e-08 - val_accuracy: 0.0000e+00\n",
            "Epoch 15/50\n",
            "18/18 [==============================] - 0s 4ms/step - loss: 5.9386e-08 - accuracy: 0.0000e+00 - val_loss: 5.9605e-08 - val_accuracy: 0.0000e+00\n",
            "Epoch 16/50\n",
            "18/18 [==============================] - 0s 4ms/step - loss: 5.4449e-08 - accuracy: 0.0000e+00 - val_loss: 5.9605e-08 - val_accuracy: 0.0000e+00\n",
            "Epoch 17/50\n",
            "18/18 [==============================] - 0s 7ms/step - loss: 6.0762e-08 - accuracy: 0.0000e+00 - val_loss: 5.9605e-08 - val_accuracy: 0.0000e+00\n",
            "Epoch 18/50\n",
            "18/18 [==============================] - 0s 5ms/step - loss: 5.4963e-08 - accuracy: 0.0000e+00 - val_loss: 5.9605e-08 - val_accuracy: 0.0000e+00\n",
            "Epoch 19/50\n",
            "18/18 [==============================] - 0s 5ms/step - loss: 5.8189e-08 - accuracy: 0.0000e+00 - val_loss: 5.9605e-08 - val_accuracy: 0.0000e+00\n",
            "Epoch 20/50\n",
            "18/18 [==============================] - 0s 6ms/step - loss: 5.9515e-08 - accuracy: 0.0000e+00 - val_loss: 5.9605e-08 - val_accuracy: 0.0000e+00\n",
            "Epoch 21/50\n",
            "18/18 [==============================] - 0s 5ms/step - loss: 5.8717e-08 - accuracy: 0.0000e+00 - val_loss: 5.9605e-08 - val_accuracy: 0.0000e+00\n",
            "Epoch 22/50\n",
            "18/18 [==============================] - 0s 5ms/step - loss: 6.0487e-08 - accuracy: 0.0000e+00 - val_loss: 5.9605e-08 - val_accuracy: 0.0000e+00\n",
            "Epoch 23/50\n",
            "18/18 [==============================] - 0s 5ms/step - loss: 6.3334e-08 - accuracy: 0.0000e+00 - val_loss: 5.9605e-08 - val_accuracy: 0.0000e+00\n",
            "Epoch 24/50\n",
            "18/18 [==============================] - 0s 5ms/step - loss: 6.1448e-08 - accuracy: 0.0000e+00 - val_loss: 5.9605e-08 - val_accuracy: 0.0000e+00\n",
            "Epoch 25/50\n",
            "18/18 [==============================] - 0s 6ms/step - loss: 6.0000e-08 - accuracy: 0.0000e+00 - val_loss: 5.9605e-08 - val_accuracy: 0.0000e+00\n",
            "Epoch 26/50\n",
            "18/18 [==============================] - 0s 5ms/step - loss: 6.1270e-08 - accuracy: 0.0000e+00 - val_loss: 5.9605e-08 - val_accuracy: 0.0000e+00\n",
            "Epoch 27/50\n",
            "18/18 [==============================] - 0s 4ms/step - loss: 6.1176e-08 - accuracy: 0.0000e+00 - val_loss: 5.9605e-08 - val_accuracy: 0.0000e+00\n",
            "Epoch 28/50\n",
            "18/18 [==============================] - 0s 5ms/step - loss: 5.9027e-08 - accuracy: 0.0000e+00 - val_loss: 5.9605e-08 - val_accuracy: 0.0000e+00\n",
            "Epoch 29/50\n",
            "18/18 [==============================] - 0s 4ms/step - loss: 5.6777e-08 - accuracy: 0.0000e+00 - val_loss: 5.9605e-08 - val_accuracy: 0.0000e+00\n",
            "Epoch 30/50\n",
            "18/18 [==============================] - 0s 4ms/step - loss: 5.7252e-08 - accuracy: 0.0000e+00 - val_loss: 5.9605e-08 - val_accuracy: 0.0000e+00\n",
            "Epoch 31/50\n",
            "18/18 [==============================] - 0s 4ms/step - loss: 5.8394e-08 - accuracy: 0.0000e+00 - val_loss: 5.9605e-08 - val_accuracy: 0.0000e+00\n",
            "Epoch 32/50\n",
            "18/18 [==============================] - 0s 4ms/step - loss: 6.0039e-08 - accuracy: 0.0000e+00 - val_loss: 5.9605e-08 - val_accuracy: 0.0000e+00\n",
            "Epoch 33/50\n",
            "18/18 [==============================] - 0s 4ms/step - loss: 6.2718e-08 - accuracy: 0.0000e+00 - val_loss: 5.9605e-08 - val_accuracy: 0.0000e+00\n",
            "Epoch 34/50\n",
            "18/18 [==============================] - 0s 5ms/step - loss: 5.9290e-08 - accuracy: 0.0000e+00 - val_loss: 5.9605e-08 - val_accuracy: 0.0000e+00\n",
            "Epoch 35/50\n",
            "18/18 [==============================] - 0s 5ms/step - loss: 6.1371e-08 - accuracy: 0.0000e+00 - val_loss: 5.9605e-08 - val_accuracy: 0.0000e+00\n",
            "Epoch 36/50\n",
            "18/18 [==============================] - 0s 4ms/step - loss: 6.0330e-08 - accuracy: 0.0000e+00 - val_loss: 5.9605e-08 - val_accuracy: 0.0000e+00\n",
            "Epoch 37/50\n",
            "18/18 [==============================] - 0s 4ms/step - loss: 5.9820e-08 - accuracy: 0.0000e+00 - val_loss: 5.9605e-08 - val_accuracy: 0.0000e+00\n",
            "Epoch 38/50\n",
            "18/18 [==============================] - 0s 4ms/step - loss: 5.6700e-08 - accuracy: 0.0000e+00 - val_loss: 5.9605e-08 - val_accuracy: 0.0000e+00\n",
            "Epoch 39/50\n",
            "18/18 [==============================] - 0s 5ms/step - loss: 6.0554e-08 - accuracy: 0.0000e+00 - val_loss: 5.9605e-08 - val_accuracy: 0.0000e+00\n",
            "Epoch 40/50\n",
            "18/18 [==============================] - 0s 5ms/step - loss: 6.0013e-08 - accuracy: 0.0000e+00 - val_loss: 5.9605e-08 - val_accuracy: 0.0000e+00\n",
            "Epoch 41/50\n",
            "18/18 [==============================] - 0s 5ms/step - loss: 6.0527e-08 - accuracy: 0.0000e+00 - val_loss: 5.9605e-08 - val_accuracy: 0.0000e+00\n",
            "Epoch 42/50\n",
            "18/18 [==============================] - 0s 5ms/step - loss: 6.1483e-08 - accuracy: 0.0000e+00 - val_loss: 5.9605e-08 - val_accuracy: 0.0000e+00\n",
            "Epoch 43/50\n",
            "18/18 [==============================] - 0s 5ms/step - loss: 6.0840e-08 - accuracy: 0.0000e+00 - val_loss: 5.9605e-08 - val_accuracy: 0.0000e+00\n",
            "Epoch 44/50\n",
            "18/18 [==============================] - 0s 6ms/step - loss: 5.9313e-08 - accuracy: 0.0000e+00 - val_loss: 5.9605e-08 - val_accuracy: 0.0000e+00\n",
            "Epoch 45/50\n",
            "18/18 [==============================] - 0s 6ms/step - loss: 5.9950e-08 - accuracy: 0.0000e+00 - val_loss: 5.9605e-08 - val_accuracy: 0.0000e+00\n",
            "Epoch 46/50\n",
            "18/18 [==============================] - 0s 5ms/step - loss: 6.0087e-08 - accuracy: 0.0000e+00 - val_loss: 5.9605e-08 - val_accuracy: 0.0000e+00\n",
            "Epoch 47/50\n",
            "18/18 [==============================] - 0s 6ms/step - loss: 5.6795e-08 - accuracy: 0.0000e+00 - val_loss: 5.9605e-08 - val_accuracy: 0.0000e+00\n",
            "Epoch 48/50\n",
            "18/18 [==============================] - 0s 5ms/step - loss: 5.8589e-08 - accuracy: 0.0000e+00 - val_loss: 5.9605e-08 - val_accuracy: 0.0000e+00\n",
            "Epoch 49/50\n",
            "18/18 [==============================] - 0s 6ms/step - loss: 5.8606e-08 - accuracy: 0.0000e+00 - val_loss: 5.9605e-08 - val_accuracy: 0.0000e+00\n",
            "Epoch 50/50\n",
            "18/18 [==============================] - 0s 4ms/step - loss: 5.9837e-08 - accuracy: 0.0000e+00 - val_loss: 5.9605e-08 - val_accuracy: 0.0000e+00\n"
          ],
          "name": "stdout"
        },
        {
          "output_type": "execute_result",
          "data": {
            "text/plain": [
              "<tensorflow.python.keras.callbacks.History at 0x7fc0f5cdc8d0>"
            ]
          },
          "metadata": {
            "tags": []
          },
          "execution_count": 126
        }
      ]
    },
    {
      "cell_type": "code",
      "metadata": {
        "colab": {
          "base_uri": "https://localhost:8080/"
        },
        "id": "optt9cx6jCyc",
        "outputId": "b311d4e7-c591-40b6-f97d-3e268fdd9f92"
      },
      "source": [
        "model.summary()"
      ],
      "execution_count": 127,
      "outputs": [
        {
          "output_type": "stream",
          "text": [
            "Model: \"sequential\"\n",
            "_________________________________________________________________\n",
            "Layer (type)                 Output Shape              Param #   \n",
            "=================================================================\n",
            "layer1 (Dense)               (None, 20)                560       \n",
            "_________________________________________________________________\n",
            "layer2 (Dense)               (None, 10)                210       \n",
            "_________________________________________________________________\n",
            "layer3 (Dense)               (None, 5)                 55        \n",
            "_________________________________________________________________\n",
            "layer4 (Dense)               (None, 1)                 6         \n",
            "=================================================================\n",
            "Total params: 831\n",
            "Trainable params: 831\n",
            "Non-trainable params: 0\n",
            "_________________________________________________________________\n"
          ],
          "name": "stdout"
        }
      ]
    },
    {
      "cell_type": "code",
      "metadata": {
        "colab": {
          "base_uri": "https://localhost:8080/"
        },
        "id": "hfjYldN8jEvT",
        "outputId": "6ee19744-0556-4be3-ece4-ebaa78c00db3"
      },
      "source": [
        "predictions = model.predict(X_test, batch_size=32, verbose=1)"
      ],
      "execution_count": 130,
      "outputs": [
        {
          "output_type": "stream",
          "text": [
            "8/8 [==============================] - 0s 2ms/step\n"
          ],
          "name": "stdout"
        }
      ]
    },
    {
      "cell_type": "code",
      "metadata": {
        "colab": {
          "base_uri": "https://localhost:8080/"
        },
        "id": "P9eHuAxPjVeI",
        "outputId": "f0564ceb-40f0-4f5b-a760-5fab7c792325"
      },
      "source": [
        "(model.compiled_metrics)"
      ],
      "execution_count": 118,
      "outputs": [
        {
          "output_type": "execute_result",
          "data": {
            "text/plain": [
              "<tensorflow.python.keras.engine.compile_utils.MetricsContainer at 0x7fc0fad24b50>"
            ]
          },
          "metadata": {
            "tags": []
          },
          "execution_count": 118
        }
      ]
    },
    {
      "cell_type": "code",
      "metadata": {
        "id": "sNqZlfOalqTe"
      },
      "source": [
        "import matplotlib.pyplot as plt\n",
        "import seaborn as sns"
      ],
      "execution_count": 129,
      "outputs": []
    },
    {
      "cell_type": "code",
      "metadata": {
        "colab": {
          "base_uri": "https://localhost:8080/"
        },
        "id": "N6WfZlJBl0RL",
        "outputId": "b7f2346e-0303-4aa0-b7d8-a23f5214162a"
      },
      "source": [
        "# sns.lineplot(x=predictions, y=y_test)\n",
        "y_test.size"
      ],
      "execution_count": 137,
      "outputs": [
        {
          "output_type": "execute_result",
          "data": {
            "text/plain": [
              "240"
            ]
          },
          "metadata": {
            "tags": []
          },
          "execution_count": 137
        }
      ]
    },
    {
      "cell_type": "code",
      "metadata": {
        "colab": {
          "base_uri": "https://localhost:8080/"
        },
        "id": "W0SMGNWgmp4l",
        "outputId": "41ad3c8b-5757-4ffb-f1b0-e966e869230d"
      },
      "source": [
        "predictions.size"
      ],
      "execution_count": 136,
      "outputs": [
        {
          "output_type": "execute_result",
          "data": {
            "text/plain": [
              "240"
            ]
          },
          "metadata": {
            "tags": []
          },
          "execution_count": 136
        }
      ]
    },
    {
      "cell_type": "code",
      "metadata": {
        "colab": {
          "base_uri": "https://localhost:8080/",
          "height": 419
        },
        "id": "-eMA7CgVmtSE",
        "outputId": "bc7ba195-f768-4e4f-d4e8-62bc97465506"
      },
      "source": [
        "pd.DataFrame({'Actual': y_test,\n",
        "              'Predicted': predictions.flatten()})"
      ],
      "execution_count": 140,
      "outputs": [
        {
          "output_type": "execute_result",
          "data": {
            "text/html": [
              "<div>\n",
              "<style scoped>\n",
              "    .dataframe tbody tr th:only-of-type {\n",
              "        vertical-align: middle;\n",
              "    }\n",
              "\n",
              "    .dataframe tbody tr th {\n",
              "        vertical-align: top;\n",
              "    }\n",
              "\n",
              "    .dataframe thead th {\n",
              "        text-align: right;\n",
              "    }\n",
              "</style>\n",
              "<table border=\"1\" class=\"dataframe\">\n",
              "  <thead>\n",
              "    <tr style=\"text-align: right;\">\n",
              "      <th></th>\n",
              "      <th>Actual</th>\n",
              "      <th>Predicted</th>\n",
              "    </tr>\n",
              "  </thead>\n",
              "  <tbody>\n",
              "    <tr>\n",
              "      <th>0</th>\n",
              "      <td>1</td>\n",
              "      <td>0.140093</td>\n",
              "    </tr>\n",
              "    <tr>\n",
              "      <th>1</th>\n",
              "      <td>1</td>\n",
              "      <td>0.495091</td>\n",
              "    </tr>\n",
              "    <tr>\n",
              "      <th>2</th>\n",
              "      <td>0</td>\n",
              "      <td>0.265681</td>\n",
              "    </tr>\n",
              "    <tr>\n",
              "      <th>3</th>\n",
              "      <td>1</td>\n",
              "      <td>0.544079</td>\n",
              "    </tr>\n",
              "    <tr>\n",
              "      <th>4</th>\n",
              "      <td>0</td>\n",
              "      <td>0.001048</td>\n",
              "    </tr>\n",
              "    <tr>\n",
              "      <th>...</th>\n",
              "      <td>...</td>\n",
              "      <td>...</td>\n",
              "    </tr>\n",
              "    <tr>\n",
              "      <th>235</th>\n",
              "      <td>1</td>\n",
              "      <td>0.765022</td>\n",
              "    </tr>\n",
              "    <tr>\n",
              "      <th>236</th>\n",
              "      <td>0</td>\n",
              "      <td>0.257674</td>\n",
              "    </tr>\n",
              "    <tr>\n",
              "      <th>237</th>\n",
              "      <td>0</td>\n",
              "      <td>0.312462</td>\n",
              "    </tr>\n",
              "    <tr>\n",
              "      <th>238</th>\n",
              "      <td>1</td>\n",
              "      <td>-0.030523</td>\n",
              "    </tr>\n",
              "    <tr>\n",
              "      <th>239</th>\n",
              "      <td>0</td>\n",
              "      <td>0.176945</td>\n",
              "    </tr>\n",
              "  </tbody>\n",
              "</table>\n",
              "<p>240 rows × 2 columns</p>\n",
              "</div>"
            ],
            "text/plain": [
              "     Actual  Predicted\n",
              "0         1   0.140093\n",
              "1         1   0.495091\n",
              "2         0   0.265681\n",
              "3         1   0.544079\n",
              "4         0   0.001048\n",
              "..      ...        ...\n",
              "235       1   0.765022\n",
              "236       0   0.257674\n",
              "237       0   0.312462\n",
              "238       1  -0.030523\n",
              "239       0   0.176945\n",
              "\n",
              "[240 rows x 2 columns]"
            ]
          },
          "metadata": {
            "tags": []
          },
          "execution_count": 140
        }
      ]
    }
  ]
}